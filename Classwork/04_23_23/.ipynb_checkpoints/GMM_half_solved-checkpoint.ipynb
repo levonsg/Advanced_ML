{
 "cells": [
  {
   "cell_type": "code",
   "execution_count": 2,
   "metadata": {},
   "outputs": [],
   "source": [
    "from sklearn.cluster import KMeans"
   ]
  },
  {
   "cell_type": "code",
   "execution_count": 4,
   "metadata": {},
   "outputs": [],
   "source": [
    "import numpy as np"
   ]
  },
  {
   "cell_type": "code",
   "execution_count": null,
   "metadata": {},
   "outputs": [],
   "source": [
    "class GMM:\n",
    "    def __init__(self, k, method='random_mean_std', max_iter=300, tol=1e-6):\n",
    "        self.k = k \n",
    "        self.method = method\n",
    "        self.max_iter = max_iter\n",
    "    \n",
    "    def init_centers(self, X):\n",
    "        if self.method == 'random_mean_std':\n",
    "            pass # generating K random means and std-s\n",
    "        if self.method == 'random_mean':\n",
    "            pass # generate K random means\n",
    "        if self.method == 'k-means':\n",
    "            # n - number of datapoints\n",
    "            # m - number of features\n",
    "            # k - number of clusters\n",
    "            # mean_arr.shape == k x m\n",
    "            # cov_arr.shape == k x m x m\n",
    "            # pi_arr.shape == 1 x k\n",
    "            kmeans = KMeans(n_clusters = self.k)\n",
    "            kmeans.fit(X)\n",
    "            clusters = kmeans.predict(X)\n",
    "            mean_arr = kmeans.cluster_centers_\n",
    "            cov_arr = []\n",
    "            pi_arr = []\n",
    "            for i in range(self.k):\n",
    "                X_i = X[clusters==i]\n",
    "                cov_arr.append(np.cov(X_i.T))\n",
    "                pi_arr.append(X_i.shape[0]/X.shape[0])\n",
    "            return mean_arr, np.array(cov_arr), np.array(pi_arr)\n",
    "    \n",
    "        if self.method == 'random_divide':\n",
    "            pass # divide data into K clusters randomly\n",
    "        if self.method == 'random_gammas':\n",
    "            pass # generate random gamma matrix\n",
    "        \n",
    "\n",
    "    def fit(self, X):\n",
    "        self.mean_arr, self.cov_arr, self.pi_arr = self.init_centers(X)\n",
    "        self.loss = self.loss(...)\n",
    "        for _ in range(self.max_iter):\n",
    "            gamma_mtrx = self.expectation(X)\n",
    "            mean_arr, cov_arr, pi_arr = self.maximization(X, gamma_mtrx)\n",
    "            loss = self.loss(...)\n",
    "            if loss==self.loss: # add tolerance comparison\n",
    "                break\n",
    "            self.loss=loss\n",
    "            self.mean_arr = mean_arr\n",
    "            self.cov_arr = cov_arr\n",
    "            self.pi_arr = pi_arr\n",
    "            \n",
    "    def loss(self, X, mean, cov, pi):\n",
    "        pass\n",
    "    \n",
    "    def pdf(self, x, mean, cov):\n",
    "        # function to calculate pdf for given params\n",
    "        return proba\n",
    "            \n",
    "    def expectation(self, X):\n",
    "        gamma_mtrx = np.zeros((X.shape[0], self.k))\n",
    "        for i, x in enumerate(X):\n",
    "            for j in range(self.k):\n",
    "                gamma_mtrx[i][j] = self.pi_arr[j] * self.pdf(x, self.mean_arr[j], self.cov_arr[j])\n",
    "            gamma_mtrx[i] = gamma_mtrx[i] / gamm_mtrx[i].sum()\n",
    "            \n",
    "        return gamma_mtrx\n",
    "\n",
    "    def maximization(self, X):\n",
    "        # your code here\n",
    "        return mean_arr, cov_arr, pi_arr    \n",
    "        \n",
    "    def predict(self, X):\n",
    "        return \n",
    "    \n",
    "    def predict_proba(self, X):\n",
    "        # return predictions using expectation function\n",
    "        return "
   ]
  }
 ],
 "metadata": {
  "kernelspec": {
   "display_name": "Python 3 (ipykernel)",
   "language": "python",
   "name": "python3"
  },
  "language_info": {
   "codemirror_mode": {
    "name": "ipython",
    "version": 3
   },
   "file_extension": ".py",
   "mimetype": "text/x-python",
   "name": "python",
   "nbconvert_exporter": "python",
   "pygments_lexer": "ipython3",
   "version": "3.9.12"
  }
 },
 "nbformat": 4,
 "nbformat_minor": 4
}
