{
 "cells": [
  {
   "cell_type": "code",
   "execution_count": null,
   "id": "13d1d6fc",
   "metadata": {},
   "outputs": [],
   "source": [
    "import numpy as np\n",
    "from sklearn.model_selection import cross_val_score\n",
    "from sklearn.linear_model import LinearRegression, Ridge, Lasso, ElasticNet\n",
    "from sklearn.model_selection import GridSearchCV\n",
    "from sklearn.preprocessing import PolynomialFeatures\n",
    "\n",
    "import matplotlib.pyplot as plt \n"
   ]
  },
  {
   "cell_type": "code",
   "execution_count": null,
   "id": "c7161b90",
   "metadata": {},
   "outputs": [],
   "source": [
    "m = 50 \n",
    "X = 10 * np.random.rand(m, 1) - 5\n",
    "y = X**2 + 2 * X + np.random.randn(m, 1)"
   ]
  },
  {
   "cell_type": "code",
   "execution_count": null,
   "id": "cf0c6b51",
   "metadata": {},
   "outputs": [],
   "source": [
    "X = np.array(X)\n",
    "Y = np.array(y)\n",
    "\n",
    "\n",
    "feat_norm = True\n",
    "\n",
    "print(X.shape, y.shape)"
   ]
  },
  {
   "cell_type": "code",
   "execution_count": null,
   "id": "c3fe583c",
   "metadata": {},
   "outputs": [],
   "source": [
    "plt.plot(X, Y, '.')\n",
    "\n",
    "plt.xlim(min(X) - 1, max(X) + 1)\n",
    "plt.ylim(min(Y) - 2, max(Y) + 2)"
   ]
  },
  {
   "cell_type": "code",
   "execution_count": null,
   "id": "8025cd20",
   "metadata": {},
   "outputs": [],
   "source": [
    "import warnings\n",
    "from warnings import filterwarnings \n",
    "warnings.filterwarnings(\"ignore\", category=DeprecationWarning) \n",
    "filterwarnings('ignore')"
   ]
  },
  {
   "cell_type": "code",
   "execution_count": null,
   "id": "26ec1b99",
   "metadata": {},
   "outputs": [],
   "source": [
    "from sklearn.preprocessing import PolynomialFeatures\n",
    "deg = 20\n",
    "poly = PolynomialFeatures(degree = deg, include_bias=False)\n",
    "X_Poly = poly.fit_transform(X)\n"
   ]
  },
  {
   "cell_type": "code",
   "execution_count": null,
   "id": "e6b776c4",
   "metadata": {},
   "outputs": [],
   "source": []
  },
  {
   "cell_type": "code",
   "execution_count": null,
   "id": "cf814432",
   "metadata": {},
   "outputs": [],
   "source": [
    "linear = LinearRegression(normalize=feat_norm)\n",
    "linear.fit(X_Poly, Y)"
   ]
  },
  {
   "cell_type": "code",
   "execution_count": null,
   "id": "ea3a5f4d",
   "metadata": {},
   "outputs": [],
   "source": [
    "print(linear.intercept_)\n",
    "print(linear.coef_)\n",
    "print(np.linalg.norm(linear.coef_))"
   ]
  },
  {
   "cell_type": "code",
   "execution_count": null,
   "id": "5e44062f",
   "metadata": {},
   "outputs": [],
   "source": [
    "X_Line = np.array([[i/1000] for i in range(1000*int(min(X))- 1000, 1000*int(max(X)) + 1000, 1)])\n",
    "X_Line_Poly = poly.fit_transform(X_Line)\n",
    "Y_Pred_Line = linear.predict(X_Line_Poly)"
   ]
  },
  {
   "cell_type": "code",
   "execution_count": null,
   "id": "e0e1e55f",
   "metadata": {},
   "outputs": [],
   "source": [
    "plt.plot(X, Y, '.')\n",
    "plt.plot(X_Line, Y_Pred_Line)\n",
    "\n",
    "plt.xlim(min(X) - 1, max(X) + 1)\n",
    "plt.ylim(min(Y) - 2, max(Y) + 2)"
   ]
  },
  {
   "cell_type": "code",
   "execution_count": null,
   "id": "2d9889e1",
   "metadata": {
    "scrolled": true
   },
   "outputs": [],
   "source": [
    "#Linear Regression\n",
    "\n",
    "linear = LinearRegression(normalize=feat_norm)\n",
    "errors = cross_val_score(linear, X_Poly, Y, scoring='neg_mean_squared_error', cv=10)\n",
    "mean_error = np.mean(errors)\n",
    "print(errors)\n",
    "print(-mean_error)"
   ]
  },
  {
   "cell_type": "markdown",
   "id": "58d50def",
   "metadata": {},
   "source": [
    "Ridge Regularization\n"
   ]
  },
  {
   "cell_type": "code",
   "execution_count": null,
   "id": "65107d0e",
   "metadata": {},
   "outputs": [],
   "source": [
    "ridge = Ridge(normalize=feat_norm, solver='saga', alpha=0.001)\n",
    "\n",
    "ridge.fit(X_Poly, Y)"
   ]
  },
  {
   "cell_type": "code",
   "execution_count": null,
   "id": "befe91f0",
   "metadata": {},
   "outputs": [],
   "source": [
    "Y_Pred_Ridge = ridge.predict(X_Line_Poly)\n",
    "print(ridge.coef_)\n",
    "print(ridge.intercept_)"
   ]
  },
  {
   "cell_type": "code",
   "execution_count": null,
   "id": "19a826e7",
   "metadata": {},
   "outputs": [],
   "source": [
    "plt.plot(X, Y, '.')\n",
    "plt.plot(X_Line, Y_Pred_Ridge)\n",
    "\n",
    "plt.xlim(min(X) - 1, max(X) + 1)\n",
    "plt.ylim(min(Y) - 2, max(Y) + 2)"
   ]
  },
  {
   "cell_type": "code",
   "execution_count": null,
   "id": "5d965db5",
   "metadata": {},
   "outputs": [],
   "source": []
  },
  {
   "cell_type": "code",
   "execution_count": null,
   "id": "167547a2",
   "metadata": {},
   "outputs": [],
   "source": [
    "ridge=Ridge(normalize=feat_norm,solver='saga')\n",
    "params={'alpha':[1e-5,1e-4,1e-3,1e-2,0.1, 0.2, 0.3, 0.4, 0.5, 1, 2, 3, 4, 5, 10,20,30,40,50,100, 200, 300, 400,500]}\n",
    "Regressor = GridSearchCV(ridge, params, scoring='neg_mean_squared_error',cv=10)\n",
    "Regressor.fit(X_Poly, Y)\n",
    "\n",
    "print('best parameter: ', Regressor.best_params_)\n",
    "print('best score: ', -Regressor.best_score_)"
   ]
  },
  {
   "cell_type": "markdown",
   "id": "ca4ed519",
   "metadata": {},
   "source": [
    "LASSO Regularization"
   ]
  },
  {
   "cell_type": "code",
   "execution_count": null,
   "id": "f67dc2be",
   "metadata": {},
   "outputs": [],
   "source": [
    "lasso = Lasso(normalize=feat_norm, alpha=0.01)\n",
    "\n",
    "lasso.fit(X_Poly, Y)"
   ]
  },
  {
   "cell_type": "code",
   "execution_count": null,
   "id": "8676813d",
   "metadata": {},
   "outputs": [],
   "source": [
    "Y_Pred_Lasso = lasso.predict(X_Line_Poly)\n",
    "print(lasso.coef_)\n",
    "print(lasso.intercept_)"
   ]
  },
  {
   "cell_type": "code",
   "execution_count": null,
   "id": "e5d588f8",
   "metadata": {},
   "outputs": [],
   "source": [
    "plt.plot(X, Y, '.')\n",
    "plt.plot(X_Line, Y_Pred_Lasso)\n",
    "\n",
    "plt.xlim(min(X) - 1, max(X) + 1)\n",
    "plt.ylim(min(Y) - 2, max(Y) + 2)"
   ]
  },
  {
   "cell_type": "code",
   "execution_count": null,
   "id": "bc2caad9",
   "metadata": {},
   "outputs": [],
   "source": []
  },
  {
   "cell_type": "code",
   "execution_count": null,
   "id": "2c9cb6b6",
   "metadata": {},
   "outputs": [],
   "source": [
    "lasso=Lasso(normalize=feat_norm)\n",
    "params={'alpha':[1e-5,1e-4,1e-3,1e-2,0.1, 0.2, 0.3, 0.4, 0.5, 1, 2, 3, 4, 5, 10,20,30,40,50,100, 200, 300, 400,500]}\n",
    "Regressor=GridSearchCV(lasso,params,scoring='neg_mean_squared_error',cv=10)\n",
    "Regressor.fit(X_Poly, Y)\n",
    "#Print best parameter and score\n",
    "print('best parameter: ', Regressor.best_params_)\n",
    "print('best score: ', -Regressor.best_score_)"
   ]
  },
  {
   "cell_type": "code",
   "execution_count": null,
   "id": "43e831a9",
   "metadata": {},
   "outputs": [],
   "source": []
  },
  {
   "cell_type": "markdown",
   "id": "7d60c6ae",
   "metadata": {},
   "source": [
    "Elastic Net Regularization"
   ]
  },
  {
   "cell_type": "code",
   "execution_count": null,
   "id": "0b2c42df",
   "metadata": {},
   "outputs": [],
   "source": [
    "elNet = ElasticNet(normalize=feat_norm, alpha=0.001, l1_ratio=0.01)\n",
    "elNet.fit(X_Poly, Y)"
   ]
  },
  {
   "cell_type": "code",
   "execution_count": null,
   "id": "71a26947",
   "metadata": {},
   "outputs": [],
   "source": [
    "Y_Pred_elNet = elNet.predict(X_Line_Poly)\n",
    "print(elNet.coef_)\n",
    "print(elNet.intercept_)"
   ]
  },
  {
   "cell_type": "code",
   "execution_count": null,
   "id": "cb846d00",
   "metadata": {},
   "outputs": [],
   "source": [
    "plt.plot(X, Y, '.')\n",
    "plt.plot(X_Line, Y_Pred_elNet)\n",
    "\n",
    "plt.xlim(min(X) - 1, max(X) + 1)\n",
    "plt.ylim(min(Y) - 2, max(Y) + 2)"
   ]
  },
  {
   "cell_type": "code",
   "execution_count": null,
   "id": "b38e676a",
   "metadata": {},
   "outputs": [],
   "source": []
  },
  {
   "cell_type": "code",
   "execution_count": null,
   "id": "4d346acc",
   "metadata": {},
   "outputs": [],
   "source": [
    "#ElasticNet Regression\n",
    "\n",
    "elastic=ElasticNet(normalize=feat_norm)\n",
    "params={'alpha':[1e-5,1e-4,1e-3,1e-2,1e-1,1,2,3,4,5,10,20,30,40,50,100,],'l1_ratio':[1e-6,1e-5,1e-4,1e-3,1e-2,0.1,0.2,0.3,0.4,0.5,0.6,0.7,0.8,0.9]}\n",
    "Regressor=GridSearchCV(elastic,params,scoring='neg_mean_squared_error',cv=10)\n",
    "Regressor.fit(X,Y)\n",
    "#Print best parameter and score\n",
    "print('best parameter: ', Regressor.best_params_)\n",
    "print('best score: ', -Regressor.best_score_)"
   ]
  },
  {
   "cell_type": "code",
   "execution_count": null,
   "id": "e3ad10de",
   "metadata": {},
   "outputs": [],
   "source": []
  },
  {
   "cell_type": "code",
   "execution_count": null,
   "id": "f65f3fb4",
   "metadata": {},
   "outputs": [],
   "source": []
  }
 ],
 "metadata": {
  "kernelspec": {
   "display_name": "Python 3 (ipykernel)",
   "language": "python",
   "name": "python3"
  },
  "language_info": {
   "codemirror_mode": {
    "name": "ipython",
    "version": 3
   },
   "file_extension": ".py",
   "mimetype": "text/x-python",
   "name": "python",
   "nbconvert_exporter": "python",
   "pygments_lexer": "ipython3",
   "version": "3.9.7"
  }
 },
 "nbformat": 4,
 "nbformat_minor": 5
}
