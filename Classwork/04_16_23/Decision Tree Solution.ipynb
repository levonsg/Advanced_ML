{
 "cells": [
  {
   "cell_type": "code",
   "execution_count": 61,
   "id": "d2629d9d",
   "metadata": {},
   "outputs": [],
   "source": [
    "class DecisionTree:\n",
    "    def __init__(self):\n",
    "        self.tree_dict = dict()\n",
    "        \n",
    "    def fit(self, X, y):\n",
    "        self.tree_dict = self.grow_tree(X, y)\n",
    "        \n",
    "    def grow_tree(self, X, y):\n",
    "        if len(np.unique(y))==1:\n",
    "            return y[0]\n",
    "        if len(np.unique(X))==1:\n",
    "            return np.unique(y)[np.unique(y,return_counts=True)[1].argmax()]\n",
    "        \n",
    "        best_criterion = 1.1\n",
    "        curr_dict = dict()\n",
    "        for feature in range(X.shape[1]):\n",
    "            values = np.unique(X[:, feature])\n",
    "            values = (values[1:] + values[:-1])/2\n",
    "            for value in values:\n",
    "                y_true = np.unique(y[X[:, feature]>value], return_counts=True)[1]\n",
    "                y_false = np.unique(y[X[:, feature]<=value], return_counts=True)[1]\n",
    "                curr_criterion = self.criterion(y_true, y_false)\n",
    "                if curr_criterion < best_criterion:\n",
    "                    best_criterion = curr_criterion\n",
    "                    curr_dict['feature'] = feature\n",
    "                    curr_dict['threshold'] = value\n",
    "        best_feature = curr_dict['feature']\n",
    "        best_threshold = curr_dict['threshold']\n",
    "        X_true = X[X[:, best_feature]>best_threshold]\n",
    "        X_false = X[X[:, best_feature]<=best_threshold]\n",
    "        y_true = y[X[:, best_feature]>best_threshold]\n",
    "        y_false = y[X[:, best_feature]<=best_threshold]\n",
    "        curr_dict['true'] = self.grow_tree(X_true, y_true)\n",
    "        curr_dict['false'] = self.grow_tree(X_false, y_false)\n",
    "        return curr_dict\n",
    "    \n",
    "    def score(self, X, y):\n",
    "        return (y==self.predict(X)).mean()\n",
    "    \n",
    "    def predict(self, X):\n",
    "        y_pred = np.zeros(X.shape[0])\n",
    "        for i, x in enumerate(X):\n",
    "            y_pred[i] = self.get_pred(x, self.tree_dict)\n",
    "        return y_pred\n",
    "            \n",
    "    def get_pred(self, x, curr_tree):\n",
    "        if not isinstance(curr_tree, dict):\n",
    "            return curr_tree\n",
    "        if x[curr_tree['feature']] > curr_tree['threshold']:\n",
    "            return self.get_pred(x, curr_tree['true'])\n",
    "        return self.get_pred(x, curr_tree['false'])\n",
    "                \n",
    "    def criterion(self, y1, y2):\n",
    "        cr1 = 1 - ((y1/y1.sum()) ** 2).sum()\n",
    "        cr2 = 1 - ((y2/y2.sum()) ** 2).sum()\n",
    "        return (cr1*y1.sum() + cr2*y2.sum() ) / (y1.sum()+y2.sum())\n",
    "        "
   ]
  },
  {
   "cell_type": "code",
   "execution_count": 23,
   "id": "3a1c7a57",
   "metadata": {},
   "outputs": [],
   "source": [
    "from sklearn.datasets import load_iris"
   ]
  },
  {
   "cell_type": "code",
   "execution_count": 27,
   "id": "7fe4af6e",
   "metadata": {},
   "outputs": [],
   "source": [
    "from sklearn.model_selection import train_test_split"
   ]
  },
  {
   "cell_type": "code",
   "execution_count": 42,
   "id": "9a535b8a",
   "metadata": {},
   "outputs": [],
   "source": [
    "from sklearn.tree import DecisionTreeClassifier"
   ]
  },
  {
   "cell_type": "code",
   "execution_count": 30,
   "id": "60cc4b78",
   "metadata": {},
   "outputs": [],
   "source": [
    "X, y =load_iris(return_X_y=True)"
   ]
  },
  {
   "cell_type": "code",
   "execution_count": 39,
   "id": "edb08c4b",
   "metadata": {},
   "outputs": [],
   "source": [
    "X_train, X_test, y_train, y_test = train_test_split(X,y)"
   ]
  },
  {
   "cell_type": "code",
   "execution_count": 62,
   "id": "928cd28f",
   "metadata": {},
   "outputs": [],
   "source": [
    "clf = DecisionTree()\n",
    "clf.fit(X_train,y_train)"
   ]
  },
  {
   "cell_type": "code",
   "execution_count": 63,
   "id": "2a275025",
   "metadata": {},
   "outputs": [
    {
     "data": {
      "text/plain": [
       "0.9210526315789473"
      ]
     },
     "execution_count": 63,
     "metadata": {},
     "output_type": "execute_result"
    }
   ],
   "source": [
    "clf.score(X_test, y_test)"
   ]
  },
  {
   "cell_type": "code",
   "execution_count": 43,
   "id": "f1f12531",
   "metadata": {},
   "outputs": [],
   "source": [
    "clf_tree = DecisionTreeClassifier()"
   ]
  },
  {
   "cell_type": "code",
   "execution_count": 44,
   "id": "1cb60274",
   "metadata": {},
   "outputs": [
    {
     "data": {
      "text/plain": [
       "DecisionTreeClassifier()"
      ]
     },
     "execution_count": 44,
     "metadata": {},
     "output_type": "execute_result"
    }
   ],
   "source": [
    "clf_tree.fit(X_train,y_train)"
   ]
  },
  {
   "cell_type": "code",
   "execution_count": 45,
   "id": "5a3304c0",
   "metadata": {},
   "outputs": [],
   "source": [
    "from sklearn.tree import plot_tree"
   ]
  },
  {
   "cell_type": "code",
   "execution_count": null,
   "id": "c622f764",
   "metadata": {},
   "outputs": [],
   "source": [
    "import mat"
   ]
  },
  {
   "cell_type": "code",
   "execution_count": 49,
   "id": "d4701a79",
   "metadata": {},
   "outputs": [
    {
     "data": {
      "text/plain": [
       "[Text(0.5555555555555556, 0.9166666666666666, 'X[2] <= 2.6\\ngini = 0.666\\nsamples = 112\\nvalue = [40, 37, 35]'),\n",
       " Text(0.4444444444444444, 0.75, 'gini = 0.0\\nsamples = 40\\nvalue = [40, 0, 0]'),\n",
       " Text(0.6666666666666666, 0.75, 'X[3] <= 1.75\\ngini = 0.5\\nsamples = 72\\nvalue = [0, 37, 35]'),\n",
       " Text(0.5555555555555556, 0.5833333333333334, 'X[2] <= 5.05\\ngini = 0.139\\nsamples = 40\\nvalue = [0, 37, 3]'),\n",
       " Text(0.3333333333333333, 0.4166666666666667, 'X[0] <= 4.95\\ngini = 0.053\\nsamples = 37\\nvalue = [0, 36, 1]'),\n",
       " Text(0.2222222222222222, 0.25, 'X[2] <= 3.9\\ngini = 0.5\\nsamples = 2\\nvalue = [0, 1, 1]'),\n",
       " Text(0.1111111111111111, 0.08333333333333333, 'gini = 0.0\\nsamples = 1\\nvalue = [0, 1, 0]'),\n",
       " Text(0.3333333333333333, 0.08333333333333333, 'gini = 0.0\\nsamples = 1\\nvalue = [0, 0, 1]'),\n",
       " Text(0.4444444444444444, 0.25, 'gini = 0.0\\nsamples = 35\\nvalue = [0, 35, 0]'),\n",
       " Text(0.7777777777777778, 0.4166666666666667, 'X[0] <= 6.15\\ngini = 0.444\\nsamples = 3\\nvalue = [0, 1, 2]'),\n",
       " Text(0.6666666666666666, 0.25, 'gini = 0.0\\nsamples = 1\\nvalue = [0, 1, 0]'),\n",
       " Text(0.8888888888888888, 0.25, 'gini = 0.0\\nsamples = 2\\nvalue = [0, 0, 2]'),\n",
       " Text(0.7777777777777778, 0.5833333333333334, 'gini = 0.0\\nsamples = 32\\nvalue = [0, 0, 32]')]"
      ]
     },
     "execution_count": 49,
     "metadata": {},
     "output_type": "execute_result"
    },
    {
     "data": {
      "image/png": "[encoded data removed]",
      "text/plain": [
       "<Figure size 432x288 with 1 Axes>"
      ]
     },
     "metadata": {
      "needs_background": "light"
     },
     "output_type": "display_data"
    }
   ],
   "source": [
    "plot_tree(clf_tree, filled=True)"
   ]
  },
  {
   "cell_type": "code",
   "execution_count": 64,
   "id": "c37d925f",
   "metadata": {},
   "outputs": [
    {
     "data": {
      "text/plain": [
       "{'feature': 2,\n",
       " 'threshold': 2.5999999999999996,\n",
       " 'true': {'feature': 3,\n",
       "  'threshold': 1.75,\n",
       "  'true': 2,\n",
       "  'false': {'feature': 2,\n",
       "   'threshold': 5.05,\n",
       "   'true': {'feature': 0, 'threshold': 6.15, 'true': 2, 'false': 1},\n",
       "   'false': {'feature': 0,\n",
       "    'threshold': 4.95,\n",
       "    'true': 1,\n",
       "    'false': {'feature': 1, 'threshold': 2.45, 'true': 2, 'false': 1}}}},\n",
       " 'false': 0}"
      ]
     },
     "execution_count": 64,
     "metadata": {},
     "output_type": "execute_result"
    }
   ],
   "source": [
    "clf.tree_dict"
   ]
  },
  {
   "cell_type": "code",
   "execution_count": 52,
   "id": "78184081",
   "metadata": {},
   "outputs": [
    {
     "data": {
      "text/plain": [
       "0.9473684210526315"
      ]
     },
     "execution_count": 52,
     "metadata": {},
     "output_type": "execute_result"
    }
   ],
   "source": [
    "clf.score(X_test, y_test)"
   ]
  },
  {
   "cell_type": "code",
   "execution_count": 58,
   "id": "38a8c7d8",
   "metadata": {},
   "outputs": [
    {
     "data": {
      "text/plain": [
       "0.9210526315789473"
      ]
     },
     "execution_count": 58,
     "metadata": {},
     "output_type": "execute_result"
    }
   ],
   "source": [
    "clf_tree.score(X_test, y_test)"
   ]
  },
  {
   "cell_type": "code",
   "execution_count": null,
   "id": "112e8bb4",
   "metadata": {},
   "outputs": [],
   "source": []
  }
 ],
 "metadata": {
  "kernelspec": {
   "display_name": "Python 3 (ipykernel)",
   "language": "python",
   "name": "python3"
  },
  "language_info": {
   "codemirror_mode": {
    "name": "ipython",
    "version": 3
   },
   "file_extension": ".py",
   "mimetype": "text/x-python",
   "name": "python",
   "nbconvert_exporter": "python",
   "pygments_lexer": "ipython3",
   "version": "3.9.12"
  }
 },
 "nbformat": 4,
 "nbformat_minor": 5
}
