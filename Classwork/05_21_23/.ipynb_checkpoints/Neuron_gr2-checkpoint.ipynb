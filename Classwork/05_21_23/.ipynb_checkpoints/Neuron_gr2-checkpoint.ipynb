{
 "cells": [
  {
   "cell_type": "code",
   "execution_count": 62,
   "id": "115740b3",
   "metadata": {},
   "outputs": [],
   "source": [
    "import numpy as np\n",
    "from sklearn.metrics import mean_squared_error\n",
    "\n",
    "class Neuron:\n",
    "    def __init__(self, lr=0.1, max_iter=1000):\n",
    "        self.lr = lr\n",
    "        self.max_iter = max_iter\n",
    "    \n",
    "    def call(self, X, y=None, training=False):\n",
    "        if training:\n",
    "            X = np.insert(X, 0, 1, 1)\n",
    "            self.w = np.random.rand(X.shape[1])\n",
    "            for i in range(self.max_iter):\n",
    "                gradient = (-2 * X.T @ (y - (X @ self.w))) / X.shape[0]\n",
    "                self.w = self.w - self.lr * gradient\n",
    "                \n",
    "        else:\n",
    "            X = np.insert(X, 0, 1, 1)\n",
    "            y_pred = X @ self.w\n",
    "            \n",
    "            return y_pred\n"
   ]
  },
  {
   "cell_type": "code",
   "execution_count": 83,
   "id": "fc7e1942",
   "metadata": {},
   "outputs": [],
   "source": [
    "from sklearn.datasets import make_regression\n",
    "\n",
    "X, y = make_regression(n_samples=100, n_features=20, n_informative=3, n_targets=1)"
   ]
  },
  {
   "cell_type": "code",
   "execution_count": 84,
   "id": "114ad0f0",
   "metadata": {},
   "outputs": [],
   "source": [
    "neuron1 = Neuron()"
   ]
  },
  {
   "cell_type": "code",
   "execution_count": 85,
   "id": "a934b20e",
   "metadata": {},
   "outputs": [],
   "source": [
    "neuron1.call(X, y, training = True)"
   ]
  },
  {
   "cell_type": "code",
   "execution_count": 86,
   "id": "ea9623de",
   "metadata": {},
   "outputs": [],
   "source": [
    "y_pred = neuron1.call(X, training = False)"
   ]
  },
  {
   "cell_type": "code",
   "execution_count": 87,
   "id": "d28cb9d9",
   "metadata": {},
   "outputs": [
    {
     "data": {
      "text/plain": [
       "2.0275026884673618e-27"
      ]
     },
     "execution_count": 87,
     "metadata": {},
     "output_type": "execute_result"
    }
   ],
   "source": [
    "mean_squared_error(y_pred, y)"
   ]
  },
  {
   "cell_type": "code",
   "execution_count": 90,
   "id": "fdd5780a",
   "metadata": {},
   "outputs": [],
   "source": [
    "from sklearn.linear_model import LinearRegression"
   ]
  },
  {
   "cell_type": "code",
   "execution_count": 93,
   "id": "dd9e682f",
   "metadata": {},
   "outputs": [],
   "source": [
    "lr = LinearRegression()"
   ]
  },
  {
   "cell_type": "code",
   "execution_count": 94,
   "id": "5b31f4cd",
   "metadata": {},
   "outputs": [
    {
     "data": {
      "text/plain": [
       "4.362626617306315e-26"
      ]
     },
     "execution_count": 94,
     "metadata": {},
     "output_type": "execute_result"
    }
   ],
   "source": [
    "mean_squared_error(lr.fit(X, y).predict(X), y)"
   ]
  },
  {
   "cell_type": "code",
   "execution_count": null,
   "id": "0184d03d",
   "metadata": {},
   "outputs": [],
   "source": []
  }
 ],
 "metadata": {
  "kernelspec": {
   "display_name": "Python 3 (ipykernel)",
   "language": "python",
   "name": "python3"
  },
  "language_info": {
   "codemirror_mode": {
    "name": "ipython",
    "version": 3
   },
   "file_extension": ".py",
   "mimetype": "text/x-python",
   "name": "python",
   "nbconvert_exporter": "python",
   "pygments_lexer": "ipython3",
   "version": "3.9.12"
  }
 },
 "nbformat": 4,
 "nbformat_minor": 5
}
