{
 "cells": [
  {
   "cell_type": "code",
   "execution_count": 1,
   "metadata": {},
   "outputs": [],
   "source": [
    "from scipy.optimize import minimize\n",
    "import numpy as np\n",
    "import pandas as pd\n",
    "import matplotlib.pyplot as plt\n",
    "from sklearn.model_selection import train_test_split"
   ]
  },
  {
   "cell_type": "code",
   "execution_count": 136,
   "metadata": {},
   "outputs": [],
   "source": [
    "class SVM:\n",
    "    def __init__(self):\n",
    "        self.w = None\n",
    "        self.b = None\n",
    "    \n",
    "    def fit(self, X, y):\n",
    "        self.X = X\n",
    "        self.y = y\n",
    "        n = X.shape[0]\n",
    "        d = X.shape[1]\n",
    "\n",
    "        def objective(x):\n",
    "            # your code here\n",
    "            \n",
    "            return np.dot(x[:-1].T,x[:-1])\n",
    "        \n",
    "        def constraint(x):\n",
    "            # your code here\n",
    "            \n",
    "            return (self.y * (np.dot(x[:-1],self.X.T) + x[-1])) -1\n",
    "\n",
    "        w = np.zeros(d+1)\n",
    "        cons = {'type': 'ineq', 'fun': constraint}\n",
    "        res = minimize(objective, w, constraints=cons)\n",
    "\n",
    "        self.w = res.x[:-1]\n",
    "        self.b = res.x[-1]\n",
    "        \n",
    "        print('w', self.w)\n",
    "        print('b', self.b)\n",
    "        \n",
    "    def predict(self, X):\n",
    "        print(np.sign(np.dot(self.X, self.w)+self.b))\n",
    "        #return  [1 if val else -1 for val in (np.dot(self.w,self.X.T))]\n",
    "        \n",
    "        return np.sign(np.dot(self.X, self.w)+self.b)\n",
    "    \n",
    "    def score(self, X, y):\n",
    "        return (np.array(self.predict(X)==y)).sum() / len(y)"
   ]
  },
  {
   "cell_type": "code",
   "execution_count": 137,
   "metadata": {
    "tags": []
   },
   "outputs": [],
   "source": [
    "df = pd.read_csv('classification.csv')"
   ]
  },
  {
   "cell_type": "code",
   "execution_count": 138,
   "metadata": {
    "tags": []
   },
   "outputs": [],
   "source": [
    "X = df.drop(['default', 'ed'], axis=1)\n",
    "\n",
    "y = df['default']"
   ]
  },
  {
   "cell_type": "code",
   "execution_count": 139,
   "metadata": {},
   "outputs": [],
   "source": [
    "# y= y.iloc[0]\n",
    "# X= X.iloc[0]\n",
    "# w = np.ones(8)\n",
    "# y*(np.dot(w[:-1].T,X) + w[-1]) >=1"
   ]
  },
  {
   "cell_type": "code",
   "execution_count": 140,
   "metadata": {},
   "outputs": [
    {
     "name": "stdout",
     "output_type": "stream",
     "text": [
      "w [-2.22441489e-07 -5.41337704e-08 -3.02894162e-07  1.44223499e-07\n",
      "  5.19053421e-08 -2.55803528e-07  4.95222130e-07]\n",
      "b 0.13352346226205603\n"
     ]
    }
   ],
   "source": [
    "SV = SVM()\n",
    "SV.fit(X, y)"
   ]
  },
  {
   "cell_type": "code",
   "execution_count": 141,
   "metadata": {},
   "outputs": [
    {
     "data": {
      "text/plain": [
       "<matplotlib.collections.PathCollection at 0x2c520d51c40>"
      ]
     },
     "execution_count": 141,
     "metadata": {},
     "output_type": "execute_result"
    },
    {
     "data": {
      "image/png": "[encoded data removed]",
      "text/plain": [
       "<Figure size 640x480 with 1 Axes>"
      ]
     },
     "metadata": {},
     "output_type": "display_data"
    }
   ],
   "source": [
    "import numpy as np\n",
    "\n",
    "X1 = np.random.randn(50, 2) + np.array([0, 0])\n",
    "X2 = np.random.randn(50, 2) + np.array([4, 4])\n",
    "\n",
    "X = np.vstack((X1, X2))\n",
    "\n",
    "y = np.hstack((np.ones(50), -np.ones(50)))\n",
    "\n",
    "plt.scatter(X[:, 0], X[:, 1], c=y)"
   ]
  },
  {
   "cell_type": "code",
   "execution_count": 142,
   "metadata": {},
   "outputs": [],
   "source": [
    "X_train, X_test, y_train, y_test = train_test_split(X, y)"
   ]
  },
  {
   "cell_type": "code",
   "execution_count": 143,
   "metadata": {},
   "outputs": [
    {
     "name": "stdout",
     "output_type": "stream",
     "text": [
      "w [-0.6583691  -1.23176397]\n",
      "b 4.360250811462694\n"
     ]
    }
   ],
   "source": [
    "svm = SVM()\n",
    "svm.fit(X_train, y_train)"
   ]
  },
  {
   "cell_type": "code",
   "execution_count": 144,
   "metadata": {},
   "outputs": [
    {
     "name": "stdout",
     "output_type": "stream",
     "text": [
      "[-1.  1. -1.  1.  1.  1. -1.  1. -1. -1. -1.  1.  1. -1.  1. -1. -1. -1.\n",
      " -1.  1. -1.  1.  1. -1. -1.  1. -1. -1.  1. -1.  1. -1. -1. -1. -1.  1.\n",
      "  1. -1.  1.  1. -1.  1.  1.  1. -1. -1. -1.  1. -1.  1.  1. -1. -1. -1.\n",
      " -1.  1. -1.  1.  1.  1. -1. -1.  1. -1.  1.  1. -1.  1.  1.  1. -1. -1.\n",
      "  1.  1.  1.]\n"
     ]
    },
    {
     "name": "stderr",
     "output_type": "stream",
     "text": [
      "C:\\Users\\lsargsya\\AppData\\Local\\Temp\\ipykernel_36980\\2158852516.py:39: DeprecationWarning: elementwise comparison failed; this will raise an error in the future.\n",
      "  return (np.array(self.predict(X)==y)).sum() / len(y)\n"
     ]
    },
    {
     "data": {
      "text/plain": [
       "0.0"
      ]
     },
     "execution_count": 144,
     "metadata": {},
     "output_type": "execute_result"
    }
   ],
   "source": [
    "svm.score(X_test, y_test)"
   ]
  },
  {
   "cell_type": "markdown",
   "metadata": {},
   "source": [
    "# Homework 1"
   ]
  },
  {
   "cell_type": "markdown",
   "metadata": {},
   "source": [
    "<img src=\"files/svm.png\">"
   ]
  },
  {
   "cell_type": "markdown",
   "metadata": {},
   "source": [
    "Try to generate datasets like this, fit SVM on each of them and find best regularization parameter and best kernel for each (use CV)."
   ]
  },
  {
   "cell_type": "markdown",
   "metadata": {},
   "source": [
    "Dataset settings\n",
    "- 2 features\n",
    "- not more than 10k points\n",
    "- you can either try generating from distributions, and maybe removing some elements after \n",
    "- or you can just generate by some functions, this would be easier, but it is OK"
   ]
  },
  {
   "cell_type": "markdown",
   "metadata": {},
   "source": [
    "# Homework 2"
   ]
  },
  {
   "cell_type": "markdown",
   "metadata": {},
   "source": [
    "Write a function is_kernel_function(func), which will return True f given function is a kernel function and False if it is not."
   ]
  },
  {
   "cell_type": "code",
   "execution_count": 82,
   "metadata": {},
   "outputs": [],
   "source": [
    "def is_kernel_function(func):\n",
    "    # \n",
    "    return True\n",
    "\n",
    "    #\n",
    "    return False\n",
    "\n",
    "\n",
    "# kisa voroshyal"
   ]
  }
 ],
 "metadata": {
  "kernelspec": {
   "display_name": "tf_384",
   "language": "python",
   "name": "tf_384"
  },
  "language_info": {
   "codemirror_mode": {
    "name": "ipython",
    "version": 3
   },
   "file_extension": ".py",
   "mimetype": "text/x-python",
   "name": "python",
   "nbconvert_exporter": "python",
   "pygments_lexer": "ipython3",
   "version": "3.9.13"
  }
 },
 "nbformat": 4,
 "nbformat_minor": 4
}
