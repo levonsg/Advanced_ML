{
 "cells": [
  {
   "cell_type": "code",
   "execution_count": 1,
   "metadata": {},
   "outputs": [],
   "source": [
    "import numpy as np"
   ]
  },
  {
   "cell_type": "code",
   "execution_count": 2,
   "metadata": {},
   "outputs": [],
   "source": [
    "from sklearn.model_selection import train_test_split\n",
    "from sklearn.naive_bayes import GaussianNB"
   ]
  },
  {
   "cell_type": "code",
   "execution_count": 3,
   "metadata": {},
   "outputs": [],
   "source": [
    "class0_len = 1000\n",
    "X0 = np.random.normal((0,1,2), (1,2,2), (class0_len,3))\n",
    "y0 = [0]*class0_len\n",
    "\n",
    "class1_len = 2000\n",
    "X1 = np.random.normal((1,1,-1), (3,1,1), (class1_len, 3))\n",
    "y1 = [1]*class1_len"
   ]
  },
  {
   "cell_type": "code",
   "execution_count": 4,
   "metadata": {},
   "outputs": [],
   "source": [
    "X = np.concatenate((X0, X1))\n",
    "y = y0+y1"
   ]
  },
  {
   "cell_type": "code",
   "execution_count": 5,
   "metadata": {},
   "outputs": [],
   "source": [
    "X_train, X_val, y_train, y_val = train_test_split(X, y, random_state=24)"
   ]
  },
  {
   "cell_type": "code",
   "execution_count": 6,
   "metadata": {},
   "outputs": [
    {
     "name": "stdout",
     "output_type": "stream",
     "text": [
      "0.9146666666666666\n",
      "0.9253333333333333\n"
     ]
    }
   ],
   "source": [
    "gnb = GaussianNB()\n",
    "gnb.fit(X_train, y_train)\n",
    "print(gnb.score(X_train, y_train))\n",
    "print(gnb.score(X_val, y_val))"
   ]
  },
  {
   "cell_type": "code",
   "execution_count": 7,
   "metadata": {},
   "outputs": [],
   "source": [
    "def perf_measure(y_actual, y_hat):\n",
    "    return "
   ]
  },
  {
   "cell_type": "code",
   "execution_count": 8,
   "metadata": {},
   "outputs": [
    {
     "ename": "TypeError",
     "evalue": "cannot unpack non-iterable NoneType object",
     "output_type": "error",
     "traceback": [
      "\u001b[1;31m---------------------------------------------------------------------------\u001b[0m",
      "\u001b[1;31mTypeError\u001b[0m                                 Traceback (most recent call last)",
      "\u001b[1;32m~\\AppData\\Local\\Temp\\ipykernel_17520\\396492981.py\u001b[0m in \u001b[0;36m<module>\u001b[1;34m\u001b[0m\n\u001b[1;32m----> 1\u001b[1;33m \u001b[0mtp\u001b[0m\u001b[1;33m,\u001b[0m \u001b[0mfp\u001b[0m\u001b[1;33m,\u001b[0m \u001b[0mtn\u001b[0m\u001b[1;33m,\u001b[0m \u001b[0mfn\u001b[0m \u001b[1;33m=\u001b[0m \u001b[0mperf_measure\u001b[0m\u001b[1;33m(\u001b[0m\u001b[0my_val\u001b[0m\u001b[1;33m,\u001b[0m \u001b[0mgnb\u001b[0m\u001b[1;33m.\u001b[0m\u001b[0mpredict\u001b[0m\u001b[1;33m(\u001b[0m\u001b[0mX_val\u001b[0m\u001b[1;33m)\u001b[0m\u001b[1;33m)\u001b[0m\u001b[1;33m\u001b[0m\u001b[1;33m\u001b[0m\u001b[0m\n\u001b[0m",
      "\u001b[1;31mTypeError\u001b[0m: cannot unpack non-iterable NoneType object"
     ]
    }
   ],
   "source": [
    "tp, fp, tn, fn = perf_measure(y_val, gnb.predict(X_val))"
   ]
  },
  {
   "cell_type": "code",
   "execution_count": null,
   "metadata": {},
   "outputs": [],
   "source": [
    "def print_metrics(tp, fp, tn, fn):\n",
    "    pass"
   ]
  },
  {
   "cell_type": "markdown",
   "metadata": {},
   "source": [
    "lets try to find drawbacks here"
   ]
  },
  {
   "cell_type": "code",
   "execution_count": null,
   "metadata": {},
   "outputs": [],
   "source": [
    "print_metrics()"
   ]
  },
  {
   "cell_type": "markdown",
   "metadata": {},
   "source": [
    "## HOMEWORK: think of example when all metrics are high, but model is bad"
   ]
  },
  {
   "cell_type": "markdown",
   "metadata": {},
   "source": [
    "# F1-Score"
   ]
  },
  {
   "cell_type": "markdown",
   "metadata": {},
   "source": [
    "<img src=\"./f1score.png\">"
   ]
  },
  {
   "cell_type": "code",
   "execution_count": null,
   "metadata": {},
   "outputs": [],
   "source": [
    "print('F1-Score: ', (tp)/(tp+(fp+fn)/2))"
   ]
  },
  {
   "cell_type": "markdown",
   "metadata": {},
   "source": [
    "# ROC Curve, AUC"
   ]
  },
  {
   "cell_type": "markdown",
   "metadata": {},
   "source": [
    "<img src=\"./roc_curve.jpeg\">"
   ]
  },
  {
   "cell_type": "code",
   "execution_count": null,
   "metadata": {},
   "outputs": [],
   "source": [
    "fpr = fp/(fp+tn)\n",
    "tpr = tp/(tp+fn)"
   ]
  },
  {
   "cell_type": "code",
   "execution_count": 9,
   "metadata": {},
   "outputs": [],
   "source": [
    "# roc curve and auc\n",
    "from sklearn.datasets import make_classification\n",
    "from sklearn.linear_model import LogisticRegression\n",
    "from sklearn.model_selection import train_test_split\n",
    "from sklearn.metrics import roc_curve\n",
    "from sklearn.metrics import roc_auc_score\n",
    "from matplotlib import pyplot"
   ]
  },
  {
   "cell_type": "code",
   "execution_count": 10,
   "metadata": {},
   "outputs": [],
   "source": [
    "# generate 2 class dataset\n",
    "X, y = make_classification(n_samples=1000, n_classes=2, random_state=1)\n",
    "# split into train/test sets\n",
    "trainX, testX, trainy, testy = train_test_split(X, y, test_size=0.5, random_state=2)"
   ]
  },
  {
   "cell_type": "code",
   "execution_count": 11,
   "metadata": {},
   "outputs": [],
   "source": [
    "# fit a model\n",
    "model = LogisticRegression(solver='lbfgs')\n",
    "model.fit(trainX, trainy)\n",
    "# predict probabilities\n",
    "lr_probs = model.predict_proba(testX)\n",
    "# keep probabilities for the positive outcome only\n",
    "lr_probs = lr_probs[:, 1]"
   ]
  },
  {
   "cell_type": "code",
   "execution_count": 14,
   "metadata": {
    "collapsed": true,
    "jupyter": {
     "outputs_hidden": true
    },
    "tags": []
   },
   "outputs": [
    {
     "data": {
      "text/plain": [
       "array([9.95972685e-01, 9.97994843e-01, 5.29883066e-03, 1.52374194e-01,\n",
       "       9.98333350e-01, 5.00061448e-01, 1.97631392e-02, 2.34633843e-02,\n",
       "       9.82000697e-01, 7.06465180e-01, 4.16201961e-03, 7.46446600e-01,\n",
       "       7.66567488e-03, 9.61958719e-01, 9.35214568e-01, 8.07653554e-01,\n",
       "       1.44803886e-01, 9.56532321e-01, 1.56957507e-01, 9.44908759e-01,\n",
       "       8.67007620e-01, 4.10282064e-01, 2.04815673e-02, 6.67093752e-01,\n",
       "       4.26334713e-03, 9.56694469e-01, 6.92577362e-01, 9.94406759e-01,\n",
       "       2.49159988e-02, 5.50542684e-01, 7.92214513e-01, 8.15242298e-01,\n",
       "       8.18291856e-02, 8.23317999e-01, 1.53516867e-02, 7.98798532e-02,\n",
       "       9.87551937e-01, 9.36923464e-01, 9.86339822e-01, 3.19318661e-01,\n",
       "       9.82576369e-03, 3.82722802e-02, 9.83635286e-02, 9.83780221e-01,\n",
       "       6.53737641e-03, 5.29530623e-01, 5.01616608e-01, 9.97760930e-01,\n",
       "       8.40960809e-03, 1.42082825e-01, 2.21934800e-02, 6.47786780e-01,\n",
       "       9.79115074e-01, 2.32942383e-01, 5.09205311e-02, 9.03776284e-01,\n",
       "       6.20807462e-02, 6.78015442e-02, 5.45950280e-02, 6.18886716e-01,\n",
       "       8.53405992e-01, 4.75728835e-02, 6.03026960e-01, 2.87845483e-02,\n",
       "       3.53877982e-02, 1.22859592e-01, 3.79826014e-01, 3.99172706e-03,\n",
       "       6.25785865e-01, 8.36133381e-01, 1.02004460e-01, 2.78923900e-02,\n",
       "       9.49281995e-01, 8.90786995e-01, 9.90144555e-01, 9.99649263e-01,\n",
       "       8.40192803e-02, 6.86963295e-01, 4.27705204e-02, 1.59756376e-01,\n",
       "       1.47315054e-03, 3.50544785e-02, 7.92727204e-01, 2.59571555e-03,\n",
       "       9.38525649e-01, 2.77126717e-01, 9.75857382e-01, 5.28233726e-01,\n",
       "       9.39260264e-01, 9.81247338e-01, 8.65090756e-01, 9.70978524e-01,\n",
       "       8.01864232e-01, 9.14621360e-01, 6.78098482e-01, 6.51868908e-01,\n",
       "       3.95878680e-02, 5.70540796e-01, 2.51809563e-01, 9.27295311e-01,\n",
       "       9.58874291e-01, 1.07859507e-01, 8.62206288e-01, 1.62219637e-02,\n",
       "       3.17835539e-01, 5.00561752e-01, 8.22322697e-01, 7.29965896e-02,\n",
       "       8.76612424e-01, 4.08559920e-01, 4.00125978e-01, 8.08058923e-01,\n",
       "       9.42181924e-01, 4.55753661e-01, 4.57195564e-03, 8.79656222e-01,\n",
       "       9.88361184e-01, 1.44583679e-01, 5.84497209e-02, 7.62912313e-01,\n",
       "       8.49368226e-02, 8.55737954e-02, 2.53090412e-04, 2.30525548e-01,\n",
       "       6.02319713e-01, 9.43152499e-01, 9.20285527e-01, 5.69625194e-01,\n",
       "       5.60434187e-01, 8.57661156e-01, 2.09170025e-01, 7.14497070e-01,\n",
       "       1.85385351e-03, 1.72053437e-01, 4.65430795e-02, 7.55181033e-01,\n",
       "       3.06873780e-01, 3.61776050e-03, 7.46303003e-01, 4.34572049e-01,\n",
       "       8.16273639e-01, 9.90905708e-01, 9.53997832e-01, 2.07794399e-01,\n",
       "       7.26040531e-03, 1.57361816e-02, 4.04756204e-02, 9.32533809e-01,\n",
       "       9.15661160e-01, 3.88359914e-03, 8.78091144e-01, 3.19887772e-01,\n",
       "       2.70558068e-02, 1.66378488e-01, 9.97663639e-01, 5.61264294e-01,\n",
       "       4.45083030e-02, 4.95873866e-01, 2.74649427e-02, 9.85775821e-01,\n",
       "       2.82250776e-02, 6.92545325e-01, 7.49642618e-01, 2.50345847e-03,\n",
       "       2.79345925e-01, 9.92408365e-01, 4.38365408e-01, 1.41055102e-01,\n",
       "       7.84768476e-01, 6.17652355e-02, 2.86419137e-04, 9.18769613e-01,\n",
       "       9.24765054e-01, 4.03523165e-02, 4.84265682e-03, 1.98691303e-01,\n",
       "       9.64802779e-01, 1.53685479e-02, 2.65235761e-01, 9.84824110e-01,\n",
       "       2.36105954e-04, 9.47453942e-01, 4.05889594e-02, 7.61564252e-01,\n",
       "       9.90189100e-03, 8.21435496e-01, 9.59857460e-01, 7.95794455e-02,\n",
       "       4.64207032e-01, 9.94907485e-01, 5.50598070e-01, 9.99810555e-01,\n",
       "       6.44240073e-03, 9.58381636e-01, 5.87555551e-01, 3.88226374e-03,\n",
       "       1.70069920e-01, 9.09251823e-01, 6.35647643e-01, 3.27331721e-01,\n",
       "       2.26624874e-01, 7.23434675e-01, 9.46999603e-01, 6.53227877e-01,\n",
       "       9.96335783e-04, 2.75234284e-01, 6.78886816e-01, 5.66538228e-03,\n",
       "       7.81879280e-02, 9.94049494e-01, 5.32524455e-01, 9.28259683e-01,\n",
       "       4.24451285e-01, 7.92361753e-01, 5.53127272e-02, 3.75397685e-01,\n",
       "       9.79774895e-01, 8.48149662e-01, 9.88024605e-01, 7.32873897e-01,\n",
       "       5.48482887e-03, 6.37985518e-01, 1.17157907e-04, 9.70432277e-01,\n",
       "       6.36044813e-01, 3.29907132e-02, 1.31600798e-02, 1.57067738e-01,\n",
       "       3.18974639e-02, 9.59122772e-01, 2.14584101e-01, 1.64944034e-02,\n",
       "       8.88364452e-01, 9.34192384e-01, 6.77474095e-01, 9.56382763e-01,\n",
       "       6.92405402e-01, 5.13088042e-01, 9.86846289e-01, 6.33943667e-01,\n",
       "       1.67087253e-02, 2.88726892e-01, 9.81416979e-01, 1.84443372e-01,\n",
       "       3.59410380e-03, 7.97325834e-01, 4.33772072e-01, 9.11432485e-01,\n",
       "       1.88380530e-02, 7.79441385e-01, 8.33799954e-01, 4.53820020e-01,\n",
       "       7.63311799e-01, 6.62937315e-01, 8.77174955e-01, 3.55286739e-01,\n",
       "       8.19816283e-01, 1.79974085e-01, 3.10549670e-01, 2.61230205e-02,\n",
       "       9.57902034e-01, 6.23690579e-03, 4.43026542e-03, 9.91286714e-01,\n",
       "       3.24617930e-01, 8.83659795e-02, 3.42917946e-01, 2.61376703e-01,\n",
       "       7.34681823e-03, 2.97576317e-01, 3.56126821e-01, 8.15695751e-02,\n",
       "       8.80831897e-01, 1.17881701e-02, 8.07658186e-01, 2.88427796e-01,\n",
       "       3.98840087e-01, 1.15018633e-02, 8.43517217e-01, 7.68060225e-01,\n",
       "       3.81307102e-01, 2.79559594e-01, 1.11101426e-01, 2.29544010e-01,\n",
       "       2.73598622e-01, 8.32262613e-01, 9.15266230e-02, 3.25264405e-01,\n",
       "       6.35520329e-01, 9.00886250e-02, 9.37282827e-01, 8.25641999e-02,\n",
       "       1.81614689e-02, 1.14683308e-01, 5.96320673e-01, 9.00369807e-01,\n",
       "       4.58188397e-01, 9.77590583e-01, 8.76283906e-01, 1.07895775e-02,\n",
       "       6.47658558e-01, 8.36408509e-01, 4.46340653e-01, 4.89366919e-02,\n",
       "       2.25464897e-02, 2.35629609e-02, 2.09880192e-02, 8.89815424e-01,\n",
       "       5.92619457e-01, 2.11767259e-03, 9.96082386e-01, 9.56752985e-01,\n",
       "       6.92512778e-01, 9.81775629e-01, 9.99560755e-01, 1.46315594e-01,\n",
       "       9.82258816e-01, 6.80222962e-01, 1.85267487e-03, 7.43473581e-01,\n",
       "       9.61681033e-01, 5.70823475e-01, 9.98965423e-01, 6.12198494e-01,\n",
       "       5.68734977e-01, 4.62728043e-01, 6.13150744e-01, 8.95830049e-01,\n",
       "       6.82799726e-01, 6.93547613e-01, 9.97753627e-01, 8.87112806e-01,\n",
       "       9.99150361e-01, 5.51924975e-02, 1.94823261e-02, 6.46419471e-01,\n",
       "       5.00076979e-02, 4.89796043e-01, 5.90439114e-01, 3.02319728e-01,\n",
       "       9.32551988e-01, 3.55676182e-03, 4.82592747e-03, 1.37909673e-01,\n",
       "       4.63205194e-01, 6.92244651e-01, 8.82495525e-01, 3.39887726e-01,\n",
       "       8.00646772e-01, 8.88055737e-01, 9.97574635e-01, 1.36288421e-02,\n",
       "       1.77269799e-02, 5.73275256e-01, 3.52535174e-02, 1.49318962e-02,\n",
       "       9.45581278e-01, 2.75603285e-01, 3.67338732e-01, 9.94781128e-01,\n",
       "       7.63062006e-01, 8.22143415e-01, 3.31011154e-01, 6.14825818e-01,\n",
       "       8.97202983e-02, 8.85041537e-01, 8.58187731e-01, 8.57298343e-01,\n",
       "       2.94333475e-01, 7.31335000e-01, 7.84433665e-03, 1.66742385e-01,\n",
       "       3.10474274e-02, 9.93566078e-01, 9.79265264e-01, 4.58050495e-01,\n",
       "       8.57002698e-01, 6.70153267e-01, 5.85639767e-01, 8.89830880e-01,\n",
       "       2.72542194e-02, 4.71433916e-03, 9.91679828e-01, 8.47289616e-02,\n",
       "       9.68424727e-01, 9.84141986e-01, 9.99022261e-01, 8.90657509e-01,\n",
       "       9.93109086e-01, 6.86919428e-01, 8.28429524e-01, 9.74070649e-01,\n",
       "       6.97381728e-01, 1.10958142e-02, 6.80971813e-01, 6.13750462e-03,\n",
       "       8.61822258e-01, 5.00123904e-02, 9.98091921e-01, 9.28216778e-01,\n",
       "       5.32689607e-02, 1.64405169e-01, 7.01661331e-01, 2.82301704e-01,\n",
       "       7.12450789e-01, 8.88294853e-01, 4.50593094e-01, 5.88398423e-01,\n",
       "       2.02649633e-02, 9.13943765e-01, 8.83543148e-01, 2.77202224e-01,\n",
       "       1.38924009e-01, 6.98400922e-01, 9.23985965e-01, 1.09132622e-02,\n",
       "       9.26539038e-01, 5.27652986e-01, 7.56233891e-01, 2.96743999e-01,\n",
       "       9.86032770e-01, 6.13307890e-02, 8.28780291e-01, 1.45661160e-02,\n",
       "       3.22407572e-01, 7.10603759e-02, 8.33877256e-02, 3.30416995e-02,\n",
       "       9.97056218e-01, 9.97587178e-01, 9.17462103e-02, 3.40707625e-01,\n",
       "       9.65764297e-05, 8.28245628e-02, 4.13614188e-03, 9.89867568e-01,\n",
       "       8.08472645e-01, 9.17592520e-01, 6.79729854e-01, 8.09483073e-01,\n",
       "       1.25257761e-03, 8.14009703e-01, 9.71121854e-01, 4.90358394e-01,\n",
       "       4.67589167e-01, 8.96563782e-01, 8.53554708e-01, 9.03919012e-01,\n",
       "       6.73123140e-01, 1.44862498e-02, 9.94436885e-01, 8.78078335e-01,\n",
       "       9.97402531e-01, 2.02554451e-02, 9.93271248e-01, 9.67885722e-01,\n",
       "       3.64112804e-01, 5.82357071e-01, 9.98906415e-01, 9.72267758e-01,\n",
       "       9.94633967e-01, 1.68725428e-02, 4.18462891e-02, 9.65794437e-01,\n",
       "       6.40027244e-01, 8.53147001e-03, 6.87009213e-02, 1.83338686e-02,\n",
       "       8.25539429e-01, 9.61993762e-01, 3.81959520e-03, 8.11560718e-05,\n",
       "       2.30374848e-02, 9.90225220e-01, 9.57190033e-01, 1.60966123e-02,\n",
       "       3.18987099e-01, 6.91165671e-04, 3.25372376e-01, 6.12754938e-01,\n",
       "       1.62420052e-01, 8.27959147e-01, 6.83638467e-04, 7.58648634e-01,\n",
       "       9.46083338e-01, 4.39643321e-01, 9.71842966e-01, 7.56112168e-01,\n",
       "       8.49126163e-01, 1.74206286e-01, 6.56639891e-01, 7.45783893e-01,\n",
       "       1.12499931e-02, 9.31224664e-02, 3.74613530e-01, 8.91811007e-01,\n",
       "       9.48744417e-01, 2.23874663e-01, 7.15862908e-01, 3.08425976e-02])"
      ]
     },
     "execution_count": 14,
     "metadata": {},
     "output_type": "execute_result"
    }
   ],
   "source": [
    "lr_probs"
   ]
  },
  {
   "cell_type": "code",
   "execution_count": 15,
   "metadata": {},
   "outputs": [
    {
     "name": "stdout",
     "output_type": "stream",
     "text": [
      "Logistic: ROC AUC=0.903\n"
     ]
    }
   ],
   "source": [
    "# calculate score\n",
    "lr_auc = roc_auc_score(testy, lr_probs)\n",
    "# summarize score\n",
    "print('Logistic: ROC AUC=%.3f' % (lr_auc))\n",
    "# calculate roc curve\n",
    "lr_fpr, lr_tpr, _ = roc_curve(testy, lr_probs)"
   ]
  },
  {
   "cell_type": "code",
   "execution_count": 16,
   "metadata": {},
   "outputs": [
    {
     "data": {
      "image/png": "[encoded data removed]",
      "text/plain": [
       "<Figure size 640x480 with 1 Axes>"
      ]
     },
     "metadata": {},
     "output_type": "display_data"
    }
   ],
   "source": [
    "# plot the roc curve for the model\n",
    "pyplot.plot(lr_fpr, lr_tpr, marker='.', label='Logistic')\n",
    "# axis labels\n",
    "pyplot.xlabel('False Positive Rate')\n",
    "pyplot.ylabel('True Positive Rate')\n",
    "# show the legend\n",
    "pyplot.legend()\n",
    "# show the plot\n",
    "pyplot.show()"
   ]
  },
  {
   "cell_type": "markdown",
   "metadata": {},
   "source": [
    "implement roc_auc_score and roc_curve functions on your own"
   ]
  },
  {
   "cell_type": "code",
   "execution_count": 37,
   "metadata": {},
   "outputs": [],
   "source": [
    "from sklearn.metrics import confusion_matrix\n",
    "def roc_curve(testy, lr_probs):\n",
    "    threshold = np.linspace(0, 1, num=200)\n",
    "    fpr = []\n",
    "    tpr = []\n",
    "    for i in threshold:\n",
    "        y_pred = [1 if val>=i else 0 for val in lr_probs]\n",
    "        tn, fp, fn, tp = confusion_matrix(testy,y_pred).ravel()\n",
    "        fpr.append(fp/(fp+tn))\n",
    "        tpr.append(tp/(tp+fn))\n",
    "        \n",
    "    return fpr, tpr\n",
    "\n",
    "def roc_auc_score(testy, lr_probs):\n",
    "    x, y = roc_curve(testy, lr_probs)\n",
    "    auc = 0\n",
    "    for i in range(1, len(x)):\n",
    "        h = x[i] - x[i-1]\n",
    "        auc += -h * (y[i-1] + y[i]) / 2\n",
    "    return auc"
   ]
  },
  {
   "cell_type": "code",
   "execution_count": 38,
   "metadata": {},
   "outputs": [
    {
     "data": {
      "image/png": "[encoded data removed]",
      "text/plain": [
       "<Figure size 640x480 with 1 Axes>"
      ]
     },
     "metadata": {},
     "output_type": "display_data"
    }
   ],
   "source": [
    "lr_fpr,lr_tpr =  roc_curve(testy, lr_probs)\n",
    "pyplot.plot(lr_fpr, lr_tpr, marker='.', label='Logistic')\n",
    "# axis labels\n",
    "pyplot.xlabel('False Positive Rate')\n",
    "pyplot.ylabel('True Positive Rate')\n",
    "# show the legend\n",
    "pyplot.legend()\n",
    "# show the plot\n",
    "pyplot.show()"
   ]
  },
  {
   "cell_type": "code",
   "execution_count": 39,
   "metadata": {},
   "outputs": [
    {
     "data": {
      "text/plain": [
       "0.9028525641025644"
      ]
     },
     "execution_count": 39,
     "metadata": {},
     "output_type": "execute_result"
    }
   ],
   "source": [
    "roc_auc_score(testy, lr_probs)"
   ]
  },
  {
   "cell_type": "code",
   "execution_count": null,
   "metadata": {},
   "outputs": [],
   "source": []
  }
 ],
 "metadata": {
  "kernelspec": {
   "display_name": "Python 3 (ipykernel)",
   "language": "python",
   "name": "python3"
  },
  "language_info": {
   "codemirror_mode": {
    "name": "ipython",
    "version": 3
   },
   "file_extension": ".py",
   "mimetype": "text/x-python",
   "name": "python",
   "nbconvert_exporter": "python",
   "pygments_lexer": "ipython3",
   "version": "3.9.13"
  }
 },
 "nbformat": 4,
 "nbformat_minor": 4
}
