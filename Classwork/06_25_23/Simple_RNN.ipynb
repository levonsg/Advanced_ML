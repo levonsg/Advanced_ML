{
 "cells": [
  {
   "cell_type": "code",
   "execution_count": null,
   "id": "80fa72f4-0178-4608-8a7e-0fc658bb0274",
   "metadata": {},
   "outputs": [],
   "source": [
    "import numpy as np\n",
    "class SimpleRNN:\n",
    "    def __init__(self, input_size, hidden_size, output_size):\n",
    "        self.input_size = input_size\n",
    "        self.hidden_size = hidden_size\n",
    "        self.output_size = output_size\n",
    "        self.Wxh = np.random.randn(hidden_size, input_size) * 0.01\n",
    "        self.Whh = np.random.randn(hidden_size, hidden_size) * 0.01 \n",
    "        self.Why = np.random.randn(output_size, hidden_size) * 0.01  \n",
    "        self.bh = np.zeros((hidden_size, 1))\n",
    "        self.by = np.zeros((output_size, 1))\n",
    "    def forward(self, inputs):\n",
    "        h = np.zeros((self.hidden_size, 1))\n",
    "        self.hidden_states = [] \n",
    "        for x in inputs:\n",
    "            h = np.tanh(np.dot(self.Wxh, x) + np.dot(self.Whh, h) + self.bh)\n",
    "            self.hidden_states.append(h)\n",
    "        y = np.dot(self.Why, h) + self.by\n",
    "        return y\n",
    "\n",
    "     def backward(self, inputs, targets, learning_rate):\n",
    "        dWxh = np.zeros_like(self.Wxh)\n",
    "        dWhh = np.zeros_like(self.Whh)\n",
    "        dWhy = np.zeros_like(self.Why)\n",
    "        dbh = np.zeros_like(self.bh)\n",
    "        dby = np.zeros_like(self.by)\n",
    "        dhnext = np.zeros_like(self.hidden_states[0])\n",
    "        for t in reversed(range(len(inputs))):\n",
    "            dy = np.copy(self.outputs[t])\n",
    "            dy[np.argmax(targets[t])] -= 1 \n",
    "            dWhy += np.dot(dy, self.hidden_states[t].T)\n",
    "            dby += dy\n",
    "            dh = np.dot(self.Why.T, dy) + dhnext\n",
    "            dhraw = (1 - self.hidden_states[t] * self.hidden_states[t]) * dh \n",
    "            dbh += dhraw\n",
    "            dWxh += np.dot(dhraw, inputs[t].T)\n",
    "            dWhh += np.dot(dhraw, self.hidden_states[t-1].T)\n",
    "            dhnext = np.dot(self.Whh.T, dhraw)\n",
    "        # Clip gradients to prevent exploding gradients\n",
    "        for dparam in [dWxh, dWhh, dWhy, dbh, dby]:\n",
    "            np.clip(dparam, -5, 5, out=dparam)\n",
    "        # Update weights and biases\n",
    "        self.Wxh -= learning_rate * dWxh\n",
    "        self.Whh -= learning_rate * dWhh\n",
    "        self.Why -= learning_rate * dWhy\n",
    "        self.bh -= learning_rate * dbh\n",
    "        self.by -= learning_rate * dby"
   ]
  }
 ],
 "metadata": {
  "kernelspec": {
   "display_name": "obj_det",
   "language": "python",
   "name": "obj_det"
  },
  "language_info": {
   "codemirror_mode": {
    "name": "ipython",
    "version": 3
   },
   "file_extension": ".py",
   "mimetype": "text/x-python",
   "name": "python",
   "nbconvert_exporter": "python",
   "pygments_lexer": "ipython3",
   "version": "3.9.16"
  }
 },
 "nbformat": 4,
 "nbformat_minor": 5
}
