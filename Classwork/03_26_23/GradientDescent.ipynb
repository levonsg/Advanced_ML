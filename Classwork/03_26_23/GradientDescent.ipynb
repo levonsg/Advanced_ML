{
 "cells": [
  {
   "cell_type": "markdown",
   "metadata": {},
   "source": [
    "# Implement Linear Regression with Gradient Descent"
   ]
  },
  {
   "cell_type": "code",
   "execution_count": 30,
   "metadata": {},
   "outputs": [],
   "source": [
    "import numpy as np\n",
    "\n",
    "class LinearRegression:\n",
    "    def __init__(self, learning_rate=0.1, n_iters=1000):\n",
    "        self.learning_rate = learning_rate\n",
    "        self.n_iters = n_iters\n",
    "        self.weights = None\n",
    "        self.bias = None\n",
    "    \n",
    "    def fit(self, X, y):\n",
    "        # Initialize the weights and bias to zeros\n",
    "        self.weights = \n",
    "        self.bias = \n",
    "        \n",
    "        # Gradient descent\n",
    "        for i in range(self.n_iters):\n",
    "            y_pred = self.predict(X)\n",
    "            \n",
    "            # Fill in the code to calculate the gradients\n",
    "            dw = \n",
    "            db = \n",
    "            \n",
    "            # Fill in the code to update the weights and bias\n",
    "            self.weights -= \n",
    "            self.bias -= \n",
    "            \n",
    "    def predict(self, X):\n",
    "        y_pred = np.dot(X, self.weights) + self.bias\n",
    "        return y_pred"
   ]
  }
 ],
 "metadata": {
  "kernelspec": {
   "display_name": "Python 3 (ipykernel)",
   "language": "python",
   "name": "python3"
  },
  "language_info": {
   "codemirror_mode": {
    "name": "ipython",
    "version": 3
   },
   "file_extension": ".py",
   "mimetype": "text/x-python",
   "name": "python",
   "nbconvert_exporter": "python",
   "pygments_lexer": "ipython3",
   "version": "3.9.13"
  }
 },
 "nbformat": 4,
 "nbformat_minor": 4
}
