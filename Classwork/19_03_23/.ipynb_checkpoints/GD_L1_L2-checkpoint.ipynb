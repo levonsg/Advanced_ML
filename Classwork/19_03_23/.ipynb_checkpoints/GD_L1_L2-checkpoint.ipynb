{
 "cells": [
  {
   "cell_type": "code",
   "execution_count": 7,
   "id": "fd19af45-79b3-411b-b015-92f74f17aa6d",
   "metadata": {
    "tags": []
   },
   "outputs": [],
   "source": [
    "import numpy as np\n",
    "import pandas as pd\n",
    "import numpy as np\n",
    "import matplotlib.pyplot as plt\n",
    "from sklearn.model_selection import train_test_split\n",
    "from sklearn import linear_model\n",
    "from sklearn.metrics import mean_absolute_error, mean_squared_error, r2_score"
   ]
  },
  {
   "cell_type": "code",
   "execution_count": 6,
   "id": "8084c78b-cf54-482b-958b-d22465c4617c",
   "metadata": {
    "tags": []
   },
   "outputs": [],
   "source": [
    "class LinearRegression:\n",
    "    def __init__(self, alpha=0.01, iter=1000, l1=0.01, l2=0.01):\n",
    "        self.alpha = alpha\n",
    "        self.iter = iter\n",
    "        self.l1 = l1\n",
    "        self.l2 = l2\n",
    "        self.weights = None\n",
    "    \n",
    "    def fit(self, X, y):\n",
    "        m, n = X.shape\n",
    "        self.weights = np.zeros((n, 1))\n",
    "        \n",
    "        for i in range(self.iter):\n",
    "            y_pred = X.dot(self.weights)\n",
    "            error = y_pred - y\n",
    "            \n",
    "            grad = X.T. dot(error)\n",
    "            grad += self.l1 * np.sign(self.weights) + self.l2 * self.weights\n",
    "            \n",
    "            self.weights -= self.alpha * gradients / n\n",
    "    \n",
    "    def predict(self, X):\n",
    "        return X.dot(self.weights)\n",
    "    \n",
    "    def get_weights(self):\n",
    "        return self.weights\n",
    "    "
   ]
  },
  {
   "cell_type": "code",
   "execution_count": 8,
   "id": "5c2b3af9-d3af-48e7-b947-b092cb0ae7f8",
   "metadata": {
    "tags": []
   },
   "outputs": [],
   "source": [
    "regression = LinearRegression(alpha=0.001)\n",
    "def get_alpha(self, X, y):\n",
    "    regression = LinearRegression(alpha=0.001)\n",
    "    bestMSE = 10e100\n",
    "    alpha_list = [l*0.0001 for l in range(0, 300)]\n",
    "    l_final = 0\n",
    "    \n",
    "    for l in alpha_list:\n",
    "        regression.alpha = l\n",
    "        regression.fit()\n",
    "        #ws = regression.get_weights\n",
    "        pred = regression.predict(X)\n",
    "        if mean_squared_error(pred, y) < bestMSE:\n",
    "            bestMSE = mean_squared_error(pred, y)\n",
    "            l_final = l\n",
    "    return l_final"
   ]
  },
  {
   "cell_type": "code",
   "execution_count": null,
   "id": "f1fbbd5e-b0d1-4a8f-92ee-2d8e52b6ee12",
   "metadata": {},
   "outputs": [],
   "source": [
    "get_alpha(self, X, y)"
   ]
  }
 ],
 "metadata": {
  "kernelspec": {
   "display_name": "tf384",
   "language": "python",
   "name": "tf384"
  },
  "language_info": {
   "codemirror_mode": {
    "name": "ipython",
    "version": 3
   },
   "file_extension": ".py",
   "mimetype": "text/x-python",
   "name": "python",
   "nbconvert_exporter": "python",
   "pygments_lexer": "ipython3",
   "version": "3.9.16"
  }
 },
 "nbformat": 4,
 "nbformat_minor": 5
}
