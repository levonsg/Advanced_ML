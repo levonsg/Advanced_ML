{
 "cells": [
  {
   "cell_type": "code",
   "execution_count": 1,
   "metadata": {
    "tags": []
   },
   "outputs": [],
   "source": [
    "import pandas as pd\n",
    "import matplotlib.pyplot as plt\n",
    "import numpy as np\n",
    "from sklearn.model_selection import train_test_split\n",
    "from sklearn import linear_model\n",
    "from sklearn.metrics import mean_absolute_error, mean_squared_error, r2_score\n",
    "from sklearn.preprocessing import MinMaxScaler\n",
    "from sklearn.preprocessing import PolynomialFeatures\n",
    "from sklearn.model_selection import cross_val_score\n",
    "from sklearn.linear_model import LinearRegression, Ridge, Lasso, ElasticNet\n",
    "from sklearn.model_selection import GridSearchCV"
   ]
  },
  {
   "cell_type": "code",
   "execution_count": 2,
   "metadata": {
    "tags": []
   },
   "outputs": [],
   "source": [
    "df = pd.read_csv('houses_train_new.csv')"
   ]
  },
  {
   "cell_type": "code",
   "execution_count": 3,
   "metadata": {
    "tags": []
   },
   "outputs": [
    {
     "data": {
      "text/html": [
       "<div>\n",
       "<style scoped>\n",
       "    .dataframe tbody tr th:only-of-type {\n",
       "        vertical-align: middle;\n",
       "    }\n",
       "\n",
       "    .dataframe tbody tr th {\n",
       "        vertical-align: top;\n",
       "    }\n",
       "\n",
       "    .dataframe thead th {\n",
       "        text-align: right;\n",
       "    }\n",
       "</style>\n",
       "<table border=\"1\" class=\"dataframe\">\n",
       "  <thead>\n",
       "    <tr style=\"text-align: right;\">\n",
       "      <th></th>\n",
       "      <th>Unnamed: 0</th>\n",
       "      <th>price</th>\n",
       "      <th>condition</th>\n",
       "      <th>district</th>\n",
       "      <th>max_floor</th>\n",
       "      <th>street</th>\n",
       "      <th>num_rooms</th>\n",
       "      <th>region</th>\n",
       "      <th>area</th>\n",
       "      <th>url</th>\n",
       "      <th>num_bathrooms</th>\n",
       "      <th>building_type</th>\n",
       "      <th>floor</th>\n",
       "      <th>ceiling_height</th>\n",
       "    </tr>\n",
       "  </thead>\n",
       "  <tbody>\n",
       "    <tr>\n",
       "      <th>0</th>\n",
       "      <td>4598</td>\n",
       "      <td>100000.0</td>\n",
       "      <td>newly repaired</td>\n",
       "      <td>Arabkir</td>\n",
       "      <td>6</td>\n",
       "      <td>Kievyan St</td>\n",
       "      <td>3</td>\n",
       "      <td>Yerevan</td>\n",
       "      <td>96.0</td>\n",
       "      <td>http://www.myrealty.am/en/item/26229/3-senyaka...</td>\n",
       "      <td>1</td>\n",
       "      <td>stone</td>\n",
       "      <td>4</td>\n",
       "      <td>3.0</td>\n",
       "    </tr>\n",
       "    <tr>\n",
       "      <th>1</th>\n",
       "      <td>5940</td>\n",
       "      <td>52000.0</td>\n",
       "      <td>good</td>\n",
       "      <td>Arabkir</td>\n",
       "      <td>14</td>\n",
       "      <td>Mamikoniants St</td>\n",
       "      <td>3</td>\n",
       "      <td>Yerevan</td>\n",
       "      <td>78.0</td>\n",
       "      <td>http://www.myrealty.am/en/item/32897/3-senyaka...</td>\n",
       "      <td>1</td>\n",
       "      <td>panel</td>\n",
       "      <td>10</td>\n",
       "      <td>2.8</td>\n",
       "    </tr>\n",
       "    <tr>\n",
       "      <th>2</th>\n",
       "      <td>2302</td>\n",
       "      <td>52000.0</td>\n",
       "      <td>newly repaired</td>\n",
       "      <td>Qanaqer-Zeytun</td>\n",
       "      <td>9</td>\n",
       "      <td>M. Melikyan St</td>\n",
       "      <td>3</td>\n",
       "      <td>Yerevan</td>\n",
       "      <td>97.0</td>\n",
       "      <td>http://www.myrealty.am/en/item/1459/apartment-...</td>\n",
       "      <td>1</td>\n",
       "      <td>panel</td>\n",
       "      <td>1</td>\n",
       "      <td>2.8</td>\n",
       "    </tr>\n",
       "    <tr>\n",
       "      <th>3</th>\n",
       "      <td>5628</td>\n",
       "      <td>130000.0</td>\n",
       "      <td>good</td>\n",
       "      <td>Center</td>\n",
       "      <td>4</td>\n",
       "      <td>Spendiaryan St</td>\n",
       "      <td>3</td>\n",
       "      <td>Yerevan</td>\n",
       "      <td>80.0</td>\n",
       "      <td>http://www.myrealty.am/en/item/2099/3-senyakan...</td>\n",
       "      <td>1</td>\n",
       "      <td>stone</td>\n",
       "      <td>2</td>\n",
       "      <td>3.2</td>\n",
       "    </tr>\n",
       "    <tr>\n",
       "      <th>4</th>\n",
       "      <td>760</td>\n",
       "      <td>81600.0</td>\n",
       "      <td>zero condition</td>\n",
       "      <td>Center</td>\n",
       "      <td>9</td>\n",
       "      <td>Ler. Kamsar St</td>\n",
       "      <td>3</td>\n",
       "      <td>Yerevan</td>\n",
       "      <td>107.0</td>\n",
       "      <td>http://www.myrealty.am/en/item/22722/3-senyaka...</td>\n",
       "      <td>1</td>\n",
       "      <td>monolit</td>\n",
       "      <td>9</td>\n",
       "      <td>3.0</td>\n",
       "    </tr>\n",
       "  </tbody>\n",
       "</table>\n",
       "</div>"
      ],
      "text/plain": [
       "   Unnamed: 0     price       condition        district  max_floor  \\\n",
       "0        4598  100000.0  newly repaired         Arabkir          6   \n",
       "1        5940   52000.0            good         Arabkir         14   \n",
       "2        2302   52000.0  newly repaired  Qanaqer-Zeytun          9   \n",
       "3        5628  130000.0            good          Center          4   \n",
       "4         760   81600.0  zero condition          Center          9   \n",
       "\n",
       "            street  num_rooms   region   area  \\\n",
       "0       Kievyan St          3  Yerevan   96.0   \n",
       "1  Mamikoniants St          3  Yerevan   78.0   \n",
       "2   M. Melikyan St          3  Yerevan   97.0   \n",
       "3   Spendiaryan St          3  Yerevan   80.0   \n",
       "4   Ler. Kamsar St          3  Yerevan  107.0   \n",
       "\n",
       "                                                 url  num_bathrooms  \\\n",
       "0  http://www.myrealty.am/en/item/26229/3-senyaka...              1   \n",
       "1  http://www.myrealty.am/en/item/32897/3-senyaka...              1   \n",
       "2  http://www.myrealty.am/en/item/1459/apartment-...              1   \n",
       "3  http://www.myrealty.am/en/item/2099/3-senyakan...              1   \n",
       "4  http://www.myrealty.am/en/item/22722/3-senyaka...              1   \n",
       "\n",
       "  building_type  floor  ceiling_height  \n",
       "0         stone      4             3.0  \n",
       "1         panel     10             2.8  \n",
       "2         panel      1             2.8  \n",
       "3         stone      2             3.2  \n",
       "4       monolit      9             3.0  "
      ]
     },
     "execution_count": 3,
     "metadata": {},
     "output_type": "execute_result"
    }
   ],
   "source": [
    "df.head()"
   ]
  },
  {
   "cell_type": "code",
   "execution_count": null,
   "metadata": {},
   "outputs": [],
   "source": []
  },
  {
   "cell_type": "code",
   "execution_count": 4,
   "metadata": {
    "tags": []
   },
   "outputs": [
    {
     "data": {
      "text/plain": [
       "(3,)"
      ]
     },
     "execution_count": 4,
     "metadata": {},
     "output_type": "execute_result"
    }
   ],
   "source": [
    "df['condition'].unique().shape #1"
   ]
  },
  {
   "cell_type": "code",
   "execution_count": 5,
   "metadata": {
    "tags": []
   },
   "outputs": [
    {
     "data": {
      "text/plain": [
       "(13,)"
      ]
     },
     "execution_count": 5,
     "metadata": {},
     "output_type": "execute_result"
    }
   ],
   "source": [
    "df['district'].unique().shape #3"
   ]
  },
  {
   "cell_type": "code",
   "execution_count": 6,
   "metadata": {
    "tags": []
   },
   "outputs": [
    {
     "data": {
      "text/plain": [
       "(350,)"
      ]
     },
     "execution_count": 6,
     "metadata": {},
     "output_type": "execute_result"
    }
   ],
   "source": [
    "df['street'].unique().shape #4"
   ]
  },
  {
   "cell_type": "code",
   "execution_count": 7,
   "metadata": {
    "tags": []
   },
   "outputs": [
    {
     "data": {
      "text/plain": [
       "(1,)"
      ]
     },
     "execution_count": 7,
     "metadata": {},
     "output_type": "execute_result"
    }
   ],
   "source": [
    "df['region'].unique().shape"
   ]
  },
  {
   "cell_type": "code",
   "execution_count": 8,
   "metadata": {
    "tags": []
   },
   "outputs": [
    {
     "data": {
      "text/plain": [
       "(5001,)"
      ]
     },
     "execution_count": 8,
     "metadata": {},
     "output_type": "execute_result"
    }
   ],
   "source": [
    "df['url'].unique().shape"
   ]
  },
  {
   "cell_type": "code",
   "execution_count": 9,
   "metadata": {
    "tags": []
   },
   "outputs": [
    {
     "data": {
      "text/plain": [
       "(4,)"
      ]
     },
     "execution_count": 9,
     "metadata": {},
     "output_type": "execute_result"
    }
   ],
   "source": [
    "df['building_type'].unique().shape #2"
   ]
  },
  {
   "cell_type": "code",
   "execution_count": 10,
   "metadata": {},
   "outputs": [
    {
     "name": "stdout",
     "output_type": "stream",
     "text": [
      "<class 'pandas.core.frame.DataFrame'>\n",
      "RangeIndex: 5001 entries, 0 to 5000\n",
      "Data columns (total 14 columns):\n",
      " #   Column          Non-Null Count  Dtype  \n",
      "---  ------          --------------  -----  \n",
      " 0   Unnamed: 0      5001 non-null   int64  \n",
      " 1   price           5001 non-null   float64\n",
      " 2   condition       5001 non-null   object \n",
      " 3   district        5001 non-null   object \n",
      " 4   max_floor       5001 non-null   int64  \n",
      " 5   street          5001 non-null   object \n",
      " 6   num_rooms       5001 non-null   int64  \n",
      " 7   region          5001 non-null   object \n",
      " 8   area            5001 non-null   float64\n",
      " 9   url             5001 non-null   object \n",
      " 10  num_bathrooms   5001 non-null   int64  \n",
      " 11  building_type   5001 non-null   object \n",
      " 12  floor           5001 non-null   int64  \n",
      " 13  ceiling_height  5001 non-null   float64\n",
      "dtypes: float64(3), int64(5), object(6)\n",
      "memory usage: 547.1+ KB\n"
     ]
    }
   ],
   "source": [
    "df.info()"
   ]
  },
  {
   "cell_type": "code",
   "execution_count": 11,
   "metadata": {
    "tags": []
   },
   "outputs": [
    {
     "data": {
      "text/html": [
       "<div>\n",
       "<style scoped>\n",
       "    .dataframe tbody tr th:only-of-type {\n",
       "        vertical-align: middle;\n",
       "    }\n",
       "\n",
       "    .dataframe tbody tr th {\n",
       "        vertical-align: top;\n",
       "    }\n",
       "\n",
       "    .dataframe thead th {\n",
       "        text-align: right;\n",
       "    }\n",
       "</style>\n",
       "<table border=\"1\" class=\"dataframe\">\n",
       "  <thead>\n",
       "    <tr style=\"text-align: right;\">\n",
       "      <th></th>\n",
       "      <th>Unnamed: 0</th>\n",
       "      <th>condition</th>\n",
       "      <th>district</th>\n",
       "      <th>max_floor</th>\n",
       "      <th>street</th>\n",
       "      <th>num_rooms</th>\n",
       "      <th>region</th>\n",
       "      <th>area</th>\n",
       "      <th>url</th>\n",
       "      <th>num_bathrooms</th>\n",
       "      <th>building_type</th>\n",
       "      <th>floor</th>\n",
       "      <th>ceiling_height</th>\n",
       "    </tr>\n",
       "  </thead>\n",
       "  <tbody>\n",
       "    <tr>\n",
       "      <th>0</th>\n",
       "      <td>4598</td>\n",
       "      <td>newly repaired</td>\n",
       "      <td>Arabkir</td>\n",
       "      <td>6</td>\n",
       "      <td>Kievyan St</td>\n",
       "      <td>3</td>\n",
       "      <td>Yerevan</td>\n",
       "      <td>96.0</td>\n",
       "      <td>http://www.myrealty.am/en/item/26229/3-senyaka...</td>\n",
       "      <td>1</td>\n",
       "      <td>stone</td>\n",
       "      <td>4</td>\n",
       "      <td>3.0</td>\n",
       "    </tr>\n",
       "    <tr>\n",
       "      <th>1</th>\n",
       "      <td>5940</td>\n",
       "      <td>good</td>\n",
       "      <td>Arabkir</td>\n",
       "      <td>14</td>\n",
       "      <td>Mamikoniants St</td>\n",
       "      <td>3</td>\n",
       "      <td>Yerevan</td>\n",
       "      <td>78.0</td>\n",
       "      <td>http://www.myrealty.am/en/item/32897/3-senyaka...</td>\n",
       "      <td>1</td>\n",
       "      <td>panel</td>\n",
       "      <td>10</td>\n",
       "      <td>2.8</td>\n",
       "    </tr>\n",
       "    <tr>\n",
       "      <th>2</th>\n",
       "      <td>2302</td>\n",
       "      <td>newly repaired</td>\n",
       "      <td>Qanaqer-Zeytun</td>\n",
       "      <td>9</td>\n",
       "      <td>M. Melikyan St</td>\n",
       "      <td>3</td>\n",
       "      <td>Yerevan</td>\n",
       "      <td>97.0</td>\n",
       "      <td>http://www.myrealty.am/en/item/1459/apartment-...</td>\n",
       "      <td>1</td>\n",
       "      <td>panel</td>\n",
       "      <td>1</td>\n",
       "      <td>2.8</td>\n",
       "    </tr>\n",
       "    <tr>\n",
       "      <th>3</th>\n",
       "      <td>5628</td>\n",
       "      <td>good</td>\n",
       "      <td>Center</td>\n",
       "      <td>4</td>\n",
       "      <td>Spendiaryan St</td>\n",
       "      <td>3</td>\n",
       "      <td>Yerevan</td>\n",
       "      <td>80.0</td>\n",
       "      <td>http://www.myrealty.am/en/item/2099/3-senyakan...</td>\n",
       "      <td>1</td>\n",
       "      <td>stone</td>\n",
       "      <td>2</td>\n",
       "      <td>3.2</td>\n",
       "    </tr>\n",
       "    <tr>\n",
       "      <th>4</th>\n",
       "      <td>760</td>\n",
       "      <td>zero condition</td>\n",
       "      <td>Center</td>\n",
       "      <td>9</td>\n",
       "      <td>Ler. Kamsar St</td>\n",
       "      <td>3</td>\n",
       "      <td>Yerevan</td>\n",
       "      <td>107.0</td>\n",
       "      <td>http://www.myrealty.am/en/item/22722/3-senyaka...</td>\n",
       "      <td>1</td>\n",
       "      <td>monolit</td>\n",
       "      <td>9</td>\n",
       "      <td>3.0</td>\n",
       "    </tr>\n",
       "    <tr>\n",
       "      <th>...</th>\n",
       "      <td>...</td>\n",
       "      <td>...</td>\n",
       "      <td>...</td>\n",
       "      <td>...</td>\n",
       "      <td>...</td>\n",
       "      <td>...</td>\n",
       "      <td>...</td>\n",
       "      <td>...</td>\n",
       "      <td>...</td>\n",
       "      <td>...</td>\n",
       "      <td>...</td>\n",
       "      <td>...</td>\n",
       "      <td>...</td>\n",
       "    </tr>\n",
       "    <tr>\n",
       "      <th>4996</th>\n",
       "      <td>3585</td>\n",
       "      <td>newly repaired</td>\n",
       "      <td>Arabkir</td>\n",
       "      <td>5</td>\n",
       "      <td>Griboedov St</td>\n",
       "      <td>3</td>\n",
       "      <td>Yerevan</td>\n",
       "      <td>97.0</td>\n",
       "      <td>http://www.myrealty.am/en/item/36852/3-senyaka...</td>\n",
       "      <td>1</td>\n",
       "      <td>stone</td>\n",
       "      <td>4</td>\n",
       "      <td>2.8</td>\n",
       "    </tr>\n",
       "    <tr>\n",
       "      <th>4997</th>\n",
       "      <td>3291</td>\n",
       "      <td>newly repaired</td>\n",
       "      <td>Arabkir</td>\n",
       "      <td>4</td>\n",
       "      <td>Orbeli Yeghbayrner   St</td>\n",
       "      <td>3</td>\n",
       "      <td>Yerevan</td>\n",
       "      <td>71.0</td>\n",
       "      <td>http://www.myrealty.am/en/item/13933/Apartment...</td>\n",
       "      <td>1</td>\n",
       "      <td>stone</td>\n",
       "      <td>4</td>\n",
       "      <td>2.8</td>\n",
       "    </tr>\n",
       "    <tr>\n",
       "      <th>4998</th>\n",
       "      <td>5959</td>\n",
       "      <td>zero condition</td>\n",
       "      <td>Center</td>\n",
       "      <td>5</td>\n",
       "      <td>Mashtots Ave</td>\n",
       "      <td>1</td>\n",
       "      <td>Yerevan</td>\n",
       "      <td>40.0</td>\n",
       "      <td>http://www.myrealty.am/en/item/31190/1-senyaka...</td>\n",
       "      <td>1</td>\n",
       "      <td>stone</td>\n",
       "      <td>2</td>\n",
       "      <td>3.0</td>\n",
       "    </tr>\n",
       "    <tr>\n",
       "      <th>4999</th>\n",
       "      <td>542</td>\n",
       "      <td>newly repaired</td>\n",
       "      <td>Center</td>\n",
       "      <td>14</td>\n",
       "      <td>Argishti St</td>\n",
       "      <td>4</td>\n",
       "      <td>Yerevan</td>\n",
       "      <td>118.0</td>\n",
       "      <td>http://www.myrealty.am/en/item/25905/4-senyaka...</td>\n",
       "      <td>2</td>\n",
       "      <td>monolit</td>\n",
       "      <td>14</td>\n",
       "      <td>3.0</td>\n",
       "    </tr>\n",
       "    <tr>\n",
       "      <th>5000</th>\n",
       "      <td>4593</td>\n",
       "      <td>newly repaired</td>\n",
       "      <td>Arabkir</td>\n",
       "      <td>5</td>\n",
       "      <td>Mamikoniants St</td>\n",
       "      <td>2</td>\n",
       "      <td>Yerevan</td>\n",
       "      <td>75.0</td>\n",
       "      <td>http://www.myrealty.am/en/item/28917/2-senyaka...</td>\n",
       "      <td>1</td>\n",
       "      <td>stone</td>\n",
       "      <td>3</td>\n",
       "      <td>3.0</td>\n",
       "    </tr>\n",
       "  </tbody>\n",
       "</table>\n",
       "<p>5001 rows × 13 columns</p>\n",
       "</div>"
      ],
      "text/plain": [
       "      Unnamed: 0       condition        district  max_floor  \\\n",
       "0           4598  newly repaired         Arabkir          6   \n",
       "1           5940            good         Arabkir         14   \n",
       "2           2302  newly repaired  Qanaqer-Zeytun          9   \n",
       "3           5628            good          Center          4   \n",
       "4            760  zero condition          Center          9   \n",
       "...          ...             ...             ...        ...   \n",
       "4996        3585  newly repaired         Arabkir          5   \n",
       "4997        3291  newly repaired         Arabkir          4   \n",
       "4998        5959  zero condition          Center          5   \n",
       "4999         542  newly repaired          Center         14   \n",
       "5000        4593  newly repaired         Arabkir          5   \n",
       "\n",
       "                       street  num_rooms   region   area  \\\n",
       "0                  Kievyan St          3  Yerevan   96.0   \n",
       "1             Mamikoniants St          3  Yerevan   78.0   \n",
       "2              M. Melikyan St          3  Yerevan   97.0   \n",
       "3              Spendiaryan St          3  Yerevan   80.0   \n",
       "4              Ler. Kamsar St          3  Yerevan  107.0   \n",
       "...                       ...        ...      ...    ...   \n",
       "4996             Griboedov St          3  Yerevan   97.0   \n",
       "4997  Orbeli Yeghbayrner   St          3  Yerevan   71.0   \n",
       "4998             Mashtots Ave          1  Yerevan   40.0   \n",
       "4999              Argishti St          4  Yerevan  118.0   \n",
       "5000          Mamikoniants St          2  Yerevan   75.0   \n",
       "\n",
       "                                                    url  num_bathrooms  \\\n",
       "0     http://www.myrealty.am/en/item/26229/3-senyaka...              1   \n",
       "1     http://www.myrealty.am/en/item/32897/3-senyaka...              1   \n",
       "2     http://www.myrealty.am/en/item/1459/apartment-...              1   \n",
       "3     http://www.myrealty.am/en/item/2099/3-senyakan...              1   \n",
       "4     http://www.myrealty.am/en/item/22722/3-senyaka...              1   \n",
       "...                                                 ...            ...   \n",
       "4996  http://www.myrealty.am/en/item/36852/3-senyaka...              1   \n",
       "4997  http://www.myrealty.am/en/item/13933/Apartment...              1   \n",
       "4998  http://www.myrealty.am/en/item/31190/1-senyaka...              1   \n",
       "4999  http://www.myrealty.am/en/item/25905/4-senyaka...              2   \n",
       "5000  http://www.myrealty.am/en/item/28917/2-senyaka...              1   \n",
       "\n",
       "     building_type  floor  ceiling_height  \n",
       "0            stone      4             3.0  \n",
       "1            panel     10             2.8  \n",
       "2            panel      1             2.8  \n",
       "3            stone      2             3.2  \n",
       "4          monolit      9             3.0  \n",
       "...            ...    ...             ...  \n",
       "4996         stone      4             2.8  \n",
       "4997         stone      4             2.8  \n",
       "4998         stone      2             3.0  \n",
       "4999       monolit     14             3.0  \n",
       "5000         stone      3             3.0  \n",
       "\n",
       "[5001 rows x 13 columns]"
      ]
     },
     "execution_count": 11,
     "metadata": {},
     "output_type": "execute_result"
    }
   ],
   "source": [
    "X = df.drop(['price'], axis = 1)\n",
    "y = df.loc[:, df.columns == \"price\"]\n",
    "X"
   ]
  },
  {
   "cell_type": "code",
   "execution_count": 12,
   "metadata": {
    "tags": []
   },
   "outputs": [],
   "source": [
    "X_train, X_test, y_train, y_test = train_test_split(X, y, test_size=0.2, shuffle=True, random_state=1234 )"
   ]
  },
  {
   "cell_type": "code",
   "execution_count": 13,
   "metadata": {
    "tags": []
   },
   "outputs": [
    {
     "data": {
      "text/html": [
       "<div>\n",
       "<style scoped>\n",
       "    .dataframe tbody tr th:only-of-type {\n",
       "        vertical-align: middle;\n",
       "    }\n",
       "\n",
       "    .dataframe tbody tr th {\n",
       "        vertical-align: top;\n",
       "    }\n",
       "\n",
       "    .dataframe thead th {\n",
       "        text-align: right;\n",
       "    }\n",
       "</style>\n",
       "<table border=\"1\" class=\"dataframe\">\n",
       "  <thead>\n",
       "    <tr style=\"text-align: right;\">\n",
       "      <th></th>\n",
       "      <th>Unnamed: 0</th>\n",
       "      <th>condition</th>\n",
       "      <th>district</th>\n",
       "      <th>max_floor</th>\n",
       "      <th>street</th>\n",
       "      <th>num_rooms</th>\n",
       "      <th>region</th>\n",
       "      <th>area</th>\n",
       "      <th>url</th>\n",
       "      <th>num_bathrooms</th>\n",
       "      <th>building_type</th>\n",
       "      <th>floor</th>\n",
       "      <th>ceiling_height</th>\n",
       "    </tr>\n",
       "  </thead>\n",
       "  <tbody>\n",
       "    <tr>\n",
       "      <th>894</th>\n",
       "      <td>5482</td>\n",
       "      <td>good</td>\n",
       "      <td>Arabkir</td>\n",
       "      <td>5</td>\n",
       "      <td>V.Papazyan St</td>\n",
       "      <td>3</td>\n",
       "      <td>Yerevan</td>\n",
       "      <td>80.0</td>\n",
       "      <td>http://www.myrealty.am/en/item/34245/3-senyaka...</td>\n",
       "      <td>1</td>\n",
       "      <td>stone</td>\n",
       "      <td>4</td>\n",
       "      <td>2.8</td>\n",
       "    </tr>\n",
       "    <tr>\n",
       "      <th>2322</th>\n",
       "      <td>6565</td>\n",
       "      <td>good</td>\n",
       "      <td>Center</td>\n",
       "      <td>4</td>\n",
       "      <td>Leo St</td>\n",
       "      <td>3</td>\n",
       "      <td>Yerevan</td>\n",
       "      <td>97.0</td>\n",
       "      <td>http://www.myrealty.am/en/item/21554/3-senyaka...</td>\n",
       "      <td>2</td>\n",
       "      <td>stone</td>\n",
       "      <td>3</td>\n",
       "      <td>3.2</td>\n",
       "    </tr>\n",
       "    <tr>\n",
       "      <th>4592</th>\n",
       "      <td>3592</td>\n",
       "      <td>newly repaired</td>\n",
       "      <td>Arabkir</td>\n",
       "      <td>12</td>\n",
       "      <td>Komitas Ave</td>\n",
       "      <td>2</td>\n",
       "      <td>Yerevan</td>\n",
       "      <td>80.0</td>\n",
       "      <td>http://www.myrealty.am/en/item/36588/2-senyaka...</td>\n",
       "      <td>1</td>\n",
       "      <td>panel</td>\n",
       "      <td>2</td>\n",
       "      <td>2.8</td>\n",
       "    </tr>\n",
       "    <tr>\n",
       "      <th>3711</th>\n",
       "      <td>1841</td>\n",
       "      <td>newly repaired</td>\n",
       "      <td>Center</td>\n",
       "      <td>5</td>\n",
       "      <td>Tumanyan St</td>\n",
       "      <td>2</td>\n",
       "      <td>Yerevan</td>\n",
       "      <td>65.0</td>\n",
       "      <td>http://www.myrealty.am/en/item/34959/2-senyaka...</td>\n",
       "      <td>1</td>\n",
       "      <td>stone</td>\n",
       "      <td>2</td>\n",
       "      <td>3.0</td>\n",
       "    </tr>\n",
       "    <tr>\n",
       "      <th>4130</th>\n",
       "      <td>3146</td>\n",
       "      <td>newly repaired</td>\n",
       "      <td>Qanaqer-Zeytun</td>\n",
       "      <td>9</td>\n",
       "      <td>Lepsus St</td>\n",
       "      <td>3</td>\n",
       "      <td>Yerevan</td>\n",
       "      <td>78.0</td>\n",
       "      <td>http://www.myrealty.am/en/item/19048/3-senyaka...</td>\n",
       "      <td>1</td>\n",
       "      <td>panel</td>\n",
       "      <td>6</td>\n",
       "      <td>3.0</td>\n",
       "    </tr>\n",
       "  </tbody>\n",
       "</table>\n",
       "</div>"
      ],
      "text/plain": [
       "      Unnamed: 0       condition        district  max_floor         street  \\\n",
       "894         5482            good         Arabkir          5  V.Papazyan St   \n",
       "2322        6565            good          Center          4         Leo St   \n",
       "4592        3592  newly repaired         Arabkir         12    Komitas Ave   \n",
       "3711        1841  newly repaired          Center          5    Tumanyan St   \n",
       "4130        3146  newly repaired  Qanaqer-Zeytun          9      Lepsus St   \n",
       "\n",
       "      num_rooms   region  area  \\\n",
       "894           3  Yerevan  80.0   \n",
       "2322          3  Yerevan  97.0   \n",
       "4592          2  Yerevan  80.0   \n",
       "3711          2  Yerevan  65.0   \n",
       "4130          3  Yerevan  78.0   \n",
       "\n",
       "                                                    url  num_bathrooms  \\\n",
       "894   http://www.myrealty.am/en/item/34245/3-senyaka...              1   \n",
       "2322  http://www.myrealty.am/en/item/21554/3-senyaka...              2   \n",
       "4592  http://www.myrealty.am/en/item/36588/2-senyaka...              1   \n",
       "3711  http://www.myrealty.am/en/item/34959/2-senyaka...              1   \n",
       "4130  http://www.myrealty.am/en/item/19048/3-senyaka...              1   \n",
       "\n",
       "     building_type  floor  ceiling_height  \n",
       "894          stone      4             2.8  \n",
       "2322         stone      3             3.2  \n",
       "4592         panel      2             2.8  \n",
       "3711         stone      2             3.0  \n",
       "4130         panel      6             3.0  "
      ]
     },
     "execution_count": 13,
     "metadata": {},
     "output_type": "execute_result"
    }
   ],
   "source": [
    "X_train.head()"
   ]
  },
  {
   "cell_type": "code",
   "execution_count": 14,
   "metadata": {
    "tags": []
   },
   "outputs": [
    {
     "data": {
      "text/html": [
       "<div>\n",
       "<style scoped>\n",
       "    .dataframe tbody tr th:only-of-type {\n",
       "        vertical-align: middle;\n",
       "    }\n",
       "\n",
       "    .dataframe tbody tr th {\n",
       "        vertical-align: top;\n",
       "    }\n",
       "\n",
       "    .dataframe thead th {\n",
       "        text-align: right;\n",
       "    }\n",
       "</style>\n",
       "<table border=\"1\" class=\"dataframe\">\n",
       "  <thead>\n",
       "    <tr style=\"text-align: right;\">\n",
       "      <th></th>\n",
       "      <th>Unnamed: 0</th>\n",
       "      <th>max_floor</th>\n",
       "      <th>num_rooms</th>\n",
       "      <th>area</th>\n",
       "      <th>num_bathrooms</th>\n",
       "      <th>floor</th>\n",
       "      <th>ceiling_height</th>\n",
       "    </tr>\n",
       "  </thead>\n",
       "  <tbody>\n",
       "    <tr>\n",
       "      <th>894</th>\n",
       "      <td>5482</td>\n",
       "      <td>5</td>\n",
       "      <td>3</td>\n",
       "      <td>80.0</td>\n",
       "      <td>1</td>\n",
       "      <td>4</td>\n",
       "      <td>2.8</td>\n",
       "    </tr>\n",
       "    <tr>\n",
       "      <th>2322</th>\n",
       "      <td>6565</td>\n",
       "      <td>4</td>\n",
       "      <td>3</td>\n",
       "      <td>97.0</td>\n",
       "      <td>2</td>\n",
       "      <td>3</td>\n",
       "      <td>3.2</td>\n",
       "    </tr>\n",
       "    <tr>\n",
       "      <th>4592</th>\n",
       "      <td>3592</td>\n",
       "      <td>12</td>\n",
       "      <td>2</td>\n",
       "      <td>80.0</td>\n",
       "      <td>1</td>\n",
       "      <td>2</td>\n",
       "      <td>2.8</td>\n",
       "    </tr>\n",
       "    <tr>\n",
       "      <th>3711</th>\n",
       "      <td>1841</td>\n",
       "      <td>5</td>\n",
       "      <td>2</td>\n",
       "      <td>65.0</td>\n",
       "      <td>1</td>\n",
       "      <td>2</td>\n",
       "      <td>3.0</td>\n",
       "    </tr>\n",
       "    <tr>\n",
       "      <th>4130</th>\n",
       "      <td>3146</td>\n",
       "      <td>9</td>\n",
       "      <td>3</td>\n",
       "      <td>78.0</td>\n",
       "      <td>1</td>\n",
       "      <td>6</td>\n",
       "      <td>3.0</td>\n",
       "    </tr>\n",
       "  </tbody>\n",
       "</table>\n",
       "</div>"
      ],
      "text/plain": [
       "      Unnamed: 0  max_floor  num_rooms  area  num_bathrooms  floor  \\\n",
       "894         5482          5          3  80.0              1      4   \n",
       "2322        6565          4          3  97.0              2      3   \n",
       "4592        3592         12          2  80.0              1      2   \n",
       "3711        1841          5          2  65.0              1      2   \n",
       "4130        3146          9          3  78.0              1      6   \n",
       "\n",
       "      ceiling_height  \n",
       "894              2.8  \n",
       "2322             3.2  \n",
       "4592             2.8  \n",
       "3711             3.0  \n",
       "4130             3.0  "
      ]
     },
     "execution_count": 14,
     "metadata": {},
     "output_type": "execute_result"
    }
   ],
   "source": [
    "X_train_num = X_train.select_dtypes(exclude=['object'])\n",
    "X_test_num = X_test.select_dtypes(exclude=['object'])\n",
    "X_train_num.head()"
   ]
  },
  {
   "cell_type": "code",
   "execution_count": 15,
   "metadata": {
    "tags": []
   },
   "outputs": [
    {
     "data": {
      "text/html": [
       "<div>\n",
       "<style scoped>\n",
       "    .dataframe tbody tr th:only-of-type {\n",
       "        vertical-align: middle;\n",
       "    }\n",
       "\n",
       "    .dataframe tbody tr th {\n",
       "        vertical-align: top;\n",
       "    }\n",
       "\n",
       "    .dataframe thead th {\n",
       "        text-align: right;\n",
       "    }\n",
       "</style>\n",
       "<table border=\"1\" class=\"dataframe\">\n",
       "  <thead>\n",
       "    <tr style=\"text-align: right;\">\n",
       "      <th></th>\n",
       "      <th>Unnamed: 0</th>\n",
       "      <th>max_floor</th>\n",
       "      <th>num_rooms</th>\n",
       "      <th>area</th>\n",
       "      <th>num_bathrooms</th>\n",
       "      <th>floor</th>\n",
       "      <th>ceiling_height</th>\n",
       "    </tr>\n",
       "  </thead>\n",
       "  <tbody>\n",
       "    <tr>\n",
       "      <th>Unnamed: 0</th>\n",
       "      <td>1.000000</td>\n",
       "      <td>0.010424</td>\n",
       "      <td>0.060610</td>\n",
       "      <td>0.023548</td>\n",
       "      <td>0.042754</td>\n",
       "      <td>-0.008888</td>\n",
       "      <td>0.036236</td>\n",
       "    </tr>\n",
       "    <tr>\n",
       "      <th>max_floor</th>\n",
       "      <td>0.010424</td>\n",
       "      <td>1.000000</td>\n",
       "      <td>0.037436</td>\n",
       "      <td>0.158072</td>\n",
       "      <td>0.103681</td>\n",
       "      <td>0.631435</td>\n",
       "      <td>-0.057251</td>\n",
       "    </tr>\n",
       "    <tr>\n",
       "      <th>num_rooms</th>\n",
       "      <td>0.060610</td>\n",
       "      <td>0.037436</td>\n",
       "      <td>1.000000</td>\n",
       "      <td>0.748989</td>\n",
       "      <td>0.270376</td>\n",
       "      <td>0.053953</td>\n",
       "      <td>0.062985</td>\n",
       "    </tr>\n",
       "    <tr>\n",
       "      <th>area</th>\n",
       "      <td>0.023548</td>\n",
       "      <td>0.158072</td>\n",
       "      <td>0.748989</td>\n",
       "      <td>1.000000</td>\n",
       "      <td>0.415477</td>\n",
       "      <td>0.106946</td>\n",
       "      <td>0.190076</td>\n",
       "    </tr>\n",
       "    <tr>\n",
       "      <th>num_bathrooms</th>\n",
       "      <td>0.042754</td>\n",
       "      <td>0.103681</td>\n",
       "      <td>0.270376</td>\n",
       "      <td>0.415477</td>\n",
       "      <td>1.000000</td>\n",
       "      <td>0.056590</td>\n",
       "      <td>0.207212</td>\n",
       "    </tr>\n",
       "    <tr>\n",
       "      <th>floor</th>\n",
       "      <td>-0.008888</td>\n",
       "      <td>0.631435</td>\n",
       "      <td>0.053953</td>\n",
       "      <td>0.106946</td>\n",
       "      <td>0.056590</td>\n",
       "      <td>1.000000</td>\n",
       "      <td>-0.045996</td>\n",
       "    </tr>\n",
       "    <tr>\n",
       "      <th>ceiling_height</th>\n",
       "      <td>0.036236</td>\n",
       "      <td>-0.057251</td>\n",
       "      <td>0.062985</td>\n",
       "      <td>0.190076</td>\n",
       "      <td>0.207212</td>\n",
       "      <td>-0.045996</td>\n",
       "      <td>1.000000</td>\n",
       "    </tr>\n",
       "  </tbody>\n",
       "</table>\n",
       "</div>"
      ],
      "text/plain": [
       "                Unnamed: 0  max_floor  num_rooms      area  num_bathrooms  \\\n",
       "Unnamed: 0        1.000000   0.010424   0.060610  0.023548       0.042754   \n",
       "max_floor         0.010424   1.000000   0.037436  0.158072       0.103681   \n",
       "num_rooms         0.060610   0.037436   1.000000  0.748989       0.270376   \n",
       "area              0.023548   0.158072   0.748989  1.000000       0.415477   \n",
       "num_bathrooms     0.042754   0.103681   0.270376  0.415477       1.000000   \n",
       "floor            -0.008888   0.631435   0.053953  0.106946       0.056590   \n",
       "ceiling_height    0.036236  -0.057251   0.062985  0.190076       0.207212   \n",
       "\n",
       "                   floor  ceiling_height  \n",
       "Unnamed: 0     -0.008888        0.036236  \n",
       "max_floor       0.631435       -0.057251  \n",
       "num_rooms       0.053953        0.062985  \n",
       "area            0.106946        0.190076  \n",
       "num_bathrooms   0.056590        0.207212  \n",
       "floor           1.000000       -0.045996  \n",
       "ceiling_height -0.045996        1.000000  "
      ]
     },
     "execution_count": 15,
     "metadata": {},
     "output_type": "execute_result"
    }
   ],
   "source": [
    "X_train_num.corr()"
   ]
  },
  {
   "cell_type": "code",
   "execution_count": 16,
   "metadata": {
    "tags": []
   },
   "outputs": [],
   "source": [
    "deg = 3\n",
    "poly = PolynomialFeatures(degree = deg, include_bias=False)\n",
    "X_train_Poly = poly.fit_transform(X_train_num)\n",
    "X_test_Poly = poly.fit_transform(X_test_num)\n"
   ]
  },
  {
   "cell_type": "code",
   "execution_count": 17,
   "metadata": {
    "tags": []
   },
   "outputs": [
    {
     "name": "stdout",
     "output_type": "stream",
     "text": [
      "n of columns of target_feature_names_train 170543\n"
     ]
    }
   ],
   "source": [
    "target_feature_names_train = ['x'.join(['{}^{}'.format(pair[0],pair[1]) for pair in tuple if pair[1]!=0]) for tuple in [zip(X_train_num.columns,p) for p in poly.powers_]]\n",
    "print('n of columns of target_feature_names_train', len(target_feature_names_train))\n",
    "X_train_Poly = pd.DataFrame(X_train_Poly, columns = target_feature_names_train)"
   ]
  },
  {
   "cell_type": "code",
   "execution_count": 18,
   "metadata": {
    "tags": []
   },
   "outputs": [
    {
     "name": "stdout",
     "output_type": "stream",
     "text": [
      "n of columns of target_feature_names_test 170543\n"
     ]
    }
   ],
   "source": [
    "target_feature_names_test = ['x'.join(['{}^{}'.format(pair[0],pair[1]) for pair in tuple if pair[1]!=0]) for tuple in [zip(X_test_num.columns,p) for p in poly.powers_]]\n",
    "print('n of columns of target_feature_names_test', len(target_feature_names_test))\n",
    "X_test_Poly = pd.DataFrame(X_test_Poly, columns = target_feature_names_test)"
   ]
  },
  {
   "cell_type": "code",
   "execution_count": 19,
   "metadata": {
    "tags": []
   },
   "outputs": [
    {
     "data": {
      "text/html": [
       "<div>\n",
       "<style scoped>\n",
       "    .dataframe tbody tr th:only-of-type {\n",
       "        vertical-align: middle;\n",
       "    }\n",
       "\n",
       "    .dataframe tbody tr th {\n",
       "        vertical-align: top;\n",
       "    }\n",
       "\n",
       "    .dataframe thead th {\n",
       "        text-align: right;\n",
       "    }\n",
       "</style>\n",
       "<table border=\"1\" class=\"dataframe\">\n",
       "  <thead>\n",
       "    <tr style=\"text-align: right;\">\n",
       "      <th></th>\n",
       "      <th>Unnamed: 0^1</th>\n",
       "      <th>max_floor^1</th>\n",
       "      <th>num_rooms^1</th>\n",
       "      <th>area^1</th>\n",
       "      <th>num_bathrooms^1</th>\n",
       "      <th>floor^1</th>\n",
       "      <th>ceiling_height^1</th>\n",
       "      <th>Unnamed: 0^2</th>\n",
       "      <th>Unnamed: 0^1xmax_floor^1</th>\n",
       "      <th>Unnamed: 0^1xnum_rooms^1</th>\n",
       "      <th>...</th>\n",
       "      <th>floor^9xceiling_height^6</th>\n",
       "      <th>floor^8xceiling_height^7</th>\n",
       "      <th>floor^7xceiling_height^8</th>\n",
       "      <th>floor^6xceiling_height^9</th>\n",
       "      <th>floor^5xceiling_height^10</th>\n",
       "      <th>floor^4xceiling_height^11</th>\n",
       "      <th>floor^3xceiling_height^12</th>\n",
       "      <th>floor^2xceiling_height^13</th>\n",
       "      <th>floor^1xceiling_height^14</th>\n",
       "      <th>ceiling_height^15</th>\n",
       "    </tr>\n",
       "  </thead>\n",
       "  <tbody>\n",
       "    <tr>\n",
       "      <th>0</th>\n",
       "      <td>5482.0</td>\n",
       "      <td>5.0</td>\n",
       "      <td>3.0</td>\n",
       "      <td>80.0</td>\n",
       "      <td>1.0</td>\n",
       "      <td>4.0</td>\n",
       "      <td>2.8</td>\n",
       "      <td>30052324.0</td>\n",
       "      <td>27410.0</td>\n",
       "      <td>16446.0</td>\n",
       "      <td>...</td>\n",
       "      <td>1.263247e+08</td>\n",
       "      <td>8.842726e+07</td>\n",
       "      <td>6.189908e+07</td>\n",
       "      <td>4.332936e+07</td>\n",
       "      <td>3.033055e+07</td>\n",
       "      <td>2.123138e+07</td>\n",
       "      <td>1.486197e+07</td>\n",
       "      <td>1.040338e+07</td>\n",
       "      <td>7.282365e+06</td>\n",
       "      <td>5.097655e+06</td>\n",
       "    </tr>\n",
       "    <tr>\n",
       "      <th>1</th>\n",
       "      <td>6565.0</td>\n",
       "      <td>4.0</td>\n",
       "      <td>3.0</td>\n",
       "      <td>97.0</td>\n",
       "      <td>2.0</td>\n",
       "      <td>3.0</td>\n",
       "      <td>3.2</td>\n",
       "      <td>43099225.0</td>\n",
       "      <td>26260.0</td>\n",
       "      <td>19695.0</td>\n",
       "      <td>...</td>\n",
       "      <td>2.113446e+07</td>\n",
       "      <td>2.254342e+07</td>\n",
       "      <td>2.404632e+07</td>\n",
       "      <td>2.564941e+07</td>\n",
       "      <td>2.735937e+07</td>\n",
       "      <td>2.918333e+07</td>\n",
       "      <td>3.112888e+07</td>\n",
       "      <td>3.320414e+07</td>\n",
       "      <td>3.541775e+07</td>\n",
       "      <td>3.777893e+07</td>\n",
       "    </tr>\n",
       "    <tr>\n",
       "      <th>2</th>\n",
       "      <td>3592.0</td>\n",
       "      <td>12.0</td>\n",
       "      <td>2.0</td>\n",
       "      <td>80.0</td>\n",
       "      <td>1.0</td>\n",
       "      <td>2.0</td>\n",
       "      <td>2.8</td>\n",
       "      <td>12902464.0</td>\n",
       "      <td>43104.0</td>\n",
       "      <td>7184.0</td>\n",
       "      <td>...</td>\n",
       "      <td>2.467278e+05</td>\n",
       "      <td>3.454190e+05</td>\n",
       "      <td>4.835866e+05</td>\n",
       "      <td>6.770212e+05</td>\n",
       "      <td>9.478297e+05</td>\n",
       "      <td>1.326962e+06</td>\n",
       "      <td>1.857746e+06</td>\n",
       "      <td>2.600845e+06</td>\n",
       "      <td>3.641182e+06</td>\n",
       "      <td>5.097655e+06</td>\n",
       "    </tr>\n",
       "    <tr>\n",
       "      <th>3</th>\n",
       "      <td>1841.0</td>\n",
       "      <td>5.0</td>\n",
       "      <td>2.0</td>\n",
       "      <td>65.0</td>\n",
       "      <td>1.0</td>\n",
       "      <td>2.0</td>\n",
       "      <td>3.0</td>\n",
       "      <td>3389281.0</td>\n",
       "      <td>9205.0</td>\n",
       "      <td>3682.0</td>\n",
       "      <td>...</td>\n",
       "      <td>3.732480e+05</td>\n",
       "      <td>5.598720e+05</td>\n",
       "      <td>8.398080e+05</td>\n",
       "      <td>1.259712e+06</td>\n",
       "      <td>1.889568e+06</td>\n",
       "      <td>2.834352e+06</td>\n",
       "      <td>4.251528e+06</td>\n",
       "      <td>6.377292e+06</td>\n",
       "      <td>9.565938e+06</td>\n",
       "      <td>1.434891e+07</td>\n",
       "    </tr>\n",
       "    <tr>\n",
       "      <th>4</th>\n",
       "      <td>3146.0</td>\n",
       "      <td>9.0</td>\n",
       "      <td>3.0</td>\n",
       "      <td>78.0</td>\n",
       "      <td>1.0</td>\n",
       "      <td>6.0</td>\n",
       "      <td>3.0</td>\n",
       "      <td>9897316.0</td>\n",
       "      <td>28314.0</td>\n",
       "      <td>9438.0</td>\n",
       "      <td>...</td>\n",
       "      <td>7.346640e+09</td>\n",
       "      <td>3.673320e+09</td>\n",
       "      <td>1.836660e+09</td>\n",
       "      <td>9.183300e+08</td>\n",
       "      <td>4.591650e+08</td>\n",
       "      <td>2.295825e+08</td>\n",
       "      <td>1.147913e+08</td>\n",
       "      <td>5.739563e+07</td>\n",
       "      <td>2.869781e+07</td>\n",
       "      <td>1.434891e+07</td>\n",
       "    </tr>\n",
       "  </tbody>\n",
       "</table>\n",
       "<p>5 rows × 170543 columns</p>\n",
       "</div>"
      ],
      "text/plain": [
       "   Unnamed: 0^1  max_floor^1  num_rooms^1  area^1  num_bathrooms^1  floor^1  \\\n",
       "0        5482.0          5.0          3.0    80.0              1.0      4.0   \n",
       "1        6565.0          4.0          3.0    97.0              2.0      3.0   \n",
       "2        3592.0         12.0          2.0    80.0              1.0      2.0   \n",
       "3        1841.0          5.0          2.0    65.0              1.0      2.0   \n",
       "4        3146.0          9.0          3.0    78.0              1.0      6.0   \n",
       "\n",
       "   ceiling_height^1  Unnamed: 0^2  Unnamed: 0^1xmax_floor^1  \\\n",
       "0               2.8    30052324.0                   27410.0   \n",
       "1               3.2    43099225.0                   26260.0   \n",
       "2               2.8    12902464.0                   43104.0   \n",
       "3               3.0     3389281.0                    9205.0   \n",
       "4               3.0     9897316.0                   28314.0   \n",
       "\n",
       "   Unnamed: 0^1xnum_rooms^1  ...  floor^9xceiling_height^6  \\\n",
       "0                   16446.0  ...              1.263247e+08   \n",
       "1                   19695.0  ...              2.113446e+07   \n",
       "2                    7184.0  ...              2.467278e+05   \n",
       "3                    3682.0  ...              3.732480e+05   \n",
       "4                    9438.0  ...              7.346640e+09   \n",
       "\n",
       "   floor^8xceiling_height^7  floor^7xceiling_height^8  \\\n",
       "0              8.842726e+07              6.189908e+07   \n",
       "1              2.254342e+07              2.404632e+07   \n",
       "2              3.454190e+05              4.835866e+05   \n",
       "3              5.598720e+05              8.398080e+05   \n",
       "4              3.673320e+09              1.836660e+09   \n",
       "\n",
       "   floor^6xceiling_height^9  floor^5xceiling_height^10  \\\n",
       "0              4.332936e+07               3.033055e+07   \n",
       "1              2.564941e+07               2.735937e+07   \n",
       "2              6.770212e+05               9.478297e+05   \n",
       "3              1.259712e+06               1.889568e+06   \n",
       "4              9.183300e+08               4.591650e+08   \n",
       "\n",
       "   floor^4xceiling_height^11  floor^3xceiling_height^12  \\\n",
       "0               2.123138e+07               1.486197e+07   \n",
       "1               2.918333e+07               3.112888e+07   \n",
       "2               1.326962e+06               1.857746e+06   \n",
       "3               2.834352e+06               4.251528e+06   \n",
       "4               2.295825e+08               1.147913e+08   \n",
       "\n",
       "   floor^2xceiling_height^13  floor^1xceiling_height^14  ceiling_height^15  \n",
       "0               1.040338e+07               7.282365e+06       5.097655e+06  \n",
       "1               3.320414e+07               3.541775e+07       3.777893e+07  \n",
       "2               2.600845e+06               3.641182e+06       5.097655e+06  \n",
       "3               6.377292e+06               9.565938e+06       1.434891e+07  \n",
       "4               5.739563e+07               2.869781e+07       1.434891e+07  \n",
       "\n",
       "[5 rows x 170543 columns]"
      ]
     },
     "execution_count": 19,
     "metadata": {},
     "output_type": "execute_result"
    }
   ],
   "source": [
    "X_train_Poly.head()"
   ]
  },
  {
   "cell_type": "code",
   "execution_count": 20,
   "metadata": {
    "tags": []
   },
   "outputs": [],
   "source": [
    "X_train_Poly['condition'] = X_train['condition']\n",
    "X_train_Poly['building_type'] = X_train['building_type']\n",
    "X_train_Poly['district'] = X_train['district']\n",
    "X_train_Poly['street'] = X_train['street']\n",
    "\n",
    "# X.columns"
   ]
  },
  {
   "cell_type": "code",
   "execution_count": 21,
   "metadata": {
    "tags": []
   },
   "outputs": [
    {
     "data": {
      "text/html": [
       "<div>\n",
       "<style scoped>\n",
       "    .dataframe tbody tr th:only-of-type {\n",
       "        vertical-align: middle;\n",
       "    }\n",
       "\n",
       "    .dataframe tbody tr th {\n",
       "        vertical-align: top;\n",
       "    }\n",
       "\n",
       "    .dataframe thead th {\n",
       "        text-align: right;\n",
       "    }\n",
       "</style>\n",
       "<table border=\"1\" class=\"dataframe\">\n",
       "  <thead>\n",
       "    <tr style=\"text-align: right;\">\n",
       "      <th></th>\n",
       "      <th>Unnamed: 0^1</th>\n",
       "      <th>max_floor^1</th>\n",
       "      <th>num_rooms^1</th>\n",
       "      <th>area^1</th>\n",
       "      <th>num_bathrooms^1</th>\n",
       "      <th>floor^1</th>\n",
       "      <th>ceiling_height^1</th>\n",
       "      <th>Unnamed: 0^2</th>\n",
       "      <th>Unnamed: 0^1xmax_floor^1</th>\n",
       "      <th>Unnamed: 0^1xnum_rooms^1</th>\n",
       "      <th>...</th>\n",
       "      <th>district_Avan</th>\n",
       "      <th>district_Center</th>\n",
       "      <th>district_Davtashen</th>\n",
       "      <th>district_Erebuni</th>\n",
       "      <th>district_Malatia-Sebastia</th>\n",
       "      <th>district_Nor Norq</th>\n",
       "      <th>district_Norq Marash</th>\n",
       "      <th>district_Qanaqer-Zeytun</th>\n",
       "      <th>district_Shengavit</th>\n",
       "      <th>district_Vahagni district</th>\n",
       "    </tr>\n",
       "  </thead>\n",
       "  <tbody>\n",
       "    <tr>\n",
       "      <th>0</th>\n",
       "      <td>5482.0</td>\n",
       "      <td>5.0</td>\n",
       "      <td>3.0</td>\n",
       "      <td>80.0</td>\n",
       "      <td>1.0</td>\n",
       "      <td>4.0</td>\n",
       "      <td>2.8</td>\n",
       "      <td>30052324.0</td>\n",
       "      <td>27410.0</td>\n",
       "      <td>16446.0</td>\n",
       "      <td>...</td>\n",
       "      <td>0</td>\n",
       "      <td>0</td>\n",
       "      <td>0</td>\n",
       "      <td>0</td>\n",
       "      <td>0</td>\n",
       "      <td>0</td>\n",
       "      <td>0</td>\n",
       "      <td>0</td>\n",
       "      <td>0</td>\n",
       "      <td>0</td>\n",
       "    </tr>\n",
       "    <tr>\n",
       "      <th>1</th>\n",
       "      <td>6565.0</td>\n",
       "      <td>4.0</td>\n",
       "      <td>3.0</td>\n",
       "      <td>97.0</td>\n",
       "      <td>2.0</td>\n",
       "      <td>3.0</td>\n",
       "      <td>3.2</td>\n",
       "      <td>43099225.0</td>\n",
       "      <td>26260.0</td>\n",
       "      <td>19695.0</td>\n",
       "      <td>...</td>\n",
       "      <td>0</td>\n",
       "      <td>0</td>\n",
       "      <td>0</td>\n",
       "      <td>0</td>\n",
       "      <td>0</td>\n",
       "      <td>0</td>\n",
       "      <td>0</td>\n",
       "      <td>0</td>\n",
       "      <td>0</td>\n",
       "      <td>0</td>\n",
       "    </tr>\n",
       "    <tr>\n",
       "      <th>2</th>\n",
       "      <td>3592.0</td>\n",
       "      <td>12.0</td>\n",
       "      <td>2.0</td>\n",
       "      <td>80.0</td>\n",
       "      <td>1.0</td>\n",
       "      <td>2.0</td>\n",
       "      <td>2.8</td>\n",
       "      <td>12902464.0</td>\n",
       "      <td>43104.0</td>\n",
       "      <td>7184.0</td>\n",
       "      <td>...</td>\n",
       "      <td>0</td>\n",
       "      <td>0</td>\n",
       "      <td>0</td>\n",
       "      <td>0</td>\n",
       "      <td>0</td>\n",
       "      <td>0</td>\n",
       "      <td>0</td>\n",
       "      <td>1</td>\n",
       "      <td>0</td>\n",
       "      <td>0</td>\n",
       "    </tr>\n",
       "    <tr>\n",
       "      <th>3</th>\n",
       "      <td>1841.0</td>\n",
       "      <td>5.0</td>\n",
       "      <td>2.0</td>\n",
       "      <td>65.0</td>\n",
       "      <td>1.0</td>\n",
       "      <td>2.0</td>\n",
       "      <td>3.0</td>\n",
       "      <td>3389281.0</td>\n",
       "      <td>9205.0</td>\n",
       "      <td>3682.0</td>\n",
       "      <td>...</td>\n",
       "      <td>0</td>\n",
       "      <td>1</td>\n",
       "      <td>0</td>\n",
       "      <td>0</td>\n",
       "      <td>0</td>\n",
       "      <td>0</td>\n",
       "      <td>0</td>\n",
       "      <td>0</td>\n",
       "      <td>0</td>\n",
       "      <td>0</td>\n",
       "    </tr>\n",
       "    <tr>\n",
       "      <th>4</th>\n",
       "      <td>3146.0</td>\n",
       "      <td>9.0</td>\n",
       "      <td>3.0</td>\n",
       "      <td>78.0</td>\n",
       "      <td>1.0</td>\n",
       "      <td>6.0</td>\n",
       "      <td>3.0</td>\n",
       "      <td>9897316.0</td>\n",
       "      <td>28314.0</td>\n",
       "      <td>9438.0</td>\n",
       "      <td>...</td>\n",
       "      <td>0</td>\n",
       "      <td>1</td>\n",
       "      <td>0</td>\n",
       "      <td>0</td>\n",
       "      <td>0</td>\n",
       "      <td>0</td>\n",
       "      <td>0</td>\n",
       "      <td>0</td>\n",
       "      <td>0</td>\n",
       "      <td>0</td>\n",
       "    </tr>\n",
       "  </tbody>\n",
       "</table>\n",
       "<p>5 rows × 170562 columns</p>\n",
       "</div>"
      ],
      "text/plain": [
       "   Unnamed: 0^1  max_floor^1  num_rooms^1  area^1  num_bathrooms^1  floor^1  \\\n",
       "0        5482.0          5.0          3.0    80.0              1.0      4.0   \n",
       "1        6565.0          4.0          3.0    97.0              2.0      3.0   \n",
       "2        3592.0         12.0          2.0    80.0              1.0      2.0   \n",
       "3        1841.0          5.0          2.0    65.0              1.0      2.0   \n",
       "4        3146.0          9.0          3.0    78.0              1.0      6.0   \n",
       "\n",
       "   ceiling_height^1  Unnamed: 0^2  Unnamed: 0^1xmax_floor^1  \\\n",
       "0               2.8    30052324.0                   27410.0   \n",
       "1               3.2    43099225.0                   26260.0   \n",
       "2               2.8    12902464.0                   43104.0   \n",
       "3               3.0     3389281.0                    9205.0   \n",
       "4               3.0     9897316.0                   28314.0   \n",
       "\n",
       "   Unnamed: 0^1xnum_rooms^1  ...  district_Avan  district_Center  \\\n",
       "0                   16446.0  ...              0                0   \n",
       "1                   19695.0  ...              0                0   \n",
       "2                    7184.0  ...              0                0   \n",
       "3                    3682.0  ...              0                1   \n",
       "4                    9438.0  ...              0                1   \n",
       "\n",
       "   district_Davtashen  district_Erebuni  district_Malatia-Sebastia  \\\n",
       "0                   0                 0                          0   \n",
       "1                   0                 0                          0   \n",
       "2                   0                 0                          0   \n",
       "3                   0                 0                          0   \n",
       "4                   0                 0                          0   \n",
       "\n",
       "   district_Nor Norq  district_Norq Marash  district_Qanaqer-Zeytun  \\\n",
       "0                  0                     0                        0   \n",
       "1                  0                     0                        0   \n",
       "2                  0                     0                        1   \n",
       "3                  0                     0                        0   \n",
       "4                  0                     0                        0   \n",
       "\n",
       "   district_Shengavit  district_Vahagni district  \n",
       "0                   0                          0  \n",
       "1                   0                          0  \n",
       "2                   0                          0  \n",
       "3                   0                          0  \n",
       "4                   0                          0  \n",
       "\n",
       "[5 rows x 170562 columns]"
      ]
     },
     "execution_count": 21,
     "metadata": {},
     "output_type": "execute_result"
    }
   ],
   "source": [
    "X_train_poly_ohe = pd.get_dummies(X_train_Poly, prefix=['condition', 'building_type', 'district', 'street'], columns=['condition', 'building_type', 'district', 'street'])\n",
    "X_train_poly_ohe.head()"
   ]
  },
  {
   "cell_type": "code",
   "execution_count": 22,
   "metadata": {},
   "outputs": [],
   "source": [
    "X_test_Poly['condition'] = X_test['condition']\n",
    "X_test_Poly['building_type'] = X_test['building_type']\n",
    "X_test_Poly['district'] = X_test['district']\n",
    "X_test_Poly['street'] = df['street']\n",
    "\n",
    "# X.columns"
   ]
  },
  {
   "cell_type": "code",
   "execution_count": 23,
   "metadata": {},
   "outputs": [
    {
     "data": {
      "text/html": [
       "<div>\n",
       "<style scoped>\n",
       "    .dataframe tbody tr th:only-of-type {\n",
       "        vertical-align: middle;\n",
       "    }\n",
       "\n",
       "    .dataframe tbody tr th {\n",
       "        vertical-align: top;\n",
       "    }\n",
       "\n",
       "    .dataframe thead th {\n",
       "        text-align: right;\n",
       "    }\n",
       "</style>\n",
       "<table border=\"1\" class=\"dataframe\">\n",
       "  <thead>\n",
       "    <tr style=\"text-align: right;\">\n",
       "      <th></th>\n",
       "      <th>Unnamed: 0^1</th>\n",
       "      <th>max_floor^1</th>\n",
       "      <th>num_rooms^1</th>\n",
       "      <th>area^1</th>\n",
       "      <th>num_bathrooms^1</th>\n",
       "      <th>floor^1</th>\n",
       "      <th>ceiling_height^1</th>\n",
       "      <th>Unnamed: 0^2</th>\n",
       "      <th>Unnamed: 0^1xmax_floor^1</th>\n",
       "      <th>Unnamed: 0^1xnum_rooms^1</th>\n",
       "      <th>...</th>\n",
       "      <th>district_Arabkir</th>\n",
       "      <th>district_Avan</th>\n",
       "      <th>district_Center</th>\n",
       "      <th>district_Davtashen</th>\n",
       "      <th>district_Erebuni</th>\n",
       "      <th>district_Malatia-Sebastia</th>\n",
       "      <th>district_Nor Norq</th>\n",
       "      <th>district_Norq Marash</th>\n",
       "      <th>district_Qanaqer-Zeytun</th>\n",
       "      <th>district_Shengavit</th>\n",
       "    </tr>\n",
       "  </thead>\n",
       "  <tbody>\n",
       "    <tr>\n",
       "      <th>0</th>\n",
       "      <td>6471.0</td>\n",
       "      <td>10.0</td>\n",
       "      <td>1.0</td>\n",
       "      <td>41.0</td>\n",
       "      <td>1.0</td>\n",
       "      <td>4.0</td>\n",
       "      <td>3.0</td>\n",
       "      <td>41873841.0</td>\n",
       "      <td>64710.0</td>\n",
       "      <td>6471.0</td>\n",
       "      <td>...</td>\n",
       "      <td>0</td>\n",
       "      <td>0</td>\n",
       "      <td>0</td>\n",
       "      <td>0</td>\n",
       "      <td>0</td>\n",
       "      <td>0</td>\n",
       "      <td>0</td>\n",
       "      <td>0</td>\n",
       "      <td>0</td>\n",
       "      <td>0</td>\n",
       "    </tr>\n",
       "    <tr>\n",
       "      <th>1</th>\n",
       "      <td>2137.0</td>\n",
       "      <td>9.0</td>\n",
       "      <td>5.0</td>\n",
       "      <td>133.0</td>\n",
       "      <td>3.0</td>\n",
       "      <td>1.0</td>\n",
       "      <td>2.8</td>\n",
       "      <td>4566769.0</td>\n",
       "      <td>19233.0</td>\n",
       "      <td>10685.0</td>\n",
       "      <td>...</td>\n",
       "      <td>0</td>\n",
       "      <td>0</td>\n",
       "      <td>0</td>\n",
       "      <td>0</td>\n",
       "      <td>0</td>\n",
       "      <td>0</td>\n",
       "      <td>0</td>\n",
       "      <td>0</td>\n",
       "      <td>0</td>\n",
       "      <td>0</td>\n",
       "    </tr>\n",
       "    <tr>\n",
       "      <th>2</th>\n",
       "      <td>1902.0</td>\n",
       "      <td>5.0</td>\n",
       "      <td>3.0</td>\n",
       "      <td>90.0</td>\n",
       "      <td>2.0</td>\n",
       "      <td>4.0</td>\n",
       "      <td>3.2</td>\n",
       "      <td>3617604.0</td>\n",
       "      <td>9510.0</td>\n",
       "      <td>5706.0</td>\n",
       "      <td>...</td>\n",
       "      <td>0</td>\n",
       "      <td>0</td>\n",
       "      <td>0</td>\n",
       "      <td>0</td>\n",
       "      <td>0</td>\n",
       "      <td>0</td>\n",
       "      <td>0</td>\n",
       "      <td>0</td>\n",
       "      <td>0</td>\n",
       "      <td>0</td>\n",
       "    </tr>\n",
       "    <tr>\n",
       "      <th>3</th>\n",
       "      <td>40.0</td>\n",
       "      <td>10.0</td>\n",
       "      <td>4.0</td>\n",
       "      <td>104.0</td>\n",
       "      <td>1.0</td>\n",
       "      <td>2.0</td>\n",
       "      <td>2.8</td>\n",
       "      <td>1600.0</td>\n",
       "      <td>400.0</td>\n",
       "      <td>160.0</td>\n",
       "      <td>...</td>\n",
       "      <td>0</td>\n",
       "      <td>0</td>\n",
       "      <td>0</td>\n",
       "      <td>0</td>\n",
       "      <td>0</td>\n",
       "      <td>0</td>\n",
       "      <td>0</td>\n",
       "      <td>0</td>\n",
       "      <td>0</td>\n",
       "      <td>0</td>\n",
       "    </tr>\n",
       "    <tr>\n",
       "      <th>4</th>\n",
       "      <td>1770.0</td>\n",
       "      <td>5.0</td>\n",
       "      <td>1.0</td>\n",
       "      <td>42.0</td>\n",
       "      <td>1.0</td>\n",
       "      <td>3.0</td>\n",
       "      <td>2.8</td>\n",
       "      <td>3132900.0</td>\n",
       "      <td>8850.0</td>\n",
       "      <td>1770.0</td>\n",
       "      <td>...</td>\n",
       "      <td>0</td>\n",
       "      <td>0</td>\n",
       "      <td>0</td>\n",
       "      <td>0</td>\n",
       "      <td>0</td>\n",
       "      <td>0</td>\n",
       "      <td>0</td>\n",
       "      <td>0</td>\n",
       "      <td>0</td>\n",
       "      <td>0</td>\n",
       "    </tr>\n",
       "  </tbody>\n",
       "</table>\n",
       "<p>5 rows × 170561 columns</p>\n",
       "</div>"
      ],
      "text/plain": [
       "   Unnamed: 0^1  max_floor^1  num_rooms^1  area^1  num_bathrooms^1  floor^1  \\\n",
       "0        6471.0         10.0          1.0    41.0              1.0      4.0   \n",
       "1        2137.0          9.0          5.0   133.0              3.0      1.0   \n",
       "2        1902.0          5.0          3.0    90.0              2.0      4.0   \n",
       "3          40.0         10.0          4.0   104.0              1.0      2.0   \n",
       "4        1770.0          5.0          1.0    42.0              1.0      3.0   \n",
       "\n",
       "   ceiling_height^1  Unnamed: 0^2  Unnamed: 0^1xmax_floor^1  \\\n",
       "0               3.0    41873841.0                   64710.0   \n",
       "1               2.8     4566769.0                   19233.0   \n",
       "2               3.2     3617604.0                    9510.0   \n",
       "3               2.8        1600.0                     400.0   \n",
       "4               2.8     3132900.0                    8850.0   \n",
       "\n",
       "   Unnamed: 0^1xnum_rooms^1  ...  district_Arabkir  district_Avan  \\\n",
       "0                    6471.0  ...                 0              0   \n",
       "1                   10685.0  ...                 0              0   \n",
       "2                    5706.0  ...                 0              0   \n",
       "3                     160.0  ...                 0              0   \n",
       "4                    1770.0  ...                 0              0   \n",
       "\n",
       "   district_Center  district_Davtashen  district_Erebuni  \\\n",
       "0                0                   0                 0   \n",
       "1                0                   0                 0   \n",
       "2                0                   0                 0   \n",
       "3                0                   0                 0   \n",
       "4                0                   0                 0   \n",
       "\n",
       "   district_Malatia-Sebastia  district_Nor Norq  district_Norq Marash  \\\n",
       "0                          0                  0                     0   \n",
       "1                          0                  0                     0   \n",
       "2                          0                  0                     0   \n",
       "3                          0                  0                     0   \n",
       "4                          0                  0                     0   \n",
       "\n",
       "   district_Qanaqer-Zeytun  district_Shengavit  \n",
       "0                        0                   0  \n",
       "1                        0                   0  \n",
       "2                        0                   0  \n",
       "3                        0                   0  \n",
       "4                        0                   0  \n",
       "\n",
       "[5 rows x 170561 columns]"
      ]
     },
     "execution_count": 23,
     "metadata": {},
     "output_type": "execute_result"
    }
   ],
   "source": [
    "X_test_poly_ohe = pd.get_dummies(X_test_Poly, prefix=['condition', 'building_type', 'district', 'street'], columns=['condition', 'building_type', 'district', 'street'])\n",
    "X_test_poly_ohe.head()"
   ]
  },
  {
   "cell_type": "code",
   "execution_count": 24,
   "metadata": {},
   "outputs": [
    {
     "name": "stdout",
     "output_type": "stream",
     "text": [
      "1\n",
      "0\n",
      "miss_col_in_train []\n"
     ]
    }
   ],
   "source": [
    "miss_col_in_test = list(set(X_train_poly_ohe.columns)- set(X_test_poly_ohe.columns))\n",
    "print(len(miss_col_in_test))\n",
    "miss_col_in_train = list(set(X_test_poly_ohe.columns)- set(X_train_poly_ohe.columns))\n",
    "print(len(miss_col_in_train))\n",
    "print('miss_col_in_train', miss_col_in_train)"
   ]
  },
  {
   "cell_type": "code",
   "execution_count": 25,
   "metadata": {
    "tags": []
   },
   "outputs": [],
   "source": [
    "X_test_poly_ohe[miss_col_in_test] = 0\n",
    "X_test_poly_ohe = X_test_poly_ohe.drop(miss_col_in_train, axis = 1)\n",
    "X_test_poly_ohe.head()\n",
    "X_test_poly_ohe =X_test_poly_ohe.reindex(columns=X_train_poly_ohe.columns)"
   ]
  },
  {
   "cell_type": "code",
   "execution_count": 26,
   "metadata": {},
   "outputs": [],
   "source": [
    "linear = LinearRegression()\n",
    "linear.fit(X_train_poly_ohe, y_train)"
   ]
  },
  {
   "cell_type": "code",
   "execution_count": 27,
   "metadata": {
    "tags": []
   },
   "outputs": [],
   "source": [
    "y_train_pred = linear.predict(X_train_poly_ohe)"
   ]
  },
  {
   "cell_type": "code",
   "execution_count": 28,
   "metadata": {
    "tags": []
   },
   "outputs": [],
   "source": [
    "mse_train = mean_squared_error(y_train, y_train_pred)\n",
    "rmse_train = np.sqrt(mse_train)\n",
    "print('rmse_train', rmse_train)"
   ]
  },
  {
   "cell_type": "code",
   "execution_count": 29,
   "metadata": {
    "tags": []
   },
   "outputs": [],
   "source": [
    "y_test_pred = linear.predict(X_test_poly_ohe)"
   ]
  },
  {
   "cell_type": "code",
   "execution_count": 30,
   "metadata": {
    "tags": []
   },
   "outputs": [],
   "source": [
    "mse_test = mean_squared_error(y_test, y_test_pred)\n",
    "rmse_test = np.sqrt(mse_test)\n",
    "print('rmse_test', rmse_test)"
   ]
  },
  {
   "cell_type": "code",
   "execution_count": null,
   "metadata": {},
   "outputs": [],
   "source": []
  },
  {
   "cell_type": "code",
   "execution_count": 31,
   "metadata": {
    "tags": []
   },
   "outputs": [],
   "source": [
    "elNet = ElasticNet( alpha=0.001, l1_ratio=0.01)"
   ]
  },
  {
   "cell_type": "code",
   "execution_count": 32,
   "metadata": {
    "tags": []
   },
   "outputs": [],
   "source": [
    "\n",
    "elNet.fit(X_train_poly_ohe, y_train)"
   ]
  },
  {
   "cell_type": "code",
   "execution_count": 33,
   "metadata": {
    "tags": []
   },
   "outputs": [],
   "source": [
    "y_train_pred = elNet.predict(X_train_poly_ohe)"
   ]
  },
  {
   "cell_type": "code",
   "execution_count": 34,
   "metadata": {
    "tags": []
   },
   "outputs": [],
   "source": [
    "mse_train = mean_squared_error(y_train, y_train_pred)\n",
    "rmse_train = np.sqrt(mse_train)\n",
    "print('rmse_train', rmse_train)"
   ]
  },
  {
   "cell_type": "code",
   "execution_count": 35,
   "metadata": {
    "tags": []
   },
   "outputs": [],
   "source": [
    "y_test_pred = elNet.predict(X_test_poly_ohe)"
   ]
  },
  {
   "cell_type": "code",
   "execution_count": 36,
   "metadata": {
    "tags": []
   },
   "outputs": [],
   "source": [
    "mse_test = mean_squared_error(y_test, y_test_pred)\n",
    "rmse_test = np.sqrt(mse_test)\n",
    "print('rmse_test', rmse_test)"
   ]
  },
  {
   "cell_type": "code",
   "execution_count": null,
   "metadata": {},
   "outputs": [],
   "source": []
  },
  {
   "cell_type": "code",
   "execution_count": null,
   "metadata": {},
   "outputs": [],
   "source": []
  },
  {
   "cell_type": "code",
   "execution_count": null,
   "metadata": {},
   "outputs": [],
   "source": []
  },
  {
   "cell_type": "code",
   "execution_count": 37,
   "metadata": {},
   "outputs": [],
   "source": [
    "# al = np.linspace(0.001, 0.2, 30)\n",
    "# l1 = np.linspace(0.001, 0.02, 30)\n",
    "al = np.linspace(0.00001, 0.001, 10)\n",
    "l1 = np.linspace(0.001, 0.2, 10)\n",
    "print('al',al)\n",
    "print('l1',l1)"
   ]
  },
  {
   "cell_type": "code",
   "execution_count": null,
   "metadata": {
    "tags": []
   },
   "outputs": [],
   "source": [
    "elastic=ElasticNet()\n",
    "\n",
    "params={'alpha':al,'l1_ratio':l1}\n",
    "Regressor=GridSearchCV(elastic,params,scoring='neg_mean_squared_error',cv=5)\n",
    "Regressor.fit(X_train_poly_ohe,y_train)"
   ]
  },
  {
   "cell_type": "code",
   "execution_count": null,
   "metadata": {
    "tags": []
   },
   "outputs": [],
   "source": [
    "y_train_pred = Regressor.predict(X_train_poly_ohe)"
   ]
  },
  {
   "cell_type": "code",
   "execution_count": null,
   "metadata": {
    "tags": []
   },
   "outputs": [],
   "source": [
    "mse_train = mean_squared_error(y_train, y_train_pred)\n",
    "rmse_train = np.sqrt(mse_train)\n",
    "print('rmse_train', rmse_train)"
   ]
  },
  {
   "cell_type": "code",
   "execution_count": null,
   "metadata": {
    "tags": []
   },
   "outputs": [],
   "source": [
    "y_test_pred = Regressor.predict(X_test_poly_ohe)"
   ]
  },
  {
   "cell_type": "code",
   "execution_count": null,
   "metadata": {
    "tags": []
   },
   "outputs": [],
   "source": [
    "mse_test = mean_squared_error(y_test, y_test_pred)\n",
    "rmse_test = np.sqrt(mse_test)\n",
    "print('rmse_test', rmse_test)"
   ]
  },
  {
   "cell_type": "code",
   "execution_count": null,
   "metadata": {},
   "outputs": [],
   "source": []
  },
  {
   "cell_type": "code",
   "execution_count": null,
   "metadata": {},
   "outputs": [],
   "source": [
    "print('best parameter: ', Regressor.best_params_)"
   ]
  },
  {
   "cell_type": "code",
   "execution_count": null,
   "metadata": {
    "tags": []
   },
   "outputs": [],
   "source": [
    "elNet = ElasticNet( alpha=0.001, l1_ratio=0.001)"
   ]
  },
  {
   "cell_type": "code",
   "execution_count": null,
   "metadata": {
    "tags": []
   },
   "outputs": [],
   "source": [
    "\n",
    "elNet.fit(X_train_poly_ohe, y_train)"
   ]
  },
  {
   "cell_type": "code",
   "execution_count": null,
   "metadata": {
    "tags": []
   },
   "outputs": [],
   "source": [
    "y_train_pred = elNet.predict(X_train_poly_ohe)"
   ]
  },
  {
   "cell_type": "code",
   "execution_count": null,
   "metadata": {
    "tags": []
   },
   "outputs": [],
   "source": [
    "mse_train = mean_squared_error(X_train_poly_ohe, y_train_pred)\n",
    "rmse_train = np.sqrt(mse_train)\n",
    "print('rmse_train', rmse_train)"
   ]
  },
  {
   "cell_type": "code",
   "execution_count": null,
   "metadata": {
    "tags": []
   },
   "outputs": [],
   "source": [
    "y_test_pred = elNet.predict(X_test)"
   ]
  },
  {
   "cell_type": "code",
   "execution_count": null,
   "metadata": {
    "tags": []
   },
   "outputs": [],
   "source": [
    "mse_test = mean_squared_error(y_test, y_test_pred)\n",
    "rmse_test = np.sqrt(mse_test)\n",
    "print('rmse_test', rmse_test)"
   ]
  },
  {
   "cell_type": "code",
   "execution_count": null,
   "metadata": {},
   "outputs": [],
   "source": []
  },
  {
   "cell_type": "code",
   "execution_count": null,
   "metadata": {},
   "outputs": [],
   "source": [
    "model = ..."
   ]
  },
  {
   "cell_type": "code",
   "execution_count": null,
   "metadata": {},
   "outputs": [],
   "source": [
    "# def final_predict(final_test_df):\n",
    "#     1. preprocessing of final_test_df (scaling, one hot encoding ...)\n",
    "#     2. make sure that columns and their order in train and test are the same\n",
    "#     3. return predictions"
   ]
  },
  {
   "cell_type": "code",
   "execution_count": null,
   "metadata": {
    "tags": []
   },
   "outputs": [],
   "source": [
    "# df = pd.read_csv('houses_test.csv')\n",
    "# final_predict(df)"
   ]
  }
 ],
 "metadata": {
  "kernelspec": {
   "display_name": "tf384",
   "language": "python",
   "name": "tf384"
  },
  "language_info": {
   "codemirror_mode": {
    "name": "ipython",
    "version": 3
   },
   "file_extension": ".py",
   "mimetype": "text/x-python",
   "name": "python",
   "nbconvert_exporter": "python",
   "pygments_lexer": "ipython3",
   "version": "3.9.16"
  }
 },
 "nbformat": 4,
 "nbformat_minor": 4
}
