{
 "cells": [
  {
   "cell_type": "code",
   "execution_count": 1,
   "id": "13d1d6fc",
   "metadata": {
    "tags": []
   },
   "outputs": [],
   "source": [
    "import numpy as np\n",
    "from sklearn.model_selection import cross_val_score\n",
    "from sklearn.linear_model import LinearRegression, Ridge, Lasso, ElasticNet\n",
    "from sklearn.model_selection import GridSearchCV\n",
    "from sklearn.preprocessing import PolynomialFeatures\n",
    "\n",
    "import matplotlib.pyplot as plt \n"
   ]
  },
  {
   "cell_type": "code",
   "execution_count": 2,
   "id": "c7161b90",
   "metadata": {
    "tags": []
   },
   "outputs": [],
   "source": [
    "m = 50 \n",
    "X = 10 * np.random.rand(m, 1) - 5\n",
    "y = X**2 + 2 * X + np.random.randn(m, 1)"
   ]
  },
  {
   "cell_type": "code",
   "execution_count": 3,
   "id": "cf0c6b51",
   "metadata": {
    "tags": []
   },
   "outputs": [
    {
     "name": "stdout",
     "output_type": "stream",
     "text": [
      "(50, 1) (50, 1)\n"
     ]
    }
   ],
   "source": [
    "X = np.array(X)\n",
    "Y = np.array(y)\n",
    "\n",
    "\n",
    "feat_norm = True\n",
    "\n",
    "print(X.shape, y.shape)"
   ]
  },
  {
   "cell_type": "code",
   "execution_count": 4,
   "id": "c3fe583c",
   "metadata": {
    "tags": []
   },
   "outputs": [
    {
     "data": {
      "text/plain": [
       "(-3.591657534946054, 37.97386471449202)"
      ]
     },
     "execution_count": 4,
     "metadata": {},
     "output_type": "execute_result"
    },
    {
     "data": {
      "image/png": "[encoded data removed]",
      "text/plain": [
       "<Figure size 640x480 with 1 Axes>"
      ]
     },
     "metadata": {},
     "output_type": "display_data"
    }
   ],
   "source": [
    "plt.plot(X, Y, '.')\n",
    "\n",
    "plt.xlim(min(X) - 1, max(X) + 1)\n",
    "plt.ylim(min(Y) - 2, max(Y) + 2)"
   ]
  },
  {
   "cell_type": "code",
   "execution_count": 5,
   "id": "8025cd20",
   "metadata": {
    "tags": []
   },
   "outputs": [],
   "source": [
    "import warnings\n",
    "from warnings import filterwarnings \n",
    "warnings.filterwarnings(\"ignore\", category=DeprecationWarning) \n",
    "filterwarnings('ignore')"
   ]
  },
  {
   "cell_type": "code",
   "execution_count": 6,
   "id": "26ec1b99",
   "metadata": {
    "tags": []
   },
   "outputs": [],
   "source": [
    "from sklearn.preprocessing import PolynomialFeatures\n",
    "deg = 20\n",
    "poly = PolynomialFeatures(degree = deg, include_bias=False)\n",
    "X_Poly = poly.fit_transform(X)\n"
   ]
  },
  {
   "cell_type": "code",
   "execution_count": null,
   "id": "e6b776c4",
   "metadata": {},
   "outputs": [],
   "source": []
  },
  {
   "cell_type": "code",
   "execution_count": 8,
   "id": "cf814432",
   "metadata": {
    "tags": []
   },
   "outputs": [
    {
     "data": {
      "text/html": [
       "<style>#sk-container-id-1 {color: black;background-color: white;}#sk-container-id-1 pre{padding: 0;}#sk-container-id-1 div.sk-toggleable {background-color: white;}#sk-container-id-1 label.sk-toggleable__label {cursor: pointer;display: block;width: 100%;margin-bottom: 0;padding: 0.3em;box-sizing: border-box;text-align: center;}#sk-container-id-1 label.sk-toggleable__label-arrow:before {content: \"▸\";float: left;margin-right: 0.25em;color: #696969;}#sk-container-id-1 label.sk-toggleable__label-arrow:hover:before {color: black;}#sk-container-id-1 div.sk-estimator:hover label.sk-toggleable__label-arrow:before {color: black;}#sk-container-id-1 div.sk-toggleable__content {max-height: 0;max-width: 0;overflow: hidden;text-align: left;background-color: #f0f8ff;}#sk-container-id-1 div.sk-toggleable__content pre {margin: 0.2em;color: black;border-radius: 0.25em;background-color: #f0f8ff;}#sk-container-id-1 input.sk-toggleable__control:checked~div.sk-toggleable__content {max-height: 200px;max-width: 100%;overflow: auto;}#sk-container-id-1 input.sk-toggleable__control:checked~label.sk-toggleable__label-arrow:before {content: \"▾\";}#sk-container-id-1 div.sk-estimator input.sk-toggleable__control:checked~label.sk-toggleable__label {background-color: #d4ebff;}#sk-container-id-1 div.sk-label input.sk-toggleable__control:checked~label.sk-toggleable__label {background-color: #d4ebff;}#sk-container-id-1 input.sk-hidden--visually {border: 0;clip: rect(1px 1px 1px 1px);clip: rect(1px, 1px, 1px, 1px);height: 1px;margin: -1px;overflow: hidden;padding: 0;position: absolute;width: 1px;}#sk-container-id-1 div.sk-estimator {font-family: monospace;background-color: #f0f8ff;border: 1px dotted black;border-radius: 0.25em;box-sizing: border-box;margin-bottom: 0.5em;}#sk-container-id-1 div.sk-estimator:hover {background-color: #d4ebff;}#sk-container-id-1 div.sk-parallel-item::after {content: \"\";width: 100%;border-bottom: 1px solid gray;flex-grow: 1;}#sk-container-id-1 div.sk-label:hover label.sk-toggleable__label {background-color: #d4ebff;}#sk-container-id-1 div.sk-serial::before {content: \"\";position: absolute;border-left: 1px solid gray;box-sizing: border-box;top: 0;bottom: 0;left: 50%;z-index: 0;}#sk-container-id-1 div.sk-serial {display: flex;flex-direction: column;align-items: center;background-color: white;padding-right: 0.2em;padding-left: 0.2em;position: relative;}#sk-container-id-1 div.sk-item {position: relative;z-index: 1;}#sk-container-id-1 div.sk-parallel {display: flex;align-items: stretch;justify-content: center;background-color: white;position: relative;}#sk-container-id-1 div.sk-item::before, #sk-container-id-1 div.sk-parallel-item::before {content: \"\";position: absolute;border-left: 1px solid gray;box-sizing: border-box;top: 0;bottom: 0;left: 50%;z-index: -1;}#sk-container-id-1 div.sk-parallel-item {display: flex;flex-direction: column;z-index: 1;position: relative;background-color: white;}#sk-container-id-1 div.sk-parallel-item:first-child::after {align-self: flex-end;width: 50%;}#sk-container-id-1 div.sk-parallel-item:last-child::after {align-self: flex-start;width: 50%;}#sk-container-id-1 div.sk-parallel-item:only-child::after {width: 0;}#sk-container-id-1 div.sk-dashed-wrapped {border: 1px dashed gray;margin: 0 0.4em 0.5em 0.4em;box-sizing: border-box;padding-bottom: 0.4em;background-color: white;}#sk-container-id-1 div.sk-label label {font-family: monospace;font-weight: bold;display: inline-block;line-height: 1.2em;}#sk-container-id-1 div.sk-label-container {text-align: center;}#sk-container-id-1 div.sk-container {/* jupyter's `normalize.less` sets `[hidden] { display: none; }` but bootstrap.min.css set `[hidden] { display: none !important; }` so we also need the `!important` here to be able to override the default hidden behavior on the sphinx rendered scikit-learn.org. See: https://github.com/scikit-learn/scikit-learn/issues/21755 */display: inline-block !important;position: relative;}#sk-container-id-1 div.sk-text-repr-fallback {display: none;}</style><div id=\"sk-container-id-1\" class=\"sk-top-container\"><div class=\"sk-text-repr-fallback\"><pre>LinearRegression()</pre><b>In a Jupyter environment, please rerun this cell to show the HTML representation or trust the notebook. <br />On GitHub, the HTML representation is unable to render, please try loading this page with nbviewer.org.</b></div><div class=\"sk-container\" hidden><div class=\"sk-item\"><div class=\"sk-estimator sk-toggleable\"><input class=\"sk-toggleable__control sk-hidden--visually\" id=\"sk-estimator-id-1\" type=\"checkbox\" checked><label for=\"sk-estimator-id-1\" class=\"sk-toggleable__label sk-toggleable__label-arrow\">LinearRegression</label><div class=\"sk-toggleable__content\"><pre>LinearRegression()</pre></div></div></div></div></div>"
      ],
      "text/plain": [
       "LinearRegression()"
      ]
     },
     "execution_count": 8,
     "metadata": {},
     "output_type": "execute_result"
    }
   ],
   "source": [
    "linear = LinearRegression()\n",
    "linear.fit(X_Poly, Y)"
   ]
  },
  {
   "cell_type": "code",
   "execution_count": null,
   "id": "ea3a5f4d",
   "metadata": {},
   "outputs": [],
   "source": [
    "print(linear.intercept_)\n",
    "print(linear.coef_)\n",
    "print(np.linalg.norm(linear.coef_))"
   ]
  },
  {
   "cell_type": "code",
   "execution_count": null,
   "id": "5e44062f",
   "metadata": {},
   "outputs": [],
   "source": [
    "X_Line = np.array([[i/1000] for i in range(1000*int(min(X))- 1000, 1000*int(max(X)) + 1000, 1)])\n",
    "X_Line_Poly = poly.fit_transform(X_Line)\n",
    "Y_Pred_Line = linear.predict(X_Line_Poly)"
   ]
  },
  {
   "cell_type": "code",
   "execution_count": null,
   "id": "e0e1e55f",
   "metadata": {},
   "outputs": [],
   "source": [
    "plt.plot(X, Y, '.')\n",
    "plt.plot(X_Line, Y_Pred_Line)\n",
    "\n",
    "plt.xlim(min(X) - 1, max(X) + 1)\n",
    "plt.ylim(min(Y) - 2, max(Y) + 2)"
   ]
  },
  {
   "cell_type": "code",
   "execution_count": null,
   "id": "2d9889e1",
   "metadata": {
    "scrolled": true
   },
   "outputs": [],
   "source": [
    "#Linear Regression\n",
    "\n",
    "linear = LinearRegression(normalize=feat_norm)\n",
    "errors = cross_val_score(linear, X_Poly, Y, scoring='neg_mean_squared_error', cv=10)\n",
    "mean_error = np.mean(errors)\n",
    "print(errors)\n",
    "print(-mean_error)"
   ]
  },
  {
   "cell_type": "markdown",
   "id": "58d50def",
   "metadata": {},
   "source": [
    "Ridge Regularization\n"
   ]
  },
  {
   "cell_type": "code",
   "execution_count": null,
   "id": "65107d0e",
   "metadata": {},
   "outputs": [],
   "source": [
    "ridge = Ridge(normalize=feat_norm, solver='saga', alpha=0.001)\n",
    "\n",
    "ridge.fit(X_Poly, Y)"
   ]
  },
  {
   "cell_type": "code",
   "execution_count": null,
   "id": "befe91f0",
   "metadata": {},
   "outputs": [],
   "source": [
    "Y_Pred_Ridge = ridge.predict(X_Line_Poly)\n",
    "print(ridge.coef_)\n",
    "print(ridge.intercept_)"
   ]
  },
  {
   "cell_type": "code",
   "execution_count": null,
   "id": "19a826e7",
   "metadata": {},
   "outputs": [],
   "source": [
    "plt.plot(X, Y, '.')\n",
    "plt.plot(X_Line, Y_Pred_Ridge)\n",
    "\n",
    "plt.xlim(min(X) - 1, max(X) + 1)\n",
    "plt.ylim(min(Y) - 2, max(Y) + 2)"
   ]
  },
  {
   "cell_type": "code",
   "execution_count": null,
   "id": "5d965db5",
   "metadata": {},
   "outputs": [],
   "source": []
  },
  {
   "cell_type": "code",
   "execution_count": null,
   "id": "167547a2",
   "metadata": {},
   "outputs": [],
   "source": [
    "ridge=Ridge(normalize=feat_norm,solver='saga')\n",
    "params={'alpha':[1e-5,1e-4,1e-3,1e-2,0.1, 0.2, 0.3, 0.4, 0.5, 1, 2, 3, 4, 5, 10,20,30,40,50,100, 200, 300, 400,500]}\n",
    "Regressor = GridSearchCV(ridge, params, scoring='neg_mean_squared_error',cv=10)\n",
    "Regressor.fit(X_Poly, Y)\n",
    "\n",
    "print('best parameter: ', Regressor.best_params_)\n",
    "print('best score: ', -Regressor.best_score_)"
   ]
  },
  {
   "cell_type": "markdown",
   "id": "ca4ed519",
   "metadata": {},
   "source": [
    "LASSO Regularization"
   ]
  },
  {
   "cell_type": "code",
   "execution_count": null,
   "id": "f67dc2be",
   "metadata": {},
   "outputs": [],
   "source": [
    "lasso = Lasso(normalize=feat_norm, alpha=0.01)\n",
    "\n",
    "lasso.fit(X_Poly, Y)"
   ]
  },
  {
   "cell_type": "code",
   "execution_count": null,
   "id": "8676813d",
   "metadata": {},
   "outputs": [],
   "source": [
    "Y_Pred_Lasso = lasso.predict(X_Line_Poly)\n",
    "print(lasso.coef_)\n",
    "print(lasso.intercept_)"
   ]
  },
  {
   "cell_type": "code",
   "execution_count": null,
   "id": "e5d588f8",
   "metadata": {},
   "outputs": [],
   "source": [
    "plt.plot(X, Y, '.')\n",
    "plt.plot(X_Line, Y_Pred_Lasso)\n",
    "\n",
    "plt.xlim(min(X) - 1, max(X) + 1)\n",
    "plt.ylim(min(Y) - 2, max(Y) + 2)"
   ]
  },
  {
   "cell_type": "code",
   "execution_count": null,
   "id": "bc2caad9",
   "metadata": {},
   "outputs": [],
   "source": []
  },
  {
   "cell_type": "code",
   "execution_count": null,
   "id": "2c9cb6b6",
   "metadata": {},
   "outputs": [],
   "source": [
    "lasso=Lasso(normalize=feat_norm)\n",
    "params={'alpha':[1e-5,1e-4,1e-3,1e-2,0.1, 0.2, 0.3, 0.4, 0.5, 1, 2, 3, 4, 5, 10,20,30,40,50,100, 200, 300, 400,500]}\n",
    "Regressor=GridSearchCV(lasso,params,scoring='neg_mean_squared_error',cv=10)\n",
    "Regressor.fit(X_Poly, Y)\n",
    "#Print best parameter and score\n",
    "print('best parameter: ', Regressor.best_params_)\n",
    "print('best score: ', -Regressor.best_score_)"
   ]
  },
  {
   "cell_type": "code",
   "execution_count": null,
   "id": "43e831a9",
   "metadata": {},
   "outputs": [],
   "source": []
  },
  {
   "cell_type": "markdown",
   "id": "7d60c6ae",
   "metadata": {},
   "source": [
    "Elastic Net Regularization"
   ]
  },
  {
   "cell_type": "code",
   "execution_count": null,
   "id": "0b2c42df",
   "metadata": {},
   "outputs": [],
   "source": [
    "elNet = ElasticNet(normalize=feat_norm, alpha=0.001, l1_ratio=0.01)\n",
    "elNet.fit(X_Poly, Y)"
   ]
  },
  {
   "cell_type": "code",
   "execution_count": null,
   "id": "71a26947",
   "metadata": {},
   "outputs": [],
   "source": [
    "Y_Pred_elNet = elNet.predict(X_Line_Poly)\n",
    "print(elNet.coef_)\n",
    "print(elNet.intercept_)"
   ]
  },
  {
   "cell_type": "code",
   "execution_count": null,
   "id": "cb846d00",
   "metadata": {},
   "outputs": [],
   "source": [
    "plt.plot(X, Y, '.')\n",
    "plt.plot(X_Line, Y_Pred_elNet)\n",
    "\n",
    "plt.xlim(min(X) - 1, max(X) + 1)\n",
    "plt.ylim(min(Y) - 2, max(Y) + 2)"
   ]
  },
  {
   "cell_type": "code",
   "execution_count": null,
   "id": "b38e676a",
   "metadata": {},
   "outputs": [],
   "source": []
  },
  {
   "cell_type": "code",
   "execution_count": null,
   "id": "4d346acc",
   "metadata": {},
   "outputs": [],
   "source": [
    "#ElasticNet Regression\n",
    "\n",
    "elastic=ElasticNet(normalize=feat_norm)\n",
    "params={'alpha':[1e-5,1e-4,1e-3,1e-2,1e-1,1,2,3,4,5,10,20,30,40,50,100,],'l1_ratio':[1e-6,1e-5,1e-4,1e-3,1e-2,0.1,0.2,0.3,0.4,0.5,0.6,0.7,0.8,0.9]}\n",
    "Regressor=GridSearchCV(elastic,params,scoring='neg_mean_squared_error',cv=10)\n",
    "Regressor.fit(X,Y)\n",
    "#Print best parameter and score\n",
    "print('best parameter: ', Regressor.best_params_)\n",
    "print('best score: ', -Regressor.best_score_)"
   ]
  },
  {
   "cell_type": "code",
   "execution_count": null,
   "id": "e3ad10de",
   "metadata": {},
   "outputs": [],
   "source": []
  },
  {
   "cell_type": "code",
   "execution_count": null,
   "id": "f65f3fb4",
   "metadata": {},
   "outputs": [],
   "source": []
  }
 ],
 "metadata": {
  "kernelspec": {
   "display_name": "Python 3 (ipykernel)",
   "language": "python",
   "name": "python3"
  },
  "language_info": {
   "codemirror_mode": {
    "name": "ipython",
    "version": 3
   },
   "file_extension": ".py",
   "mimetype": "text/x-python",
   "name": "python",
   "nbconvert_exporter": "python",
   "pygments_lexer": "ipython3",
   "version": "3.9.16"
  }
 },
 "nbformat": 4,
 "nbformat_minor": 5
}
