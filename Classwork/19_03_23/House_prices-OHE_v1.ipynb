{
 "cells": [
  {
   "cell_type": "code",
   "execution_count": 1,
   "metadata": {
    "tags": []
   },
   "outputs": [],
   "source": [
    "import pandas as pd\n",
    "import matplotlib.pyplot as plt\n",
    "import numpy as np\n",
    "from sklearn.model_selection import train_test_split\n",
    "from sklearn import linear_model\n",
    "from sklearn.metrics import mean_absolute_error, mean_squared_error, r2_score\n",
    "from sklearn.preprocessing import MinMaxScaler\n",
    "from sklearn.preprocessing import PolynomialFeatures\n",
    "from sklearn.model_selection import cross_val_score\n",
    "from sklearn.linear_model import LinearRegression, Ridge, Lasso, ElasticNet\n",
    "from sklearn.model_selection import GridSearchCV"
   ]
  },
  {
   "cell_type": "code",
   "execution_count": 2,
   "metadata": {
    "tags": []
   },
   "outputs": [],
   "source": [
    "df = pd.read_csv('houses_train.csv')"
   ]
  },
  {
   "cell_type": "code",
   "execution_count": 3,
   "metadata": {
    "tags": []
   },
   "outputs": [
    {
     "data": {
      "text/html": [
       "<div>\n",
       "<style scoped>\n",
       "    .dataframe tbody tr th:only-of-type {\n",
       "        vertical-align: middle;\n",
       "    }\n",
       "\n",
       "    .dataframe tbody tr th {\n",
       "        vertical-align: top;\n",
       "    }\n",
       "\n",
       "    .dataframe thead th {\n",
       "        text-align: right;\n",
       "    }\n",
       "</style>\n",
       "<table border=\"1\" class=\"dataframe\">\n",
       "  <thead>\n",
       "    <tr style=\"text-align: right;\">\n",
       "      <th></th>\n",
       "      <th>Unnamed: 0</th>\n",
       "      <th>price</th>\n",
       "      <th>condition</th>\n",
       "      <th>district</th>\n",
       "      <th>max_floor</th>\n",
       "      <th>street</th>\n",
       "      <th>num_rooms</th>\n",
       "      <th>region</th>\n",
       "      <th>area</th>\n",
       "      <th>url</th>\n",
       "      <th>num_bathrooms</th>\n",
       "      <th>building_type</th>\n",
       "      <th>floor</th>\n",
       "      <th>ceiling_height</th>\n",
       "    </tr>\n",
       "  </thead>\n",
       "  <tbody>\n",
       "    <tr>\n",
       "      <th>0</th>\n",
       "      <td>4598</td>\n",
       "      <td>100000.0</td>\n",
       "      <td>newly repaired</td>\n",
       "      <td>Arabkir</td>\n",
       "      <td>6</td>\n",
       "      <td>Kievyan St</td>\n",
       "      <td>3</td>\n",
       "      <td>Yerevan</td>\n",
       "      <td>96.0</td>\n",
       "      <td>http://www.myrealty.am/en/item/26229/3-senyaka...</td>\n",
       "      <td>1</td>\n",
       "      <td>stone</td>\n",
       "      <td>4</td>\n",
       "      <td>3.0</td>\n",
       "    </tr>\n",
       "    <tr>\n",
       "      <th>1</th>\n",
       "      <td>5940</td>\n",
       "      <td>52000.0</td>\n",
       "      <td>good</td>\n",
       "      <td>Arabkir</td>\n",
       "      <td>14</td>\n",
       "      <td>Mamikoniants St</td>\n",
       "      <td>3</td>\n",
       "      <td>Yerevan</td>\n",
       "      <td>78.0</td>\n",
       "      <td>http://www.myrealty.am/en/item/32897/3-senyaka...</td>\n",
       "      <td>1</td>\n",
       "      <td>panel</td>\n",
       "      <td>10</td>\n",
       "      <td>2.8</td>\n",
       "    </tr>\n",
       "    <tr>\n",
       "      <th>2</th>\n",
       "      <td>2302</td>\n",
       "      <td>52000.0</td>\n",
       "      <td>newly repaired</td>\n",
       "      <td>Qanaqer-Zeytun</td>\n",
       "      <td>9</td>\n",
       "      <td>M. Melikyan St</td>\n",
       "      <td>3</td>\n",
       "      <td>Yerevan</td>\n",
       "      <td>97.0</td>\n",
       "      <td>http://www.myrealty.am/en/item/1459/apartment-...</td>\n",
       "      <td>1</td>\n",
       "      <td>panel</td>\n",
       "      <td>1</td>\n",
       "      <td>2.8</td>\n",
       "    </tr>\n",
       "    <tr>\n",
       "      <th>3</th>\n",
       "      <td>5628</td>\n",
       "      <td>130000.0</td>\n",
       "      <td>good</td>\n",
       "      <td>Center</td>\n",
       "      <td>4</td>\n",
       "      <td>Spendiaryan St</td>\n",
       "      <td>3</td>\n",
       "      <td>Yerevan</td>\n",
       "      <td>80.0</td>\n",
       "      <td>http://www.myrealty.am/en/item/2099/3-senyakan...</td>\n",
       "      <td>1</td>\n",
       "      <td>stone</td>\n",
       "      <td>2</td>\n",
       "      <td>3.2</td>\n",
       "    </tr>\n",
       "    <tr>\n",
       "      <th>4</th>\n",
       "      <td>760</td>\n",
       "      <td>81600.0</td>\n",
       "      <td>zero condition</td>\n",
       "      <td>Center</td>\n",
       "      <td>9</td>\n",
       "      <td>Ler. Kamsar St</td>\n",
       "      <td>3</td>\n",
       "      <td>Yerevan</td>\n",
       "      <td>107.0</td>\n",
       "      <td>http://www.myrealty.am/en/item/22722/3-senyaka...</td>\n",
       "      <td>1</td>\n",
       "      <td>monolit</td>\n",
       "      <td>9</td>\n",
       "      <td>3.0</td>\n",
       "    </tr>\n",
       "  </tbody>\n",
       "</table>\n",
       "</div>"
      ],
      "text/plain": [
       "   Unnamed: 0     price       condition        district  max_floor  \\\n",
       "0        4598  100000.0  newly repaired         Arabkir          6   \n",
       "1        5940   52000.0            good         Arabkir         14   \n",
       "2        2302   52000.0  newly repaired  Qanaqer-Zeytun          9   \n",
       "3        5628  130000.0            good          Center          4   \n",
       "4         760   81600.0  zero condition          Center          9   \n",
       "\n",
       "            street  num_rooms   region   area  \\\n",
       "0       Kievyan St          3  Yerevan   96.0   \n",
       "1  Mamikoniants St          3  Yerevan   78.0   \n",
       "2   M. Melikyan St          3  Yerevan   97.0   \n",
       "3   Spendiaryan St          3  Yerevan   80.0   \n",
       "4   Ler. Kamsar St          3  Yerevan  107.0   \n",
       "\n",
       "                                                 url  num_bathrooms  \\\n",
       "0  http://www.myrealty.am/en/item/26229/3-senyaka...              1   \n",
       "1  http://www.myrealty.am/en/item/32897/3-senyaka...              1   \n",
       "2  http://www.myrealty.am/en/item/1459/apartment-...              1   \n",
       "3  http://www.myrealty.am/en/item/2099/3-senyakan...              1   \n",
       "4  http://www.myrealty.am/en/item/22722/3-senyaka...              1   \n",
       "\n",
       "  building_type  floor  ceiling_height  \n",
       "0         stone      4             3.0  \n",
       "1         panel     10             2.8  \n",
       "2         panel      1             2.8  \n",
       "3         stone      2             3.2  \n",
       "4       monolit      9             3.0  "
      ]
     },
     "execution_count": 3,
     "metadata": {},
     "output_type": "execute_result"
    }
   ],
   "source": [
    "df.head()"
   ]
  },
  {
   "cell_type": "code",
   "execution_count": 4,
   "metadata": {
    "tags": []
   },
   "outputs": [
    {
     "data": {
      "text/plain": [
       "(3,)"
      ]
     },
     "execution_count": 4,
     "metadata": {},
     "output_type": "execute_result"
    }
   ],
   "source": [
    "df['condition'].unique().shape #1"
   ]
  },
  {
   "cell_type": "code",
   "execution_count": 5,
   "metadata": {
    "tags": []
   },
   "outputs": [
    {
     "data": {
      "text/plain": [
       "(13,)"
      ]
     },
     "execution_count": 5,
     "metadata": {},
     "output_type": "execute_result"
    }
   ],
   "source": [
    "df['district'].unique().shape #3"
   ]
  },
  {
   "cell_type": "code",
   "execution_count": 6,
   "metadata": {
    "tags": []
   },
   "outputs": [
    {
     "data": {
      "text/plain": [
       "(350,)"
      ]
     },
     "execution_count": 6,
     "metadata": {},
     "output_type": "execute_result"
    }
   ],
   "source": [
    "df['street'].unique().shape #4"
   ]
  },
  {
   "cell_type": "code",
   "execution_count": 7,
   "metadata": {
    "tags": []
   },
   "outputs": [
    {
     "data": {
      "text/plain": [
       "(1,)"
      ]
     },
     "execution_count": 7,
     "metadata": {},
     "output_type": "execute_result"
    }
   ],
   "source": [
    "df['region'].unique().shape"
   ]
  },
  {
   "cell_type": "code",
   "execution_count": 8,
   "metadata": {
    "tags": []
   },
   "outputs": [
    {
     "data": {
      "text/plain": [
       "(5001,)"
      ]
     },
     "execution_count": 8,
     "metadata": {},
     "output_type": "execute_result"
    }
   ],
   "source": [
    "df['url'].unique().shape"
   ]
  },
  {
   "cell_type": "code",
   "execution_count": 9,
   "metadata": {
    "tags": []
   },
   "outputs": [
    {
     "data": {
      "text/plain": [
       "(4,)"
      ]
     },
     "execution_count": 9,
     "metadata": {},
     "output_type": "execute_result"
    }
   ],
   "source": [
    "df['building_type'].unique().shape #2"
   ]
  },
  {
   "cell_type": "code",
   "execution_count": 10,
   "metadata": {},
   "outputs": [
    {
     "name": "stdout",
     "output_type": "stream",
     "text": [
      "<class 'pandas.core.frame.DataFrame'>\n",
      "RangeIndex: 5001 entries, 0 to 5000\n",
      "Data columns (total 14 columns):\n",
      " #   Column          Non-Null Count  Dtype  \n",
      "---  ------          --------------  -----  \n",
      " 0   Unnamed: 0      5001 non-null   int64  \n",
      " 1   price           5001 non-null   float64\n",
      " 2   condition       5001 non-null   object \n",
      " 3   district        5001 non-null   object \n",
      " 4   max_floor       5001 non-null   int64  \n",
      " 5   street          5001 non-null   object \n",
      " 6   num_rooms       5001 non-null   int64  \n",
      " 7   region          5001 non-null   object \n",
      " 8   area            5001 non-null   float64\n",
      " 9   url             5001 non-null   object \n",
      " 10  num_bathrooms   5001 non-null   int64  \n",
      " 11  building_type   5001 non-null   object \n",
      " 12  floor           5001 non-null   int64  \n",
      " 13  ceiling_height  5001 non-null   float64\n",
      "dtypes: float64(3), int64(5), object(6)\n",
      "memory usage: 547.1+ KB\n"
     ]
    }
   ],
   "source": [
    "df.info()"
   ]
  },
  {
   "cell_type": "code",
   "execution_count": 11,
   "metadata": {
    "tags": []
   },
   "outputs": [],
   "source": [
    "data_ex_obj = df.select_dtypes(exclude=['object'])"
   ]
  },
  {
   "cell_type": "code",
   "execution_count": 12,
   "metadata": {
    "tags": []
   },
   "outputs": [
    {
     "data": {
      "text/html": [
       "<div>\n",
       "<style scoped>\n",
       "    .dataframe tbody tr th:only-of-type {\n",
       "        vertical-align: middle;\n",
       "    }\n",
       "\n",
       "    .dataframe tbody tr th {\n",
       "        vertical-align: top;\n",
       "    }\n",
       "\n",
       "    .dataframe thead th {\n",
       "        text-align: right;\n",
       "    }\n",
       "</style>\n",
       "<table border=\"1\" class=\"dataframe\">\n",
       "  <thead>\n",
       "    <tr style=\"text-align: right;\">\n",
       "      <th></th>\n",
       "      <th>Unnamed: 0</th>\n",
       "      <th>price</th>\n",
       "      <th>max_floor</th>\n",
       "      <th>num_rooms</th>\n",
       "      <th>area</th>\n",
       "      <th>num_bathrooms</th>\n",
       "      <th>floor</th>\n",
       "      <th>ceiling_height</th>\n",
       "    </tr>\n",
       "  </thead>\n",
       "  <tbody>\n",
       "    <tr>\n",
       "      <th>0</th>\n",
       "      <td>4598</td>\n",
       "      <td>100000.0</td>\n",
       "      <td>6</td>\n",
       "      <td>3</td>\n",
       "      <td>96.0</td>\n",
       "      <td>1</td>\n",
       "      <td>4</td>\n",
       "      <td>3.0</td>\n",
       "    </tr>\n",
       "    <tr>\n",
       "      <th>1</th>\n",
       "      <td>5940</td>\n",
       "      <td>52000.0</td>\n",
       "      <td>14</td>\n",
       "      <td>3</td>\n",
       "      <td>78.0</td>\n",
       "      <td>1</td>\n",
       "      <td>10</td>\n",
       "      <td>2.8</td>\n",
       "    </tr>\n",
       "    <tr>\n",
       "      <th>2</th>\n",
       "      <td>2302</td>\n",
       "      <td>52000.0</td>\n",
       "      <td>9</td>\n",
       "      <td>3</td>\n",
       "      <td>97.0</td>\n",
       "      <td>1</td>\n",
       "      <td>1</td>\n",
       "      <td>2.8</td>\n",
       "    </tr>\n",
       "    <tr>\n",
       "      <th>3</th>\n",
       "      <td>5628</td>\n",
       "      <td>130000.0</td>\n",
       "      <td>4</td>\n",
       "      <td>3</td>\n",
       "      <td>80.0</td>\n",
       "      <td>1</td>\n",
       "      <td>2</td>\n",
       "      <td>3.2</td>\n",
       "    </tr>\n",
       "    <tr>\n",
       "      <th>4</th>\n",
       "      <td>760</td>\n",
       "      <td>81600.0</td>\n",
       "      <td>9</td>\n",
       "      <td>3</td>\n",
       "      <td>107.0</td>\n",
       "      <td>1</td>\n",
       "      <td>9</td>\n",
       "      <td>3.0</td>\n",
       "    </tr>\n",
       "  </tbody>\n",
       "</table>\n",
       "</div>"
      ],
      "text/plain": [
       "   Unnamed: 0     price  max_floor  num_rooms   area  num_bathrooms  floor  \\\n",
       "0        4598  100000.0          6          3   96.0              1      4   \n",
       "1        5940   52000.0         14          3   78.0              1     10   \n",
       "2        2302   52000.0          9          3   97.0              1      1   \n",
       "3        5628  130000.0          4          3   80.0              1      2   \n",
       "4         760   81600.0          9          3  107.0              1      9   \n",
       "\n",
       "   ceiling_height  \n",
       "0             3.0  \n",
       "1             2.8  \n",
       "2             2.8  \n",
       "3             3.2  \n",
       "4             3.0  "
      ]
     },
     "execution_count": 12,
     "metadata": {},
     "output_type": "execute_result"
    }
   ],
   "source": [
    "data_ex_obj.head()"
   ]
  },
  {
   "cell_type": "code",
   "execution_count": 13,
   "metadata": {
    "tags": []
   },
   "outputs": [
    {
     "data": {
      "text/html": [
       "<div>\n",
       "<style scoped>\n",
       "    .dataframe tbody tr th:only-of-type {\n",
       "        vertical-align: middle;\n",
       "    }\n",
       "\n",
       "    .dataframe tbody tr th {\n",
       "        vertical-align: top;\n",
       "    }\n",
       "\n",
       "    .dataframe thead th {\n",
       "        text-align: right;\n",
       "    }\n",
       "</style>\n",
       "<table border=\"1\" class=\"dataframe\">\n",
       "  <thead>\n",
       "    <tr style=\"text-align: right;\">\n",
       "      <th></th>\n",
       "      <th>Unnamed: 0</th>\n",
       "      <th>price</th>\n",
       "      <th>max_floor</th>\n",
       "      <th>num_rooms</th>\n",
       "      <th>area</th>\n",
       "      <th>num_bathrooms</th>\n",
       "      <th>floor</th>\n",
       "      <th>ceiling_height</th>\n",
       "    </tr>\n",
       "  </thead>\n",
       "  <tbody>\n",
       "    <tr>\n",
       "      <th>Unnamed: 0</th>\n",
       "      <td>1.000000</td>\n",
       "      <td>0.012869</td>\n",
       "      <td>0.018610</td>\n",
       "      <td>0.054708</td>\n",
       "      <td>0.023779</td>\n",
       "      <td>0.040317</td>\n",
       "      <td>0.003506</td>\n",
       "      <td>0.035008</td>\n",
       "    </tr>\n",
       "    <tr>\n",
       "      <th>price</th>\n",
       "      <td>0.012869</td>\n",
       "      <td>1.000000</td>\n",
       "      <td>0.105915</td>\n",
       "      <td>0.343041</td>\n",
       "      <td>0.626492</td>\n",
       "      <td>0.422173</td>\n",
       "      <td>0.068959</td>\n",
       "      <td>0.369952</td>\n",
       "    </tr>\n",
       "    <tr>\n",
       "      <th>max_floor</th>\n",
       "      <td>0.018610</td>\n",
       "      <td>0.105915</td>\n",
       "      <td>1.000000</td>\n",
       "      <td>0.045562</td>\n",
       "      <td>0.162761</td>\n",
       "      <td>0.112671</td>\n",
       "      <td>0.637155</td>\n",
       "      <td>-0.063595</td>\n",
       "    </tr>\n",
       "    <tr>\n",
       "      <th>num_rooms</th>\n",
       "      <td>0.054708</td>\n",
       "      <td>0.343041</td>\n",
       "      <td>0.045562</td>\n",
       "      <td>1.000000</td>\n",
       "      <td>0.746930</td>\n",
       "      <td>0.267053</td>\n",
       "      <td>0.055180</td>\n",
       "      <td>0.069899</td>\n",
       "    </tr>\n",
       "    <tr>\n",
       "      <th>area</th>\n",
       "      <td>0.023779</td>\n",
       "      <td>0.626492</td>\n",
       "      <td>0.162761</td>\n",
       "      <td>0.746930</td>\n",
       "      <td>1.000000</td>\n",
       "      <td>0.414221</td>\n",
       "      <td>0.109706</td>\n",
       "      <td>0.201462</td>\n",
       "    </tr>\n",
       "    <tr>\n",
       "      <th>num_bathrooms</th>\n",
       "      <td>0.040317</td>\n",
       "      <td>0.422173</td>\n",
       "      <td>0.112671</td>\n",
       "      <td>0.267053</td>\n",
       "      <td>0.414221</td>\n",
       "      <td>1.000000</td>\n",
       "      <td>0.062784</td>\n",
       "      <td>0.217549</td>\n",
       "    </tr>\n",
       "    <tr>\n",
       "      <th>floor</th>\n",
       "      <td>0.003506</td>\n",
       "      <td>0.068959</td>\n",
       "      <td>0.637155</td>\n",
       "      <td>0.055180</td>\n",
       "      <td>0.109706</td>\n",
       "      <td>0.062784</td>\n",
       "      <td>1.000000</td>\n",
       "      <td>-0.045235</td>\n",
       "    </tr>\n",
       "    <tr>\n",
       "      <th>ceiling_height</th>\n",
       "      <td>0.035008</td>\n",
       "      <td>0.369952</td>\n",
       "      <td>-0.063595</td>\n",
       "      <td>0.069899</td>\n",
       "      <td>0.201462</td>\n",
       "      <td>0.217549</td>\n",
       "      <td>-0.045235</td>\n",
       "      <td>1.000000</td>\n",
       "    </tr>\n",
       "  </tbody>\n",
       "</table>\n",
       "</div>"
      ],
      "text/plain": [
       "                Unnamed: 0     price  max_floor  num_rooms      area  \\\n",
       "Unnamed: 0        1.000000  0.012869   0.018610   0.054708  0.023779   \n",
       "price             0.012869  1.000000   0.105915   0.343041  0.626492   \n",
       "max_floor         0.018610  0.105915   1.000000   0.045562  0.162761   \n",
       "num_rooms         0.054708  0.343041   0.045562   1.000000  0.746930   \n",
       "area              0.023779  0.626492   0.162761   0.746930  1.000000   \n",
       "num_bathrooms     0.040317  0.422173   0.112671   0.267053  0.414221   \n",
       "floor             0.003506  0.068959   0.637155   0.055180  0.109706   \n",
       "ceiling_height    0.035008  0.369952  -0.063595   0.069899  0.201462   \n",
       "\n",
       "                num_bathrooms     floor  ceiling_height  \n",
       "Unnamed: 0           0.040317  0.003506        0.035008  \n",
       "price                0.422173  0.068959        0.369952  \n",
       "max_floor            0.112671  0.637155       -0.063595  \n",
       "num_rooms            0.267053  0.055180        0.069899  \n",
       "area                 0.414221  0.109706        0.201462  \n",
       "num_bathrooms        1.000000  0.062784        0.217549  \n",
       "floor                0.062784  1.000000       -0.045235  \n",
       "ceiling_height       0.217549 -0.045235        1.000000  "
      ]
     },
     "execution_count": 13,
     "metadata": {},
     "output_type": "execute_result"
    }
   ],
   "source": [
    "data_ex_obj.corr()"
   ]
  },
  {
   "cell_type": "code",
   "execution_count": 14,
   "metadata": {
    "tags": []
   },
   "outputs": [
    {
     "data": {
      "text/html": [
       "<div>\n",
       "<style scoped>\n",
       "    .dataframe tbody tr th:only-of-type {\n",
       "        vertical-align: middle;\n",
       "    }\n",
       "\n",
       "    .dataframe tbody tr th {\n",
       "        vertical-align: top;\n",
       "    }\n",
       "\n",
       "    .dataframe thead th {\n",
       "        text-align: right;\n",
       "    }\n",
       "</style>\n",
       "<table border=\"1\" class=\"dataframe\">\n",
       "  <thead>\n",
       "    <tr style=\"text-align: right;\">\n",
       "      <th></th>\n",
       "      <th>price</th>\n",
       "    </tr>\n",
       "  </thead>\n",
       "  <tbody>\n",
       "    <tr>\n",
       "      <th>0</th>\n",
       "      <td>100000.0</td>\n",
       "    </tr>\n",
       "    <tr>\n",
       "      <th>1</th>\n",
       "      <td>52000.0</td>\n",
       "    </tr>\n",
       "    <tr>\n",
       "      <th>2</th>\n",
       "      <td>52000.0</td>\n",
       "    </tr>\n",
       "    <tr>\n",
       "      <th>3</th>\n",
       "      <td>130000.0</td>\n",
       "    </tr>\n",
       "    <tr>\n",
       "      <th>4</th>\n",
       "      <td>81600.0</td>\n",
       "    </tr>\n",
       "    <tr>\n",
       "      <th>...</th>\n",
       "      <td>...</td>\n",
       "    </tr>\n",
       "    <tr>\n",
       "      <th>4996</th>\n",
       "      <td>70000.0</td>\n",
       "    </tr>\n",
       "    <tr>\n",
       "      <th>4997</th>\n",
       "      <td>77000.0</td>\n",
       "    </tr>\n",
       "    <tr>\n",
       "      <th>4998</th>\n",
       "      <td>46000.0</td>\n",
       "    </tr>\n",
       "    <tr>\n",
       "      <th>4999</th>\n",
       "      <td>99000.0</td>\n",
       "    </tr>\n",
       "    <tr>\n",
       "      <th>5000</th>\n",
       "      <td>100000.0</td>\n",
       "    </tr>\n",
       "  </tbody>\n",
       "</table>\n",
       "<p>5001 rows × 1 columns</p>\n",
       "</div>"
      ],
      "text/plain": [
       "         price\n",
       "0     100000.0\n",
       "1      52000.0\n",
       "2      52000.0\n",
       "3     130000.0\n",
       "4      81600.0\n",
       "...        ...\n",
       "4996   70000.0\n",
       "4997   77000.0\n",
       "4998   46000.0\n",
       "4999   99000.0\n",
       "5000  100000.0\n",
       "\n",
       "[5001 rows x 1 columns]"
      ]
     },
     "execution_count": 14,
     "metadata": {},
     "output_type": "execute_result"
    }
   ],
   "source": [
    "X = data_ex_obj.drop(['price'], axis = 1)\n",
    "y = data_ex_obj.loc[:, data_ex_obj.columns == \"price\"]\n",
    "y"
   ]
  },
  {
   "cell_type": "code",
   "execution_count": 15,
   "metadata": {
    "tags": []
   },
   "outputs": [
    {
     "data": {
      "text/plain": [
       "Index(['Unnamed: 0', 'max_floor', 'num_rooms', 'area', 'num_bathrooms',\n",
       "       'floor', 'ceiling_height', 'condition', 'building_type', 'district',\n",
       "       'street'],\n",
       "      dtype='object')"
      ]
     },
     "execution_count": 15,
     "metadata": {},
     "output_type": "execute_result"
    }
   ],
   "source": [
    "X['condition'] = df['condition']\n",
    "X['building_type'] = df['building_type']\n",
    "X['district'] = df['district']\n",
    "X['street'] = df['street']\n",
    "\n",
    "X.columns"
   ]
  },
  {
   "cell_type": "code",
   "execution_count": 16,
   "metadata": {
    "tags": []
   },
   "outputs": [
    {
     "data": {
      "text/html": [
       "<div>\n",
       "<style scoped>\n",
       "    .dataframe tbody tr th:only-of-type {\n",
       "        vertical-align: middle;\n",
       "    }\n",
       "\n",
       "    .dataframe tbody tr th {\n",
       "        vertical-align: top;\n",
       "    }\n",
       "\n",
       "    .dataframe thead th {\n",
       "        text-align: right;\n",
       "    }\n",
       "</style>\n",
       "<table border=\"1\" class=\"dataframe\">\n",
       "  <thead>\n",
       "    <tr style=\"text-align: right;\">\n",
       "      <th></th>\n",
       "      <th>Unnamed: 0</th>\n",
       "      <th>max_floor</th>\n",
       "      <th>num_rooms</th>\n",
       "      <th>area</th>\n",
       "      <th>num_bathrooms</th>\n",
       "      <th>floor</th>\n",
       "      <th>ceiling_height</th>\n",
       "      <th>condition_good</th>\n",
       "      <th>condition_newly repaired</th>\n",
       "      <th>condition_zero condition</th>\n",
       "      <th>...</th>\n",
       "      <th>street_Vratsakan 4 alley</th>\n",
       "      <th>street_Vratsakan St</th>\n",
       "      <th>street_Vratsyan St</th>\n",
       "      <th>street_Yekmalyan St</th>\n",
       "      <th>street_Yerznkyan St</th>\n",
       "      <th>street_Z. Sarkavag 3 dead end</th>\n",
       "      <th>street_Z. Sarkavag St</th>\n",
       "      <th>street_Z.Andranik St</th>\n",
       "      <th>street_Zakyan St</th>\n",
       "      <th>street_Zavaryan St</th>\n",
       "    </tr>\n",
       "  </thead>\n",
       "  <tbody>\n",
       "    <tr>\n",
       "      <th>0</th>\n",
       "      <td>4598</td>\n",
       "      <td>6</td>\n",
       "      <td>3</td>\n",
       "      <td>96.0</td>\n",
       "      <td>1</td>\n",
       "      <td>4</td>\n",
       "      <td>3.0</td>\n",
       "      <td>0</td>\n",
       "      <td>1</td>\n",
       "      <td>0</td>\n",
       "      <td>...</td>\n",
       "      <td>0</td>\n",
       "      <td>0</td>\n",
       "      <td>0</td>\n",
       "      <td>0</td>\n",
       "      <td>0</td>\n",
       "      <td>0</td>\n",
       "      <td>0</td>\n",
       "      <td>0</td>\n",
       "      <td>0</td>\n",
       "      <td>0</td>\n",
       "    </tr>\n",
       "    <tr>\n",
       "      <th>1</th>\n",
       "      <td>5940</td>\n",
       "      <td>14</td>\n",
       "      <td>3</td>\n",
       "      <td>78.0</td>\n",
       "      <td>1</td>\n",
       "      <td>10</td>\n",
       "      <td>2.8</td>\n",
       "      <td>1</td>\n",
       "      <td>0</td>\n",
       "      <td>0</td>\n",
       "      <td>...</td>\n",
       "      <td>0</td>\n",
       "      <td>0</td>\n",
       "      <td>0</td>\n",
       "      <td>0</td>\n",
       "      <td>0</td>\n",
       "      <td>0</td>\n",
       "      <td>0</td>\n",
       "      <td>0</td>\n",
       "      <td>0</td>\n",
       "      <td>0</td>\n",
       "    </tr>\n",
       "    <tr>\n",
       "      <th>2</th>\n",
       "      <td>2302</td>\n",
       "      <td>9</td>\n",
       "      <td>3</td>\n",
       "      <td>97.0</td>\n",
       "      <td>1</td>\n",
       "      <td>1</td>\n",
       "      <td>2.8</td>\n",
       "      <td>0</td>\n",
       "      <td>1</td>\n",
       "      <td>0</td>\n",
       "      <td>...</td>\n",
       "      <td>0</td>\n",
       "      <td>0</td>\n",
       "      <td>0</td>\n",
       "      <td>0</td>\n",
       "      <td>0</td>\n",
       "      <td>0</td>\n",
       "      <td>0</td>\n",
       "      <td>0</td>\n",
       "      <td>0</td>\n",
       "      <td>0</td>\n",
       "    </tr>\n",
       "    <tr>\n",
       "      <th>3</th>\n",
       "      <td>5628</td>\n",
       "      <td>4</td>\n",
       "      <td>3</td>\n",
       "      <td>80.0</td>\n",
       "      <td>1</td>\n",
       "      <td>2</td>\n",
       "      <td>3.2</td>\n",
       "      <td>1</td>\n",
       "      <td>0</td>\n",
       "      <td>0</td>\n",
       "      <td>...</td>\n",
       "      <td>0</td>\n",
       "      <td>0</td>\n",
       "      <td>0</td>\n",
       "      <td>0</td>\n",
       "      <td>0</td>\n",
       "      <td>0</td>\n",
       "      <td>0</td>\n",
       "      <td>0</td>\n",
       "      <td>0</td>\n",
       "      <td>0</td>\n",
       "    </tr>\n",
       "    <tr>\n",
       "      <th>4</th>\n",
       "      <td>760</td>\n",
       "      <td>9</td>\n",
       "      <td>3</td>\n",
       "      <td>107.0</td>\n",
       "      <td>1</td>\n",
       "      <td>9</td>\n",
       "      <td>3.0</td>\n",
       "      <td>0</td>\n",
       "      <td>0</td>\n",
       "      <td>1</td>\n",
       "      <td>...</td>\n",
       "      <td>0</td>\n",
       "      <td>0</td>\n",
       "      <td>0</td>\n",
       "      <td>0</td>\n",
       "      <td>0</td>\n",
       "      <td>0</td>\n",
       "      <td>0</td>\n",
       "      <td>0</td>\n",
       "      <td>0</td>\n",
       "      <td>0</td>\n",
       "    </tr>\n",
       "  </tbody>\n",
       "</table>\n",
       "<p>5 rows × 377 columns</p>\n",
       "</div>"
      ],
      "text/plain": [
       "   Unnamed: 0  max_floor  num_rooms   area  num_bathrooms  floor  \\\n",
       "0        4598          6          3   96.0              1      4   \n",
       "1        5940         14          3   78.0              1     10   \n",
       "2        2302          9          3   97.0              1      1   \n",
       "3        5628          4          3   80.0              1      2   \n",
       "4         760          9          3  107.0              1      9   \n",
       "\n",
       "   ceiling_height  condition_good  condition_newly repaired  \\\n",
       "0             3.0               0                         1   \n",
       "1             2.8               1                         0   \n",
       "2             2.8               0                         1   \n",
       "3             3.2               1                         0   \n",
       "4             3.0               0                         0   \n",
       "\n",
       "   condition_zero condition  ...  street_Vratsakan 4 alley  \\\n",
       "0                         0  ...                         0   \n",
       "1                         0  ...                         0   \n",
       "2                         0  ...                         0   \n",
       "3                         0  ...                         0   \n",
       "4                         1  ...                         0   \n",
       "\n",
       "   street_Vratsakan St  street_Vratsyan St  street_Yekmalyan St  \\\n",
       "0                    0                   0                    0   \n",
       "1                    0                   0                    0   \n",
       "2                    0                   0                    0   \n",
       "3                    0                   0                    0   \n",
       "4                    0                   0                    0   \n",
       "\n",
       "   street_Yerznkyan St  street_Z. Sarkavag 3 dead end  street_Z. Sarkavag St  \\\n",
       "0                    0                              0                      0   \n",
       "1                    0                              0                      0   \n",
       "2                    0                              0                      0   \n",
       "3                    0                              0                      0   \n",
       "4                    0                              0                      0   \n",
       "\n",
       "   street_Z.Andranik St  street_Zakyan St  street_Zavaryan St  \n",
       "0                     0                 0                   0  \n",
       "1                     0                 0                   0  \n",
       "2                     0                 0                   0  \n",
       "3                     0                 0                   0  \n",
       "4                     0                 0                   0  \n",
       "\n",
       "[5 rows x 377 columns]"
      ]
     },
     "execution_count": 16,
     "metadata": {},
     "output_type": "execute_result"
    }
   ],
   "source": [
    "X = pd.get_dummies(X[['Unnamed: 0', 'max_floor', 'num_rooms', 'area', 'num_bathrooms',\n",
    "       'floor', 'ceiling_height', 'condition', 'building_type', 'district', 'street']])\n",
    "X.head()"
   ]
  },
  {
   "cell_type": "code",
   "execution_count": null,
   "metadata": {},
   "outputs": [],
   "source": []
  },
  {
   "cell_type": "code",
   "execution_count": 17,
   "metadata": {
    "tags": []
   },
   "outputs": [],
   "source": [
    "X_train, X_test, y_train, y_test = train_test_split(X, y, test_size=0.2, shuffle=True, random_state=1234 )"
   ]
  },
  {
   "cell_type": "code",
   "execution_count": null,
   "metadata": {},
   "outputs": [],
   "source": []
  },
  {
   "cell_type": "code",
   "execution_count": 18,
   "metadata": {
    "tags": []
   },
   "outputs": [
    {
     "data": {
      "text/html": [
       "<div>\n",
       "<style scoped>\n",
       "    .dataframe tbody tr th:only-of-type {\n",
       "        vertical-align: middle;\n",
       "    }\n",
       "\n",
       "    .dataframe tbody tr th {\n",
       "        vertical-align: top;\n",
       "    }\n",
       "\n",
       "    .dataframe thead th {\n",
       "        text-align: right;\n",
       "    }\n",
       "</style>\n",
       "<table border=\"1\" class=\"dataframe\">\n",
       "  <thead>\n",
       "    <tr style=\"text-align: right;\">\n",
       "      <th></th>\n",
       "      <th>Unnamed: 0</th>\n",
       "      <th>max_floor</th>\n",
       "      <th>num_rooms</th>\n",
       "      <th>area</th>\n",
       "      <th>num_bathrooms</th>\n",
       "      <th>floor</th>\n",
       "      <th>ceiling_height</th>\n",
       "      <th>condition_good</th>\n",
       "      <th>condition_newly repaired</th>\n",
       "      <th>condition_zero condition</th>\n",
       "      <th>...</th>\n",
       "      <th>street_Vratsakan 4 alley</th>\n",
       "      <th>street_Vratsakan St</th>\n",
       "      <th>street_Vratsyan St</th>\n",
       "      <th>street_Yekmalyan St</th>\n",
       "      <th>street_Yerznkyan St</th>\n",
       "      <th>street_Z. Sarkavag 3 dead end</th>\n",
       "      <th>street_Z. Sarkavag St</th>\n",
       "      <th>street_Z.Andranik St</th>\n",
       "      <th>street_Zakyan St</th>\n",
       "      <th>street_Zavaryan St</th>\n",
       "    </tr>\n",
       "  </thead>\n",
       "  <tbody>\n",
       "    <tr>\n",
       "      <th>2706</th>\n",
       "      <td>6471</td>\n",
       "      <td>10</td>\n",
       "      <td>1</td>\n",
       "      <td>41.0</td>\n",
       "      <td>1</td>\n",
       "      <td>4</td>\n",
       "      <td>3.0</td>\n",
       "      <td>1</td>\n",
       "      <td>0</td>\n",
       "      <td>0</td>\n",
       "      <td>...</td>\n",
       "      <td>0</td>\n",
       "      <td>0</td>\n",
       "      <td>0</td>\n",
       "      <td>0</td>\n",
       "      <td>0</td>\n",
       "      <td>0</td>\n",
       "      <td>0</td>\n",
       "      <td>0</td>\n",
       "      <td>0</td>\n",
       "      <td>0</td>\n",
       "    </tr>\n",
       "    <tr>\n",
       "      <th>2436</th>\n",
       "      <td>2137</td>\n",
       "      <td>9</td>\n",
       "      <td>5</td>\n",
       "      <td>133.0</td>\n",
       "      <td>3</td>\n",
       "      <td>1</td>\n",
       "      <td>2.8</td>\n",
       "      <td>1</td>\n",
       "      <td>0</td>\n",
       "      <td>0</td>\n",
       "      <td>...</td>\n",
       "      <td>0</td>\n",
       "      <td>0</td>\n",
       "      <td>0</td>\n",
       "      <td>0</td>\n",
       "      <td>0</td>\n",
       "      <td>0</td>\n",
       "      <td>0</td>\n",
       "      <td>0</td>\n",
       "      <td>0</td>\n",
       "      <td>0</td>\n",
       "    </tr>\n",
       "    <tr>\n",
       "      <th>1201</th>\n",
       "      <td>1902</td>\n",
       "      <td>5</td>\n",
       "      <td>3</td>\n",
       "      <td>90.0</td>\n",
       "      <td>2</td>\n",
       "      <td>4</td>\n",
       "      <td>3.2</td>\n",
       "      <td>0</td>\n",
       "      <td>1</td>\n",
       "      <td>0</td>\n",
       "      <td>...</td>\n",
       "      <td>0</td>\n",
       "      <td>0</td>\n",
       "      <td>0</td>\n",
       "      <td>0</td>\n",
       "      <td>0</td>\n",
       "      <td>0</td>\n",
       "      <td>0</td>\n",
       "      <td>0</td>\n",
       "      <td>0</td>\n",
       "      <td>0</td>\n",
       "    </tr>\n",
       "    <tr>\n",
       "      <th>1486</th>\n",
       "      <td>40</td>\n",
       "      <td>10</td>\n",
       "      <td>4</td>\n",
       "      <td>104.0</td>\n",
       "      <td>1</td>\n",
       "      <td>2</td>\n",
       "      <td>2.8</td>\n",
       "      <td>0</td>\n",
       "      <td>1</td>\n",
       "      <td>0</td>\n",
       "      <td>...</td>\n",
       "      <td>0</td>\n",
       "      <td>0</td>\n",
       "      <td>0</td>\n",
       "      <td>0</td>\n",
       "      <td>0</td>\n",
       "      <td>0</td>\n",
       "      <td>0</td>\n",
       "      <td>0</td>\n",
       "      <td>0</td>\n",
       "      <td>0</td>\n",
       "    </tr>\n",
       "    <tr>\n",
       "      <th>4286</th>\n",
       "      <td>1770</td>\n",
       "      <td>5</td>\n",
       "      <td>1</td>\n",
       "      <td>42.0</td>\n",
       "      <td>1</td>\n",
       "      <td>3</td>\n",
       "      <td>2.8</td>\n",
       "      <td>1</td>\n",
       "      <td>0</td>\n",
       "      <td>0</td>\n",
       "      <td>...</td>\n",
       "      <td>0</td>\n",
       "      <td>0</td>\n",
       "      <td>0</td>\n",
       "      <td>0</td>\n",
       "      <td>0</td>\n",
       "      <td>0</td>\n",
       "      <td>0</td>\n",
       "      <td>0</td>\n",
       "      <td>0</td>\n",
       "      <td>0</td>\n",
       "    </tr>\n",
       "    <tr>\n",
       "      <th>...</th>\n",
       "      <td>...</td>\n",
       "      <td>...</td>\n",
       "      <td>...</td>\n",
       "      <td>...</td>\n",
       "      <td>...</td>\n",
       "      <td>...</td>\n",
       "      <td>...</td>\n",
       "      <td>...</td>\n",
       "      <td>...</td>\n",
       "      <td>...</td>\n",
       "      <td>...</td>\n",
       "      <td>...</td>\n",
       "      <td>...</td>\n",
       "      <td>...</td>\n",
       "      <td>...</td>\n",
       "      <td>...</td>\n",
       "      <td>...</td>\n",
       "      <td>...</td>\n",
       "      <td>...</td>\n",
       "      <td>...</td>\n",
       "      <td>...</td>\n",
       "    </tr>\n",
       "    <tr>\n",
       "      <th>2724</th>\n",
       "      <td>4550</td>\n",
       "      <td>5</td>\n",
       "      <td>4</td>\n",
       "      <td>80.0</td>\n",
       "      <td>1</td>\n",
       "      <td>4</td>\n",
       "      <td>2.8</td>\n",
       "      <td>1</td>\n",
       "      <td>0</td>\n",
       "      <td>0</td>\n",
       "      <td>...</td>\n",
       "      <td>0</td>\n",
       "      <td>0</td>\n",
       "      <td>0</td>\n",
       "      <td>0</td>\n",
       "      <td>0</td>\n",
       "      <td>0</td>\n",
       "      <td>0</td>\n",
       "      <td>0</td>\n",
       "      <td>0</td>\n",
       "      <td>0</td>\n",
       "    </tr>\n",
       "    <tr>\n",
       "      <th>4892</th>\n",
       "      <td>2402</td>\n",
       "      <td>12</td>\n",
       "      <td>2</td>\n",
       "      <td>63.0</td>\n",
       "      <td>1</td>\n",
       "      <td>4</td>\n",
       "      <td>2.8</td>\n",
       "      <td>1</td>\n",
       "      <td>0</td>\n",
       "      <td>0</td>\n",
       "      <td>...</td>\n",
       "      <td>0</td>\n",
       "      <td>0</td>\n",
       "      <td>0</td>\n",
       "      <td>0</td>\n",
       "      <td>0</td>\n",
       "      <td>0</td>\n",
       "      <td>0</td>\n",
       "      <td>0</td>\n",
       "      <td>0</td>\n",
       "      <td>0</td>\n",
       "    </tr>\n",
       "    <tr>\n",
       "      <th>4746</th>\n",
       "      <td>1591</td>\n",
       "      <td>13</td>\n",
       "      <td>4</td>\n",
       "      <td>127.0</td>\n",
       "      <td>1</td>\n",
       "      <td>4</td>\n",
       "      <td>2.8</td>\n",
       "      <td>0</td>\n",
       "      <td>1</td>\n",
       "      <td>0</td>\n",
       "      <td>...</td>\n",
       "      <td>0</td>\n",
       "      <td>0</td>\n",
       "      <td>0</td>\n",
       "      <td>0</td>\n",
       "      <td>0</td>\n",
       "      <td>0</td>\n",
       "      <td>0</td>\n",
       "      <td>0</td>\n",
       "      <td>0</td>\n",
       "      <td>0</td>\n",
       "    </tr>\n",
       "    <tr>\n",
       "      <th>4416</th>\n",
       "      <td>4719</td>\n",
       "      <td>6</td>\n",
       "      <td>3</td>\n",
       "      <td>90.0</td>\n",
       "      <td>1</td>\n",
       "      <td>6</td>\n",
       "      <td>2.8</td>\n",
       "      <td>0</td>\n",
       "      <td>1</td>\n",
       "      <td>0</td>\n",
       "      <td>...</td>\n",
       "      <td>0</td>\n",
       "      <td>0</td>\n",
       "      <td>0</td>\n",
       "      <td>0</td>\n",
       "      <td>0</td>\n",
       "      <td>0</td>\n",
       "      <td>0</td>\n",
       "      <td>0</td>\n",
       "      <td>0</td>\n",
       "      <td>0</td>\n",
       "    </tr>\n",
       "    <tr>\n",
       "      <th>3700</th>\n",
       "      <td>1818</td>\n",
       "      <td>4</td>\n",
       "      <td>3</td>\n",
       "      <td>105.0</td>\n",
       "      <td>1</td>\n",
       "      <td>4</td>\n",
       "      <td>3.2</td>\n",
       "      <td>0</td>\n",
       "      <td>1</td>\n",
       "      <td>0</td>\n",
       "      <td>...</td>\n",
       "      <td>0</td>\n",
       "      <td>0</td>\n",
       "      <td>0</td>\n",
       "      <td>0</td>\n",
       "      <td>0</td>\n",
       "      <td>0</td>\n",
       "      <td>0</td>\n",
       "      <td>0</td>\n",
       "      <td>0</td>\n",
       "      <td>0</td>\n",
       "    </tr>\n",
       "  </tbody>\n",
       "</table>\n",
       "<p>1001 rows × 377 columns</p>\n",
       "</div>"
      ],
      "text/plain": [
       "      Unnamed: 0  max_floor  num_rooms   area  num_bathrooms  floor  \\\n",
       "2706        6471         10          1   41.0              1      4   \n",
       "2436        2137          9          5  133.0              3      1   \n",
       "1201        1902          5          3   90.0              2      4   \n",
       "1486          40         10          4  104.0              1      2   \n",
       "4286        1770          5          1   42.0              1      3   \n",
       "...          ...        ...        ...    ...            ...    ...   \n",
       "2724        4550          5          4   80.0              1      4   \n",
       "4892        2402         12          2   63.0              1      4   \n",
       "4746        1591         13          4  127.0              1      4   \n",
       "4416        4719          6          3   90.0              1      6   \n",
       "3700        1818          4          3  105.0              1      4   \n",
       "\n",
       "      ceiling_height  condition_good  condition_newly repaired  \\\n",
       "2706             3.0               1                         0   \n",
       "2436             2.8               1                         0   \n",
       "1201             3.2               0                         1   \n",
       "1486             2.8               0                         1   \n",
       "4286             2.8               1                         0   \n",
       "...              ...             ...                       ...   \n",
       "2724             2.8               1                         0   \n",
       "4892             2.8               1                         0   \n",
       "4746             2.8               0                         1   \n",
       "4416             2.8               0                         1   \n",
       "3700             3.2               0                         1   \n",
       "\n",
       "      condition_zero condition  ...  street_Vratsakan 4 alley  \\\n",
       "2706                         0  ...                         0   \n",
       "2436                         0  ...                         0   \n",
       "1201                         0  ...                         0   \n",
       "1486                         0  ...                         0   \n",
       "4286                         0  ...                         0   \n",
       "...                        ...  ...                       ...   \n",
       "2724                         0  ...                         0   \n",
       "4892                         0  ...                         0   \n",
       "4746                         0  ...                         0   \n",
       "4416                         0  ...                         0   \n",
       "3700                         0  ...                         0   \n",
       "\n",
       "      street_Vratsakan St  street_Vratsyan St  street_Yekmalyan St  \\\n",
       "2706                    0                   0                    0   \n",
       "2436                    0                   0                    0   \n",
       "1201                    0                   0                    0   \n",
       "1486                    0                   0                    0   \n",
       "4286                    0                   0                    0   \n",
       "...                   ...                 ...                  ...   \n",
       "2724                    0                   0                    0   \n",
       "4892                    0                   0                    0   \n",
       "4746                    0                   0                    0   \n",
       "4416                    0                   0                    0   \n",
       "3700                    0                   0                    0   \n",
       "\n",
       "      street_Yerznkyan St  street_Z. Sarkavag 3 dead end  \\\n",
       "2706                    0                              0   \n",
       "2436                    0                              0   \n",
       "1201                    0                              0   \n",
       "1486                    0                              0   \n",
       "4286                    0                              0   \n",
       "...                   ...                            ...   \n",
       "2724                    0                              0   \n",
       "4892                    0                              0   \n",
       "4746                    0                              0   \n",
       "4416                    0                              0   \n",
       "3700                    0                              0   \n",
       "\n",
       "      street_Z. Sarkavag St  street_Z.Andranik St  street_Zakyan St  \\\n",
       "2706                      0                     0                 0   \n",
       "2436                      0                     0                 0   \n",
       "1201                      0                     0                 0   \n",
       "1486                      0                     0                 0   \n",
       "4286                      0                     0                 0   \n",
       "...                     ...                   ...               ...   \n",
       "2724                      0                     0                 0   \n",
       "4892                      0                     0                 0   \n",
       "4746                      0                     0                 0   \n",
       "4416                      0                     0                 0   \n",
       "3700                      0                     0                 0   \n",
       "\n",
       "      street_Zavaryan St  \n",
       "2706                   0  \n",
       "2436                   0  \n",
       "1201                   0  \n",
       "1486                   0  \n",
       "4286                   0  \n",
       "...                  ...  \n",
       "2724                   0  \n",
       "4892                   0  \n",
       "4746                   0  \n",
       "4416                   0  \n",
       "3700                   0  \n",
       "\n",
       "[1001 rows x 377 columns]"
      ]
     },
     "execution_count": 18,
     "metadata": {},
     "output_type": "execute_result"
    }
   ],
   "source": [
    "norm = MinMaxScaler().fit(X_train)\n",
    "X_train_norm = pd.DataFrame(columns = X_train.columns, data = norm.transform(X_train))\n",
    "X_test_norm = pd.DataFrame(columns = X_test.columns, data = norm.transform(X_test))\n",
    "\n",
    "X_train_norm = X_train\n",
    "X_test_norm = X_test\n",
    "\n",
    "X_test_norm"
   ]
  },
  {
   "cell_type": "code",
   "execution_count": 19,
   "metadata": {
    "collapsed": true,
    "jupyter": {
     "outputs_hidden": true
    },
    "tags": []
   },
   "outputs": [
    {
     "name": "stdout",
     "output_type": "stream",
     "text": [
      "b0: -8272977263337.675\n",
      "b1: [[-2.31370645e-01  6.33868933e+02 -2.84189114e+03  1.09098888e+03\n",
      "   9.89534213e+03 -6.41703024e+02  1.72094811e+04  1.19264620e+13\n",
      "   1.19264620e+13  1.19264620e+13 -7.61012482e+12 -7.61012483e+12\n",
      "  -7.61012484e+12 -7.61012483e+12  3.85807475e+12  4.19705535e+12\n",
      "   4.35787174e+12  3.78402364e+12  3.87641114e+12  3.64364700e+12\n",
      "   4.07710638e+12  3.87641114e+12  2.65778794e+12  1.05976112e+12\n",
      "   4.08195095e+12  3.78402363e+12  1.55348931e+12 -1.25310917e+11\n",
      "   9.85652550e+10  9.85652545e+10  9.85652643e+10 -2.40415316e+11\n",
      "  -1.20466364e+11  8.02288685e+10 -2.40415309e+11 -1.25310914e+11\n",
      "  -1.25310923e+11  1.72616420e+11  1.72616437e+11 -2.40415334e+11\n",
      "   9.85652755e+10  1.72616454e+11 -4.01231727e+11 -2.40415321e+11\n",
      "   1.72616406e+11 -1.25310909e+11  1.72616439e+11 -2.40415329e+11\n",
      "   9.85652868e+10 -4.01231724e+11  1.72616449e+11  1.72616426e+11\n",
      "  -2.40415346e+11 -2.40415313e+11 -2.40415322e+11 -2.40415293e+11\n",
      "  -2.40415133e+11 -6.48037453e+09 -2.40415321e+11 -2.40415337e+11\n",
      "  -2.40415323e+11  1.72616396e+11  9.85652852e+10  1.72616474e+11\n",
      "  -1.20466383e+11  1.72616404e+11  1.72616392e+11 -4.01231724e+11\n",
      "   1.29885213e+12  1.72616395e+11  1.72616402e+11  3.12993026e+11\n",
      "   3.12993025e+11 -2.40415315e+11  9.85652665e+10  3.12993023e+11\n",
      "  -4.01231714e+11 -4.01231722e+11 -4.01231724e+11  3.12993020e+11\n",
      "  -5.21708104e+07  1.72616403e+11 -2.40415295e+11 -2.40415316e+11\n",
      "  -2.40415290e+11  1.72616424e+11 -9.39039846e+06  1.72616400e+11\n",
      "   1.72616403e+11  1.72616390e+11  3.12993035e+11 -2.40415318e+11\n",
      "  -2.40415339e+11 -1.25310904e+11 -2.40415331e+11  8.02288742e+10\n",
      "  -5.35593754e+04 -2.40415304e+11  1.72616452e+11  1.72616430e+11\n",
      "  -2.40415303e+11  1.72616362e+11  1.72616390e+11  1.72616395e+11\n",
      "   8.02289077e+10  8.02288848e+10 -2.40415325e+11  9.85652369e+10\n",
      "   9.85652603e+10  9.85652590e+10  8.02288865e+10  1.72616448e+11\n",
      "   9.85652696e+10  1.72616411e+11 -4.01231717e+11  1.72616465e+11\n",
      "   1.72616420e+11 -4.01231723e+11  1.72616386e+11  1.72616429e+11\n",
      "   8.02288786e+10 -1.25310907e+11  8.02288780e+10  8.02288815e+10\n",
      "   8.02288861e+10  8.02288937e+10  8.02288868e+10  3.64807129e-01\n",
      "   8.02288829e+10  8.02288826e+10  8.02288801e+10  1.72616438e+11\n",
      "  -1.25310910e+11 -4.01231713e+11 -4.01231723e+11  8.02288990e+10\n",
      "   1.72616433e+11  1.72616400e+11 -1.25310946e+11  3.12992994e+11\n",
      "   3.12993036e+11  9.85652639e+10  1.72616372e+11  7.32421875e-04\n",
      "   1.72616381e+11  1.72616394e+11  9.85652878e+10  9.85652730e+10\n",
      "   9.85652233e+10  1.72616398e+11  1.72616433e+11  8.02288709e+10\n",
      "   1.72616399e+11  8.02288861e+10 -2.40415333e+11  1.72616440e+11\n",
      "   1.72616386e+11  3.12993037e+11 -1.25310914e+11 -2.40415314e+11\n",
      "  -2.40415282e+11 -1.20466369e+11 -2.40415306e+11  8.02288753e+10\n",
      "   8.02288910e+10  8.02288750e+10  1.72616418e+11 -2.40415311e+11\n",
      "   9.85652752e+10 -2.40415309e+11  1.72616434e+11  2.47545249e-05\n",
      "  -1.25310916e+11  9.85652653e+10  1.72616398e+11  1.72616467e+11\n",
      "  -4.01231723e+11 -2.40415317e+11 -2.40415315e+11 -2.40415311e+11\n",
      "   1.72616479e+11 -4.01231726e+11  1.72616374e+11 -1.20466363e+11\n",
      "   1.72616410e+11  9.85652704e+10 -1.20466404e+11  8.02288681e+10\n",
      "   8.02288937e+10 -1.25310918e+11  1.72616408e+11 -2.40415308e+11\n",
      "  -1.25310937e+11 -1.25310905e+11 -1.25310935e+11 -1.25310909e+11\n",
      "  -1.25310944e+11  8.02288583e+10 -2.40415300e+11 -2.40415298e+11\n",
      "   3.12993014e+11  1.72616417e+11 -2.40415297e+11  1.72616398e+11\n",
      "  -4.01231712e+11 -2.40415308e+11  1.72616430e+11  1.72616429e+11\n",
      "  -2.40415308e+11  1.72616411e+11  1.72616412e+11  1.72616418e+11\n",
      "  -1.20466371e+11 -1.20466382e+11  1.72616448e+11  9.85652719e+10\n",
      "   1.72616415e+11 -6.80556695e-08 -1.25310930e+11  1.72616405e+11\n",
      "   3.12993004e+11  9.85652713e+10  8.02288686e+10  8.02288787e+10\n",
      "  -1.25310914e+11 -1.25310936e+11 -1.25310946e+11  1.72616406e+11\n",
      "  -1.20466351e+11 -2.40415318e+11  1.72616399e+11  1.72616392e+11\n",
      "   1.72616392e+11 -1.20466394e+11 -2.40415345e+11  8.02288611e+10\n",
      "   8.02288832e+10  9.85652595e+10  9.85652669e+10  9.85652665e+10\n",
      "   1.72616443e+11  8.02288698e+10  1.72616389e+11  1.72616409e+11\n",
      "   9.85652581e+10  1.72616472e+11  8.02288740e+10 -1.20466358e+11\n",
      "   8.02288783e+10  8.02288767e+10  8.02288844e+10  1.72616455e+11\n",
      "   8.02288609e+10  3.12993009e+11  1.11394911e-08 -2.40415314e+11\n",
      "  -2.40415312e+11  1.72616438e+11  8.02288831e+10  1.72616421e+11\n",
      "   1.72616404e+11 -4.01231723e+11  9.85652462e+10 -1.25310903e+11\n",
      "  -1.25310926e+11 -2.40415320e+11  1.72616400e+11 -2.40834197e-08\n",
      "  -6.11034920e-08  3.12993041e+11  3.12993018e+11  3.12993011e+11\n",
      "   9.85652539e+10  7.38727977e-08  1.29885214e+12  8.02288694e+10\n",
      "   1.29885207e+12  8.02288656e+10  8.02288690e+10  8.02288583e+10\n",
      "   1.72616569e+11 -3.60651344e-08 -1.20466370e+11 -2.40415320e+11\n",
      "   1.72616416e+11  8.02288875e+10  1.72616407e+11  1.72616456e+11\n",
      "  -4.01231726e+11 -1.20466371e+11 -1.25310912e+11 -2.40415336e+11\n",
      "  -2.40415320e+11  1.72616398e+11  3.12993041e+11 -1.25310922e+11\n",
      "   8.02288803e+10 -2.98623490e-08  3.12992974e+11  3.12993006e+11\n",
      "   3.12992989e+11  1.72616416e+11  1.72616429e+11  8.02289113e+10\n",
      "  -1.18630851e-07  1.72616451e+11 -4.01231702e+11 -1.20466364e+11\n",
      "  -1.20466370e+11 -1.25310919e+11 -2.40415310e+11  1.13618408e-07\n",
      "  -1.20466434e+11  1.72616361e+11  1.21657054e-07  1.72616383e+11\n",
      "   9.85652713e+10  1.72616383e+11  9.85652410e+10 -2.40415314e+11\n",
      "   8.02288615e+10  8.02288905e+10  9.85652560e+10 -2.40415318e+11\n",
      "   1.72616460e+11  8.02288667e+10 -2.40415318e+11 -2.40415309e+11\n",
      "  -1.20466364e+11  1.72616394e+11 -2.19981303e-07  1.72616447e+11\n",
      "   1.72616500e+11  1.72616394e+11 -2.40415336e+11 -1.25310940e+11\n",
      "   1.72616451e+11 -1.20466357e+11  1.72616404e+11  1.72616381e+11\n",
      "   3.12993034e+11  8.02288785e+10 -2.40415306e+11  1.72616429e+11\n",
      "  -1.20466357e+11 -4.01231734e+11  6.53194547e-08 -1.20466378e+11\n",
      "   1.72616402e+11  1.72616377e+11  1.72616450e+11  1.72616449e+11\n",
      "  -4.01231709e+11 -2.40415310e+11 -2.40415311e+11 -2.40415316e+11\n",
      "   2.40315073e+12  1.72616436e+11  1.72616405e+11  3.12993037e+11\n",
      "  -4.01231703e+11  8.02289047e+10  1.72616428e+11 -7.27595761e-12\n",
      "   1.72616399e+11  8.02288638e+10 -2.40415325e+11 -2.40415325e+11\n",
      "  -2.40415325e+11  1.72616396e+11  1.72616451e+11 -2.40415296e+11\n",
      "  -1.25310917e+11 -1.25310915e+11 -1.20466361e+11  1.72616430e+11\n",
      "   1.72616401e+11]]\n"
     ]
    }
   ],
   "source": [
    "lr = linear_model.LinearRegression()\n",
    "lr.fit(X_train_norm, y_train)\n",
    "print('b0:', lr.intercept_[0])\n",
    "print('b1:', lr.coef_)"
   ]
  },
  {
   "cell_type": "code",
   "execution_count": 20,
   "metadata": {
    "tags": []
   },
   "outputs": [],
   "source": [
    "y_train_pred = lr.predict(X_train_norm)"
   ]
  },
  {
   "cell_type": "code",
   "execution_count": 21,
   "metadata": {
    "tags": []
   },
   "outputs": [
    {
     "name": "stdout",
     "output_type": "stream",
     "text": [
      "rmse_train 22331.812910698834\n"
     ]
    }
   ],
   "source": [
    "mse_train = mean_squared_error(y_train, y_train_pred)\n",
    "rmse_train = np.sqrt(mse_train)\n",
    "print('rmse_train', rmse_train)"
   ]
  },
  {
   "cell_type": "code",
   "execution_count": 22,
   "metadata": {
    "tags": []
   },
   "outputs": [],
   "source": [
    "y_test_pred = lr.predict(X_test_norm)"
   ]
  },
  {
   "cell_type": "code",
   "execution_count": 23,
   "metadata": {
    "tags": []
   },
   "outputs": [
    {
     "name": "stdout",
     "output_type": "stream",
     "text": [
      "rmse_test 95878606342.84462\n"
     ]
    }
   ],
   "source": [
    "mse_test = mean_squared_error(y_test, y_test_pred)\n",
    "rmse_test = np.sqrt(mse_test)\n",
    "print('rmse_test', rmse_test)"
   ]
  },
  {
   "cell_type": "code",
   "execution_count": null,
   "metadata": {},
   "outputs": [],
   "source": []
  },
  {
   "cell_type": "code",
   "execution_count": 24,
   "metadata": {
    "tags": []
   },
   "outputs": [],
   "source": [
    "deg = 2\n",
    "poly = PolynomialFeatures(degree = deg, include_bias=False)\n",
    "X_train_Poly = poly.fit_transform(X_train_norm)\n",
    "X_test_Poly = poly.fit_transform(X_test_norm)\n"
   ]
  },
  {
   "cell_type": "code",
   "execution_count": 25,
   "metadata": {},
   "outputs": [
    {
     "data": {
      "text/html": [
       "<style>#sk-container-id-1 {color: black;background-color: white;}#sk-container-id-1 pre{padding: 0;}#sk-container-id-1 div.sk-toggleable {background-color: white;}#sk-container-id-1 label.sk-toggleable__label {cursor: pointer;display: block;width: 100%;margin-bottom: 0;padding: 0.3em;box-sizing: border-box;text-align: center;}#sk-container-id-1 label.sk-toggleable__label-arrow:before {content: \"▸\";float: left;margin-right: 0.25em;color: #696969;}#sk-container-id-1 label.sk-toggleable__label-arrow:hover:before {color: black;}#sk-container-id-1 div.sk-estimator:hover label.sk-toggleable__label-arrow:before {color: black;}#sk-container-id-1 div.sk-toggleable__content {max-height: 0;max-width: 0;overflow: hidden;text-align: left;background-color: #f0f8ff;}#sk-container-id-1 div.sk-toggleable__content pre {margin: 0.2em;color: black;border-radius: 0.25em;background-color: #f0f8ff;}#sk-container-id-1 input.sk-toggleable__control:checked~div.sk-toggleable__content {max-height: 200px;max-width: 100%;overflow: auto;}#sk-container-id-1 input.sk-toggleable__control:checked~label.sk-toggleable__label-arrow:before {content: \"▾\";}#sk-container-id-1 div.sk-estimator input.sk-toggleable__control:checked~label.sk-toggleable__label {background-color: #d4ebff;}#sk-container-id-1 div.sk-label input.sk-toggleable__control:checked~label.sk-toggleable__label {background-color: #d4ebff;}#sk-container-id-1 input.sk-hidden--visually {border: 0;clip: rect(1px 1px 1px 1px);clip: rect(1px, 1px, 1px, 1px);height: 1px;margin: -1px;overflow: hidden;padding: 0;position: absolute;width: 1px;}#sk-container-id-1 div.sk-estimator {font-family: monospace;background-color: #f0f8ff;border: 1px dotted black;border-radius: 0.25em;box-sizing: border-box;margin-bottom: 0.5em;}#sk-container-id-1 div.sk-estimator:hover {background-color: #d4ebff;}#sk-container-id-1 div.sk-parallel-item::after {content: \"\";width: 100%;border-bottom: 1px solid gray;flex-grow: 1;}#sk-container-id-1 div.sk-label:hover label.sk-toggleable__label {background-color: #d4ebff;}#sk-container-id-1 div.sk-serial::before {content: \"\";position: absolute;border-left: 1px solid gray;box-sizing: border-box;top: 0;bottom: 0;left: 50%;z-index: 0;}#sk-container-id-1 div.sk-serial {display: flex;flex-direction: column;align-items: center;background-color: white;padding-right: 0.2em;padding-left: 0.2em;position: relative;}#sk-container-id-1 div.sk-item {position: relative;z-index: 1;}#sk-container-id-1 div.sk-parallel {display: flex;align-items: stretch;justify-content: center;background-color: white;position: relative;}#sk-container-id-1 div.sk-item::before, #sk-container-id-1 div.sk-parallel-item::before {content: \"\";position: absolute;border-left: 1px solid gray;box-sizing: border-box;top: 0;bottom: 0;left: 50%;z-index: -1;}#sk-container-id-1 div.sk-parallel-item {display: flex;flex-direction: column;z-index: 1;position: relative;background-color: white;}#sk-container-id-1 div.sk-parallel-item:first-child::after {align-self: flex-end;width: 50%;}#sk-container-id-1 div.sk-parallel-item:last-child::after {align-self: flex-start;width: 50%;}#sk-container-id-1 div.sk-parallel-item:only-child::after {width: 0;}#sk-container-id-1 div.sk-dashed-wrapped {border: 1px dashed gray;margin: 0 0.4em 0.5em 0.4em;box-sizing: border-box;padding-bottom: 0.4em;background-color: white;}#sk-container-id-1 div.sk-label label {font-family: monospace;font-weight: bold;display: inline-block;line-height: 1.2em;}#sk-container-id-1 div.sk-label-container {text-align: center;}#sk-container-id-1 div.sk-container {/* jupyter's `normalize.less` sets `[hidden] { display: none; }` but bootstrap.min.css set `[hidden] { display: none !important; }` so we also need the `!important` here to be able to override the default hidden behavior on the sphinx rendered scikit-learn.org. See: https://github.com/scikit-learn/scikit-learn/issues/21755 */display: inline-block !important;position: relative;}#sk-container-id-1 div.sk-text-repr-fallback {display: none;}</style><div id=\"sk-container-id-1\" class=\"sk-top-container\"><div class=\"sk-text-repr-fallback\"><pre>LinearRegression()</pre><b>In a Jupyter environment, please rerun this cell to show the HTML representation or trust the notebook. <br />On GitHub, the HTML representation is unable to render, please try loading this page with nbviewer.org.</b></div><div class=\"sk-container\" hidden><div class=\"sk-item\"><div class=\"sk-estimator sk-toggleable\"><input class=\"sk-toggleable__control sk-hidden--visually\" id=\"sk-estimator-id-1\" type=\"checkbox\" checked><label for=\"sk-estimator-id-1\" class=\"sk-toggleable__label sk-toggleable__label-arrow\">LinearRegression</label><div class=\"sk-toggleable__content\"><pre>LinearRegression()</pre></div></div></div></div></div>"
      ],
      "text/plain": [
       "LinearRegression()"
      ]
     },
     "execution_count": 25,
     "metadata": {},
     "output_type": "execute_result"
    }
   ],
   "source": [
    "linear = LinearRegression()\n",
    "linear.fit(X_train_Poly, y_train)"
   ]
  },
  {
   "cell_type": "code",
   "execution_count": 26,
   "metadata": {
    "tags": []
   },
   "outputs": [],
   "source": [
    "y_train_pred = linear.predict(X_train_Poly)"
   ]
  },
  {
   "cell_type": "code",
   "execution_count": 27,
   "metadata": {
    "tags": []
   },
   "outputs": [
    {
     "name": "stdout",
     "output_type": "stream",
     "text": [
      "rmse_train 13839.414529831407\n"
     ]
    }
   ],
   "source": [
    "mse_train = mean_squared_error(y_train, y_train_pred)\n",
    "rmse_train = np.sqrt(mse_train)\n",
    "print('rmse_train', rmse_train)"
   ]
  },
  {
   "cell_type": "code",
   "execution_count": 28,
   "metadata": {
    "tags": []
   },
   "outputs": [],
   "source": [
    "y_test_pred = linear.predict(X_test_Poly)"
   ]
  },
  {
   "cell_type": "code",
   "execution_count": 29,
   "metadata": {
    "tags": []
   },
   "outputs": [
    {
     "name": "stdout",
     "output_type": "stream",
     "text": [
      "rmse_test 44673520643.37354\n"
     ]
    }
   ],
   "source": [
    "mse_test = mean_squared_error(y_test, y_test_pred)\n",
    "rmse_test = np.sqrt(mse_test)\n",
    "print('rmse_test', rmse_test)"
   ]
  },
  {
   "cell_type": "code",
   "execution_count": null,
   "metadata": {},
   "outputs": [],
   "source": []
  },
  {
   "cell_type": "code",
   "execution_count": 30,
   "metadata": {
    "tags": []
   },
   "outputs": [],
   "source": [
    "elNet = ElasticNet( alpha=0.001, l1_ratio=0.01)"
   ]
  },
  {
   "cell_type": "code",
   "execution_count": 31,
   "metadata": {
    "tags": []
   },
   "outputs": [
    {
     "name": "stderr",
     "output_type": "stream",
     "text": [
      "C:\\Users\\lsargsya\\.conda\\envs\\tf_39\\lib\\site-packages\\sklearn\\linear_model\\_coordinate_descent.py:631: ConvergenceWarning: Objective did not converge. You might want to increase the number of iterations, check the scale of the features or consider increasing regularisation. Duality gap: 5.173e+11, tolerance: 1.033e+09\n",
      "  model = cd_fast.enet_coordinate_descent(\n"
     ]
    },
    {
     "data": {
      "text/html": [
       "<style>#sk-container-id-2 {color: black;background-color: white;}#sk-container-id-2 pre{padding: 0;}#sk-container-id-2 div.sk-toggleable {background-color: white;}#sk-container-id-2 label.sk-toggleable__label {cursor: pointer;display: block;width: 100%;margin-bottom: 0;padding: 0.3em;box-sizing: border-box;text-align: center;}#sk-container-id-2 label.sk-toggleable__label-arrow:before {content: \"▸\";float: left;margin-right: 0.25em;color: #696969;}#sk-container-id-2 label.sk-toggleable__label-arrow:hover:before {color: black;}#sk-container-id-2 div.sk-estimator:hover label.sk-toggleable__label-arrow:before {color: black;}#sk-container-id-2 div.sk-toggleable__content {max-height: 0;max-width: 0;overflow: hidden;text-align: left;background-color: #f0f8ff;}#sk-container-id-2 div.sk-toggleable__content pre {margin: 0.2em;color: black;border-radius: 0.25em;background-color: #f0f8ff;}#sk-container-id-2 input.sk-toggleable__control:checked~div.sk-toggleable__content {max-height: 200px;max-width: 100%;overflow: auto;}#sk-container-id-2 input.sk-toggleable__control:checked~label.sk-toggleable__label-arrow:before {content: \"▾\";}#sk-container-id-2 div.sk-estimator input.sk-toggleable__control:checked~label.sk-toggleable__label {background-color: #d4ebff;}#sk-container-id-2 div.sk-label input.sk-toggleable__control:checked~label.sk-toggleable__label {background-color: #d4ebff;}#sk-container-id-2 input.sk-hidden--visually {border: 0;clip: rect(1px 1px 1px 1px);clip: rect(1px, 1px, 1px, 1px);height: 1px;margin: -1px;overflow: hidden;padding: 0;position: absolute;width: 1px;}#sk-container-id-2 div.sk-estimator {font-family: monospace;background-color: #f0f8ff;border: 1px dotted black;border-radius: 0.25em;box-sizing: border-box;margin-bottom: 0.5em;}#sk-container-id-2 div.sk-estimator:hover {background-color: #d4ebff;}#sk-container-id-2 div.sk-parallel-item::after {content: \"\";width: 100%;border-bottom: 1px solid gray;flex-grow: 1;}#sk-container-id-2 div.sk-label:hover label.sk-toggleable__label {background-color: #d4ebff;}#sk-container-id-2 div.sk-serial::before {content: \"\";position: absolute;border-left: 1px solid gray;box-sizing: border-box;top: 0;bottom: 0;left: 50%;z-index: 0;}#sk-container-id-2 div.sk-serial {display: flex;flex-direction: column;align-items: center;background-color: white;padding-right: 0.2em;padding-left: 0.2em;position: relative;}#sk-container-id-2 div.sk-item {position: relative;z-index: 1;}#sk-container-id-2 div.sk-parallel {display: flex;align-items: stretch;justify-content: center;background-color: white;position: relative;}#sk-container-id-2 div.sk-item::before, #sk-container-id-2 div.sk-parallel-item::before {content: \"\";position: absolute;border-left: 1px solid gray;box-sizing: border-box;top: 0;bottom: 0;left: 50%;z-index: -1;}#sk-container-id-2 div.sk-parallel-item {display: flex;flex-direction: column;z-index: 1;position: relative;background-color: white;}#sk-container-id-2 div.sk-parallel-item:first-child::after {align-self: flex-end;width: 50%;}#sk-container-id-2 div.sk-parallel-item:last-child::after {align-self: flex-start;width: 50%;}#sk-container-id-2 div.sk-parallel-item:only-child::after {width: 0;}#sk-container-id-2 div.sk-dashed-wrapped {border: 1px dashed gray;margin: 0 0.4em 0.5em 0.4em;box-sizing: border-box;padding-bottom: 0.4em;background-color: white;}#sk-container-id-2 div.sk-label label {font-family: monospace;font-weight: bold;display: inline-block;line-height: 1.2em;}#sk-container-id-2 div.sk-label-container {text-align: center;}#sk-container-id-2 div.sk-container {/* jupyter's `normalize.less` sets `[hidden] { display: none; }` but bootstrap.min.css set `[hidden] { display: none !important; }` so we also need the `!important` here to be able to override the default hidden behavior on the sphinx rendered scikit-learn.org. See: https://github.com/scikit-learn/scikit-learn/issues/21755 */display: inline-block !important;position: relative;}#sk-container-id-2 div.sk-text-repr-fallback {display: none;}</style><div id=\"sk-container-id-2\" class=\"sk-top-container\"><div class=\"sk-text-repr-fallback\"><pre>ElasticNet(alpha=0.001, l1_ratio=0.01)</pre><b>In a Jupyter environment, please rerun this cell to show the HTML representation or trust the notebook. <br />On GitHub, the HTML representation is unable to render, please try loading this page with nbviewer.org.</b></div><div class=\"sk-container\" hidden><div class=\"sk-item\"><div class=\"sk-estimator sk-toggleable\"><input class=\"sk-toggleable__control sk-hidden--visually\" id=\"sk-estimator-id-2\" type=\"checkbox\" checked><label for=\"sk-estimator-id-2\" class=\"sk-toggleable__label sk-toggleable__label-arrow\">ElasticNet</label><div class=\"sk-toggleable__content\"><pre>ElasticNet(alpha=0.001, l1_ratio=0.01)</pre></div></div></div></div></div>"
      ],
      "text/plain": [
       "ElasticNet(alpha=0.001, l1_ratio=0.01)"
      ]
     },
     "execution_count": 31,
     "metadata": {},
     "output_type": "execute_result"
    }
   ],
   "source": [
    "\n",
    "elNet.fit(X_train_Poly, y_train)"
   ]
  },
  {
   "cell_type": "code",
   "execution_count": 32,
   "metadata": {
    "tags": []
   },
   "outputs": [],
   "source": [
    "y_train_pred = elNet.predict(X_train_Poly)"
   ]
  },
  {
   "cell_type": "code",
   "execution_count": 33,
   "metadata": {
    "tags": []
   },
   "outputs": [
    {
     "name": "stdout",
     "output_type": "stream",
     "text": [
      "rmse_train 15409.063313687906\n"
     ]
    }
   ],
   "source": [
    "mse_train = mean_squared_error(y_train, y_train_pred)\n",
    "rmse_train = np.sqrt(mse_train)\n",
    "print('rmse_train', rmse_train)"
   ]
  },
  {
   "cell_type": "code",
   "execution_count": 34,
   "metadata": {
    "tags": []
   },
   "outputs": [],
   "source": [
    "y_test_pred = elNet.predict(X_test_Poly)"
   ]
  },
  {
   "cell_type": "code",
   "execution_count": 35,
   "metadata": {
    "tags": []
   },
   "outputs": [
    {
     "name": "stdout",
     "output_type": "stream",
     "text": [
      "rmse_test 27341.769812027385\n"
     ]
    }
   ],
   "source": [
    "mse_test = mean_squared_error(y_test, y_test_pred)\n",
    "rmse_test = np.sqrt(mse_test)\n",
    "print('rmse_test', rmse_test)"
   ]
  },
  {
   "cell_type": "code",
   "execution_count": 36,
   "metadata": {},
   "outputs": [
    {
     "name": "stdout",
     "output_type": "stream",
     "text": [
      "al [0.0001     0.00044138 0.00078276 0.00112414 0.00146552 0.0018069\n",
      " 0.00214828 0.00248966 0.00283103 0.00317241 0.00351379 0.00385517\n",
      " 0.00419655 0.00453793 0.00487931 0.00522069 0.00556207 0.00590345\n",
      " 0.00624483 0.00658621 0.00692759 0.00726897 0.00761034 0.00795172\n",
      " 0.0082931  0.00863448 0.00897586 0.00931724 0.00965862 0.01      ]\n",
      "l1 [0.05       0.05172414 0.05344828 0.05517241 0.05689655 0.05862069\n",
      " 0.06034483 0.06206897 0.0637931  0.06551724 0.06724138 0.06896552\n",
      " 0.07068966 0.07241379 0.07413793 0.07586207 0.07758621 0.07931034\n",
      " 0.08103448 0.08275862 0.08448276 0.0862069  0.08793103 0.08965517\n",
      " 0.09137931 0.09310345 0.09482759 0.09655172 0.09827586 0.1       ]\n"
     ]
    }
   ],
   "source": [
    "# al = np.linspace(0.001, 0.2, 30)\n",
    "# l1 = np.linspace(0.001, 0.02, 30)\n",
    "al = np.linspace(0.0001, 0.01, 30)\n",
    "l1 = np.linspace(0.05, 0.1, 30)\n",
    "print('al',al)\n",
    "print('l1',l1)"
   ]
  },
  {
   "cell_type": "code",
   "execution_count": 37,
   "metadata": {
    "tags": []
   },
   "outputs": [
    {
     "name": "stderr",
     "output_type": "stream",
     "text": [
      "C:\\Users\\lsargsya\\.conda\\envs\\tf_39\\lib\\site-packages\\sklearn\\linear_model\\_coordinate_descent.py:631: ConvergenceWarning: Objective did not converge. You might want to increase the number of iterations, check the scale of the features or consider increasing regularisation. Duality gap: 1.080e+12, tolerance: 1.033e+09\n",
      "  model = cd_fast.enet_coordinate_descent(\n"
     ]
    },
    {
     "data": {
      "text/html": [
       "<style>#sk-container-id-3 {color: black;background-color: white;}#sk-container-id-3 pre{padding: 0;}#sk-container-id-3 div.sk-toggleable {background-color: white;}#sk-container-id-3 label.sk-toggleable__label {cursor: pointer;display: block;width: 100%;margin-bottom: 0;padding: 0.3em;box-sizing: border-box;text-align: center;}#sk-container-id-3 label.sk-toggleable__label-arrow:before {content: \"▸\";float: left;margin-right: 0.25em;color: #696969;}#sk-container-id-3 label.sk-toggleable__label-arrow:hover:before {color: black;}#sk-container-id-3 div.sk-estimator:hover label.sk-toggleable__label-arrow:before {color: black;}#sk-container-id-3 div.sk-toggleable__content {max-height: 0;max-width: 0;overflow: hidden;text-align: left;background-color: #f0f8ff;}#sk-container-id-3 div.sk-toggleable__content pre {margin: 0.2em;color: black;border-radius: 0.25em;background-color: #f0f8ff;}#sk-container-id-3 input.sk-toggleable__control:checked~div.sk-toggleable__content {max-height: 200px;max-width: 100%;overflow: auto;}#sk-container-id-3 input.sk-toggleable__control:checked~label.sk-toggleable__label-arrow:before {content: \"▾\";}#sk-container-id-3 div.sk-estimator input.sk-toggleable__control:checked~label.sk-toggleable__label {background-color: #d4ebff;}#sk-container-id-3 div.sk-label input.sk-toggleable__control:checked~label.sk-toggleable__label {background-color: #d4ebff;}#sk-container-id-3 input.sk-hidden--visually {border: 0;clip: rect(1px 1px 1px 1px);clip: rect(1px, 1px, 1px, 1px);height: 1px;margin: -1px;overflow: hidden;padding: 0;position: absolute;width: 1px;}#sk-container-id-3 div.sk-estimator {font-family: monospace;background-color: #f0f8ff;border: 1px dotted black;border-radius: 0.25em;box-sizing: border-box;margin-bottom: 0.5em;}#sk-container-id-3 div.sk-estimator:hover {background-color: #d4ebff;}#sk-container-id-3 div.sk-parallel-item::after {content: \"\";width: 100%;border-bottom: 1px solid gray;flex-grow: 1;}#sk-container-id-3 div.sk-label:hover label.sk-toggleable__label {background-color: #d4ebff;}#sk-container-id-3 div.sk-serial::before {content: \"\";position: absolute;border-left: 1px solid gray;box-sizing: border-box;top: 0;bottom: 0;left: 50%;z-index: 0;}#sk-container-id-3 div.sk-serial {display: flex;flex-direction: column;align-items: center;background-color: white;padding-right: 0.2em;padding-left: 0.2em;position: relative;}#sk-container-id-3 div.sk-item {position: relative;z-index: 1;}#sk-container-id-3 div.sk-parallel {display: flex;align-items: stretch;justify-content: center;background-color: white;position: relative;}#sk-container-id-3 div.sk-item::before, #sk-container-id-3 div.sk-parallel-item::before {content: \"\";position: absolute;border-left: 1px solid gray;box-sizing: border-box;top: 0;bottom: 0;left: 50%;z-index: -1;}#sk-container-id-3 div.sk-parallel-item {display: flex;flex-direction: column;z-index: 1;position: relative;background-color: white;}#sk-container-id-3 div.sk-parallel-item:first-child::after {align-self: flex-end;width: 50%;}#sk-container-id-3 div.sk-parallel-item:last-child::after {align-self: flex-start;width: 50%;}#sk-container-id-3 div.sk-parallel-item:only-child::after {width: 0;}#sk-container-id-3 div.sk-dashed-wrapped {border: 1px dashed gray;margin: 0 0.4em 0.5em 0.4em;box-sizing: border-box;padding-bottom: 0.4em;background-color: white;}#sk-container-id-3 div.sk-label label {font-family: monospace;font-weight: bold;display: inline-block;line-height: 1.2em;}#sk-container-id-3 div.sk-label-container {text-align: center;}#sk-container-id-3 div.sk-container {/* jupyter's `normalize.less` sets `[hidden] { display: none; }` but bootstrap.min.css set `[hidden] { display: none !important; }` so we also need the `!important` here to be able to override the default hidden behavior on the sphinx rendered scikit-learn.org. See: https://github.com/scikit-learn/scikit-learn/issues/21755 */display: inline-block !important;position: relative;}#sk-container-id-3 div.sk-text-repr-fallback {display: none;}</style><div id=\"sk-container-id-3\" class=\"sk-top-container\"><div class=\"sk-text-repr-fallback\"><pre>GridSearchCV(cv=5, estimator=ElasticNet(),\n",
       "             param_grid={&#x27;alpha&#x27;: array([0.0001    , 0.00044138, 0.00078276, 0.00112414, 0.00146552,\n",
       "       0.0018069 , 0.00214828, 0.00248966, 0.00283103, 0.00317241,\n",
       "       0.00351379, 0.00385517, 0.00419655, 0.00453793, 0.00487931,\n",
       "       0.00522069, 0.00556207, 0.00590345, 0.00624483, 0.00658621,\n",
       "       0.00692759, 0.00726897, 0.00761034, 0.00795172, 0.0082931 ,\n",
       "       0.00863448, 0....\n",
       "                         &#x27;l1_ratio&#x27;: array([0.05      , 0.05172414, 0.05344828, 0.05517241, 0.05689655,\n",
       "       0.05862069, 0.06034483, 0.06206897, 0.0637931 , 0.06551724,\n",
       "       0.06724138, 0.06896552, 0.07068966, 0.07241379, 0.07413793,\n",
       "       0.07586207, 0.07758621, 0.07931034, 0.08103448, 0.08275862,\n",
       "       0.08448276, 0.0862069 , 0.08793103, 0.08965517, 0.09137931,\n",
       "       0.09310345, 0.09482759, 0.09655172, 0.09827586, 0.1       ])},\n",
       "             scoring=&#x27;neg_mean_squared_error&#x27;)</pre><b>In a Jupyter environment, please rerun this cell to show the HTML representation or trust the notebook. <br />On GitHub, the HTML representation is unable to render, please try loading this page with nbviewer.org.</b></div><div class=\"sk-container\" hidden><div class=\"sk-item sk-dashed-wrapped\"><div class=\"sk-label-container\"><div class=\"sk-label sk-toggleable\"><input class=\"sk-toggleable__control sk-hidden--visually\" id=\"sk-estimator-id-3\" type=\"checkbox\" ><label for=\"sk-estimator-id-3\" class=\"sk-toggleable__label sk-toggleable__label-arrow\">GridSearchCV</label><div class=\"sk-toggleable__content\"><pre>GridSearchCV(cv=5, estimator=ElasticNet(),\n",
       "             param_grid={&#x27;alpha&#x27;: array([0.0001    , 0.00044138, 0.00078276, 0.00112414, 0.00146552,\n",
       "       0.0018069 , 0.00214828, 0.00248966, 0.00283103, 0.00317241,\n",
       "       0.00351379, 0.00385517, 0.00419655, 0.00453793, 0.00487931,\n",
       "       0.00522069, 0.00556207, 0.00590345, 0.00624483, 0.00658621,\n",
       "       0.00692759, 0.00726897, 0.00761034, 0.00795172, 0.0082931 ,\n",
       "       0.00863448, 0....\n",
       "                         &#x27;l1_ratio&#x27;: array([0.05      , 0.05172414, 0.05344828, 0.05517241, 0.05689655,\n",
       "       0.05862069, 0.06034483, 0.06206897, 0.0637931 , 0.06551724,\n",
       "       0.06724138, 0.06896552, 0.07068966, 0.07241379, 0.07413793,\n",
       "       0.07586207, 0.07758621, 0.07931034, 0.08103448, 0.08275862,\n",
       "       0.08448276, 0.0862069 , 0.08793103, 0.08965517, 0.09137931,\n",
       "       0.09310345, 0.09482759, 0.09655172, 0.09827586, 0.1       ])},\n",
       "             scoring=&#x27;neg_mean_squared_error&#x27;)</pre></div></div></div><div class=\"sk-parallel\"><div class=\"sk-parallel-item\"><div class=\"sk-item\"><div class=\"sk-label-container\"><div class=\"sk-label sk-toggleable\"><input class=\"sk-toggleable__control sk-hidden--visually\" id=\"sk-estimator-id-4\" type=\"checkbox\" ><label for=\"sk-estimator-id-4\" class=\"sk-toggleable__label sk-toggleable__label-arrow\">estimator: ElasticNet</label><div class=\"sk-toggleable__content\"><pre>ElasticNet()</pre></div></div></div><div class=\"sk-serial\"><div class=\"sk-item\"><div class=\"sk-estimator sk-toggleable\"><input class=\"sk-toggleable__control sk-hidden--visually\" id=\"sk-estimator-id-5\" type=\"checkbox\" ><label for=\"sk-estimator-id-5\" class=\"sk-toggleable__label sk-toggleable__label-arrow\">ElasticNet</label><div class=\"sk-toggleable__content\"><pre>ElasticNet()</pre></div></div></div></div></div></div></div></div></div></div>"
      ],
      "text/plain": [
       "GridSearchCV(cv=5, estimator=ElasticNet(),\n",
       "             param_grid={'alpha': array([0.0001    , 0.00044138, 0.00078276, 0.00112414, 0.00146552,\n",
       "       0.0018069 , 0.00214828, 0.00248966, 0.00283103, 0.00317241,\n",
       "       0.00351379, 0.00385517, 0.00419655, 0.00453793, 0.00487931,\n",
       "       0.00522069, 0.00556207, 0.00590345, 0.00624483, 0.00658621,\n",
       "       0.00692759, 0.00726897, 0.00761034, 0.00795172, 0.0082931 ,\n",
       "       0.00863448, 0....\n",
       "                         'l1_ratio': array([0.05      , 0.05172414, 0.05344828, 0.05517241, 0.05689655,\n",
       "       0.05862069, 0.06034483, 0.06206897, 0.0637931 , 0.06551724,\n",
       "       0.06724138, 0.06896552, 0.07068966, 0.07241379, 0.07413793,\n",
       "       0.07586207, 0.07758621, 0.07931034, 0.08103448, 0.08275862,\n",
       "       0.08448276, 0.0862069 , 0.08793103, 0.08965517, 0.09137931,\n",
       "       0.09310345, 0.09482759, 0.09655172, 0.09827586, 0.1       ])},\n",
       "             scoring='neg_mean_squared_error')"
      ]
     },
     "execution_count": 37,
     "metadata": {},
     "output_type": "execute_result"
    }
   ],
   "source": [
    "elastic=ElasticNet()\n",
    "\n",
    "params={'alpha':al,'l1_ratio':l1}\n",
    "Regressor=GridSearchCV(elastic,params,scoring='neg_mean_squared_error',cv=5)\n",
    "Regressor.fit(X_train,y_train)"
   ]
  },
  {
   "cell_type": "code",
   "execution_count": 38,
   "metadata": {
    "tags": []
   },
   "outputs": [],
   "source": [
    "y_train_pred = Regressor.predict(X_train)"
   ]
  },
  {
   "cell_type": "code",
   "execution_count": 39,
   "metadata": {
    "tags": []
   },
   "outputs": [
    {
     "name": "stdout",
     "output_type": "stream",
     "text": [
      "rmse_train 22633.500208278976\n"
     ]
    }
   ],
   "source": [
    "mse_train = mean_squared_error(y_train, y_train_pred)\n",
    "rmse_train = np.sqrt(mse_train)\n",
    "print('rmse_train', rmse_train)"
   ]
  },
  {
   "cell_type": "code",
   "execution_count": 40,
   "metadata": {
    "tags": []
   },
   "outputs": [],
   "source": [
    "y_test_pred = Regressor.predict(X_test)"
   ]
  },
  {
   "cell_type": "code",
   "execution_count": 41,
   "metadata": {
    "tags": []
   },
   "outputs": [
    {
     "name": "stdout",
     "output_type": "stream",
     "text": [
      "rmse_test 25183.476968832547\n"
     ]
    }
   ],
   "source": [
    "mse_test = mean_squared_error(y_test, y_test_pred)\n",
    "rmse_test = np.sqrt(mse_test)\n",
    "print('rmse_test', rmse_test)"
   ]
  },
  {
   "cell_type": "code",
   "execution_count": null,
   "metadata": {},
   "outputs": [],
   "source": []
  },
  {
   "cell_type": "code",
   "execution_count": 42,
   "metadata": {},
   "outputs": [
    {
     "name": "stdout",
     "output_type": "stream",
     "text": [
      "best parameter:  {'alpha': 0.0004413793103448276, 'l1_ratio': 0.05}\n"
     ]
    }
   ],
   "source": [
    "print('best parameter: ', Regressor.best_params_)"
   ]
  },
  {
   "cell_type": "code",
   "execution_count": null,
   "metadata": {},
   "outputs": [],
   "source": []
  },
  {
   "cell_type": "code",
   "execution_count": 43,
   "metadata": {},
   "outputs": [],
   "source": [
    "model = ..."
   ]
  },
  {
   "cell_type": "code",
   "execution_count": 44,
   "metadata": {},
   "outputs": [],
   "source": [
    "# def final_predict(final_test_df):\n",
    "#     1. preprocessing of final_test_df (scaling, one hot encoding ...)\n",
    "#     2. make sure that columns and their order in train and test are the same\n",
    "#     3. return predictions"
   ]
  },
  {
   "cell_type": "code",
   "execution_count": 45,
   "metadata": {
    "tags": []
   },
   "outputs": [],
   "source": [
    "# df = pd.read_csv('houses_test.csv')\n",
    "# final_predict(df)"
   ]
  }
 ],
 "metadata": {
  "kernelspec": {
   "display_name": "Python 3 (ipykernel)",
   "language": "python",
   "name": "python3"
  },
  "language_info": {
   "codemirror_mode": {
    "name": "ipython",
    "version": 3
   },
   "file_extension": ".py",
   "mimetype": "text/x-python",
   "name": "python",
   "nbconvert_exporter": "python",
   "pygments_lexer": "ipython3",
   "version": "3.9.16"
  }
 },
 "nbformat": 4,
 "nbformat_minor": 4
}
