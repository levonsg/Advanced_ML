{
 "cells": [
  {
   "cell_type": "code",
   "execution_count": null,
   "id": "e8b96e71-022e-4fbd-b8f1-c7905817398f",
   "metadata": {},
   "outputs": [],
   "source": [
    "sum(ar*new_ar) = out\n",
    "find ar"
   ]
  }
 ],
 "metadata": {
  "kernelspec": {
   "display_name": "tf_384",
   "language": "python",
   "name": "tf_384"
  },
  "language_info": {
   "codemirror_mode": {
    "name": "ipython",
    "version": 3
   },
   "file_extension": ".py",
   "mimetype": "text/x-python",
   "name": "python",
   "nbconvert_exporter": "python",
   "pygments_lexer": "ipython3",
   "version": "3.9.13"
  }
 },
 "nbformat": 4,
 "nbformat_minor": 5
}
