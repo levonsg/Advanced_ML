{
 "cells": [
  {
   "cell_type": "code",
   "execution_count": null,
   "id": "ae7e06fe-6508-468b-8920-7a05e13cbd33",
   "metadata": {},
   "outputs": [],
   "source": []
  },
  {
   "cell_type": "code",
   "execution_count": 186,
   "id": "c167b397-cf7a-4828-b767-af843b180ea9",
   "metadata": {},
   "outputs": [],
   "source": [
    "import numpy as np\n",
    "from sklearn.metrics import mean_squared_error\n",
    "\n",
    "class Dense_Layer:\n",
    "    def __init__(self, input_size, output_size, max_iter=1000, activation=None, ):\n",
    "        \n",
    "        self.max_iter = max_iter\n",
    "        self.activation = activation\n",
    "        self.weights = np.random.rand(input_size, output_size) - 0.5\n",
    "        \n",
    "        \n",
    "        \n",
    "    def forward(self, X):\n",
    "        \n",
    "        #X = np.insert(X, 0, 1, 1)\n",
    "        \n",
    "        self.input = X\n",
    "        \n",
    "        self.output = self.activation_forward(np.dot(self.input, self.weights))\n",
    "        self.output = np.dot(self.input, self.weights)\n",
    "        return self.output\n",
    "\n",
    "    def backward(self, out_error, lr):\n",
    "        out_error = out_error * self.activation_backward(self.output)\n",
    "\n",
    "        in_error = np.dot(out_error, self.weights.T)\n",
    "        weights_error = np.dot(self.input.T, out_error)\n",
    "        self.weights += lr * weights_error\n",
    "        return in_error \n",
    "   \n",
    "    def activation_forward(self, z):\n",
    "        if self.activation == 'sigmoid':\n",
    "            return 1 / (1 + np.exp(-z))\n",
    "        elif self.activation == 'relu':\n",
    "            return np.maximum(z, 0)\n",
    "        else:\n",
    "            return z\n",
    "    def activation_backward(self, z):\n",
    "        if self.activation == 'sigmoid':\n",
    "            sigmoid = 1 / (1 + np.exp(-z))\n",
    "            return sigmoid * (1 - sigmoid)\n",
    "        elif self.activation == 'relu':\n",
    "            return np.array(z >= 0).astype('int')\n",
    "        else:\n",
    "            return np.ones_like(z)"
   ]
  },
  {
   "cell_type": "code",
   "execution_count": 187,
   "id": "2b279799-f175-447c-9203-f86b8fbeb321",
   "metadata": {},
   "outputs": [],
   "source": [
    "class Dense_NN:\n",
    "    def __init__(self, lr=0.1, loss='mse'):\n",
    "        self.lr = lr\n",
    "        self.loss = loss\n",
    "        self.layers = []\n",
    "    def add(self, layer):\n",
    "        self.layers.append(layer)\n",
    "        \n",
    "    def loss_forward(self, y_true, y_pred):\n",
    "        return np.mean(np.power((y_true - y_pred), 2))\n",
    "    def loss_backward(self, y_true, y_pred):\n",
    "        return 2 * (y_true - y_pred) / y_true.size\n",
    "\n",
    "    def predict(self, in_data):\n",
    "        samples = len(in_data)\n",
    "        result = []\n",
    "        for i in range(samples):\n",
    "            output = in_data[i]\n",
    "            for layer in self.layers:\n",
    "                output = layer.forward(output)\n",
    "            result.append(output)\n",
    "        return result\n",
    "\n",
    "    def fit(self, x_train, y_train, iter=100):\n",
    "        samples = len(x_train)\n",
    "\n",
    "        for i in range(iter):\n",
    "            err = 0\n",
    "            for j in range(samples):\n",
    "                output = x_train[j]\n",
    "                for layer in self.layers:\n",
    "                    output = layer.forward(output)\n",
    "                err += self.loss_forward(y_train[j], output)\n",
    "\n",
    "                error = self.loss_backward(y_train[j], output)\n",
    "                for layer in reversed(self.layers):\n",
    "                    error = layer.backward(error, self.lr)\n",
    "                err /= samples\n",
    "                #print('iter %d, %d error=%f' %(i+1, iter, err))\n",
    "    \n"
   ]
  },
  {
   "cell_type": "code",
   "execution_count": 189,
   "id": "de2156bd-008f-4223-8894-86fd1c03d24e",
   "metadata": {},
   "outputs": [
    {
     "name": "stdout",
     "output_type": "stream",
     "text": [
      "[array([[0.52419849]]), array([[0.42771497]]), array([[0.55333405]]), array([[0.45685053]])]\n"
     ]
    }
   ],
   "source": [
    "x_train = np.array([[[0,0]], [[0,1]], [[1,0]], [[1,1]]])\n",
    "\n",
    "y_train = np.array([[[0]], [[1]], [[1]], [[0]]])\n",
    "d_nn = Dense_NN(loss='mse', lr=0.1)\n",
    "\n",
    "d_nn.add(Dense_Layer(3, 10, activation='relu'))\n",
    "d_nn.add(Dense_Layer(10, 10,activation='sigmoid'))\n",
    "d_nn.add(Dense_Layer(10, 1,))\n",
    "\n",
    "x_train = np.insert(x_train, 0, 1,axis=2)\n",
    "\n",
    "d_nn.fit(x_train, y_train)\n",
    "out = d_nn.predict(x_train)\n",
    "print(out)"
   ]
  }
 ],
 "metadata": {
  "kernelspec": {
   "display_name": "tf384",
   "language": "python",
   "name": "tf384"
  },
  "language_info": {
   "codemirror_mode": {
    "name": "ipython",
    "version": 3
   },
   "file_extension": ".py",
   "mimetype": "text/x-python",
   "name": "python",
   "nbconvert_exporter": "python",
   "pygments_lexer": "ipython3",
   "version": "3.9.16"
  }
 },
 "nbformat": 4,
 "nbformat_minor": 5
}
