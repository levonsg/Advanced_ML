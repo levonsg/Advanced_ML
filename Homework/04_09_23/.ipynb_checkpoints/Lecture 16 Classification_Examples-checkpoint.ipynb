{
 "cells": [
  {
   "cell_type": "code",
   "execution_count": 1,
   "id": "38e25b68",
   "metadata": {},
   "outputs": [],
   "source": [
    "import numpy as np\n",
    "\n",
    "from sklearn.datasets import make_blobs, make_classification, make_moons, make_circles\n",
    "from sklearn.linear_model import LogisticRegression\n",
    "from sklearn.neighbors import KNeighborsClassifier\n",
    "from sklearn.naive_bayes import GaussianNB\n",
    "from sklearn.discriminant_analysis import LinearDiscriminantAnalysis\n",
    "from sklearn.discriminant_analysis import QuadraticDiscriminantAnalysis\n",
    "from sklearn.svm import SVC\n",
    "\n",
    "from sklearn.metrics import precision_recall_fscore_support"
   ]
  },
  {
   "cell_type": "code",
   "execution_count": null,
   "id": "f75ae785",
   "metadata": {},
   "outputs": [],
   "source": [
    "# X, Y = make_blobs(n_samples = 1000, n_features = 2, centers = 2, random_state = 1)\n",
    "# X, Y = make_classification(n_samples = 1000, n_classes = 2, n_features = 2, n_redundant = 0, random_state = 1)\n",
    "# X, Y = make_moons(n_samples=1000, noise=0.3, random_state=0)\n",
    "# X, Y = make_circles(n_samples=1000, noise=0.3, factor=0.5, random_state=1)"
   ]
  },
  {
   "cell_type": "code",
   "execution_count": null,
   "id": "29744785",
   "metadata": {},
   "outputs": [],
   "source": [
    "print(X.shape, Y.shape)"
   ]
  },
  {
   "cell_type": "code",
   "execution_count": null,
   "id": "a6bb0aea",
   "metadata": {},
   "outputs": [],
   "source": [
    "import matplotlib.pyplot as plt\n",
    "\n",
    "plt.plot(X[:, 0], X[:, 1], '.')\n",
    "plt.plot(X[Y==0, 0], X[Y==0, 1], 'r.')\n",
    "plt.plot(X[Y==1, 0], X[Y==1, 1], 'g.')\n",
    "plt.show()"
   ]
  },
  {
   "cell_type": "markdown",
   "id": "bce0a4d5",
   "metadata": {},
   "source": [
    "Creating the Data"
   ]
  },
  {
   "cell_type": "code",
   "execution_count": null,
   "id": "979e824c",
   "metadata": {},
   "outputs": [],
   "source": [
    "from sklearn.model_selection import train_test_split\n",
    "\n",
    "X_Train, X_Test, Y_Train, Y_Test = train_test_split(X, Y, test_size=0.2)\n",
    "print(X_Train.shape, Y_Train.shape, X_Test.shape, Y_Test.shape)"
   ]
  },
  {
   "cell_type": "code",
   "execution_count": null,
   "id": "28cec3a1",
   "metadata": {},
   "outputs": [],
   "source": [
    "\n"
   ]
  },
  {
   "cell_type": "code",
   "execution_count": null,
   "id": "2f409ae1",
   "metadata": {},
   "outputs": [],
   "source": [
    "from sklearn.inspection import DecisionBoundaryDisplay\n",
    "\n",
    "\n",
    "feat_1 = np.linspace(X_Train[:, 0].min(), X_Train[:, 0].max(), num=1000)\n",
    "feat_2 = np.linspace(X_Train[:, 1].min(), X_Train[:, 1].max(), num=1000)\n",
    "\n",
    "feature_1, feature_2 = np.meshgrid(feat_1, feat_2)\n",
    "grid = np.vstack([feature_1.ravel(), feature_2.ravel()]).T\n"
   ]
  },
  {
   "cell_type": "code",
   "execution_count": null,
   "id": "3a03b97e",
   "metadata": {},
   "outputs": [],
   "source": []
  },
  {
   "cell_type": "markdown",
   "id": "2036f850",
   "metadata": {},
   "source": [
    "k-Nearest Neighbors"
   ]
  },
  {
   "cell_type": "code",
   "execution_count": null,
   "id": "d533f0a8",
   "metadata": {},
   "outputs": [],
   "source": [
    "clf_kNN = KNeighborsClassifier(5).fit(X_Train, Y_Train)\n",
    "\n",
    "Y_pred_kNN = clf_kNN.predict(X)\n",
    "\n",
    "Y_pred_Test_kNN = clf_kNN.predict(X_Test)\n",
    "# print(clf_kNN.predict(X_Test))\n",
    "# print(Y_Test)\n",
    "\n",
    "score_kNN = clf_kNN.score(X_Test, Y_Test)\n",
    "print(score_kNN)\n",
    "\n",
    "prec_kNN, rec_kNN, f1_kNN, sp_kNN = precision_recall_fscore_support(Y_Test, Y_pred_Test_kNN, average='macro')\n",
    "\n",
    "print(prec_kNN, rec_kNN, f1_kNN)"
   ]
  },
  {
   "cell_type": "code",
   "execution_count": null,
   "id": "38230113",
   "metadata": {},
   "outputs": [],
   "source": [
    "\n",
    "# plt.plot(X[:, 0], X[:, 1], '.')\n",
    "# plt.plot(X[Y==0, 0], X[Y==0, 1], 'r.')\n",
    "# plt.plot(X[Y==1, 0], X[Y==1, 1], 'g.')\n",
    "# plt.show()\n",
    "\n",
    "plt.plot(X[:, 0], X[:, 1], '.')\n",
    "plt.plot(X[Y_pred_kNN == 0, 0], X[Y_pred_kNN == 0, 1], 'r.')\n",
    "plt.plot(X[Y_pred_kNN == 1, 0], X[Y_pred_kNN == 1, 1], 'g.')\n",
    "plt.show()\n",
    "\n",
    "disp = DecisionBoundaryDisplay.from_estimator(clf_kNN, X, response_method=\"predict\", alpha=0.5, grid_resolution=1000, eps=1.0)\n",
    "disp.ax_.plot(X[Y==0, 0], X[Y==0, 1], 'r.')\n",
    "disp.ax_.plot(X[Y==1, 0], X[Y==1, 1], 'g.')\n",
    "\n",
    "plt.show()\n"
   ]
  },
  {
   "cell_type": "markdown",
   "id": "62d396ed",
   "metadata": {},
   "source": [
    "Logistic Regression"
   ]
  },
  {
   "cell_type": "code",
   "execution_count": null,
   "id": "40019204",
   "metadata": {},
   "outputs": [],
   "source": [
    "clf_logistic = LogisticRegression(random_state=0).fit(X_Train, Y_Train)\n",
    "\n",
    "# print(clf_logistic.predict(X_Test))\n",
    "# print(Y_Test)\n",
    "\n",
    "score_logistic = clf_logistic.score(X_Test, Y_Test)\n",
    "\n",
    "print(score_logistic)\n",
    "Y_pred_logistic = clf_logistic.predict(X)\n",
    "\n",
    "Y_pred_Test_logistic = clf_logistic.predict(X_Test)\n",
    "\n",
    "\n",
    "\n",
    "prec_logistic, rec_logistic, f1_logistic, sp_logistic = precision_recall_fscore_support(Y_Test, Y_pred_Test_logistic, average='macro')\n",
    "\n",
    "print(prec_logistic, rec_logistic, f1_logistic)"
   ]
  },
  {
   "cell_type": "code",
   "execution_count": null,
   "id": "19335b10",
   "metadata": {},
   "outputs": [],
   "source": [
    "\n",
    "# plt.plot(X[:, 0], X[:, 1], '.')\n",
    "# plt.plot(X[Y==0, 0], X[Y==0, 1], 'r.')\n",
    "# plt.plot(X[Y==1, 0], X[Y==1, 1], 'g.')\n",
    "# plt.show()\n",
    "\n",
    "plt.plot(X[:, 0], X[:, 1], '.')\n",
    "plt.plot(X[Y_pred_logistic == 0, 0], X[Y_pred_logistic == 0, 1], 'r.')\n",
    "plt.plot(X[Y_pred_logistic == 1, 0], X[Y_pred_logistic == 1, 1], 'g.')\n",
    "plt.show()\n",
    "\n",
    "\n",
    "disp = DecisionBoundaryDisplay.from_estimator(clf_logistic, X, response_method=\"predict\", alpha=0.5, grid_resolution=1000, eps=1.0)\n",
    "disp.ax_.plot(X[Y==0, 0], X[Y==0, 1], 'r.')\n",
    "disp.ax_.plot(X[Y==1, 0], X[Y==1, 1], 'g.')\n",
    "\n",
    "plt.show()\n",
    "\n"
   ]
  },
  {
   "cell_type": "markdown",
   "id": "820739c6",
   "metadata": {},
   "source": [
    "Naive Bayes with Gaussian features"
   ]
  },
  {
   "cell_type": "code",
   "execution_count": null,
   "id": "8670c991",
   "metadata": {},
   "outputs": [],
   "source": [
    "clf_NB = GaussianNB().fit(X_Train, Y_Train)\n",
    "\n",
    "\n",
    "# print(clf_NB.predict(X_Test))\n",
    "# print(Y_Test)\n",
    "\n",
    "score_NB = clf_NB.score(X_Test, Y_Test)\n",
    "print(score_NB)\n",
    "\n",
    "Y_pred_NB = clf_NB.predict(X)\n",
    "Y_pred_Test_NB = clf_NB.predict(X_Test)\n",
    "\n",
    "prec_NB, rec_NB, f1_NB, sp_NB = precision_recall_fscore_support(Y_Test, Y_pred_Test_NB, average='macro')\n",
    "\n",
    "print(prec_NB, rec_NB, f1_NB)\n"
   ]
  },
  {
   "cell_type": "code",
   "execution_count": null,
   "id": "33c7de0c",
   "metadata": {},
   "outputs": [],
   "source": [
    "\n",
    "# plt.plot(X[:, 0], X[:, 1], '.')\n",
    "# plt.plot(X[Y==0, 0], X[Y==0, 1], 'r.')\n",
    "# plt.plot(X[Y==1, 0], X[Y==1, 1], 'g.')\n",
    "# plt.show()\n",
    "\n",
    "plt.plot(X[:, 0], X[:, 1], '.')\n",
    "plt.plot(X[Y_pred_NB == 0, 0], X[Y_pred_NB == 0, 1], 'r.')\n",
    "plt.plot(X[Y_pred_NB == 1, 0], X[Y_pred_NB == 1, 1], 'g.')\n",
    "plt.show()\n",
    "\n",
    "disp = DecisionBoundaryDisplay.from_estimator(clf_NB, X, response_method=\"predict\", alpha=0.5, grid_resolution=1000, eps=1.0)\n",
    "disp.ax_.plot(X[Y==0, 0], X[Y==0, 1], 'r.')\n",
    "disp.ax_.plot(X[Y==1, 0], X[Y==1, 1], 'g.')\n",
    "\n",
    "plt.show()\n"
   ]
  },
  {
   "cell_type": "markdown",
   "id": "0316fc83",
   "metadata": {},
   "source": [
    "Linear Discriminant Analysis"
   ]
  },
  {
   "cell_type": "code",
   "execution_count": null,
   "id": "0e7265ad",
   "metadata": {},
   "outputs": [],
   "source": [
    "clf_LDA = LinearDiscriminantAnalysis().fit(X_Train, Y_Train)\n",
    "\n",
    "\n",
    "score_LDA = clf_LDA.score(X_Test, Y_Test)\n",
    "print(score_LDA)\n",
    "\n",
    "Y_pred_LDA = clf_LDA.predict(X)\n",
    "\n",
    "Y_pred_Test_LDA = clf_LDA.predict(X_Test)\n",
    "\n",
    "\n",
    "prec_LDA, rec_LDA, f1_LDA, sp_LDA = precision_recall_fscore_support(Y_Test, Y_pred_Test_LDA, average='macro')\n"
   ]
  },
  {
   "cell_type": "code",
   "execution_count": null,
   "id": "294d60ab",
   "metadata": {},
   "outputs": [],
   "source": [
    "\n",
    "# plt.plot(X[:, 0], X[:, 1], '.')\n",
    "# plt.plot(X[Y==0, 0], X[Y==0, 1], 'r.')\n",
    "# plt.plot(X[Y==1, 0], X[Y==1, 1], 'g.')\n",
    "# plt.show()\n",
    "\n",
    "plt.plot(X[:, 0], X[:, 1], '.')\n",
    "plt.plot(X[Y_pred_LDA == 0, 0], X[Y_pred_LDA == 0, 1], 'r.')\n",
    "plt.plot(X[Y_pred_LDA == 1, 0], X[Y_pred_LDA == 1, 1], 'g.')\n",
    "plt.show()\n",
    "\n",
    "\n",
    "disp = DecisionBoundaryDisplay.from_estimator(clf_LDA, X, response_method=\"predict\", alpha=0.5, grid_resolution=1000, eps=1.0)\n",
    "disp.ax_.plot(X[Y==0, 0], X[Y==0, 1], 'r.')\n",
    "disp.ax_.plot(X[Y==1, 0], X[Y==1, 1], 'g.')\n",
    "\n",
    "plt.show()"
   ]
  },
  {
   "cell_type": "markdown",
   "id": "f49459f0",
   "metadata": {},
   "source": [
    "Quadratic Discriminant Analysis"
   ]
  },
  {
   "cell_type": "code",
   "execution_count": null,
   "id": "c68f3fc1",
   "metadata": {},
   "outputs": [],
   "source": [
    "clf_QDA = QuadraticDiscriminantAnalysis().fit(X_Train, Y_Train)\n",
    "\n",
    "\n",
    "# print(clf_QDA.predict(X_Test))\n",
    "# print(Y_Test)\n",
    "\n",
    "score_QDA = clf_QDA.score(X_Test, Y_Test)\n",
    "print(score_QDA)\n",
    "\n",
    "Y_pred_QDA = clf_QDA.predict(X)\n",
    "Y_pred_Test_QDA = clf_QDA.predict(X_Test)\n",
    "\n",
    "prec_QDA, rec_QDA, f1_QDA, sp_QDA = precision_recall_fscore_support(Y_Test, Y_pred_Test_QDA, average='macro')\n",
    "\n",
    "\n"
   ]
  },
  {
   "cell_type": "code",
   "execution_count": null,
   "id": "6d5d35ee",
   "metadata": {},
   "outputs": [],
   "source": [
    "\n",
    "# plt.plot(X[:, 0], X[:, 1], '.')\n",
    "# plt.plot(X[Y==0, 0], X[Y==0, 1], 'r.')\n",
    "# plt.plot(X[Y==1, 0], X[Y==1, 1], 'g.')\n",
    "# plt.show()\n",
    "\n",
    "plt.plot(X[:, 0], X[:, 1], '.')\n",
    "plt.plot(X[Y_pred_QDA == 0, 0], X[Y_pred_QDA == 0, 1], 'r.')\n",
    "plt.plot(X[Y_pred_QDA == 1, 0], X[Y_pred_QDA == 1, 1], 'g.')\n",
    "plt.show()\n",
    "\n",
    "disp = DecisionBoundaryDisplay.from_estimator(clf_QDA, X, response_method=\"predict\", alpha=0.5, grid_resolution=1000, eps=1.0)\n",
    "disp.ax_.plot(X[Y==0, 0], X[Y==0, 1], 'r.')\n",
    "disp.ax_.plot(X[Y==1, 0], X[Y==1, 1], 'g.')\n",
    "\n",
    "plt.show()"
   ]
  },
  {
   "cell_type": "markdown",
   "id": "15ce81b9",
   "metadata": {},
   "source": [
    "Support Vector Machines, with Linear, Polynomial, Gaussian (RBF) and Sigmoid Kernels"
   ]
  },
  {
   "cell_type": "code",
   "execution_count": null,
   "id": "3586f6b9",
   "metadata": {},
   "outputs": [],
   "source": [
    "clf_SVM_Linear = SVC(kernel=\"linear\", C=1).fit(X_Train, Y_Train)\n",
    "clf_SVM_Polynomial = SVC(kernel=\"poly\", degree=5, C=1).fit(X_Train, Y_Train)\n",
    "clf_SVM_RBF = SVC(kernel=\"rbf\", C=1, gamma=2).fit(X_Train, Y_Train)\n",
    "clf_SVM_Sigmoid = SVC(kernel=\"sigmoid\", C=1, gamma=2).fit(X_Train, Y_Train)\n",
    "\n",
    "\n",
    "# print(clf_SVM_Linear.predict(X_Test))\n",
    "# print(Y_Test)\n",
    "score_SVM_Linear = clf_SVM_Linear.score(X_Test, Y_Test)\n",
    "print(score_SVM_Linear)\n",
    "\n",
    "\n",
    "# print(clf_SVM_Polynomial.predict(X_Test))\n",
    "# print(Y_Test)\n",
    "score_SVM_Polynomial = clf_SVM_Polynomial.score(X_Test, Y_Test)\n",
    "print(score_SVM_Polynomial)\n",
    "\n",
    "\n",
    "# print(clf_SVM_RBF.predict(X_Test))\n",
    "# print(Y_Test)\n",
    "score_SVM_RBF = clf_SVM_RBF.score(X_Test, Y_Test)\n",
    "print(score_SVM_RBF)\n",
    "\n",
    "# print(clf_SVM_RBF.predict(X_Test))\n",
    "# print(Y_Test)\n",
    "score_SVM_Sigmoid = clf_SVM_Sigmoid.score(X_Test, Y_Test)\n",
    "print(score_SVM_Sigmoid)\n",
    "\n",
    "Y_pred_SVM_Linear = clf_SVM_Linear.predict(X)\n",
    "Y_pred_SVM_Polynomial = clf_SVM_Polynomial.predict(X)\n",
    "Y_pred_SVM_RBF = clf_SVM_RBF.predict(X)\n",
    "Y_pred_SVM_Sigmoid = clf_SVM_Sigmoid.predict(X)\n",
    "\n",
    "Y_pred_Test_SVM_Linear = clf_SVM_Linear.predict(X_Test)\n",
    "Y_pred_Test_SVM_Polynomial = clf_SVM_Polynomial.predict(X_Test)\n",
    "Y_pred_Test_SVM_RBF = clf_SVM_RBF.predict(X_Test)\n",
    "Y_pred_Test_SVM_Sigmoid = clf_SVM_Sigmoid.predict(X_Test)\n",
    "\n",
    "\n",
    "prec_SVM_Linear, rec_SVM_Linear, f1_SVM_Linear, sp_SVM_linear = precision_recall_fscore_support(Y_Test, Y_pred_Test_SVM_Linear, average='macro')\n",
    "prec_SVM_Polynomial, rec_SVM_Polynomial, f1_SVM_Polynomial, sp_SVM_Polynomial = precision_recall_fscore_support(Y_Test, Y_pred_Test_SVM_Polynomial, average='macro')\n",
    "prec_SVM_RBF, rec_SVM_RBF, f1_SVM_RBF, sp_SVM_RBF = precision_recall_fscore_support(Y_Test, Y_pred_Test_SVM_RBF, average='macro')\n",
    "prec_SVM_Sigmoid, rec_SVM_Sigmoid, f1_SVM_Sigmoid, sp_SVM_RBF = precision_recall_fscore_support(Y_Test, Y_pred_Test_SVM_Sigmoid, average='macro')\n",
    "\n",
    "\n",
    "print(prec_SVM_Linear, rec_SVM_Linear, f1_SVM_Linear)\n",
    "print(prec_SVM_Polynomial, rec_SVM_Polynomial, f1_SVM_Polynomial)\n",
    "print(prec_SVM_RBF, rec_SVM_RBF, f1_SVM_RBF)\n",
    "print(prec_SVM_Sigmoid, rec_SVM_Sigmoid, f1_SVM_Sigmoid)"
   ]
  },
  {
   "cell_type": "code",
   "execution_count": null,
   "id": "298d2eca",
   "metadata": {},
   "outputs": [],
   "source": [
    "\n",
    "plt.plot(X[:, 0], X[:, 1], '.')\n",
    "plt.plot(X[Y_pred_SVM_Linear == 0, 0], X[Y_pred_SVM_Linear == 0, 1], 'r.')\n",
    "plt.plot(X[Y_pred_SVM_Linear == 1, 0], X[Y_pred_SVM_Linear == 1, 1], 'g.')\n",
    "plt.show()\n",
    "\n",
    "disp = DecisionBoundaryDisplay.from_estimator(clf_SVM_Linear, X, response_method=\"predict\", alpha=0.5, grid_resolution=1000, eps=1.0)\n",
    "disp.ax_.plot(X[Y==0, 0], X[Y==0, 1], 'r.')\n",
    "disp.ax_.plot(X[Y==1, 0], X[Y==1, 1], 'g.')\n",
    "plt.show()\n",
    "\n",
    "\n"
   ]
  },
  {
   "cell_type": "code",
   "execution_count": null,
   "id": "57909131",
   "metadata": {},
   "outputs": [],
   "source": []
  },
  {
   "cell_type": "code",
   "execution_count": null,
   "id": "15b9aa56",
   "metadata": {},
   "outputs": [],
   "source": [
    "plt.plot(X[:, 0], X[:, 1], '.')\n",
    "plt.plot(X[Y_pred_SVM_Polynomial == 0, 0], X[Y_pred_SVM_Polynomial == 0, 1], 'r.')\n",
    "plt.plot(X[Y_pred_SVM_Polynomial == 1, 0], X[Y_pred_SVM_Polynomial == 1, 1], 'g.')\n",
    "plt.show()\n",
    "\n",
    "disp = DecisionBoundaryDisplay.from_estimator(clf_SVM_Polynomial, X, response_method=\"predict\", alpha=0.5, grid_resolution=1000, eps=1.0)\n",
    "disp.ax_.plot(X[Y==0, 0], X[Y==0, 1], 'r.')\n",
    "disp.ax_.plot(X[Y==1, 0], X[Y==1, 1], 'g.')\n",
    "plt.show()\n"
   ]
  },
  {
   "cell_type": "code",
   "execution_count": null,
   "id": "aabc711e",
   "metadata": {},
   "outputs": [],
   "source": []
  },
  {
   "cell_type": "code",
   "execution_count": null,
   "id": "166905f3",
   "metadata": {},
   "outputs": [],
   "source": [
    "plt.plot(X[:, 0], X[:, 1], '.')\n",
    "plt.plot(X[Y_pred_SVM_RBF == 0, 0], X[Y_pred_SVM_RBF == 0, 1], 'r.')\n",
    "plt.plot(X[Y_pred_SVM_RBF == 1, 0], X[Y_pred_SVM_RBF == 1, 1], 'g.')\n",
    "plt.show()\n",
    "\n",
    "disp = DecisionBoundaryDisplay.from_estimator(clf_SVM_RBF, X, response_method=\"predict\", alpha=0.5, grid_resolution=1000, eps=1.0)\n",
    "disp.ax_.plot(X[Y==0, 0], X[Y==0, 1], 'r.')\n",
    "disp.ax_.plot(X[Y==1, 0], X[Y==1, 1], 'g.')\n",
    "plt.show()"
   ]
  },
  {
   "cell_type": "code",
   "execution_count": null,
   "id": "ec5d1c81",
   "metadata": {},
   "outputs": [],
   "source": []
  },
  {
   "cell_type": "code",
   "execution_count": null,
   "id": "c339eba5",
   "metadata": {},
   "outputs": [],
   "source": [
    "plt.plot(X[:, 0], X[:, 1], '.')\n",
    "plt.plot(X[Y_pred_SVM_Sigmoid == 0, 0], X[Y_pred_SVM_Sigmoid == 0, 1], 'r.')\n",
    "plt.plot(X[Y_pred_SVM_Sigmoid == 1, 0], X[Y_pred_SVM_Sigmoid == 1, 1], 'g.')\n",
    "plt.show()\n",
    "\n",
    "disp = DecisionBoundaryDisplay.from_estimator(clf_SVM_Sigmoid, X, response_method=\"predict\", alpha=0.5, grid_resolution=1000, eps=1.0)\n",
    "disp.ax_.plot(X[Y==0, 0], X[Y==0, 1], 'r.')\n",
    "disp.ax_.plot(X[Y==1, 0], X[Y==1, 1], 'g.')\n",
    "plt.show()\n"
   ]
  },
  {
   "cell_type": "code",
   "execution_count": null,
   "id": "766b5f75",
   "metadata": {},
   "outputs": [],
   "source": [
    "\n"
   ]
  },
  {
   "cell_type": "code",
   "execution_count": null,
   "id": "3292319d",
   "metadata": {},
   "outputs": [],
   "source": [
    "\n",
    "scores = [score_kNN, score_logistic, score_NB, score_LDA, score_QDA, score_SVM_Linear, score_SVM_Polynomial, score_SVM_RBF, score_SVM_Sigmoid]\n",
    "precisions = [prec_kNN, prec_logistic, prec_NB, prec_LDA, prec_QDA, prec_SVM_Linear, prec_SVM_Polynomial, prec_SVM_RBF, prec_SVM_Sigmoid]\n",
    "recalls = [rec_kNN, rec_logistic, rec_NB, rec_LDA, rec_QDA, rec_SVM_Linear, rec_SVM_Polynomial, rec_SVM_RBF, rec_SVM_Sigmoid]\n",
    "f1s = [f1_kNN, f1_logistic, f1_NB, f1_LDA, f1_QDA, f1_SVM_Linear, f1_SVM_Polynomial, f1_SVM_RBF, f1_SVM_Sigmoid]\n",
    "\n",
    "# print(['kNN', 'logistic', 'NB', 'LDA', 'QDA', 'SVM_Linear', 'SVM_Polynomial', 'SVM_RBF', 'SVM_Sigmoid'])\n",
    "# print(np.around(scores, 3))\n",
    "# print(np.around(precisions, 3))\n",
    "# print(np.around(recalls, 3))\n",
    "# print(np.around(f1s, 3))"
   ]
  },
  {
   "cell_type": "markdown",
   "id": "d676c091",
   "metadata": {},
   "source": [
    "Results"
   ]
  },
  {
   "cell_type": "code",
   "execution_count": null,
   "id": "a355fc21",
   "metadata": {},
   "outputs": [],
   "source": [
    "import pandas as pd\n",
    "d = {}\n",
    "d['score'] = np.around(scores, 3)\n",
    "d['precision'] = np.around(precisions, 3)\n",
    "d['recall'] = np.around(recalls, 3)\n",
    "d['F1'] = np.around(f1s, 3)\n",
    "\n",
    "df = pd.DataFrame(data=d)\n",
    "df.index = ['kNN', 'logistic', 'NB', 'LDA', 'QDA', 'SVM_Linear', 'SVM_Polynomial', 'SVM_RBF', 'SVM_Sigmoid']\n",
    "\n",
    "print(df)"
   ]
  },
  {
   "cell_type": "code",
   "execution_count": null,
   "id": "1355d9c8",
   "metadata": {},
   "outputs": [],
   "source": []
  },
  {
   "cell_type": "code",
   "execution_count": null,
   "id": "116b516d",
   "metadata": {},
   "outputs": [],
   "source": []
  }
 ],
 "metadata": {
  "kernelspec": {
   "display_name": "Python 3 (ipykernel)",
   "language": "python",
   "name": "python3"
  },
  "language_info": {
   "codemirror_mode": {
    "name": "ipython",
    "version": 3
   },
   "file_extension": ".py",
   "mimetype": "text/x-python",
   "name": "python",
   "nbconvert_exporter": "python",
   "pygments_lexer": "ipython3",
   "version": "3.9.7"
  }
 },
 "nbformat": 4,
 "nbformat_minor": 5
}
