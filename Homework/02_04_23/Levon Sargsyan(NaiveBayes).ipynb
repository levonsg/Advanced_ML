{
 "cells": [
  {
   "cell_type": "markdown",
   "metadata": {},
   "source": [
    "# Homework"
   ]
  },
  {
   "cell_type": "code",
   "execution_count": 1,
   "metadata": {},
   "outputs": [],
   "source": [
    "# Please implement 2 classes below"
   ]
  },
  {
   "cell_type": "code",
   "execution_count": 2,
   "metadata": {},
   "outputs": [],
   "source": [
    "import pandas as pd\n",
    "import numpy as np"
   ]
  },
  {
   "cell_type": "code",
   "execution_count": 3,
   "metadata": {},
   "outputs": [],
   "source": [
    "class NaiveBayes():\n",
    "    def __init__(self):\n",
    "        self.X = np.array\n",
    "        self.y = np.array\n",
    "        self.class_prior = {}\n",
    "    def fit(self, X, y):\n",
    "        self.features = list(X.columns)\n",
    "        self.X = X\n",
    "        self.y = y\n",
    "        \n",
    "        \n",
    "        self.m, self.v = self.mean_var(self.X, self.y)\n",
    "        \n",
    "        self.prior = self.prior(y)\n",
    "        self.pcf = np.ones(np.unique(y).shape)\n",
    "        print(self.pcf)\n",
    "        \n",
    "        \n",
    "    def prior(self, y):\n",
    "        for label in np.unique(self.y):\n",
    "            n_labels = sum(self.y == label)\n",
    "            self.class_prior[label] = n_labels / self.y.shape[0]\n",
    "        return self.class_prior\n",
    "    \n",
    "    def mean_var(self, X, y):    \n",
    "        classes_index = {}\n",
    "        subdatasets = {}\n",
    "        means = {}\n",
    "        std = {}\n",
    "        for class_type in np.unique(y):\n",
    "            classes_index[class_type] = np.argwhere(y.values==class_type)\n",
    "            subdatasets[class_type] = X.values[classes_index[class_type], :]\n",
    "        for class_type in np.unique(y):\n",
    "            means[class_type] = np.mean(subdatasets[class_type], axis=0)[0]\n",
    "            std[class_type] = np.std(subdatasets[class_type], axis=0)[0]\n",
    "   \n",
    "        return means, std\n",
    "    def posterior_prob(self, m, v, x):\n",
    "        n_features = x.shape[0]\n",
    "    \n",
    "        pfc = {}\n",
    "        for class_type in np.unique(y):\n",
    "            product = 1\n",
    "            for featur in range(0, n_features):\n",
    "                product = product * (1/np.sqrt(2*3.14*v[class_type][featur])) * np.exp(-0.5 * np.power((x[featur] - m[class_type][featur]),2)/v[class_type][featur])\n",
    "        \n",
    "            pfc[class_type] = product\n",
    "        return pfc\n",
    "    def prediction(self, x):\n",
    "        self.x = x\n",
    "        self.pp = self.posterior_prob(self.m, self.v, self.x)\n",
    "        total_prob = 0\n",
    "        for class_type in np.unique(self.y):\n",
    "            total_prob = total_prob + (self.pp[class_type] * self.prior[class_type])\n",
    "        for class_type in np.unique(y):\n",
    "            self.pcf[class_type] = (self.pp[class_type] * self.prior[class_type])/total_prob\n",
    "\n",
    "        prediction = int(self.pcf.argmax())\n",
    "        return self.pcf"
   ]
  },
  {
   "cell_type": "code",
   "execution_count": 4,
   "metadata": {
    "tags": []
   },
   "outputs": [],
   "source": [
    "df = pd.read_csv('classification.csv')"
   ]
  },
  {
   "cell_type": "code",
   "execution_count": 5,
   "metadata": {
    "tags": []
   },
   "outputs": [],
   "source": [
    "X = df.drop(['default', 'ed'], axis=1)\n",
    "\n",
    "y = df['default']"
   ]
  },
  {
   "cell_type": "code",
   "execution_count": 6,
   "metadata": {
    "tags": []
   },
   "outputs": [],
   "source": [
    "NB = NaiveBayes()"
   ]
  },
  {
   "cell_type": "code",
   "execution_count": 7,
   "metadata": {
    "tags": []
   },
   "outputs": [
    {
     "name": "stdout",
     "output_type": "stream",
     "text": [
      "[1. 1.]\n"
     ]
    }
   ],
   "source": [
    "NB.fit(X, y)"
   ]
  },
  {
   "cell_type": "code",
   "execution_count": 8,
   "metadata": {
    "tags": []
   },
   "outputs": [
    {
     "data": {
      "text/plain": [
       "array([3.80598385e-18, 1.00000000e+00])"
      ]
     },
     "execution_count": 8,
     "metadata": {},
     "output_type": "execute_result"
    }
   ],
   "source": [
    "NB.prediction(X.iloc[0].values)"
   ]
  },
  {
   "cell_type": "code",
   "execution_count": 9,
   "metadata": {
    "tags": []
   },
   "outputs": [
    {
     "data": {
      "text/plain": [
       "0    1\n",
       "Name: default, dtype: int64"
      ]
     },
     "execution_count": 9,
     "metadata": {},
     "output_type": "execute_result"
    }
   ],
   "source": [
    "y.head(1)"
   ]
  },
  {
   "cell_type": "code",
   "execution_count": 10,
   "metadata": {
    "tags": []
   },
   "outputs": [],
   "source": [
    "class LinearDiscriminantAnalysis:\n",
    "    \n",
    "    def __init__(self):\n",
    "        self.m = None\n",
    "        self.v = None\n",
    "        self.class_prior = None\n",
    "    \n",
    "    def fit(self, X, y):\n",
    "        self.X = X\n",
    "        self.y = y\n",
    "        n_samples, n_features = X.shape\n",
    "\n",
    "        self.n_classes = len(np.unique(self.y))\n",
    "        \n",
    "        \n",
    "        self.m = np.zeros((self.n_classes, n_features))\n",
    "        self.v = np.zeros((self.n_classes, n_features))\n",
    "        self.class_prior = np.zeros(self.n_classes)\n",
    "\n",
    "    def prior(self, y):\n",
    "        for label in np.unique(self.y):\n",
    "            n_labels = sum(self.y == label)\n",
    "            self.m[label] = np.mean(self.X.values[n_labels], axis=0)\n",
    "            self.v[label] = np.var(self.X.values[n_labels], axis=0)\n",
    "            self.class_prior[label] = n_labels / self.y.shape[0]\n",
    "        return self.class_prior\n",
    "    \n",
    "    def predict(self, X):\n",
    "        likelihoods = np.zeros((1, self.n_classes))\n",
    "        \n",
    "    \n",
    "        for i in range(self.n_classes):\n",
    "            mean = self.m[i]\n",
    "            var = self.v[i]\n",
    "            \n",
    "            prior = self.prior(self.y)[i]\n",
    "            likelihoods[:,i] = np.prod(np.exp(-0.5 * (X - mean)**2 / var) / np.sqrt(2 * np.pi * var), axis=0) * prior\n",
    "        return likelihoods\n",
    "        #return np.argmax(likelihoods, axis=0)\n"
   ]
  },
  {
   "cell_type": "code",
   "execution_count": 11,
   "metadata": {
    "tags": []
   },
   "outputs": [],
   "source": [
    "LD = LinearDiscriminantAnalysis()"
   ]
  },
  {
   "cell_type": "code",
   "execution_count": 12,
   "metadata": {
    "tags": []
   },
   "outputs": [],
   "source": [
    "LD.fit( X, y)"
   ]
  },
  {
   "cell_type": "code",
   "execution_count": 13,
   "metadata": {
    "tags": []
   },
   "outputs": [
    {
     "data": {
      "text/plain": [
       "array([[1.64982815e-36, 3.88234245e-53]])"
      ]
     },
     "execution_count": 13,
     "metadata": {},
     "output_type": "execute_result"
    }
   ],
   "source": [
    "LD.predict(X.iloc[0].values)"
   ]
  },
  {
   "cell_type": "code",
   "execution_count": null,
   "metadata": {},
   "outputs": [],
   "source": []
  }
 ],
 "metadata": {
  "colab": {
   "name": "NaiveBayes.ipynb",
   "provenance": []
  },
  "kernelspec": {
   "display_name": "Python 3 (ipykernel)",
   "language": "python",
   "name": "python3"
  },
  "language_info": {
   "codemirror_mode": {
    "name": "ipython",
    "version": 3
   },
   "file_extension": ".py",
   "mimetype": "text/x-python",
   "name": "python",
   "nbconvert_exporter": "python",
   "pygments_lexer": "ipython3",
   "version": "3.9.13"
  }
 },
 "nbformat": 4,
 "nbformat_minor": 4
}
