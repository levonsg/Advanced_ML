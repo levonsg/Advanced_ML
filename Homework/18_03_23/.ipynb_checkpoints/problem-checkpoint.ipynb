{
 "cells": [
  {
   "cell_type": "code",
   "execution_count": null,
   "id": "e8b96e71-022e-4fbd-b8f1-c7905817398f",
   "metadata": {},
   "outputs": [],
   "source": [
    "sum(ar*new_ar) = out\n",
    "find ar"
   ]
  }
 ],
 "metadata": {
  "kernelspec": {
   "display_name": "tf_384",
   "language": "python",
   "name": "tf_384"
  },
  "language_info": {
   "name": ""
  }
 },
 "nbformat": 4,
 "nbformat_minor": 5
}
