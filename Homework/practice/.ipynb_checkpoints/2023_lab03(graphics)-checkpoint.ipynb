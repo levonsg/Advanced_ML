{
 "cells": [
  {
   "cell_type": "code",
   "execution_count": null,
   "id": "2120235a",
   "metadata": {},
   "outputs": [],
   "source": [
    "- title: Занятие 3\n",
    "- author: Smertyak Nikita\n",
    "- date: 2023-02-17\n",
    "- slug: 2023_lab03\n",
    "- ipynb_url: download/2023_lab03.ipynb"
   ]
  },
  {
   "cell_type": "markdown",
   "id": "55234309",
   "metadata": {
    "id": "SmskcqpXtqoR"
   },
   "source": [
    "\n",
    "## Семинар 3. Краткий гайд по построению графиков в питоне\n",
    "\n",
    "**Дисклемер: в самом конце собрано несколько полезных советов, обязательно посмотрите их.**\n",
    "\n",
    "В данном ноутбуке разбираются примеры графиков, с которыми вам предстоит работать по ходу курса. Материал довольно объемный, но совсем не сложный, и поможет сэкономить время при выполнение домашек. Вы можете просто просмотреть получающиеся картинки, останавливаясь подробно только на тех, что покажутся вам нетривиальными.\n",
    "\n",
    "Визуализация данных зачастую позволяет наглядно увидеть их структуру, выделить важные для дальнейшей обработки свойства: наличие выбросов среди объектов, сбалансированность выборки, распределения признаков, зависимости между ними и т.д. Поэтому в дальнейшем умение строить аккуратные и информативные графики может сделать анализ данных более удобным и эффективным. \n",
    "\n",
    "В python для подобных целей есть библиотека [matplotlib](https://matplotlib.org/), чаще всего используют её модуль matplotlob.pyplot (сокращают как plt). Также часто используется библиотека [seaborn](https://seaborn.pydata.org/) (сокращается как sns), которая позволяет легко сделать графики более красивыми. Здесь мы разберём самые полезные и часто используемые виды графиков, соответствующие библиотечные функции и их параметры. "
   ]
  },
  {
   "cell_type": "code",
   "execution_count": null,
   "id": "2b0d00d2",
   "metadata": {
    "id": "q4Wcot3crG2C"
   },
   "outputs": [],
   "source": [
    "import matplotlib.pyplot as plt\n",
    "import seaborn as sns\n",
    "\n",
    "import numpy as np\n",
    "import pandas as pd\n",
    "\n",
    "%matplotlib inline\n",
    "\n",
    "np.random.seed(191)"
   ]
  },
  {
   "cell_type": "markdown",
   "id": "e9133ea9",
   "metadata": {
    "id": "lfsKee24C34c"
   },
   "source": [
    "## Общее оформление\n",
    "\n",
    "Для начала на примере линейного графика рассмотрим общие правила оформления, позволяющие сохранить информативность и наглядность визуализации. В этом разделе познакомимся с функциями, отвечаюми за следующие свойства хорошего графика:\n",
    "- Подходящий масштаб\n",
    "- Заголовок графика\n",
    "- Подписи осей\n",
    "- Легенда графика\n",
    "\n",
    "А также с более тонкой настройкой, такой как размер шрифта или поворот подписей. "
   ]
  },
  {
   "cell_type": "code",
   "execution_count": null,
   "id": "46a31933",
   "metadata": {
    "id": "bLKRX_OG0hZj"
   },
   "outputs": [],
   "source": [
    "x = np.arange(7)\n",
    "y = np.array([3, 1, 2, 4, 5, 3, 4])"
   ]
  },
  {
   "cell_type": "markdown",
   "id": "acfd725e",
   "metadata": {
    "id": "R5ueRdD6J5-P"
   },
   "source": [
    "Сначала просто изобразим эти данные на линейном графике — это делается с помощью функции `plt.plot()`, где первым аргументом подаётся массив `x`, а вторым — `y`."
   ]
  },
  {
   "cell_type": "code",
   "execution_count": null,
   "id": "ff616d77",
   "metadata": {
    "colab": {
     "base_uri": "https://localhost:8080/",
     "height": 265
    },
    "id": "CUJkCPXiKchd",
    "outputId": "b64a2318-63cf-4f23-c190-690d84d9bd15"
   },
   "outputs": [],
   "source": [
    "plt.plot(x, y)\n",
    "plt.show()"
   ]
  },
  {
   "cell_type": "markdown",
   "id": "8746e138",
   "metadata": {
    "id": "_7Efh0QpKi4s"
   },
   "source": [
    "Здесь используются параметры matplotlib по умолчанию — размер изображения, частота подписей на оси у, цвет самого графика. Постепенно мы научимся устанавливать нужные нам значения для каждого из этих параметров. \n",
    "\n"
   ]
  },
  {
   "cell_type": "markdown",
   "id": "7012a142",
   "metadata": {
    "id": "1r4A5ZR-kxqi"
   },
   "source": [
    "### Размер изображения\n",
    "\n",
    "Начнём с размера, он устанавливается функцией `plt.figure()`, а точнее значением аргумента `figsize`, который мы в неё подаём. Этот аргумент является парой двух чисел — ширина и высота графика. По умолчанию они равны 6 и 4 соответственно, но можно изменять на любое число типа float."
   ]
  },
  {
   "cell_type": "code",
   "execution_count": null,
   "id": "a939a069",
   "metadata": {
    "colab": {
     "base_uri": "https://localhost:8080/",
     "height": 374
    },
    "id": "GqI2UA6PTiPW",
    "outputId": "16c0e57c-d10d-4908-e908-1c12a68a0def"
   },
   "outputs": [],
   "source": [
    "plt.figure(figsize = (9, 6))\n",
    "plt.plot(x, y)\n",
    "plt.show()"
   ]
  },
  {
   "cell_type": "markdown",
   "id": "f68feb4d",
   "metadata": {
    "id": "IqczlxI3TbfW"
   },
   "source": [
    "### Подписи осей и заголовок\n",
    "\n",
    "Теперь добавим подписи. Заголовок графика добавляется функцией `plt.title()` с аргументом-строкой, подписи к осям х и у добавляются функциями `plt.xlabel()` и `plt.ylabel()` соответственно."
   ]
  },
  {
   "cell_type": "code",
   "execution_count": null,
   "id": "cabf5d84",
   "metadata": {
    "colab": {
     "base_uri": "https://localhost:8080/",
     "height": 404
    },
    "id": "WO64NKSmsyfi",
    "outputId": "9577d1c5-96d2-4f29-93d2-d38d60e7e649"
   },
   "outputs": [],
   "source": [
    "plt.figure(figsize = (9, 6))\n",
    "plt.plot(x, y)\n",
    "plt.title('Зависимость количества чашек чая в день от дня недели')\n",
    "plt.xlabel('День недели')\n",
    "plt.ylabel('Количество чашек чая в день')\n",
    "plt.show()"
   ]
  },
  {
   "cell_type": "markdown",
   "id": "de8aa8ff",
   "metadata": {
    "id": "WAP1FghoU1SM"
   },
   "source": [
    "Надписи добавили, но видно их плохо. Это можно исправить значением аргумента `fontsize`, отвечающего за размер шрифта во всех трёх функциях."
   ]
  },
  {
   "cell_type": "code",
   "execution_count": null,
   "id": "959fb831",
   "metadata": {
    "colab": {
     "base_uri": "https://localhost:8080/",
     "height": 434
    },
    "id": "oJS9FNfwVpwM",
    "outputId": "f4bae893-8bb7-4dab-8fd7-45423a3843cd"
   },
   "outputs": [],
   "source": [
    "plt.figure(figsize = (9, 6))\n",
    "plt.plot(x, y)\n",
    "plt.title('Зависимость количества чашек\\nчая в день от дня недели', fontsize=17)\n",
    "\n",
    "plt.xlabel('День недели', fontsize=15)\n",
    "plt.ylabel('Количество чашек чая в день', fontsize=15)\n",
    "\n",
    "plt.show()"
   ]
  },
  {
   "cell_type": "markdown",
   "id": "2409557f",
   "metadata": {
    "id": "1yjDw_xAQ8F4"
   },
   "source": [
    "### Органичение осей\n",
    "\n",
    "Если все данные помещаются на графике только в мелком масштабе, можно явным образом указать границы по осям. За это отвечают функции `plt.xlim()` и `plt.ylim()`, в качестве аргументов подаётся пара чисел, соответствующих границам."
   ]
  },
  {
   "cell_type": "code",
   "execution_count": null,
   "id": "5228ddf4",
   "metadata": {
    "colab": {
     "base_uri": "https://localhost:8080/",
     "height": 434
    },
    "id": "aboXr37HR64k",
    "outputId": "23cae9d1-3891-417f-ca9a-0cbc86973e96"
   },
   "outputs": [],
   "source": [
    "plt.figure(figsize = (9, 6))\n",
    "plt.plot(x, y)\n",
    "plt.title('Зависимость количества чашек\\nчая в день от дня недели', fontsize=17)\n",
    "\n",
    "plt.xlabel('День недели', fontsize=15)\n",
    "plt.ylabel('Количество чашек чая в день', fontsize=15)\n",
    "\n",
    "plt.xlim(-1, 8)\n",
    "plt.ylim(-2, 4.5)\n",
    "\n",
    "plt.show()"
   ]
  },
  {
   "cell_type": "markdown",
   "id": "07bb5932",
   "metadata": {
    "id": "idApDFnkSS7i"
   },
   "source": [
    "Как видим, в этом случае все данные, не попавшие в указанную область, просто не отображаются."
   ]
  },
  {
   "cell_type": "markdown",
   "id": "465be8f9",
   "metadata": {
    "id": "crsOCEIMegM0"
   },
   "source": [
    "### Деления осей\n",
    "\n",
    "Обратим внимание на оси и то, как часто расположены и как подписаны деления на них. Было бы удобней подписать дни недели их названиями, а не номерами, например. Также по оси у у нас только целые значения, поэтому можем убрать дробные значения из подписей. \n",
    "\n",
    "За подписи делений на осях отвечают функции `plt.xticks()` и `plt.yticks()` для соответствующих осей. Разберём нескоторые полезные аргументы этих функций.\n",
    "\n",
    "Аргумент `ticks` задаёт массив делений, которые должны быть отмечены. Если они все меньше максимального значения в данных по соответствующей оси, дальше деления не будут добавляться, но график обрезан не будет. Если наоборот какое-то из значений больше максимума в данных, область по даннной оси будет увеличена. Аналогично с минимальными значениями. Кроме того, можно передать пустой массив, и тогда деления на оси будут отсутствовать."
   ]
  },
  {
   "cell_type": "code",
   "execution_count": null,
   "id": "3e8848b5",
   "metadata": {
    "colab": {
     "base_uri": "https://localhost:8080/",
     "height": 434
    },
    "id": "gpMtXzaujWIt",
    "outputId": "3c58f813-21f5-4d46-93ca-cdb830ae7d4b"
   },
   "outputs": [],
   "source": [
    "plt.figure(figsize = (9, 6), dpi=150)\n",
    "plt.plot(x, y)\n",
    "plt.title('Зависимость количества чашек\\nчая в день от дня недели', fontsize=17)\n",
    "\n",
    "plt.xlabel('День недели', fontsize=15)\n",
    "plt.ylabel('Количество чашек чая в день', fontsize=15)\n",
    "\n",
    "plt.xticks(ticks=np.arange(2, 8))\n",
    "plt.yticks([-1, 0, 2, 5])\n",
    "\n",
    "plt.show()"
   ]
  },
  {
   "cell_type": "markdown",
   "id": "b5982f30",
   "metadata": {
    "id": "ah_T_lIKjjTu"
   },
   "source": [
    "Так, как показано на примере выше, подписывать оси не стоит, но это наглядно демонстрирует возможности аргумента `ticks`. По умолчанию это первый агрумент функции, поэтому его можно не подписывать. \n",
    "\n",
    "Следующим по плану идёт аргумент `labels`. Это тоже массив, по длине совпадающий с массивом `ticks`. Он задаёт надписи, которыми нужно подписать деления. По умолчанию они совпадают со значениями из данных, поэтому их можно не указывать без необходимости. В нашем случае мы добавим названия дней недели по оси х. "
   ]
  },
  {
   "cell_type": "code",
   "execution_count": null,
   "id": "9804f888",
   "metadata": {
    "colab": {
     "base_uri": "https://localhost:8080/",
     "height": 434
    },
    "id": "OqQEqSObgLkM",
    "outputId": "680e0ab8-736e-4e2b-c3d7-2d63fd586192"
   },
   "outputs": [],
   "source": [
    "plt.figure(figsize = (9, 6), dpi=150)\n",
    "plt.plot(x, y)\n",
    "plt.title('Зависимость количества чашек\\nчая в день от дня недели', fontsize=17)\n",
    "\n",
    "plt.xlabel('День недели', fontsize=15)\n",
    "plt.ylabel('Количество чашек чая в день', fontsize=15)\n",
    "\n",
    "plt.xticks(np.arange(7), labels=['Monday', 'Tuesday', 'Wednesday', 'Thursday', 'Friday', 'Saturday', 'Sunday'])\n",
    "plt.yticks(np.arange(1, 6))\n",
    "\n",
    "plt.show()"
   ]
  },
  {
   "cell_type": "markdown",
   "id": "4ffd2fff",
   "metadata": {
    "id": "OugaWkxQkiy-"
   },
   "source": [
    "Аргумент, отвечающий за размер шрифта, здесь такой же — `fontsize`. Кроме него может пригодиться поворот подписей на какой-то градус. Он задаётся числовым аргументом `rotation`, измеряется в градусах."
   ]
  },
  {
   "cell_type": "code",
   "execution_count": null,
   "id": "96b251ed",
   "metadata": {
    "colab": {
     "base_uri": "https://localhost:8080/",
     "height": 470
    },
    "id": "eVuEthPVljNs",
    "outputId": "1c75be87-4205-4906-c29c-a57fa5602597"
   },
   "outputs": [],
   "source": [
    "plt.figure(figsize = (9, 6), dpi=150)\n",
    "\n",
    "plt.plot(x, y)\n",
    "plt.title('Зависимость количества чашек\\nчая в день от дня недели', fontsize=17)\n",
    "\n",
    "plt.xlabel('День недели', fontsize=15)\n",
    "plt.ylabel('Количество чашек чая в день', fontsize=15)\n",
    "\n",
    "plt.xticks(np.arange(7),\n",
    "           labels=['Monday', 'Tuesday', 'Wednesday', 'Thursday', 'Friday', 'Saturday', 'Sunday'],\n",
    "           fontsize=12,\n",
    "           rotation=30)\n",
    "plt.yticks(np.arange(1, 6))\n",
    "\n",
    "plt.show()"
   ]
  },
  {
   "cell_type": "markdown",
   "id": "83a50474",
   "metadata": {
    "id": "Nd_MH_Bpl0pZ"
   },
   "source": [
    "### Сетка\n",
    "\n",
    "Чтобы было удобней ориентироваться в графике, бывает полезно использовать сетку. Здесь она добавляется функцией `plt.grid()`, по умолчанию для обеих осей, но можно указать только одну из них аргументом `axis`. Он принимает одно из трёх значений: `'x'`, `'y'`, `'both'` (по умолчанию). "
   ]
  },
  {
   "cell_type": "code",
   "execution_count": null,
   "id": "648ad708",
   "metadata": {
    "colab": {
     "base_uri": "https://localhost:8080/",
     "height": 470
    },
    "id": "NIn5mGALeec3",
    "outputId": "7246a397-8ecd-4e98-ad66-4c3d033ba6c4"
   },
   "outputs": [],
   "source": [
    "plt.figure(figsize = (9, 6), dpi=150)\n",
    "plt.plot(x, y)\n",
    "plt.title('Зависимость количества чашек\\nчая в день от дня недели', fontsize=17)\n",
    "\n",
    "plt.xlabel('День недели', fontsize=15)\n",
    "plt.ylabel('Количество чашек чая в день', fontsize=15)\n",
    "\n",
    "plt.xticks(np.arange(7),\n",
    "           labels=['Monday', 'Tuesday', 'Wednesday', 'Thursday', 'Friday', 'Saturday', 'Sunday'],\n",
    "           fontsize=12,\n",
    "           rotation=30)\n",
    "plt.yticks(np.arange(1, 6))\n",
    "\n",
    "plt.grid()\n",
    "plt.show()"
   ]
  },
  {
   "cell_type": "markdown",
   "id": "9d6357f3",
   "metadata": {
    "id": "SZ2Fvc5JmffV"
   },
   "source": [
    "### Легенда\n",
    "\n",
    "В случае, когда на одном изображении находится несколько графиков, нужно заносить их в легенду. Она печатается функцией `plt.legend()`, заголовок задаётся агрументом `title`, подписи к разным графикам можно задавать как массивом `labels`, так и при добавлении самого графика аргументом `label`. "
   ]
  },
  {
   "cell_type": "code",
   "execution_count": null,
   "id": "c07c3292",
   "metadata": {
    "id": "05pVXWc2uDmx"
   },
   "outputs": [],
   "source": [
    "y1 = y\n",
    "y2 = np.array([5, 4, 5, 3, 4, 2, 5])"
   ]
  },
  {
   "cell_type": "code",
   "execution_count": null,
   "id": "db3a3ea8",
   "metadata": {
    "colab": {
     "base_uri": "https://localhost:8080/",
     "height": 470
    },
    "id": "QzHMyPliuCLJ",
    "outputId": "5e2fefef-6559-40f1-e80e-e932bc5e6ec2"
   },
   "outputs": [],
   "source": [
    "plt.figure(figsize = (9, 6), dpi=150)\n",
    "plt.plot(x, y1)\n",
    "plt.plot(x, y2) # добавили ещё один график\n",
    "\n",
    "plt.title('Зависимость количества чашек\\nчая в день от дня недели', fontsize=17)\n",
    "\n",
    "plt.xlabel('День недели', fontsize=15)\n",
    "plt.ylabel('Количество чашек чая в день', fontsize=15)\n",
    "\n",
    "plt.xticks(np.arange(7),\n",
    "           labels=['Monday', 'Tuesday', 'Wednesday', 'Thursday', 'Friday', 'Saturday', 'Sunday'],\n",
    "           fontsize=12,\n",
    "           rotation=30)\n",
    "plt.yticks(np.arange(1, 6))\n",
    "\n",
    "plt.legend(title='Люди', labels=['Петя', 'Вася'])\n",
    "\n",
    "plt.grid()\n",
    "plt.show()"
   ]
  },
  {
   "cell_type": "markdown",
   "id": "67ee80a0",
   "metadata": {
    "id": "0GN7e5bOvLgZ"
   },
   "source": [
    "Также можно настраивать следующие аргументы функции:\n",
    "- `fontsize` отвечает за размер шрифта\n",
    "- `title_fontsize` отвечает за размер шрифта заголовка легенды\n",
    "- `ncol` является числом и соответствует количеству столбцов\n",
    "- `loc` указывает расположение легенды, по умолчанию установлен в значение `'best'`, но может принимать и другие значения: `'upper right'`, `'upper left'`, `'lower left'`, `'lower right'`, `'right'`, `'center left'`, `'center right'`, `'lower center'`, `'upper center'`, `'center'`\n",
    "- `shadow` делает легенду непрозрачной и добавляет к ней тень по краю"
   ]
  },
  {
   "cell_type": "code",
   "execution_count": null,
   "id": "2aa61382",
   "metadata": {
    "colab": {
     "base_uri": "https://localhost:8080/",
     "height": 470
    },
    "id": "2U_aYUBKw3S3",
    "outputId": "f83955b7-6ab6-4e69-d674-0ed4b99d3334"
   },
   "outputs": [],
   "source": [
    "plt.figure(figsize = (9, 6), dpi=150)\n",
    "plt.plot(x, y1, label='Петя') # перенесли объявление подписи в легенде\n",
    "plt.plot(x, y2, label='Вася') # добавили ещё один график и сразу подпись к нему\n",
    "\n",
    "plt.title('Зависимость количества чашек\\nчая в день от дня недели', fontsize=17)\n",
    "\n",
    "plt.xlabel('День недели', fontsize=15)\n",
    "plt.ylabel('Количество чашек чая в день', fontsize=15)\n",
    "\n",
    "plt.xticks(np.arange(7),\n",
    "           labels=['Monday', 'Tuesday', 'Wednesday', 'Thursday', 'Friday', 'Saturday', 'Sunday'],\n",
    "           fontsize=12,\n",
    "           rotation=30)\n",
    "plt.yticks(np.arange(1, 6))\n",
    "\n",
    "plt.legend(title='Люди', title_fontsize=13, fontsize=12, ncol=2, loc='lower right')\n",
    "\n",
    "plt.grid()\n",
    "plt.show()"
   ]
  },
  {
   "cell_type": "markdown",
   "id": "fce5e37f",
   "metadata": {
    "id": "ZyVgUaxaQ_o5"
   },
   "source": [
    "### Работа с цветом\n",
    "\n",
    "Как видно выше, matplotlib может сам подобрать цвета для разных графиков на одном и том же изображении. Но часто бывает нужно для наглядности указывать конкретный цвет самостоятельно. Чаще всего за это отвечает параметр `color` или `c`. Обычно `color` явлется строкой, например, `'red'` или `'green'`. В качестве аргумента `c` зачастую передаётся массив, где каждой точке из массива данных соответствует свой цвет, который в том числе может являться и числом. Обычно такой массив создаётся с помощью логического выражения."
   ]
  },
  {
   "cell_type": "code",
   "execution_count": null,
   "id": "7a94ac7c",
   "metadata": {
    "colab": {
     "base_uri": "https://localhost:8080/",
     "height": 470
    },
    "id": "d1eq28aYSMvz",
    "outputId": "a39712ce-95a1-4b55-ab60-fb512eb85ab2"
   },
   "outputs": [],
   "source": [
    "plt.figure(figsize = (9, 6), dpi=150)\n",
    "plt.plot(x, y1, label='Петя', color='red')   # изменили цвет\n",
    "plt.plot(x, y2, label='Вася', color='green') # изменили цвет\n",
    "\n",
    "plt.title('Зависимость количества чашек\\nчая в день от дня недели', fontsize=17)\n",
    "\n",
    "plt.xlabel('День недели', fontsize=15)\n",
    "plt.ylabel('Количество чашек чая в день', fontsize=15)\n",
    "\n",
    "plt.xticks(np.arange(7),\n",
    "           labels=['Monday', 'Tuesday', 'Wednesday', 'Thursday', 'Friday', 'Saturday', 'Sunday'],\n",
    "           fontsize=12,\n",
    "           rotation=30)\n",
    "plt.yticks(np.arange(1, 6))\n",
    "\n",
    "plt.legend(title='Люди', title_fontsize=13, fontsize=12, ncol=2, loc='lower right')\n",
    "\n",
    "plt.grid()\n",
    "plt.show()"
   ]
  },
  {
   "cell_type": "code",
   "execution_count": null,
   "id": "3f0c35f1",
   "metadata": {
    "colab": {
     "base_uri": "https://localhost:8080/",
     "height": 394
    },
    "id": "o23BweMJS47e",
    "outputId": "db2919f0-e8c4-4a39-9424-791a626c50b4"
   },
   "outputs": [],
   "source": [
    "plt.figure(figsize = (9, 6), dpi=150)\n",
    "x = np.random.normal(size=10)\n",
    "y = np.random.normal(size=10)\n",
    "plt.scatter(x, y, \n",
    "            c=[\n",
    "                '#1f77b4', '#ff7f0e', '#2ca02c', '#d62728', '#9467bd',\n",
    "                '#8c564b', '#e377c2', '#7f7f7f', '#bcbd22', '#17becf'\n",
    "            ])\n",
    "\n",
    "plt.title('Цвета задали с помощью массива цветовых кодов', fontsize=17)\n",
    "\n",
    "plt.show()"
   ]
  },
  {
   "cell_type": "code",
   "execution_count": null,
   "id": "3fa2cf12",
   "metadata": {
    "colab": {
     "base_uri": "https://localhost:8080/",
     "height": 394
    },
    "id": "MOGUIFIvT67E",
    "outputId": "ad842d6b-bd7a-459d-de98-98c600a0d64f"
   },
   "outputs": [],
   "source": [
    "plt.figure(figsize = (9, 6), dpi=150)\n",
    "x = np.random.normal(size=100)\n",
    "y = np.random.normal(size=100)\n",
    "plt.scatter(x, y, c=y>0)\n",
    "\n",
    "plt.title('Цвета задали с помощью массива чисел', fontsize=17)\n",
    "\n",
    "plt.show()"
   ]
  },
  {
   "cell_type": "markdown",
   "id": "93adf4c6",
   "metadata": {
    "id": "UlVo1CPmUrHY"
   },
   "source": [
    "Больше разных цветов можно найти на сайте библиотеки по [ссылке](https://matplotlib.org/stable/tutorials/colors/colors.html)."
   ]
  },
  {
   "cell_type": "markdown",
   "id": "dd999c83",
   "metadata": {
    "id": "iZgBYApc7C_r"
   },
   "source": [
    "## Простейшие виды графиков\n",
    "\n",
    "В этом разделе мы рассмотрим подробней построение линейного графика и графика множества точек — двух наиболее часто встречающихся вариантов визуализации информации. Линейный график лучше использовать, если в данных присутствует последовательность, например, если данные распределены по времени. Множество точек полезно, если хочется увидеть распределение данных на плоскости и потом, например, посмотреть на наличие зависимости одного признака от другого, например."
   ]
  },
  {
   "cell_type": "markdown",
   "id": "f1c8bf02",
   "metadata": {
    "id": "QPCY9mml8k28"
   },
   "source": [
    "### Линейный график\n",
    "\n",
    "Как уже было показано выше, линейный график строится при помощи функции `plt.plot()`, где первым аргументом подаётся массив значений по оси х, а вторым — по оси у. Стоит ещё уточнить, что можно подавать только значения по оси у, тогда для оси х будет использоваться последовательность целых чисел, начиная с 0."
   ]
  },
  {
   "cell_type": "code",
   "execution_count": null,
   "id": "a7fd05f9",
   "metadata": {
    "id": "LAVJ1hkscUL_"
   },
   "outputs": [],
   "source": [
    "x = np.linspace(-5, 5, 100)\n",
    "y = np.sin(x)"
   ]
  },
  {
   "cell_type": "code",
   "execution_count": null,
   "id": "a63e8603",
   "metadata": {
    "colab": {
     "base_uri": "https://localhost:8080/",
     "height": 360
    },
    "id": "V9w3KVah9RVW",
    "outputId": "1a2ef8f5-0f02-4e69-dd15-67fdbdbaebf4"
   },
   "outputs": [],
   "source": [
    "plt.figure(figsize = (18, 6))\n",
    "\n",
    "plt.subplot(1, 2, 1)\n",
    "plt.plot(y)\n",
    "plt.title('Странный график функции sin(x)', fontsize=17)\n",
    "plt.xlabel('Значения на этой оси заданы по умолчанию,\\nсоответствуют номеру точки', fontsize=15)\n",
    "plt.ylabel('Значение функции sin(x)', fontsize=15)\n",
    "plt.grid()\n",
    "\n",
    "\n",
    "plt.subplot(1, 2, 2)\n",
    "plt.plot(x, y)\n",
    "plt.title('График функции sin(x)', fontsize=17)\n",
    "plt.xlabel('Значения на этой оси заданы вручную,\\nсоответствуют аргументу x', fontsize=15)\n",
    "plt.ylabel('Значение функции sin(x)', fontsize=15)\n",
    "plt.grid()\n",
    "\n",
    "plt.show()"
   ]
  },
  {
   "cell_type": "markdown",
   "id": "2c4d691d",
   "metadata": {
    "id": "68ogdVEMX2Dj"
   },
   "source": [
    "Выше для наглядности использовалась функция `plt.subplot()`, про неё будет рассказано позднее. \n",
    "\n",
    "Что касается настраиваемых параметров самого линейного графика, рассмотрим те, что касаются линии: это толщина и её тип. За первое отвечает числовой аргумент `linewidth` или `lw`, за второе — `linestyle` или `ls`, который может принимать много разных значений, например, `'-'` для сплошной линии, `'--'` для пунктирной, `'-.'` для линии вида точка-тире, `':'` для линии вида точка-точка.\n",
    "\n",
    "Эти же аргументы и их значения можно использовать и для настройки сетки."
   ]
  },
  {
   "cell_type": "code",
   "execution_count": null,
   "id": "052967a2",
   "metadata": {
    "colab": {
     "base_uri": "https://localhost:8080/",
     "height": 503
    },
    "id": "qi-9SZJ3aTWL",
    "outputId": "5c9db4be-a54e-43aa-ff0f-b49f212e1f9f"
   },
   "outputs": [],
   "source": [
    "plt.figure(figsize = (11, 8), dpi=150)\n",
    "\n",
    "plt.title('Различные значения параметров ls и lw', fontsize=17)\n",
    "\n",
    "plt.plot(x, y,\n",
    "         linestyle = '-',\n",
    "         linewidth = 1,\n",
    "         label=\"ls = '-',   lw = 1\")\n",
    "\n",
    "plt.plot(x, y + 1,\n",
    "         linestyle = '--',\n",
    "         linewidth = 2,\n",
    "         label=\"ls = '--',  lw = 2\")\n",
    "\n",
    "plt.plot(x, y + 2,\n",
    "         linestyle = '-.',\n",
    "         linewidth = 4,\n",
    "         label=\"ls = '-.',  lw = 4\")\n",
    "\n",
    "plt.plot(x, y + 3,\n",
    "         linestyle = ':',\n",
    "         linewidth = 6,\n",
    "         label=\"ls = ':',   lw = 6\")\n",
    "\n",
    "plt.legend(title='аргументы ls и lw',\n",
    "           fontsize=12,\n",
    "           title_fontsize=13,\n",
    "           loc='lower right',\n",
    "           shadow=True)\n",
    "\n",
    "plt.grid(linestyle='-.', linewidth=2)\n",
    "plt.show()"
   ]
  },
  {
   "cell_type": "markdown",
   "id": "bbfe18d5",
   "metadata": {
    "id": "KZSHme-9d6l7"
   },
   "source": [
    "Вернёмся к предыдущему примеру с чашками чая, там может быть удобно выделить точки специальными маркерами. Это может пригодиться для того, чтобы показать, где реальные данные, а где достроенные на их основе зависимости. За тип маркера отвечает аргумент `marker`, принимающий строковое или числовое значение. Самые часто используемые из них это:\n",
    "- `'.'` для точки\n",
    "- `'o'` для круга\n",
    "- `'^'` для треугольника\n",
    "- `'s'` для квадрата\n",
    "\n",
    "Больше видов маркеров можно найти по [ссылке](https://matplotlib.org/stable/api/markers_api.html#module-matplotlib.markers)\n",
    "\n",
    "Параметр `markersize` отвечает за размер маркера и является числом."
   ]
  },
  {
   "cell_type": "code",
   "execution_count": null,
   "id": "7aa92684",
   "metadata": {
    "id": "uvHjy_p2eHST"
   },
   "outputs": [],
   "source": [
    "x = np.arange(7)\n",
    "y1 = np.array([3, 1, 2, 4, 5, 3, 4])\n",
    "y2 = np.array([5, 4, 5, 3, 4, 2, 5])"
   ]
  },
  {
   "cell_type": "code",
   "execution_count": null,
   "id": "6a2e0c31",
   "metadata": {
    "colab": {
     "base_uri": "https://localhost:8080/",
     "height": 470
    },
    "id": "oXyiq3-bet_C",
    "outputId": "554d68ac-8248-435f-ca57-ababd1fc0c79"
   },
   "outputs": [],
   "source": [
    "plt.figure(figsize = (9, 6), dpi=150)\n",
    "plt.plot(x, y1, \n",
    "         label='Петя', \n",
    "         marker='^', \n",
    "         markersize=20)\n",
    "\n",
    "plt.plot(x, y2, \n",
    "         label='Вася',\n",
    "         marker='s', \n",
    "         markersize=10)\n",
    "\n",
    "plt.title('Зависимость количества чашек\\nчая в день от дня недели', fontsize=17)\n",
    "\n",
    "plt.xlabel('День недели', fontsize=15)\n",
    "plt.ylabel('Количество чашек чая в день', fontsize=15)\n",
    "\n",
    "plt.xticks(np.arange(7),\n",
    "           labels=['Monday', 'Tuesday', 'Wednesday', 'Thursday', 'Friday', 'Saturday', 'Sunday'],\n",
    "           fontsize=12,\n",
    "           rotation=30)\n",
    "plt.yticks(np.arange(1, 6))\n",
    "\n",
    "plt.legend(title='Люди', title_fontsize=13, fontsize=12, ncol=2, loc='lower right')\n",
    "\n",
    "plt.grid()\n",
    "plt.show()"
   ]
  },
  {
   "cell_type": "markdown",
   "id": "08ab6982",
   "metadata": {
    "id": "48BE1wSZU9wp"
   },
   "source": [
    "Можно отдельно указывать и цвет линии, и цвет маркеров. За первое отвечает аргумент `color`, а за второе — `markerfacecolor`. Цвет границ маркера по умолчанию совпадает с цветом линии, но можно поменять и его с помощью параметра `markeredgecolor`."
   ]
  },
  {
   "cell_type": "code",
   "execution_count": null,
   "id": "42dfe382",
   "metadata": {
    "colab": {
     "base_uri": "https://localhost:8080/",
     "height": 470
    },
    "id": "N9L7cWDHVI07",
    "outputId": "ed8205f4-a405-4c35-9261-c4d750cdb4ce"
   },
   "outputs": [],
   "source": [
    "plt.figure(figsize = (9, 6), dpi=150)\n",
    "plt.plot(x, y1, \n",
    "         label='Петя', \n",
    "         marker='^', \n",
    "         markersize=20,\n",
    "         color='blue',\n",
    "         markerfacecolor='orange')\n",
    "\n",
    "plt.plot(x, y2, \n",
    "         label='Вася',\n",
    "         marker='s', \n",
    "         markersize=10,\n",
    "         color='orange',\n",
    "         markerfacecolor='yellow',\n",
    "         markeredgecolor='green')\n",
    "\n",
    "plt.title('Зависимость количества чашек\\nчая в день от дня недели', fontsize=17)\n",
    "\n",
    "plt.xlabel('День недели', fontsize=15)\n",
    "plt.ylabel('Количество чашек чая в день', fontsize=15)\n",
    "\n",
    "plt.xticks(np.arange(7),\n",
    "           labels=['Monday', 'Tuesday', 'Wednesday', 'Thursday', 'Friday', 'Saturday', 'Sunday'],\n",
    "           fontsize=12,\n",
    "           rotation=30)\n",
    "plt.yticks(np.arange(1, 6))\n",
    "\n",
    "plt.legend(title='Люди', title_fontsize=13, fontsize=12, ncol=2, loc='lower right')\n",
    "\n",
    "plt.grid()\n",
    "plt.show()"
   ]
  },
  {
   "cell_type": "markdown",
   "id": "d0396839",
   "metadata": {
    "id": "jZpi2BQNzGxO"
   },
   "source": [
    "### Множество точек\n",
    "\n",
    "График разброса точек показывает как распределены данные на какой-то плоскости. Его можно использовать, например, для предварительного анализа признак на предмет наличия зависимости. \n",
    "\n",
    "В библиотеке matplotlib за графики такого вида отвечает функция `plt.scatter()`, в качестве аргументов подаются массивы значений по оси х и по оси у."
   ]
  },
  {
   "cell_type": "code",
   "execution_count": null,
   "id": "cc090b78",
   "metadata": {
    "id": "6ZfGXmVL2Lr8"
   },
   "outputs": [],
   "source": [
    "x = np.random.normal(size=1000)\n",
    "y = np.random.normal(size=1000)"
   ]
  },
  {
   "cell_type": "code",
   "execution_count": null,
   "id": "7f0d363d",
   "metadata": {
    "colab": {
     "base_uri": "https://localhost:8080/",
     "height": 501
    },
    "id": "fLvDz9iZXPuj",
    "outputId": "f04d3f55-3ffa-4777-f91a-04ffd5d08fda"
   },
   "outputs": [],
   "source": [
    "plt.figure(figsize = (8, 8), dpi=150)\n",
    "plt.scatter(x, y)\n",
    "\n",
    "plt.title('Нормальное распределение', fontsize=15)\n",
    "\n",
    "plt.show()"
   ]
  },
  {
   "cell_type": "markdown",
   "id": "ecfce77a",
   "metadata": {
    "id": "rYNJfAg_We_u"
   },
   "source": [
    "Аналогично маркерам на линейном графике, у точек можно регулировать следующие параметры:\n",
    "- `s` отвечает за размер, это либо одно число для всех точек, либо массив чисел с размером для каждой из них.\n",
    "- `marker` отвечает за тип точки, например, `'o'`, `'^'` или `'s'`, один и тот же внутри одно вызова функции.\n",
    "- `color` или `c` отвечает за цвет, один для всех точек или для каждой свой."
   ]
  },
  {
   "cell_type": "code",
   "execution_count": null,
   "id": "ff3d561f",
   "metadata": {
    "colab": {
     "base_uri": "https://localhost:8080/",
     "height": 473
    },
    "id": "1ZOeZT1mccHK",
    "outputId": "43996354-6b3b-4ffe-f026-898106724f7e"
   },
   "outputs": [],
   "source": [
    "plt.figure(figsize = (16, 8))\n",
    "\n",
    "plt.subplot(1, 2, 1)\n",
    "plt.scatter(x, y, \n",
    "            s=25, \n",
    "            marker='^', \n",
    "            color='green')\n",
    "plt.title('Параметры для всех одни и те же', fontsize=17)\n",
    "\n",
    "plt.subplot(1, 2, 2)\n",
    "plt.scatter(x, y, \n",
    "         s=[5 if y[i] < 0 else 50 for i in range(1000)], \n",
    "         marker='s',\n",
    "         c=(x < 0))\n",
    "plt.title('Для каждой точки своё значение цвета и размера', fontsize=17)\n",
    "\n",
    "plt.show()"
   ]
  },
  {
   "cell_type": "markdown",
   "id": "fd327090",
   "metadata": {
    "id": "zAcE4H9o9ljX"
   },
   "source": [
    "## Расположение нескольких графиков рядом\n",
    "\n",
    "Выше уже несколько раз использовалась функция `plt.subplots()`, пришло время поговорить про неё подробнее. Как было видно выше, она возволяет располагать несколько отдельных графиков на одном изображении. "
   ]
  },
  {
   "cell_type": "markdown",
   "id": "ed9ad10a",
   "metadata": {
    "id": "3oQth9FSe1_w"
   },
   "source": [
    "### Коротко про Figure и Axis\n",
    "\n",
    "Чтобы было понятнее, углубимся в то, как устроен вывод в matplotlib. Всё окно является объектом класса `Figure`, именно его размеры мы задаём параметром `figsize` в функции `plt.figure()`, которая этот объект создаёт. Уже в этой области располагаются объекты класса `Axis`, по умолчанию один, но может быть и несколько. Явно добавить его можно методом `add_subplot()`, указав в качестве аргумента три числа: количество строк, на которые нужно разделить область `Figure`, количество столбцов и номер фрагмента `Figure`, на котором мы хотим разместить область `Axis`. Нумерация начинается с 1 и движется слева направо, сверху вниз. \n",
    "\n",
    "Ниже приведён пример, как создать `Figure` и `Axis` в явном виде. Чтобы показать различия между ними, мы закрасили их в разные цвета."
   ]
  },
  {
   "cell_type": "code",
   "execution_count": null,
   "id": "3e32eefe",
   "metadata": {
    "colab": {
     "base_uri": "https://localhost:8080/",
     "height": 269
    },
    "id": "-JPspOkka2Qt",
    "outputId": "04886401-fb2a-4a2a-81ac-bbf186e796a2"
   },
   "outputs": [],
   "source": [
    "fig = plt.figure()\n",
    "ax = fig.add_subplot(1, 1, 1)\n",
    "\n",
    "fig.set(facecolor = 'green')\n",
    "ax.set(facecolor = 'red')\n",
    "\n",
    "plt.show()"
   ]
  },
  {
   "cell_type": "markdown",
   "id": "910d2ce3",
   "metadata": {
    "id": "GlACCAa3b4eo"
   },
   "source": [
    "Все функции, которые мы выше вызывали как функции из модуля `plt`, могут выступать напрямую методами объекта класса `Axis`. Настройки самой области, такие как заголовок или подписи осей, передаются методами с приставкой `set_`: `set_title`, `set_xlabel` и т.д. Строить графики можно с помощью одноимённых методов: `ax.plot()`, `ax.scatter()` и др.\n",
    "\n",
    "Построим так один из графиков выше."
   ]
  },
  {
   "cell_type": "code",
   "execution_count": null,
   "id": "db25eeee",
   "metadata": {
    "id": "H4Mn1u2Jcseh"
   },
   "outputs": [],
   "source": [
    "x = np.arange(7)\n",
    "y1 = np.array([3, 1, 2, 4, 5, 3, 4])\n",
    "y2 = np.array([5, 4, 5, 3, 4, 2, 5])"
   ]
  },
  {
   "cell_type": "code",
   "execution_count": null,
   "id": "83ef32bc",
   "metadata": {
    "colab": {
     "base_uri": "https://localhost:8080/",
     "height": 434
    },
    "id": "4IILs1ejcqDP",
    "outputId": "ba600fe0-390f-44ed-9dfb-69c5214ac476"
   },
   "outputs": [],
   "source": [
    "fig = plt.figure(figsize = (9, 6), dpi=150)\n",
    "ax = fig.add_subplot(1, 1, 1)\n",
    "\n",
    "ax.plot(x, y1, label='Петя')\n",
    "ax.plot(x, y2, label='Вася')\n",
    "\n",
    "ax.set_title('Зависимость количества чашек\\nчая в день от дня недели', fontsize=17)\n",
    "\n",
    "ax.set_xlabel('День недели', fontsize=15)\n",
    "ax.set_ylabel('Количество чашек чая в день', fontsize=15)\n",
    "\n",
    "ax.set_yticks(np.arange(1, 6))\n",
    "\n",
    "ax.legend(title='Люди', title_fontsize=13, fontsize=12, ncol=2, loc='lower right')\n",
    "\n",
    "ax.grid()"
   ]
  },
  {
   "cell_type": "markdown",
   "id": "33bf9de8",
   "metadata": {
    "id": "pCcyq7BcfzRm"
   },
   "source": [
    "Добавлять заголовок можно не только для области `Axis`, но и для всей области `Figure`. Это бывает особенно актуальным для случая, когда рядом располагается несколько графиков. В matplotlib за это отвечает метод `fig.suptitle()`, на вход которому опять же подаётся строка с названием и при необходимости размер шрифта в качестве аргумента `fontsize`."
   ]
  },
  {
   "cell_type": "code",
   "execution_count": null,
   "id": "c02f0067",
   "metadata": {
    "colab": {
     "base_uri": "https://localhost:8080/",
     "height": 421
    },
    "id": "Qs9keVI8giFb",
    "outputId": "aa1f9777-5215-43c8-f2c2-0a36476ffa1a"
   },
   "outputs": [],
   "source": [
    "fig = plt.figure(figsize = (9, 6), dpi=150)\n",
    "fig.suptitle('Заголовок области Figure', fontsize=20)\n",
    "\n",
    "ax = fig.add_subplot(1, 1, 1)\n",
    "ax.set_title('Заголовок области Axis', fontsize=15)\n",
    "ax.set_xticks([])\n",
    "ax.set_yticks([])"
   ]
  },
  {
   "cell_type": "markdown",
   "id": "839d09f1",
   "metadata": {
    "id": "FOG3Ic_kd2Km"
   },
   "source": [
    "На одной и той же области `Figure` можно разместить несколько областей `Axis`. Для этого каждую из них добавляем функцией `add_subplot()`, увеличив количество строк и столбцов. Кстати, области `Axis` могут пересекаться."
   ]
  },
  {
   "cell_type": "code",
   "execution_count": null,
   "id": "77cd4fb3",
   "metadata": {
    "colab": {
     "base_uri": "https://localhost:8080/",
     "height": 527
    },
    "id": "QCq0NxT6eXeK",
    "outputId": "b7445277-8002-4cce-a2be-94ab00f6b0ef"
   },
   "outputs": [],
   "source": [
    "fig = plt.figure(figsize = (10, 8), dpi=150)\n",
    "fig.suptitle('Заголовок области Figure')\n",
    "\n",
    "ax_1 = fig.add_subplot(2, 2, 1)\n",
    "ax_2 = fig.add_subplot(2, 2, 3)\n",
    "ax_3 = fig.add_subplot(3, 3, 5)\n",
    "ax_4 = fig.add_subplot(3, 3, 9)\n",
    "\n",
    "ax_1.set(title = 'ax_1', xticks=[], yticks=[])\n",
    "ax_2.set(title = 'ax_2', xticks=[], yticks=[])\n",
    "ax_3.set(title = 'ax_3', xticks=[], yticks=[])\n",
    "ax_4.set(title = 'ax_4', xticks=[], yticks=[])\n",
    "\n",
    "plt.show()"
   ]
  },
  {
   "cell_type": "markdown",
   "id": "8e48861b",
   "metadata": {
    "id": "vDJe7w70ex5-"
   },
   "source": [
    "### Функция plt.subplots()\n",
    "\n",
    "Но обычно всё же нужно расположить графики на какой-то регулярной сетке. Чтобы не добавлять для каждого область `Axis` отдельно, можно использовать функцию `plt.subplots()`. На вход она принимает количество строк и столбцов в сетке, также с помощью аргумента `figsize` можно задать размер области `Figure`. А возвращает эта функция объект класса `Figure` и массив объектов класса `Axis`, если их несколько, или же один такой объект. Массив будет двумерным, к каждой конкретной области можно будет обратиться просто по индексу."
   ]
  },
  {
   "cell_type": "code",
   "execution_count": null,
   "id": "fa9ae7ba",
   "metadata": {
    "colab": {
     "base_uri": "https://localhost:8080/",
     "height": 485
    },
    "id": "jLVL47b-fssV",
    "outputId": "f5ea2837-a1c0-43f3-895d-7093906ac73d"
   },
   "outputs": [],
   "source": [
    "fig, axes = plt.subplots(2, 2, figsize=(10, 8), dpi=150)\n",
    "\n",
    "axes[0, 0].set(title='axes[0, 0]', xticks=[], yticks=[])\n",
    "axes[0, 1].set(title='axes[0, 1]', xticks=[], yticks=[])\n",
    "axes[1, 0].set(title='axes[1, 0]', xticks=[], yticks=[])\n",
    "axes[1, 1].set(title='axes[1, 1]', xticks=[], yticks=[])\n",
    "\n",
    "plt.show()"
   ]
  },
  {
   "cell_type": "markdown",
   "id": "60623183",
   "metadata": {
    "id": "MDpIXm9NhBxS"
   },
   "source": [
    "Если вдруг у нас для всех графиков в столбце или строке ось х или ось у одинаковые, можно не загромождать изображение их повторением и установить параметры `sharex` или `sharey` равными `True`."
   ]
  },
  {
   "cell_type": "code",
   "execution_count": null,
   "id": "5956e718",
   "metadata": {
    "colab": {
     "base_uri": "https://localhost:8080/",
     "height": 499
    },
    "id": "wFLejq1ag-ue",
    "outputId": "a8d498cb-0f53-4241-8dfe-4d00cb5123fc"
   },
   "outputs": [],
   "source": [
    "fig, axes = plt.subplots(2, 2, figsize=(10, 8), sharex=True, sharey=True)\n",
    "\n",
    "axes[0, 0].set(title='axes[0, 0]')\n",
    "axes[0, 1].set(title='axes[0, 1]')\n",
    "axes[1, 0].set(title='axes[1, 0]')\n",
    "axes[1, 1].set(title='axes[1, 1]')\n",
    "\n",
    "plt.show()"
   ]
  },
  {
   "cell_type": "markdown",
   "id": "a9608f4f",
   "metadata": {
    "id": "pbmV1ws4dUoV"
   },
   "source": [
    "Ещё у объекта `ax` можно вообще отключить отображение осей методом `ax.axis()`, которому в качестве аргумента передали строку `'off'`. Это бывает полезно, когда мы хотим отобразить сетку из изображений."
   ]
  },
  {
   "cell_type": "code",
   "execution_count": null,
   "id": "932a4141",
   "metadata": {},
   "outputs": [],
   "source": [
    "!wget https://cs13.pikabu.ru/avatars/3128/x3128007-1508104989.png -O cat.png -q\n",
    "image = plt.imread('cat.png') \n",
    "\n",
    "print('Было:')\n",
    "fig, axes = plt.subplots(2, 2, figsize=(4, 4))\n",
    "\n",
    "axes[0, 0].imshow(image)\n",
    "axes[0, 1].imshow(image)\n",
    "axes[1, 0].imshow(image)\n",
    "axes[1, 1].imshow(image)\n",
    "\n",
    "plt.show()\n",
    "\n",
    "\n",
    "print('Стало:')\n",
    "fig, axes = plt.subplots(2, 2, figsize=(4, 4))\n",
    "\n",
    "axes[0, 0].imshow(image)\n",
    "axes[0, 0].axis('off')\n",
    "axes[0, 1].imshow(image)\n",
    "axes[0, 1].axis('off')\n",
    "axes[1, 0].imshow(image)\n",
    "axes[1, 0].axis('off')\n",
    "axes[1, 1].imshow(image)\n",
    "axes[1, 1].axis('off')\n",
    "\n",
    "plt.show()"
   ]
  },
  {
   "cell_type": "markdown",
   "id": "c5696415",
   "metadata": {
    "id": "0CsSOutyhlgP"
   },
   "source": [
    "### Функция plt.subplot()\n",
    "\n",
    "Если же нужно расположить рядом небольшое количество графиков и не хочется использовать довольно громоздкие `fig` и `ax`, можно воспользоваться более простой функцией — `plt.subplot()`. Она тоже на вход принимает количество строк и столбцов, но третьим числом передаётся номер области `Axis`, к которой будут относиться все последующие команды. \n",
    "\n",
    "Эта функция тоже поддерживает нерегулярную сетку, но вот наложения областей `Axis` с помощью неё получить не удастся."
   ]
  },
  {
   "cell_type": "code",
   "execution_count": null,
   "id": "60f7cb1b",
   "metadata": {
    "colab": {
     "base_uri": "https://localhost:8080/",
     "height": 499
    },
    "id": "l0DQccidiJdq",
    "outputId": "787a8f88-b79e-433b-8f60-219ffa6925b7"
   },
   "outputs": [],
   "source": [
    "plt.figure(figsize=(10, 8))\n",
    "\n",
    "plt.subplot(2, 2, 1)\n",
    "plt.title('аналог axes[0, 0]')\n",
    "\n",
    "plt.subplot(2, 2, 4)\n",
    "plt.title('аналог axes[1, 1]')\n",
    "\n",
    "plt.subplot(2, 3, 4)\n",
    "plt.title('аналог axes[1, 0]')\n",
    "\n",
    "plt.subplot(3, 2, 2)\n",
    "plt.title('аналог axes[0, 1]')\n",
    "\n",
    "plt.show()"
   ]
  },
  {
   "cell_type": "markdown",
   "id": "72e2060c",
   "metadata": {
    "id": "ldkKKxoi9rXl"
   },
   "source": [
    "## Кратко про более сложные виды графиков\n",
    "\n",
    "С этого блока начнём знакомиться со второй анонсированной библиотекой для визуализации — seaborn (сокращают как sns). Она написана поверх matplotlib, но предлагает более высокоуровневый интерфейс. Благодаря этому можно быстрее строить самые распространённые графики. Также seaborn располагает большим количеством методов для визуализации статистических данных, некоторые из них мы разберём ниже."
   ]
  },
  {
   "cell_type": "markdown",
   "id": "f011c9de",
   "metadata": {
    "id": "6tl43d-9A4Dc"
   },
   "source": [
    "### Некоторые возможности метода relplot\n",
    "\n",
    "Первый метод из этой библиотеки, который мы разберём, — это `sns.relplot()`, включающий в себя множество очень разных графиков."
   ]
  },
  {
   "cell_type": "markdown",
   "id": "b0531c03",
   "metadata": {
    "id": "EcVhdUngilWE"
   },
   "source": [
    "Сначала загрузим набор данных через `sns.load_dataset()`, для примера будем использовать датасет `tips`, содержащий следующую информацию:\n",
    "- `total_bill` — общий счет, т.е. стоимость заказанной еды в долларах США (с учетом налогов);\n",
    "- `tip` — размер чаевых в долларах США;\n",
    "- `sex` — пол человека, который оплачивает счет;\n",
    "- `smoker` — наличие курильщика среди участников одного заказа;\n",
    "- `day` — день недели;\n",
    "- `time` — время суток (lunch - первая половина дня, dinner - вторая половина дня);\n",
    "- `size` — количество людей в группе, выполнившей один заказ."
   ]
  },
  {
   "cell_type": "code",
   "execution_count": null,
   "id": "6ced8b63",
   "metadata": {
    "colab": {
     "base_uri": "https://localhost:8080/",
     "height": 206
    },
    "id": "vzv5f0wn9ylE",
    "outputId": "9c18505b-22cb-42b4-df93-a953c63891ea"
   },
   "outputs": [],
   "source": [
    "tips = sns.load_dataset('tips')\n",
    "tips.head()"
   ]
  },
  {
   "cell_type": "markdown",
   "id": "8c4eb849",
   "metadata": {
    "id": "yVM4XWX8kDv-"
   },
   "source": [
    "В самой простой вариации `sns.relplot()` изображает график разброса точек в некоторой плоскости, признаки, соответствующие осям, указываются в аргументах `x` и `y`, параметр `data` указывает из какого набора данных брать значения."
   ]
  },
  {
   "cell_type": "code",
   "execution_count": null,
   "id": "16f95754",
   "metadata": {
    "colab": {
     "base_uri": "https://localhost:8080/",
     "height": 370
    },
    "id": "SwSOvSdU99NL",
    "outputId": "65057ac8-3c0f-4b70-ad56-6c633fbd190b"
   },
   "outputs": [],
   "source": [
    "sns.relplot(x='total_bill', \n",
    "            y='tip', \n",
    "            data=tips);"
   ]
  },
  {
   "cell_type": "markdown",
   "id": "fd1483fc",
   "metadata": {
    "id": "GrQ3B4jTkhdz"
   },
   "source": [
    "Цвет по умолчанию один и тот же для всех точек, но с помощью параметра `hue` можно указать признак, по которому для разных категорий будет использоваться разный цвет. Этот признак может быть как категориальным, так и числовым. Легенда по этому параметру создаётся автоматически, но может понадобиться аргумент `legend` указать равным `'full'`, чтобы в неё включались все значения числового признака.\n",
    "\n",
    "Также с помощью `sns.relplot()` можно построить сразу несколько графиков. Для этого нужно указать в аргументе `col` или `row` признак, по которому нужно разделить данные и построить графики в разных колонках или строках соответственно."
   ]
  },
  {
   "cell_type": "code",
   "execution_count": null,
   "id": "1c697f95",
   "metadata": {
    "colab": {
     "base_uri": "https://localhost:8080/",
     "height": 730
    },
    "id": "FnT7Cy8P_sbo",
    "outputId": "b1647733-9f29-4506-f4cd-e04991507e51"
   },
   "outputs": [],
   "source": [
    "sns.relplot(x='total_bill',\n",
    "            y='tip',\n",
    "            hue='time',\n",
    "            col='smoker',\n",
    "            row='sex',\n",
    "            data=tips);"
   ]
  },
  {
   "cell_type": "markdown",
   "id": "0964ba1d",
   "metadata": {
    "id": "D3VIR3ifmJH1"
   },
   "source": [
    "Другой тип графика, который можно построить с помощью `sns.relplot()`, — это линейный график. Чтобы его разобрать подробнее, загрузим набор данных `fmri` с результатами МРТ. "
   ]
  },
  {
   "cell_type": "code",
   "execution_count": null,
   "id": "076d5da6",
   "metadata": {
    "colab": {
     "base_uri": "https://localhost:8080/",
     "height": 206
    },
    "id": "kIX2MJzV_-Ko",
    "outputId": "969c00dd-c9b2-4d21-99eb-dc0e49e16968"
   },
   "outputs": [],
   "source": [
    "fmri = sns.load_dataset('fmri')\n",
    "fmri.head()"
   ]
  },
  {
   "cell_type": "markdown",
   "id": "082f47b7",
   "metadata": {
    "id": "IWAfKED80wMg"
   },
   "source": [
    "Сначала посмотрим на данные в формате графика разброса точек. "
   ]
  },
  {
   "cell_type": "code",
   "execution_count": null,
   "id": "67a526e2",
   "metadata": {
    "colab": {
     "base_uri": "https://localhost:8080/",
     "height": 369
    },
    "id": "2DIufacE_-4c",
    "outputId": "bd910dfe-63f6-4388-f880-e92ec0553d92"
   },
   "outputs": [],
   "source": [
    "sns.relplot(x='timepoint',\n",
    "            y='signal',\n",
    "            data=fmri);"
   ]
  },
  {
   "cell_type": "markdown",
   "id": "ea24a6dc",
   "metadata": {
    "id": "UE9Acmc-1QgC"
   },
   "source": [
    "Как мы видим, одним и тем же значениям из столбца `timepoint` соответствуют разные значения столбца `signal`. Можно воспринимать это как последовательность случайных величин и построить их статистическое распределение. Для этого линейный график в функции `sns.relplot()` отсортирует данные по точкам на оси х, найдёт среднее значение для каждой группы измерений и его 95%-й доверительный интервал. Чтобы указать, что мы хотим построить именно линейный график, нужно установить параметр `kind` равным `'line'`."
   ]
  },
  {
   "cell_type": "code",
   "execution_count": null,
   "id": "8584fd7a",
   "metadata": {
    "colab": {
     "base_uri": "https://localhost:8080/",
     "height": 369
    },
    "id": "G2IvVGSiAKJ8",
    "outputId": "f39e9caa-dfb2-4464-8580-7097f72d4e9c"
   },
   "outputs": [],
   "source": [
    "sns.relplot(x='timepoint',\n",
    "            y='signal',\n",
    "            kind='line',\n",
    "            data=fmri);"
   ]
  },
  {
   "cell_type": "markdown",
   "id": "e20fde5e",
   "metadata": {
    "id": "i5jdJiWu2nfN"
   },
   "source": [
    "У такого линейного графика есть аргумент, позволяющий регулировать доверительный интервал. Это параметр `ci` и по умолчанию он равен 95, но можно установить его равным любому другому числу. "
   ]
  },
  {
   "cell_type": "code",
   "execution_count": null,
   "id": "0b236354",
   "metadata": {
    "colab": {
     "base_uri": "https://localhost:8080/",
     "height": 369
    },
    "id": "_4h1OaFnAgVu",
    "outputId": "cce5882e-c49b-49a1-800b-318cfe8b206e"
   },
   "outputs": [],
   "source": [
    "sns.relplot(x='timepoint',\n",
    "            y='signal',\n",
    "            ci=80,\n",
    "            kind='line',\n",
    "            data=fmri);"
   ]
  },
  {
   "cell_type": "markdown",
   "id": "6ec2fb96",
   "metadata": {
    "id": "Y7dsXz3o23bq"
   },
   "source": [
    "Также построение доверительного интервала можно отключить совсем, что соответствует значению `None` для аргумента `ci`."
   ]
  },
  {
   "cell_type": "code",
   "execution_count": null,
   "id": "8b207dec",
   "metadata": {
    "colab": {
     "base_uri": "https://localhost:8080/",
     "height": 369
    },
    "id": "XXm7Gw4AAzOA",
    "outputId": "3da630b9-8611-41e0-d661-1f0b4d412c97"
   },
   "outputs": [],
   "source": [
    "sns.relplot(x='timepoint',\n",
    "            y='signal',\n",
    "            ci=None,\n",
    "            kind='line',\n",
    "            data=fmri);"
   ]
  },
  {
   "cell_type": "markdown",
   "id": "8a85d3a2",
   "metadata": {
    "id": "q8BW6lhL2_it"
   },
   "source": [
    "Кроме того, вместо доверительного интервала можно указать на графике стандартное отклонение, установив параметр `ci` равным `'sd'`."
   ]
  },
  {
   "cell_type": "code",
   "execution_count": null,
   "id": "f03d6ade",
   "metadata": {
    "colab": {
     "base_uri": "https://localhost:8080/",
     "height": 369
    },
    "id": "YGcHCV_wA0h-",
    "outputId": "8501ee17-bc29-415a-83c4-bce4504ba720"
   },
   "outputs": [],
   "source": [
    "sns.relplot(x='timepoint',\n",
    "            y='signal',\n",
    "            ci='sd',\n",
    "            kind='line',\n",
    "            data=fmri);"
   ]
  },
  {
   "cell_type": "markdown",
   "id": "424cabe9",
   "metadata": {
    "id": "qz_wZnuM3XnG"
   },
   "source": [
    "Аргументы `hue`, `row` и `col` здесь работают точно так же, как и для графика разброса точек. "
   ]
  },
  {
   "cell_type": "code",
   "execution_count": null,
   "id": "d9efb27c",
   "metadata": {
    "colab": {
     "base_uri": "https://localhost:8080/",
     "height": 369
    },
    "id": "9mOUPahv3iaj",
    "outputId": "48de93e7-bcb9-4ee9-fc96-46c8746b9821"
   },
   "outputs": [],
   "source": [
    "sns.relplot(x='timepoint',\n",
    "            y='signal',\n",
    "            kind='line',\n",
    "            hue='region',\n",
    "            col='event',\n",
    "            data=fmri);"
   ]
  },
  {
   "cell_type": "markdown",
   "id": "57114cc8",
   "metadata": {
    "id": "-bWC-Zs94UF2"
   },
   "source": [
    "Что касается размера графиков, как видно выше, метод его подбирает самостоятельно. Но при желании можно его поменять при помощи аргумента `height`, задающего высоту графика, и параметра `aspect`, указывающего соотношение сторон."
   ]
  },
  {
   "cell_type": "code",
   "execution_count": null,
   "id": "9ca09673",
   "metadata": {
    "colab": {
     "base_uri": "https://localhost:8080/",
     "height": 562
    },
    "id": "G-yzbzZ_4Ari",
    "outputId": "4581baa4-aaff-454f-980f-6cf716466310"
   },
   "outputs": [],
   "source": [
    "sns.relplot(x='timepoint',\n",
    "            y='signal',\n",
    "            kind='line',\n",
    "            hue='region',\n",
    "            height=8,\n",
    "            aspect=1.5,\n",
    "            data=fmri);"
   ]
  },
  {
   "cell_type": "markdown",
   "id": "168f56de",
   "metadata": {
    "id": "_-11Gv4dA62I"
   },
   "source": [
    "### Heatmap"
   ]
  },
  {
   "cell_type": "markdown",
   "id": "ea1bc4da",
   "metadata": {
    "id": "MA0fi_hY466p"
   },
   "source": [
    "Heatmap -- это удобный способом визуализировать матрицу. Здесь по осям располагаются строки и столбцы матрицы, а значениям элементов соответствует цвет. Сами значения можно как писать поверх, так и не указывать вообще, если числовая точность не так важна.\n",
    "\n",
    "Вернёмся к набору данных `tips`, но приведём его в виду двумерной матрицы в координатах дня и размера группы. Так мы смотрим зависимость чаевых только от этих двух параметров."
   ]
  },
  {
   "cell_type": "code",
   "execution_count": null,
   "id": "5ff2977e",
   "metadata": {
    "colab": {
     "base_uri": "https://localhost:8080/",
     "height": 206
    },
    "id": "qnM2pFOTbMXL",
    "outputId": "ebadae6e-15c6-40e2-fe56-17e1f6cb63a8"
   },
   "outputs": [],
   "source": [
    "ds = pd.pivot_table(data=tips, index='day', columns='size', values='tip')\n",
    "ds"
   ]
  },
  {
   "cell_type": "markdown",
   "id": "e89fb05a",
   "metadata": {
    "id": "xEGby4g75h4b"
   },
   "source": [
    "Для некоторых пар значение чаевых равняется `NaN` из-за отсутствия данных, но визуализации это не помешает. \n",
    "\n",
    "Воспользуемся функцией `sns.heatmap()`, первым аргументом подаётся матрица значений. Основную часть параметров `sns` снова подберёт сам, но здесь можно подать в качестве аргумента `ax` объект типа `Axis`, на котором мы хотим построить нужный график."
   ]
  },
  {
   "cell_type": "code",
   "execution_count": null,
   "id": "a97351fc",
   "metadata": {
    "colab": {
     "base_uri": "https://localhost:8080/",
     "height": 388
    },
    "id": "u_B-V4DbXJcs",
    "outputId": "e3c060d5-bc9b-4b2d-8019-fb035cab6261"
   },
   "outputs": [],
   "source": [
    "fig, ax = plt.subplots(figsize=(10, 6))\n",
    "ax = sns.heatmap(ds, ax=ax);"
   ]
  },
  {
   "cell_type": "markdown",
   "id": "ec01d097",
   "metadata": {
    "id": "B9Unpkyo6DYJ"
   },
   "source": [
    "Как видим, ячейкам со значением `NaN` соответствуют белые клетки. Остальные окрашены в соответствии со значениями, а перевод из цвета в числовой промежуток указан на шкале справа. \n",
    "\n",
    "Также с помощью `ax` можно добавлять заголовок или менять подписи осей, как мы уже делали ранее. А значения для делений осей можно передавать напрямую в `sns.heatmap()` через аргументы `xticklabels` и `yticklabels` соответственно. Поворот для них метод подберёт так, чтобы они помещались, самостоятельно."
   ]
  },
  {
   "cell_type": "code",
   "execution_count": null,
   "id": "9cdb6e0f",
   "metadata": {
    "colab": {
     "base_uri": "https://localhost:8080/",
     "height": 426
    },
    "id": "v-HrFQ1p62xT",
    "outputId": "db494bbd-5179-454b-9e70-9a7cfc93ba4b"
   },
   "outputs": [],
   "source": [
    "fig, ax = plt.subplots(figsize=(10, 6))\n",
    "ax = sns.heatmap(ds, \n",
    "                 ax=ax, \n",
    "                 yticklabels=['Четверг', 'Пятница', 'Суббота', 'Воскресенье'])\n",
    "\n",
    "ax.set_title('Значение tip в зависимости от дня недели и размера группы\\n', fontsize=15)\n",
    "ax.set_xlabel('День недели', fontsize=12)\n",
    "ax.set_ylabel('Размер группы', fontsize=12)"
   ]
  },
  {
   "cell_type": "markdown",
   "id": "5e1b7b4a",
   "metadata": {
    "id": "9Ngxpe5j8HiO"
   },
   "source": [
    "Но, пожалуй, в анализе `sns.heatmap` чаще всего используют для визуализации матрицы коррелиций между признаками. Чтобы показать, как это работает, сгенерируем некоторые случайные данные."
   ]
  },
  {
   "cell_type": "code",
   "execution_count": null,
   "id": "70b8bced",
   "metadata": {
    "id": "kkrlCflnc131"
   },
   "outputs": [],
   "source": [
    "t = np.linspace(0, 5, 200)* np.ones((7, 200)) + np.random.randn(7, 200).cumsum(axis=1)\n",
    "a = np.array([0.5, 1, 2.1, -1.3, -0.1, 1.9, -2.9]).reshape(-1, 1)\n",
    "b = np.array([-3, -4, -10, 4, 1, -5, 6]).reshape(-1, 1)\n",
    "\n",
    "df = pd.DataFrame((a*t + b).T, columns=list('ABCDEFG'))"
   ]
  },
  {
   "cell_type": "markdown",
   "id": "c6a8c9ec",
   "metadata": {
    "id": "TsLCEPVq8fci"
   },
   "source": [
    "Посмотрим на них в формате линейного графика и попробуем предположить, какие из признаков сильно коррелируют друг с другом. "
   ]
  },
  {
   "cell_type": "code",
   "execution_count": null,
   "id": "6b6ea222",
   "metadata": {
    "colab": {
     "base_uri": "https://localhost:8080/",
     "height": 555
    },
    "id": "iaxr_IdbdIBl",
    "outputId": "5ed09dcd-2f3b-4b2e-b405-db1d93906807"
   },
   "outputs": [],
   "source": [
    "plt.figure(figsize=(11, 9))\n",
    "plt.plot(df.values)\n",
    "plt.legend(labels=df.columns, title='Признаки', title_fontsize=13, fontsize=12)\n",
    "plt.title('Случайные данные с некоторой корреляцией между признаками', fontsize=15)\n",
    "\n",
    "plt.show()"
   ]
  },
  {
   "cell_type": "markdown",
   "id": "efb44ab0",
   "metadata": {
    "id": "oUMPrac19AJo"
   },
   "source": [
    "Можно предположить, например, что признаки `F` и `C` довольно сильно коррелируют, но точно определить это на глаз довольно сложно, как и заметить менее наглядные корреляции. Поэтому построим тепловую карту для корреляционной матрицы."
   ]
  },
  {
   "cell_type": "code",
   "execution_count": null,
   "id": "720502dd",
   "metadata": {
    "colab": {
     "base_uri": "https://localhost:8080/",
     "height": 392
    },
    "id": "h00fUmIvfSQB",
    "outputId": "54979f8b-93f5-4597-86f7-d733e1f746d8"
   },
   "outputs": [],
   "source": [
    "fig, ax = plt.subplots(figsize=(10, 6))\n",
    "ax = sns.heatmap(data=df.corr(), ax=ax)\n",
    "ax.set_title('Корреляционная матрица', fontsize=15);"
   ]
  },
  {
   "cell_type": "markdown",
   "id": "713e1a89",
   "metadata": {
    "id": "E2I3H0Mp9Vc9"
   },
   "source": [
    "Теперь по цвету можно сказать, что признак `B` довольно сильно коррелирует с `C` и `F`, но опять  же на глаз определить с каким из них сильнее довольно сложно. Именно поэтому `sns.heatmap()` может указывать значения из матрицы. Для этого нужно указать аргумент `annot` равным `True`."
   ]
  },
  {
   "cell_type": "code",
   "execution_count": null,
   "id": "960c3f22",
   "metadata": {
    "colab": {
     "base_uri": "https://localhost:8080/",
     "height": 392
    },
    "id": "9_0PECsSgjKV",
    "outputId": "72317c95-8713-4ba2-89db-282ec0c6abeb"
   },
   "outputs": [],
   "source": [
    "fig, ax = plt.subplots(figsize=(10, 6))\n",
    "ax = sns.heatmap(data=df.corr(), ax=ax, annot=True)\n",
    "ax.set_title('Корреляционная матрица с указанием значений', fontsize=15);"
   ]
  },
  {
   "cell_type": "markdown",
   "id": "11603189",
   "metadata": {
    "id": "bKYa2qfB97jA"
   },
   "source": [
    "Теперь мы уже точно можем выделить наиболее или наименее скоррелированные признаки и на основе этого продолжить предварительный анализ имеющихся данных."
   ]
  },
  {
   "cell_type": "markdown",
   "id": "792c8309",
   "metadata": {
    "id": "O6JyEKsIA-12"
   },
   "source": [
    "### Гистограммы: histplot и displot\n",
    "\n",
    "Для построения гистограмм есть функция `plt.hist()` и более высокоуровневый вариант `sns.histplot`. Разберём сразу второй, поскольку он содержит большинство аргументов первого, но обладает большей гибкостью.\n",
    "\n",
    "Загрузим из библиотеки seaborn набор данных `penquins` для наглядности примеров. "
   ]
  },
  {
   "cell_type": "code",
   "execution_count": null,
   "id": "a7ff6cd2",
   "metadata": {
    "id": "TXaIVkH_AIVP"
   },
   "outputs": [],
   "source": [
    "penguins = sns.load_dataset('penguins')"
   ]
  },
  {
   "cell_type": "code",
   "execution_count": null,
   "id": "82f4327e",
   "metadata": {
    "colab": {
     "base_uri": "https://localhost:8080/",
     "height": 280
    },
    "id": "S4Nku-1DAxBz",
    "outputId": "1fcc6568-c0a4-4a2f-e4a2-2d4acacf7ff2"
   },
   "outputs": [],
   "source": [
    "sns.histplot(penguins.flipper_length_mm);"
   ]
  },
  {
   "cell_type": "markdown",
   "id": "20d1a03c",
   "metadata": {
    "id": "cfDbmribA--P"
   },
   "source": [
    "Чтобы гистограмма была более подробной, нужно увеличить значение аргумента `bins`, по умолчанию метод его подбирает сам.\n",
    "\n",
    "Также в `sns.histplot()` тоже можно подавать объект класса `Axis`. Кроме того, при желании можно менять цвет столбцов (параметр `color`) и их границ (параметр `endgecolor`)."
   ]
  },
  {
   "cell_type": "code",
   "execution_count": null,
   "id": "ba96f73d",
   "metadata": {
    "colab": {
     "base_uri": "https://localhost:8080/",
     "height": 407
    },
    "id": "9Yr3_9C2A-bq",
    "outputId": "cee0be4e-2b5f-4735-cc15-be40d7518694"
   },
   "outputs": [],
   "source": [
    "fig, ax = plt.subplots(figsize=(9, 6))\n",
    "ax.set_title('Распределение длины крыльев пингвинов (мм)', fontsize=15)\n",
    "sns.histplot(penguins.flipper_length_mm,\n",
    "             bins=30,\n",
    "             ax=ax, \n",
    "             color='green',\n",
    "             edgecolor='darkgreen');"
   ]
  },
  {
   "cell_type": "markdown",
   "id": "567330d7",
   "metadata": {
    "id": "qFgWDUpsF7yp"
   },
   "source": [
    "Если хочется, можно построить горизонтальную гистограмму. Для этого методу нужно уточнить, что мы подаём массив `y`, а не `x`, как он считает по умолчанию."
   ]
  },
  {
   "cell_type": "code",
   "execution_count": null,
   "id": "ce60b57f",
   "metadata": {
    "colab": {
     "base_uri": "https://localhost:8080/",
     "height": 460
    },
    "id": "2f43RrP3GCzi",
    "outputId": "d6d9e6ef-c7ea-4363-f8cd-27349ee51a8e"
   },
   "outputs": [],
   "source": [
    "fig, ax = plt.subplots(figsize=(9, 7))\n",
    "ax.set_title('Распределение длины крыльев пингвинов (мм)', fontsize=15)\n",
    "sns.histplot(y=penguins.flipper_length_mm,\n",
    "             bins=30,\n",
    "             ax=ax, \n",
    "             color='green',\n",
    "             edgecolor='darkgreen');"
   ]
  },
  {
   "cell_type": "markdown",
   "id": "76915127",
   "metadata": {
    "id": "H8iTnC9LDha_"
   },
   "source": [
    "У этого метода, так же как и у `sns.relplot()`, есть возможность посторить разные гистограммы для разных значений другого признака на одном и том же графике. Для этого вместо одного массива `penguins.flipper_length_mm` нужно подать весь набор данных в поле `data`, указать в параметре `x` распределение какого столбца мы хотим построить, а в параметре `hue` — по какому признаку хотим разделить данные на разные гистограммы."
   ]
  },
  {
   "cell_type": "code",
   "execution_count": null,
   "id": "3d543a2f",
   "metadata": {
    "colab": {
     "base_uri": "https://localhost:8080/",
     "height": 424
    },
    "id": "lJW5GAPADIts",
    "outputId": "f5ef1c25-1d97-4f6e-e89e-7a420cc3e7e6"
   },
   "outputs": [],
   "source": [
    "fig, ax = plt.subplots(figsize=(9, 6))\n",
    "ax.set_title('Распределение длины крыльев пингвинов (мм)\\nв зависимости от вида', fontsize=15)\n",
    "sns.histplot(data=penguins,\n",
    "             x='flipper_length_mm',\n",
    "             hue='species',\n",
    "             bins=30,\n",
    "             ax=ax);"
   ]
  },
  {
   "cell_type": "markdown",
   "id": "8eb3e332",
   "metadata": {
    "id": "FGBoN1k5E4Lz"
   },
   "source": [
    "Кроме самой гистограммы, можно построить также график функции плотности для каждого из распределений. Для этого нужно установить значение `True` в параметре `kde`."
   ]
  },
  {
   "cell_type": "code",
   "execution_count": null,
   "id": "936362e5",
   "metadata": {
    "colab": {
     "base_uri": "https://localhost:8080/",
     "height": 407
    },
    "id": "l5B9gx1IFMNV",
    "outputId": "e9103ddb-ceea-4757-ce8d-3c3aedddccdb"
   },
   "outputs": [],
   "source": [
    "fig, ax = plt.subplots(figsize=(9, 6))\n",
    "ax.set_title('Распределение и функция плотности', fontsize=15)\n",
    "sns.histplot(data=penguins,\n",
    "             x='flipper_length_mm',\n",
    "             hue='species',\n",
    "             kde=True,\n",
    "             bins=30,\n",
    "             ax=ax);"
   ]
  },
  {
   "cell_type": "markdown",
   "id": "09b0b86d",
   "metadata": {
    "id": "IIPr04qlGbHK"
   },
   "source": [
    "Во многом аналогом `sns.histplot()` является `sns.displot()`, например, график выше можно было бы построить так:"
   ]
  },
  {
   "cell_type": "code",
   "execution_count": null,
   "id": "d86dddc7",
   "metadata": {
    "colab": {
     "base_uri": "https://localhost:8080/",
     "height": 441
    },
    "id": "rrIcQR55GmYS",
    "outputId": "e16dffd4-cb06-4450-cf70-8ebecd189c00"
   },
   "outputs": [],
   "source": [
    "sns.displot(data=penguins,\n",
    "            x='flipper_length_mm',\n",
    "            hue='species',\n",
    "            kde=True,\n",
    "            bins=30,\n",
    "            height=6,\n",
    "            aspect=1.5);"
   ]
  },
  {
   "cell_type": "markdown",
   "id": "640c0d3e",
   "metadata": {
    "id": "TXTv98IVHAL0"
   },
   "source": [
    "Как видно, `sns.displot()` уже не имеет аргумента `ax`, но размер можно регулировать по-другому, как и в случае с `sns.relplot()`. В чём же плюс этого метода? \n",
    "\n",
    "Например, он может построить только функцию плотности. Укажем для этого значение параметра `kind` как `'kde'`."
   ]
  },
  {
   "cell_type": "code",
   "execution_count": null,
   "id": "4ea3d616",
   "metadata": {
    "colab": {
     "base_uri": "https://localhost:8080/",
     "height": 441
    },
    "id": "l_9tqODzHZQn",
    "outputId": "218515f9-be74-4a20-c9ec-b9fc53d7d02a"
   },
   "outputs": [],
   "source": [
    "sns.displot(data=penguins,\n",
    "            x='flipper_length_mm',\n",
    "            hue='species',\n",
    "            kind='kde',\n",
    "            height=6,\n",
    "            aspect=1.5);"
   ]
  },
  {
   "cell_type": "markdown",
   "id": "4f1ef8b8",
   "metadata": {
    "id": "bqnp_8U5FWpw"
   },
   "source": [
    "Более того, можно построить и эмпирически найденную функцию распределения, в этом случае аргумент `kind` должен быть равен строке `'ecdf'`."
   ]
  },
  {
   "cell_type": "code",
   "execution_count": null,
   "id": "2dd6128c",
   "metadata": {
    "colab": {
     "base_uri": "https://localhost:8080/",
     "height": 441
    },
    "id": "Rh7WaExlH8gQ",
    "outputId": "a12a69ce-9c2b-4392-fc3a-021642d074fb"
   },
   "outputs": [],
   "source": [
    "sns.displot(data=penguins,\n",
    "            x='flipper_length_mm',\n",
    "            hue='species',\n",
    "            kind='ecdf',\n",
    "            height=6,\n",
    "            aspect=1.5);"
   ]
  },
  {
   "cell_type": "markdown",
   "id": "36dfaf74",
   "metadata": {
    "id": "X9-ADd15H__S"
   },
   "source": [
    "Если мы хотим разнести графики функций распределения для самцов и самок на разные графики, можно это сделать с помощью параметра `col` для столбцов (аналогично `row` для разных строк), как и в случае метода `sns.relplot()`."
   ]
  },
  {
   "cell_type": "code",
   "execution_count": null,
   "id": "b22697ae",
   "metadata": {
    "colab": {
     "base_uri": "https://localhost:8080/",
     "height": 369
    },
    "id": "hHMZ58zNIRk1",
    "outputId": "ded6b7e5-0cb5-4ca6-f599-b61722e5d2b2"
   },
   "outputs": [],
   "source": [
    "sns.displot(data=penguins,\n",
    "            x='flipper_length_mm',\n",
    "            hue='species',\n",
    "            col='sex',\n",
    "            kind='ecdf');"
   ]
  },
  {
   "cell_type": "markdown",
   "id": "7da87d6a",
   "metadata": {
    "id": "T2tUqBRcJG2j"
   },
   "source": [
    "### Попарные графики и метод pairplot\n",
    "\n",
    "Последним из методов библиотеки seaborn, который мы тут рассмотрим, будет `sns.pairplot()`. Он попарно строит графики разброса точек для всех числовых признаков, а на диагонали для каждого из них строит гистограмму его распределения."
   ]
  },
  {
   "cell_type": "code",
   "execution_count": null,
   "id": "ac2fd694",
   "metadata": {
    "colab": {
     "base_uri": "https://localhost:8080/",
     "height": 0
    },
    "id": "YinIWGsDJjXM",
    "outputId": "6c87a82d-e24f-478f-f147-c34c61d24b75"
   },
   "outputs": [],
   "source": [
    "sns.pairplot(penguins);"
   ]
  },
  {
   "cell_type": "markdown",
   "id": "45c8ac13",
   "metadata": {
    "id": "OQIbzlxgKELr"
   },
   "source": [
    "Здесь тоже можно разделить данные по категориальному признаку, например, по видам, как мы делали выше. В этом случае на диагонали по умолчанию будет не гистограмма, а функция плотности с заливкой."
   ]
  },
  {
   "cell_type": "code",
   "execution_count": null,
   "id": "e64fd8a9",
   "metadata": {
    "colab": {
     "base_uri": "https://localhost:8080/",
     "height": 0
    },
    "id": "uc1RH2McKOHR",
    "outputId": "e8a39b13-b7fe-41f9-b60a-6a2f43250b13"
   },
   "outputs": [],
   "source": [
    "sns.pairplot(penguins, \n",
    "             hue='species');"
   ]
  },
  {
   "cell_type": "markdown",
   "id": "d2dd3b75",
   "metadata": {},
   "source": [
    "## Еще немного полезных советов"
   ]
  },
  {
   "cell_type": "markdown",
   "id": "c5647aa9",
   "metadata": {},
   "source": [
    "Кроме вышеописанных методов для построения графиков у библиотеки seaborn есть замечательный метод set(), который позволяет по умолчанию выставить сетку и цветовую гамму. Эта функция являвляется стандартом и мы советуем всегда добавлять ее в свои ноутбуки.\n",
    "\n",
    "Также есть волшебная строчка `%config InlineBackend.figure_format = 'retina'`, которая позволит сделать графики более четкими.\n",
    "\n",
    "Несмотря на то, что каждый график индивидуален (один лучше выглядит с большим размером полотна и шрифта, другой с меньшими), бывает удобно сразу изменить значения по умолчанию у matplotlib. Сделать это можно с помощью методов семейства plt.rcParams\n",
    "\n",
    "Теперь можете вставить код ниже сразу после импортов и посмотреть как изменятся построенные нами графики."
   ]
  },
  {
   "cell_type": "code",
   "execution_count": null,
   "id": "c32e8022",
   "metadata": {
    "id": "T3m4o_7-0r8S"
   },
   "outputs": [],
   "source": [
    "%config InlineBackend.figure_format = 'retina'\n",
    "\n",
    "# sns.set(style='whitegrid', palette='deep')\n",
    "# sns.set(style='darkgrid', palette='rocket')\n",
    "sns.set(style='darkgrid', palette='deep')\n",
    "\n",
    "plt.rcParams['figure.figsize'] = 8, 5\n",
    "plt.rcParams['font.size'] = 12\n",
    "plt.rcParams['savefig.format'] = 'pdf'"
   ]
  },
  {
   "cell_type": "markdown",
   "id": "H7Nmv0hL-7Bb",
   "metadata": {
    "id": "H7Nmv0hL-7Bb"
   },
   "source": [
    "## Фильтрация Pandas DataFrame по логическому условию"
   ]
  },
  {
   "cell_type": "code",
   "execution_count": 176,
   "id": "ARdyk0XjpZtz",
   "metadata": {
    "colab": {
     "base_uri": "https://localhost:8080/"
    },
    "id": "ARdyk0XjpZtz",
    "outputId": "b49b3b14-ea82-43a6-f461-9f5095e98b86"
   },
   "outputs": [
    {
     "name": "stderr",
     "output_type": "stream",
     "text": [
      "\"wget\" ­Ґ пў«пҐвбп ў­гваҐ­­Ґ© Ё«Ё ў­Ґи­Ґ©\n",
      "Є®¬ ­¤®©, ЁбЇ®«­пҐ¬®© Їа®Ја ¬¬®© Ё«Ё Ї ЄҐв­л¬ д ©«®¬.\n"
     ]
    }
   ],
   "source": [
    "!wget -O \"demodata.csv\" \"https://drive.google.com/uc?id=1q7uSBWVzmanMtdtnBUOjJm8BXwBgAb0p&export=download\""
   ]
  },
  {
   "cell_type": "code",
   "execution_count": 177,
   "id": "fQXh-6kR-7BX",
   "metadata": {
    "id": "fQXh-6kR-7BX"
   },
   "outputs": [],
   "source": [
    "import pandas as pd\n",
    "data = pd.read_csv(\"demodata.csv\")"
   ]
  },
  {
   "cell_type": "code",
   "execution_count": 191,
   "id": "ezybSD9w-7Bb",
   "metadata": {
    "colab": {
     "base_uri": "https://localhost:8080/",
     "height": 175
    },
    "id": "ezybSD9w-7Bb",
    "outputId": "62d57e32-7ced-46b7-9715-4ceba10dc807"
   },
   "outputs": [
    {
     "data": {
      "text/html": [
       "<div>\n",
       "<style scoped>\n",
       "    .dataframe tbody tr th:only-of-type {\n",
       "        vertical-align: middle;\n",
       "    }\n",
       "\n",
       "    .dataframe tbody tr th {\n",
       "        vertical-align: top;\n",
       "    }\n",
       "\n",
       "    .dataframe thead th {\n",
       "        text-align: right;\n",
       "    }\n",
       "</style>\n",
       "<table border=\"1\" class=\"dataframe\">\n",
       "  <thead>\n",
       "    <tr style=\"text-align: right;\">\n",
       "      <th></th>\n",
       "      <th>clientid</th>\n",
       "      <th>date</th>\n",
       "      <th>weekdays</th>\n",
       "      <th>gains</th>\n",
       "      <th>prices</th>\n",
       "      <th>up</th>\n",
       "    </tr>\n",
       "  </thead>\n",
       "  <tbody>\n",
       "    <tr>\n",
       "      <th>1</th>\n",
       "      <td>1</td>\n",
       "      <td>2008-05-01</td>\n",
       "      <td>Thu</td>\n",
       "      <td>0.076192</td>\n",
       "      <td>3.167181e+06</td>\n",
       "      <td>True</td>\n",
       "    </tr>\n",
       "    <tr>\n",
       "      <th>4</th>\n",
       "      <td>4</td>\n",
       "      <td>2008-05-04</td>\n",
       "      <td>Sun</td>\n",
       "      <td>0.253255</td>\n",
       "      <td>9.371634e+05</td>\n",
       "      <td>True</td>\n",
       "    </tr>\n",
       "    <tr>\n",
       "      <th>6</th>\n",
       "      <td>6</td>\n",
       "      <td>2008-05-06</td>\n",
       "      <td>Tue</td>\n",
       "      <td>0.007191</td>\n",
       "      <td>7.268427e+06</td>\n",
       "      <td>True</td>\n",
       "    </tr>\n",
       "    <tr>\n",
       "      <th>7</th>\n",
       "      <td>7</td>\n",
       "      <td>2008-05-07</td>\n",
       "      <td>Wed</td>\n",
       "      <td>0.674497</td>\n",
       "      <td>7.517015e+06</td>\n",
       "      <td>True</td>\n",
       "    </tr>\n",
       "  </tbody>\n",
       "</table>\n",
       "</div>"
      ],
      "text/plain": [
       "   clientid        date weekdays     gains        prices    up\n",
       "1         1  2008-05-01      Thu  0.076192  3.167181e+06  True\n",
       "4         4  2008-05-04      Sun  0.253255  9.371634e+05  True\n",
       "6         6  2008-05-06      Tue  0.007191  7.268427e+06  True\n",
       "7         7  2008-05-07      Wed  0.674497  7.517015e+06  True"
      ]
     },
     "execution_count": 191,
     "metadata": {},
     "output_type": "execute_result"
    }
   ],
   "source": [
    "query = data[data.up]\n",
    "query"
   ]
  },
  {
   "cell_type": "code",
   "execution_count": 192,
   "id": "YkatF5KMNR2L",
   "metadata": {
    "colab": {
     "base_uri": "https://localhost:8080/"
    },
    "id": "YkatF5KMNR2L",
    "outputId": "7a9a26b9-3720-46dc-d7fa-bf551ca628b5"
   },
   "outputs": [
    {
     "data": {
      "text/plain": [
       "1    3.167181e+06\n",
       "4    9.371634e+05\n",
       "6    7.268427e+06\n",
       "7    7.517015e+06\n",
       "Name: prices, dtype: float64"
      ]
     },
     "execution_count": 192,
     "metadata": {},
     "output_type": "execute_result"
    }
   ],
   "source": [
    "query[\"prices\"]"
   ]
  },
  {
   "cell_type": "code",
   "execution_count": 193,
   "id": "rnl8xqHKNUu8",
   "metadata": {
    "colab": {
     "base_uri": "https://localhost:8080/"
    },
    "id": "rnl8xqHKNUu8",
    "outputId": "3631bab3-662a-4932-a501-d5cf388a04c6"
   },
   "outputs": [
    {
     "data": {
      "text/plain": [
       "4722446.46745914"
      ]
     },
     "execution_count": 193,
     "metadata": {},
     "output_type": "execute_result"
    }
   ],
   "source": [
    "query[\"prices\"].mean()"
   ]
  },
  {
   "cell_type": "code",
   "execution_count": 194,
   "id": "aD1h4U-jNbiY",
   "metadata": {
    "colab": {
     "base_uri": "https://localhost:8080/"
    },
    "id": "aD1h4U-jNbiY",
    "outputId": "9f8881ed-447c-4db8-8e01-9f14d2f732dd"
   },
   "outputs": [
    {
     "data": {
      "text/plain": [
       "3216563.773601599"
      ]
     },
     "execution_count": 194,
     "metadata": {},
     "output_type": "execute_result"
    }
   ],
   "source": [
    "query[\"prices\"].std()"
   ]
  },
  {
   "cell_type": "code",
   "execution_count": 195,
   "id": "rBNkp6yA-7Bb",
   "metadata": {
    "colab": {
     "base_uri": "https://localhost:8080/",
     "height": 112
    },
    "id": "rBNkp6yA-7Bb",
    "outputId": "45c9d969-f43f-4cde-d66f-1718dfcc0d12"
   },
   "outputs": [
    {
     "data": {
      "text/html": [
       "<div>\n",
       "<style scoped>\n",
       "    .dataframe tbody tr th:only-of-type {\n",
       "        vertical-align: middle;\n",
       "    }\n",
       "\n",
       "    .dataframe tbody tr th {\n",
       "        vertical-align: top;\n",
       "    }\n",
       "\n",
       "    .dataframe thead th {\n",
       "        text-align: right;\n",
       "    }\n",
       "</style>\n",
       "<table border=\"1\" class=\"dataframe\">\n",
       "  <thead>\n",
       "    <tr style=\"text-align: right;\">\n",
       "      <th></th>\n",
       "      <th>clientid</th>\n",
       "      <th>date</th>\n",
       "      <th>weekdays</th>\n",
       "      <th>gains</th>\n",
       "      <th>prices</th>\n",
       "      <th>up</th>\n",
       "    </tr>\n",
       "  </thead>\n",
       "  <tbody>\n",
       "    <tr>\n",
       "      <th>0</th>\n",
       "      <td>0</td>\n",
       "      <td>2008-04-30</td>\n",
       "      <td>Wed</td>\n",
       "      <td>-0.524582</td>\n",
       "      <td>7.791404e+06</td>\n",
       "      <td>False</td>\n",
       "    </tr>\n",
       "    <tr>\n",
       "      <th>7</th>\n",
       "      <td>7</td>\n",
       "      <td>2008-05-07</td>\n",
       "      <td>Wed</td>\n",
       "      <td>0.674497</td>\n",
       "      <td>7.517015e+06</td>\n",
       "      <td>True</td>\n",
       "    </tr>\n",
       "  </tbody>\n",
       "</table>\n",
       "</div>"
      ],
      "text/plain": [
       "   clientid        date weekdays     gains        prices     up\n",
       "0         0  2008-04-30      Wed -0.524582  7.791404e+06  False\n",
       "7         7  2008-05-07      Wed  0.674497  7.517015e+06   True"
      ]
     },
     "execution_count": 195,
     "metadata": {},
     "output_type": "execute_result"
    }
   ],
   "source": [
    "data[data.weekdays == 'Wed']"
   ]
  },
  {
   "cell_type": "markdown",
   "id": "M7AZkYhR-7Bb",
   "metadata": {
    "id": "M7AZkYhR-7Bb"
   },
   "source": [
    "Что делать, если мы хотим применить оба условия — потребовать их одновременной истинности?\n",
    "Как и к массивам NumPy, операции `and`, `or` и `not` к листам с данными неприменимы.\n",
    "\n",
    "Нужно пользоваться операторами `&`, `|`, `~`, которые приводят к массовым операциям.\n",
    "Единственное, что нужно учесть, что приоритет этих операций выше, чем у обычных логических, а значит *атомарные высказывания* нужно окружать скобками:"
   ]
  },
  {
   "cell_type": "code",
   "execution_count": 196,
   "id": "67dsCIrh-7Bb",
   "metadata": {
    "colab": {
     "base_uri": "https://localhost:8080/",
     "height": 81
    },
    "id": "67dsCIrh-7Bb",
    "outputId": "c30b4de6-4a29-49e7-db61-4b88dfe42954"
   },
   "outputs": [
    {
     "data": {
      "text/html": [
       "<div>\n",
       "<style scoped>\n",
       "    .dataframe tbody tr th:only-of-type {\n",
       "        vertical-align: middle;\n",
       "    }\n",
       "\n",
       "    .dataframe tbody tr th {\n",
       "        vertical-align: top;\n",
       "    }\n",
       "\n",
       "    .dataframe thead th {\n",
       "        text-align: right;\n",
       "    }\n",
       "</style>\n",
       "<table border=\"1\" class=\"dataframe\">\n",
       "  <thead>\n",
       "    <tr style=\"text-align: right;\">\n",
       "      <th></th>\n",
       "      <th>clientid</th>\n",
       "      <th>date</th>\n",
       "      <th>weekdays</th>\n",
       "      <th>gains</th>\n",
       "      <th>prices</th>\n",
       "      <th>up</th>\n",
       "    </tr>\n",
       "  </thead>\n",
       "  <tbody>\n",
       "    <tr>\n",
       "      <th>0</th>\n",
       "      <td>0</td>\n",
       "      <td>2008-04-30</td>\n",
       "      <td>Wed</td>\n",
       "      <td>-0.524582</td>\n",
       "      <td>7.791404e+06</td>\n",
       "      <td>False</td>\n",
       "    </tr>\n",
       "  </tbody>\n",
       "</table>\n",
       "</div>"
      ],
      "text/plain": [
       "   clientid        date weekdays     gains        prices     up\n",
       "0         0  2008-04-30      Wed -0.524582  7.791404e+06  False"
      ]
     },
     "execution_count": 196,
     "metadata": {},
     "output_type": "execute_result"
    }
   ],
   "source": [
    "query = data[(data.weekdays == 'Wed') & (~data.up)]  # Нужны скобки!\n",
    "query"
   ]
  },
  {
   "cell_type": "markdown",
   "id": "ZgYtR9iQ-7Bc",
   "metadata": {
    "id": "ZgYtR9iQ-7Bc"
   },
   "source": [
    "### Фильтрация при помощи метода `query`\n",
    "Выбор нужных строк листа при помощи массива логических значений, получаемых из этого же листа, неплох. Но если наименование листа длинное, то записывать его в строке несколько раз кажется затруднительным. Кроме того, необходимость заменять операции может дополнительно затруднить восприятие.\n",
    "\n",
    "Можно формулировать запрос отбора нужных строк намного проще — через метод `query`:"
   ]
  },
  {
   "cell_type": "code",
   "execution_count": 197,
   "id": "O3Fu7Rqe-7Bc",
   "metadata": {
    "colab": {
     "base_uri": "https://localhost:8080/",
     "height": 81
    },
    "id": "O3Fu7Rqe-7Bc",
    "outputId": "fb16cb15-9344-4689-c0e3-e974b7ba4ea2"
   },
   "outputs": [
    {
     "data": {
      "text/html": [
       "<div>\n",
       "<style scoped>\n",
       "    .dataframe tbody tr th:only-of-type {\n",
       "        vertical-align: middle;\n",
       "    }\n",
       "\n",
       "    .dataframe tbody tr th {\n",
       "        vertical-align: top;\n",
       "    }\n",
       "\n",
       "    .dataframe thead th {\n",
       "        text-align: right;\n",
       "    }\n",
       "</style>\n",
       "<table border=\"1\" class=\"dataframe\">\n",
       "  <thead>\n",
       "    <tr style=\"text-align: right;\">\n",
       "      <th></th>\n",
       "      <th>clientid</th>\n",
       "      <th>date</th>\n",
       "      <th>weekdays</th>\n",
       "      <th>gains</th>\n",
       "      <th>prices</th>\n",
       "      <th>up</th>\n",
       "    </tr>\n",
       "  </thead>\n",
       "  <tbody>\n",
       "    <tr>\n",
       "      <th>7</th>\n",
       "      <td>7</td>\n",
       "      <td>2008-05-07</td>\n",
       "      <td>Wed</td>\n",
       "      <td>0.674497</td>\n",
       "      <td>7.517015e+06</td>\n",
       "      <td>True</td>\n",
       "    </tr>\n",
       "  </tbody>\n",
       "</table>\n",
       "</div>"
      ],
      "text/plain": [
       "   clientid        date weekdays     gains        prices    up\n",
       "7         7  2008-05-07      Wed  0.674497  7.517015e+06  True"
      ]
     },
     "execution_count": 197,
     "metadata": {},
     "output_type": "execute_result"
    }
   ],
   "source": [
    "data.query('weekdays == \"Wed\" and up')"
   ]
  },
  {
   "cell_type": "markdown",
   "id": "_BFY-A4_-7Bc",
   "metadata": {
    "id": "_BFY-A4_-7Bc"
   },
   "source": [
    "При помощи `query` легко формулировать сложные условия отбора. Например, выделим только те строки, где день недели — это воскресенье или же цены ниже среднего и при этом доходы отрицательны:"
   ]
  },
  {
   "cell_type": "code",
   "execution_count": 198,
   "id": "eBk2rD74-7Bc",
   "metadata": {
    "colab": {
     "base_uri": "https://localhost:8080/"
    },
    "id": "eBk2rD74-7Bc",
    "outputId": "01571ef0-2bb5-48fb-a461-9a2ea0b63bab"
   },
   "outputs": [
    {
     "name": "stdout",
     "output_type": "stream",
     "text": [
      "Сумма доходов по данным сделкам: -1.61236186952339\n"
     ]
    }
   ],
   "source": [
    "result = data.query('weekdays == \"Sun\" or prices < prices.mean() and gains < 0')\n",
    "result\n",
    "print(\"Сумма доходов по данным сделкам:\", result['gains'].sum())"
   ]
  },
  {
   "cell_type": "markdown",
   "id": "nET3M0_t-7Bd",
   "metadata": {
    "id": "nET3M0_t-7Bd"
   },
   "source": [
    "### Гистограмма распределения"
   ]
  },
  {
   "cell_type": "markdown",
   "id": "8d0Z53Mc-7Bd",
   "metadata": {
    "id": "8d0Z53Mc-7Bd"
   },
   "source": [
    "Модуль Pandas под капотом неявно подключает Matplotlib, поэтому для построения гистограммы распределения не нужно его отдельно подключать, а просто воспользоваться методом `hist`:"
   ]
  },
  {
   "cell_type": "code",
   "execution_count": 199,
   "id": "33xmpi7N-7Bd",
   "metadata": {
    "id": "33xmpi7N-7Bd",
    "outputId": "4c8faec4-73f7-4698-e274-0214925947f9"
   },
   "outputs": [
    {
     "data": {
      "text/plain": [
       "<AxesSubplot:>"
      ]
     },
     "execution_count": 199,
     "metadata": {},
     "output_type": "execute_result"
    },
    {
     "data": {
      "image/png": "[encoded data removed]",
      "text/plain": [
       "<Figure size 640x480 with 1 Axes>"
      ]
     },
     "metadata": {},
     "output_type": "display_data"
    }
   ],
   "source": [
    "data[\"prices\"].hist()"
   ]
  },
  {
   "cell_type": "markdown",
   "id": "Yr0hcBxl-7Be",
   "metadata": {
    "id": "Yr0hcBxl-7Be"
   },
   "source": [
    "### Статистические характеристики выборки данных\n",
    "Для того чтобы узнать конкретную статистическую характеристику, можно воспользоваться следующими методами:"
   ]
  },
  {
   "cell_type": "code",
   "execution_count": 200,
   "id": "aKTRfv4V-7Be",
   "metadata": {
    "id": "aKTRfv4V-7Be",
    "outputId": "287e08f0-8ba6-456d-cc17-219350e1737c"
   },
   "outputs": [
    {
     "data": {
      "text/plain": [
       "937163.4437525265"
      ]
     },
     "execution_count": 200,
     "metadata": {},
     "output_type": "execute_result"
    }
   ],
   "source": [
    "data[\"prices\"].min()"
   ]
  },
  {
   "cell_type": "code",
   "execution_count": 201,
   "id": "uCPRE0C7-7Be",
   "metadata": {
    "id": "uCPRE0C7-7Be",
    "outputId": "fc3bdc40-682d-414e-f479-beebb027249e"
   },
   "outputs": [
    {
     "data": {
      "text/plain": [
       "9589766.961382903"
      ]
     },
     "execution_count": 201,
     "metadata": {},
     "output_type": "execute_result"
    }
   ],
   "source": [
    "data[\"prices\"].max()"
   ]
  },
  {
   "cell_type": "code",
   "execution_count": 202,
   "id": "WMv4yLft-7Be",
   "metadata": {
    "id": "WMv4yLft-7Be",
    "outputId": "84eb5d7f-4303-468d-a522-12b54217e4f4"
   },
   "outputs": [
    {
     "name": "stdout",
     "output_type": "stream",
     "text": [
      "Среднее значение: 5654715.206961571\n"
     ]
    }
   ],
   "source": [
    "print(\"Среднее значение:\", data[\"prices\"].mean())"
   ]
  },
  {
   "cell_type": "code",
   "execution_count": 203,
   "id": "k-BLRPGF-7Be",
   "metadata": {
    "id": "k-BLRPGF-7Be",
    "outputId": "36d96cf3-b49b-4060-937e-1703e7badf86"
   },
   "outputs": [
    {
     "name": "stdout",
     "output_type": "stream",
     "text": [
      "Стандартное отклонение: 3485656.980782874\n"
     ]
    }
   ],
   "source": [
    "print(\"Стандартное отклонение:\", data[\"prices\"].std())"
   ]
  },
  {
   "cell_type": "code",
   "execution_count": 204,
   "id": "ndTCG93_-7Bf",
   "metadata": {
    "id": "ndTCG93_-7Bf",
    "outputId": "c9706f48-94ad-4780-c8c1-8296e5a14098"
   },
   "outputs": [
    {
     "name": "stdout",
     "output_type": "stream",
     "text": [
      "Медиана: 7392720.84472501\n"
     ]
    }
   ],
   "source": [
    "print(\"Медиана:\", data[\"prices\"].median())"
   ]
  },
  {
   "cell_type": "markdown",
   "id": "dWTrnuyp-7Bf",
   "metadata": {
    "id": "dWTrnuyp-7Bf"
   },
   "source": [
    "Кроме медианы можно указать любой квантиль распределения:"
   ]
  },
  {
   "cell_type": "code",
   "execution_count": null,
   "id": "Cd8WB89X-7Bf",
   "metadata": {
    "id": "Cd8WB89X-7Bf",
    "outputId": "38260fb9-a5ae-4bf8-ca2b-2753aebb6406"
   },
   "outputs": [],
   "source": [
    "print(\"Первый квартиль:\", data[\"prices\"].quantile(1/4))\n",
    "print(\"Третий квартиль:\", data[\"prices\"].quantile(3/4))"
   ]
  },
  {
   "cell_type": "markdown",
   "id": "rkvoIoCZ-7Bf",
   "metadata": {
    "id": "rkvoIoCZ-7Bf"
   },
   "source": [
    "При этом можно применить условие выбора строк по логическому массиву:"
   ]
  },
  {
   "cell_type": "code",
   "execution_count": 205,
   "id": "pUrO_zSk-7Bf",
   "metadata": {
    "id": "pUrO_zSk-7Bf",
    "outputId": "7a0d731c-13ff-4373-84d2-38072f52727c"
   },
   "outputs": [
    {
     "data": {
      "text/plain": [
       "4722446.46745914"
      ]
     },
     "execution_count": 205,
     "metadata": {},
     "output_type": "execute_result"
    }
   ],
   "source": [
    "data[data.up][\"prices\"].mean()"
   ]
  },
  {
   "cell_type": "markdown",
   "id": "epZrkUkt-7Bg",
   "metadata": {
    "id": "epZrkUkt-7Bg"
   },
   "source": [
    "А сам логический массив получить через наложение условий на исходный лист с данными:"
   ]
  },
  {
   "cell_type": "code",
   "execution_count": 206,
   "id": "95dIVwwS-7Bg",
   "metadata": {
    "id": "95dIVwwS-7Bg",
    "outputId": "822c5b63-a778-4829-dd25-489d1c8dfdf4"
   },
   "outputs": [
    {
     "data": {
      "text/plain": [
       "7654209.39604469"
      ]
     },
     "execution_count": 206,
     "metadata": {},
     "output_type": "execute_result"
    }
   ],
   "source": [
    "data[data.weekdays == 'Wed'][\"prices\"].mean()"
   ]
  },
  {
   "cell_type": "markdown",
   "id": "OsXiNmZz-7Bg",
   "metadata": {
    "id": "OsXiNmZz-7Bg"
   },
   "source": [
    "## Анализ данных абитуриентов Мехмата МГУ\n",
    "Интересно будет применить наши знания и проанализировать данные приёмной кампании мехмата МГУ по общему конкурсу в 2021 году. Естественно, при анализе данных живых людей возникает *вопрос об этике их использования*, и *вопрос о соблюдении законодательства о персональных данных* (Федеральный закон \"О персональных данных\" от 27.07.2006 N 152-ФЗ).\n",
    "\n",
    "Для того чтобы работать с такими данными без особого допуска, осуществляется их деперсонализация, **обезличивание**, то есть такое действие, после которого конкретное физическое лицо не может быть напрямую связано с его данными. Наши данные уже обезличены, поэтому смело будем с ними работать.\n",
    "\n",
    "Давайте посмотрим на сами данные:"
   ]
  },
  {
   "cell_type": "code",
   "execution_count": 207,
   "id": "8fLb31Fqs2C1",
   "metadata": {
    "colab": {
     "base_uri": "https://localhost:8080/"
    },
    "id": "8fLb31Fqs2C1",
    "outputId": "ce296f1a-075d-4737-ba19-0320de3311ca"
   },
   "outputs": [
    {
     "name": "stderr",
     "output_type": "stream",
     "text": [
      "\"wget\" ­Ґ пў«пҐвбп ў­гваҐ­­Ґ© Ё«Ё ў­Ґи­Ґ©\n",
      "Є®¬ ­¤®©, ЁбЇ®«­пҐ¬®© Їа®Ја ¬¬®© Ё«Ё Ї ЄҐв­л¬ д ©«®¬.\n"
     ]
    }
   ],
   "source": [
    "!wget -O \"math_entrants.csv\" \"https://drive.google.com/uc?id=1P8496NAnNN6zY38ZRSmtQwqXOg1Czz4-&export=download\""
   ]
  },
  {
   "cell_type": "code",
   "execution_count": 208,
   "id": "R0Z6I5YY-7Bg",
   "metadata": {
    "id": "R0Z6I5YY-7Bg"
   },
   "outputs": [],
   "source": [
    "import numpy as np\n",
    "import pandas as pd"
   ]
  },
  {
   "cell_type": "code",
   "execution_count": 209,
   "id": "lllg6tSa-7Bg",
   "metadata": {
    "colab": {
     "base_uri": "https://localhost:8080/",
     "height": 392
    },
    "id": "lllg6tSa-7Bg",
    "outputId": "416542cc-83ac-40ab-ef23-c16a5310dcb0",
    "scrolled": false
   },
   "outputs": [
    {
     "data": {
      "text/html": [
       "<div>\n",
       "<style scoped>\n",
       "    .dataframe tbody tr th:only-of-type {\n",
       "        vertical-align: middle;\n",
       "    }\n",
       "\n",
       "    .dataframe tbody tr th {\n",
       "        vertical-align: top;\n",
       "    }\n",
       "\n",
       "    .dataframe thead th {\n",
       "        text-align: right;\n",
       "    }\n",
       "</style>\n",
       "<table border=\"1\" class=\"dataframe\">\n",
       "  <thead>\n",
       "    <tr style=\"text-align: right;\">\n",
       "      <th></th>\n",
       "      <th>№</th>\n",
       "      <th>Наличие согласия</th>\n",
       "      <th>Согласие в МГУ</th>\n",
       "      <th>Сумма баллов</th>\n",
       "      <th>Математика (ДВИ)</th>\n",
       "      <th>Математика (ЕГЭ)</th>\n",
       "      <th>Физика</th>\n",
       "      <th>Русский язык</th>\n",
       "      <th>Индивидуальные достижения - аттестат</th>\n",
       "      <th>Индивидуальные достижения - сочинение</th>\n",
       "      <th>Индивидуальные достижения - ГТО</th>\n",
       "      <th>Преимущественное право зачисления</th>\n",
       "      <th>Право на общежитие</th>\n",
       "      <th>Статус</th>\n",
       "    </tr>\n",
       "  </thead>\n",
       "  <tbody>\n",
       "    <tr>\n",
       "      <th>0</th>\n",
       "      <td>1</td>\n",
       "      <td>Да</td>\n",
       "      <td>Да</td>\n",
       "      <td>408</td>\n",
       "      <td>100</td>\n",
       "      <td>100</td>\n",
       "      <td>100</td>\n",
       "      <td>100</td>\n",
       "      <td>6</td>\n",
       "      <td>2</td>\n",
       "      <td>0</td>\n",
       "      <td>Нет</td>\n",
       "      <td>Нет</td>\n",
       "      <td>В конкурсе</td>\n",
       "    </tr>\n",
       "    <tr>\n",
       "      <th>1</th>\n",
       "      <td>2</td>\n",
       "      <td>Нет</td>\n",
       "      <td>Нет</td>\n",
       "      <td>408</td>\n",
       "      <td>100</td>\n",
       "      <td>100</td>\n",
       "      <td>100</td>\n",
       "      <td>100</td>\n",
       "      <td>6</td>\n",
       "      <td>2</td>\n",
       "      <td>0</td>\n",
       "      <td>Нет</td>\n",
       "      <td>Нет</td>\n",
       "      <td>В конкурсе</td>\n",
       "    </tr>\n",
       "    <tr>\n",
       "      <th>2</th>\n",
       "      <td>3</td>\n",
       "      <td>Нет</td>\n",
       "      <td>Нет</td>\n",
       "      <td>408</td>\n",
       "      <td>100</td>\n",
       "      <td>100</td>\n",
       "      <td>100</td>\n",
       "      <td>100</td>\n",
       "      <td>6</td>\n",
       "      <td>2</td>\n",
       "      <td>0</td>\n",
       "      <td>Нет</td>\n",
       "      <td>Да</td>\n",
       "      <td>В конкурсе</td>\n",
       "    </tr>\n",
       "    <tr>\n",
       "      <th>3</th>\n",
       "      <td>4</td>\n",
       "      <td>Нет</td>\n",
       "      <td>Да</td>\n",
       "      <td>408</td>\n",
       "      <td>100</td>\n",
       "      <td>100</td>\n",
       "      <td>100</td>\n",
       "      <td>100</td>\n",
       "      <td>6</td>\n",
       "      <td>2</td>\n",
       "      <td>0</td>\n",
       "      <td>Нет</td>\n",
       "      <td>Нет</td>\n",
       "      <td>В конкурсе</td>\n",
       "    </tr>\n",
       "    <tr>\n",
       "      <th>4</th>\n",
       "      <td>5</td>\n",
       "      <td>Нет</td>\n",
       "      <td>Нет</td>\n",
       "      <td>407</td>\n",
       "      <td>100</td>\n",
       "      <td>99</td>\n",
       "      <td>100</td>\n",
       "      <td>100</td>\n",
       "      <td>6</td>\n",
       "      <td>2</td>\n",
       "      <td>0</td>\n",
       "      <td>Нет</td>\n",
       "      <td>Да</td>\n",
       "      <td>В конкурсе</td>\n",
       "    </tr>\n",
       "  </tbody>\n",
       "</table>\n",
       "</div>"
      ],
      "text/plain": [
       "   № Наличие согласия Согласие в МГУ  Сумма баллов  Математика (ДВИ)  \\\n",
       "0  1               Да             Да           408               100   \n",
       "1  2              Нет            Нет           408               100   \n",
       "2  3              Нет            Нет           408               100   \n",
       "3  4              Нет             Да           408               100   \n",
       "4  5              Нет            Нет           407               100   \n",
       "\n",
       "   Математика (ЕГЭ)  Физика  Русский язык  \\\n",
       "0               100     100           100   \n",
       "1               100     100           100   \n",
       "2               100     100           100   \n",
       "3               100     100           100   \n",
       "4                99     100           100   \n",
       "\n",
       "   Индивидуальные достижения - аттестат  \\\n",
       "0                                     6   \n",
       "1                                     6   \n",
       "2                                     6   \n",
       "3                                     6   \n",
       "4                                     6   \n",
       "\n",
       "   Индивидуальные достижения - сочинение  Индивидуальные достижения - ГТО  \\\n",
       "0                                      2                                0   \n",
       "1                                      2                                0   \n",
       "2                                      2                                0   \n",
       "3                                      2                                0   \n",
       "4                                      2                                0   \n",
       "\n",
       "  Преимущественное право зачисления Право на общежитие      Статус  \n",
       "0                               Нет                Нет  В конкурсе  \n",
       "1                               Нет                Нет  В конкурсе  \n",
       "2                               Нет                 Да  В конкурсе  \n",
       "3                               Нет                Нет  В конкурсе  \n",
       "4                               Нет                 Да  В конкурсе  "
      ]
     },
     "execution_count": 209,
     "metadata": {},
     "output_type": "execute_result"
    }
   ],
   "source": [
    "entrants = pd.read_csv(\"math_entrants.csv\")\n",
    "entrants.head()"
   ]
  },
  {
   "cell_type": "markdown",
   "id": "VwB0_p87-7Bg",
   "metadata": {
    "id": "VwB0_p87-7Bg"
   },
   "source": [
    "Для простоты работы со столбцами переименуем их так, чтобы с ними было легче работать. Не будем отказываться полностью от русского языка, но сократим название каждого столбца до одного слова.\n",
    "\n",
    "Воспользуемся функцией pandas.DataFrame.rename(), которая позволит нам переименовать столбцы. "
   ]
  },
  {
   "cell_type": "code",
   "execution_count": 210,
   "id": "QxDFb6Z1-7Bh",
   "metadata": {
    "colab": {
     "base_uri": "https://localhost:8080/",
     "height": 374
    },
    "id": "QxDFb6Z1-7Bh",
    "outputId": "f804f134-d7ae-41ba-b89a-ded636443a0f",
    "scrolled": true
   },
   "outputs": [
    {
     "data": {
      "text/html": [
       "<div>\n",
       "<style scoped>\n",
       "    .dataframe tbody tr th:only-of-type {\n",
       "        vertical-align: middle;\n",
       "    }\n",
       "\n",
       "    .dataframe tbody tr th {\n",
       "        vertical-align: top;\n",
       "    }\n",
       "\n",
       "    .dataframe thead th {\n",
       "        text-align: right;\n",
       "    }\n",
       "</style>\n",
       "<table border=\"1\" class=\"dataframe\">\n",
       "  <thead>\n",
       "    <tr style=\"text-align: right;\">\n",
       "      <th></th>\n",
       "      <th>№</th>\n",
       "      <th>Наличие согласия</th>\n",
       "      <th>Согласие в МГУ</th>\n",
       "      <th>сумма</th>\n",
       "      <th>ДВИ</th>\n",
       "      <th>математика</th>\n",
       "      <th>физика</th>\n",
       "      <th>русский</th>\n",
       "      <th>аттестат</th>\n",
       "      <th>сочинение</th>\n",
       "      <th>ГТО</th>\n",
       "      <th>преимущество</th>\n",
       "      <th>общежитие</th>\n",
       "      <th>Статус</th>\n",
       "    </tr>\n",
       "  </thead>\n",
       "  <tbody>\n",
       "    <tr>\n",
       "      <th>0</th>\n",
       "      <td>1</td>\n",
       "      <td>Да</td>\n",
       "      <td>Да</td>\n",
       "      <td>408</td>\n",
       "      <td>100</td>\n",
       "      <td>100</td>\n",
       "      <td>100</td>\n",
       "      <td>100</td>\n",
       "      <td>6</td>\n",
       "      <td>2</td>\n",
       "      <td>0</td>\n",
       "      <td>Нет</td>\n",
       "      <td>Нет</td>\n",
       "      <td>В конкурсе</td>\n",
       "    </tr>\n",
       "    <tr>\n",
       "      <th>1</th>\n",
       "      <td>2</td>\n",
       "      <td>Нет</td>\n",
       "      <td>Нет</td>\n",
       "      <td>408</td>\n",
       "      <td>100</td>\n",
       "      <td>100</td>\n",
       "      <td>100</td>\n",
       "      <td>100</td>\n",
       "      <td>6</td>\n",
       "      <td>2</td>\n",
       "      <td>0</td>\n",
       "      <td>Нет</td>\n",
       "      <td>Нет</td>\n",
       "      <td>В конкурсе</td>\n",
       "    </tr>\n",
       "    <tr>\n",
       "      <th>2</th>\n",
       "      <td>3</td>\n",
       "      <td>Нет</td>\n",
       "      <td>Нет</td>\n",
       "      <td>408</td>\n",
       "      <td>100</td>\n",
       "      <td>100</td>\n",
       "      <td>100</td>\n",
       "      <td>100</td>\n",
       "      <td>6</td>\n",
       "      <td>2</td>\n",
       "      <td>0</td>\n",
       "      <td>Нет</td>\n",
       "      <td>Да</td>\n",
       "      <td>В конкурсе</td>\n",
       "    </tr>\n",
       "    <tr>\n",
       "      <th>3</th>\n",
       "      <td>4</td>\n",
       "      <td>Нет</td>\n",
       "      <td>Да</td>\n",
       "      <td>408</td>\n",
       "      <td>100</td>\n",
       "      <td>100</td>\n",
       "      <td>100</td>\n",
       "      <td>100</td>\n",
       "      <td>6</td>\n",
       "      <td>2</td>\n",
       "      <td>0</td>\n",
       "      <td>Нет</td>\n",
       "      <td>Нет</td>\n",
       "      <td>В конкурсе</td>\n",
       "    </tr>\n",
       "    <tr>\n",
       "      <th>4</th>\n",
       "      <td>5</td>\n",
       "      <td>Нет</td>\n",
       "      <td>Нет</td>\n",
       "      <td>407</td>\n",
       "      <td>100</td>\n",
       "      <td>99</td>\n",
       "      <td>100</td>\n",
       "      <td>100</td>\n",
       "      <td>6</td>\n",
       "      <td>2</td>\n",
       "      <td>0</td>\n",
       "      <td>Нет</td>\n",
       "      <td>Да</td>\n",
       "      <td>В конкурсе</td>\n",
       "    </tr>\n",
       "  </tbody>\n",
       "</table>\n",
       "</div>"
      ],
      "text/plain": [
       "   № Наличие согласия Согласие в МГУ  сумма  ДВИ  математика  физика  русский  \\\n",
       "0  1               Да             Да    408  100         100     100      100   \n",
       "1  2              Нет            Нет    408  100         100     100      100   \n",
       "2  3              Нет            Нет    408  100         100     100      100   \n",
       "3  4              Нет             Да    408  100         100     100      100   \n",
       "4  5              Нет            Нет    407  100          99     100      100   \n",
       "\n",
       "   аттестат  сочинение  ГТО преимущество общежитие      Статус  \n",
       "0         6          2    0          Нет       Нет  В конкурсе  \n",
       "1         6          2    0          Нет       Нет  В конкурсе  \n",
       "2         6          2    0          Нет        Да  В конкурсе  \n",
       "3         6          2    0          Нет       Нет  В конкурсе  \n",
       "4         6          2    0          Нет        Да  В конкурсе  "
      ]
     },
     "execution_count": 210,
     "metadata": {},
     "output_type": "execute_result"
    }
   ],
   "source": [
    "entrants.rename(columns = {'Сумма баллов':'сумма',\n",
    "                           'Математика (ДВИ)':'ДВИ',\n",
    "                           'Математика (ЕГЭ)':'математика',\n",
    "                           'Физика':'физика',\n",
    "                           'Русский язык':'русский',\n",
    "                           'Индивидуальные достижения - аттестат':'аттестат',\n",
    "                           'Индивидуальные достижения - сочинение':'сочинение',\n",
    "                           'Индивидуальные достижения - ГТО':'ГТО',\n",
    "                           'Преимущественное право зачисления':'преимущество',\n",
    "                           'Право на общежитие':'общежитие'},\n",
    "                inplace = True)\n",
    "entrants.head()"
   ]
  },
  {
   "cell_type": "markdown",
   "id": "31FpHHKL-7Bh",
   "metadata": {
    "id": "31FpHHKL-7Bh"
   },
   "source": [
    "Всегда удобнее работать с типом данных bool, чем с типом данных string. Изменим тип данных в столбцах типа \"Да/Нет\" на логический:"
   ]
  },
  {
   "cell_type": "code",
   "execution_count": 211,
   "id": "TZuG3euL-7Bi",
   "metadata": {
    "colab": {
     "base_uri": "https://localhost:8080/",
     "height": 374
    },
    "id": "TZuG3euL-7Bi",
    "outputId": "38640f3e-ec64-40ed-860a-9234e46d2275",
    "scrolled": true
   },
   "outputs": [
    {
     "data": {
      "text/html": [
       "<div>\n",
       "<style scoped>\n",
       "    .dataframe tbody tr th:only-of-type {\n",
       "        vertical-align: middle;\n",
       "    }\n",
       "\n",
       "    .dataframe tbody tr th {\n",
       "        vertical-align: top;\n",
       "    }\n",
       "\n",
       "    .dataframe thead th {\n",
       "        text-align: right;\n",
       "    }\n",
       "</style>\n",
       "<table border=\"1\" class=\"dataframe\">\n",
       "  <thead>\n",
       "    <tr style=\"text-align: right;\">\n",
       "      <th></th>\n",
       "      <th>№</th>\n",
       "      <th>Наличие согласия</th>\n",
       "      <th>Согласие в МГУ</th>\n",
       "      <th>сумма</th>\n",
       "      <th>ДВИ</th>\n",
       "      <th>математика</th>\n",
       "      <th>физика</th>\n",
       "      <th>русский</th>\n",
       "      <th>аттестат</th>\n",
       "      <th>сочинение</th>\n",
       "      <th>ГТО</th>\n",
       "      <th>преимущество</th>\n",
       "      <th>общежитие</th>\n",
       "      <th>Статус</th>\n",
       "    </tr>\n",
       "  </thead>\n",
       "  <tbody>\n",
       "    <tr>\n",
       "      <th>0</th>\n",
       "      <td>1</td>\n",
       "      <td>True</td>\n",
       "      <td>True</td>\n",
       "      <td>408</td>\n",
       "      <td>100</td>\n",
       "      <td>100</td>\n",
       "      <td>100</td>\n",
       "      <td>100</td>\n",
       "      <td>6</td>\n",
       "      <td>2</td>\n",
       "      <td>0</td>\n",
       "      <td>False</td>\n",
       "      <td>False</td>\n",
       "      <td>В конкурсе</td>\n",
       "    </tr>\n",
       "    <tr>\n",
       "      <th>1</th>\n",
       "      <td>2</td>\n",
       "      <td>False</td>\n",
       "      <td>False</td>\n",
       "      <td>408</td>\n",
       "      <td>100</td>\n",
       "      <td>100</td>\n",
       "      <td>100</td>\n",
       "      <td>100</td>\n",
       "      <td>6</td>\n",
       "      <td>2</td>\n",
       "      <td>0</td>\n",
       "      <td>False</td>\n",
       "      <td>False</td>\n",
       "      <td>В конкурсе</td>\n",
       "    </tr>\n",
       "    <tr>\n",
       "      <th>2</th>\n",
       "      <td>3</td>\n",
       "      <td>False</td>\n",
       "      <td>False</td>\n",
       "      <td>408</td>\n",
       "      <td>100</td>\n",
       "      <td>100</td>\n",
       "      <td>100</td>\n",
       "      <td>100</td>\n",
       "      <td>6</td>\n",
       "      <td>2</td>\n",
       "      <td>0</td>\n",
       "      <td>False</td>\n",
       "      <td>True</td>\n",
       "      <td>В конкурсе</td>\n",
       "    </tr>\n",
       "    <tr>\n",
       "      <th>3</th>\n",
       "      <td>4</td>\n",
       "      <td>False</td>\n",
       "      <td>True</td>\n",
       "      <td>408</td>\n",
       "      <td>100</td>\n",
       "      <td>100</td>\n",
       "      <td>100</td>\n",
       "      <td>100</td>\n",
       "      <td>6</td>\n",
       "      <td>2</td>\n",
       "      <td>0</td>\n",
       "      <td>False</td>\n",
       "      <td>False</td>\n",
       "      <td>В конкурсе</td>\n",
       "    </tr>\n",
       "    <tr>\n",
       "      <th>4</th>\n",
       "      <td>5</td>\n",
       "      <td>False</td>\n",
       "      <td>False</td>\n",
       "      <td>407</td>\n",
       "      <td>100</td>\n",
       "      <td>99</td>\n",
       "      <td>100</td>\n",
       "      <td>100</td>\n",
       "      <td>6</td>\n",
       "      <td>2</td>\n",
       "      <td>0</td>\n",
       "      <td>False</td>\n",
       "      <td>True</td>\n",
       "      <td>В конкурсе</td>\n",
       "    </tr>\n",
       "  </tbody>\n",
       "</table>\n",
       "</div>"
      ],
      "text/plain": [
       "   №  Наличие согласия  Согласие в МГУ  сумма  ДВИ  математика  физика  \\\n",
       "0  1              True            True    408  100         100     100   \n",
       "1  2             False           False    408  100         100     100   \n",
       "2  3             False           False    408  100         100     100   \n",
       "3  4             False            True    408  100         100     100   \n",
       "4  5             False           False    407  100          99     100   \n",
       "\n",
       "   русский  аттестат  сочинение  ГТО  преимущество  общежитие      Статус  \n",
       "0      100         6          2    0         False      False  В конкурсе  \n",
       "1      100         6          2    0         False      False  В конкурсе  \n",
       "2      100         6          2    0         False       True  В конкурсе  \n",
       "3      100         6          2    0         False      False  В конкурсе  \n",
       "4      100         6          2    0         False       True  В конкурсе  "
      ]
     },
     "execution_count": 211,
     "metadata": {},
     "output_type": "execute_result"
    }
   ],
   "source": [
    "entrants[\"Наличие согласия\"] = (entrants[\"Наличие согласия\"] == \"Да\")\n",
    "entrants[\"Согласие в МГУ\"] = (entrants[\"Согласие в МГУ\"] == \"Да\")\n",
    "entrants[\"преимущество\"] = (entrants[\"преимущество\"] == \"Да\")\n",
    "entrants[\"общежитие\"] = (entrants[\"общежитие\"] == \"Да\")\n",
    "entrants.head()"
   ]
  },
  {
   "cell_type": "code",
   "execution_count": 212,
   "id": "GrDaunQvPFBm",
   "metadata": {
    "colab": {
     "base_uri": "https://localhost:8080/"
    },
    "id": "GrDaunQvPFBm",
    "outputId": "ca766ab7-395f-4b22-a21b-8adb84848391"
   },
   "outputs": [
    {
     "name": "stdout",
     "output_type": "stream",
     "text": [
      "<class 'pandas.core.frame.DataFrame'>\n",
      "RangeIndex: 905 entries, 0 to 904\n",
      "Data columns (total 14 columns):\n",
      " #   Column            Non-Null Count  Dtype \n",
      "---  ------            --------------  ----- \n",
      " 0   №                 905 non-null    int64 \n",
      " 1   Наличие согласия  905 non-null    bool  \n",
      " 2   Согласие в МГУ    905 non-null    bool  \n",
      " 3   сумма             905 non-null    int64 \n",
      " 4   ДВИ               905 non-null    int64 \n",
      " 5   математика        905 non-null    int64 \n",
      " 6   физика            905 non-null    int64 \n",
      " 7   русский           905 non-null    int64 \n",
      " 8   аттестат          905 non-null    int64 \n",
      " 9   сочинение         905 non-null    int64 \n",
      " 10  ГТО               905 non-null    int64 \n",
      " 11  преимущество      905 non-null    bool  \n",
      " 12  общежитие         905 non-null    bool  \n",
      " 13  Статус            905 non-null    object\n",
      "dtypes: bool(4), int64(9), object(1)\n",
      "memory usage: 74.4+ KB\n"
     ]
    }
   ],
   "source": [
    "entrants.info()"
   ]
  },
  {
   "cell_type": "markdown",
   "id": "YQ-QMYDW-7Bi",
   "metadata": {
    "id": "YQ-QMYDW-7Bi"
   },
   "source": [
    "Проверим, не у всех ли студентов из данного списка статус \"В конкурсе\". Если это так, то данный столлбец ничем не поможет нам в анализе данных, и мы сможем его удалить"
   ]
  },
  {
   "cell_type": "code",
   "execution_count": 213,
   "id": "cnWxfWaQ-7Bi",
   "metadata": {
    "colab": {
     "base_uri": "https://localhost:8080/"
    },
    "id": "cnWxfWaQ-7Bi",
    "outputId": "7ad2fdc9-867b-4bd0-e92c-0fd76058daf9"
   },
   "outputs": [
    {
     "data": {
      "text/plain": [
       "True"
      ]
     },
     "execution_count": 213,
     "metadata": {},
     "output_type": "execute_result"
    }
   ],
   "source": [
    "(entrants['Статус'] == 'В конкурсе').all()"
   ]
  },
  {
   "cell_type": "markdown",
   "id": "IsRwbVE1-7Bj",
   "metadata": {
    "id": "IsRwbVE1-7Bj"
   },
   "source": [
    "У всех. Значит этот столбец можно просто удалить:"
   ]
  },
  {
   "cell_type": "code",
   "execution_count": 214,
   "id": "ccLorN2D-7Bj",
   "metadata": {
    "id": "ccLorN2D-7Bj"
   },
   "outputs": [],
   "source": [
    "entrants.drop('Статус', axis=1, inplace=True)"
   ]
  },
  {
   "cell_type": "markdown",
   "id": "tfhm8bDo-7Bj",
   "metadata": {
    "id": "tfhm8bDo-7Bj"
   },
   "source": [
    "Проверим то же самое про преимущество"
   ]
  },
  {
   "cell_type": "code",
   "execution_count": 215,
   "id": "7H4rLGZV-7Bj",
   "metadata": {
    "colab": {
     "base_uri": "https://localhost:8080/"
    },
    "id": "7H4rLGZV-7Bj",
    "outputId": "5bd65595-cc2a-400c-b960-4f893cc7762c"
   },
   "outputs": [
    {
     "data": {
      "text/plain": [
       "False    905\n",
       "Name: преимущество, dtype: int64"
      ]
     },
     "execution_count": 215,
     "metadata": {},
     "output_type": "execute_result"
    }
   ],
   "source": [
    "entrants[\"преимущество\"].value_counts()"
   ]
  },
  {
   "cell_type": "code",
   "execution_count": 216,
   "id": "_6g8vfJrPoUK",
   "metadata": {
    "colab": {
     "base_uri": "https://localhost:8080/"
    },
    "id": "_6g8vfJrPoUK",
    "outputId": "dc793a50-5dee-42f0-edab-69f85efb24b7"
   },
   "outputs": [
    {
     "data": {
      "text/plain": [
       "0    746\n",
       "2    159\n",
       "Name: ГТО, dtype: int64"
      ]
     },
     "execution_count": 216,
     "metadata": {},
     "output_type": "execute_result"
    }
   ],
   "source": [
    "entrants[\"ГТО\"].value_counts()"
   ]
  },
  {
   "cell_type": "code",
   "execution_count": 217,
   "id": "oKKvtYwP-7Bk",
   "metadata": {
    "colab": {
     "base_uri": "https://localhost:8080/"
    },
    "id": "oKKvtYwP-7Bk",
    "outputId": "6c98f16e-0015-4500-ba6e-3e6b5ae05371"
   },
   "outputs": [
    {
     "data": {
      "text/plain": [
       "True"
      ]
     },
     "execution_count": 217,
     "metadata": {},
     "output_type": "execute_result"
    }
   ],
   "source": [
    "(entrants['преимущество'] == False).all()"
   ]
  },
  {
   "cell_type": "markdown",
   "id": "rCmcfxmg-7Bk",
   "metadata": {
    "id": "rCmcfxmg-7Bk"
   },
   "source": [
    "Значит, от него также можно избавиться"
   ]
  },
  {
   "cell_type": "code",
   "execution_count": 218,
   "id": "BqOttMm3-7Bl",
   "metadata": {
    "id": "BqOttMm3-7Bl"
   },
   "outputs": [],
   "source": [
    "entrants.drop('преимущество', axis=1, inplace=True)"
   ]
  },
  {
   "cell_type": "markdown",
   "id": "CTnWU01P-7Bl",
   "metadata": {
    "id": "CTnWU01P-7Bl"
   },
   "source": [
    "Общее описание всех параметров данных в pandas можно получить при помощи функции describe"
   ]
  },
  {
   "cell_type": "code",
   "execution_count": 219,
   "id": "NjDIbd3B-7Bl",
   "metadata": {
    "colab": {
     "base_uri": "https://localhost:8080/",
     "height": 300
    },
    "id": "NjDIbd3B-7Bl",
    "outputId": "669168c7-baa0-44f2-a8cf-b5a72bfe9342"
   },
   "outputs": [
    {
     "data": {
      "text/html": [
       "<div>\n",
       "<style scoped>\n",
       "    .dataframe tbody tr th:only-of-type {\n",
       "        vertical-align: middle;\n",
       "    }\n",
       "\n",
       "    .dataframe tbody tr th {\n",
       "        vertical-align: top;\n",
       "    }\n",
       "\n",
       "    .dataframe thead th {\n",
       "        text-align: right;\n",
       "    }\n",
       "</style>\n",
       "<table border=\"1\" class=\"dataframe\">\n",
       "  <thead>\n",
       "    <tr style=\"text-align: right;\">\n",
       "      <th></th>\n",
       "      <th>№</th>\n",
       "      <th>сумма</th>\n",
       "      <th>ДВИ</th>\n",
       "      <th>математика</th>\n",
       "      <th>физика</th>\n",
       "      <th>русский</th>\n",
       "      <th>аттестат</th>\n",
       "      <th>сочинение</th>\n",
       "      <th>ГТО</th>\n",
       "    </tr>\n",
       "  </thead>\n",
       "  <tbody>\n",
       "    <tr>\n",
       "      <th>count</th>\n",
       "      <td>905.000000</td>\n",
       "      <td>905.000000</td>\n",
       "      <td>905.000000</td>\n",
       "      <td>905.000000</td>\n",
       "      <td>905.000000</td>\n",
       "      <td>905.000000</td>\n",
       "      <td>905.000000</td>\n",
       "      <td>905.000000</td>\n",
       "      <td>905.000000</td>\n",
       "    </tr>\n",
       "    <tr>\n",
       "      <th>mean</th>\n",
       "      <td>453.000000</td>\n",
       "      <td>351.367956</td>\n",
       "      <td>77.662983</td>\n",
       "      <td>89.240884</td>\n",
       "      <td>89.038674</td>\n",
       "      <td>90.453039</td>\n",
       "      <td>2.671823</td>\n",
       "      <td>1.949171</td>\n",
       "      <td>0.351381</td>\n",
       "    </tr>\n",
       "    <tr>\n",
       "      <th>std</th>\n",
       "      <td>261.395295</td>\n",
       "      <td>27.547675</td>\n",
       "      <td>15.383455</td>\n",
       "      <td>7.546133</td>\n",
       "      <td>9.649823</td>\n",
       "      <td>6.576663</td>\n",
       "      <td>2.983645</td>\n",
       "      <td>0.314934</td>\n",
       "      <td>0.761534</td>\n",
       "    </tr>\n",
       "    <tr>\n",
       "      <th>min</th>\n",
       "      <td>1.000000</td>\n",
       "      <td>268.000000</td>\n",
       "      <td>50.000000</td>\n",
       "      <td>62.000000</td>\n",
       "      <td>55.000000</td>\n",
       "      <td>60.000000</td>\n",
       "      <td>0.000000</td>\n",
       "      <td>0.000000</td>\n",
       "      <td>0.000000</td>\n",
       "    </tr>\n",
       "    <tr>\n",
       "      <th>25%</th>\n",
       "      <td>227.000000</td>\n",
       "      <td>332.000000</td>\n",
       "      <td>65.000000</td>\n",
       "      <td>84.000000</td>\n",
       "      <td>84.000000</td>\n",
       "      <td>86.000000</td>\n",
       "      <td>0.000000</td>\n",
       "      <td>2.000000</td>\n",
       "      <td>0.000000</td>\n",
       "    </tr>\n",
       "    <tr>\n",
       "      <th>50%</th>\n",
       "      <td>453.000000</td>\n",
       "      <td>354.000000</td>\n",
       "      <td>80.000000</td>\n",
       "      <td>90.000000</td>\n",
       "      <td>91.000000</td>\n",
       "      <td>92.000000</td>\n",
       "      <td>0.000000</td>\n",
       "      <td>2.000000</td>\n",
       "      <td>0.000000</td>\n",
       "    </tr>\n",
       "    <tr>\n",
       "      <th>75%</th>\n",
       "      <td>679.000000</td>\n",
       "      <td>371.000000</td>\n",
       "      <td>90.000000</td>\n",
       "      <td>96.000000</td>\n",
       "      <td>97.000000</td>\n",
       "      <td>96.000000</td>\n",
       "      <td>6.000000</td>\n",
       "      <td>2.000000</td>\n",
       "      <td>0.000000</td>\n",
       "    </tr>\n",
       "    <tr>\n",
       "      <th>max</th>\n",
       "      <td>905.000000</td>\n",
       "      <td>408.000000</td>\n",
       "      <td>100.000000</td>\n",
       "      <td>100.000000</td>\n",
       "      <td>100.000000</td>\n",
       "      <td>100.000000</td>\n",
       "      <td>6.000000</td>\n",
       "      <td>2.000000</td>\n",
       "      <td>2.000000</td>\n",
       "    </tr>\n",
       "  </tbody>\n",
       "</table>\n",
       "</div>"
      ],
      "text/plain": [
       "                №       сумма         ДВИ  математика      физика     русский  \\\n",
       "count  905.000000  905.000000  905.000000  905.000000  905.000000  905.000000   \n",
       "mean   453.000000  351.367956   77.662983   89.240884   89.038674   90.453039   \n",
       "std    261.395295   27.547675   15.383455    7.546133    9.649823    6.576663   \n",
       "min      1.000000  268.000000   50.000000   62.000000   55.000000   60.000000   \n",
       "25%    227.000000  332.000000   65.000000   84.000000   84.000000   86.000000   \n",
       "50%    453.000000  354.000000   80.000000   90.000000   91.000000   92.000000   \n",
       "75%    679.000000  371.000000   90.000000   96.000000   97.000000   96.000000   \n",
       "max    905.000000  408.000000  100.000000  100.000000  100.000000  100.000000   \n",
       "\n",
       "         аттестат   сочинение         ГТО  \n",
       "count  905.000000  905.000000  905.000000  \n",
       "mean     2.671823    1.949171    0.351381  \n",
       "std      2.983645    0.314934    0.761534  \n",
       "min      0.000000    0.000000    0.000000  \n",
       "25%      0.000000    2.000000    0.000000  \n",
       "50%      0.000000    2.000000    0.000000  \n",
       "75%      6.000000    2.000000    0.000000  \n",
       "max      6.000000    2.000000    2.000000  "
      ]
     },
     "execution_count": 219,
     "metadata": {},
     "output_type": "execute_result"
    }
   ],
   "source": [
    "entrants.describe()"
   ]
  },
  {
   "cell_type": "code",
   "execution_count": 220,
   "id": "c9fd5f43",
   "metadata": {},
   "outputs": [
    {
     "data": {
      "text/html": [
       "<div>\n",
       "<style scoped>\n",
       "    .dataframe tbody tr th:only-of-type {\n",
       "        vertical-align: middle;\n",
       "    }\n",
       "\n",
       "    .dataframe tbody tr th {\n",
       "        vertical-align: top;\n",
       "    }\n",
       "\n",
       "    .dataframe thead th {\n",
       "        text-align: right;\n",
       "    }\n",
       "</style>\n",
       "<table border=\"1\" class=\"dataframe\">\n",
       "  <thead>\n",
       "    <tr style=\"text-align: right;\">\n",
       "      <th></th>\n",
       "      <th>№</th>\n",
       "      <th>Наличие согласия</th>\n",
       "      <th>Согласие в МГУ</th>\n",
       "      <th>сумма</th>\n",
       "      <th>ДВИ</th>\n",
       "      <th>математика</th>\n",
       "      <th>физика</th>\n",
       "      <th>русский</th>\n",
       "      <th>аттестат</th>\n",
       "      <th>сочинение</th>\n",
       "      <th>ГТО</th>\n",
       "      <th>общежитие</th>\n",
       "    </tr>\n",
       "  </thead>\n",
       "  <tbody>\n",
       "    <tr>\n",
       "      <th>0</th>\n",
       "      <td>1</td>\n",
       "      <td>True</td>\n",
       "      <td>True</td>\n",
       "      <td>408</td>\n",
       "      <td>100</td>\n",
       "      <td>100</td>\n",
       "      <td>100</td>\n",
       "      <td>100</td>\n",
       "      <td>6</td>\n",
       "      <td>2</td>\n",
       "      <td>0</td>\n",
       "      <td>False</td>\n",
       "    </tr>\n",
       "    <tr>\n",
       "      <th>1</th>\n",
       "      <td>2</td>\n",
       "      <td>False</td>\n",
       "      <td>False</td>\n",
       "      <td>408</td>\n",
       "      <td>100</td>\n",
       "      <td>100</td>\n",
       "      <td>100</td>\n",
       "      <td>100</td>\n",
       "      <td>6</td>\n",
       "      <td>2</td>\n",
       "      <td>0</td>\n",
       "      <td>False</td>\n",
       "    </tr>\n",
       "    <tr>\n",
       "      <th>2</th>\n",
       "      <td>3</td>\n",
       "      <td>False</td>\n",
       "      <td>False</td>\n",
       "      <td>408</td>\n",
       "      <td>100</td>\n",
       "      <td>100</td>\n",
       "      <td>100</td>\n",
       "      <td>100</td>\n",
       "      <td>6</td>\n",
       "      <td>2</td>\n",
       "      <td>0</td>\n",
       "      <td>True</td>\n",
       "    </tr>\n",
       "    <tr>\n",
       "      <th>3</th>\n",
       "      <td>4</td>\n",
       "      <td>False</td>\n",
       "      <td>True</td>\n",
       "      <td>408</td>\n",
       "      <td>100</td>\n",
       "      <td>100</td>\n",
       "      <td>100</td>\n",
       "      <td>100</td>\n",
       "      <td>6</td>\n",
       "      <td>2</td>\n",
       "      <td>0</td>\n",
       "      <td>False</td>\n",
       "    </tr>\n",
       "    <tr>\n",
       "      <th>4</th>\n",
       "      <td>5</td>\n",
       "      <td>False</td>\n",
       "      <td>False</td>\n",
       "      <td>407</td>\n",
       "      <td>100</td>\n",
       "      <td>99</td>\n",
       "      <td>100</td>\n",
       "      <td>100</td>\n",
       "      <td>6</td>\n",
       "      <td>2</td>\n",
       "      <td>0</td>\n",
       "      <td>True</td>\n",
       "    </tr>\n",
       "    <tr>\n",
       "      <th>...</th>\n",
       "      <td>...</td>\n",
       "      <td>...</td>\n",
       "      <td>...</td>\n",
       "      <td>...</td>\n",
       "      <td>...</td>\n",
       "      <td>...</td>\n",
       "      <td>...</td>\n",
       "      <td>...</td>\n",
       "      <td>...</td>\n",
       "      <td>...</td>\n",
       "      <td>...</td>\n",
       "      <td>...</td>\n",
       "    </tr>\n",
       "    <tr>\n",
       "      <th>900</th>\n",
       "      <td>901</td>\n",
       "      <td>False</td>\n",
       "      <td>True</td>\n",
       "      <td>277</td>\n",
       "      <td>55</td>\n",
       "      <td>72</td>\n",
       "      <td>64</td>\n",
       "      <td>78</td>\n",
       "      <td>6</td>\n",
       "      <td>2</td>\n",
       "      <td>0</td>\n",
       "      <td>True</td>\n",
       "    </tr>\n",
       "    <tr>\n",
       "      <th>901</th>\n",
       "      <td>902</td>\n",
       "      <td>False</td>\n",
       "      <td>False</td>\n",
       "      <td>275</td>\n",
       "      <td>50</td>\n",
       "      <td>78</td>\n",
       "      <td>57</td>\n",
       "      <td>80</td>\n",
       "      <td>6</td>\n",
       "      <td>2</td>\n",
       "      <td>2</td>\n",
       "      <td>True</td>\n",
       "    </tr>\n",
       "    <tr>\n",
       "      <th>902</th>\n",
       "      <td>903</td>\n",
       "      <td>False</td>\n",
       "      <td>True</td>\n",
       "      <td>272</td>\n",
       "      <td>60</td>\n",
       "      <td>70</td>\n",
       "      <td>60</td>\n",
       "      <td>80</td>\n",
       "      <td>0</td>\n",
       "      <td>2</td>\n",
       "      <td>0</td>\n",
       "      <td>False</td>\n",
       "    </tr>\n",
       "    <tr>\n",
       "      <th>903</th>\n",
       "      <td>904</td>\n",
       "      <td>False</td>\n",
       "      <td>True</td>\n",
       "      <td>270</td>\n",
       "      <td>70</td>\n",
       "      <td>70</td>\n",
       "      <td>57</td>\n",
       "      <td>69</td>\n",
       "      <td>0</td>\n",
       "      <td>2</td>\n",
       "      <td>2</td>\n",
       "      <td>False</td>\n",
       "    </tr>\n",
       "    <tr>\n",
       "      <th>904</th>\n",
       "      <td>905</td>\n",
       "      <td>False</td>\n",
       "      <td>False</td>\n",
       "      <td>268</td>\n",
       "      <td>65</td>\n",
       "      <td>62</td>\n",
       "      <td>61</td>\n",
       "      <td>76</td>\n",
       "      <td>0</td>\n",
       "      <td>2</td>\n",
       "      <td>2</td>\n",
       "      <td>False</td>\n",
       "    </tr>\n",
       "  </tbody>\n",
       "</table>\n",
       "<p>905 rows × 12 columns</p>\n",
       "</div>"
      ],
      "text/plain": [
       "       №  Наличие согласия  Согласие в МГУ  сумма  ДВИ  математика  физика  \\\n",
       "0      1              True            True    408  100         100     100   \n",
       "1      2             False           False    408  100         100     100   \n",
       "2      3             False           False    408  100         100     100   \n",
       "3      4             False            True    408  100         100     100   \n",
       "4      5             False           False    407  100          99     100   \n",
       "..   ...               ...             ...    ...  ...         ...     ...   \n",
       "900  901             False            True    277   55          72      64   \n",
       "901  902             False           False    275   50          78      57   \n",
       "902  903             False            True    272   60          70      60   \n",
       "903  904             False            True    270   70          70      57   \n",
       "904  905             False           False    268   65          62      61   \n",
       "\n",
       "     русский  аттестат  сочинение  ГТО  общежитие  \n",
       "0        100         6          2    0      False  \n",
       "1        100         6          2    0      False  \n",
       "2        100         6          2    0       True  \n",
       "3        100         6          2    0      False  \n",
       "4        100         6          2    0       True  \n",
       "..       ...       ...        ...  ...        ...  \n",
       "900       78         6          2    0       True  \n",
       "901       80         6          2    2       True  \n",
       "902       80         0          2    0      False  \n",
       "903       69         0          2    2      False  \n",
       "904       76         0          2    2      False  \n",
       "\n",
       "[905 rows x 12 columns]"
      ]
     },
     "execution_count": 220,
     "metadata": {},
     "output_type": "execute_result"
    }
   ],
   "source": [
    "entrants"
   ]
  },
  {
   "cell_type": "markdown",
   "id": "mw2_SfaB-7Bl",
   "metadata": {
    "id": "mw2_SfaB-7Bl"
   },
   "source": [
    "\n",
    "Первое, что стоит сделать — посмотреть как выглядит распределение суммы баллов на гистограмме. Мы увидим, какую структуру имеют данные."
   ]
  },
  {
   "cell_type": "code",
   "execution_count": 221,
   "id": "qWmmRaBD-7Bm",
   "metadata": {
    "colab": {
     "base_uri": "https://localhost:8080/",
     "height": 282
    },
    "id": "qWmmRaBD-7Bm",
    "outputId": "91c509a7-93be-4a89-8d3f-fff18996aa80"
   },
   "outputs": [
    {
     "data": {
      "text/plain": [
       "<AxesSubplot:ylabel='Frequency'>"
      ]
     },
     "execution_count": 221,
     "metadata": {},
     "output_type": "execute_result"
    },
    {
     "data": {
      "image/png": "[encoded data removed]",
      "text/plain": [
       "<Figure size 640x480 with 1 Axes>"
      ]
     },
     "metadata": {},
     "output_type": "display_data"
    }
   ],
   "source": [
    "entrants['сумма'].plot.hist(bins=40)"
   ]
  },
  {
   "cell_type": "markdown",
   "id": "XkZKGkAf-7Bm",
   "metadata": {
    "id": "XkZKGkAf-7Bm"
   },
   "source": [
    "### Задания по визуализации и анализу данных студентов мехмата МГУ\n",
    "1. Проверьте, такое же ли распределение получается у студентов, сдавших успешно ГТО?\n",
    "   Может быть, ГТО существенно повлияло на их поступление, хотя они менее или более талантливы, чем другие студенты?\n",
    "2. А что насчет несдавших ГТО?\n",
    "3. Выдвинем следующую гипотезу: студенты, успешно сдавшие ЕГЭ по математике, должны были хорошо сдать и ДВИ.\n",
    "   a. Изобразить поточечный график (scatter plot)\n",
    "   b. Изобразить \"свечи\" (ящики с услами) `entrants.pivot_table(index='№', columns='ДВИ', values='математика').boxplot()`\n",
    "   c. Построить график среднего арифметического баллов ЕГЭ в зависимости от балла ДВИ.\n",
    "   d. Сделать заключение (без строгого статистического доказательства) о наличии зависимости\n",
    "4. Гипотеза: баллы по физике ДВИ кореллируют с баллами по математике. Построить аналогичные графики.\n",
    "5. Протестировать другие пары предметов.\n",
    "6. Предложить какой-нибудь интересный график на основе этих данных."
   ]
  },
  {
   "cell_type": "code",
   "execution_count": null,
   "id": "3d80d315",
   "metadata": {},
   "outputs": [],
   "source": []
  }
 ],
 "metadata": {
  "colab": {
   "collapsed_sections": [
    "T2tUqBRcJG2j"
   ],
   "provenance": []
  },
  "kernelspec": {
   "display_name": "Python 3 (ipykernel)",
   "language": "python",
   "name": "python3"
  },
  "language_info": {
   "codemirror_mode": {
    "name": "ipython",
    "version": 3
   },
   "file_extension": ".py",
   "mimetype": "text/x-python",
   "name": "python",
   "nbconvert_exporter": "python",
   "pygments_lexer": "ipython3",
   "version": "3.7.11"
  }
 },
 "nbformat": 4,
 "nbformat_minor": 5
}
