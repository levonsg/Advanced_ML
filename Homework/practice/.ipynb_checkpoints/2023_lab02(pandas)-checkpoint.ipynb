{
 "cells": [
  {
   "cell_type": "code",
   "execution_count": 1,
   "id": "b682f4cf",
   "metadata": {},
   "outputs": [
    {
     "ename": "SyntaxError",
     "evalue": "illegal target for annotation (2384791603.py, line 1)",
     "output_type": "error",
     "traceback": [
      "\u001b[1;36m  Input \u001b[1;32mIn [1]\u001b[1;36m\u001b[0m\n\u001b[1;33m    - title: Занятие 2\u001b[0m\n\u001b[1;37m    ^\u001b[0m\n\u001b[1;31mSyntaxError\u001b[0m\u001b[1;31m:\u001b[0m illegal target for annotation\n"
     ]
    }
   ],
   "source": [
    "- title: Занятие 2\n",
    "- author: Smertyak Nikita\n",
    "- date: 2023-02-10\n",
    "- slug: 2023_lab02\n",
    "- ipynb_url: download/2023_lab02.ipynb"
   ]
  },
  {
   "cell_type": "markdown",
   "id": "b4a3d4d8",
   "metadata": {
    "id": "b4a3d4d8"
   },
   "source": [
    "# Библиотека Pandas\n",
    "В прошлом занятии мы пользовались библиотекой Numpy для анализа данных, а теперь давайте разберёмся с Pandas."
   ]
  },
  {
   "cell_type": "code",
   "execution_count": 1,
   "id": "b9eab5b4",
   "metadata": {
    "id": "b9eab5b4"
   },
   "outputs": [],
   "source": [
    "import numpy as np\n",
    "import pandas as pd"
   ]
  },
  {
   "cell_type": "markdown",
   "id": "b8de7c52",
   "metadata": {
    "id": "b8de7c52"
   },
   "source": [
    "## Объекты класса `pandas.Series`\n",
    "Серия — это массив NumPy, но с именем и с дополнительной индексацией ячеек: индексами на основе меток (label-based indexing).\n",
    "\n",
    "Если индексы-метки не указать при создании серии, то по умолчанию они совпадают с порядковыми индексами от 0."
   ]
  },
  {
   "cell_type": "code",
   "execution_count": 2,
   "id": "d96759c3",
   "metadata": {
    "id": "d96759c3",
    "outputId": "af67bc2b-2c55-4250-97cf-4fd95ceeaa0e"
   },
   "outputs": [
    {
     "name": "stdout",
     "output_type": "stream",
     "text": [
      "0    22\n",
      "1    35\n",
      "2    25\n",
      "3    16\n",
      "Name: age, dtype: int64\n"
     ]
    }
   ],
   "source": [
    "ages = pd.Series([22, 35, 25, 16], name=\"age\")\n",
    "print(ages)"
   ]
  },
  {
   "cell_type": "markdown",
   "id": "7beff3dd",
   "metadata": {
    "id": "7beff3dd"
   },
   "source": [
    "Можно явно указать индексы через параметр конструктора `index`:"
   ]
  },
  {
   "cell_type": "code",
   "execution_count": 3,
   "id": "485f028c",
   "metadata": {
    "id": "485f028c",
    "outputId": "7f315667-ffcf-4d6a-a755-dbcc6cd65333"
   },
   "outputs": [
    {
     "name": "stdout",
     "output_type": "stream",
     "text": [
      "Aline       22\n",
      "Beatrice    35\n",
      "Clara       25\n",
      "Diana       16\n",
      "Name: age, dtype: int32\n"
     ]
    }
   ],
   "source": [
    "named_ages = pd.Series(data=[22, 35, 25, 16], index=[\"Aline\", \"Beatrice\", \"Clara\", \"Diana\"], dtype=np.int32, name=\"age\")\n",
    "print(named_ages)"
   ]
  },
  {
   "cell_type": "markdown",
   "id": "6b641637",
   "metadata": {
    "id": "6b641637"
   },
   "source": [
    "Доступ с квадратными скобками `series[i]` возможен как через числовые индексы, так и по меткам:"
   ]
  },
  {
   "cell_type": "code",
   "execution_count": 4,
   "id": "43737f42",
   "metadata": {
    "id": "43737f42",
    "outputId": "4900c633-3b4e-45fc-cb1c-f67f592b68c2"
   },
   "outputs": [
    {
     "data": {
      "text/plain": [
       "35"
      ]
     },
     "execution_count": 4,
     "metadata": {},
     "output_type": "execute_result"
    }
   ],
   "source": [
    "named_ages[\"Beatrice\"]"
   ]
  },
  {
   "cell_type": "code",
   "execution_count": 5,
   "id": "29b942e9",
   "metadata": {
    "id": "29b942e9",
    "outputId": "60d0b9d6-8d2a-473d-ff82-9e2c7e2dbdf0"
   },
   "outputs": [
    {
     "data": {
      "text/plain": [
       "35"
      ]
     },
     "execution_count": 5,
     "metadata": {},
     "output_type": "execute_result"
    }
   ],
   "source": [
    "named_ages[1]"
   ]
  },
  {
   "cell_type": "markdown",
   "id": "4a458cfd",
   "metadata": {
    "id": "4a458cfd"
   },
   "source": [
    "### Сложности двойной индексации и их решение: `loc`, `iloc`, `at`, `iat`\n",
    "Создадим простую серию с числами и возьмём её срез:"
   ]
  },
  {
   "cell_type": "code",
   "execution_count": 6,
   "id": "c8fb5e93",
   "metadata": {
    "id": "c8fb5e93",
    "outputId": "00e6563a-bbdf-4901-c34e-de41ba734257"
   },
   "outputs": [
    {
     "name": "stdout",
     "output_type": "stream",
     "text": [
      "2    200\n",
      "3    300\n",
      "4    400\n",
      "5    500\n",
      "6    600\n",
      "dtype: int64\n"
     ]
    }
   ],
   "source": [
    "numbers = pd.Series(range(0, 1000, 100))\n",
    "the_slice = numbers[2:7]\n",
    "print(the_slice)"
   ]
  },
  {
   "cell_type": "markdown",
   "id": "e72c0a28",
   "metadata": {
    "id": "e72c0a28"
   },
   "source": [
    "Обратите внимание, что после среза индексы-метки остались закреплёнными за своими значениями элементов.\n",
    "Это правильно с точки зрения *идентификации* хранимых данных. Особенно, если данные про одну сущность будут находиться в разных сериях и потом их нужно будет сопоставлять.\n",
    "\n",
    "Однако, в результате появляется **неоднозначность индексации**.\n",
    "\n",
    "Доступ с квадратными скобками теперь работает только по индексам-меткам:"
   ]
  },
  {
   "cell_type": "code",
   "execution_count": 7,
   "id": "0796371e",
   "metadata": {
    "id": "0796371e",
    "outputId": "7eb47cdc-8f7b-4c63-cd88-6027e58514b0"
   },
   "outputs": [
    {
     "data": {
      "text/plain": [
       "200"
      ]
     },
     "execution_count": 7,
     "metadata": {},
     "output_type": "execute_result"
    }
   ],
   "source": [
    "the_slice[2]"
   ]
  },
  {
   "cell_type": "markdown",
   "id": "55b4fc51",
   "metadata": {
    "id": "55b4fc51"
   },
   "source": [
    "Если же для такой неоднозначной ситуации взять срез, то мы получим \"жёлтую карточку\" — предупреждение от Pandas:"
   ]
  },
  {
   "cell_type": "code",
   "execution_count": 8,
   "id": "79662891",
   "metadata": {
    "id": "79662891",
    "outputId": "63b4571c-260c-4ae1-ff5c-e078b4c59a4f"
   },
   "outputs": [
    {
     "data": {
      "text/plain": [
       "4    400\n",
       "5    500\n",
       "6    600\n",
       "dtype: int64"
      ]
     },
     "execution_count": 8,
     "metadata": {},
     "output_type": "execute_result"
    }
   ],
   "source": [
    "the_slice[2:5]"
   ]
  },
  {
   "cell_type": "markdown",
   "id": "e3f229ac",
   "metadata": {
    "id": "e3f229ac"
   },
   "source": [
    "Как видите, мы получили срез по порядковым индексам, но  *библиотека предупреждает о будущем изменении поведения*: скоро в таких ситуациях будет осуществляться срез по индексам-меткам.\n",
    "\n",
    "Достоверно доступиться к элементам серии по порядковому индексу можно через **локатор** `iloc`:"
   ]
  },
  {
   "cell_type": "code",
   "execution_count": 9,
   "id": "6abb1f8b",
   "metadata": {
    "id": "6abb1f8b",
    "outputId": "6428d451-2bf1-4f48-b14b-5cd6439c8684"
   },
   "outputs": [
    {
     "data": {
      "text/plain": [
       "4    400\n",
       "5    500\n",
       "6    600\n",
       "dtype: int64"
      ]
     },
     "execution_count": 9,
     "metadata": {},
     "output_type": "execute_result"
    }
   ],
   "source": [
    "the_slice.iloc[2:5]"
   ]
  },
  {
   "cell_type": "markdown",
   "id": "1c21077c",
   "metadata": {
    "id": "1c21077c"
   },
   "source": [
    "А достоверный доступ и срез через индексы-метки мы получим через **локатор** `loc`:"
   ]
  },
  {
   "cell_type": "code",
   "execution_count": 10,
   "id": "b9136771",
   "metadata": {
    "id": "b9136771",
    "outputId": "6f1eb658-b967-419b-a0be-b75c8d93bddd"
   },
   "outputs": [
    {
     "data": {
      "text/plain": [
       "2    200\n",
       "3    300\n",
       "4    400\n",
       "5    500\n",
       "dtype: int64"
      ]
     },
     "execution_count": 10,
     "metadata": {},
     "output_type": "execute_result"
    }
   ],
   "source": [
    "the_slice.loc[2:5]"
   ]
  },
  {
   "cell_type": "markdown",
   "id": "aaa61706",
   "metadata": {
    "id": "aaa61706"
   },
   "source": [
    "Взгляните! элемент с индексом-меткой 5 включён в срез, что противоречит логике `range(start, stop, step)`.\n",
    "Почему так?! Подумайте про срезы с метками строкового типа и посмотрите на пример ниже:"
   ]
  },
  {
   "cell_type": "code",
   "execution_count": 11,
   "id": "9bd9019d",
   "metadata": {
    "id": "9bd9019d",
    "outputId": "bb6bf56f-47c6-49c3-a8f8-3428b585d4c6"
   },
   "outputs": [
    {
     "data": {
      "text/plain": [
       "Beatrice    35\n",
       "Clara       25\n",
       "Diana       16\n",
       "Name: age, dtype: int32"
      ]
     },
     "execution_count": 11,
     "metadata": {},
     "output_type": "execute_result"
    }
   ],
   "source": [
    "named_ages.loc[\"Beatrice\":\"Diana\"]"
   ]
  },
  {
   "cell_type": "markdown",
   "id": "9e37cc0a",
   "metadata": {
    "id": "9e37cc0a"
   },
   "source": [
    "Если доступ нужен только к одному элементу, то можно вместо `loc` и `iloc` воспользоватсья `at` и `iat`:"
   ]
  },
  {
   "cell_type": "code",
   "execution_count": 12,
   "id": "770aaa37",
   "metadata": {
    "id": "770aaa37",
    "outputId": "60943af4-b277-494d-db4d-fc024ec9f707"
   },
   "outputs": [
    {
     "data": {
      "text/plain": [
       "400"
      ]
     },
     "execution_count": 12,
     "metadata": {},
     "output_type": "execute_result"
    }
   ],
   "source": [
    "the_slice.at[4]"
   ]
  },
  {
   "cell_type": "code",
   "execution_count": 13,
   "id": "12ec1e9c",
   "metadata": {
    "id": "12ec1e9c",
    "outputId": "e017e583-3c9e-4446-ffbb-45f4ea652ef2"
   },
   "outputs": [
    {
     "data": {
      "text/plain": [
       "600"
      ]
     },
     "execution_count": 13,
     "metadata": {},
     "output_type": "execute_result"
    }
   ],
   "source": [
    "the_slice.iat[4]"
   ]
  },
  {
   "cell_type": "markdown",
   "id": "e32efe61",
   "metadata": {
    "id": "e32efe61"
   },
   "source": [
    "### Добавление данных в серию, удаление\n",
    "В отличие от массивов NumPy, серии имеют переменный размер:"
   ]
  },
  {
   "cell_type": "code",
   "execution_count": 14,
   "id": "34b30486",
   "metadata": {
    "id": "34b30486",
    "outputId": "2e492b7d-ba0e-4fb7-ded8-ac1d0865e779"
   },
   "outputs": [
    {
     "name": "stdout",
     "output_type": "stream",
     "text": [
      "1     0\n",
      "2    10\n",
      "3    20\n",
      "4    30\n",
      "dtype: int64\n"
     ]
    }
   ],
   "source": [
    "s = pd.Series(data=[0, 10, 20, 30], index=[1, 2, 3, 4])\n",
    "print(s)"
   ]
  },
  {
   "cell_type": "code",
   "execution_count": 15,
   "id": "2e285f57",
   "metadata": {
    "id": "2e285f57",
    "outputId": "e61e7147-fec3-4f2f-bb5d-c23cdef519a4"
   },
   "outputs": [
    {
     "data": {
      "text/plain": [
       "0"
      ]
     },
     "execution_count": 15,
     "metadata": {},
     "output_type": "execute_result"
    }
   ],
   "source": [
    "s.pop(1) # удаление элемента с индексом-меткой 1"
   ]
  },
  {
   "cell_type": "code",
   "execution_count": 16,
   "id": "11bf9108",
   "metadata": {
    "id": "11bf9108",
    "outputId": "5555eb04-f9f2-4fab-bbcc-83e135ebd290"
   },
   "outputs": [
    {
     "name": "stdout",
     "output_type": "stream",
     "text": [
      "2    10\n",
      "3    20\n",
      "4    30\n",
      "dtype: int64\n"
     ]
    }
   ],
   "source": [
    "print(s)"
   ]
  },
  {
   "cell_type": "markdown",
   "id": "f69f9afd",
   "metadata": {
    "id": "f69f9afd"
   },
   "source": [
    "Добавление элементов с присваиванием индекса-метки можно делать через локатор `loc`:"
   ]
  },
  {
   "cell_type": "code",
   "execution_count": 18,
   "id": "4c21092b",
   "metadata": {
    "id": "4c21092b",
    "outputId": "0992d796-1252-474d-d10c-0d6258357e15"
   },
   "outputs": [
    {
     "name": "stdout",
     "output_type": "stream",
     "text": [
      "2    10\n",
      "3    20\n",
      "4    30\n",
      "5    50\n",
      "dtype: int64\n"
     ]
    }
   ],
   "source": [
    "s.loc[5] = 50\n",
    "print(s)"
   ]
  },
  {
   "cell_type": "markdown",
   "id": "c2d2b144",
   "metadata": {
    "id": "c2d2b144"
   },
   "source": [
    "Обратите внимание, что таким добавлением можно нарушить порядок индексов:"
   ]
  },
  {
   "cell_type": "code",
   "execution_count": 19,
   "id": "72f72a4d",
   "metadata": {
    "id": "72f72a4d",
    "outputId": "a0c38166-7b9f-45d2-a953-b22a418c4a23"
   },
   "outputs": [
    {
     "name": "stdout",
     "output_type": "stream",
     "text": [
      "2     10\n",
      "3     20\n",
      "4     30\n",
      "5     50\n",
      "1    100\n",
      "dtype: int64\n"
     ]
    }
   ],
   "source": [
    "s.loc[1] = 100\n",
    "print(s)"
   ]
  },
  {
   "cell_type": "markdown",
   "id": "8c537037",
   "metadata": {
    "id": "8c537037"
   },
   "source": [
    "Если индексы-метки нужно пересортировать, можно сделать это при помощи `sort_index`:"
   ]
  },
  {
   "cell_type": "code",
   "execution_count": 20,
   "id": "f1eb6f2e",
   "metadata": {
    "id": "f1eb6f2e",
    "outputId": "59b1a59c-1b8d-42a4-aa24-660976ed1fc5"
   },
   "outputs": [
    {
     "name": "stdout",
     "output_type": "stream",
     "text": [
      "1    100\n",
      "2     10\n",
      "3     20\n",
      "4     30\n",
      "5     50\n",
      "dtype: int64\n"
     ]
    }
   ],
   "source": [
    "s.sort_index(inplace=True)\n",
    "print(s)"
   ]
  },
  {
   "cell_type": "markdown",
   "id": "c6dc7bad",
   "metadata": {
    "id": "c6dc7bad"
   },
   "source": [
    "Ещё более курьёзную ситуацию с индексами можно создать при помощи конкатенации серий функцией `pd.concat`:"
   ]
  },
  {
   "cell_type": "code",
   "execution_count": 21,
   "id": "c7e3b1e4",
   "metadata": {
    "id": "c7e3b1e4",
    "outputId": "d302c9c3-6428-4710-d7f9-704a2e6dc540"
   },
   "outputs": [
    {
     "name": "stdout",
     "output_type": "stream",
     "text": [
      "1     10\n",
      "2     20\n",
      "4     40\n",
      "1    100\n",
      "2    200\n",
      "3    300\n",
      "dtype: int64\n"
     ]
    }
   ],
   "source": [
    "a = pd.Series(data=[10, 20, 40], index=[1, 2, 4])\n",
    "b = pd.Series(data=[100, 200, 300], index=[1, 2, 3])\n",
    "c = pd.concat([a, b])\n",
    "print(c)"
   ]
  },
  {
   "cell_type": "code",
   "execution_count": 22,
   "id": "1dc6e016",
   "metadata": {
    "id": "1dc6e016",
    "outputId": "21c35372-553b-42d4-9f85-49637ba2c74a"
   },
   "outputs": [
    {
     "data": {
      "text/plain": [
       "Int64Index([1, 2, 4, 1, 2, 3], dtype='int64')"
      ]
     },
     "execution_count": 22,
     "metadata": {},
     "output_type": "execute_result"
    }
   ],
   "source": [
    "c.index"
   ]
  },
  {
   "cell_type": "code",
   "execution_count": 23,
   "id": "3392d378",
   "metadata": {
    "id": "3392d378",
    "outputId": "9593622f-0a09-4213-bb04-71d9e6b8d250"
   },
   "outputs": [
    {
     "name": "stdout",
     "output_type": "stream",
     "text": [
      "1    10000\n",
      "2       20\n",
      "4       40\n",
      "1    10000\n",
      "2      200\n",
      "3      300\n",
      "dtype: int64\n"
     ]
    }
   ],
   "source": [
    "c[1] = 10000\n",
    "print(c)"
   ]
  },
  {
   "cell_type": "markdown",
   "id": "492035ab",
   "metadata": {
    "id": "492035ab"
   },
   "source": [
    "Итак, **индексы-метки могут оказаться не уникальными**!!! И присваивание в такую метку приводит к изменению всех значений с этой меткой.\n",
    "\n",
    "Лучше такой ситуации не создавать. Вот так можно проверить, что метки уникальны:"
   ]
  },
  {
   "cell_type": "code",
   "execution_count": 22,
   "id": "072eba77",
   "metadata": {},
   "outputs": [
    {
     "data": {
      "text/plain": [
       "1     10\n",
       "1    100\n",
       "dtype: int64"
      ]
     },
     "execution_count": 22,
     "metadata": {},
     "output_type": "execute_result"
    }
   ],
   "source": [
    "c.at[1]"
   ]
  },
  {
   "cell_type": "code",
   "execution_count": 23,
   "id": "5deb2a8f",
   "metadata": {
    "id": "5deb2a8f",
    "outputId": "b9a67ce2-e185-46b3-bf4b-bb97634fe597"
   },
   "outputs": [
    {
     "data": {
      "text/plain": [
       "False"
      ]
     },
     "execution_count": 23,
     "metadata": {},
     "output_type": "execute_result"
    }
   ],
   "source": [
    "c.index.is_unique"
   ]
  },
  {
   "cell_type": "markdown",
   "id": "eefbeed4",
   "metadata": {
    "id": "eefbeed4"
   },
   "source": [
    "### Редукция серий\n",
    "Агрегирующие методы по сравнению с массивами `NumPy.ndarray` в сериях переопределены: в них допускаются и просто игнорируются пустые ячейки, которые представлены как `NaN` (Not a Number)."
   ]
  },
  {
   "cell_type": "code",
   "execution_count": 24,
   "id": "b1569e0d",
   "metadata": {
    "id": "b1569e0d",
    "outputId": "07d3e019-af20-4848-dbd7-3d86f30dab6f",
    "scrolled": true
   },
   "outputs": [
    {
     "name": "stdout",
     "output_type": "stream",
     "text": [
      "<class 'numpy.ndarray'>\n",
      "nan\tnan\tnan\tnan\n",
      "<class 'pandas.core.series.Series'>\n",
      "1.0\t5.0\t13.0\t45.0\n"
     ]
    }
   ],
   "source": [
    "values = [1, 3, 5, np.nan, 1, np.nan, 3]\n",
    "array = np.array(values)\n",
    "series = pd.Series(values)\n",
    "\n",
    "for container in array, series:\n",
    "    print(type(container))\n",
    "    print(container.min(), container.max(), container.sum(), container.prod(), sep='\\t')"
   ]
  },
  {
   "cell_type": "markdown",
   "id": "c84b2e5f",
   "metadata": {
    "id": "c84b2e5f"
   },
   "source": [
    "Уникальные значения из серии можно получить методом `unique`. Только нужно понимать, что результат — это уже не серия, а просто массив NumPy, поскольку для массива уникальных значений теряется смысл индексов-меток:"
   ]
  },
  {
   "cell_type": "code",
   "execution_count": 26,
   "id": "75b8bebf",
   "metadata": {
    "id": "75b8bebf",
    "outputId": "4b8ac3bb-5a92-45dd-8474-e2c309a5c6f1"
   },
   "outputs": [
    {
     "data": {
      "text/plain": [
       "array([ 1.,  3.,  5., nan])"
      ]
     },
     "execution_count": 26,
     "metadata": {},
     "output_type": "execute_result"
    }
   ],
   "source": [
    "series.unique()"
   ]
  },
  {
   "cell_type": "markdown",
   "id": "defce482",
   "metadata": {
    "id": "defce482"
   },
   "source": [
    "Частотный анализ для значений в серии можно запустить методом `value_counts`:"
   ]
  },
  {
   "cell_type": "code",
   "execution_count": 27,
   "id": "e47c3d33",
   "metadata": {},
   "outputs": [
    {
     "data": {
      "text/plain": [
       "0    1.0\n",
       "1    3.0\n",
       "2    5.0\n",
       "3    NaN\n",
       "4    1.0\n",
       "5    NaN\n",
       "6    3.0\n",
       "dtype: float64"
      ]
     },
     "execution_count": 27,
     "metadata": {},
     "output_type": "execute_result"
    }
   ],
   "source": [
    "series"
   ]
  },
  {
   "cell_type": "code",
   "execution_count": 28,
   "id": "01fd26b2",
   "metadata": {
    "id": "01fd26b2",
    "outputId": "2d46243b-d941-4f3e-8e0a-d5e2f3ebeac8"
   },
   "outputs": [
    {
     "data": {
      "text/plain": [
       "1.0    2\n",
       "3.0    2\n",
       "5.0    1\n",
       "dtype: int64"
      ]
     },
     "execution_count": 28,
     "metadata": {},
     "output_type": "execute_result"
    }
   ],
   "source": [
    "series.value_counts()"
   ]
  },
  {
   "cell_type": "markdown",
   "id": "027af97f",
   "metadata": {
    "id": "027af97f"
   },
   "source": [
    "Для статистической обработки есть большое количество методов:"
   ]
  },
  {
   "cell_type": "code",
   "execution_count": 29,
   "id": "2a6052cf",
   "metadata": {
    "id": "2a6052cf",
    "outputId": "2fd8914b-9f11-406a-c4e5-a5836bc5f1bc"
   },
   "outputs": [
    {
     "data": {
      "text/plain": [
       "2.6"
      ]
     },
     "execution_count": 29,
     "metadata": {},
     "output_type": "execute_result"
    }
   ],
   "source": [
    "series.mean()  # среднее арифметическое"
   ]
  },
  {
   "cell_type": "code",
   "execution_count": 30,
   "id": "485af556",
   "metadata": {
    "id": "485af556",
    "outputId": "ebfc9b44-ffe5-4b8c-d126-2ee3986be08c"
   },
   "outputs": [
    {
     "data": {
      "text/plain": [
       "1.6733200530681511"
      ]
     },
     "execution_count": 30,
     "metadata": {},
     "output_type": "execute_result"
    }
   ],
   "source": [
    "series.std()  # среднеквадратическое отклонение"
   ]
  },
  {
   "cell_type": "code",
   "execution_count": 31,
   "id": "c5c1a5cd",
   "metadata": {
    "id": "c5c1a5cd",
    "outputId": "4e3396d6-dc90-45a1-9719-cb4b183a51af"
   },
   "outputs": [
    {
     "data": {
      "text/plain": [
       "3.0"
      ]
     },
     "execution_count": 31,
     "metadata": {},
     "output_type": "execute_result"
    }
   ],
   "source": [
    "series.median()  # медиана"
   ]
  },
  {
   "cell_type": "code",
   "execution_count": 33,
   "id": "fdcff23f",
   "metadata": {
    "id": "fdcff23f",
    "outputId": "f59802d5-d16a-484a-9aa0-c1b850bacbf1"
   },
   "outputs": [
    {
     "data": {
      "text/plain": [
       "3.0"
      ]
     },
     "execution_count": 33,
     "metadata": {},
     "output_type": "execute_result"
    }
   ],
   "source": [
    "series.quantile(3/4)  # произвольный квантиль, например, 3-я квартиль (число, меньше либо равно которого 75% чисел серии)"
   ]
  },
  {
   "cell_type": "markdown",
   "id": "26395638",
   "metadata": {
    "id": "26395638"
   },
   "source": [
    "Все функции выше вычислялись только *для содержательных — не пустых* элементов серии. Узнать их количество можно методом `count`:"
   ]
  },
  {
   "cell_type": "code",
   "execution_count": 34,
   "id": "648430e1",
   "metadata": {
    "id": "648430e1",
    "outputId": "f96f1c77-28cc-4fe6-cfef-4f3836cf6cfa"
   },
   "outputs": [
    {
     "data": {
      "text/plain": [
       "5"
      ]
     },
     "execution_count": 34,
     "metadata": {},
     "output_type": "execute_result"
    }
   ],
   "source": [
    "series.count()  # количество содержательных элементов в серии"
   ]
  },
  {
   "cell_type": "markdown",
   "id": "a14a9728",
   "metadata": {
    "id": "a14a9728"
   },
   "source": [
    "### Отсутствующие значения в серии\n",
    "Поскольку в серии допускаются значения `NaN`, которые по-умолчанию не учитываются в статистических функциях, нужно уметь с ними работать:\n",
    "1. проверять факт их наличия в серии,\n",
    "2. считать их количество,\n",
    "3. выбрасывать (`drop`) такие ячейки из серии,\n",
    "4. массово заменять их на другие значения."
   ]
  },
  {
   "cell_type": "code",
   "execution_count": 35,
   "id": "e01891fd",
   "metadata": {
    "id": "e01891fd",
    "outputId": "f2df7540-bca6-4e07-9ce0-f879b6729ba8"
   },
   "outputs": [
    {
     "data": {
      "text/plain": [
       "0    False\n",
       "1    False\n",
       "2    False\n",
       "3     True\n",
       "4    False\n",
       "5     True\n",
       "6    False\n",
       "dtype: bool"
      ]
     },
     "execution_count": 35,
     "metadata": {},
     "output_type": "execute_result"
    }
   ],
   "source": [
    "series.isna()"
   ]
  },
  {
   "cell_type": "code",
   "execution_count": 36,
   "id": "573528f2",
   "metadata": {
    "id": "573528f2",
    "outputId": "34bc5456-9c7a-4ec8-bb56-13c3636c25f6"
   },
   "outputs": [
    {
     "data": {
      "text/plain": [
       "True"
      ]
     },
     "execution_count": 36,
     "metadata": {},
     "output_type": "execute_result"
    }
   ],
   "source": [
    "series.isna().any()"
   ]
  },
  {
   "cell_type": "markdown",
   "id": "0679f05f",
   "metadata": {
    "id": "0679f05f"
   },
   "source": [
    "Просуммировав эту серию, мы узнаем количество пустых ячеек (т.к. при арифметическом сложении превращаются: `True` — в `1`, а `False` — в `0`):"
   ]
  },
  {
   "cell_type": "code",
   "execution_count": 37,
   "id": "985f77d2",
   "metadata": {
    "id": "985f77d2",
    "outputId": "69cb66db-93b9-49a7-d829-ed4149cd5ccb"
   },
   "outputs": [
    {
     "data": {
      "text/plain": [
       "2"
      ]
     },
     "execution_count": 37,
     "metadata": {},
     "output_type": "execute_result"
    }
   ],
   "source": [
    "series.isna().sum()"
   ]
  },
  {
   "cell_type": "code",
   "execution_count": 38,
   "id": "0a1422aa",
   "metadata": {
    "id": "0a1422aa",
    "outputId": "ca5785eb-7347-4563-c89c-b114d00cb88d"
   },
   "outputs": [
    {
     "data": {
      "text/plain": [
       "0    1.0\n",
       "1    3.0\n",
       "2    5.0\n",
       "4    1.0\n",
       "6    3.0\n",
       "dtype: float64"
      ]
     },
     "execution_count": 38,
     "metadata": {},
     "output_type": "execute_result"
    }
   ],
   "source": [
    "series.dropna()"
   ]
  },
  {
   "cell_type": "markdown",
   "id": "0410effe",
   "metadata": {
    "id": "0410effe"
   },
   "source": [
    "Надо помнить, что метод `dropna`, как и многие другие методы, *не модифицирует текущую серию, а создаёт и возвращает новую*. Поэтому наша серия останется в старом состоянии:"
   ]
  },
  {
   "cell_type": "code",
   "execution_count": 39,
   "id": "965dada7",
   "metadata": {
    "id": "965dada7",
    "outputId": "62fa2e41-bdb3-46ea-8d1c-db1209f4f220"
   },
   "outputs": [
    {
     "data": {
      "text/plain": [
       "0    1.0\n",
       "1    3.0\n",
       "2    5.0\n",
       "3    NaN\n",
       "4    1.0\n",
       "5    NaN\n",
       "6    3.0\n",
       "dtype: float64"
      ]
     },
     "execution_count": 39,
     "metadata": {},
     "output_type": "execute_result"
    }
   ],
   "source": [
    "series"
   ]
  },
  {
   "cell_type": "markdown",
   "id": "dd0759ff",
   "metadata": {
    "id": "dd0759ff"
   },
   "source": [
    "Если мы хотим поменять текущую серию, нужно указать значение ключевого параметра `inplace=True`:"
   ]
  },
  {
   "cell_type": "code",
   "execution_count": 40,
   "id": "57084b60",
   "metadata": {
    "id": "57084b60",
    "outputId": "911db13b-dee5-404f-9c62-b47af3fd3be0"
   },
   "outputs": [
    {
     "data": {
      "text/plain": [
       "0    1.0\n",
       "1    3.0\n",
       "2    5.0\n",
       "4    1.0\n",
       "6    3.0\n",
       "dtype: float64"
      ]
     },
     "execution_count": 40,
     "metadata": {},
     "output_type": "execute_result"
    }
   ],
   "source": [
    "series.dropna(inplace=True)\n",
    "series"
   ]
  },
  {
   "cell_type": "markdown",
   "id": "c6ab27fe",
   "metadata": {
    "id": "c6ab27fe"
   },
   "source": [
    "То же касается метода `fillna` массовой замены значений `NaN` на другое:"
   ]
  },
  {
   "cell_type": "code",
   "execution_count": 41,
   "id": "458e1541",
   "metadata": {
    "id": "458e1541",
    "outputId": "c92aa086-2fed-4a48-dd8f-081c9803bdfd"
   },
   "outputs": [
    {
     "data": {
      "text/plain": [
       "0    1.0\n",
       "1    3.0\n",
       "2    5.0\n",
       "3    0.0\n",
       "4    1.0\n",
       "5    0.0\n",
       "6    3.0\n",
       "dtype: float64"
      ]
     },
     "execution_count": 41,
     "metadata": {},
     "output_type": "execute_result"
    }
   ],
   "source": [
    "series = pd.Series([1, 3, 5, np.nan, 1, np.nan, 3])\n",
    "series.fillna(0, inplace=True)\n",
    "series"
   ]
  },
  {
   "cell_type": "markdown",
   "id": "5603823e",
   "metadata": {
    "id": "5603823e"
   },
   "source": [
    "### Векторные (массовые операции)\n",
    "Как и для массивов NumPy для серий работают массовые операции:"
   ]
  },
  {
   "cell_type": "code",
   "execution_count": 42,
   "id": "3de2b1c3",
   "metadata": {
    "id": "3de2b1c3"
   },
   "outputs": [],
   "source": [
    "A = pd.Series(data=[10, 20, 30, 40], index=[\"A\", \"B\", \"C\", \"D\"])\n",
    "B = pd.Series(data=[1, 2, 3, 4], index=[\"A\", \"B\", \"C\", \"D\"])"
   ]
  },
  {
   "cell_type": "code",
   "execution_count": 43,
   "id": "15744300",
   "metadata": {
    "id": "15744300",
    "outputId": "21bba643-49a5-4fe3-ff76-77d23596f24a"
   },
   "outputs": [
    {
     "data": {
      "text/plain": [
       "A    11\n",
       "B    22\n",
       "C    33\n",
       "D    44\n",
       "dtype: int64"
      ]
     },
     "execution_count": 43,
     "metadata": {},
     "output_type": "execute_result"
    }
   ],
   "source": [
    "A + B"
   ]
  },
  {
   "cell_type": "code",
   "execution_count": 44,
   "id": "a21ad89d",
   "metadata": {
    "id": "a21ad89d",
    "outputId": "9c7037f1-7bec-448d-9285-3db165bb6ff2"
   },
   "outputs": [
    {
     "data": {
      "text/plain": [
       "A     10\n",
       "B     40\n",
       "C     90\n",
       "D    160\n",
       "dtype: int64"
      ]
     },
     "execution_count": 44,
     "metadata": {},
     "output_type": "execute_result"
    }
   ],
   "source": [
    "A * B"
   ]
  },
  {
   "cell_type": "markdown",
   "id": "b366096f",
   "metadata": {
    "id": "b366096f"
   },
   "source": [
    "Массовые операции работают не только с двумя сериями, но и с константами:"
   ]
  },
  {
   "cell_type": "code",
   "execution_count": 45,
   "id": "c6157047",
   "metadata": {
    "id": "c6157047",
    "outputId": "40607476-0202-4b26-8f86-a4e2364f15a7"
   },
   "outputs": [
    {
     "data": {
      "text/plain": [
       "A    15\n",
       "B     5\n",
       "C    -5\n",
       "D   -15\n",
       "dtype: int64"
      ]
     },
     "execution_count": 45,
     "metadata": {},
     "output_type": "execute_result"
    }
   ],
   "source": [
    "-A + 25"
   ]
  },
  {
   "cell_type": "code",
   "execution_count": 46,
   "id": "9d7b45e5",
   "metadata": {
    "id": "9d7b45e5",
    "outputId": "3cc93bbd-e74e-4cdf-91dd-7e46d31d6258"
   },
   "outputs": [
    {
     "data": {
      "text/plain": [
       "A    False\n",
       "B    False\n",
       "C     True\n",
       "D     True\n",
       "dtype: bool"
      ]
     },
     "execution_count": 46,
     "metadata": {},
     "output_type": "execute_result"
    }
   ],
   "source": [
    "A > 20"
   ]
  },
  {
   "cell_type": "code",
   "execution_count": 47,
   "id": "3a88d436",
   "metadata": {
    "id": "3a88d436",
    "outputId": "e8e7a6a2-692e-4467-b77d-c28610851a67"
   },
   "outputs": [
    {
     "data": {
      "text/plain": [
       "A    False\n",
       "B    False\n",
       "C     True\n",
       "D    False\n",
       "dtype: bool"
      ]
     },
     "execution_count": 47,
     "metadata": {},
     "output_type": "execute_result"
    }
   ],
   "source": [
    "B == 3"
   ]
  },
  {
   "cell_type": "code",
   "execution_count": 48,
   "id": "43749dc6",
   "metadata": {
    "id": "43749dc6",
    "outputId": "ac724dfc-4042-49b5-a7df-e2e86cc3ad50"
   },
   "outputs": [
    {
     "data": {
      "text/plain": [
       "A     True\n",
       "B     True\n",
       "C    False\n",
       "D     True\n",
       "dtype: bool"
      ]
     },
     "execution_count": 48,
     "metadata": {},
     "output_type": "execute_result"
    }
   ],
   "source": [
    "B != 3"
   ]
  },
  {
   "cell_type": "markdown",
   "id": "ea6a1e3b",
   "metadata": {
    "id": "ea6a1e3b"
   },
   "source": [
    "Применить какую-то функцию к каждому элементу серии можно при помощи метода `apply`:"
   ]
  },
  {
   "cell_type": "code",
   "execution_count": 49,
   "id": "cf8a386a",
   "metadata": {
    "id": "cf8a386a",
    "outputId": "7efae98c-8102-44d7-be30-a00ce62b95e5"
   },
   "outputs": [
    {
     "data": {
      "text/plain": [
       "A    100\n",
       "B    200\n",
       "C    300\n",
       "D    400\n",
       "dtype: int64"
      ]
     },
     "execution_count": 49,
     "metadata": {},
     "output_type": "execute_result"
    }
   ],
   "source": [
    "B.apply(lambda x: x*100)"
   ]
  },
  {
   "cell_type": "markdown",
   "id": "5f94c734",
   "metadata": {
    "id": "5f94c734"
   },
   "source": [
    "Значения из одной серии можно *массово скопировать в другую серию* методом `update`, при этом опора будет производиться на индексы-метки, а не на последовательность элементов. При этом для меток старой серии, к которой не найдены метки новой серии, будут оставлены старые значения:"
   ]
  },
  {
   "cell_type": "code",
   "execution_count": 50,
   "id": "fbf31654",
   "metadata": {
    "id": "fbf31654",
    "outputId": "847185fd-14d1-4928-bb9e-710134cc14c9"
   },
   "outputs": [
    {
     "name": "stdout",
     "output_type": "stream",
     "text": [
      "Aline       100\n",
      "Beatrice    200\n",
      "Clara       500\n",
      "Diana         0\n",
      "Name: money, dtype: int64\n",
      "Aline         0\n",
      "Beatrice    200\n",
      "Clara       500\n",
      "Diana       300\n",
      "Name: money, dtype: int64\n"
     ]
    }
   ],
   "source": [
    "A = pd.Series(data=[100, 200, 500, 0], index=[\"Aline\", \"Beatrice\", \"Clara\", \"Diana\"], name=\"money\")\n",
    "B = pd.Series(data=[300, 0], index=[\"Diana\", \"Aline\"])\n",
    "print(A)\n",
    "A.update(B)\n",
    "print(A)"
   ]
  },
  {
   "cell_type": "markdown",
   "id": "5b639f93",
   "metadata": {
    "id": "5b639f93"
   },
   "source": [
    "## Объекты класса DataFrame\n",
    "После знакомства с сериями `Series` легче понять как формируется лист с данными.\n",
    "По сути это несколько серий-столбцов с одинаковым индексом по вертикали, а последовательность имён столбцов составляет горизонтальный индекс таблицы."
   ]
  },
  {
   "cell_type": "code",
   "execution_count": 51,
   "id": "6f986a05",
   "metadata": {
    "id": "6f986a05",
    "outputId": "bf97b3f4-e5c3-4f9f-e72d-472072ece043"
   },
   "outputs": [
    {
     "data": {
      "text/html": [
       "<div>\n",
       "<style scoped>\n",
       "    .dataframe tbody tr th:only-of-type {\n",
       "        vertical-align: middle;\n",
       "    }\n",
       "\n",
       "    .dataframe tbody tr th {\n",
       "        vertical-align: top;\n",
       "    }\n",
       "\n",
       "    .dataframe thead th {\n",
       "        text-align: right;\n",
       "    }\n",
       "</style>\n",
       "<table border=\"1\" class=\"dataframe\">\n",
       "  <thead>\n",
       "    <tr style=\"text-align: right;\">\n",
       "      <th></th>\n",
       "      <th>A</th>\n",
       "      <th>B</th>\n",
       "      <th>C</th>\n",
       "    </tr>\n",
       "  </thead>\n",
       "  <tbody>\n",
       "    <tr>\n",
       "      <th>first</th>\n",
       "      <td>1</td>\n",
       "      <td>4</td>\n",
       "      <td>7</td>\n",
       "    </tr>\n",
       "    <tr>\n",
       "      <th>second</th>\n",
       "      <td>2</td>\n",
       "      <td>5</td>\n",
       "      <td>8</td>\n",
       "    </tr>\n",
       "    <tr>\n",
       "      <th>third</th>\n",
       "      <td>3</td>\n",
       "      <td>6</td>\n",
       "      <td>9</td>\n",
       "    </tr>\n",
       "  </tbody>\n",
       "</table>\n",
       "</div>"
      ],
      "text/plain": [
       "        A  B  C\n",
       "first   1  4  7\n",
       "second  2  5  8\n",
       "third   3  6  9"
      ]
     },
     "execution_count": 51,
     "metadata": {},
     "output_type": "execute_result"
    }
   ],
   "source": [
    "df = pd.DataFrame({\"A\": [1, 2, 3], \"B\": [4, 5, 6], \"C\": [7, 8, 9]},\n",
    "                  index = [\"first\", \"second\", \"third\"])\n",
    "df"
   ]
  },
  {
   "cell_type": "code",
   "execution_count": 49,
   "id": "26786042",
   "metadata": {
    "id": "26786042",
    "outputId": "8144b9ab-4d16-4a49-a39c-cdba7dbe2615"
   },
   "outputs": [
    {
     "data": {
      "text/plain": [
       "Index(['first', 'second', 'third'], dtype='object')"
      ]
     },
     "execution_count": 49,
     "metadata": {},
     "output_type": "execute_result"
    }
   ],
   "source": [
    "df.index"
   ]
  },
  {
   "cell_type": "code",
   "execution_count": 52,
   "id": "bd8a1631",
   "metadata": {
    "id": "bd8a1631",
    "outputId": "853172c4-2fea-45be-e16e-8a32e8a2b8fc"
   },
   "outputs": [
    {
     "data": {
      "text/plain": [
       "Index(['A', 'B', 'C'], dtype='object')"
      ]
     },
     "execution_count": 52,
     "metadata": {},
     "output_type": "execute_result"
    }
   ],
   "source": [
    "df.columns"
   ]
  },
  {
   "cell_type": "markdown",
   "id": "40036de7",
   "metadata": {
    "id": "40036de7"
   },
   "source": [
    "Доступ к сериям-столбцам можно делать через квадратные скобки или через оператор `.` (если имя является допустимым идентификатором):"
   ]
  },
  {
   "cell_type": "code",
   "execution_count": 53,
   "id": "c647165d",
   "metadata": {
    "id": "c647165d",
    "outputId": "788047be-5863-46e8-e11e-c99183195cba"
   },
   "outputs": [
    {
     "data": {
      "text/plain": [
       "first     1\n",
       "second    2\n",
       "third     3\n",
       "Name: A, dtype: int64"
      ]
     },
     "execution_count": 53,
     "metadata": {},
     "output_type": "execute_result"
    }
   ],
   "source": [
    "df['A']"
   ]
  },
  {
   "cell_type": "code",
   "execution_count": 54,
   "id": "7650d366",
   "metadata": {
    "id": "7650d366",
    "outputId": "979de1e9-b09d-4f37-91fb-0aa3041d719e"
   },
   "outputs": [
    {
     "data": {
      "text/plain": [
       "first     1\n",
       "second    2\n",
       "third     3\n",
       "Name: A, dtype: int64"
      ]
     },
     "execution_count": 54,
     "metadata": {},
     "output_type": "execute_result"
    }
   ],
   "source": [
    "df.A"
   ]
  },
  {
   "cell_type": "code",
   "execution_count": 55,
   "id": "6f413c64",
   "metadata": {
    "id": "6f413c64",
    "outputId": "200ed076-b99a-4593-abde-c470a95a8c70"
   },
   "outputs": [
    {
     "data": {
      "text/plain": [
       "pandas.core.series.Series"
      ]
     },
     "execution_count": 55,
     "metadata": {},
     "output_type": "execute_result"
    }
   ],
   "source": [
    "type(df.A)"
   ]
  },
  {
   "cell_type": "markdown",
   "id": "fb68526a",
   "metadata": {
    "id": "fb68526a"
   },
   "source": [
    "Однако, отличие в доступе всё-таки есть. Через точку нельзя создать новый столбец:"
   ]
  },
  {
   "cell_type": "code",
   "execution_count": 56,
   "id": "1648cda8",
   "metadata": {
    "id": "1648cda8",
    "outputId": "23d73c63-a67e-4507-e79e-c23115d8d3f4"
   },
   "outputs": [
    {
     "name": "stderr",
     "output_type": "stream",
     "text": [
      "C:\\Users\\Noro\\AppData\\Local\\Temp\\ipykernel_9472\\4145806869.py:1: UserWarning: Pandas doesn't allow columns to be created via a new attribute name - see https://pandas.pydata.org/pandas-docs/stable/indexing.html#attribute-access\n",
      "  df.D = df.A*100 + df.B*10 + df.C\n"
     ]
    },
    {
     "data": {
      "text/html": [
       "<div>\n",
       "<style scoped>\n",
       "    .dataframe tbody tr th:only-of-type {\n",
       "        vertical-align: middle;\n",
       "    }\n",
       "\n",
       "    .dataframe tbody tr th {\n",
       "        vertical-align: top;\n",
       "    }\n",
       "\n",
       "    .dataframe thead th {\n",
       "        text-align: right;\n",
       "    }\n",
       "</style>\n",
       "<table border=\"1\" class=\"dataframe\">\n",
       "  <thead>\n",
       "    <tr style=\"text-align: right;\">\n",
       "      <th></th>\n",
       "      <th>A</th>\n",
       "      <th>B</th>\n",
       "      <th>C</th>\n",
       "    </tr>\n",
       "  </thead>\n",
       "  <tbody>\n",
       "    <tr>\n",
       "      <th>first</th>\n",
       "      <td>1</td>\n",
       "      <td>4</td>\n",
       "      <td>7</td>\n",
       "    </tr>\n",
       "    <tr>\n",
       "      <th>second</th>\n",
       "      <td>2</td>\n",
       "      <td>5</td>\n",
       "      <td>8</td>\n",
       "    </tr>\n",
       "    <tr>\n",
       "      <th>third</th>\n",
       "      <td>3</td>\n",
       "      <td>6</td>\n",
       "      <td>9</td>\n",
       "    </tr>\n",
       "  </tbody>\n",
       "</table>\n",
       "</div>"
      ],
      "text/plain": [
       "        A  B  C\n",
       "first   1  4  7\n",
       "second  2  5  8\n",
       "third   3  6  9"
      ]
     },
     "execution_count": 56,
     "metadata": {},
     "output_type": "execute_result"
    }
   ],
   "source": [
    "df.D = df.A*100 + df.B*10 + df.C\n",
    "df"
   ]
  },
  {
   "cell_type": "code",
   "execution_count": 57,
   "id": "03d0f9e6",
   "metadata": {
    "id": "03d0f9e6",
    "outputId": "9c7742b7-a5da-40bb-9a8f-8597de1ede11"
   },
   "outputs": [
    {
     "data": {
      "text/html": [
       "<div>\n",
       "<style scoped>\n",
       "    .dataframe tbody tr th:only-of-type {\n",
       "        vertical-align: middle;\n",
       "    }\n",
       "\n",
       "    .dataframe tbody tr th {\n",
       "        vertical-align: top;\n",
       "    }\n",
       "\n",
       "    .dataframe thead th {\n",
       "        text-align: right;\n",
       "    }\n",
       "</style>\n",
       "<table border=\"1\" class=\"dataframe\">\n",
       "  <thead>\n",
       "    <tr style=\"text-align: right;\">\n",
       "      <th></th>\n",
       "      <th>A</th>\n",
       "      <th>B</th>\n",
       "      <th>C</th>\n",
       "      <th>D</th>\n",
       "    </tr>\n",
       "  </thead>\n",
       "  <tbody>\n",
       "    <tr>\n",
       "      <th>first</th>\n",
       "      <td>1</td>\n",
       "      <td>4</td>\n",
       "      <td>7</td>\n",
       "      <td>147</td>\n",
       "    </tr>\n",
       "    <tr>\n",
       "      <th>second</th>\n",
       "      <td>2</td>\n",
       "      <td>5</td>\n",
       "      <td>8</td>\n",
       "      <td>258</td>\n",
       "    </tr>\n",
       "    <tr>\n",
       "      <th>third</th>\n",
       "      <td>3</td>\n",
       "      <td>6</td>\n",
       "      <td>9</td>\n",
       "      <td>369</td>\n",
       "    </tr>\n",
       "  </tbody>\n",
       "</table>\n",
       "</div>"
      ],
      "text/plain": [
       "        A  B  C    D\n",
       "first   1  4  7  147\n",
       "second  2  5  8  258\n",
       "third   3  6  9  369"
      ]
     },
     "execution_count": 57,
     "metadata": {},
     "output_type": "execute_result"
    }
   ],
   "source": [
    "df['D'] = df.A*100 + df.B*10 + df.C\n",
    "df"
   ]
  },
  {
   "cell_type": "code",
   "execution_count": 58,
   "id": "7b641cca",
   "metadata": {
    "id": "7b641cca",
    "outputId": "43881708-0445-4377-a0fe-904d2d6a4db1"
   },
   "outputs": [
    {
     "data": {
      "text/plain": [
       "first     147\n",
       "second    258\n",
       "third     369\n",
       "Name: D, dtype: int64"
      ]
     },
     "execution_count": 58,
     "metadata": {},
     "output_type": "execute_result"
    }
   ],
   "source": [
    "df['D']"
   ]
  },
  {
   "cell_type": "markdown",
   "id": "82c659dc",
   "metadata": {
    "id": "82c659dc"
   },
   "source": [
    "### Сложности индексации и их решение: loc, iloc.\n",
    "Квадратные скобки дают как доступ к столбцам, так и, в случае среза — к строкам:"
   ]
  },
  {
   "cell_type": "code",
   "execution_count": 59,
   "id": "9328b916",
   "metadata": {
    "id": "9328b916",
    "outputId": "9633db8b-d3c3-4cfa-ce5f-539322a893a6"
   },
   "outputs": [
    {
     "data": {
      "text/html": [
       "<div>\n",
       "<style scoped>\n",
       "    .dataframe tbody tr th:only-of-type {\n",
       "        vertical-align: middle;\n",
       "    }\n",
       "\n",
       "    .dataframe tbody tr th {\n",
       "        vertical-align: top;\n",
       "    }\n",
       "\n",
       "    .dataframe thead th {\n",
       "        text-align: right;\n",
       "    }\n",
       "</style>\n",
       "<table border=\"1\" class=\"dataframe\">\n",
       "  <thead>\n",
       "    <tr style=\"text-align: right;\">\n",
       "      <th></th>\n",
       "      <th>A</th>\n",
       "      <th>B</th>\n",
       "      <th>C</th>\n",
       "      <th>D</th>\n",
       "    </tr>\n",
       "  </thead>\n",
       "  <tbody>\n",
       "    <tr>\n",
       "      <th>second</th>\n",
       "      <td>2</td>\n",
       "      <td>5</td>\n",
       "      <td>8</td>\n",
       "      <td>258</td>\n",
       "    </tr>\n",
       "    <tr>\n",
       "      <th>third</th>\n",
       "      <td>3</td>\n",
       "      <td>6</td>\n",
       "      <td>9</td>\n",
       "      <td>369</td>\n",
       "    </tr>\n",
       "  </tbody>\n",
       "</table>\n",
       "</div>"
      ],
      "text/plain": [
       "        A  B  C    D\n",
       "second  2  5  8  258\n",
       "third   3  6  9  369"
      ]
     },
     "execution_count": 59,
     "metadata": {},
     "output_type": "execute_result"
    }
   ],
   "source": [
    "df[1:3]  # срез по порядковым индексам"
   ]
  },
  {
   "cell_type": "code",
   "execution_count": 60,
   "id": "e7ae5d98",
   "metadata": {
    "id": "e7ae5d98",
    "outputId": "cf50b8bb-d276-4041-af41-78d9abefc51e"
   },
   "outputs": [
    {
     "data": {
      "text/html": [
       "<div>\n",
       "<style scoped>\n",
       "    .dataframe tbody tr th:only-of-type {\n",
       "        vertical-align: middle;\n",
       "    }\n",
       "\n",
       "    .dataframe tbody tr th {\n",
       "        vertical-align: top;\n",
       "    }\n",
       "\n",
       "    .dataframe thead th {\n",
       "        text-align: right;\n",
       "    }\n",
       "</style>\n",
       "<table border=\"1\" class=\"dataframe\">\n",
       "  <thead>\n",
       "    <tr style=\"text-align: right;\">\n",
       "      <th></th>\n",
       "      <th>A</th>\n",
       "      <th>B</th>\n",
       "      <th>C</th>\n",
       "      <th>D</th>\n",
       "    </tr>\n",
       "  </thead>\n",
       "  <tbody>\n",
       "    <tr>\n",
       "      <th>first</th>\n",
       "      <td>1</td>\n",
       "      <td>4</td>\n",
       "      <td>7</td>\n",
       "      <td>147</td>\n",
       "    </tr>\n",
       "    <tr>\n",
       "      <th>second</th>\n",
       "      <td>2</td>\n",
       "      <td>5</td>\n",
       "      <td>8</td>\n",
       "      <td>258</td>\n",
       "    </tr>\n",
       "  </tbody>\n",
       "</table>\n",
       "</div>"
      ],
      "text/plain": [
       "        A  B  C    D\n",
       "first   1  4  7  147\n",
       "second  2  5  8  258"
      ]
     },
     "execution_count": 60,
     "metadata": {},
     "output_type": "execute_result"
    }
   ],
   "source": [
    "df['first':'second']  # срез по индексам-меткам (включая конечную)"
   ]
  },
  {
   "cell_type": "markdown",
   "id": "16dc9a8e",
   "metadata": {
    "id": "16dc9a8e"
   },
   "source": [
    "Как вы помните, это может приводить к неоднозначности, поэтому лучше использовать `loc` или `iloc`:"
   ]
  },
  {
   "cell_type": "code",
   "execution_count": 61,
   "id": "72d4b06e",
   "metadata": {
    "id": "72d4b06e",
    "outputId": "4c9293d4-9cc7-4534-80cc-2d2b7d71e520"
   },
   "outputs": [
    {
     "data": {
      "text/html": [
       "<div>\n",
       "<style scoped>\n",
       "    .dataframe tbody tr th:only-of-type {\n",
       "        vertical-align: middle;\n",
       "    }\n",
       "\n",
       "    .dataframe tbody tr th {\n",
       "        vertical-align: top;\n",
       "    }\n",
       "\n",
       "    .dataframe thead th {\n",
       "        text-align: right;\n",
       "    }\n",
       "</style>\n",
       "<table border=\"1\" class=\"dataframe\">\n",
       "  <thead>\n",
       "    <tr style=\"text-align: right;\">\n",
       "      <th></th>\n",
       "      <th>A</th>\n",
       "      <th>B</th>\n",
       "      <th>C</th>\n",
       "      <th>D</th>\n",
       "    </tr>\n",
       "  </thead>\n",
       "  <tbody>\n",
       "    <tr>\n",
       "      <th>second</th>\n",
       "      <td>2</td>\n",
       "      <td>5</td>\n",
       "      <td>8</td>\n",
       "      <td>258</td>\n",
       "    </tr>\n",
       "    <tr>\n",
       "      <th>third</th>\n",
       "      <td>3</td>\n",
       "      <td>6</td>\n",
       "      <td>9</td>\n",
       "      <td>369</td>\n",
       "    </tr>\n",
       "  </tbody>\n",
       "</table>\n",
       "</div>"
      ],
      "text/plain": [
       "        A  B  C    D\n",
       "second  2  5  8  258\n",
       "third   3  6  9  369"
      ]
     },
     "execution_count": 61,
     "metadata": {},
     "output_type": "execute_result"
    }
   ],
   "source": [
    "df.iloc[1:3]"
   ]
  },
  {
   "cell_type": "code",
   "execution_count": 62,
   "id": "caf8de59",
   "metadata": {
    "id": "caf8de59",
    "outputId": "88f03664-2b1e-4297-85ce-98f819441f4b"
   },
   "outputs": [
    {
     "data": {
      "text/html": [
       "<div>\n",
       "<style scoped>\n",
       "    .dataframe tbody tr th:only-of-type {\n",
       "        vertical-align: middle;\n",
       "    }\n",
       "\n",
       "    .dataframe tbody tr th {\n",
       "        vertical-align: top;\n",
       "    }\n",
       "\n",
       "    .dataframe thead th {\n",
       "        text-align: right;\n",
       "    }\n",
       "</style>\n",
       "<table border=\"1\" class=\"dataframe\">\n",
       "  <thead>\n",
       "    <tr style=\"text-align: right;\">\n",
       "      <th></th>\n",
       "      <th>A</th>\n",
       "      <th>B</th>\n",
       "      <th>C</th>\n",
       "      <th>D</th>\n",
       "    </tr>\n",
       "  </thead>\n",
       "  <tbody>\n",
       "    <tr>\n",
       "      <th>first</th>\n",
       "      <td>1</td>\n",
       "      <td>4</td>\n",
       "      <td>7</td>\n",
       "      <td>147</td>\n",
       "    </tr>\n",
       "    <tr>\n",
       "      <th>second</th>\n",
       "      <td>2</td>\n",
       "      <td>5</td>\n",
       "      <td>8</td>\n",
       "      <td>258</td>\n",
       "    </tr>\n",
       "  </tbody>\n",
       "</table>\n",
       "</div>"
      ],
      "text/plain": [
       "        A  B  C    D\n",
       "first   1  4  7  147\n",
       "second  2  5  8  258"
      ]
     },
     "execution_count": 62,
     "metadata": {},
     "output_type": "execute_result"
    }
   ],
   "source": [
    "df.loc['first':'second']"
   ]
  },
  {
   "cell_type": "markdown",
   "id": "3ad28eb8",
   "metadata": {
    "id": "3ad28eb8"
   },
   "source": [
    "Новая возможность — локатор позволяет получить *серию значений одной строки*. В этом случае индекс строки становится `name` серии:"
   ]
  },
  {
   "cell_type": "code",
   "execution_count": 63,
   "id": "8e62da7d",
   "metadata": {
    "id": "8e62da7d",
    "outputId": "26e5909c-7a14-48bc-b53d-22060ad778c3"
   },
   "outputs": [
    {
     "data": {
      "text/plain": [
       "A      2\n",
       "B      5\n",
       "C      8\n",
       "D    258\n",
       "Name: second, dtype: int64"
      ]
     },
     "execution_count": 63,
     "metadata": {},
     "output_type": "execute_result"
    }
   ],
   "source": [
    "df.loc['second']"
   ]
  },
  {
   "cell_type": "markdown",
   "id": "96b6a544",
   "metadata": {
    "id": "96b6a544"
   },
   "source": [
    "*Запятая в квадратных скобках* позволяет достать **значение конкретной ячейки** или **срез по строкам и столбцам одновременно**:"
   ]
  },
  {
   "cell_type": "code",
   "execution_count": 64,
   "id": "47d1ef0a",
   "metadata": {
    "id": "47d1ef0a",
    "outputId": "ce79d2c9-0e7e-407a-d4c8-8bec2b606f9c"
   },
   "outputs": [
    {
     "data": {
      "text/plain": [
       "1"
      ]
     },
     "execution_count": 64,
     "metadata": {},
     "output_type": "execute_result"
    }
   ],
   "source": [
    "df.loc['first', 'A']"
   ]
  },
  {
   "cell_type": "code",
   "execution_count": 65,
   "id": "0d5f51a8",
   "metadata": {
    "id": "0d5f51a8",
    "outputId": "44fe1d9c-c017-44c5-e6f1-be56a8683f4e"
   },
   "outputs": [
    {
     "data": {
      "text/html": [
       "<div>\n",
       "<style scoped>\n",
       "    .dataframe tbody tr th:only-of-type {\n",
       "        vertical-align: middle;\n",
       "    }\n",
       "\n",
       "    .dataframe tbody tr th {\n",
       "        vertical-align: top;\n",
       "    }\n",
       "\n",
       "    .dataframe thead th {\n",
       "        text-align: right;\n",
       "    }\n",
       "</style>\n",
       "<table border=\"1\" class=\"dataframe\">\n",
       "  <thead>\n",
       "    <tr style=\"text-align: right;\">\n",
       "      <th></th>\n",
       "      <th>B</th>\n",
       "      <th>C</th>\n",
       "    </tr>\n",
       "  </thead>\n",
       "  <tbody>\n",
       "    <tr>\n",
       "      <th>first</th>\n",
       "      <td>4</td>\n",
       "      <td>7</td>\n",
       "    </tr>\n",
       "    <tr>\n",
       "      <th>second</th>\n",
       "      <td>5</td>\n",
       "      <td>8</td>\n",
       "    </tr>\n",
       "  </tbody>\n",
       "</table>\n",
       "</div>"
      ],
      "text/plain": [
       "        B  C\n",
       "first   4  7\n",
       "second  5  8"
      ]
     },
     "execution_count": 65,
     "metadata": {},
     "output_type": "execute_result"
    }
   ],
   "source": [
    "df.loc['first':'second', 'B':'C']"
   ]
  },
  {
   "cell_type": "markdown",
   "id": "c9e2ac8f",
   "metadata": {
    "id": "c9e2ac8f"
   },
   "source": [
    "Также интересно то, что **локатор в квадратных скобках может принимать список индексов**, причём в произвольном порядке:"
   ]
  },
  {
   "cell_type": "code",
   "execution_count": 66,
   "id": "5762a2d9",
   "metadata": {
    "id": "5762a2d9",
    "outputId": "3f75aedc-5e53-4b90-8860-7efc2ec07d34"
   },
   "outputs": [
    {
     "data": {
      "text/html": [
       "<div>\n",
       "<style scoped>\n",
       "    .dataframe tbody tr th:only-of-type {\n",
       "        vertical-align: middle;\n",
       "    }\n",
       "\n",
       "    .dataframe tbody tr th {\n",
       "        vertical-align: top;\n",
       "    }\n",
       "\n",
       "    .dataframe thead th {\n",
       "        text-align: right;\n",
       "    }\n",
       "</style>\n",
       "<table border=\"1\" class=\"dataframe\">\n",
       "  <thead>\n",
       "    <tr style=\"text-align: right;\">\n",
       "      <th></th>\n",
       "      <th>D</th>\n",
       "      <th>B</th>\n",
       "      <th>C</th>\n",
       "    </tr>\n",
       "  </thead>\n",
       "  <tbody>\n",
       "    <tr>\n",
       "      <th>third</th>\n",
       "      <td>369</td>\n",
       "      <td>6</td>\n",
       "      <td>9</td>\n",
       "    </tr>\n",
       "    <tr>\n",
       "      <th>first</th>\n",
       "      <td>147</td>\n",
       "      <td>4</td>\n",
       "      <td>7</td>\n",
       "    </tr>\n",
       "  </tbody>\n",
       "</table>\n",
       "</div>"
      ],
      "text/plain": [
       "         D  B  C\n",
       "third  369  6  9\n",
       "first  147  4  7"
      ]
     },
     "execution_count": 66,
     "metadata": {},
     "output_type": "execute_result"
    }
   ],
   "source": [
    "df.loc[['third', 'first'], ['D', 'B', 'C']]"
   ]
  },
  {
   "cell_type": "markdown",
   "id": "b6eb8ddc",
   "metadata": {
    "id": "b6eb8ddc"
   },
   "source": [
    "В срезах можно пропускать параметры начала и конца, а также указывать третий параметр — шаг:"
   ]
  },
  {
   "cell_type": "code",
   "execution_count": 67,
   "id": "c6a27f5d",
   "metadata": {
    "id": "c6a27f5d",
    "outputId": "aa70d7d6-cb61-4b3c-9ae1-d4c79c41f654"
   },
   "outputs": [
    {
     "data": {
      "text/html": [
       "<div>\n",
       "<style scoped>\n",
       "    .dataframe tbody tr th:only-of-type {\n",
       "        vertical-align: middle;\n",
       "    }\n",
       "\n",
       "    .dataframe tbody tr th {\n",
       "        vertical-align: top;\n",
       "    }\n",
       "\n",
       "    .dataframe thead th {\n",
       "        text-align: right;\n",
       "    }\n",
       "</style>\n",
       "<table border=\"1\" class=\"dataframe\">\n",
       "  <thead>\n",
       "    <tr style=\"text-align: right;\">\n",
       "      <th></th>\n",
       "      <th>D</th>\n",
       "      <th>C</th>\n",
       "      <th>B</th>\n",
       "      <th>A</th>\n",
       "    </tr>\n",
       "  </thead>\n",
       "  <tbody>\n",
       "    <tr>\n",
       "      <th>first</th>\n",
       "      <td>147</td>\n",
       "      <td>7</td>\n",
       "      <td>4</td>\n",
       "      <td>1</td>\n",
       "    </tr>\n",
       "    <tr>\n",
       "      <th>second</th>\n",
       "      <td>258</td>\n",
       "      <td>8</td>\n",
       "      <td>5</td>\n",
       "      <td>2</td>\n",
       "    </tr>\n",
       "    <tr>\n",
       "      <th>third</th>\n",
       "      <td>369</td>\n",
       "      <td>9</td>\n",
       "      <td>6</td>\n",
       "      <td>3</td>\n",
       "    </tr>\n",
       "  </tbody>\n",
       "</table>\n",
       "</div>"
      ],
      "text/plain": [
       "          D  C  B  A\n",
       "first   147  7  4  1\n",
       "second  258  8  5  2\n",
       "third   369  9  6  3"
      ]
     },
     "execution_count": 67,
     "metadata": {},
     "output_type": "execute_result"
    }
   ],
   "source": [
    "df.iloc[:, ::-1]"
   ]
  },
  {
   "cell_type": "markdown",
   "id": "f8cf7489",
   "metadata": {
    "id": "f8cf7489"
   },
   "source": [
    "### Редукция столбцов и строк\n",
    "Очевидно, редукцию одного конкретного столбца или строки с конкретным индексом можно выполнить, предварительно выделив её как `Series`, но есть и возможность массовой редукции по заданной оси:"
   ]
  },
  {
   "cell_type": "code",
   "execution_count": 68,
   "id": "b61abc84",
   "metadata": {
    "id": "b61abc84",
    "outputId": "4eb3591f-857e-4a41-8b28-ff4fd69b8a11"
   },
   "outputs": [
    {
     "data": {
      "text/plain": [
       "first     159\n",
       "second    273\n",
       "third     387\n",
       "dtype: int64"
      ]
     },
     "execution_count": 68,
     "metadata": {},
     "output_type": "execute_result"
    }
   ],
   "source": [
    "df.sum(axis=1)  # указываем axis=1 для свёртки по горизонтали"
   ]
  },
  {
   "cell_type": "code",
   "execution_count": 69,
   "id": "952f1da2",
   "metadata": {
    "id": "952f1da2",
    "outputId": "14971fdd-c5d7-4285-9bca-8d0c07e8ff96"
   },
   "outputs": [
    {
     "data": {
      "text/plain": [
       "A      6\n",
       "B     15\n",
       "C     24\n",
       "D    774\n",
       "dtype: int64"
      ]
     },
     "execution_count": 69,
     "metadata": {},
     "output_type": "execute_result"
    }
   ],
   "source": [
    "df.sum()  # по-умолчанию axis=0, свёртка по вертикали"
   ]
  },
  {
   "cell_type": "code",
   "execution_count": 70,
   "id": "6cc1bf81",
   "metadata": {
    "id": "6cc1bf81",
    "outputId": "adabbad5-516b-4d8f-8c7e-c39a4b546739"
   },
   "outputs": [
    {
     "data": {
      "text/plain": [
       "A      3\n",
       "B      6\n",
       "C      9\n",
       "D    369\n",
       "dtype: int64"
      ]
     },
     "execution_count": 70,
     "metadata": {},
     "output_type": "execute_result"
    }
   ],
   "source": [
    "df.max()"
   ]
  },
  {
   "cell_type": "code",
   "execution_count": 71,
   "id": "184a450f",
   "metadata": {
    "id": "184a450f",
    "outputId": "1b9cd7df-69f5-4905-c274-c30bd94c8aa0"
   },
   "outputs": [
    {
     "data": {
      "text/plain": [
       "A    third\n",
       "B    third\n",
       "C    third\n",
       "D    third\n",
       "dtype: object"
      ]
     },
     "execution_count": 71,
     "metadata": {},
     "output_type": "execute_result"
    }
   ],
   "source": [
    "df.idxmax()"
   ]
  },
  {
   "cell_type": "markdown",
   "id": "7e53cf8b",
   "metadata": {
    "id": "7e53cf8b"
   },
   "source": [
    "Можно сделать свёртку сразу несколькими функциями при помощи метода `aggregate` (alias `agg`):"
   ]
  },
  {
   "cell_type": "code",
   "execution_count": 73,
   "id": "06ac5e18",
   "metadata": {},
   "outputs": [
    {
     "data": {
      "text/html": [
       "<div>\n",
       "<style scoped>\n",
       "    .dataframe tbody tr th:only-of-type {\n",
       "        vertical-align: middle;\n",
       "    }\n",
       "\n",
       "    .dataframe tbody tr th {\n",
       "        vertical-align: top;\n",
       "    }\n",
       "\n",
       "    .dataframe thead th {\n",
       "        text-align: right;\n",
       "    }\n",
       "</style>\n",
       "<table border=\"1\" class=\"dataframe\">\n",
       "  <thead>\n",
       "    <tr style=\"text-align: right;\">\n",
       "      <th></th>\n",
       "      <th>A</th>\n",
       "      <th>B</th>\n",
       "      <th>C</th>\n",
       "      <th>D</th>\n",
       "    </tr>\n",
       "  </thead>\n",
       "  <tbody>\n",
       "    <tr>\n",
       "      <th>first</th>\n",
       "      <td>1</td>\n",
       "      <td>4</td>\n",
       "      <td>7</td>\n",
       "      <td>147</td>\n",
       "    </tr>\n",
       "    <tr>\n",
       "      <th>second</th>\n",
       "      <td>2</td>\n",
       "      <td>5</td>\n",
       "      <td>8</td>\n",
       "      <td>258</td>\n",
       "    </tr>\n",
       "    <tr>\n",
       "      <th>third</th>\n",
       "      <td>3</td>\n",
       "      <td>6</td>\n",
       "      <td>9</td>\n",
       "      <td>369</td>\n",
       "    </tr>\n",
       "  </tbody>\n",
       "</table>\n",
       "</div>"
      ],
      "text/plain": [
       "        A  B  C    D\n",
       "first   1  4  7  147\n",
       "second  2  5  8  258\n",
       "third   3  6  9  369"
      ]
     },
     "execution_count": 73,
     "metadata": {},
     "output_type": "execute_result"
    }
   ],
   "source": [
    "df"
   ]
  },
  {
   "cell_type": "code",
   "execution_count": 74,
   "id": "a3b7f435",
   "metadata": {
    "id": "a3b7f435",
    "outputId": "e1b0712d-8280-4910-a021-022b35bf1f6a"
   },
   "outputs": [
    {
     "data": {
      "text/html": [
       "<div>\n",
       "<style scoped>\n",
       "    .dataframe tbody tr th:only-of-type {\n",
       "        vertical-align: middle;\n",
       "    }\n",
       "\n",
       "    .dataframe tbody tr th {\n",
       "        vertical-align: top;\n",
       "    }\n",
       "\n",
       "    .dataframe thead th {\n",
       "        text-align: right;\n",
       "    }\n",
       "</style>\n",
       "<table border=\"1\" class=\"dataframe\">\n",
       "  <thead>\n",
       "    <tr style=\"text-align: right;\">\n",
       "      <th></th>\n",
       "      <th>A</th>\n",
       "      <th>B</th>\n",
       "      <th>C</th>\n",
       "      <th>D</th>\n",
       "    </tr>\n",
       "  </thead>\n",
       "  <tbody>\n",
       "    <tr>\n",
       "      <th>min</th>\n",
       "      <td>1</td>\n",
       "      <td>4</td>\n",
       "      <td>7</td>\n",
       "      <td>147</td>\n",
       "    </tr>\n",
       "    <tr>\n",
       "      <th>idxmin</th>\n",
       "      <td>first</td>\n",
       "      <td>first</td>\n",
       "      <td>first</td>\n",
       "      <td>first</td>\n",
       "    </tr>\n",
       "    <tr>\n",
       "      <th>max</th>\n",
       "      <td>3</td>\n",
       "      <td>6</td>\n",
       "      <td>9</td>\n",
       "      <td>369</td>\n",
       "    </tr>\n",
       "    <tr>\n",
       "      <th>idxmax</th>\n",
       "      <td>third</td>\n",
       "      <td>third</td>\n",
       "      <td>third</td>\n",
       "      <td>third</td>\n",
       "    </tr>\n",
       "    <tr>\n",
       "      <th>mean</th>\n",
       "      <td>2.0</td>\n",
       "      <td>5.0</td>\n",
       "      <td>8.0</td>\n",
       "      <td>258.0</td>\n",
       "    </tr>\n",
       "    <tr>\n",
       "      <th>sum</th>\n",
       "      <td>6</td>\n",
       "      <td>15</td>\n",
       "      <td>24</td>\n",
       "      <td>774</td>\n",
       "    </tr>\n",
       "  </tbody>\n",
       "</table>\n",
       "</div>"
      ],
      "text/plain": [
       "            A      B      C      D\n",
       "min         1      4      7    147\n",
       "idxmin  first  first  first  first\n",
       "max         3      6      9    369\n",
       "idxmax  third  third  third  third\n",
       "mean      2.0    5.0    8.0  258.0\n",
       "sum         6     15     24    774"
      ]
     },
     "execution_count": 74,
     "metadata": {},
     "output_type": "execute_result"
    }
   ],
   "source": [
    "df.aggregate(['min', 'idxmin', 'max', 'idxmax', 'mean', 'sum'])"
   ]
  },
  {
   "cell_type": "markdown",
   "id": "4471c56e",
   "metadata": {
    "id": "4471c56e"
   },
   "source": [
    "### Чистка данных. Методы `drop` и `dropna`\n",
    "Исходные данные часто содержат лишнюю информацию, которую требуется исключить. Если нужно сохранить изменения в самой таблице, то следует добавлять параметр `inplace=True`, но сейчас мы этого делать не будем, оставляя лист в его исходном состоянии.\n",
    "\n",
    "Чтобы отбросить лишние столбцы, используют метод `drop` с ключевым параметром `columns` и списком имён:"
   ]
  },
  {
   "cell_type": "code",
   "execution_count": 75,
   "id": "f7a5eb62",
   "metadata": {
    "id": "f7a5eb62",
    "outputId": "133413e7-0312-46ae-af42-d1f942b0a174"
   },
   "outputs": [
    {
     "data": {
      "text/html": [
       "<div>\n",
       "<style scoped>\n",
       "    .dataframe tbody tr th:only-of-type {\n",
       "        vertical-align: middle;\n",
       "    }\n",
       "\n",
       "    .dataframe tbody tr th {\n",
       "        vertical-align: top;\n",
       "    }\n",
       "\n",
       "    .dataframe thead th {\n",
       "        text-align: right;\n",
       "    }\n",
       "</style>\n",
       "<table border=\"1\" class=\"dataframe\">\n",
       "  <thead>\n",
       "    <tr style=\"text-align: right;\">\n",
       "      <th></th>\n",
       "      <th>A</th>\n",
       "      <th>C</th>\n",
       "    </tr>\n",
       "  </thead>\n",
       "  <tbody>\n",
       "    <tr>\n",
       "      <th>first</th>\n",
       "      <td>1</td>\n",
       "      <td>7</td>\n",
       "    </tr>\n",
       "    <tr>\n",
       "      <th>second</th>\n",
       "      <td>2</td>\n",
       "      <td>8</td>\n",
       "    </tr>\n",
       "    <tr>\n",
       "      <th>third</th>\n",
       "      <td>3</td>\n",
       "      <td>9</td>\n",
       "    </tr>\n",
       "  </tbody>\n",
       "</table>\n",
       "</div>"
      ],
      "text/plain": [
       "        A  C\n",
       "first   1  7\n",
       "second  2  8\n",
       "third   3  9"
      ]
     },
     "execution_count": 75,
     "metadata": {},
     "output_type": "execute_result"
    }
   ],
   "source": [
    "df.drop(columns=['B', 'D'])"
   ]
  },
  {
   "cell_type": "markdown",
   "id": "dbf0eaa8",
   "metadata": {
    "id": "dbf0eaa8"
   },
   "source": [
    "Для отбрасывания строк используют метод `drop` с ключевым параметром `labels`:"
   ]
  },
  {
   "cell_type": "code",
   "execution_count": 76,
   "id": "389897ce",
   "metadata": {
    "id": "389897ce",
    "outputId": "be627559-d630-4d54-bbd5-39400279b2e1"
   },
   "outputs": [
    {
     "data": {
      "text/html": [
       "<div>\n",
       "<style scoped>\n",
       "    .dataframe tbody tr th:only-of-type {\n",
       "        vertical-align: middle;\n",
       "    }\n",
       "\n",
       "    .dataframe tbody tr th {\n",
       "        vertical-align: top;\n",
       "    }\n",
       "\n",
       "    .dataframe thead th {\n",
       "        text-align: right;\n",
       "    }\n",
       "</style>\n",
       "<table border=\"1\" class=\"dataframe\">\n",
       "  <thead>\n",
       "    <tr style=\"text-align: right;\">\n",
       "      <th></th>\n",
       "      <th>A</th>\n",
       "      <th>B</th>\n",
       "      <th>C</th>\n",
       "      <th>D</th>\n",
       "    </tr>\n",
       "  </thead>\n",
       "  <tbody>\n",
       "    <tr>\n",
       "      <th>second</th>\n",
       "      <td>2</td>\n",
       "      <td>5</td>\n",
       "      <td>8</td>\n",
       "      <td>258</td>\n",
       "    </tr>\n",
       "    <tr>\n",
       "      <th>third</th>\n",
       "      <td>3</td>\n",
       "      <td>6</td>\n",
       "      <td>9</td>\n",
       "      <td>369</td>\n",
       "    </tr>\n",
       "  </tbody>\n",
       "</table>\n",
       "</div>"
      ],
      "text/plain": [
       "        A  B  C    D\n",
       "second  2  5  8  258\n",
       "third   3  6  9  369"
      ]
     },
     "execution_count": 76,
     "metadata": {},
     "output_type": "execute_result"
    }
   ],
   "source": [
    "df.drop(labels=['first'])"
   ]
  },
  {
   "cell_type": "markdown",
   "id": "c70e7c7d",
   "metadata": {
    "id": "c70e7c7d"
   },
   "source": [
    "Теперь добавим в лист одну ячейку `NaN`:"
   ]
  },
  {
   "cell_type": "code",
   "execution_count": 77,
   "id": "f4e60562",
   "metadata": {
    "id": "f4e60562",
    "outputId": "1e9b124b-825b-49f4-f3b1-3372dbfe2234"
   },
   "outputs": [
    {
     "data": {
      "text/html": [
       "<div>\n",
       "<style scoped>\n",
       "    .dataframe tbody tr th:only-of-type {\n",
       "        vertical-align: middle;\n",
       "    }\n",
       "\n",
       "    .dataframe tbody tr th {\n",
       "        vertical-align: top;\n",
       "    }\n",
       "\n",
       "    .dataframe thead th {\n",
       "        text-align: right;\n",
       "    }\n",
       "</style>\n",
       "<table border=\"1\" class=\"dataframe\">\n",
       "  <thead>\n",
       "    <tr style=\"text-align: right;\">\n",
       "      <th></th>\n",
       "      <th>A</th>\n",
       "      <th>B</th>\n",
       "      <th>C</th>\n",
       "      <th>D</th>\n",
       "    </tr>\n",
       "  </thead>\n",
       "  <tbody>\n",
       "    <tr>\n",
       "      <th>first</th>\n",
       "      <td>1</td>\n",
       "      <td>4</td>\n",
       "      <td>7.0</td>\n",
       "      <td>147</td>\n",
       "    </tr>\n",
       "    <tr>\n",
       "      <th>second</th>\n",
       "      <td>2</td>\n",
       "      <td>5</td>\n",
       "      <td>NaN</td>\n",
       "      <td>258</td>\n",
       "    </tr>\n",
       "    <tr>\n",
       "      <th>third</th>\n",
       "      <td>3</td>\n",
       "      <td>6</td>\n",
       "      <td>9.0</td>\n",
       "      <td>369</td>\n",
       "    </tr>\n",
       "  </tbody>\n",
       "</table>\n",
       "</div>"
      ],
      "text/plain": [
       "        A  B    C    D\n",
       "first   1  4  7.0  147\n",
       "second  2  5  NaN  258\n",
       "third   3  6  9.0  369"
      ]
     },
     "execution_count": 77,
     "metadata": {},
     "output_type": "execute_result"
    }
   ],
   "source": [
    "df.loc['second', 'C'] = np.nan\n",
    "df"
   ]
  },
  {
   "cell_type": "markdown",
   "id": "6b26f4a0",
   "metadata": {
    "id": "6b26f4a0"
   },
   "source": [
    "Теперь посмотрите как работает метод `dropna`:"
   ]
  },
  {
   "cell_type": "code",
   "execution_count": 78,
   "id": "e750d584",
   "metadata": {
    "id": "e750d584",
    "outputId": "30eb79f3-03ff-4590-b939-fbec11be2df4"
   },
   "outputs": [
    {
     "data": {
      "text/html": [
       "<div>\n",
       "<style scoped>\n",
       "    .dataframe tbody tr th:only-of-type {\n",
       "        vertical-align: middle;\n",
       "    }\n",
       "\n",
       "    .dataframe tbody tr th {\n",
       "        vertical-align: top;\n",
       "    }\n",
       "\n",
       "    .dataframe thead th {\n",
       "        text-align: right;\n",
       "    }\n",
       "</style>\n",
       "<table border=\"1\" class=\"dataframe\">\n",
       "  <thead>\n",
       "    <tr style=\"text-align: right;\">\n",
       "      <th></th>\n",
       "      <th>A</th>\n",
       "      <th>B</th>\n",
       "      <th>C</th>\n",
       "      <th>D</th>\n",
       "    </tr>\n",
       "  </thead>\n",
       "  <tbody>\n",
       "    <tr>\n",
       "      <th>first</th>\n",
       "      <td>1</td>\n",
       "      <td>4</td>\n",
       "      <td>7.0</td>\n",
       "      <td>147</td>\n",
       "    </tr>\n",
       "    <tr>\n",
       "      <th>third</th>\n",
       "      <td>3</td>\n",
       "      <td>6</td>\n",
       "      <td>9.0</td>\n",
       "      <td>369</td>\n",
       "    </tr>\n",
       "  </tbody>\n",
       "</table>\n",
       "</div>"
      ],
      "text/plain": [
       "       A  B    C    D\n",
       "first  1  4  7.0  147\n",
       "third  3  6  9.0  369"
      ]
     },
     "execution_count": 78,
     "metadata": {},
     "output_type": "execute_result"
    }
   ],
   "source": [
    "df.dropna()  # по умолчанию выбрасываются все строки, в которых есть хотя бы одно значение NaN"
   ]
  },
  {
   "cell_type": "code",
   "execution_count": 79,
   "id": "44acec65",
   "metadata": {
    "id": "44acec65",
    "outputId": "0908fb58-aefb-4b15-9786-927672173810"
   },
   "outputs": [
    {
     "data": {
      "text/html": [
       "<div>\n",
       "<style scoped>\n",
       "    .dataframe tbody tr th:only-of-type {\n",
       "        vertical-align: middle;\n",
       "    }\n",
       "\n",
       "    .dataframe tbody tr th {\n",
       "        vertical-align: top;\n",
       "    }\n",
       "\n",
       "    .dataframe thead th {\n",
       "        text-align: right;\n",
       "    }\n",
       "</style>\n",
       "<table border=\"1\" class=\"dataframe\">\n",
       "  <thead>\n",
       "    <tr style=\"text-align: right;\">\n",
       "      <th></th>\n",
       "      <th>A</th>\n",
       "      <th>B</th>\n",
       "      <th>D</th>\n",
       "    </tr>\n",
       "  </thead>\n",
       "  <tbody>\n",
       "    <tr>\n",
       "      <th>first</th>\n",
       "      <td>1</td>\n",
       "      <td>4</td>\n",
       "      <td>147</td>\n",
       "    </tr>\n",
       "    <tr>\n",
       "      <th>second</th>\n",
       "      <td>2</td>\n",
       "      <td>5</td>\n",
       "      <td>258</td>\n",
       "    </tr>\n",
       "    <tr>\n",
       "      <th>third</th>\n",
       "      <td>3</td>\n",
       "      <td>6</td>\n",
       "      <td>369</td>\n",
       "    </tr>\n",
       "  </tbody>\n",
       "</table>\n",
       "</div>"
      ],
      "text/plain": [
       "        A  B    D\n",
       "first   1  4  147\n",
       "second  2  5  258\n",
       "third   3  6  369"
      ]
     },
     "execution_count": 79,
     "metadata": {},
     "output_type": "execute_result"
    }
   ],
   "source": [
    "df.dropna(axis='columns')  # можно вместо строк с NaN выбросить столбцы:"
   ]
  },
  {
   "cell_type": "markdown",
   "id": "61b1fbd4",
   "metadata": {
    "id": "61b1fbd4"
   },
   "source": [
    "Кроме стратегии выбрасывания данных есть ещё возможность заполнить пропуски константой:"
   ]
  },
  {
   "cell_type": "code",
   "execution_count": 80,
   "id": "060d2ed8",
   "metadata": {
    "id": "060d2ed8",
    "outputId": "a249849b-3123-42f7-88a8-1c950ed6a42a"
   },
   "outputs": [
    {
     "data": {
      "text/html": [
       "<div>\n",
       "<style scoped>\n",
       "    .dataframe tbody tr th:only-of-type {\n",
       "        vertical-align: middle;\n",
       "    }\n",
       "\n",
       "    .dataframe tbody tr th {\n",
       "        vertical-align: top;\n",
       "    }\n",
       "\n",
       "    .dataframe thead th {\n",
       "        text-align: right;\n",
       "    }\n",
       "</style>\n",
       "<table border=\"1\" class=\"dataframe\">\n",
       "  <thead>\n",
       "    <tr style=\"text-align: right;\">\n",
       "      <th></th>\n",
       "      <th>A</th>\n",
       "      <th>B</th>\n",
       "      <th>C</th>\n",
       "      <th>D</th>\n",
       "    </tr>\n",
       "  </thead>\n",
       "  <tbody>\n",
       "    <tr>\n",
       "      <th>first</th>\n",
       "      <td>1</td>\n",
       "      <td>4</td>\n",
       "      <td>7.0</td>\n",
       "      <td>147</td>\n",
       "    </tr>\n",
       "    <tr>\n",
       "      <th>second</th>\n",
       "      <td>2</td>\n",
       "      <td>5</td>\n",
       "      <td>0.0</td>\n",
       "      <td>258</td>\n",
       "    </tr>\n",
       "    <tr>\n",
       "      <th>third</th>\n",
       "      <td>3</td>\n",
       "      <td>6</td>\n",
       "      <td>9.0</td>\n",
       "      <td>369</td>\n",
       "    </tr>\n",
       "  </tbody>\n",
       "</table>\n",
       "</div>"
      ],
      "text/plain": [
       "        A  B    C    D\n",
       "first   1  4  7.0  147\n",
       "second  2  5  0.0  258\n",
       "third   3  6  9.0  369"
      ]
     },
     "execution_count": 80,
     "metadata": {},
     "output_type": "execute_result"
    }
   ],
   "source": [
    "df.fillna(0)"
   ]
  },
  {
   "cell_type": "markdown",
   "id": "d9b8b05b",
   "metadata": {
    "id": "d9b8b05b"
   },
   "source": [
    "Или, как вариант, заполнить ячейки `NaN` через интерполяцию <sup>[[1]](https://ru.wikipedia.org/wiki/%D0%98%D0%BD%D1%82%D0%B5%D1%80%D0%BF%D0%BE%D0%BB%D1%8F%D1%86%D0%B8%D1%8F)</sup> по соседним ячейкам серии-столбца:"
   ]
  },
  {
   "cell_type": "code",
   "execution_count": 81,
   "id": "6ee673e1",
   "metadata": {
    "id": "6ee673e1",
    "outputId": "906e5135-b87c-4bbd-b89b-8a03e0277e4c"
   },
   "outputs": [
    {
     "data": {
      "text/html": [
       "<div>\n",
       "<style scoped>\n",
       "    .dataframe tbody tr th:only-of-type {\n",
       "        vertical-align: middle;\n",
       "    }\n",
       "\n",
       "    .dataframe tbody tr th {\n",
       "        vertical-align: top;\n",
       "    }\n",
       "\n",
       "    .dataframe thead th {\n",
       "        text-align: right;\n",
       "    }\n",
       "</style>\n",
       "<table border=\"1\" class=\"dataframe\">\n",
       "  <thead>\n",
       "    <tr style=\"text-align: right;\">\n",
       "      <th></th>\n",
       "      <th>A</th>\n",
       "      <th>B</th>\n",
       "      <th>C</th>\n",
       "      <th>D</th>\n",
       "    </tr>\n",
       "  </thead>\n",
       "  <tbody>\n",
       "    <tr>\n",
       "      <th>first</th>\n",
       "      <td>1</td>\n",
       "      <td>4</td>\n",
       "      <td>7.0</td>\n",
       "      <td>147</td>\n",
       "    </tr>\n",
       "    <tr>\n",
       "      <th>second</th>\n",
       "      <td>2</td>\n",
       "      <td>5</td>\n",
       "      <td>8.0</td>\n",
       "      <td>258</td>\n",
       "    </tr>\n",
       "    <tr>\n",
       "      <th>third</th>\n",
       "      <td>3</td>\n",
       "      <td>6</td>\n",
       "      <td>9.0</td>\n",
       "      <td>369</td>\n",
       "    </tr>\n",
       "  </tbody>\n",
       "</table>\n",
       "</div>"
      ],
      "text/plain": [
       "        A  B    C    D\n",
       "first   1  4  7.0  147\n",
       "second  2  5  8.0  258\n",
       "third   3  6  9.0  369"
      ]
     },
     "execution_count": 81,
     "metadata": {},
     "output_type": "execute_result"
    }
   ],
   "source": [
    "df.interpolate()"
   ]
  },
  {
   "cell_type": "markdown",
   "id": "ba02e333",
   "metadata": {
    "id": "ba02e333"
   },
   "source": [
    "## Сложные приёмы обработки данных\n",
    "Есть некоторые приёмы работы с `DataFrame`, которые позволяют быстро переформатировать данные так, чтобы необходимая информация лежала на поверхности.\n",
    "\n",
    "Представьте себе ситуацию, когда исходная таблица с данными содержит случаи, которые можно *классифицировать* по нескольким категориям. Например, друзья работали на огороде и собирали картошку и морковку. Вот таблица их \"вкладов\" в общую корзину:"
   ]
  },
  {
   "cell_type": "code",
   "execution_count": 82,
   "id": "44a20901",
   "metadata": {
    "id": "44a20901",
    "outputId": "084f4a0c-734e-4c31-9cba-30be71a6d8d5"
   },
   "outputs": [
    {
     "data": {
      "text/html": [
       "<div>\n",
       "<style scoped>\n",
       "    .dataframe tbody tr th:only-of-type {\n",
       "        vertical-align: middle;\n",
       "    }\n",
       "\n",
       "    .dataframe tbody tr th {\n",
       "        vertical-align: top;\n",
       "    }\n",
       "\n",
       "    .dataframe thead th {\n",
       "        text-align: right;\n",
       "    }\n",
       "</style>\n",
       "<table border=\"1\" class=\"dataframe\">\n",
       "  <thead>\n",
       "    <tr style=\"text-align: right;\">\n",
       "      <th></th>\n",
       "      <th>name</th>\n",
       "      <th>potatoes</th>\n",
       "      <th>carrots</th>\n",
       "    </tr>\n",
       "  </thead>\n",
       "  <tbody>\n",
       "    <tr>\n",
       "      <th>0</th>\n",
       "      <td>Петя</td>\n",
       "      <td>3</td>\n",
       "      <td>0</td>\n",
       "    </tr>\n",
       "    <tr>\n",
       "      <th>1</th>\n",
       "      <td>Вася</td>\n",
       "      <td>4</td>\n",
       "      <td>2</td>\n",
       "    </tr>\n",
       "    <tr>\n",
       "      <th>2</th>\n",
       "      <td>Таня</td>\n",
       "      <td>0</td>\n",
       "      <td>5</td>\n",
       "    </tr>\n",
       "    <tr>\n",
       "      <th>3</th>\n",
       "      <td>Петя</td>\n",
       "      <td>3</td>\n",
       "      <td>2</td>\n",
       "    </tr>\n",
       "    <tr>\n",
       "      <th>4</th>\n",
       "      <td>Петя</td>\n",
       "      <td>4</td>\n",
       "      <td>1</td>\n",
       "    </tr>\n",
       "    <tr>\n",
       "      <th>5</th>\n",
       "      <td>Таня</td>\n",
       "      <td>0</td>\n",
       "      <td>4</td>\n",
       "    </tr>\n",
       "    <tr>\n",
       "      <th>6</th>\n",
       "      <td>Вася</td>\n",
       "      <td>6</td>\n",
       "      <td>15</td>\n",
       "    </tr>\n",
       "    <tr>\n",
       "      <th>7</th>\n",
       "      <td>Петя</td>\n",
       "      <td>3</td>\n",
       "      <td>2</td>\n",
       "    </tr>\n",
       "    <tr>\n",
       "      <th>8</th>\n",
       "      <td>Таня</td>\n",
       "      <td>0</td>\n",
       "      <td>6</td>\n",
       "    </tr>\n",
       "  </tbody>\n",
       "</table>\n",
       "</div>"
      ],
      "text/plain": [
       "   name  potatoes  carrots\n",
       "0  Петя         3        0\n",
       "1  Вася         4        2\n",
       "2  Таня         0        5\n",
       "3  Петя         3        2\n",
       "4  Петя         4        1\n",
       "5  Таня         0        4\n",
       "6  Вася         6       15\n",
       "7  Петя         3        2\n",
       "8  Таня         0        6"
      ]
     },
     "execution_count": 82,
     "metadata": {},
     "output_type": "execute_result"
    }
   ],
   "source": [
    "commits = pd.DataFrame({\"name\": [\"Петя\", \"Вася\", \"Таня\", \"Петя\", \"Петя\", \"Таня\", \"Вася\", \"Петя\", \"Таня\"],\n",
    "                        \"potatoes\": [3, 4, 0, 3, 4, 0, 6, 3, 0],\n",
    "                        \"carrots\": [0, 2, 5, 2, 1, 4, 15, 2, 6]})\n",
    "commits"
   ]
  },
  {
   "cell_type": "markdown",
   "id": "0e956a0f",
   "metadata": {
    "id": "0e956a0f"
   },
   "source": [
    "Конечно, мы можем найти суммарное количество картошек и морковок в общей корзине или минимальное/максимальное количество за 1 вклад:"
   ]
  },
  {
   "cell_type": "code",
   "execution_count": 83,
   "id": "f1a7831e",
   "metadata": {
    "id": "f1a7831e",
    "outputId": "51f8c6f3-a0ec-4e60-a529-c7890248c1ec"
   },
   "outputs": [
    {
     "data": {
      "text/plain": [
       "name        ПетяВасяТаняПетяПетяТаняВасяПетяТаня\n",
       "potatoes                                      23\n",
       "carrots                                       37\n",
       "dtype: object"
      ]
     },
     "execution_count": 83,
     "metadata": {},
     "output_type": "execute_result"
    }
   ],
   "source": [
    "commits.sum()"
   ]
  },
  {
   "cell_type": "code",
   "execution_count": 84,
   "id": "512f6d23",
   "metadata": {
    "id": "512f6d23",
    "outputId": "f1eb8d7f-1bd2-488e-db93-b1a3a5e21fbd"
   },
   "outputs": [
    {
     "data": {
      "text/html": [
       "<div>\n",
       "<style scoped>\n",
       "    .dataframe tbody tr th:only-of-type {\n",
       "        vertical-align: middle;\n",
       "    }\n",
       "\n",
       "    .dataframe tbody tr th {\n",
       "        vertical-align: top;\n",
       "    }\n",
       "\n",
       "    .dataframe thead th {\n",
       "        text-align: right;\n",
       "    }\n",
       "</style>\n",
       "<table border=\"1\" class=\"dataframe\">\n",
       "  <thead>\n",
       "    <tr style=\"text-align: right;\">\n",
       "      <th></th>\n",
       "      <th>name</th>\n",
       "      <th>potatoes</th>\n",
       "      <th>carrots</th>\n",
       "    </tr>\n",
       "  </thead>\n",
       "  <tbody>\n",
       "    <tr>\n",
       "      <th>min</th>\n",
       "      <td>Вася</td>\n",
       "      <td>0</td>\n",
       "      <td>0</td>\n",
       "    </tr>\n",
       "    <tr>\n",
       "      <th>max</th>\n",
       "      <td>Таня</td>\n",
       "      <td>6</td>\n",
       "      <td>15</td>\n",
       "    </tr>\n",
       "  </tbody>\n",
       "</table>\n",
       "</div>"
      ],
      "text/plain": [
       "     name  potatoes  carrots\n",
       "min  Вася         0        0\n",
       "max  Таня         6       15"
      ]
     },
     "execution_count": 84,
     "metadata": {},
     "output_type": "execute_result"
    }
   ],
   "source": [
    "commits.agg([\"min\", \"max\"])"
   ]
  },
  {
   "cell_type": "markdown",
   "id": "f8408d3f",
   "metadata": {
    "id": "f8408d3f"
   },
   "source": [
    "Однако, имена тут только мешают, не имеют содержательной информации. А хотелось бы узнать статистику по каждому другу отдельно..."
   ]
  },
  {
   "cell_type": "markdown",
   "id": "88526f79",
   "metadata": {
    "id": "88526f79"
   },
   "source": [
    "### Метод `groupby`\n",
    "Метод `groupby` осуществляет что-то вроде корзинной сортировки для последующей редукции.\n",
    "\n",
    "Группировка происходит по уникальным значениям в указанном столбце. Эти значения будут играть роль индекса в новом листе."
   ]
  },
  {
   "cell_type": "code",
   "execution_count": 85,
   "id": "96acf962",
   "metadata": {
    "id": "96acf962",
    "outputId": "08749ef4-29fb-42a1-cbb0-31e5b9564915"
   },
   "outputs": [
    {
     "data": {
      "text/plain": [
       "<pandas.core.groupby.generic.DataFrameGroupBy object at 0x00000207741F7DF0>"
      ]
     },
     "execution_count": 85,
     "metadata": {},
     "output_type": "execute_result"
    }
   ],
   "source": [
    "commits.groupby(\"name\")  # разложим все вклады по именам вкладчиков"
   ]
  },
  {
   "cell_type": "markdown",
   "id": "e30e8bb5",
   "metadata": {
    "id": "e30e8bb5"
   },
   "source": [
    "Объект со сгруппированными по указанному столбцу объектами мы и видим, но чтобы его использовать по назначению, требуется агрегировать случаи в каждой группе"
   ]
  },
  {
   "cell_type": "code",
   "execution_count": 86,
   "id": "6ac937a0",
   "metadata": {
    "id": "6ac937a0",
    "outputId": "f6e58abb-88fb-4c01-9aa0-cbb988546086"
   },
   "outputs": [
    {
     "data": {
      "text/html": [
       "<div>\n",
       "<style scoped>\n",
       "    .dataframe tbody tr th:only-of-type {\n",
       "        vertical-align: middle;\n",
       "    }\n",
       "\n",
       "    .dataframe tbody tr th {\n",
       "        vertical-align: top;\n",
       "    }\n",
       "\n",
       "    .dataframe thead th {\n",
       "        text-align: right;\n",
       "    }\n",
       "</style>\n",
       "<table border=\"1\" class=\"dataframe\">\n",
       "  <thead>\n",
       "    <tr style=\"text-align: right;\">\n",
       "      <th></th>\n",
       "      <th>potatoes</th>\n",
       "      <th>carrots</th>\n",
       "    </tr>\n",
       "    <tr>\n",
       "      <th>name</th>\n",
       "      <th></th>\n",
       "      <th></th>\n",
       "    </tr>\n",
       "  </thead>\n",
       "  <tbody>\n",
       "    <tr>\n",
       "      <th>Вася</th>\n",
       "      <td>10</td>\n",
       "      <td>17</td>\n",
       "    </tr>\n",
       "    <tr>\n",
       "      <th>Петя</th>\n",
       "      <td>13</td>\n",
       "      <td>5</td>\n",
       "    </tr>\n",
       "    <tr>\n",
       "      <th>Таня</th>\n",
       "      <td>0</td>\n",
       "      <td>15</td>\n",
       "    </tr>\n",
       "  </tbody>\n",
       "</table>\n",
       "</div>"
      ],
      "text/plain": [
       "      potatoes  carrots\n",
       "name                   \n",
       "Вася        10       17\n",
       "Петя        13        5\n",
       "Таня         0       15"
      ]
     },
     "execution_count": 86,
     "metadata": {},
     "output_type": "execute_result"
    }
   ],
   "source": [
    "commits.groupby(\"name\").sum()  # количество овощей, *сгруппированное* по имени вкладчика:"
   ]
  },
  {
   "cell_type": "markdown",
   "id": "ebcbf1f2",
   "metadata": {
    "id": "ebcbf1f2"
   },
   "source": [
    "Чтобы вычислить несколько статистических функций, можно использовать метод `agg` (синоним `aggregate`)."
   ]
  },
  {
   "cell_type": "code",
   "execution_count": 87,
   "id": "d201e710",
   "metadata": {
    "id": "d201e710",
    "outputId": "34b6389f-e422-49de-8c3b-0c7a28824f06"
   },
   "outputs": [
    {
     "data": {
      "text/html": [
       "<div>\n",
       "<style scoped>\n",
       "    .dataframe tbody tr th:only-of-type {\n",
       "        vertical-align: middle;\n",
       "    }\n",
       "\n",
       "    .dataframe tbody tr th {\n",
       "        vertical-align: top;\n",
       "    }\n",
       "\n",
       "    .dataframe thead th {\n",
       "        text-align: right;\n",
       "    }\n",
       "</style>\n",
       "<table border=\"1\" class=\"dataframe\">\n",
       "  <thead>\n",
       "    <tr style=\"text-align: right;\">\n",
       "      <th></th>\n",
       "      <th>min</th>\n",
       "      <th>max</th>\n",
       "    </tr>\n",
       "    <tr>\n",
       "      <th>name</th>\n",
       "      <th></th>\n",
       "      <th></th>\n",
       "    </tr>\n",
       "  </thead>\n",
       "  <tbody>\n",
       "    <tr>\n",
       "      <th>Вася</th>\n",
       "      <td>2</td>\n",
       "      <td>15</td>\n",
       "    </tr>\n",
       "    <tr>\n",
       "      <th>Петя</th>\n",
       "      <td>0</td>\n",
       "      <td>2</td>\n",
       "    </tr>\n",
       "    <tr>\n",
       "      <th>Таня</th>\n",
       "      <td>4</td>\n",
       "      <td>6</td>\n",
       "    </tr>\n",
       "  </tbody>\n",
       "</table>\n",
       "</div>"
      ],
      "text/plain": [
       "      min  max\n",
       "name          \n",
       "Вася    2   15\n",
       "Петя    0    2\n",
       "Таня    4    6"
      ]
     },
     "execution_count": 87,
     "metadata": {},
     "output_type": "execute_result"
    }
   ],
   "source": [
    "commits.groupby(\"name\").carrots.aggregate([\"min\", \"max\"])  # мин. и макс. количество морковок за один вклад"
   ]
  },
  {
   "cell_type": "markdown",
   "id": "c02e4a98",
   "metadata": {
    "id": "c02e4a98"
   },
   "source": [
    "Если агрегацию при этом сделать сразу по нескольким числовым столбцам, то у нас получится *двухуровневый индекс* для столбцов:"
   ]
  },
  {
   "cell_type": "code",
   "execution_count": 88,
   "id": "7ccaf4ef",
   "metadata": {
    "id": "7ccaf4ef",
    "outputId": "133c8587-83e1-4bd4-b468-c3172499a741"
   },
   "outputs": [
    {
     "data": {
      "text/html": [
       "<div>\n",
       "<style scoped>\n",
       "    .dataframe tbody tr th:only-of-type {\n",
       "        vertical-align: middle;\n",
       "    }\n",
       "\n",
       "    .dataframe tbody tr th {\n",
       "        vertical-align: top;\n",
       "    }\n",
       "\n",
       "    .dataframe thead tr th {\n",
       "        text-align: left;\n",
       "    }\n",
       "\n",
       "    .dataframe thead tr:last-of-type th {\n",
       "        text-align: right;\n",
       "    }\n",
       "</style>\n",
       "<table border=\"1\" class=\"dataframe\">\n",
       "  <thead>\n",
       "    <tr>\n",
       "      <th></th>\n",
       "      <th colspan=\"2\" halign=\"left\">potatoes</th>\n",
       "      <th colspan=\"2\" halign=\"left\">carrots</th>\n",
       "    </tr>\n",
       "    <tr>\n",
       "      <th></th>\n",
       "      <th>min</th>\n",
       "      <th>max</th>\n",
       "      <th>min</th>\n",
       "      <th>max</th>\n",
       "    </tr>\n",
       "    <tr>\n",
       "      <th>name</th>\n",
       "      <th></th>\n",
       "      <th></th>\n",
       "      <th></th>\n",
       "      <th></th>\n",
       "    </tr>\n",
       "  </thead>\n",
       "  <tbody>\n",
       "    <tr>\n",
       "      <th>Вася</th>\n",
       "      <td>4</td>\n",
       "      <td>6</td>\n",
       "      <td>2</td>\n",
       "      <td>15</td>\n",
       "    </tr>\n",
       "    <tr>\n",
       "      <th>Петя</th>\n",
       "      <td>3</td>\n",
       "      <td>4</td>\n",
       "      <td>0</td>\n",
       "      <td>2</td>\n",
       "    </tr>\n",
       "    <tr>\n",
       "      <th>Таня</th>\n",
       "      <td>0</td>\n",
       "      <td>0</td>\n",
       "      <td>4</td>\n",
       "      <td>6</td>\n",
       "    </tr>\n",
       "  </tbody>\n",
       "</table>\n",
       "</div>"
      ],
      "text/plain": [
       "     potatoes     carrots    \n",
       "          min max     min max\n",
       "name                         \n",
       "Вася        4   6       2  15\n",
       "Петя        3   4       0   2\n",
       "Таня        0   0       4   6"
      ]
     },
     "execution_count": 88,
     "metadata": {},
     "output_type": "execute_result"
    }
   ],
   "source": [
    "commits.groupby(\"name\").aggregate([\"min\", \"max\"])  # мин. и макс. количество овощей за один вклад"
   ]
  },
  {
   "cell_type": "markdown",
   "id": "285bded2",
   "metadata": {
    "id": "285bded2"
   },
   "source": [
    "### Сводная таблица `pivot_table`\n",
    "Иногда нужно осуществить группировку случаев-строк сразу по нескольким категориальным параметрам.\n",
    "\n",
    "Допустим, участники олимпиады по программированию отправляли задачи в электронный контест. Таблица отправок в систему содержит:\n",
    "\n",
    "1. `run_id` — идентификатором запуска проверки,\n",
    "2. `username` — хешем имени пользователя,\n",
    "3. `problem` — буквой-идентификатором решаемой задачи,\n",
    "4. `result` — вердиктом проверяющей системы,\n",
    "5. `tests` — количеством успешно пройденных тестов при запуске,\n",
    "6. `score` — набранными очками."
   ]
  },
  {
   "cell_type": "code",
   "execution_count": 91,
   "id": "cf48586b",
   "metadata": {
    "id": "cf48586b",
    "outputId": "34161d2c-cc57-448d-c4a8-4de90cf51c1d"
   },
   "outputs": [
    {
     "data": {
      "text/html": [
       "<div>\n",
       "<style scoped>\n",
       "    .dataframe tbody tr th:only-of-type {\n",
       "        vertical-align: middle;\n",
       "    }\n",
       "\n",
       "    .dataframe tbody tr th {\n",
       "        vertical-align: top;\n",
       "    }\n",
       "\n",
       "    .dataframe thead th {\n",
       "        text-align: right;\n",
       "    }\n",
       "</style>\n",
       "<table border=\"1\" class=\"dataframe\">\n",
       "  <thead>\n",
       "    <tr style=\"text-align: right;\">\n",
       "      <th></th>\n",
       "      <th>username</th>\n",
       "      <th>problem</th>\n",
       "      <th>result</th>\n",
       "      <th>tests</th>\n",
       "      <th>score</th>\n",
       "    </tr>\n",
       "    <tr>\n",
       "      <th>run_id</th>\n",
       "      <th></th>\n",
       "      <th></th>\n",
       "      <th></th>\n",
       "      <th></th>\n",
       "      <th></th>\n",
       "    </tr>\n",
       "  </thead>\n",
       "  <tbody>\n",
       "    <tr>\n",
       "      <th>0</th>\n",
       "      <td>ae7ba9eb</td>\n",
       "      <td>B</td>\n",
       "      <td>OK</td>\n",
       "      <td>12</td>\n",
       "      <td>120</td>\n",
       "    </tr>\n",
       "    <tr>\n",
       "      <th>1</th>\n",
       "      <td>3470f1fd</td>\n",
       "      <td>A</td>\n",
       "      <td>OK</td>\n",
       "      <td>4</td>\n",
       "      <td>100</td>\n",
       "    </tr>\n",
       "    <tr>\n",
       "      <th>2</th>\n",
       "      <td>ae7ba9eb</td>\n",
       "      <td>C</td>\n",
       "      <td>OK</td>\n",
       "      <td>20</td>\n",
       "      <td>120</td>\n",
       "    </tr>\n",
       "    <tr>\n",
       "      <th>3</th>\n",
       "      <td>3470f1fd</td>\n",
       "      <td>B</td>\n",
       "      <td>partial</td>\n",
       "      <td>11</td>\n",
       "      <td>11</td>\n",
       "    </tr>\n",
       "    <tr>\n",
       "      <th>4</th>\n",
       "      <td>3470f1fd</td>\n",
       "      <td>B</td>\n",
       "      <td>OK</td>\n",
       "      <td>12</td>\n",
       "      <td>119</td>\n",
       "    </tr>\n",
       "  </tbody>\n",
       "</table>\n",
       "</div>"
      ],
      "text/plain": [
       "        username problem   result  tests  score\n",
       "run_id                                         \n",
       "0       ae7ba9eb       B       OK     12    120\n",
       "1       3470f1fd       A       OK      4    100\n",
       "2       ae7ba9eb       C       OK     20    120\n",
       "3       3470f1fd       B  partial     11     11\n",
       "4       3470f1fd       B       OK     12    119"
      ]
     },
     "execution_count": 91,
     "metadata": {},
     "output_type": "execute_result"
    }
   ],
   "source": [
    "runs = pd.read_csv(\"http://cs.mipt.ru/pydatan_2023/extra/data/olymp3_results.csv\", index_col='run_id')\n",
    "runs.head()"
   ]
  },
  {
   "cell_type": "markdown",
   "id": "11f8e4d2",
   "metadata": {
    "id": "11f8e4d2"
   },
   "source": [
    "Обратите внимание, что один и тот же участник мог отправлять задачу много раз.\n",
    "Допустим, нас интересует максимальное количество очков за каждый вид задачи, причём — отдельно для каждого пользователя.\n",
    "\n",
    "В этом случае разумно сделать в сводной таблице идентификатор пользователя индексом-меткой строки, а букву-идентфикатор задачи — индексом-меткой столбца. При этом информация из столбцов `result`, `test` и индекса `run_id` нас не интересует совсем — в качестве *значений* нас интересует только `score`:"
   ]
  },
  {
   "cell_type": "code",
   "execution_count": 92,
   "id": "98deebe7",
   "metadata": {
    "id": "98deebe7",
    "outputId": "8484b411-2749-4ca7-aa23-c25ae0ba415e"
   },
   "outputs": [
    {
     "data": {
      "text/html": [
       "<div>\n",
       "<style scoped>\n",
       "    .dataframe tbody tr th:only-of-type {\n",
       "        vertical-align: middle;\n",
       "    }\n",
       "\n",
       "    .dataframe tbody tr th {\n",
       "        vertical-align: top;\n",
       "    }\n",
       "\n",
       "    .dataframe thead th {\n",
       "        text-align: right;\n",
       "    }\n",
       "</style>\n",
       "<table border=\"1\" class=\"dataframe\">\n",
       "  <thead>\n",
       "    <tr style=\"text-align: right;\">\n",
       "      <th>problem</th>\n",
       "      <th>A</th>\n",
       "      <th>B</th>\n",
       "      <th>C</th>\n",
       "      <th>D</th>\n",
       "      <th>E</th>\n",
       "      <th>F</th>\n",
       "      <th>G</th>\n",
       "    </tr>\n",
       "    <tr>\n",
       "      <th>username</th>\n",
       "      <th></th>\n",
       "      <th></th>\n",
       "      <th></th>\n",
       "      <th></th>\n",
       "      <th></th>\n",
       "      <th></th>\n",
       "      <th></th>\n",
       "    </tr>\n",
       "  </thead>\n",
       "  <tbody>\n",
       "    <tr>\n",
       "      <th>012ebf1a</th>\n",
       "      <td>100.0</td>\n",
       "      <td>119.0</td>\n",
       "      <td>120.0</td>\n",
       "      <td>100.0</td>\n",
       "      <td>NaN</td>\n",
       "      <td>NaN</td>\n",
       "      <td>NaN</td>\n",
       "    </tr>\n",
       "    <tr>\n",
       "      <th>04652344</th>\n",
       "      <td>100.0</td>\n",
       "      <td>120.0</td>\n",
       "      <td>120.0</td>\n",
       "      <td>99.0</td>\n",
       "      <td>NaN</td>\n",
       "      <td>200.0</td>\n",
       "      <td>200.0</td>\n",
       "    </tr>\n",
       "    <tr>\n",
       "      <th>133bea0b</th>\n",
       "      <td>99.0</td>\n",
       "      <td>119.0</td>\n",
       "      <td>115.0</td>\n",
       "      <td>99.0</td>\n",
       "      <td>149.0</td>\n",
       "      <td>197.0</td>\n",
       "      <td>198.0</td>\n",
       "    </tr>\n",
       "    <tr>\n",
       "      <th>144a02e6</th>\n",
       "      <td>99.0</td>\n",
       "      <td>119.0</td>\n",
       "      <td>3.0</td>\n",
       "      <td>99.0</td>\n",
       "      <td>150.0</td>\n",
       "      <td>NaN</td>\n",
       "      <td>2.0</td>\n",
       "    </tr>\n",
       "    <tr>\n",
       "      <th>3274f498</th>\n",
       "      <td>100.0</td>\n",
       "      <td>119.0</td>\n",
       "      <td>119.0</td>\n",
       "      <td>99.0</td>\n",
       "      <td>149.0</td>\n",
       "      <td>NaN</td>\n",
       "      <td>197.0</td>\n",
       "    </tr>\n",
       "    <tr>\n",
       "      <th>3470f1fd</th>\n",
       "      <td>100.0</td>\n",
       "      <td>119.0</td>\n",
       "      <td>120.0</td>\n",
       "      <td>100.0</td>\n",
       "      <td>149.0</td>\n",
       "      <td>197.0</td>\n",
       "      <td>194.0</td>\n",
       "    </tr>\n",
       "    <tr>\n",
       "      <th>4d990bd5</th>\n",
       "      <td>NaN</td>\n",
       "      <td>NaN</td>\n",
       "      <td>120.0</td>\n",
       "      <td>NaN</td>\n",
       "      <td>NaN</td>\n",
       "      <td>NaN</td>\n",
       "      <td>NaN</td>\n",
       "    </tr>\n",
       "    <tr>\n",
       "      <th>63590cda</th>\n",
       "      <td>NaN</td>\n",
       "      <td>NaN</td>\n",
       "      <td>0.0</td>\n",
       "      <td>NaN</td>\n",
       "      <td>NaN</td>\n",
       "      <td>NaN</td>\n",
       "      <td>NaN</td>\n",
       "    </tr>\n",
       "    <tr>\n",
       "      <th>6bfd137c</th>\n",
       "      <td>100.0</td>\n",
       "      <td>120.0</td>\n",
       "      <td>19.0</td>\n",
       "      <td>100.0</td>\n",
       "      <td>NaN</td>\n",
       "      <td>NaN</td>\n",
       "      <td>NaN</td>\n",
       "    </tr>\n",
       "    <tr>\n",
       "      <th>88d40a26</th>\n",
       "      <td>100.0</td>\n",
       "      <td>120.0</td>\n",
       "      <td>120.0</td>\n",
       "      <td>100.0</td>\n",
       "      <td>150.0</td>\n",
       "      <td>NaN</td>\n",
       "      <td>200.0</td>\n",
       "    </tr>\n",
       "    <tr>\n",
       "      <th>898693b2</th>\n",
       "      <td>100.0</td>\n",
       "      <td>120.0</td>\n",
       "      <td>120.0</td>\n",
       "      <td>99.0</td>\n",
       "      <td>144.0</td>\n",
       "      <td>198.0</td>\n",
       "      <td>194.0</td>\n",
       "    </tr>\n",
       "    <tr>\n",
       "      <th>98920ce6</th>\n",
       "      <td>98.0</td>\n",
       "      <td>120.0</td>\n",
       "      <td>115.0</td>\n",
       "      <td>100.0</td>\n",
       "      <td>NaN</td>\n",
       "      <td>NaN</td>\n",
       "      <td>NaN</td>\n",
       "    </tr>\n",
       "    <tr>\n",
       "      <th>9bffce24</th>\n",
       "      <td>100.0</td>\n",
       "      <td>120.0</td>\n",
       "      <td>120.0</td>\n",
       "      <td>100.0</td>\n",
       "      <td>149.0</td>\n",
       "      <td>NaN</td>\n",
       "      <td>197.0</td>\n",
       "    </tr>\n",
       "    <tr>\n",
       "      <th>ae7ba9eb</th>\n",
       "      <td>NaN</td>\n",
       "      <td>120.0</td>\n",
       "      <td>120.0</td>\n",
       "      <td>99.0</td>\n",
       "      <td>148.0</td>\n",
       "      <td>199.0</td>\n",
       "      <td>193.0</td>\n",
       "    </tr>\n",
       "    <tr>\n",
       "      <th>b5f8b678</th>\n",
       "      <td>100.0</td>\n",
       "      <td>120.0</td>\n",
       "      <td>112.0</td>\n",
       "      <td>100.0</td>\n",
       "      <td>149.0</td>\n",
       "      <td>NaN</td>\n",
       "      <td>199.0</td>\n",
       "    </tr>\n",
       "    <tr>\n",
       "      <th>baee5b3d</th>\n",
       "      <td>100.0</td>\n",
       "      <td>119.0</td>\n",
       "      <td>120.0</td>\n",
       "      <td>99.0</td>\n",
       "      <td>148.0</td>\n",
       "      <td>197.0</td>\n",
       "      <td>194.0</td>\n",
       "    </tr>\n",
       "    <tr>\n",
       "      <th>bf376a59</th>\n",
       "      <td>100.0</td>\n",
       "      <td>120.0</td>\n",
       "      <td>119.0</td>\n",
       "      <td>99.0</td>\n",
       "      <td>3.0</td>\n",
       "      <td>200.0</td>\n",
       "      <td>200.0</td>\n",
       "    </tr>\n",
       "    <tr>\n",
       "      <th>bfd5e77e</th>\n",
       "      <td>100.0</td>\n",
       "      <td>120.0</td>\n",
       "      <td>120.0</td>\n",
       "      <td>100.0</td>\n",
       "      <td>150.0</td>\n",
       "      <td>NaN</td>\n",
       "      <td>NaN</td>\n",
       "    </tr>\n",
       "    <tr>\n",
       "      <th>c0065bd3</th>\n",
       "      <td>98.0</td>\n",
       "      <td>120.0</td>\n",
       "      <td>NaN</td>\n",
       "      <td>49.0</td>\n",
       "      <td>150.0</td>\n",
       "      <td>NaN</td>\n",
       "      <td>NaN</td>\n",
       "    </tr>\n",
       "    <tr>\n",
       "      <th>cbd1e30b</th>\n",
       "      <td>99.0</td>\n",
       "      <td>120.0</td>\n",
       "      <td>120.0</td>\n",
       "      <td>99.0</td>\n",
       "      <td>NaN</td>\n",
       "      <td>200.0</td>\n",
       "      <td>190.0</td>\n",
       "    </tr>\n",
       "    <tr>\n",
       "      <th>cdd8d075</th>\n",
       "      <td>100.0</td>\n",
       "      <td>119.0</td>\n",
       "      <td>120.0</td>\n",
       "      <td>98.0</td>\n",
       "      <td>150.0</td>\n",
       "      <td>200.0</td>\n",
       "      <td>NaN</td>\n",
       "    </tr>\n",
       "    <tr>\n",
       "      <th>d4b7e0db</th>\n",
       "      <td>100.0</td>\n",
       "      <td>NaN</td>\n",
       "      <td>NaN</td>\n",
       "      <td>NaN</td>\n",
       "      <td>NaN</td>\n",
       "      <td>NaN</td>\n",
       "      <td>NaN</td>\n",
       "    </tr>\n",
       "    <tr>\n",
       "      <th>f5df05d6</th>\n",
       "      <td>97.0</td>\n",
       "      <td>118.0</td>\n",
       "      <td>113.0</td>\n",
       "      <td>100.0</td>\n",
       "      <td>NaN</td>\n",
       "      <td>NaN</td>\n",
       "      <td>NaN</td>\n",
       "    </tr>\n",
       "    <tr>\n",
       "      <th>f832dae3</th>\n",
       "      <td>98.0</td>\n",
       "      <td>120.0</td>\n",
       "      <td>120.0</td>\n",
       "      <td>99.0</td>\n",
       "      <td>148.0</td>\n",
       "      <td>200.0</td>\n",
       "      <td>199.0</td>\n",
       "    </tr>\n",
       "  </tbody>\n",
       "</table>\n",
       "</div>"
      ],
      "text/plain": [
       "problem       A      B      C      D      E      F      G\n",
       "username                                                 \n",
       "012ebf1a  100.0  119.0  120.0  100.0    NaN    NaN    NaN\n",
       "04652344  100.0  120.0  120.0   99.0    NaN  200.0  200.0\n",
       "133bea0b   99.0  119.0  115.0   99.0  149.0  197.0  198.0\n",
       "144a02e6   99.0  119.0    3.0   99.0  150.0    NaN    2.0\n",
       "3274f498  100.0  119.0  119.0   99.0  149.0    NaN  197.0\n",
       "3470f1fd  100.0  119.0  120.0  100.0  149.0  197.0  194.0\n",
       "4d990bd5    NaN    NaN  120.0    NaN    NaN    NaN    NaN\n",
       "63590cda    NaN    NaN    0.0    NaN    NaN    NaN    NaN\n",
       "6bfd137c  100.0  120.0   19.0  100.0    NaN    NaN    NaN\n",
       "88d40a26  100.0  120.0  120.0  100.0  150.0    NaN  200.0\n",
       "898693b2  100.0  120.0  120.0   99.0  144.0  198.0  194.0\n",
       "98920ce6   98.0  120.0  115.0  100.0    NaN    NaN    NaN\n",
       "9bffce24  100.0  120.0  120.0  100.0  149.0    NaN  197.0\n",
       "ae7ba9eb    NaN  120.0  120.0   99.0  148.0  199.0  193.0\n",
       "b5f8b678  100.0  120.0  112.0  100.0  149.0    NaN  199.0\n",
       "baee5b3d  100.0  119.0  120.0   99.0  148.0  197.0  194.0\n",
       "bf376a59  100.0  120.0  119.0   99.0    3.0  200.0  200.0\n",
       "bfd5e77e  100.0  120.0  120.0  100.0  150.0    NaN    NaN\n",
       "c0065bd3   98.0  120.0    NaN   49.0  150.0    NaN    NaN\n",
       "cbd1e30b   99.0  120.0  120.0   99.0    NaN  200.0  190.0\n",
       "cdd8d075  100.0  119.0  120.0   98.0  150.0  200.0    NaN\n",
       "d4b7e0db  100.0    NaN    NaN    NaN    NaN    NaN    NaN\n",
       "f5df05d6   97.0  118.0  113.0  100.0    NaN    NaN    NaN\n",
       "f832dae3   98.0  120.0  120.0   99.0  148.0  200.0  199.0"
      ]
     },
     "execution_count": 92,
     "metadata": {},
     "output_type": "execute_result"
    }
   ],
   "source": [
    "standings = runs.pivot_table(values=\"score\", index=\"username\", columns=\"problem\", aggfunc=\"max\")\n",
    "standings  # сводная таблица результатов участников"
   ]
  },
  {
   "cell_type": "markdown",
   "id": "c624a7ae",
   "metadata": {
    "id": "c624a7ae"
   },
   "source": [
    "Из пожеланий к этой таблице результатов:"
   ]
  },
  {
   "cell_type": "code",
   "execution_count": 93,
   "id": "801cf2f4",
   "metadata": {
    "id": "801cf2f4",
    "outputId": "944d3198-b85b-4a5c-9205-f178deeab94f"
   },
   "outputs": [
    {
     "data": {
      "text/html": [
       "<div>\n",
       "<style scoped>\n",
       "    .dataframe tbody tr th:only-of-type {\n",
       "        vertical-align: middle;\n",
       "    }\n",
       "\n",
       "    .dataframe tbody tr th {\n",
       "        vertical-align: top;\n",
       "    }\n",
       "\n",
       "    .dataframe thead th {\n",
       "        text-align: right;\n",
       "    }\n",
       "</style>\n",
       "<table border=\"1\" class=\"dataframe\">\n",
       "  <thead>\n",
       "    <tr style=\"text-align: right;\">\n",
       "      <th>problem</th>\n",
       "      <th>A</th>\n",
       "      <th>B</th>\n",
       "      <th>C</th>\n",
       "      <th>D</th>\n",
       "      <th>E</th>\n",
       "      <th>F</th>\n",
       "      <th>G</th>\n",
       "    </tr>\n",
       "    <tr>\n",
       "      <th>username</th>\n",
       "      <th></th>\n",
       "      <th></th>\n",
       "      <th></th>\n",
       "      <th></th>\n",
       "      <th></th>\n",
       "      <th></th>\n",
       "      <th></th>\n",
       "    </tr>\n",
       "  </thead>\n",
       "  <tbody>\n",
       "    <tr>\n",
       "      <th>012ebf1a</th>\n",
       "      <td>100.0</td>\n",
       "      <td>119.0</td>\n",
       "      <td>120.0</td>\n",
       "      <td>100.0</td>\n",
       "      <td>0.0</td>\n",
       "      <td>0.0</td>\n",
       "      <td>0.0</td>\n",
       "    </tr>\n",
       "    <tr>\n",
       "      <th>04652344</th>\n",
       "      <td>100.0</td>\n",
       "      <td>120.0</td>\n",
       "      <td>120.0</td>\n",
       "      <td>99.0</td>\n",
       "      <td>0.0</td>\n",
       "      <td>200.0</td>\n",
       "      <td>200.0</td>\n",
       "    </tr>\n",
       "    <tr>\n",
       "      <th>133bea0b</th>\n",
       "      <td>99.0</td>\n",
       "      <td>119.0</td>\n",
       "      <td>115.0</td>\n",
       "      <td>99.0</td>\n",
       "      <td>149.0</td>\n",
       "      <td>197.0</td>\n",
       "      <td>198.0</td>\n",
       "    </tr>\n",
       "  </tbody>\n",
       "</table>\n",
       "</div>"
      ],
      "text/plain": [
       "problem       A      B      C      D      E      F      G\n",
       "username                                                 \n",
       "012ebf1a  100.0  119.0  120.0  100.0    0.0    0.0    0.0\n",
       "04652344  100.0  120.0  120.0   99.0    0.0  200.0  200.0\n",
       "133bea0b   99.0  119.0  115.0   99.0  149.0  197.0  198.0"
      ]
     },
     "execution_count": 93,
     "metadata": {},
     "output_type": "execute_result"
    }
   ],
   "source": [
    "# 1. Заменить `NaN` на 0.\n",
    "standings.fillna(0, inplace=True)  # можно было указать fill_value=0 для pivot_table\n",
    "standings.head(3)"
   ]
  },
  {
   "cell_type": "code",
   "execution_count": 94,
   "id": "f9f05c83",
   "metadata": {
    "id": "f9f05c83",
    "outputId": "487ab073-11fa-4932-be1b-58cdd26efb1b"
   },
   "outputs": [
    {
     "data": {
      "text/html": [
       "<div>\n",
       "<style scoped>\n",
       "    .dataframe tbody tr th:only-of-type {\n",
       "        vertical-align: middle;\n",
       "    }\n",
       "\n",
       "    .dataframe tbody tr th {\n",
       "        vertical-align: top;\n",
       "    }\n",
       "\n",
       "    .dataframe thead th {\n",
       "        text-align: right;\n",
       "    }\n",
       "</style>\n",
       "<table border=\"1\" class=\"dataframe\">\n",
       "  <thead>\n",
       "    <tr style=\"text-align: right;\">\n",
       "      <th>problem</th>\n",
       "      <th>A</th>\n",
       "      <th>B</th>\n",
       "      <th>C</th>\n",
       "      <th>D</th>\n",
       "      <th>E</th>\n",
       "      <th>F</th>\n",
       "      <th>G</th>\n",
       "      <th>score</th>\n",
       "    </tr>\n",
       "    <tr>\n",
       "      <th>username</th>\n",
       "      <th></th>\n",
       "      <th></th>\n",
       "      <th></th>\n",
       "      <th></th>\n",
       "      <th></th>\n",
       "      <th></th>\n",
       "      <th></th>\n",
       "      <th></th>\n",
       "    </tr>\n",
       "  </thead>\n",
       "  <tbody>\n",
       "    <tr>\n",
       "      <th>012ebf1a</th>\n",
       "      <td>100.0</td>\n",
       "      <td>119.0</td>\n",
       "      <td>120.0</td>\n",
       "      <td>100.0</td>\n",
       "      <td>0.0</td>\n",
       "      <td>0.0</td>\n",
       "      <td>0.0</td>\n",
       "      <td>439.0</td>\n",
       "    </tr>\n",
       "    <tr>\n",
       "      <th>04652344</th>\n",
       "      <td>100.0</td>\n",
       "      <td>120.0</td>\n",
       "      <td>120.0</td>\n",
       "      <td>99.0</td>\n",
       "      <td>0.0</td>\n",
       "      <td>200.0</td>\n",
       "      <td>200.0</td>\n",
       "      <td>839.0</td>\n",
       "    </tr>\n",
       "    <tr>\n",
       "      <th>133bea0b</th>\n",
       "      <td>99.0</td>\n",
       "      <td>119.0</td>\n",
       "      <td>115.0</td>\n",
       "      <td>99.0</td>\n",
       "      <td>149.0</td>\n",
       "      <td>197.0</td>\n",
       "      <td>198.0</td>\n",
       "      <td>976.0</td>\n",
       "    </tr>\n",
       "  </tbody>\n",
       "</table>\n",
       "</div>"
      ],
      "text/plain": [
       "problem       A      B      C      D      E      F      G  score\n",
       "username                                                        \n",
       "012ebf1a  100.0  119.0  120.0  100.0    0.0    0.0    0.0  439.0\n",
       "04652344  100.0  120.0  120.0   99.0    0.0  200.0  200.0  839.0\n",
       "133bea0b   99.0  119.0  115.0   99.0  149.0  197.0  198.0  976.0"
      ]
     },
     "execution_count": 94,
     "metadata": {},
     "output_type": "execute_result"
    }
   ],
   "source": [
    "# 2. В последнем столбце `score` посчитать сумму\n",
    "#    максимальных достигнутых баллов для каждого пользователя.\n",
    "standings[\"score\"] = standings.sum(axis=1)\n",
    "standings.head(3)"
   ]
  },
  {
   "cell_type": "code",
   "execution_count": 95,
   "id": "ebe305fc",
   "metadata": {
    "id": "ebe305fc",
    "outputId": "b4024e4d-ff65-49d6-8fcb-94e64b9ffd29"
   },
   "outputs": [
    {
     "data": {
      "text/html": [
       "<div>\n",
       "<style scoped>\n",
       "    .dataframe tbody tr th:only-of-type {\n",
       "        vertical-align: middle;\n",
       "    }\n",
       "\n",
       "    .dataframe tbody tr th {\n",
       "        vertical-align: top;\n",
       "    }\n",
       "\n",
       "    .dataframe thead th {\n",
       "        text-align: right;\n",
       "    }\n",
       "</style>\n",
       "<table border=\"1\" class=\"dataframe\">\n",
       "  <thead>\n",
       "    <tr style=\"text-align: right;\">\n",
       "      <th>problem</th>\n",
       "      <th>A</th>\n",
       "      <th>B</th>\n",
       "      <th>C</th>\n",
       "      <th>D</th>\n",
       "      <th>E</th>\n",
       "      <th>F</th>\n",
       "      <th>G</th>\n",
       "      <th>score</th>\n",
       "    </tr>\n",
       "    <tr>\n",
       "      <th>username</th>\n",
       "      <th></th>\n",
       "      <th></th>\n",
       "      <th></th>\n",
       "      <th></th>\n",
       "      <th></th>\n",
       "      <th></th>\n",
       "      <th></th>\n",
       "      <th></th>\n",
       "    </tr>\n",
       "  </thead>\n",
       "  <tbody>\n",
       "    <tr>\n",
       "      <th>f832dae3</th>\n",
       "      <td>98.0</td>\n",
       "      <td>120.0</td>\n",
       "      <td>120.0</td>\n",
       "      <td>99.0</td>\n",
       "      <td>148.0</td>\n",
       "      <td>200.0</td>\n",
       "      <td>199.0</td>\n",
       "      <td>984.0</td>\n",
       "    </tr>\n",
       "    <tr>\n",
       "      <th>3470f1fd</th>\n",
       "      <td>100.0</td>\n",
       "      <td>119.0</td>\n",
       "      <td>120.0</td>\n",
       "      <td>100.0</td>\n",
       "      <td>149.0</td>\n",
       "      <td>197.0</td>\n",
       "      <td>194.0</td>\n",
       "      <td>979.0</td>\n",
       "    </tr>\n",
       "    <tr>\n",
       "      <th>baee5b3d</th>\n",
       "      <td>100.0</td>\n",
       "      <td>119.0</td>\n",
       "      <td>120.0</td>\n",
       "      <td>99.0</td>\n",
       "      <td>148.0</td>\n",
       "      <td>197.0</td>\n",
       "      <td>194.0</td>\n",
       "      <td>977.0</td>\n",
       "    </tr>\n",
       "  </tbody>\n",
       "</table>\n",
       "</div>"
      ],
      "text/plain": [
       "problem       A      B      C      D      E      F      G  score\n",
       "username                                                        \n",
       "f832dae3   98.0  120.0  120.0   99.0  148.0  200.0  199.0  984.0\n",
       "3470f1fd  100.0  119.0  120.0  100.0  149.0  197.0  194.0  979.0\n",
       "baee5b3d  100.0  119.0  120.0   99.0  148.0  197.0  194.0  977.0"
      ]
     },
     "execution_count": 95,
     "metadata": {},
     "output_type": "execute_result"
    }
   ],
   "source": [
    "# 3. Отсортировать по убыванию `score` все строки таблицы.\n",
    "standings.sort_values(by=\"score\", ascending=False, inplace=True)\n",
    "standings.head(3)  # лучшие по сумме баллов 3 участника олимпиады:"
   ]
  },
  {
   "cell_type": "markdown",
   "id": "db094a89",
   "metadata": {
    "id": "db094a89"
   },
   "source": [
    "### Разворачивание сводной таблицы `melt`\n",
    "**Обратное преобразование из сводной таблицы в таблицу случаев невозможно!**\n",
    "\n",
    "Это очевидно, поскольку:\n",
    "1. при подготовке сводной таблицы производилась агрегация (редукция серии чисел к одному числу),\n",
    "2. часть столбцов, не относящаяся к `values`, игнорировалась.\n",
    "\n",
    "Однако, можно развернуть ту небольшую статистическую выжимку, которая у нас осталась.\n",
    "Для таблицы результатов олимпиады это будут только лучшие отправки по каждому пользователю и задаче:"
   ]
  },
  {
   "cell_type": "code",
   "execution_count": 96,
   "id": "72c6c318",
   "metadata": {
    "id": "72c6c318",
    "outputId": "1a5a2613-73b0-4cda-9dc1-d305dffe86e0"
   },
   "outputs": [
    {
     "data": {
      "text/html": [
       "<div>\n",
       "<style scoped>\n",
       "    .dataframe tbody tr th:only-of-type {\n",
       "        vertical-align: middle;\n",
       "    }\n",
       "\n",
       "    .dataframe tbody tr th {\n",
       "        vertical-align: top;\n",
       "    }\n",
       "\n",
       "    .dataframe thead th {\n",
       "        text-align: right;\n",
       "    }\n",
       "</style>\n",
       "<table border=\"1\" class=\"dataframe\">\n",
       "  <thead>\n",
       "    <tr style=\"text-align: right;\">\n",
       "      <th></th>\n",
       "      <th>username</th>\n",
       "      <th>problem</th>\n",
       "      <th>value</th>\n",
       "    </tr>\n",
       "  </thead>\n",
       "  <tbody>\n",
       "    <tr>\n",
       "      <th>0</th>\n",
       "      <td>f832dae3</td>\n",
       "      <td>A</td>\n",
       "      <td>98.0</td>\n",
       "    </tr>\n",
       "    <tr>\n",
       "      <th>1</th>\n",
       "      <td>3470f1fd</td>\n",
       "      <td>A</td>\n",
       "      <td>100.0</td>\n",
       "    </tr>\n",
       "    <tr>\n",
       "      <th>2</th>\n",
       "      <td>baee5b3d</td>\n",
       "      <td>A</td>\n",
       "      <td>100.0</td>\n",
       "    </tr>\n",
       "    <tr>\n",
       "      <th>3</th>\n",
       "      <td>133bea0b</td>\n",
       "      <td>A</td>\n",
       "      <td>99.0</td>\n",
       "    </tr>\n",
       "    <tr>\n",
       "      <th>4</th>\n",
       "      <td>898693b2</td>\n",
       "      <td>A</td>\n",
       "      <td>100.0</td>\n",
       "    </tr>\n",
       "    <tr>\n",
       "      <th>...</th>\n",
       "      <td>...</td>\n",
       "      <td>...</td>\n",
       "      <td>...</td>\n",
       "    </tr>\n",
       "    <tr>\n",
       "      <th>139</th>\n",
       "      <td>c0065bd3</td>\n",
       "      <td>G</td>\n",
       "      <td>0.0</td>\n",
       "    </tr>\n",
       "    <tr>\n",
       "      <th>140</th>\n",
       "      <td>6bfd137c</td>\n",
       "      <td>G</td>\n",
       "      <td>0.0</td>\n",
       "    </tr>\n",
       "    <tr>\n",
       "      <th>141</th>\n",
       "      <td>4d990bd5</td>\n",
       "      <td>G</td>\n",
       "      <td>0.0</td>\n",
       "    </tr>\n",
       "    <tr>\n",
       "      <th>142</th>\n",
       "      <td>d4b7e0db</td>\n",
       "      <td>G</td>\n",
       "      <td>0.0</td>\n",
       "    </tr>\n",
       "    <tr>\n",
       "      <th>143</th>\n",
       "      <td>63590cda</td>\n",
       "      <td>G</td>\n",
       "      <td>0.0</td>\n",
       "    </tr>\n",
       "  </tbody>\n",
       "</table>\n",
       "<p>144 rows × 3 columns</p>\n",
       "</div>"
      ],
      "text/plain": [
       "     username problem  value\n",
       "0    f832dae3       A   98.0\n",
       "1    3470f1fd       A  100.0\n",
       "2    baee5b3d       A  100.0\n",
       "3    133bea0b       A   99.0\n",
       "4    898693b2       A  100.0\n",
       "..        ...     ...    ...\n",
       "139  c0065bd3       G    0.0\n",
       "140  6bfd137c       G    0.0\n",
       "141  4d990bd5       G    0.0\n",
       "142  d4b7e0db       G    0.0\n",
       "143  63590cda       G    0.0\n",
       "\n",
       "[144 rows x 3 columns]"
      ]
     },
     "execution_count": 96,
     "metadata": {},
     "output_type": "execute_result"
    }
   ],
   "source": [
    "standings.reset_index().melt(id_vars=['username'], value_vars=['A', 'B', 'C', 'C', 'E', 'F', 'G'])"
   ]
  },
  {
   "cell_type": "markdown",
   "id": "398f986a",
   "metadata": {
    "id": "398f986a"
   },
   "source": [
    "Замечание. Для того, чтобы использовать `username` в качестве `id_vars` пришлось вначале убрать его из индекса в обычный столбец при помощи `reset_index()`."
   ]
  },
  {
   "cell_type": "markdown",
   "id": "d3f80fd3",
   "metadata": {
    "id": "d3f80fd3"
   },
   "source": [
    "## Слияние данных из нескольких таблиц\n",
    "Иногда данные о случаях или объектах содержатся в нескольких таблицах, при этом в каждой таблице есть своя специфика.\n",
    "\n",
    "### Конкатенация таблиц `concat` \n",
    "При использовании конкатенации происходит механическое прибавление строк второй таблицы к строкам первой таблицы:"
   ]
  },
  {
   "cell_type": "code",
   "execution_count": 102,
   "id": "94d2e6e8",
   "metadata": {
    "id": "94d2e6e8",
    "outputId": "8d1ff7dd-c43d-446b-fe33-a6ad6195eca6"
   },
   "outputs": [
    {
     "data": {
      "text/html": [
       "<div>\n",
       "<style scoped>\n",
       "    .dataframe tbody tr th:only-of-type {\n",
       "        vertical-align: middle;\n",
       "    }\n",
       "\n",
       "    .dataframe tbody tr th {\n",
       "        vertical-align: top;\n",
       "    }\n",
       "\n",
       "    .dataframe thead th {\n",
       "        text-align: right;\n",
       "    }\n",
       "</style>\n",
       "<table border=\"1\" class=\"dataframe\">\n",
       "  <thead>\n",
       "    <tr style=\"text-align: right;\">\n",
       "      <th></th>\n",
       "      <th>login</th>\n",
       "      <th>A</th>\n",
       "      <th>B</th>\n",
       "      <th>C</th>\n",
       "    </tr>\n",
       "  </thead>\n",
       "  <tbody>\n",
       "    <tr>\n",
       "      <th>0</th>\n",
       "      <td>login1</td>\n",
       "      <td>2</td>\n",
       "      <td>5</td>\n",
       "      <td>5</td>\n",
       "    </tr>\n",
       "    <tr>\n",
       "      <th>1</th>\n",
       "      <td>login2</td>\n",
       "      <td>0</td>\n",
       "      <td>3</td>\n",
       "      <td>3</td>\n",
       "    </tr>\n",
       "    <tr>\n",
       "      <th>2</th>\n",
       "      <td>login3</td>\n",
       "      <td>5</td>\n",
       "      <td>5</td>\n",
       "      <td>5</td>\n",
       "    </tr>\n",
       "  </tbody>\n",
       "</table>\n",
       "</div>"
      ],
      "text/plain": [
       "    login  A  B  C\n",
       "0  login1  2  5  5\n",
       "1  login2  0  3  3\n",
       "2  login3  5  5  5"
      ]
     },
     "execution_count": 102,
     "metadata": {},
     "output_type": "execute_result"
    }
   ],
   "source": [
    "scores1 = pd.DataFrame({'login':  ['login1', 'login2', 'login3'],\n",
    "                        'A': [2, 0, 5], 'B': [5, 3, 5], 'C': [5, 3, 5],})\n",
    "scores1"
   ]
  },
  {
   "cell_type": "code",
   "execution_count": 103,
   "id": "ffffc6ff",
   "metadata": {
    "id": "ffffc6ff",
    "outputId": "e3d83d06-5fad-4077-c5ec-97c8ec7d03a1"
   },
   "outputs": [
    {
     "data": {
      "text/html": [
       "<div>\n",
       "<style scoped>\n",
       "    .dataframe tbody tr th:only-of-type {\n",
       "        vertical-align: middle;\n",
       "    }\n",
       "\n",
       "    .dataframe tbody tr th {\n",
       "        vertical-align: top;\n",
       "    }\n",
       "\n",
       "    .dataframe thead th {\n",
       "        text-align: right;\n",
       "    }\n",
       "</style>\n",
       "<table border=\"1\" class=\"dataframe\">\n",
       "  <thead>\n",
       "    <tr style=\"text-align: right;\">\n",
       "      <th></th>\n",
       "      <th>login</th>\n",
       "      <th>A</th>\n",
       "      <th>B</th>\n",
       "      <th>C</th>\n",
       "    </tr>\n",
       "  </thead>\n",
       "  <tbody>\n",
       "    <tr>\n",
       "      <th>0</th>\n",
       "      <td>login4</td>\n",
       "      <td>1</td>\n",
       "      <td>3</td>\n",
       "      <td>4</td>\n",
       "    </tr>\n",
       "    <tr>\n",
       "      <th>1</th>\n",
       "      <td>login5</td>\n",
       "      <td>3</td>\n",
       "      <td>0</td>\n",
       "      <td>2</td>\n",
       "    </tr>\n",
       "  </tbody>\n",
       "</table>\n",
       "</div>"
      ],
      "text/plain": [
       "    login  A  B  C\n",
       "0  login4  1  3  4\n",
       "1  login5  3  0  2"
      ]
     },
     "execution_count": 103,
     "metadata": {},
     "output_type": "execute_result"
    }
   ],
   "source": [
    "scores2 = pd.DataFrame({'login':  ['login4', 'login5'],\n",
    "                        'A': [1, 3], 'B': [3, 0], 'C': [4, 2]})\n",
    "scores2"
   ]
  },
  {
   "cell_type": "code",
   "execution_count": 104,
   "id": "b537d4f1",
   "metadata": {
    "id": "b537d4f1",
    "outputId": "a4407e44-b21e-4636-ca19-d87d84b85fe1"
   },
   "outputs": [
    {
     "data": {
      "text/html": [
       "<div>\n",
       "<style scoped>\n",
       "    .dataframe tbody tr th:only-of-type {\n",
       "        vertical-align: middle;\n",
       "    }\n",
       "\n",
       "    .dataframe tbody tr th {\n",
       "        vertical-align: top;\n",
       "    }\n",
       "\n",
       "    .dataframe thead th {\n",
       "        text-align: right;\n",
       "    }\n",
       "</style>\n",
       "<table border=\"1\" class=\"dataframe\">\n",
       "  <thead>\n",
       "    <tr style=\"text-align: right;\">\n",
       "      <th></th>\n",
       "      <th>login</th>\n",
       "      <th>A</th>\n",
       "      <th>B</th>\n",
       "      <th>C</th>\n",
       "    </tr>\n",
       "  </thead>\n",
       "  <tbody>\n",
       "    <tr>\n",
       "      <th>0</th>\n",
       "      <td>login1</td>\n",
       "      <td>2</td>\n",
       "      <td>5</td>\n",
       "      <td>5</td>\n",
       "    </tr>\n",
       "    <tr>\n",
       "      <th>1</th>\n",
       "      <td>login2</td>\n",
       "      <td>0</td>\n",
       "      <td>3</td>\n",
       "      <td>3</td>\n",
       "    </tr>\n",
       "    <tr>\n",
       "      <th>2</th>\n",
       "      <td>login3</td>\n",
       "      <td>5</td>\n",
       "      <td>5</td>\n",
       "      <td>5</td>\n",
       "    </tr>\n",
       "    <tr>\n",
       "      <th>0</th>\n",
       "      <td>login4</td>\n",
       "      <td>1</td>\n",
       "      <td>3</td>\n",
       "      <td>4</td>\n",
       "    </tr>\n",
       "    <tr>\n",
       "      <th>1</th>\n",
       "      <td>login5</td>\n",
       "      <td>3</td>\n",
       "      <td>0</td>\n",
       "      <td>2</td>\n",
       "    </tr>\n",
       "  </tbody>\n",
       "</table>\n",
       "</div>"
      ],
      "text/plain": [
       "    login  A  B  C\n",
       "0  login1  2  5  5\n",
       "1  login2  0  3  3\n",
       "2  login3  5  5  5\n",
       "0  login4  1  3  4\n",
       "1  login5  3  0  2"
      ]
     },
     "execution_count": 104,
     "metadata": {},
     "output_type": "execute_result"
    }
   ],
   "source": [
    "scores = pd.concat([scores1, scores2])\n",
    "scores"
   ]
  },
  {
   "cell_type": "code",
   "execution_count": 105,
   "id": "7603a0f9",
   "metadata": {
    "id": "7603a0f9",
    "outputId": "d6374964-0e7d-44f1-edfa-47957cfd231a"
   },
   "outputs": [
    {
     "data": {
      "text/html": [
       "<div>\n",
       "<style scoped>\n",
       "    .dataframe tbody tr th:only-of-type {\n",
       "        vertical-align: middle;\n",
       "    }\n",
       "\n",
       "    .dataframe tbody tr th {\n",
       "        vertical-align: top;\n",
       "    }\n",
       "\n",
       "    .dataframe thead th {\n",
       "        text-align: right;\n",
       "    }\n",
       "</style>\n",
       "<table border=\"1\" class=\"dataframe\">\n",
       "  <thead>\n",
       "    <tr style=\"text-align: right;\">\n",
       "      <th></th>\n",
       "      <th>login</th>\n",
       "      <th>A</th>\n",
       "      <th>B</th>\n",
       "      <th>C</th>\n",
       "    </tr>\n",
       "  </thead>\n",
       "  <tbody>\n",
       "    <tr>\n",
       "      <th>0</th>\n",
       "      <td>login1</td>\n",
       "      <td>2</td>\n",
       "      <td>5</td>\n",
       "      <td>5</td>\n",
       "    </tr>\n",
       "    <tr>\n",
       "      <th>1</th>\n",
       "      <td>login2</td>\n",
       "      <td>0</td>\n",
       "      <td>3</td>\n",
       "      <td>3</td>\n",
       "    </tr>\n",
       "    <tr>\n",
       "      <th>2</th>\n",
       "      <td>login3</td>\n",
       "      <td>5</td>\n",
       "      <td>5</td>\n",
       "      <td>5</td>\n",
       "    </tr>\n",
       "    <tr>\n",
       "      <th>3</th>\n",
       "      <td>login4</td>\n",
       "      <td>1</td>\n",
       "      <td>3</td>\n",
       "      <td>4</td>\n",
       "    </tr>\n",
       "    <tr>\n",
       "      <th>4</th>\n",
       "      <td>login5</td>\n",
       "      <td>3</td>\n",
       "      <td>0</td>\n",
       "      <td>2</td>\n",
       "    </tr>\n",
       "  </tbody>\n",
       "</table>\n",
       "</div>"
      ],
      "text/plain": [
       "    login  A  B  C\n",
       "0  login1  2  5  5\n",
       "1  login2  0  3  3\n",
       "2  login3  5  5  5\n",
       "3  login4  1  3  4\n",
       "4  login5  3  0  2"
      ]
     },
     "execution_count": 105,
     "metadata": {},
     "output_type": "execute_result"
    }
   ],
   "source": [
    "# можно было при pd.concat() добавить ignore_index=True,\n",
    "# но можно и починить поломанный индекс вручную (методом его отбрасывания):\n",
    "scores.reset_index(inplace=True)\n",
    "scores.drop(columns=[\"index\"], inplace=True)\n",
    "scores"
   ]
  },
  {
   "cell_type": "markdown",
   "id": "9266f78c",
   "metadata": {
    "id": "9266f78c"
   },
   "source": [
    "Возможна и другая конкатенация — по горизонтали (`axis=1`):"
   ]
  },
  {
   "cell_type": "code",
   "execution_count": 106,
   "id": "65c6c13d",
   "metadata": {
    "id": "65c6c13d",
    "outputId": "1911ff10-7ee1-4e83-8e5a-822d4b7ffaa8"
   },
   "outputs": [
    {
     "data": {
      "text/html": [
       "<div>\n",
       "<style scoped>\n",
       "    .dataframe tbody tr th:only-of-type {\n",
       "        vertical-align: middle;\n",
       "    }\n",
       "\n",
       "    .dataframe tbody tr th {\n",
       "        vertical-align: top;\n",
       "    }\n",
       "\n",
       "    .dataframe thead th {\n",
       "        text-align: right;\n",
       "    }\n",
       "</style>\n",
       "<table border=\"1\" class=\"dataframe\">\n",
       "  <thead>\n",
       "    <tr style=\"text-align: right;\">\n",
       "      <th></th>\n",
       "      <th>login</th>\n",
       "      <th>D</th>\n",
       "      <th>E</th>\n",
       "    </tr>\n",
       "  </thead>\n",
       "  <tbody>\n",
       "    <tr>\n",
       "      <th>0</th>\n",
       "      <td>login2</td>\n",
       "      <td>8</td>\n",
       "      <td>3</td>\n",
       "    </tr>\n",
       "    <tr>\n",
       "      <th>1</th>\n",
       "      <td>login5</td>\n",
       "      <td>2</td>\n",
       "      <td>0</td>\n",
       "    </tr>\n",
       "    <tr>\n",
       "      <th>2</th>\n",
       "      <td>login6</td>\n",
       "      <td>7</td>\n",
       "      <td>10</td>\n",
       "    </tr>\n",
       "  </tbody>\n",
       "</table>\n",
       "</div>"
      ],
      "text/plain": [
       "    login  D   E\n",
       "0  login2  8   3\n",
       "1  login5  2   0\n",
       "2  login6  7  10"
      ]
     },
     "execution_count": 106,
     "metadata": {},
     "output_type": "execute_result"
    }
   ],
   "source": [
    "scores3 = pd.DataFrame({'login':  ['login2', 'login5', 'login6'],\n",
    "                        'D': [8, 2, 7], 'E': [3, 0, 10]})\n",
    "scores3"
   ]
  },
  {
   "cell_type": "code",
   "execution_count": 107,
   "id": "3ed45753",
   "metadata": {
    "id": "3ed45753",
    "outputId": "481bb0fe-4a89-42c5-eb7c-3f26ab982445"
   },
   "outputs": [
    {
     "data": {
      "text/html": [
       "<div>\n",
       "<style scoped>\n",
       "    .dataframe tbody tr th:only-of-type {\n",
       "        vertical-align: middle;\n",
       "    }\n",
       "\n",
       "    .dataframe tbody tr th {\n",
       "        vertical-align: top;\n",
       "    }\n",
       "\n",
       "    .dataframe thead th {\n",
       "        text-align: right;\n",
       "    }\n",
       "</style>\n",
       "<table border=\"1\" class=\"dataframe\">\n",
       "  <thead>\n",
       "    <tr style=\"text-align: right;\">\n",
       "      <th></th>\n",
       "      <th>login</th>\n",
       "      <th>A</th>\n",
       "      <th>B</th>\n",
       "      <th>C</th>\n",
       "      <th>login</th>\n",
       "      <th>D</th>\n",
       "      <th>E</th>\n",
       "    </tr>\n",
       "  </thead>\n",
       "  <tbody>\n",
       "    <tr>\n",
       "      <th>0</th>\n",
       "      <td>login1</td>\n",
       "      <td>2</td>\n",
       "      <td>5</td>\n",
       "      <td>5</td>\n",
       "      <td>login2</td>\n",
       "      <td>8.0</td>\n",
       "      <td>3.0</td>\n",
       "    </tr>\n",
       "    <tr>\n",
       "      <th>1</th>\n",
       "      <td>login2</td>\n",
       "      <td>0</td>\n",
       "      <td>3</td>\n",
       "      <td>3</td>\n",
       "      <td>login5</td>\n",
       "      <td>2.0</td>\n",
       "      <td>0.0</td>\n",
       "    </tr>\n",
       "    <tr>\n",
       "      <th>2</th>\n",
       "      <td>login3</td>\n",
       "      <td>5</td>\n",
       "      <td>5</td>\n",
       "      <td>5</td>\n",
       "      <td>login6</td>\n",
       "      <td>7.0</td>\n",
       "      <td>10.0</td>\n",
       "    </tr>\n",
       "    <tr>\n",
       "      <th>3</th>\n",
       "      <td>login4</td>\n",
       "      <td>1</td>\n",
       "      <td>3</td>\n",
       "      <td>4</td>\n",
       "      <td>NaN</td>\n",
       "      <td>NaN</td>\n",
       "      <td>NaN</td>\n",
       "    </tr>\n",
       "    <tr>\n",
       "      <th>4</th>\n",
       "      <td>login5</td>\n",
       "      <td>3</td>\n",
       "      <td>0</td>\n",
       "      <td>2</td>\n",
       "      <td>NaN</td>\n",
       "      <td>NaN</td>\n",
       "      <td>NaN</td>\n",
       "    </tr>\n",
       "  </tbody>\n",
       "</table>\n",
       "</div>"
      ],
      "text/plain": [
       "    login  A  B  C   login    D     E\n",
       "0  login1  2  5  5  login2  8.0   3.0\n",
       "1  login2  0  3  3  login5  2.0   0.0\n",
       "2  login3  5  5  5  login6  7.0  10.0\n",
       "3  login4  1  3  4     NaN  NaN   NaN\n",
       "4  login5  3  0  2     NaN  NaN   NaN"
      ]
     },
     "execution_count": 107,
     "metadata": {},
     "output_type": "execute_result"
    }
   ],
   "source": [
    "pd.concat([scores, scores3], axis=1)"
   ]
  },
  {
   "cell_type": "markdown",
   "id": "a8807110",
   "metadata": {
    "id": "a8807110"
   },
   "source": [
    "Осторожно!!! Обратите внимание, что теперь сломана сама логика объединения, так при соединении нужно учитывать равенство `login`."
   ]
  },
  {
   "cell_type": "markdown",
   "id": "98c290e5",
   "metadata": {
    "id": "98c290e5"
   },
   "source": [
    "### Объединение таблиц при помощи `merge`\n",
    "Вместо функции `pd.concat()` давайте применим метод `merge`:"
   ]
  },
  {
   "cell_type": "code",
   "execution_count": 108,
   "id": "52099cc0",
   "metadata": {
    "id": "52099cc0",
    "outputId": "228499a3-f95b-4bfb-9ae6-26bbfebc025f"
   },
   "outputs": [
    {
     "data": {
      "text/html": [
       "<div>\n",
       "<style scoped>\n",
       "    .dataframe tbody tr th:only-of-type {\n",
       "        vertical-align: middle;\n",
       "    }\n",
       "\n",
       "    .dataframe tbody tr th {\n",
       "        vertical-align: top;\n",
       "    }\n",
       "\n",
       "    .dataframe thead th {\n",
       "        text-align: right;\n",
       "    }\n",
       "</style>\n",
       "<table border=\"1\" class=\"dataframe\">\n",
       "  <thead>\n",
       "    <tr style=\"text-align: right;\">\n",
       "      <th></th>\n",
       "      <th>login</th>\n",
       "      <th>A</th>\n",
       "      <th>B</th>\n",
       "      <th>C</th>\n",
       "      <th>D</th>\n",
       "      <th>E</th>\n",
       "    </tr>\n",
       "  </thead>\n",
       "  <tbody>\n",
       "    <tr>\n",
       "      <th>0</th>\n",
       "      <td>login2</td>\n",
       "      <td>0</td>\n",
       "      <td>3</td>\n",
       "      <td>3</td>\n",
       "      <td>8</td>\n",
       "      <td>3</td>\n",
       "    </tr>\n",
       "    <tr>\n",
       "      <th>1</th>\n",
       "      <td>login5</td>\n",
       "      <td>3</td>\n",
       "      <td>0</td>\n",
       "      <td>2</td>\n",
       "      <td>2</td>\n",
       "      <td>0</td>\n",
       "    </tr>\n",
       "  </tbody>\n",
       "</table>\n",
       "</div>"
      ],
      "text/plain": [
       "    login  A  B  C  D  E\n",
       "0  login2  0  3  3  8  3\n",
       "1  login5  3  0  2  2  0"
      ]
     },
     "execution_count": 108,
     "metadata": {},
     "output_type": "execute_result"
    }
   ],
   "source": [
    "scores.merge(scores3)"
   ]
  },
  {
   "cell_type": "markdown",
   "id": "11d4ee15",
   "metadata": {
    "id": "11d4ee15"
   },
   "source": [
    "У нас правильное соединились данные! Но есть нюанс в том, *как* это произошло.\n",
    "\n",
    "Мы не указали `merge()` никаких значений параметров, а параметр `how` по умолчанию равен `'inner'`. Эта стратегия — взять только те строки, где есть полнота данных и слева, и справа. За ключи объединения берутся столбцы с одинаковыми названиями в обеих таблицах (у нас это `login`).\n",
    "\n",
    "Вот и получается, что при `how='inner'` **в пересечении множеств ключей** (по значениями столбца `login`) только два: `login2` и `login5`.\n",
    "\n",
    "Есть ещё 4 стратегии объединения:"
   ]
  },
  {
   "cell_type": "code",
   "execution_count": 109,
   "id": "7f5829df",
   "metadata": {
    "id": "7f5829df",
    "outputId": "3420de20-1656-4ad5-baea-fbe560784f2a"
   },
   "outputs": [
    {
     "data": {
      "text/html": [
       "<div>\n",
       "<style scoped>\n",
       "    .dataframe tbody tr th:only-of-type {\n",
       "        vertical-align: middle;\n",
       "    }\n",
       "\n",
       "    .dataframe tbody tr th {\n",
       "        vertical-align: top;\n",
       "    }\n",
       "\n",
       "    .dataframe thead th {\n",
       "        text-align: right;\n",
       "    }\n",
       "</style>\n",
       "<table border=\"1\" class=\"dataframe\">\n",
       "  <thead>\n",
       "    <tr style=\"text-align: right;\">\n",
       "      <th></th>\n",
       "      <th>login</th>\n",
       "      <th>A</th>\n",
       "      <th>B</th>\n",
       "      <th>C</th>\n",
       "      <th>D</th>\n",
       "      <th>E</th>\n",
       "    </tr>\n",
       "  </thead>\n",
       "  <tbody>\n",
       "    <tr>\n",
       "      <th>0</th>\n",
       "      <td>login1</td>\n",
       "      <td>2</td>\n",
       "      <td>5</td>\n",
       "      <td>5</td>\n",
       "      <td>NaN</td>\n",
       "      <td>NaN</td>\n",
       "    </tr>\n",
       "    <tr>\n",
       "      <th>1</th>\n",
       "      <td>login2</td>\n",
       "      <td>0</td>\n",
       "      <td>3</td>\n",
       "      <td>3</td>\n",
       "      <td>8.0</td>\n",
       "      <td>3.0</td>\n",
       "    </tr>\n",
       "    <tr>\n",
       "      <th>2</th>\n",
       "      <td>login3</td>\n",
       "      <td>5</td>\n",
       "      <td>5</td>\n",
       "      <td>5</td>\n",
       "      <td>NaN</td>\n",
       "      <td>NaN</td>\n",
       "    </tr>\n",
       "    <tr>\n",
       "      <th>3</th>\n",
       "      <td>login4</td>\n",
       "      <td>1</td>\n",
       "      <td>3</td>\n",
       "      <td>4</td>\n",
       "      <td>NaN</td>\n",
       "      <td>NaN</td>\n",
       "    </tr>\n",
       "    <tr>\n",
       "      <th>4</th>\n",
       "      <td>login5</td>\n",
       "      <td>3</td>\n",
       "      <td>0</td>\n",
       "      <td>2</td>\n",
       "      <td>2.0</td>\n",
       "      <td>0.0</td>\n",
       "    </tr>\n",
       "  </tbody>\n",
       "</table>\n",
       "</div>"
      ],
      "text/plain": [
       "    login  A  B  C    D    E\n",
       "0  login1  2  5  5  NaN  NaN\n",
       "1  login2  0  3  3  8.0  3.0\n",
       "2  login3  5  5  5  NaN  NaN\n",
       "3  login4  1  3  4  NaN  NaN\n",
       "4  login5  3  0  2  2.0  0.0"
      ]
     },
     "execution_count": 109,
     "metadata": {},
     "output_type": "execute_result"
    }
   ],
   "source": [
    "# `left`: сохранить всё из левой таблицы,\n",
    "# информация из правой -- при совпадении ключей\n",
    "scores.merge(scores3, how='left')"
   ]
  },
  {
   "cell_type": "code",
   "execution_count": 110,
   "id": "c4ecb13f",
   "metadata": {
    "id": "c4ecb13f",
    "outputId": "57e158f7-e7d9-42be-b69b-4b9432e72c86"
   },
   "outputs": [
    {
     "data": {
      "text/html": [
       "<div>\n",
       "<style scoped>\n",
       "    .dataframe tbody tr th:only-of-type {\n",
       "        vertical-align: middle;\n",
       "    }\n",
       "\n",
       "    .dataframe tbody tr th {\n",
       "        vertical-align: top;\n",
       "    }\n",
       "\n",
       "    .dataframe thead th {\n",
       "        text-align: right;\n",
       "    }\n",
       "</style>\n",
       "<table border=\"1\" class=\"dataframe\">\n",
       "  <thead>\n",
       "    <tr style=\"text-align: right;\">\n",
       "      <th></th>\n",
       "      <th>login</th>\n",
       "      <th>A</th>\n",
       "      <th>B</th>\n",
       "      <th>C</th>\n",
       "      <th>D</th>\n",
       "      <th>E</th>\n",
       "    </tr>\n",
       "  </thead>\n",
       "  <tbody>\n",
       "    <tr>\n",
       "      <th>0</th>\n",
       "      <td>login2</td>\n",
       "      <td>0.0</td>\n",
       "      <td>3.0</td>\n",
       "      <td>3.0</td>\n",
       "      <td>8</td>\n",
       "      <td>3</td>\n",
       "    </tr>\n",
       "    <tr>\n",
       "      <th>1</th>\n",
       "      <td>login5</td>\n",
       "      <td>3.0</td>\n",
       "      <td>0.0</td>\n",
       "      <td>2.0</td>\n",
       "      <td>2</td>\n",
       "      <td>0</td>\n",
       "    </tr>\n",
       "    <tr>\n",
       "      <th>2</th>\n",
       "      <td>login6</td>\n",
       "      <td>NaN</td>\n",
       "      <td>NaN</td>\n",
       "      <td>NaN</td>\n",
       "      <td>7</td>\n",
       "      <td>10</td>\n",
       "    </tr>\n",
       "  </tbody>\n",
       "</table>\n",
       "</div>"
      ],
      "text/plain": [
       "    login    A    B    C  D   E\n",
       "0  login2  0.0  3.0  3.0  8   3\n",
       "1  login5  3.0  0.0  2.0  2   0\n",
       "2  login6  NaN  NaN  NaN  7  10"
      ]
     },
     "execution_count": 110,
     "metadata": {},
     "output_type": "execute_result"
    }
   ],
   "source": [
    "# `right`: сохранить всё из правой таблицы,\n",
    "# информация из левой -- при совпадении ключей\n",
    "scores.merge(scores3, how='right')"
   ]
  },
  {
   "cell_type": "code",
   "execution_count": 111,
   "id": "00ccc7de",
   "metadata": {
    "id": "00ccc7de",
    "outputId": "6a6a25d5-26e6-464f-c82d-70bfceec728e"
   },
   "outputs": [
    {
     "data": {
      "text/html": [
       "<div>\n",
       "<style scoped>\n",
       "    .dataframe tbody tr th:only-of-type {\n",
       "        vertical-align: middle;\n",
       "    }\n",
       "\n",
       "    .dataframe tbody tr th {\n",
       "        vertical-align: top;\n",
       "    }\n",
       "\n",
       "    .dataframe thead th {\n",
       "        text-align: right;\n",
       "    }\n",
       "</style>\n",
       "<table border=\"1\" class=\"dataframe\">\n",
       "  <thead>\n",
       "    <tr style=\"text-align: right;\">\n",
       "      <th></th>\n",
       "      <th>login</th>\n",
       "      <th>A</th>\n",
       "      <th>B</th>\n",
       "      <th>C</th>\n",
       "      <th>D</th>\n",
       "      <th>E</th>\n",
       "    </tr>\n",
       "  </thead>\n",
       "  <tbody>\n",
       "    <tr>\n",
       "      <th>0</th>\n",
       "      <td>login1</td>\n",
       "      <td>2.0</td>\n",
       "      <td>5.0</td>\n",
       "      <td>5.0</td>\n",
       "      <td>NaN</td>\n",
       "      <td>NaN</td>\n",
       "    </tr>\n",
       "    <tr>\n",
       "      <th>1</th>\n",
       "      <td>login2</td>\n",
       "      <td>0.0</td>\n",
       "      <td>3.0</td>\n",
       "      <td>3.0</td>\n",
       "      <td>8.0</td>\n",
       "      <td>3.0</td>\n",
       "    </tr>\n",
       "    <tr>\n",
       "      <th>2</th>\n",
       "      <td>login3</td>\n",
       "      <td>5.0</td>\n",
       "      <td>5.0</td>\n",
       "      <td>5.0</td>\n",
       "      <td>NaN</td>\n",
       "      <td>NaN</td>\n",
       "    </tr>\n",
       "    <tr>\n",
       "      <th>3</th>\n",
       "      <td>login4</td>\n",
       "      <td>1.0</td>\n",
       "      <td>3.0</td>\n",
       "      <td>4.0</td>\n",
       "      <td>NaN</td>\n",
       "      <td>NaN</td>\n",
       "    </tr>\n",
       "    <tr>\n",
       "      <th>4</th>\n",
       "      <td>login5</td>\n",
       "      <td>3.0</td>\n",
       "      <td>0.0</td>\n",
       "      <td>2.0</td>\n",
       "      <td>2.0</td>\n",
       "      <td>0.0</td>\n",
       "    </tr>\n",
       "    <tr>\n",
       "      <th>5</th>\n",
       "      <td>login6</td>\n",
       "      <td>NaN</td>\n",
       "      <td>NaN</td>\n",
       "      <td>NaN</td>\n",
       "      <td>7.0</td>\n",
       "      <td>10.0</td>\n",
       "    </tr>\n",
       "  </tbody>\n",
       "</table>\n",
       "</div>"
      ],
      "text/plain": [
       "    login    A    B    C    D     E\n",
       "0  login1  2.0  5.0  5.0  NaN   NaN\n",
       "1  login2  0.0  3.0  3.0  8.0   3.0\n",
       "2  login3  5.0  5.0  5.0  NaN   NaN\n",
       "3  login4  1.0  3.0  4.0  NaN   NaN\n",
       "4  login5  3.0  0.0  2.0  2.0   0.0\n",
       "5  login6  NaN  NaN  NaN  7.0  10.0"
      ]
     },
     "execution_count": 111,
     "metadata": {},
     "output_type": "execute_result"
    }
   ],
   "source": [
    "#`outer`: использует объединение ключей из обеих таблиц,\n",
    "# сохранены все ключи и вся информация из обеих таблиц,\n",
    "# зато пустые ячейки теперь есть во всех столбцах...\n",
    "scores.merge(scores3, how='outer')"
   ]
  },
  {
   "cell_type": "markdown",
   "id": "32c4817f",
   "metadata": {
    "id": "32c4817f"
   },
   "source": [
    "Стратегия слияния `how='cross'` создает *декартово произведение* данных из обеих таблиц.\n",
    "Для таблиц выше это не имеет смысла, поэтому приведём другой пример.\n",
    "\n",
    "Есть юноши и девушки, для которых мы хотим вычислить степень их сходства:"
   ]
  },
  {
   "cell_type": "code",
   "execution_count": 112,
   "id": "e0000580",
   "metadata": {
    "id": "e0000580",
    "outputId": "1e03107b-ea33-42c8-d011-8dce763038e0"
   },
   "outputs": [
    {
     "data": {
      "text/html": [
       "<div>\n",
       "<style scoped>\n",
       "    .dataframe tbody tr th:only-of-type {\n",
       "        vertical-align: middle;\n",
       "    }\n",
       "\n",
       "    .dataframe tbody tr th {\n",
       "        vertical-align: top;\n",
       "    }\n",
       "\n",
       "    .dataframe thead th {\n",
       "        text-align: right;\n",
       "    }\n",
       "</style>\n",
       "<table border=\"1\" class=\"dataframe\">\n",
       "  <thead>\n",
       "    <tr style=\"text-align: right;\">\n",
       "      <th></th>\n",
       "      <th>name</th>\n",
       "      <th>height</th>\n",
       "      <th>weight</th>\n",
       "    </tr>\n",
       "  </thead>\n",
       "  <tbody>\n",
       "    <tr>\n",
       "      <th>0</th>\n",
       "      <td>Петр</td>\n",
       "      <td>183</td>\n",
       "      <td>78</td>\n",
       "    </tr>\n",
       "    <tr>\n",
       "      <th>1</th>\n",
       "      <td>Василий</td>\n",
       "      <td>157</td>\n",
       "      <td>65</td>\n",
       "    </tr>\n",
       "    <tr>\n",
       "      <th>2</th>\n",
       "      <td>Тихон</td>\n",
       "      <td>172</td>\n",
       "      <td>95</td>\n",
       "    </tr>\n",
       "  </tbody>\n",
       "</table>\n",
       "</div>"
      ],
      "text/plain": [
       "      name  height  weight\n",
       "0     Петр     183      78\n",
       "1  Василий     157      65\n",
       "2    Тихон     172      95"
      ]
     },
     "execution_count": 112,
     "metadata": {},
     "output_type": "execute_result"
    }
   ],
   "source": [
    "boys = pd.DataFrame({'name':  ['Петр', 'Василий', 'Тихон'],\n",
    "                     'height': [183, 157, 172], 'weight': [78, 65, 95]})\n",
    "boys"
   ]
  },
  {
   "cell_type": "code",
   "execution_count": 113,
   "id": "d0d1c890",
   "metadata": {
    "id": "d0d1c890",
    "outputId": "4df7a15e-3154-4a3f-f471-113065ef67fc"
   },
   "outputs": [
    {
     "data": {
      "text/html": [
       "<div>\n",
       "<style scoped>\n",
       "    .dataframe tbody tr th:only-of-type {\n",
       "        vertical-align: middle;\n",
       "    }\n",
       "\n",
       "    .dataframe tbody tr th {\n",
       "        vertical-align: top;\n",
       "    }\n",
       "\n",
       "    .dataframe thead th {\n",
       "        text-align: right;\n",
       "    }\n",
       "</style>\n",
       "<table border=\"1\" class=\"dataframe\">\n",
       "  <thead>\n",
       "    <tr style=\"text-align: right;\">\n",
       "      <th></th>\n",
       "      <th>name</th>\n",
       "      <th>height</th>\n",
       "      <th>weight</th>\n",
       "    </tr>\n",
       "  </thead>\n",
       "  <tbody>\n",
       "    <tr>\n",
       "      <th>0</th>\n",
       "      <td>Мария</td>\n",
       "      <td>173</td>\n",
       "      <td>81</td>\n",
       "    </tr>\n",
       "    <tr>\n",
       "      <th>1</th>\n",
       "      <td>Наталья</td>\n",
       "      <td>164</td>\n",
       "      <td>62</td>\n",
       "    </tr>\n",
       "    <tr>\n",
       "      <th>2</th>\n",
       "      <td>Ирина</td>\n",
       "      <td>154</td>\n",
       "      <td>52</td>\n",
       "    </tr>\n",
       "  </tbody>\n",
       "</table>\n",
       "</div>"
      ],
      "text/plain": [
       "      name  height  weight\n",
       "0    Мария     173      81\n",
       "1  Наталья     164      62\n",
       "2    Ирина     154      52"
      ]
     },
     "execution_count": 113,
     "metadata": {},
     "output_type": "execute_result"
    }
   ],
   "source": [
    "girls = pd.DataFrame({'name':  ['Мария', 'Наталья', 'Ирина'],\n",
    "                      'height': [173, 164, 154], 'weight': [81, 62, 52]})\n",
    "girls"
   ]
  },
  {
   "cell_type": "code",
   "execution_count": 114,
   "id": "6cc1daf3",
   "metadata": {
    "id": "6cc1daf3",
    "outputId": "3d08e7f4-b432-4745-93fa-1da55f5f1fcb"
   },
   "outputs": [
    {
     "data": {
      "text/html": [
       "<div>\n",
       "<style scoped>\n",
       "    .dataframe tbody tr th:only-of-type {\n",
       "        vertical-align: middle;\n",
       "    }\n",
       "\n",
       "    .dataframe tbody tr th {\n",
       "        vertical-align: top;\n",
       "    }\n",
       "\n",
       "    .dataframe thead th {\n",
       "        text-align: right;\n",
       "    }\n",
       "</style>\n",
       "<table border=\"1\" class=\"dataframe\">\n",
       "  <thead>\n",
       "    <tr style=\"text-align: right;\">\n",
       "      <th></th>\n",
       "      <th>name_x</th>\n",
       "      <th>height_x</th>\n",
       "      <th>weight_x</th>\n",
       "      <th>name_y</th>\n",
       "      <th>height_y</th>\n",
       "      <th>weight_y</th>\n",
       "    </tr>\n",
       "  </thead>\n",
       "  <tbody>\n",
       "    <tr>\n",
       "      <th>0</th>\n",
       "      <td>Петр</td>\n",
       "      <td>183</td>\n",
       "      <td>78</td>\n",
       "      <td>Мария</td>\n",
       "      <td>173</td>\n",
       "      <td>81</td>\n",
       "    </tr>\n",
       "    <tr>\n",
       "      <th>1</th>\n",
       "      <td>Петр</td>\n",
       "      <td>183</td>\n",
       "      <td>78</td>\n",
       "      <td>Наталья</td>\n",
       "      <td>164</td>\n",
       "      <td>62</td>\n",
       "    </tr>\n",
       "    <tr>\n",
       "      <th>2</th>\n",
       "      <td>Петр</td>\n",
       "      <td>183</td>\n",
       "      <td>78</td>\n",
       "      <td>Ирина</td>\n",
       "      <td>154</td>\n",
       "      <td>52</td>\n",
       "    </tr>\n",
       "    <tr>\n",
       "      <th>3</th>\n",
       "      <td>Василий</td>\n",
       "      <td>157</td>\n",
       "      <td>65</td>\n",
       "      <td>Мария</td>\n",
       "      <td>173</td>\n",
       "      <td>81</td>\n",
       "    </tr>\n",
       "    <tr>\n",
       "      <th>4</th>\n",
       "      <td>Василий</td>\n",
       "      <td>157</td>\n",
       "      <td>65</td>\n",
       "      <td>Наталья</td>\n",
       "      <td>164</td>\n",
       "      <td>62</td>\n",
       "    </tr>\n",
       "    <tr>\n",
       "      <th>5</th>\n",
       "      <td>Василий</td>\n",
       "      <td>157</td>\n",
       "      <td>65</td>\n",
       "      <td>Ирина</td>\n",
       "      <td>154</td>\n",
       "      <td>52</td>\n",
       "    </tr>\n",
       "    <tr>\n",
       "      <th>6</th>\n",
       "      <td>Тихон</td>\n",
       "      <td>172</td>\n",
       "      <td>95</td>\n",
       "      <td>Мария</td>\n",
       "      <td>173</td>\n",
       "      <td>81</td>\n",
       "    </tr>\n",
       "    <tr>\n",
       "      <th>7</th>\n",
       "      <td>Тихон</td>\n",
       "      <td>172</td>\n",
       "      <td>95</td>\n",
       "      <td>Наталья</td>\n",
       "      <td>164</td>\n",
       "      <td>62</td>\n",
       "    </tr>\n",
       "    <tr>\n",
       "      <th>8</th>\n",
       "      <td>Тихон</td>\n",
       "      <td>172</td>\n",
       "      <td>95</td>\n",
       "      <td>Ирина</td>\n",
       "      <td>154</td>\n",
       "      <td>52</td>\n",
       "    </tr>\n",
       "  </tbody>\n",
       "</table>\n",
       "</div>"
      ],
      "text/plain": [
       "    name_x  height_x  weight_x   name_y  height_y  weight_y\n",
       "0     Петр       183        78    Мария       173        81\n",
       "1     Петр       183        78  Наталья       164        62\n",
       "2     Петр       183        78    Ирина       154        52\n",
       "3  Василий       157        65    Мария       173        81\n",
       "4  Василий       157        65  Наталья       164        62\n",
       "5  Василий       157        65    Ирина       154        52\n",
       "6    Тихон       172        95    Мария       173        81\n",
       "7    Тихон       172        95  Наталья       164        62\n",
       "8    Тихон       172        95    Ирина       154        52"
      ]
     },
     "execution_count": 114,
     "metadata": {},
     "output_type": "execute_result"
    }
   ],
   "source": [
    "pairs = boys.merge(girls, how='cross')\n",
    "pairs"
   ]
  },
  {
   "cell_type": "markdown",
   "id": "15f103ad",
   "metadata": {
    "id": "15f103ad"
   },
   "source": [
    "Допустим, мы считаем пару подходящей, если юноша выше девушки, но не более, чем на 20 сантиметров, а её вес меньше его хотя бы на 5 кг:"
   ]
  },
  {
   "cell_type": "code",
   "execution_count": 115,
   "id": "76c7bb86",
   "metadata": {
    "id": "76c7bb86",
    "outputId": "7baeb318-5502-4d29-bae7-6f6d1dbb16a8"
   },
   "outputs": [
    {
     "data": {
      "text/html": [
       "<div>\n",
       "<style scoped>\n",
       "    .dataframe tbody tr th:only-of-type {\n",
       "        vertical-align: middle;\n",
       "    }\n",
       "\n",
       "    .dataframe tbody tr th {\n",
       "        vertical-align: top;\n",
       "    }\n",
       "\n",
       "    .dataframe thead th {\n",
       "        text-align: right;\n",
       "    }\n",
       "</style>\n",
       "<table border=\"1\" class=\"dataframe\">\n",
       "  <thead>\n",
       "    <tr style=\"text-align: right;\">\n",
       "      <th></th>\n",
       "      <th>name_x</th>\n",
       "      <th>height_x</th>\n",
       "      <th>weight_x</th>\n",
       "      <th>name_y</th>\n",
       "      <th>height_y</th>\n",
       "      <th>weight_y</th>\n",
       "      <th>match</th>\n",
       "    </tr>\n",
       "  </thead>\n",
       "  <tbody>\n",
       "    <tr>\n",
       "      <th>0</th>\n",
       "      <td>Петр</td>\n",
       "      <td>183</td>\n",
       "      <td>78</td>\n",
       "      <td>Мария</td>\n",
       "      <td>173</td>\n",
       "      <td>81</td>\n",
       "      <td>False</td>\n",
       "    </tr>\n",
       "    <tr>\n",
       "      <th>1</th>\n",
       "      <td>Петр</td>\n",
       "      <td>183</td>\n",
       "      <td>78</td>\n",
       "      <td>Наталья</td>\n",
       "      <td>164</td>\n",
       "      <td>62</td>\n",
       "      <td>True</td>\n",
       "    </tr>\n",
       "    <tr>\n",
       "      <th>2</th>\n",
       "      <td>Петр</td>\n",
       "      <td>183</td>\n",
       "      <td>78</td>\n",
       "      <td>Ирина</td>\n",
       "      <td>154</td>\n",
       "      <td>52</td>\n",
       "      <td>False</td>\n",
       "    </tr>\n",
       "    <tr>\n",
       "      <th>3</th>\n",
       "      <td>Василий</td>\n",
       "      <td>157</td>\n",
       "      <td>65</td>\n",
       "      <td>Мария</td>\n",
       "      <td>173</td>\n",
       "      <td>81</td>\n",
       "      <td>False</td>\n",
       "    </tr>\n",
       "    <tr>\n",
       "      <th>4</th>\n",
       "      <td>Василий</td>\n",
       "      <td>157</td>\n",
       "      <td>65</td>\n",
       "      <td>Наталья</td>\n",
       "      <td>164</td>\n",
       "      <td>62</td>\n",
       "      <td>False</td>\n",
       "    </tr>\n",
       "    <tr>\n",
       "      <th>5</th>\n",
       "      <td>Василий</td>\n",
       "      <td>157</td>\n",
       "      <td>65</td>\n",
       "      <td>Ирина</td>\n",
       "      <td>154</td>\n",
       "      <td>52</td>\n",
       "      <td>True</td>\n",
       "    </tr>\n",
       "    <tr>\n",
       "      <th>6</th>\n",
       "      <td>Тихон</td>\n",
       "      <td>172</td>\n",
       "      <td>95</td>\n",
       "      <td>Мария</td>\n",
       "      <td>173</td>\n",
       "      <td>81</td>\n",
       "      <td>False</td>\n",
       "    </tr>\n",
       "    <tr>\n",
       "      <th>7</th>\n",
       "      <td>Тихон</td>\n",
       "      <td>172</td>\n",
       "      <td>95</td>\n",
       "      <td>Наталья</td>\n",
       "      <td>164</td>\n",
       "      <td>62</td>\n",
       "      <td>True</td>\n",
       "    </tr>\n",
       "    <tr>\n",
       "      <th>8</th>\n",
       "      <td>Тихон</td>\n",
       "      <td>172</td>\n",
       "      <td>95</td>\n",
       "      <td>Ирина</td>\n",
       "      <td>154</td>\n",
       "      <td>52</td>\n",
       "      <td>True</td>\n",
       "    </tr>\n",
       "  </tbody>\n",
       "</table>\n",
       "</div>"
      ],
      "text/plain": [
       "    name_x  height_x  weight_x   name_y  height_y  weight_y  match\n",
       "0     Петр       183        78    Мария       173        81  False\n",
       "1     Петр       183        78  Наталья       164        62   True\n",
       "2     Петр       183        78    Ирина       154        52  False\n",
       "3  Василий       157        65    Мария       173        81  False\n",
       "4  Василий       157        65  Наталья       164        62  False\n",
       "5  Василий       157        65    Ирина       154        52   True\n",
       "6    Тихон       172        95    Мария       173        81  False\n",
       "7    Тихон       172        95  Наталья       164        62   True\n",
       "8    Тихон       172        95    Ирина       154        52   True"
      ]
     },
     "execution_count": 115,
     "metadata": {},
     "output_type": "execute_result"
    }
   ],
   "source": [
    "pairs[\"match\"] = (abs(pairs.height_x - pairs.height_y - 10) <= 10) & (pairs.weight_x >= pairs.weight_y + 5)\n",
    "pairs"
   ]
  },
  {
   "cell_type": "markdown",
   "id": "0ad82fe8",
   "metadata": {
    "id": "0ad82fe8"
   },
   "source": [
    "Осталось взять из таблицы только подходящие пары, а затем выбросить и сам столбец `match`:"
   ]
  },
  {
   "cell_type": "code",
   "execution_count": 116,
   "id": "f8749ad1",
   "metadata": {
    "id": "f8749ad1",
    "outputId": "d160bc93-4e1f-438c-ecc6-ab8e7795574c"
   },
   "outputs": [
    {
     "data": {
      "text/html": [
       "<div>\n",
       "<style scoped>\n",
       "    .dataframe tbody tr th:only-of-type {\n",
       "        vertical-align: middle;\n",
       "    }\n",
       "\n",
       "    .dataframe tbody tr th {\n",
       "        vertical-align: top;\n",
       "    }\n",
       "\n",
       "    .dataframe thead th {\n",
       "        text-align: right;\n",
       "    }\n",
       "</style>\n",
       "<table border=\"1\" class=\"dataframe\">\n",
       "  <thead>\n",
       "    <tr style=\"text-align: right;\">\n",
       "      <th></th>\n",
       "      <th>name_x</th>\n",
       "      <th>height_x</th>\n",
       "      <th>weight_x</th>\n",
       "      <th>name_y</th>\n",
       "      <th>height_y</th>\n",
       "      <th>weight_y</th>\n",
       "    </tr>\n",
       "  </thead>\n",
       "  <tbody>\n",
       "    <tr>\n",
       "      <th>1</th>\n",
       "      <td>Петр</td>\n",
       "      <td>183</td>\n",
       "      <td>78</td>\n",
       "      <td>Наталья</td>\n",
       "      <td>164</td>\n",
       "      <td>62</td>\n",
       "    </tr>\n",
       "    <tr>\n",
       "      <th>5</th>\n",
       "      <td>Василий</td>\n",
       "      <td>157</td>\n",
       "      <td>65</td>\n",
       "      <td>Ирина</td>\n",
       "      <td>154</td>\n",
       "      <td>52</td>\n",
       "    </tr>\n",
       "    <tr>\n",
       "      <th>7</th>\n",
       "      <td>Тихон</td>\n",
       "      <td>172</td>\n",
       "      <td>95</td>\n",
       "      <td>Наталья</td>\n",
       "      <td>164</td>\n",
       "      <td>62</td>\n",
       "    </tr>\n",
       "    <tr>\n",
       "      <th>8</th>\n",
       "      <td>Тихон</td>\n",
       "      <td>172</td>\n",
       "      <td>95</td>\n",
       "      <td>Ирина</td>\n",
       "      <td>154</td>\n",
       "      <td>52</td>\n",
       "    </tr>\n",
       "  </tbody>\n",
       "</table>\n",
       "</div>"
      ],
      "text/plain": [
       "    name_x  height_x  weight_x   name_y  height_y  weight_y\n",
       "1     Петр       183        78  Наталья       164        62\n",
       "5  Василий       157        65    Ирина       154        52\n",
       "7    Тихон       172        95  Наталья       164        62\n",
       "8    Тихон       172        95    Ирина       154        52"
      ]
     },
     "execution_count": 116,
     "metadata": {},
     "output_type": "execute_result"
    }
   ],
   "source": [
    "# в квадратных скобках можно использовать логическую серию\n",
    "matched = pairs[pairs.match].drop(columns=['match'])\n",
    "matched"
   ]
  },
  {
   "cell_type": "markdown",
   "id": "6af0a7fc",
   "metadata": {
    "id": "6af0a7fc"
   },
   "source": [
    "Теперь ясно кого с кем нужно пробовать поженить :-)"
   ]
  },
  {
   "cell_type": "markdown",
   "id": "561a95eb",
   "metadata": {
    "id": "561a95eb"
   },
   "source": [
    "### Объединение таблиц при помощи `join`\n",
    "Метод `join` очень похож на `merge`, но отличается поведением по умолчанию:\n",
    "1. При отсутствии ключевого параметра `on=` для объединения используются индексы.\n",
    "2. При отсутствии ключевого параметра `how=` выбирается стратегия `'left'`."
   ]
  },
  {
   "cell_type": "code",
   "execution_count": 117,
   "id": "9eb86c55",
   "metadata": {
    "id": "9eb86c55",
    "outputId": "6806c7ce-556d-478c-e89d-d1e9913abb5c"
   },
   "outputs": [
    {
     "data": {
      "text/html": [
       "<div>\n",
       "<style scoped>\n",
       "    .dataframe tbody tr th:only-of-type {\n",
       "        vertical-align: middle;\n",
       "    }\n",
       "\n",
       "    .dataframe tbody tr th {\n",
       "        vertical-align: top;\n",
       "    }\n",
       "\n",
       "    .dataframe thead th {\n",
       "        text-align: right;\n",
       "    }\n",
       "</style>\n",
       "<table border=\"1\" class=\"dataframe\">\n",
       "  <thead>\n",
       "    <tr style=\"text-align: right;\">\n",
       "      <th></th>\n",
       "      <th>name_of_boy</th>\n",
       "      <th>height_of_boy</th>\n",
       "      <th>weight_of_boy</th>\n",
       "      <th>name_of_girl</th>\n",
       "      <th>height_of_girl</th>\n",
       "      <th>weight_of_girl</th>\n",
       "    </tr>\n",
       "  </thead>\n",
       "  <tbody>\n",
       "    <tr>\n",
       "      <th>0</th>\n",
       "      <td>Петр</td>\n",
       "      <td>183</td>\n",
       "      <td>78</td>\n",
       "      <td>Мария</td>\n",
       "      <td>173</td>\n",
       "      <td>81</td>\n",
       "    </tr>\n",
       "    <tr>\n",
       "      <th>1</th>\n",
       "      <td>Василий</td>\n",
       "      <td>157</td>\n",
       "      <td>65</td>\n",
       "      <td>Наталья</td>\n",
       "      <td>164</td>\n",
       "      <td>62</td>\n",
       "    </tr>\n",
       "    <tr>\n",
       "      <th>2</th>\n",
       "      <td>Тихон</td>\n",
       "      <td>172</td>\n",
       "      <td>95</td>\n",
       "      <td>Ирина</td>\n",
       "      <td>154</td>\n",
       "      <td>52</td>\n",
       "    </tr>\n",
       "  </tbody>\n",
       "</table>\n",
       "</div>"
      ],
      "text/plain": [
       "  name_of_boy  height_of_boy  weight_of_boy name_of_girl  height_of_girl  \\\n",
       "0        Петр            183             78        Мария             173   \n",
       "1     Василий            157             65      Наталья             164   \n",
       "2       Тихон            172             95        Ирина             154   \n",
       "\n",
       "   weight_of_girl  \n",
       "0              81  \n",
       "1              62  \n",
       "2              52  "
      ]
     },
     "execution_count": 117,
     "metadata": {},
     "output_type": "execute_result"
    }
   ],
   "source": [
    "boys.join(girls, lsuffix='_of_boy', rsuffix='_of_girl')"
   ]
  },
  {
   "cell_type": "markdown",
   "id": "288046a7",
   "metadata": {
    "id": "288046a7"
   },
   "source": [
    "Если вы сталкивались с реляционными базами данных, то упомянутые стратегии `merge` напоминают вам стратегии `JOIN` в SQL.\n",
    "\n",
    "Листы с данными типа `DataFrame` имеют сходство с таблицами реляционных SQL баз данных, хотя есть и отличия:\n",
    "\n",
    "| SQL таблица               | Pandas DataFrame                                        |\n",
    "| :------------------------ | :------------------------------------------------------ |\n",
    "| столбцы с именами         | столбцы с индексами-метками                             |\n",
    "| столбцы со строгим типом  | столбцы типизированные (почти всегда)                   |\n",
    "| порядок строк не задан    | порядок строк определён, можно сорировать               |\n",
    "| доступ к строке по ключу  | доступ к строке по индексу-метке или числовому индексу  |\n",
    "| первичный ключ уникален   | индекс-метка может быть не уникальна                    |"
   ]
  },
  {
   "cell_type": "markdown",
   "id": "aa4f39af",
   "metadata": {
    "id": "aa4f39af"
   },
   "source": [
    "## Мастер-класс по анализу данных\n",
    "Проанализируем данные из системы Яндекс.Контест по домашней работе к лекциям №1 и №2 с помощью бибилиотеки Pandas."
   ]
  },
  {
   "cell_type": "code",
   "execution_count": 107,
   "id": "c4877ca9",
   "metadata": {
    "id": "c4877ca9"
   },
   "outputs": [],
   "source": [
    "import pandas as pd\n",
    "import matplotlib.pyplot as plt"
   ]
  },
  {
   "cell_type": "markdown",
   "id": "c284f2ca",
   "metadata": {
    "id": "c284f2ca"
   },
   "source": [
    "Для начала загрузим данные по 1-му домашнему заданию и посмотрим на начало таблицы:"
   ]
  },
  {
   "cell_type": "code",
   "execution_count": 108,
   "id": "e6d28cf8",
   "metadata": {
    "id": "e6d28cf8",
    "outputId": "1160616a-3718-4443-cfb5-4fc80f29ae7d"
   },
   "outputs": [
    {
     "data": {
      "text/html": [
       "<div>\n",
       "<style scoped>\n",
       "    .dataframe tbody tr th:only-of-type {\n",
       "        vertical-align: middle;\n",
       "    }\n",
       "\n",
       "    .dataframe tbody tr th {\n",
       "        vertical-align: top;\n",
       "    }\n",
       "\n",
       "    .dataframe thead th {\n",
       "        text-align: right;\n",
       "    }\n",
       "</style>\n",
       "<table border=\"1\" class=\"dataframe\">\n",
       "  <thead>\n",
       "    <tr style=\"text-align: right;\">\n",
       "      <th></th>\n",
       "      <th>Unnamed: 0</th>\n",
       "      <th>place</th>\n",
       "      <th>1(Быстрая черепашка)</th>\n",
       "      <th>2(Вопрос о фигуре)</th>\n",
       "      <th>3(Послание )</th>\n",
       "      <th>4(Построй дом!)</th>\n",
       "      <th>5(Звездочный квадрат)</th>\n",
       "      <th>Score</th>\n",
       "      <th>Penalty</th>\n",
       "      <th>department</th>\n",
       "      <th>hash</th>\n",
       "    </tr>\n",
       "  </thead>\n",
       "  <tbody>\n",
       "    <tr>\n",
       "      <th>0</th>\n",
       "      <td>0</td>\n",
       "      <td>1</td>\n",
       "      <td>+</td>\n",
       "      <td>+</td>\n",
       "      <td>+</td>\n",
       "      <td>+</td>\n",
       "      <td>+</td>\n",
       "      <td>5</td>\n",
       "      <td>21</td>\n",
       "      <td>Не из МГУ</td>\n",
       "      <td>b6a720e40da936c330e1f53680b279381d1c5742</td>\n",
       "    </tr>\n",
       "    <tr>\n",
       "      <th>1</th>\n",
       "      <td>1</td>\n",
       "      <td>2</td>\n",
       "      <td>+</td>\n",
       "      <td>+</td>\n",
       "      <td>+</td>\n",
       "      <td>+</td>\n",
       "      <td>+</td>\n",
       "      <td>5</td>\n",
       "      <td>31</td>\n",
       "      <td>Физический факультет</td>\n",
       "      <td>57bd006a9261c889d76cba7537a3b61671cbcc6a</td>\n",
       "    </tr>\n",
       "    <tr>\n",
       "      <th>2</th>\n",
       "      <td>2</td>\n",
       "      <td>3</td>\n",
       "      <td>+</td>\n",
       "      <td>+</td>\n",
       "      <td>+</td>\n",
       "      <td>+</td>\n",
       "      <td>+</td>\n",
       "      <td>5</td>\n",
       "      <td>35</td>\n",
       "      <td>Механико-математический факультет</td>\n",
       "      <td>0b7a6e627adeb9d50c5ecb7b5a17ea452ec87659</td>\n",
       "    </tr>\n",
       "    <tr>\n",
       "      <th>3</th>\n",
       "      <td>3</td>\n",
       "      <td>4</td>\n",
       "      <td>+</td>\n",
       "      <td>+</td>\n",
       "      <td>+</td>\n",
       "      <td>+</td>\n",
       "      <td>+</td>\n",
       "      <td>5</td>\n",
       "      <td>55</td>\n",
       "      <td>Факультет вычислительной математики и кибернетики</td>\n",
       "      <td>c22dc82f7e88a8973a18180d85d5a3b0cf641b75</td>\n",
       "    </tr>\n",
       "    <tr>\n",
       "      <th>4</th>\n",
       "      <td>4</td>\n",
       "      <td>5</td>\n",
       "      <td>+</td>\n",
       "      <td>+</td>\n",
       "      <td>+</td>\n",
       "      <td>+</td>\n",
       "      <td>+</td>\n",
       "      <td>5</td>\n",
       "      <td>64</td>\n",
       "      <td>Механико-математический факультет</td>\n",
       "      <td>1ac42c1757e5790d220299fbe51540beda8b1d8a</td>\n",
       "    </tr>\n",
       "  </tbody>\n",
       "</table>\n",
       "</div>"
      ],
      "text/plain": [
       "   Unnamed: 0 place 1(Быстрая черепашка) 2(Вопрос о фигуре) 3(Послание )  \\\n",
       "0           0     1                    +                  +            +   \n",
       "1           1     2                    +                  +            +   \n",
       "2           2     3                    +                  +            +   \n",
       "3           3     4                    +                  +            +   \n",
       "4           4     5                    +                  +            +   \n",
       "\n",
       "  4(Построй дом!) 5(Звездочный квадрат)  Score  Penalty  \\\n",
       "0               +                     +      5       21   \n",
       "1               +                     +      5       31   \n",
       "2               +                     +      5       35   \n",
       "3               +                     +      5       55   \n",
       "4               +                     +      5       64   \n",
       "\n",
       "                                          department  \\\n",
       "0                                          Не из МГУ   \n",
       "1                               Физический факультет   \n",
       "2                  Механико-математический факультет   \n",
       "3  Факультет вычислительной математики и кибернетики   \n",
       "4                  Механико-математический факультет   \n",
       "\n",
       "                                       hash  \n",
       "0  b6a720e40da936c330e1f53680b279381d1c5742  \n",
       "1  57bd006a9261c889d76cba7537a3b61671cbcc6a  \n",
       "2  0b7a6e627adeb9d50c5ecb7b5a17ea452ec87659  \n",
       "3  c22dc82f7e88a8973a18180d85d5a3b0cf641b75  \n",
       "4  1ac42c1757e5790d220299fbe51540beda8b1d8a  "
      ]
     },
     "execution_count": 108,
     "metadata": {},
     "output_type": "execute_result"
    }
   ],
   "source": [
    "df_res1 = pd.read_csv(\"http://cs.mipt.ru/pydatan_2023/extra/data/result_lec01.csv\")\n",
    "df_res1.head()"
   ]
  },
  {
   "cell_type": "markdown",
   "id": "dad77a43",
   "metadata": {
    "id": "dad77a43"
   },
   "source": [
    "Иногда бывает полезно посмотреть на хвост файла (иногда там может быть \"грязь\"):"
   ]
  },
  {
   "cell_type": "code",
   "execution_count": 109,
   "id": "228a215e",
   "metadata": {
    "id": "228a215e",
    "outputId": "058a910d-fa2b-4ec9-836c-e0efc0a051c6"
   },
   "outputs": [
    {
     "data": {
      "text/html": [
       "<div>\n",
       "<style scoped>\n",
       "    .dataframe tbody tr th:only-of-type {\n",
       "        vertical-align: middle;\n",
       "    }\n",
       "\n",
       "    .dataframe tbody tr th {\n",
       "        vertical-align: top;\n",
       "    }\n",
       "\n",
       "    .dataframe thead th {\n",
       "        text-align: right;\n",
       "    }\n",
       "</style>\n",
       "<table border=\"1\" class=\"dataframe\">\n",
       "  <thead>\n",
       "    <tr style=\"text-align: right;\">\n",
       "      <th></th>\n",
       "      <th>Unnamed: 0</th>\n",
       "      <th>place</th>\n",
       "      <th>1(Быстрая черепашка)</th>\n",
       "      <th>2(Вопрос о фигуре)</th>\n",
       "      <th>3(Послание )</th>\n",
       "      <th>4(Построй дом!)</th>\n",
       "      <th>5(Звездочный квадрат)</th>\n",
       "      <th>Score</th>\n",
       "      <th>Penalty</th>\n",
       "      <th>department</th>\n",
       "      <th>hash</th>\n",
       "    </tr>\n",
       "  </thead>\n",
       "  <tbody>\n",
       "    <tr>\n",
       "      <th>775</th>\n",
       "      <td>775</td>\n",
       "      <td>686-778</td>\n",
       "      <td>NaN</td>\n",
       "      <td>NaN</td>\n",
       "      <td>NaN</td>\n",
       "      <td>NaN</td>\n",
       "      <td>NaN</td>\n",
       "      <td>0</td>\n",
       "      <td>0</td>\n",
       "      <td>Факультет вычислительной математики и кибернетики</td>\n",
       "      <td>37a4fc4c4aeecdce528d4af480504b3c45f06183</td>\n",
       "    </tr>\n",
       "    <tr>\n",
       "      <th>776</th>\n",
       "      <td>776</td>\n",
       "      <td>686-778</td>\n",
       "      <td>NaN</td>\n",
       "      <td>NaN</td>\n",
       "      <td>NaN</td>\n",
       "      <td>NaN</td>\n",
       "      <td>NaN</td>\n",
       "      <td>0</td>\n",
       "      <td>0</td>\n",
       "      <td>Экономический факультет</td>\n",
       "      <td>e401a55b1c215efa29bfd019d006ba2aa56eae62</td>\n",
       "    </tr>\n",
       "    <tr>\n",
       "      <th>777</th>\n",
       "      <td>777</td>\n",
       "      <td>686-778</td>\n",
       "      <td>NaN</td>\n",
       "      <td>NaN</td>\n",
       "      <td>NaN</td>\n",
       "      <td>NaN</td>\n",
       "      <td>NaN</td>\n",
       "      <td>0</td>\n",
       "      <td>0</td>\n",
       "      <td>Механико-математический факультет</td>\n",
       "      <td>cc51b85ae5bf898223fe9813c8402f3d272feb6d</td>\n",
       "    </tr>\n",
       "  </tbody>\n",
       "</table>\n",
       "</div>"
      ],
      "text/plain": [
       "     Unnamed: 0    place 1(Быстрая черепашка) 2(Вопрос о фигуре) 3(Послание )  \\\n",
       "775         775  686-778                  NaN                NaN          NaN   \n",
       "776         776  686-778                  NaN                NaN          NaN   \n",
       "777         777  686-778                  NaN                NaN          NaN   \n",
       "\n",
       "    4(Построй дом!) 5(Звездочный квадрат)  Score  Penalty  \\\n",
       "775             NaN                   NaN      0        0   \n",
       "776             NaN                   NaN      0        0   \n",
       "777             NaN                   NaN      0        0   \n",
       "\n",
       "                                            department  \\\n",
       "775  Факультет вычислительной математики и кибернетики   \n",
       "776                            Экономический факультет   \n",
       "777                  Механико-математический факультет   \n",
       "\n",
       "                                         hash  \n",
       "775  37a4fc4c4aeecdce528d4af480504b3c45f06183  \n",
       "776  e401a55b1c215efa29bfd019d006ba2aa56eae62  \n",
       "777  cc51b85ae5bf898223fe9813c8402f3d272feb6d  "
      ]
     },
     "execution_count": 109,
     "metadata": {},
     "output_type": "execute_result"
    }
   ],
   "source": [
    "df_res1.tail(3)"
   ]
  },
  {
   "cell_type": "markdown",
   "id": "6e511aa4",
   "metadata": {
    "id": "6e511aa4"
   },
   "source": [
    "Посмотрим ещё раз на все названия столбцов:"
   ]
  },
  {
   "cell_type": "code",
   "execution_count": 110,
   "id": "0669f09f",
   "metadata": {
    "id": "0669f09f",
    "outputId": "ae283fec-d534-4242-c95a-92005e0f3af7"
   },
   "outputs": [
    {
     "data": {
      "text/plain": [
       "Index(['Unnamed: 0', 'place', '1(Быстрая черепашка)', '2(Вопрос о фигуре)',\n",
       "       '3(Послание )', '4(Построй дом!)', '5(Звездочный квадрат)', 'Score',\n",
       "       'Penalty', 'department', 'hash'],\n",
       "      dtype='object')"
      ]
     },
     "execution_count": 110,
     "metadata": {},
     "output_type": "execute_result"
    }
   ],
   "source": [
    "df_res1.columns"
   ]
  },
  {
   "cell_type": "markdown",
   "id": "d1a8e9d5",
   "metadata": {
    "id": "d1a8e9d5"
   },
   "source": [
    "Удаляем колонки, которые нам не пригодятся для дальнейшего анализа:"
   ]
  },
  {
   "cell_type": "code",
   "execution_count": 111,
   "id": "aac95d44",
   "metadata": {
    "id": "aac95d44",
    "outputId": "1c204601-22e8-464d-90d8-298df68e2efe"
   },
   "outputs": [
    {
     "data": {
      "text/plain": [
       "(778, 8)"
      ]
     },
     "execution_count": 111,
     "metadata": {},
     "output_type": "execute_result"
    }
   ],
   "source": [
    "df_res1.drop(['Unnamed: 0', 'place', 'Penalty'], axis = 1, inplace=True)\n",
    "df_res1.shape"
   ]
  },
  {
   "cell_type": "markdown",
   "id": "0aff7afe",
   "metadata": {
    "id": "0aff7afe"
   },
   "source": [
    "Строк всего 778, а колонок всего 8. Переименуем колонки для дальнейшей работы:"
   ]
  },
  {
   "cell_type": "code",
   "execution_count": 112,
   "id": "cdb04601",
   "metadata": {
    "id": "cdb04601",
    "outputId": "4ab92017-ca36-4977-bc4c-476784f59505"
   },
   "outputs": [
    {
     "data": {
      "text/plain": [
       "Index(['1_быстрая_черепашка', '2_вопрос_о_фигуре', '3_послание_',\n",
       "       '4_построй_дом!', '5_звездочный_квадрат', 'score', 'department',\n",
       "       'hash'],\n",
       "      dtype='object')"
      ]
     },
     "execution_count": 112,
     "metadata": {},
     "output_type": "execute_result"
    }
   ],
   "source": [
    "column_names = df_res1.columns\n",
    "df_res1.columns = [col_name.lower().replace(')', '').replace('(', '_').replace(' ', '_') for col_name in column_names]\n",
    "df_res1.columns"
   ]
  },
  {
   "cell_type": "markdown",
   "id": "53fcee74",
   "metadata": {
    "id": "53fcee74"
   },
   "source": [
    "Запросим более подробную информацию о колонках датасета: название, количество непустых ячеек, тип значений."
   ]
  },
  {
   "cell_type": "code",
   "execution_count": 113,
   "id": "b220a5b7",
   "metadata": {
    "id": "b220a5b7",
    "outputId": "fd4e22eb-9aae-4c2e-f939-1954ccde03bc"
   },
   "outputs": [
    {
     "name": "stdout",
     "output_type": "stream",
     "text": [
      "<class 'pandas.core.frame.DataFrame'>\n",
      "RangeIndex: 778 entries, 0 to 777\n",
      "Data columns (total 8 columns):\n",
      " #   Column                Non-Null Count  Dtype \n",
      "---  ------                --------------  ----- \n",
      " 0   1_быстрая_черепашка   686 non-null    object\n",
      " 1   2_вопрос_о_фигуре     685 non-null    object\n",
      " 2   3_послание_           675 non-null    object\n",
      " 3   4_построй_дом!        671 non-null    object\n",
      " 4   5_звездочный_квадрат  667 non-null    object\n",
      " 5   score                 778 non-null    int64 \n",
      " 6   department            734 non-null    object\n",
      " 7   hash                  778 non-null    object\n",
      "dtypes: int64(1), object(7)\n",
      "memory usage: 48.8+ KB\n"
     ]
    }
   ],
   "source": [
    "df_res1.info()"
   ]
  },
  {
   "cell_type": "markdown",
   "id": "8cbb6f76",
   "metadata": {
    "id": "8cbb6f76"
   },
   "source": [
    "Факультет — это категориальный признак. Распечатаем уникальные значения по столбцу `department`:"
   ]
  },
  {
   "cell_type": "code",
   "execution_count": 114,
   "id": "33544942",
   "metadata": {
    "id": "33544942",
    "outputId": "eb24ff71-6714-4b08-f123-fd2914c24851"
   },
   "outputs": [
    {
     "data": {
      "text/plain": [
       "array(['Не из МГУ', 'Физический факультет',\n",
       "       'Механико-математический факультет',\n",
       "       'Факультет вычислительной математики и кибернетики',\n",
       "       'Химический факультет', 'Экономический факультет',\n",
       "       'Высшая школа современных социальных наук',\n",
       "       'Факультет космических исследований', 'Геологический факультет',\n",
       "       'Факультет фундаментальной медицины',\n",
       "       'Факультет фундаментальной физико-химической инженерии',\n",
       "       'Факультет журналистики', nan,\n",
       "       'Факультет биоинженерии и биоинформатики',\n",
       "       'Географический факультет', 'Высшая школа государственного аудита',\n",
       "       'Философский факультет', 'Факультет почвоведения',\n",
       "       'Факультет психологии', 'Исторический факультет',\n",
       "       'Биологический факультет', 'Факультет государственного управления',\n",
       "       'Социологический факультет', 'Факультет глобальных процессов',\n",
       "       'Биотехнологический факультет', 'Институт стран Азии и Африки',\n",
       "       'Факультет иностранных языков и регионоведения',\n",
       "       'Филологический факультет', 'Факультет наук о материалах',\n",
       "       'Факультет мировой политики', 'Высшая школа бизнеса',\n",
       "       'Юридический факультет',\n",
       "       'Высшая школа культурной политики и управления в гуманитарной сфере',\n",
       "       'Факультет политологии', 'Московская школа экономики'],\n",
       "      dtype=object)"
      ]
     },
     "execution_count": 114,
     "metadata": {},
     "output_type": "execute_result"
    }
   ],
   "source": [
    "df_res1['department'].unique()"
   ]
  },
  {
   "cell_type": "markdown",
   "id": "fc2277f8",
   "metadata": {
    "id": "fc2277f8"
   },
   "source": [
    "Давайте посчитаем количество студентов по факультетам:"
   ]
  },
  {
   "cell_type": "code",
   "execution_count": 115,
   "id": "af359cf0",
   "metadata": {
    "id": "af359cf0",
    "outputId": "fa1c1118-5a4e-41ed-82bc-2eaedfc99f78"
   },
   "outputs": [
    {
     "data": {
      "text/plain": [
       "Факультет вычислительной математики и кибернетики                     120\n",
       "Экономический факультет                                               108\n",
       "Физический факультет                                                   82\n",
       "Механико-математический факультет                                      62\n",
       "Химический факультет                                                   57\n",
       "Не из МГУ                                                              37\n",
       "Биологический факультет                                                31\n",
       "Географический факультет                                               27\n",
       "Социологический факультет                                              26\n",
       "Факультет почвоведения                                                 22\n",
       "Геологический факультет                                                21\n",
       "Факультет космических исследований                                     15\n",
       "Исторический факультет                                                 14\n",
       "Факультет биоинженерии и биоинформатики                                11\n",
       "Факультет фундаментальной медицины                                     10\n",
       "Институт стран Азии и Африки                                            9\n",
       "Факультет психологии                                                    9\n",
       "Философский факультет                                                   8\n",
       "Филологический факультет                                                8\n",
       "Факультет журналистики                                                  7\n",
       "Факультет глобальных процессов                                          7\n",
       "Факультет наук о материалах                                             6\n",
       "Факультет государственного управления                                   5\n",
       "Высшая школа современных социальных наук                                5\n",
       "Факультет фундаментальной физико-химической инженерии                   4\n",
       "Биотехнологический факультет                                            4\n",
       "Высшая школа государственного аудита                                    4\n",
       "Юридический факультет                                                   3\n",
       "Факультет мировой политики                                              3\n",
       "Высшая школа бизнеса                                                    3\n",
       "Факультет иностранных языков и регионоведения                           2\n",
       "Московская школа экономики                                              2\n",
       "Высшая школа культурной политики и управления в гуманитарной сфере      1\n",
       "Факультет политологии                                                   1\n",
       "Name: department, dtype: int64"
      ]
     },
     "execution_count": 115,
     "metadata": {},
     "output_type": "execute_result"
    }
   ],
   "source": [
    "df_res1['department'].value_counts()"
   ]
  },
  {
   "cell_type": "markdown",
   "id": "54dcc29a",
   "metadata": {
    "id": "54dcc29a"
   },
   "source": [
    "Проверим, есть ли студенты, не заполнившие свой факультет:"
   ]
  },
  {
   "cell_type": "code",
   "execution_count": 116,
   "id": "0e92a0e4",
   "metadata": {
    "id": "0e92a0e4",
    "outputId": "2830b611-de86-4665-ef0e-6d42ad81984a"
   },
   "outputs": [
    {
     "data": {
      "text/plain": [
       "44"
      ]
     },
     "execution_count": 116,
     "metadata": {},
     "output_type": "execute_result"
    }
   ],
   "source": [
    "df_res1['department'].isna().sum()"
   ]
  },
  {
   "cell_type": "markdown",
   "id": "1ecbf1cd",
   "metadata": {
    "id": "1ecbf1cd"
   },
   "source": [
    "Их всего лишь 44 человека. Давайте посмотрим на них внимательно:"
   ]
  },
  {
   "cell_type": "code",
   "execution_count": 117,
   "id": "1a69e67e",
   "metadata": {
    "id": "1a69e67e",
    "outputId": "1cfd1740-3698-411f-ca54-28ac3d745b54"
   },
   "outputs": [
    {
     "data": {
      "text/html": [
       "<div>\n",
       "<style scoped>\n",
       "    .dataframe tbody tr th:only-of-type {\n",
       "        vertical-align: middle;\n",
       "    }\n",
       "\n",
       "    .dataframe tbody tr th {\n",
       "        vertical-align: top;\n",
       "    }\n",
       "\n",
       "    .dataframe thead th {\n",
       "        text-align: right;\n",
       "    }\n",
       "</style>\n",
       "<table border=\"1\" class=\"dataframe\">\n",
       "  <thead>\n",
       "    <tr style=\"text-align: right;\">\n",
       "      <th></th>\n",
       "      <th>1_быстрая_черепашка</th>\n",
       "      <th>2_вопрос_о_фигуре</th>\n",
       "      <th>3_послание_</th>\n",
       "      <th>4_построй_дом!</th>\n",
       "      <th>5_звездочный_квадрат</th>\n",
       "      <th>score</th>\n",
       "      <th>department</th>\n",
       "      <th>hash</th>\n",
       "    </tr>\n",
       "  </thead>\n",
       "  <tbody>\n",
       "    <tr>\n",
       "      <th>45</th>\n",
       "      <td>+</td>\n",
       "      <td>+</td>\n",
       "      <td>+</td>\n",
       "      <td>+</td>\n",
       "      <td>+</td>\n",
       "      <td>5</td>\n",
       "      <td>NaN</td>\n",
       "      <td>3c85e6232fbc687ad84b52e9321069ca6f2a458a</td>\n",
       "    </tr>\n",
       "    <tr>\n",
       "      <th>84</th>\n",
       "      <td>+3</td>\n",
       "      <td>+</td>\n",
       "      <td>+</td>\n",
       "      <td>+1</td>\n",
       "      <td>+1</td>\n",
       "      <td>5</td>\n",
       "      <td>NaN</td>\n",
       "      <td>e65c73bc3af10243cad47130eac4c1dfb45a51a2</td>\n",
       "    </tr>\n",
       "    <tr>\n",
       "      <th>103</th>\n",
       "      <td>+</td>\n",
       "      <td>+1</td>\n",
       "      <td>+</td>\n",
       "      <td>+</td>\n",
       "      <td>+</td>\n",
       "      <td>5</td>\n",
       "      <td>NaN</td>\n",
       "      <td>b6698d32a5cbc8086e55e8579132ec936f223c8c</td>\n",
       "    </tr>\n",
       "    <tr>\n",
       "      <th>119</th>\n",
       "      <td>+</td>\n",
       "      <td>+</td>\n",
       "      <td>+</td>\n",
       "      <td>+1</td>\n",
       "      <td>+</td>\n",
       "      <td>5</td>\n",
       "      <td>NaN</td>\n",
       "      <td>2e132c789cef6fc4be79f45d93da2f6671a8a206</td>\n",
       "    </tr>\n",
       "    <tr>\n",
       "      <th>132</th>\n",
       "      <td>+</td>\n",
       "      <td>+</td>\n",
       "      <td>+</td>\n",
       "      <td>+</td>\n",
       "      <td>+</td>\n",
       "      <td>5</td>\n",
       "      <td>NaN</td>\n",
       "      <td>9c065d5719b224ddaf112a6c22a176f9b2041f0d</td>\n",
       "    </tr>\n",
       "    <tr>\n",
       "      <th>167</th>\n",
       "      <td>+</td>\n",
       "      <td>+</td>\n",
       "      <td>+</td>\n",
       "      <td>+</td>\n",
       "      <td>+</td>\n",
       "      <td>5</td>\n",
       "      <td>NaN</td>\n",
       "      <td>51fba264526d7d9da0105c89a42b96cbdd3e6e4d</td>\n",
       "    </tr>\n",
       "    <tr>\n",
       "      <th>204</th>\n",
       "      <td>+</td>\n",
       "      <td>+1</td>\n",
       "      <td>+</td>\n",
       "      <td>+1</td>\n",
       "      <td>+</td>\n",
       "      <td>5</td>\n",
       "      <td>NaN</td>\n",
       "      <td>282ce13355e51eaf645beab1ad6910688d874339</td>\n",
       "    </tr>\n",
       "    <tr>\n",
       "      <th>215</th>\n",
       "      <td>+</td>\n",
       "      <td>+</td>\n",
       "      <td>+</td>\n",
       "      <td>+</td>\n",
       "      <td>+</td>\n",
       "      <td>5</td>\n",
       "      <td>NaN</td>\n",
       "      <td>e9c6d37fea2ea1a437d30e69e1e7db20188cccfc</td>\n",
       "    </tr>\n",
       "    <tr>\n",
       "      <th>234</th>\n",
       "      <td>+</td>\n",
       "      <td>+1</td>\n",
       "      <td>+2</td>\n",
       "      <td>+</td>\n",
       "      <td>+</td>\n",
       "      <td>5</td>\n",
       "      <td>NaN</td>\n",
       "      <td>bb721c4a14f1003f6e8cf78a75881cb460cd3c3d</td>\n",
       "    </tr>\n",
       "    <tr>\n",
       "      <th>258</th>\n",
       "      <td>+</td>\n",
       "      <td>+1</td>\n",
       "      <td>+2</td>\n",
       "      <td>+</td>\n",
       "      <td>+12</td>\n",
       "      <td>5</td>\n",
       "      <td>NaN</td>\n",
       "      <td>cae75cd7d0b2330cd9e019a68cde7589f86871bb</td>\n",
       "    </tr>\n",
       "    <tr>\n",
       "      <th>278</th>\n",
       "      <td>+1</td>\n",
       "      <td>+</td>\n",
       "      <td>+</td>\n",
       "      <td>+3</td>\n",
       "      <td>+</td>\n",
       "      <td>5</td>\n",
       "      <td>NaN</td>\n",
       "      <td>87c7f0815b596bf242bd06ba2e52cacfd5a2d430</td>\n",
       "    </tr>\n",
       "    <tr>\n",
       "      <th>344</th>\n",
       "      <td>+</td>\n",
       "      <td>+</td>\n",
       "      <td>+1</td>\n",
       "      <td>+</td>\n",
       "      <td>+</td>\n",
       "      <td>5</td>\n",
       "      <td>NaN</td>\n",
       "      <td>2892a70d7242babec9a99c102c796ebe042f7cce</td>\n",
       "    </tr>\n",
       "    <tr>\n",
       "      <th>352</th>\n",
       "      <td>+2</td>\n",
       "      <td>+</td>\n",
       "      <td>+</td>\n",
       "      <td>+</td>\n",
       "      <td>+</td>\n",
       "      <td>5</td>\n",
       "      <td>NaN</td>\n",
       "      <td>8fa767d829c00de2e7f9f4b521e6a07dd529d7b7</td>\n",
       "    </tr>\n",
       "    <tr>\n",
       "      <th>360</th>\n",
       "      <td>+</td>\n",
       "      <td>+</td>\n",
       "      <td>+</td>\n",
       "      <td>+</td>\n",
       "      <td>+</td>\n",
       "      <td>5</td>\n",
       "      <td>NaN</td>\n",
       "      <td>c9ca5800888044ed045a4c1663aaa3e37067806e</td>\n",
       "    </tr>\n",
       "    <tr>\n",
       "      <th>389</th>\n",
       "      <td>+</td>\n",
       "      <td>+</td>\n",
       "      <td>+</td>\n",
       "      <td>+</td>\n",
       "      <td>+2</td>\n",
       "      <td>5</td>\n",
       "      <td>NaN</td>\n",
       "      <td>d32fc4e5cb6bc5b8f3f6e614eeb9bbb7d8200b12</td>\n",
       "    </tr>\n",
       "    <tr>\n",
       "      <th>399</th>\n",
       "      <td>+</td>\n",
       "      <td>+</td>\n",
       "      <td>+2</td>\n",
       "      <td>+1</td>\n",
       "      <td>+3</td>\n",
       "      <td>5</td>\n",
       "      <td>NaN</td>\n",
       "      <td>a5f9946eaa927b714f462c7f9915c44dc288c754</td>\n",
       "    </tr>\n",
       "    <tr>\n",
       "      <th>414</th>\n",
       "      <td>+</td>\n",
       "      <td>+1</td>\n",
       "      <td>+</td>\n",
       "      <td>+2</td>\n",
       "      <td>+</td>\n",
       "      <td>5</td>\n",
       "      <td>NaN</td>\n",
       "      <td>fe2009d1e422b839fa8643fdacd99e3472ebf760</td>\n",
       "    </tr>\n",
       "    <tr>\n",
       "      <th>418</th>\n",
       "      <td>+</td>\n",
       "      <td>+</td>\n",
       "      <td>+</td>\n",
       "      <td>+</td>\n",
       "      <td>+</td>\n",
       "      <td>5</td>\n",
       "      <td>NaN</td>\n",
       "      <td>fbe44659d0112c84eb69f9b6e0176e6b6b817330</td>\n",
       "    </tr>\n",
       "    <tr>\n",
       "      <th>427</th>\n",
       "      <td>+</td>\n",
       "      <td>+</td>\n",
       "      <td>+1</td>\n",
       "      <td>+</td>\n",
       "      <td>+</td>\n",
       "      <td>5</td>\n",
       "      <td>NaN</td>\n",
       "      <td>7a66862df903c6c030d889ba7c9ebad2af734eb6</td>\n",
       "    </tr>\n",
       "    <tr>\n",
       "      <th>438</th>\n",
       "      <td>+</td>\n",
       "      <td>+</td>\n",
       "      <td>+</td>\n",
       "      <td>+</td>\n",
       "      <td>+</td>\n",
       "      <td>5</td>\n",
       "      <td>NaN</td>\n",
       "      <td>2068f0579afa9735afa21325f2331ab08467bf5f</td>\n",
       "    </tr>\n",
       "    <tr>\n",
       "      <th>465</th>\n",
       "      <td>+</td>\n",
       "      <td>+</td>\n",
       "      <td>+</td>\n",
       "      <td>+</td>\n",
       "      <td>+</td>\n",
       "      <td>5</td>\n",
       "      <td>NaN</td>\n",
       "      <td>e7e23d936a2586da22ef2ccbe46b8fe91c90301c</td>\n",
       "    </tr>\n",
       "    <tr>\n",
       "      <th>489</th>\n",
       "      <td>+</td>\n",
       "      <td>+</td>\n",
       "      <td>+</td>\n",
       "      <td>+1</td>\n",
       "      <td>+</td>\n",
       "      <td>5</td>\n",
       "      <td>NaN</td>\n",
       "      <td>cc699e58940a04cd0201a866e2215f186a16fbdf</td>\n",
       "    </tr>\n",
       "    <tr>\n",
       "      <th>495</th>\n",
       "      <td>+1</td>\n",
       "      <td>+</td>\n",
       "      <td>+</td>\n",
       "      <td>+</td>\n",
       "      <td>+</td>\n",
       "      <td>5</td>\n",
       "      <td>NaN</td>\n",
       "      <td>f3de6f8c7dccd0ffb6a36f4d16669edb4dc10462</td>\n",
       "    </tr>\n",
       "    <tr>\n",
       "      <th>499</th>\n",
       "      <td>+</td>\n",
       "      <td>+2</td>\n",
       "      <td>+</td>\n",
       "      <td>+2</td>\n",
       "      <td>+1</td>\n",
       "      <td>5</td>\n",
       "      <td>NaN</td>\n",
       "      <td>6bf6a50b6db09c03973cdc54ab91fbc9cf8efd97</td>\n",
       "    </tr>\n",
       "    <tr>\n",
       "      <th>503</th>\n",
       "      <td>+</td>\n",
       "      <td>+</td>\n",
       "      <td>+</td>\n",
       "      <td>+</td>\n",
       "      <td>+</td>\n",
       "      <td>5</td>\n",
       "      <td>NaN</td>\n",
       "      <td>ddf8273962999bef4c1f7d8d229cbb4c4a22544f</td>\n",
       "    </tr>\n",
       "    <tr>\n",
       "      <th>504</th>\n",
       "      <td>+</td>\n",
       "      <td>+1</td>\n",
       "      <td>+</td>\n",
       "      <td>+1</td>\n",
       "      <td>+</td>\n",
       "      <td>5</td>\n",
       "      <td>NaN</td>\n",
       "      <td>ae74e66cb27f3b3754a9cc443098efdc5eaca8ac</td>\n",
       "    </tr>\n",
       "    <tr>\n",
       "      <th>511</th>\n",
       "      <td>+</td>\n",
       "      <td>+</td>\n",
       "      <td>+1</td>\n",
       "      <td>+6</td>\n",
       "      <td>+</td>\n",
       "      <td>5</td>\n",
       "      <td>NaN</td>\n",
       "      <td>3cce2f4d50f1ed9d84dda26ae52cf62ba7ddc0c0</td>\n",
       "    </tr>\n",
       "    <tr>\n",
       "      <th>571</th>\n",
       "      <td>+</td>\n",
       "      <td>+</td>\n",
       "      <td>+</td>\n",
       "      <td>+</td>\n",
       "      <td>+</td>\n",
       "      <td>5</td>\n",
       "      <td>NaN</td>\n",
       "      <td>7d6d8c046002f4d3a6decaa2d13f9b55c7caad76</td>\n",
       "    </tr>\n",
       "    <tr>\n",
       "      <th>583</th>\n",
       "      <td>+</td>\n",
       "      <td>+</td>\n",
       "      <td>+1</td>\n",
       "      <td>+1</td>\n",
       "      <td>+1</td>\n",
       "      <td>5</td>\n",
       "      <td>NaN</td>\n",
       "      <td>e035973602041deef042cc18e7f9fd0cf4ae165c</td>\n",
       "    </tr>\n",
       "    <tr>\n",
       "      <th>584</th>\n",
       "      <td>+</td>\n",
       "      <td>+</td>\n",
       "      <td>+</td>\n",
       "      <td>+</td>\n",
       "      <td>+</td>\n",
       "      <td>5</td>\n",
       "      <td>NaN</td>\n",
       "      <td>ab7788dd2a903dfabec01949e3011d873396e591</td>\n",
       "    </tr>\n",
       "    <tr>\n",
       "      <th>585</th>\n",
       "      <td>+</td>\n",
       "      <td>+</td>\n",
       "      <td>+</td>\n",
       "      <td>+</td>\n",
       "      <td>+</td>\n",
       "      <td>5</td>\n",
       "      <td>NaN</td>\n",
       "      <td>41c07892ad0457d5587d4798d2d82bf659c31f8e</td>\n",
       "    </tr>\n",
       "    <tr>\n",
       "      <th>598</th>\n",
       "      <td>+3</td>\n",
       "      <td>+2</td>\n",
       "      <td>+</td>\n",
       "      <td>+</td>\n",
       "      <td>+</td>\n",
       "      <td>5</td>\n",
       "      <td>NaN</td>\n",
       "      <td>5df088d3496c760a26cf86143340b2c62605b7f4</td>\n",
       "    </tr>\n",
       "    <tr>\n",
       "      <th>608</th>\n",
       "      <td>+</td>\n",
       "      <td>+</td>\n",
       "      <td>+1</td>\n",
       "      <td>+</td>\n",
       "      <td>+</td>\n",
       "      <td>5</td>\n",
       "      <td>NaN</td>\n",
       "      <td>76813855e7efc60854bb8c27849c1d2573f8c49a</td>\n",
       "    </tr>\n",
       "    <tr>\n",
       "      <th>631</th>\n",
       "      <td>+</td>\n",
       "      <td>+</td>\n",
       "      <td>+1</td>\n",
       "      <td>+</td>\n",
       "      <td>+</td>\n",
       "      <td>5</td>\n",
       "      <td>NaN</td>\n",
       "      <td>86285f1f77eccc817f0a0a9f8d2de3af2cb54791</td>\n",
       "    </tr>\n",
       "    <tr>\n",
       "      <th>662</th>\n",
       "      <td>+</td>\n",
       "      <td>-3</td>\n",
       "      <td>+</td>\n",
       "      <td>+1</td>\n",
       "      <td>+</td>\n",
       "      <td>4</td>\n",
       "      <td>NaN</td>\n",
       "      <td>71f2fc2fd90b5a60af292a920cc46721cae1dd80</td>\n",
       "    </tr>\n",
       "    <tr>\n",
       "      <th>679</th>\n",
       "      <td>+</td>\n",
       "      <td>+</td>\n",
       "      <td>NaN</td>\n",
       "      <td>NaN</td>\n",
       "      <td>NaN</td>\n",
       "      <td>2</td>\n",
       "      <td>NaN</td>\n",
       "      <td>c07e44934503108a7f5f73fb31efa2fb57a352e2</td>\n",
       "    </tr>\n",
       "    <tr>\n",
       "      <th>683</th>\n",
       "      <td>+1</td>\n",
       "      <td>-3</td>\n",
       "      <td>NaN</td>\n",
       "      <td>NaN</td>\n",
       "      <td>NaN</td>\n",
       "      <td>1</td>\n",
       "      <td>NaN</td>\n",
       "      <td>27b995a36560df51cfd048a24fa3d2bd069533ae</td>\n",
       "    </tr>\n",
       "    <tr>\n",
       "      <th>714</th>\n",
       "      <td>NaN</td>\n",
       "      <td>NaN</td>\n",
       "      <td>NaN</td>\n",
       "      <td>NaN</td>\n",
       "      <td>NaN</td>\n",
       "      <td>0</td>\n",
       "      <td>NaN</td>\n",
       "      <td>4aae3c94e34c44d3c7d17554d9f714d002196c91</td>\n",
       "    </tr>\n",
       "    <tr>\n",
       "      <th>733</th>\n",
       "      <td>NaN</td>\n",
       "      <td>NaN</td>\n",
       "      <td>NaN</td>\n",
       "      <td>NaN</td>\n",
       "      <td>NaN</td>\n",
       "      <td>0</td>\n",
       "      <td>NaN</td>\n",
       "      <td>d9cc58d151c53c83ff950b6bc77f3723643f3eb7</td>\n",
       "    </tr>\n",
       "    <tr>\n",
       "      <th>734</th>\n",
       "      <td>NaN</td>\n",
       "      <td>NaN</td>\n",
       "      <td>NaN</td>\n",
       "      <td>NaN</td>\n",
       "      <td>NaN</td>\n",
       "      <td>0</td>\n",
       "      <td>NaN</td>\n",
       "      <td>e584720ce7b075fad3c5b94da87d16838e515a4e</td>\n",
       "    </tr>\n",
       "    <tr>\n",
       "      <th>745</th>\n",
       "      <td>NaN</td>\n",
       "      <td>NaN</td>\n",
       "      <td>NaN</td>\n",
       "      <td>NaN</td>\n",
       "      <td>NaN</td>\n",
       "      <td>0</td>\n",
       "      <td>NaN</td>\n",
       "      <td>90f9d4615dffec5ae7f8d290baee14135ecfb452</td>\n",
       "    </tr>\n",
       "    <tr>\n",
       "      <th>747</th>\n",
       "      <td>NaN</td>\n",
       "      <td>NaN</td>\n",
       "      <td>NaN</td>\n",
       "      <td>NaN</td>\n",
       "      <td>NaN</td>\n",
       "      <td>0</td>\n",
       "      <td>NaN</td>\n",
       "      <td>39d723e32e0133bc30ff3c1f845e6b50979f35dc</td>\n",
       "    </tr>\n",
       "    <tr>\n",
       "      <th>766</th>\n",
       "      <td>NaN</td>\n",
       "      <td>NaN</td>\n",
       "      <td>NaN</td>\n",
       "      <td>NaN</td>\n",
       "      <td>NaN</td>\n",
       "      <td>0</td>\n",
       "      <td>NaN</td>\n",
       "      <td>08fb3420407b5f048074f723b2ce60cb35a4b216</td>\n",
       "    </tr>\n",
       "    <tr>\n",
       "      <th>768</th>\n",
       "      <td>NaN</td>\n",
       "      <td>NaN</td>\n",
       "      <td>NaN</td>\n",
       "      <td>NaN</td>\n",
       "      <td>NaN</td>\n",
       "      <td>0</td>\n",
       "      <td>NaN</td>\n",
       "      <td>2d048f0f42bd560917370eb74772484262e1e877</td>\n",
       "    </tr>\n",
       "  </tbody>\n",
       "</table>\n",
       "</div>"
      ],
      "text/plain": [
       "    1_быстрая_черепашка 2_вопрос_о_фигуре 3_послание_ 4_построй_дом!  \\\n",
       "45                    +                 +           +              +   \n",
       "84                   +3                 +           +             +1   \n",
       "103                   +                +1           +              +   \n",
       "119                   +                 +           +             +1   \n",
       "132                   +                 +           +              +   \n",
       "167                   +                 +           +              +   \n",
       "204                   +                +1           +             +1   \n",
       "215                   +                 +           +              +   \n",
       "234                   +                +1          +2              +   \n",
       "258                   +                +1          +2              +   \n",
       "278                  +1                 +           +             +3   \n",
       "344                   +                 +          +1              +   \n",
       "352                  +2                 +           +              +   \n",
       "360                   +                 +           +              +   \n",
       "389                   +                 +           +              +   \n",
       "399                   +                 +          +2             +1   \n",
       "414                   +                +1           +             +2   \n",
       "418                   +                 +           +              +   \n",
       "427                   +                 +          +1              +   \n",
       "438                   +                 +           +              +   \n",
       "465                   +                 +           +              +   \n",
       "489                   +                 +           +             +1   \n",
       "495                  +1                 +           +              +   \n",
       "499                   +                +2           +             +2   \n",
       "503                   +                 +           +              +   \n",
       "504                   +                +1           +             +1   \n",
       "511                   +                 +          +1             +6   \n",
       "571                   +                 +           +              +   \n",
       "583                   +                 +          +1             +1   \n",
       "584                   +                 +           +              +   \n",
       "585                   +                 +           +              +   \n",
       "598                  +3                +2           +              +   \n",
       "608                   +                 +          +1              +   \n",
       "631                   +                 +          +1              +   \n",
       "662                   +                -3           +             +1   \n",
       "679                   +                 +         NaN            NaN   \n",
       "683                  +1                -3         NaN            NaN   \n",
       "714                 NaN               NaN         NaN            NaN   \n",
       "733                 NaN               NaN         NaN            NaN   \n",
       "734                 NaN               NaN         NaN            NaN   \n",
       "745                 NaN               NaN         NaN            NaN   \n",
       "747                 NaN               NaN         NaN            NaN   \n",
       "766                 NaN               NaN         NaN            NaN   \n",
       "768                 NaN               NaN         NaN            NaN   \n",
       "\n",
       "    5_звездочный_квадрат  score department  \\\n",
       "45                     +      5        NaN   \n",
       "84                    +1      5        NaN   \n",
       "103                    +      5        NaN   \n",
       "119                    +      5        NaN   \n",
       "132                    +      5        NaN   \n",
       "167                    +      5        NaN   \n",
       "204                    +      5        NaN   \n",
       "215                    +      5        NaN   \n",
       "234                    +      5        NaN   \n",
       "258                  +12      5        NaN   \n",
       "278                    +      5        NaN   \n",
       "344                    +      5        NaN   \n",
       "352                    +      5        NaN   \n",
       "360                    +      5        NaN   \n",
       "389                   +2      5        NaN   \n",
       "399                   +3      5        NaN   \n",
       "414                    +      5        NaN   \n",
       "418                    +      5        NaN   \n",
       "427                    +      5        NaN   \n",
       "438                    +      5        NaN   \n",
       "465                    +      5        NaN   \n",
       "489                    +      5        NaN   \n",
       "495                    +      5        NaN   \n",
       "499                   +1      5        NaN   \n",
       "503                    +      5        NaN   \n",
       "504                    +      5        NaN   \n",
       "511                    +      5        NaN   \n",
       "571                    +      5        NaN   \n",
       "583                   +1      5        NaN   \n",
       "584                    +      5        NaN   \n",
       "585                    +      5        NaN   \n",
       "598                    +      5        NaN   \n",
       "608                    +      5        NaN   \n",
       "631                    +      5        NaN   \n",
       "662                    +      4        NaN   \n",
       "679                  NaN      2        NaN   \n",
       "683                  NaN      1        NaN   \n",
       "714                  NaN      0        NaN   \n",
       "733                  NaN      0        NaN   \n",
       "734                  NaN      0        NaN   \n",
       "745                  NaN      0        NaN   \n",
       "747                  NaN      0        NaN   \n",
       "766                  NaN      0        NaN   \n",
       "768                  NaN      0        NaN   \n",
       "\n",
       "                                         hash  \n",
       "45   3c85e6232fbc687ad84b52e9321069ca6f2a458a  \n",
       "84   e65c73bc3af10243cad47130eac4c1dfb45a51a2  \n",
       "103  b6698d32a5cbc8086e55e8579132ec936f223c8c  \n",
       "119  2e132c789cef6fc4be79f45d93da2f6671a8a206  \n",
       "132  9c065d5719b224ddaf112a6c22a176f9b2041f0d  \n",
       "167  51fba264526d7d9da0105c89a42b96cbdd3e6e4d  \n",
       "204  282ce13355e51eaf645beab1ad6910688d874339  \n",
       "215  e9c6d37fea2ea1a437d30e69e1e7db20188cccfc  \n",
       "234  bb721c4a14f1003f6e8cf78a75881cb460cd3c3d  \n",
       "258  cae75cd7d0b2330cd9e019a68cde7589f86871bb  \n",
       "278  87c7f0815b596bf242bd06ba2e52cacfd5a2d430  \n",
       "344  2892a70d7242babec9a99c102c796ebe042f7cce  \n",
       "352  8fa767d829c00de2e7f9f4b521e6a07dd529d7b7  \n",
       "360  c9ca5800888044ed045a4c1663aaa3e37067806e  \n",
       "389  d32fc4e5cb6bc5b8f3f6e614eeb9bbb7d8200b12  \n",
       "399  a5f9946eaa927b714f462c7f9915c44dc288c754  \n",
       "414  fe2009d1e422b839fa8643fdacd99e3472ebf760  \n",
       "418  fbe44659d0112c84eb69f9b6e0176e6b6b817330  \n",
       "427  7a66862df903c6c030d889ba7c9ebad2af734eb6  \n",
       "438  2068f0579afa9735afa21325f2331ab08467bf5f  \n",
       "465  e7e23d936a2586da22ef2ccbe46b8fe91c90301c  \n",
       "489  cc699e58940a04cd0201a866e2215f186a16fbdf  \n",
       "495  f3de6f8c7dccd0ffb6a36f4d16669edb4dc10462  \n",
       "499  6bf6a50b6db09c03973cdc54ab91fbc9cf8efd97  \n",
       "503  ddf8273962999bef4c1f7d8d229cbb4c4a22544f  \n",
       "504  ae74e66cb27f3b3754a9cc443098efdc5eaca8ac  \n",
       "511  3cce2f4d50f1ed9d84dda26ae52cf62ba7ddc0c0  \n",
       "571  7d6d8c046002f4d3a6decaa2d13f9b55c7caad76  \n",
       "583  e035973602041deef042cc18e7f9fd0cf4ae165c  \n",
       "584  ab7788dd2a903dfabec01949e3011d873396e591  \n",
       "585  41c07892ad0457d5587d4798d2d82bf659c31f8e  \n",
       "598  5df088d3496c760a26cf86143340b2c62605b7f4  \n",
       "608  76813855e7efc60854bb8c27849c1d2573f8c49a  \n",
       "631  86285f1f77eccc817f0a0a9f8d2de3af2cb54791  \n",
       "662  71f2fc2fd90b5a60af292a920cc46721cae1dd80  \n",
       "679  c07e44934503108a7f5f73fb31efa2fb57a352e2  \n",
       "683  27b995a36560df51cfd048a24fa3d2bd069533ae  \n",
       "714  4aae3c94e34c44d3c7d17554d9f714d002196c91  \n",
       "733  d9cc58d151c53c83ff950b6bc77f3723643f3eb7  \n",
       "734  e584720ce7b075fad3c5b94da87d16838e515a4e  \n",
       "745  90f9d4615dffec5ae7f8d290baee14135ecfb452  \n",
       "747  39d723e32e0133bc30ff3c1f845e6b50979f35dc  \n",
       "766  08fb3420407b5f048074f723b2ce60cb35a4b216  \n",
       "768  2d048f0f42bd560917370eb74772484262e1e877  "
      ]
     },
     "execution_count": 117,
     "metadata": {},
     "output_type": "execute_result"
    }
   ],
   "source": [
    "df_res1[df_res1.department.isna()]"
   ]
  },
  {
   "cell_type": "markdown",
   "id": "1de17110",
   "metadata": {
    "id": "1de17110"
   },
   "source": [
    "К сожалению, эти не все безответственные товарищи являются виртуальными — только 7 из них не решили ни одной задачи. Но мы всё равно удалим их из нашей таблицы и на всякий случай сбросим индексы:"
   ]
  },
  {
   "cell_type": "code",
   "execution_count": 118,
   "id": "efd9249a",
   "metadata": {
    "id": "efd9249a"
   },
   "outputs": [],
   "source": [
    "df_res1.dropna(subset=['department'], axis=0, inplace=True)\n",
    "df_res1.reset_index(inplace=True)\n",
    "df_res1.drop(columns=['index'], inplace=True)"
   ]
  },
  {
   "cell_type": "markdown",
   "id": "05cc3635",
   "metadata": {
    "id": "05cc3635"
   },
   "source": [
    "Добавим визуализацию количества студентов по факультетам:"
   ]
  },
  {
   "cell_type": "code",
   "execution_count": 119,
   "id": "9af2dcf1",
   "metadata": {
    "id": "9af2dcf1",
    "outputId": "40f3a098-2914-4053-9cf4-474cfe250f11"
   },
   "outputs": [
    {
     "data": {
      "text/plain": [
       "<AxesSubplot:>"
      ]
     },
     "execution_count": 119,
     "metadata": {},
     "output_type": "execute_result"
    },
    {
     "data": {
      "image/png": "[encoded data removed]",
      "text/plain": [
       "<Figure size 648x576 with 1 Axes>"
      ]
     },
     "metadata": {
      "needs_background": "light"
     },
     "output_type": "display_data"
    }
   ],
   "source": [
    "df_res1['department'].value_counts().sort_values(ascending=True).plot(kind='barh', figsize=(9, 8))"
   ]
  },
  {
   "cell_type": "markdown",
   "id": "beceb22b",
   "metadata": {
    "id": "beceb22b"
   },
   "source": [
    "Теперь нужно сделать удобным анализ информации о задачах. "
   ]
  },
  {
   "cell_type": "code",
   "execution_count": 120,
   "id": "114d1c32",
   "metadata": {
    "id": "114d1c32",
    "outputId": "8c9ecc71-b3d3-40e3-f9af-d7bfeaf5e552"
   },
   "outputs": [
    {
     "data": {
      "text/plain": [
       "dtype('O')"
      ]
     },
     "execution_count": 120,
     "metadata": {},
     "output_type": "execute_result"
    }
   ],
   "source": [
    "df_res1[\"1_быстрая_черепашка\"].dtypes"
   ]
  },
  {
   "cell_type": "markdown",
   "id": "85149169",
   "metadata": {
    "id": "85149169"
   },
   "source": [
    "`dtype('O')` означает, что у них \"объектный тип\", а значит (в нашем случае) — строковый `str` либо `float('NaN')`.\n",
    "\n",
    "Кроме того, эти ячейки сейчас имеют следующий формат:\n",
    "\n",
    "- `+n` — задача сдана (число — это количество посылок в систему)\n",
    "- `-n` — решение задачи неверное (число — это количество посылок в систему)\n",
    "- `пустое значение` — задача не решалась\n",
    "\n",
    "Заменим пустые ячейки и значения с минусом на 0, а затем все значения с плюсом на 1."
   ]
  },
  {
   "cell_type": "code",
   "execution_count": 121,
   "id": "84beb3e4",
   "metadata": {
    "id": "84beb3e4",
    "outputId": "157fcb31-3849-4f55-bdf9-59acdb949488"
   },
   "outputs": [
    {
     "data": {
      "text/html": [
       "<div>\n",
       "<style scoped>\n",
       "    .dataframe tbody tr th:only-of-type {\n",
       "        vertical-align: middle;\n",
       "    }\n",
       "\n",
       "    .dataframe tbody tr th {\n",
       "        vertical-align: top;\n",
       "    }\n",
       "\n",
       "    .dataframe thead th {\n",
       "        text-align: right;\n",
       "    }\n",
       "</style>\n",
       "<table border=\"1\" class=\"dataframe\">\n",
       "  <thead>\n",
       "    <tr style=\"text-align: right;\">\n",
       "      <th></th>\n",
       "      <th>1_быстрая_черепашка</th>\n",
       "      <th>2_вопрос_о_фигуре</th>\n",
       "      <th>3_послание_</th>\n",
       "      <th>4_построй_дом!</th>\n",
       "      <th>5_звездочный_квадрат</th>\n",
       "      <th>score</th>\n",
       "      <th>department</th>\n",
       "      <th>hash</th>\n",
       "    </tr>\n",
       "  </thead>\n",
       "  <tbody>\n",
       "    <tr>\n",
       "      <th>435</th>\n",
       "      <td>+</td>\n",
       "      <td>+</td>\n",
       "      <td>+</td>\n",
       "      <td>+</td>\n",
       "      <td>+</td>\n",
       "      <td>5</td>\n",
       "      <td>Механико-математический факультет</td>\n",
       "      <td>bf820ce9948fb0d2a190aab2e2d51d5dc3b8d966</td>\n",
       "    </tr>\n",
       "    <tr>\n",
       "      <th>545</th>\n",
       "      <td>+</td>\n",
       "      <td>+</td>\n",
       "      <td>+</td>\n",
       "      <td>+</td>\n",
       "      <td>+</td>\n",
       "      <td>5</td>\n",
       "      <td>Не из МГУ</td>\n",
       "      <td>d3d2d3b1a0092f0acf73d0ed02f979785cb7832e</td>\n",
       "    </tr>\n",
       "    <tr>\n",
       "      <th>594</th>\n",
       "      <td>+</td>\n",
       "      <td>+</td>\n",
       "      <td>+</td>\n",
       "      <td>+</td>\n",
       "      <td>+</td>\n",
       "      <td>5</td>\n",
       "      <td>Географический факультет</td>\n",
       "      <td>9d51beff68445f7605d8078ecf9671924b08244a</td>\n",
       "    </tr>\n",
       "    <tr>\n",
       "      <th>676</th>\n",
       "      <td>-</td>\n",
       "      <td>-</td>\n",
       "      <td>-</td>\n",
       "      <td>-</td>\n",
       "      <td>-</td>\n",
       "      <td>0</td>\n",
       "      <td>Физический факультет</td>\n",
       "      <td>9dd00cfba45f1062635bcdcb26478899ed8f71a1</td>\n",
       "    </tr>\n",
       "    <tr>\n",
       "      <th>184</th>\n",
       "      <td>+</td>\n",
       "      <td>+</td>\n",
       "      <td>+</td>\n",
       "      <td>+</td>\n",
       "      <td>+</td>\n",
       "      <td>5</td>\n",
       "      <td>Филологический факультет</td>\n",
       "      <td>c793f35cd159dc8069e7f2d3ea0c00bce5e5c7cd</td>\n",
       "    </tr>\n",
       "  </tbody>\n",
       "</table>\n",
       "</div>"
      ],
      "text/plain": [
       "    1_быстрая_черепашка 2_вопрос_о_фигуре 3_послание_ 4_построй_дом!  \\\n",
       "435                   +                 +           +              +   \n",
       "545                   +                 +           +              +   \n",
       "594                   +                 +           +              +   \n",
       "676                   -                 -           -              -   \n",
       "184                   +                 +           +              +   \n",
       "\n",
       "    5_звездочный_квадрат  score                         department  \\\n",
       "435                    +      5  Механико-математический факультет   \n",
       "545                    +      5                          Не из МГУ   \n",
       "594                    +      5           Географический факультет   \n",
       "676                    -      0               Физический факультет   \n",
       "184                    +      5           Филологический факультет   \n",
       "\n",
       "                                         hash  \n",
       "435  bf820ce9948fb0d2a190aab2e2d51d5dc3b8d966  \n",
       "545  d3d2d3b1a0092f0acf73d0ed02f979785cb7832e  \n",
       "594  9d51beff68445f7605d8078ecf9671924b08244a  \n",
       "676  9dd00cfba45f1062635bcdcb26478899ed8f71a1  \n",
       "184  c793f35cd159dc8069e7f2d3ea0c00bce5e5c7cd  "
      ]
     },
     "execution_count": 121,
     "metadata": {},
     "output_type": "execute_result"
    }
   ],
   "source": [
    "df_res1.fillna('-', inplace=True)\n",
    "df_res1.sample(5)  # случайная выборка 5 строк из таблицы"
   ]
  },
  {
   "cell_type": "markdown",
   "id": "2e462fd7",
   "metadata": {
    "id": "2e462fd7"
   },
   "source": [
    "Дли приведения ячеек о сдачах к числовому формату (1 — сдана, 0 — не сдана) определим следующую преобразующую функцию:"
   ]
  },
  {
   "cell_type": "code",
   "execution_count": 122,
   "id": "07317052",
   "metadata": {
    "id": "07317052"
   },
   "outputs": [],
   "source": [
    "def task_is_solved(result):\n",
    "    if result[0] == '+':\n",
    "        return 1\n",
    "    else:\n",
    "        return 0"
   ]
  },
  {
   "cell_type": "markdown",
   "id": "5a9c44fd",
   "metadata": {
    "id": "5a9c44fd"
   },
   "source": [
    "Применим её ко всем значениям из первых 5 столбцов:"
   ]
  },
  {
   "cell_type": "code",
   "execution_count": 123,
   "id": "bf6df96a",
   "metadata": {
    "id": "bf6df96a",
    "outputId": "2f3eb3ee-1270-406f-f5c7-9cb4bec543d8"
   },
   "outputs": [
    {
     "data": {
      "text/html": [
       "<div>\n",
       "<style scoped>\n",
       "    .dataframe tbody tr th:only-of-type {\n",
       "        vertical-align: middle;\n",
       "    }\n",
       "\n",
       "    .dataframe tbody tr th {\n",
       "        vertical-align: top;\n",
       "    }\n",
       "\n",
       "    .dataframe thead th {\n",
       "        text-align: right;\n",
       "    }\n",
       "</style>\n",
       "<table border=\"1\" class=\"dataframe\">\n",
       "  <thead>\n",
       "    <tr style=\"text-align: right;\">\n",
       "      <th></th>\n",
       "      <th>1_быстрая_черепашка</th>\n",
       "      <th>2_вопрос_о_фигуре</th>\n",
       "      <th>3_послание_</th>\n",
       "      <th>4_построй_дом!</th>\n",
       "      <th>5_звездочный_квадрат</th>\n",
       "      <th>score</th>\n",
       "      <th>department</th>\n",
       "      <th>hash</th>\n",
       "    </tr>\n",
       "  </thead>\n",
       "  <tbody>\n",
       "    <tr>\n",
       "      <th>0</th>\n",
       "      <td>1</td>\n",
       "      <td>1</td>\n",
       "      <td>1</td>\n",
       "      <td>1</td>\n",
       "      <td>1</td>\n",
       "      <td>5</td>\n",
       "      <td>Не из МГУ</td>\n",
       "      <td>b6a720e40da936c330e1f53680b279381d1c5742</td>\n",
       "    </tr>\n",
       "    <tr>\n",
       "      <th>1</th>\n",
       "      <td>1</td>\n",
       "      <td>1</td>\n",
       "      <td>1</td>\n",
       "      <td>1</td>\n",
       "      <td>1</td>\n",
       "      <td>5</td>\n",
       "      <td>Физический факультет</td>\n",
       "      <td>57bd006a9261c889d76cba7537a3b61671cbcc6a</td>\n",
       "    </tr>\n",
       "    <tr>\n",
       "      <th>2</th>\n",
       "      <td>1</td>\n",
       "      <td>1</td>\n",
       "      <td>1</td>\n",
       "      <td>1</td>\n",
       "      <td>1</td>\n",
       "      <td>5</td>\n",
       "      <td>Механико-математический факультет</td>\n",
       "      <td>0b7a6e627adeb9d50c5ecb7b5a17ea452ec87659</td>\n",
       "    </tr>\n",
       "    <tr>\n",
       "      <th>3</th>\n",
       "      <td>1</td>\n",
       "      <td>1</td>\n",
       "      <td>1</td>\n",
       "      <td>1</td>\n",
       "      <td>1</td>\n",
       "      <td>5</td>\n",
       "      <td>Факультет вычислительной математики и кибернетики</td>\n",
       "      <td>c22dc82f7e88a8973a18180d85d5a3b0cf641b75</td>\n",
       "    </tr>\n",
       "    <tr>\n",
       "      <th>4</th>\n",
       "      <td>1</td>\n",
       "      <td>1</td>\n",
       "      <td>1</td>\n",
       "      <td>1</td>\n",
       "      <td>1</td>\n",
       "      <td>5</td>\n",
       "      <td>Механико-математический факультет</td>\n",
       "      <td>1ac42c1757e5790d220299fbe51540beda8b1d8a</td>\n",
       "    </tr>\n",
       "  </tbody>\n",
       "</table>\n",
       "</div>"
      ],
      "text/plain": [
       "   1_быстрая_черепашка  2_вопрос_о_фигуре  3_послание_  4_построй_дом!  \\\n",
       "0                    1                  1            1               1   \n",
       "1                    1                  1            1               1   \n",
       "2                    1                  1            1               1   \n",
       "3                    1                  1            1               1   \n",
       "4                    1                  1            1               1   \n",
       "\n",
       "   5_звездочный_квадрат  score  \\\n",
       "0                     1      5   \n",
       "1                     1      5   \n",
       "2                     1      5   \n",
       "3                     1      5   \n",
       "4                     1      5   \n",
       "\n",
       "                                          department  \\\n",
       "0                                          Не из МГУ   \n",
       "1                               Физический факультет   \n",
       "2                  Механико-математический факультет   \n",
       "3  Факультет вычислительной математики и кибернетики   \n",
       "4                  Механико-математический факультет   \n",
       "\n",
       "                                       hash  \n",
       "0  b6a720e40da936c330e1f53680b279381d1c5742  \n",
       "1  57bd006a9261c889d76cba7537a3b61671cbcc6a  \n",
       "2  0b7a6e627adeb9d50c5ecb7b5a17ea452ec87659  \n",
       "3  c22dc82f7e88a8973a18180d85d5a3b0cf641b75  \n",
       "4  1ac42c1757e5790d220299fbe51540beda8b1d8a  "
      ]
     },
     "execution_count": 123,
     "metadata": {},
     "output_type": "execute_result"
    }
   ],
   "source": [
    "for column in df_res1.columns[:5]:\n",
    "    df_res1[column] = df_res1[column].apply(func=task_is_solved)\n",
    "df_res1.head()"
   ]
  },
  {
   "cell_type": "code",
   "execution_count": null,
   "id": "d1c1f832",
   "metadata": {
    "id": "d1c1f832"
   },
   "outputs": [],
   "source": []
  },
  {
   "cell_type": "code",
   "execution_count": 124,
   "id": "0ada9492",
   "metadata": {
    "id": "3oXHvhskseel"
   },
   "outputs": [],
   "source": [
    "# импорт модулей\n",
    "import numpy as np\n",
    "import pandas as pd\n",
    "import matplotlib.pyplot as plt"
   ]
  },
  {
   "cell_type": "markdown",
   "id": "e2b12974",
   "metadata": {
    "id": "yuRTJTM8seen"
   },
   "source": [
    "### Поработаем с несколькими небольшими датасетами"
   ]
  },
  {
   "cell_type": "code",
   "execution_count": 125,
   "id": "94a1841b",
   "metadata": {
    "id": "km7GdVudseep"
   },
   "outputs": [],
   "source": [
    "# !wget https://raw.githubusercontent.com/hse-ds/iad-intro-ds/master/2022/seminars/grades.csv"
   ]
  },
  {
   "cell_type": "code",
   "execution_count": 126,
   "id": "c7da7a0e",
   "metadata": {
    "id": "wLBiIA6Vseeq"
   },
   "outputs": [],
   "source": [
    "df = pd.read_csv('https://raw.githubusercontent.com/hse-ds/iad-intro-ds/master/2022/seminars/grades.csv', \n",
    "                 sep=',', \n",
    "                 index_col=0)"
   ]
  },
  {
   "cell_type": "code",
   "execution_count": 127,
   "id": "e6cceeca",
   "metadata": {
    "colab": {
     "base_uri": "https://localhost:8080/",
     "height": 221
    },
    "id": "_CU2SVvSseer",
    "outputId": "1ebde5c3-9ca6-4b83-f23d-dd8961031342"
   },
   "outputs": [
    {
     "data": {
      "text/html": [
       "<div>\n",
       "<style scoped>\n",
       "    .dataframe tbody tr th:only-of-type {\n",
       "        vertical-align: middle;\n",
       "    }\n",
       "\n",
       "    .dataframe tbody tr th {\n",
       "        vertical-align: top;\n",
       "    }\n",
       "\n",
       "    .dataframe thead th {\n",
       "        text-align: right;\n",
       "    }\n",
       "</style>\n",
       "<table border=\"1\" class=\"dataframe\">\n",
       "  <thead>\n",
       "    <tr style=\"text-align: right;\">\n",
       "      <th></th>\n",
       "      <th>hash</th>\n",
       "      <th>0</th>\n",
       "      <th>1</th>\n",
       "      <th>2</th>\n",
       "      <th>3</th>\n",
       "      <th>4</th>\n",
       "      <th>5</th>\n",
       "      <th>6</th>\n",
       "      <th>7</th>\n",
       "      <th>8</th>\n",
       "    </tr>\n",
       "  </thead>\n",
       "  <tbody>\n",
       "    <tr>\n",
       "      <th>0</th>\n",
       "      <td>cbe32a2a1b</td>\n",
       "      <td>0.8</td>\n",
       "      <td>1.0</td>\n",
       "      <td>1.0</td>\n",
       "      <td>1.0</td>\n",
       "      <td>1.0</td>\n",
       "      <td>1.0</td>\n",
       "      <td>0.0</td>\n",
       "      <td>0.0</td>\n",
       "      <td>0.0</td>\n",
       "    </tr>\n",
       "    <tr>\n",
       "      <th>1</th>\n",
       "      <td>caa93590ad</td>\n",
       "      <td>0.2</td>\n",
       "      <td>0.2</td>\n",
       "      <td>0.9</td>\n",
       "      <td>0.7</td>\n",
       "      <td>0.0</td>\n",
       "      <td>0.0</td>\n",
       "      <td>0.0</td>\n",
       "      <td>0.0</td>\n",
       "      <td>0.0</td>\n",
       "    </tr>\n",
       "    <tr>\n",
       "      <th>2</th>\n",
       "      <td>5bbe47f96d</td>\n",
       "      <td>0.8</td>\n",
       "      <td>1.0</td>\n",
       "      <td>1.0</td>\n",
       "      <td>1.0</td>\n",
       "      <td>1.0</td>\n",
       "      <td>0.0</td>\n",
       "      <td>0.5</td>\n",
       "      <td>0.0</td>\n",
       "      <td>0.0</td>\n",
       "    </tr>\n",
       "    <tr>\n",
       "      <th>3</th>\n",
       "      <td>3f187965b9</td>\n",
       "      <td>0.0</td>\n",
       "      <td>0.0</td>\n",
       "      <td>0.8</td>\n",
       "      <td>1.0</td>\n",
       "      <td>0.5</td>\n",
       "      <td>0.0</td>\n",
       "      <td>0.0</td>\n",
       "      <td>0.0</td>\n",
       "      <td>0.0</td>\n",
       "    </tr>\n",
       "    <tr>\n",
       "      <th>4</th>\n",
       "      <td>bf1e56e185</td>\n",
       "      <td>0.0</td>\n",
       "      <td>0.0</td>\n",
       "      <td>0.0</td>\n",
       "      <td>0.0</td>\n",
       "      <td>0.0</td>\n",
       "      <td>0.0</td>\n",
       "      <td>0.0</td>\n",
       "      <td>0.0</td>\n",
       "      <td>0.0</td>\n",
       "    </tr>\n",
       "  </tbody>\n",
       "</table>\n",
       "</div>"
      ],
      "text/plain": [
       "         hash    0    1    2    3    4    5    6    7    8\n",
       "0  cbe32a2a1b  0.8  1.0  1.0  1.0  1.0  1.0  0.0  0.0  0.0\n",
       "1  caa93590ad  0.2  0.2  0.9  0.7  0.0  0.0  0.0  0.0  0.0\n",
       "2  5bbe47f96d  0.8  1.0  1.0  1.0  1.0  0.0  0.5  0.0  0.0\n",
       "3  3f187965b9  0.0  0.0  0.8  1.0  0.5  0.0  0.0  0.0  0.0\n",
       "4  bf1e56e185  0.0  0.0  0.0  0.0  0.0  0.0  0.0  0.0  0.0"
      ]
     },
     "execution_count": 127,
     "metadata": {},
     "output_type": "execute_result"
    }
   ],
   "source": [
    "# вывести голову таблицы\n",
    "df.head(5)"
   ]
  },
  {
   "cell_type": "code",
   "execution_count": 128,
   "id": "94e0b549",
   "metadata": {
    "colab": {
     "base_uri": "https://localhost:8080/",
     "height": 221
    },
    "id": "vWsDAobVseer",
    "outputId": "0141234b-68d4-4ac7-ebb6-6562703d6015"
   },
   "outputs": [
    {
     "data": {
      "text/html": [
       "<div>\n",
       "<style scoped>\n",
       "    .dataframe tbody tr th:only-of-type {\n",
       "        vertical-align: middle;\n",
       "    }\n",
       "\n",
       "    .dataframe tbody tr th {\n",
       "        vertical-align: top;\n",
       "    }\n",
       "\n",
       "    .dataframe thead th {\n",
       "        text-align: right;\n",
       "    }\n",
       "</style>\n",
       "<table border=\"1\" class=\"dataframe\">\n",
       "  <thead>\n",
       "    <tr style=\"text-align: right;\">\n",
       "      <th></th>\n",
       "      <th>hash</th>\n",
       "      <th>0</th>\n",
       "      <th>1</th>\n",
       "      <th>2</th>\n",
       "      <th>3</th>\n",
       "      <th>4</th>\n",
       "      <th>5</th>\n",
       "      <th>6</th>\n",
       "      <th>7</th>\n",
       "      <th>8</th>\n",
       "    </tr>\n",
       "  </thead>\n",
       "  <tbody>\n",
       "    <tr>\n",
       "      <th>33</th>\n",
       "      <td>c11c124eb9</td>\n",
       "      <td>0.0</td>\n",
       "      <td>1.0</td>\n",
       "      <td>1.0</td>\n",
       "      <td>0.8</td>\n",
       "      <td>0.5</td>\n",
       "      <td>0.5</td>\n",
       "      <td>0.0</td>\n",
       "      <td>0.0</td>\n",
       "      <td>0.7</td>\n",
       "    </tr>\n",
       "    <tr>\n",
       "      <th>34</th>\n",
       "      <td>8b4c1af94b</td>\n",
       "      <td>0.8</td>\n",
       "      <td>1.0</td>\n",
       "      <td>1.0</td>\n",
       "      <td>1.0</td>\n",
       "      <td>0.5</td>\n",
       "      <td>0.0</td>\n",
       "      <td>0.5</td>\n",
       "      <td>0.0</td>\n",
       "      <td>0.7</td>\n",
       "    </tr>\n",
       "    <tr>\n",
       "      <th>35</th>\n",
       "      <td>e1388f2aae</td>\n",
       "      <td>0.0</td>\n",
       "      <td>0.5</td>\n",
       "      <td>0.0</td>\n",
       "      <td>0.0</td>\n",
       "      <td>0.0</td>\n",
       "      <td>0.0</td>\n",
       "      <td>0.0</td>\n",
       "      <td>0.0</td>\n",
       "      <td>0.0</td>\n",
       "    </tr>\n",
       "    <tr>\n",
       "      <th>36</th>\n",
       "      <td>ee55242421</td>\n",
       "      <td>0.8</td>\n",
       "      <td>1.0</td>\n",
       "      <td>0.0</td>\n",
       "      <td>0.7</td>\n",
       "      <td>0.0</td>\n",
       "      <td>1.0</td>\n",
       "      <td>0.0</td>\n",
       "      <td>0.9</td>\n",
       "      <td>0.0</td>\n",
       "    </tr>\n",
       "    <tr>\n",
       "      <th>37</th>\n",
       "      <td>d6c40a7f4b</td>\n",
       "      <td>0.0</td>\n",
       "      <td>1.0</td>\n",
       "      <td>0.0</td>\n",
       "      <td>0.0</td>\n",
       "      <td>0.0</td>\n",
       "      <td>0.0</td>\n",
       "      <td>0.0</td>\n",
       "      <td>0.0</td>\n",
       "      <td>0.0</td>\n",
       "    </tr>\n",
       "  </tbody>\n",
       "</table>\n",
       "</div>"
      ],
      "text/plain": [
       "          hash    0    1    2    3    4    5    6    7    8\n",
       "33  c11c124eb9  0.0  1.0  1.0  0.8  0.5  0.5  0.0  0.0  0.7\n",
       "34  8b4c1af94b  0.8  1.0  1.0  1.0  0.5  0.0  0.5  0.0  0.7\n",
       "35  e1388f2aae  0.0  0.5  0.0  0.0  0.0  0.0  0.0  0.0  0.0\n",
       "36  ee55242421  0.8  1.0  0.0  0.7  0.0  1.0  0.0  0.9  0.0\n",
       "37  d6c40a7f4b  0.0  1.0  0.0  0.0  0.0  0.0  0.0  0.0  0.0"
      ]
     },
     "execution_count": 128,
     "metadata": {},
     "output_type": "execute_result"
    }
   ],
   "source": [
    "# вывести хвост таблицы\n",
    "df.tail()"
   ]
  },
  {
   "cell_type": "code",
   "execution_count": 129,
   "id": "a7b802f4",
   "metadata": {
    "colab": {
     "base_uri": "https://localhost:8080/",
     "height": 221
    },
    "id": "lksQmOl3sees",
    "outputId": "eebbcaf4-5e35-4a13-abd8-6ca61bb1b640"
   },
   "outputs": [
    {
     "data": {
      "text/html": [
       "<div>\n",
       "<style scoped>\n",
       "    .dataframe tbody tr th:only-of-type {\n",
       "        vertical-align: middle;\n",
       "    }\n",
       "\n",
       "    .dataframe tbody tr th {\n",
       "        vertical-align: top;\n",
       "    }\n",
       "\n",
       "    .dataframe thead th {\n",
       "        text-align: right;\n",
       "    }\n",
       "</style>\n",
       "<table border=\"1\" class=\"dataframe\">\n",
       "  <thead>\n",
       "    <tr style=\"text-align: right;\">\n",
       "      <th></th>\n",
       "      <th>hash</th>\n",
       "      <th>0</th>\n",
       "      <th>1</th>\n",
       "      <th>2</th>\n",
       "      <th>3</th>\n",
       "      <th>4</th>\n",
       "      <th>5</th>\n",
       "      <th>6</th>\n",
       "      <th>7</th>\n",
       "      <th>8</th>\n",
       "    </tr>\n",
       "  </thead>\n",
       "  <tbody>\n",
       "    <tr>\n",
       "      <th>22</th>\n",
       "      <td>ca49cc7265</td>\n",
       "      <td>0.8</td>\n",
       "      <td>0.9</td>\n",
       "      <td>0.0</td>\n",
       "      <td>0.0</td>\n",
       "      <td>0.5</td>\n",
       "      <td>0.5</td>\n",
       "      <td>0.0</td>\n",
       "      <td>1.0</td>\n",
       "      <td>0.6</td>\n",
       "    </tr>\n",
       "    <tr>\n",
       "      <th>20</th>\n",
       "      <td>6588f97aea</td>\n",
       "      <td>0.0</td>\n",
       "      <td>0.6</td>\n",
       "      <td>1.0</td>\n",
       "      <td>1.0</td>\n",
       "      <td>1.0</td>\n",
       "      <td>0.5</td>\n",
       "      <td>0.0</td>\n",
       "      <td>0.0</td>\n",
       "      <td>0.7</td>\n",
       "    </tr>\n",
       "    <tr>\n",
       "      <th>24</th>\n",
       "      <td>8f67295cb3</td>\n",
       "      <td>0.8</td>\n",
       "      <td>1.0</td>\n",
       "      <td>1.0</td>\n",
       "      <td>0.0</td>\n",
       "      <td>0.5</td>\n",
       "      <td>0.0</td>\n",
       "      <td>0.0</td>\n",
       "      <td>0.0</td>\n",
       "      <td>0.7</td>\n",
       "    </tr>\n",
       "    <tr>\n",
       "      <th>2</th>\n",
       "      <td>5bbe47f96d</td>\n",
       "      <td>0.8</td>\n",
       "      <td>1.0</td>\n",
       "      <td>1.0</td>\n",
       "      <td>1.0</td>\n",
       "      <td>1.0</td>\n",
       "      <td>0.0</td>\n",
       "      <td>0.5</td>\n",
       "      <td>0.0</td>\n",
       "      <td>0.0</td>\n",
       "    </tr>\n",
       "    <tr>\n",
       "      <th>10</th>\n",
       "      <td>f9f854aa44</td>\n",
       "      <td>1.0</td>\n",
       "      <td>0.9</td>\n",
       "      <td>0.0</td>\n",
       "      <td>0.5</td>\n",
       "      <td>0.5</td>\n",
       "      <td>0.0</td>\n",
       "      <td>0.0</td>\n",
       "      <td>0.0</td>\n",
       "      <td>0.0</td>\n",
       "    </tr>\n",
       "  </tbody>\n",
       "</table>\n",
       "</div>"
      ],
      "text/plain": [
       "          hash    0    1    2    3    4    5    6    7    8\n",
       "22  ca49cc7265  0.8  0.9  0.0  0.0  0.5  0.5  0.0  1.0  0.6\n",
       "20  6588f97aea  0.0  0.6  1.0  1.0  1.0  0.5  0.0  0.0  0.7\n",
       "24  8f67295cb3  0.8  1.0  1.0  0.0  0.5  0.0  0.0  0.0  0.7\n",
       "2   5bbe47f96d  0.8  1.0  1.0  1.0  1.0  0.0  0.5  0.0  0.0\n",
       "10  f9f854aa44  1.0  0.9  0.0  0.5  0.5  0.0  0.0  0.0  0.0"
      ]
     },
     "execution_count": 129,
     "metadata": {},
     "output_type": "execute_result"
    }
   ],
   "source": [
    "# выбрать 5 случайных строк\n",
    "df.sample(n=5)"
   ]
  },
  {
   "cell_type": "code",
   "execution_count": 130,
   "id": "db577d90",
   "metadata": {
    "colab": {
     "base_uri": "https://localhost:8080/",
     "height": 405
    },
    "id": "lKmFGSaEsees",
    "outputId": "dc1ae726-24b9-4440-c620-aee42cf88512"
   },
   "outputs": [
    {
     "data": {
      "text/html": [
       "<div>\n",
       "<style scoped>\n",
       "    .dataframe tbody tr th:only-of-type {\n",
       "        vertical-align: middle;\n",
       "    }\n",
       "\n",
       "    .dataframe tbody tr th {\n",
       "        vertical-align: top;\n",
       "    }\n",
       "\n",
       "    .dataframe thead th {\n",
       "        text-align: right;\n",
       "    }\n",
       "</style>\n",
       "<table border=\"1\" class=\"dataframe\">\n",
       "  <thead>\n",
       "    <tr style=\"text-align: right;\">\n",
       "      <th></th>\n",
       "      <th>hash</th>\n",
       "      <th>0</th>\n",
       "      <th>1</th>\n",
       "      <th>2</th>\n",
       "      <th>3</th>\n",
       "      <th>4</th>\n",
       "      <th>5</th>\n",
       "      <th>6</th>\n",
       "      <th>7</th>\n",
       "      <th>8</th>\n",
       "    </tr>\n",
       "  </thead>\n",
       "  <tbody>\n",
       "    <tr>\n",
       "      <th>0</th>\n",
       "      <td>cbe32a2a1b</td>\n",
       "      <td>0.8</td>\n",
       "      <td>1.0</td>\n",
       "      <td>1.0</td>\n",
       "      <td>1.0</td>\n",
       "      <td>1.0</td>\n",
       "      <td>1.0</td>\n",
       "      <td>0.0</td>\n",
       "      <td>0.0</td>\n",
       "      <td>0.0</td>\n",
       "    </tr>\n",
       "    <tr>\n",
       "      <th>6</th>\n",
       "      <td>2a5a018502</td>\n",
       "      <td>0.9</td>\n",
       "      <td>1.0</td>\n",
       "      <td>1.0</td>\n",
       "      <td>1.0</td>\n",
       "      <td>0.8</td>\n",
       "      <td>0.0</td>\n",
       "      <td>0.5</td>\n",
       "      <td>0.0</td>\n",
       "      <td>0.7</td>\n",
       "    </tr>\n",
       "    <tr>\n",
       "      <th>4</th>\n",
       "      <td>bf1e56e185</td>\n",
       "      <td>0.0</td>\n",
       "      <td>0.0</td>\n",
       "      <td>0.0</td>\n",
       "      <td>0.0</td>\n",
       "      <td>0.0</td>\n",
       "      <td>0.0</td>\n",
       "      <td>0.0</td>\n",
       "      <td>0.0</td>\n",
       "      <td>0.0</td>\n",
       "    </tr>\n",
       "    <tr>\n",
       "      <th>3</th>\n",
       "      <td>3f187965b9</td>\n",
       "      <td>0.0</td>\n",
       "      <td>0.0</td>\n",
       "      <td>0.8</td>\n",
       "      <td>1.0</td>\n",
       "      <td>0.5</td>\n",
       "      <td>0.0</td>\n",
       "      <td>0.0</td>\n",
       "      <td>0.0</td>\n",
       "      <td>0.0</td>\n",
       "    </tr>\n",
       "    <tr>\n",
       "      <th>27</th>\n",
       "      <td>237fe82b6f</td>\n",
       "      <td>0.0</td>\n",
       "      <td>0.0</td>\n",
       "      <td>0.0</td>\n",
       "      <td>0.0</td>\n",
       "      <td>0.0</td>\n",
       "      <td>0.0</td>\n",
       "      <td>0.0</td>\n",
       "      <td>0.0</td>\n",
       "      <td>0.0</td>\n",
       "    </tr>\n",
       "    <tr>\n",
       "      <th>25</th>\n",
       "      <td>cb9dfc5d66</td>\n",
       "      <td>0.8</td>\n",
       "      <td>1.0</td>\n",
       "      <td>1.0</td>\n",
       "      <td>1.0</td>\n",
       "      <td>0.5</td>\n",
       "      <td>0.2</td>\n",
       "      <td>0.5</td>\n",
       "      <td>0.9</td>\n",
       "      <td>0.7</td>\n",
       "    </tr>\n",
       "    <tr>\n",
       "      <th>37</th>\n",
       "      <td>d6c40a7f4b</td>\n",
       "      <td>0.0</td>\n",
       "      <td>1.0</td>\n",
       "      <td>0.0</td>\n",
       "      <td>0.0</td>\n",
       "      <td>0.0</td>\n",
       "      <td>0.0</td>\n",
       "      <td>0.0</td>\n",
       "      <td>0.0</td>\n",
       "      <td>0.0</td>\n",
       "    </tr>\n",
       "    <tr>\n",
       "      <th>14</th>\n",
       "      <td>a2d96fe1d4</td>\n",
       "      <td>0.0</td>\n",
       "      <td>0.7</td>\n",
       "      <td>1.0</td>\n",
       "      <td>1.0</td>\n",
       "      <td>0.0</td>\n",
       "      <td>0.0</td>\n",
       "      <td>0.0</td>\n",
       "      <td>0.0</td>\n",
       "      <td>0.0</td>\n",
       "    </tr>\n",
       "    <tr>\n",
       "      <th>17</th>\n",
       "      <td>bae2523189</td>\n",
       "      <td>0.8</td>\n",
       "      <td>1.0</td>\n",
       "      <td>0.5</td>\n",
       "      <td>1.0</td>\n",
       "      <td>0.5</td>\n",
       "      <td>0.5</td>\n",
       "      <td>0.5</td>\n",
       "      <td>0.0</td>\n",
       "      <td>0.6</td>\n",
       "    </tr>\n",
       "    <tr>\n",
       "      <th>22</th>\n",
       "      <td>ca49cc7265</td>\n",
       "      <td>0.8</td>\n",
       "      <td>0.9</td>\n",
       "      <td>0.0</td>\n",
       "      <td>0.0</td>\n",
       "      <td>0.5</td>\n",
       "      <td>0.5</td>\n",
       "      <td>0.0</td>\n",
       "      <td>1.0</td>\n",
       "      <td>0.6</td>\n",
       "    </tr>\n",
       "    <tr>\n",
       "      <th>7</th>\n",
       "      <td>99fe117fcb</td>\n",
       "      <td>0.8</td>\n",
       "      <td>0.0</td>\n",
       "      <td>1.0</td>\n",
       "      <td>0.9</td>\n",
       "      <td>1.0</td>\n",
       "      <td>1.0</td>\n",
       "      <td>0.5</td>\n",
       "      <td>0.0</td>\n",
       "      <td>0.0</td>\n",
       "    </tr>\n",
       "  </tbody>\n",
       "</table>\n",
       "</div>"
      ],
      "text/plain": [
       "          hash    0    1    2    3    4    5    6    7    8\n",
       "0   cbe32a2a1b  0.8  1.0  1.0  1.0  1.0  1.0  0.0  0.0  0.0\n",
       "6   2a5a018502  0.9  1.0  1.0  1.0  0.8  0.0  0.5  0.0  0.7\n",
       "4   bf1e56e185  0.0  0.0  0.0  0.0  0.0  0.0  0.0  0.0  0.0\n",
       "3   3f187965b9  0.0  0.0  0.8  1.0  0.5  0.0  0.0  0.0  0.0\n",
       "27  237fe82b6f  0.0  0.0  0.0  0.0  0.0  0.0  0.0  0.0  0.0\n",
       "25  cb9dfc5d66  0.8  1.0  1.0  1.0  0.5  0.2  0.5  0.9  0.7\n",
       "37  d6c40a7f4b  0.0  1.0  0.0  0.0  0.0  0.0  0.0  0.0  0.0\n",
       "14  a2d96fe1d4  0.0  0.7  1.0  1.0  0.0  0.0  0.0  0.0  0.0\n",
       "17  bae2523189  0.8  1.0  0.5  1.0  0.5  0.5  0.5  0.0  0.6\n",
       "22  ca49cc7265  0.8  0.9  0.0  0.0  0.5  0.5  0.0  1.0  0.6\n",
       "7   99fe117fcb  0.8  0.0  1.0  0.9  1.0  1.0  0.5  0.0  0.0"
      ]
     },
     "execution_count": 130,
     "metadata": {},
     "output_type": "execute_result"
    }
   ],
   "source": [
    "# выбрать 30% случайных строк\n",
    "df.sample(frac=0.3)"
   ]
  },
  {
   "cell_type": "code",
   "execution_count": 131,
   "id": "f047e07f",
   "metadata": {
    "colab": {
     "base_uri": "https://localhost:8080/",
     "height": 221
    },
    "id": "BgffXkMsseet",
    "outputId": "dbe445d1-544a-438a-f780-228e34402d47"
   },
   "outputs": [
    {
     "data": {
      "text/html": [
       "<div>\n",
       "<style scoped>\n",
       "    .dataframe tbody tr th:only-of-type {\n",
       "        vertical-align: middle;\n",
       "    }\n",
       "\n",
       "    .dataframe tbody tr th {\n",
       "        vertical-align: top;\n",
       "    }\n",
       "\n",
       "    .dataframe thead th {\n",
       "        text-align: right;\n",
       "    }\n",
       "</style>\n",
       "<table border=\"1\" class=\"dataframe\">\n",
       "  <thead>\n",
       "    <tr style=\"text-align: right;\">\n",
       "      <th></th>\n",
       "      <th>hash</th>\n",
       "      <th>0</th>\n",
       "      <th>1</th>\n",
       "      <th>2</th>\n",
       "      <th>3</th>\n",
       "      <th>4</th>\n",
       "      <th>5</th>\n",
       "      <th>6</th>\n",
       "      <th>7</th>\n",
       "      <th>8</th>\n",
       "    </tr>\n",
       "  </thead>\n",
       "  <tbody>\n",
       "    <tr>\n",
       "      <th>0</th>\n",
       "      <td>cbe32a2a1b</td>\n",
       "      <td>0.8</td>\n",
       "      <td>1.0</td>\n",
       "      <td>1.0</td>\n",
       "      <td>1.0</td>\n",
       "      <td>1.0</td>\n",
       "      <td>1.0</td>\n",
       "      <td>0.0</td>\n",
       "      <td>0.0</td>\n",
       "      <td>0.0</td>\n",
       "    </tr>\n",
       "    <tr>\n",
       "      <th>2</th>\n",
       "      <td>5bbe47f96d</td>\n",
       "      <td>0.8</td>\n",
       "      <td>1.0</td>\n",
       "      <td>1.0</td>\n",
       "      <td>1.0</td>\n",
       "      <td>1.0</td>\n",
       "      <td>0.0</td>\n",
       "      <td>0.5</td>\n",
       "      <td>0.0</td>\n",
       "      <td>0.0</td>\n",
       "    </tr>\n",
       "    <tr>\n",
       "      <th>15</th>\n",
       "      <td>7174532c74</td>\n",
       "      <td>0.2</td>\n",
       "      <td>0.9</td>\n",
       "      <td>1.0</td>\n",
       "      <td>1.0</td>\n",
       "      <td>1.0</td>\n",
       "      <td>0.0</td>\n",
       "      <td>0.0</td>\n",
       "      <td>0.0</td>\n",
       "      <td>0.0</td>\n",
       "    </tr>\n",
       "    <tr>\n",
       "      <th>20</th>\n",
       "      <td>6588f97aea</td>\n",
       "      <td>0.0</td>\n",
       "      <td>0.6</td>\n",
       "      <td>1.0</td>\n",
       "      <td>1.0</td>\n",
       "      <td>1.0</td>\n",
       "      <td>0.5</td>\n",
       "      <td>0.0</td>\n",
       "      <td>0.0</td>\n",
       "      <td>0.7</td>\n",
       "    </tr>\n",
       "    <tr>\n",
       "      <th>6</th>\n",
       "      <td>2a5a018502</td>\n",
       "      <td>0.9</td>\n",
       "      <td>1.0</td>\n",
       "      <td>1.0</td>\n",
       "      <td>1.0</td>\n",
       "      <td>0.8</td>\n",
       "      <td>0.0</td>\n",
       "      <td>0.5</td>\n",
       "      <td>0.0</td>\n",
       "      <td>0.7</td>\n",
       "    </tr>\n",
       "  </tbody>\n",
       "</table>\n",
       "</div>"
      ],
      "text/plain": [
       "          hash    0    1    2    3    4    5    6    7    8\n",
       "0   cbe32a2a1b  0.8  1.0  1.0  1.0  1.0  1.0  0.0  0.0  0.0\n",
       "2   5bbe47f96d  0.8  1.0  1.0  1.0  1.0  0.0  0.5  0.0  0.0\n",
       "15  7174532c74  0.2  0.9  1.0  1.0  1.0  0.0  0.0  0.0  0.0\n",
       "20  6588f97aea  0.0  0.6  1.0  1.0  1.0  0.5  0.0  0.0  0.7\n",
       "6   2a5a018502  0.9  1.0  1.0  1.0  0.8  0.0  0.5  0.0  0.7"
      ]
     },
     "execution_count": 131,
     "metadata": {},
     "output_type": "execute_result"
    }
   ],
   "source": [
    "# выбрать 5 строк с наибольшими значениями в столбцах '3', '4'\n",
    "df.nlargest(n=5, columns=['3', '4'])"
   ]
  },
  {
   "cell_type": "code",
   "execution_count": 132,
   "id": "6e930512",
   "metadata": {
    "colab": {
     "base_uri": "https://localhost:8080/"
    },
    "id": "UERUnufOseeu",
    "outputId": "231b840f-7a16-4b18-a031-b642d13cf3ad"
   },
   "outputs": [
    {
     "data": {
      "text/plain": [
       "7"
      ]
     },
     "execution_count": 132,
     "metadata": {},
     "output_type": "execute_result"
    }
   ],
   "source": [
    "# подсчитать количество уникальных значений в столбце 3\n",
    "df['3'].nunique()"
   ]
  },
  {
   "cell_type": "code",
   "execution_count": 133,
   "id": "b940bb70",
   "metadata": {
    "colab": {
     "base_uri": "https://localhost:8080/"
    },
    "id": "iAuZZcenseeu",
    "outputId": "e5fa17c0-0ef0-4f45-b9b0-429420513666"
   },
   "outputs": [
    {
     "data": {
      "text/plain": [
       "1.0    20\n",
       "0.0     8\n",
       "0.7     4\n",
       "0.5     3\n",
       "0.9     1\n",
       "0.2     1\n",
       "0.8     1\n",
       "Name: 3, dtype: int64"
      ]
     },
     "execution_count": 133,
     "metadata": {},
     "output_type": "execute_result"
    }
   ],
   "source": [
    "# подсчитать сколько раз встретилось в столбце '3' каждое уникальное значение\n",
    "df['3'].value_counts()"
   ]
  },
  {
   "cell_type": "code",
   "execution_count": 134,
   "id": "3f80f9d8",
   "metadata": {
    "colab": {
     "base_uri": "https://localhost:8080/",
     "height": 374
    },
    "id": "L8Se8xrRseeu",
    "outputId": "8adf03a1-2f8e-49bb-b210-9c65fcc0dc23"
   },
   "outputs": [
    {
     "data": {
      "text/html": [
       "<div>\n",
       "<style scoped>\n",
       "    .dataframe tbody tr th:only-of-type {\n",
       "        vertical-align: middle;\n",
       "    }\n",
       "\n",
       "    .dataframe tbody tr th {\n",
       "        vertical-align: top;\n",
       "    }\n",
       "\n",
       "    .dataframe thead th {\n",
       "        text-align: right;\n",
       "    }\n",
       "</style>\n",
       "<table border=\"1\" class=\"dataframe\">\n",
       "  <thead>\n",
       "    <tr style=\"text-align: right;\">\n",
       "      <th></th>\n",
       "      <th>hash</th>\n",
       "      <th>0</th>\n",
       "      <th>1</th>\n",
       "      <th>2</th>\n",
       "      <th>3</th>\n",
       "      <th>4</th>\n",
       "      <th>5</th>\n",
       "      <th>6</th>\n",
       "      <th>7</th>\n",
       "      <th>8</th>\n",
       "    </tr>\n",
       "  </thead>\n",
       "  <tbody>\n",
       "    <tr>\n",
       "      <th>0</th>\n",
       "      <td>cbe32a2a1b</td>\n",
       "      <td>0.8</td>\n",
       "      <td>1.0</td>\n",
       "      <td>1.0</td>\n",
       "      <td>1.0</td>\n",
       "      <td>1.0</td>\n",
       "      <td>1.0</td>\n",
       "      <td>0.0</td>\n",
       "      <td>0.0</td>\n",
       "      <td>0.0</td>\n",
       "    </tr>\n",
       "    <tr>\n",
       "      <th>1</th>\n",
       "      <td>caa93590ad</td>\n",
       "      <td>0.2</td>\n",
       "      <td>0.2</td>\n",
       "      <td>0.9</td>\n",
       "      <td>0.7</td>\n",
       "      <td>0.0</td>\n",
       "      <td>0.0</td>\n",
       "      <td>0.0</td>\n",
       "      <td>0.0</td>\n",
       "      <td>0.0</td>\n",
       "    </tr>\n",
       "    <tr>\n",
       "      <th>2</th>\n",
       "      <td>5bbe47f96d</td>\n",
       "      <td>0.8</td>\n",
       "      <td>1.0</td>\n",
       "      <td>1.0</td>\n",
       "      <td>1.0</td>\n",
       "      <td>1.0</td>\n",
       "      <td>0.0</td>\n",
       "      <td>0.5</td>\n",
       "      <td>0.0</td>\n",
       "      <td>0.0</td>\n",
       "    </tr>\n",
       "    <tr>\n",
       "      <th>3</th>\n",
       "      <td>3f187965b9</td>\n",
       "      <td>0.0</td>\n",
       "      <td>0.0</td>\n",
       "      <td>0.8</td>\n",
       "      <td>1.0</td>\n",
       "      <td>0.5</td>\n",
       "      <td>0.0</td>\n",
       "      <td>0.0</td>\n",
       "      <td>0.0</td>\n",
       "      <td>0.0</td>\n",
       "    </tr>\n",
       "    <tr>\n",
       "      <th>4</th>\n",
       "      <td>bf1e56e185</td>\n",
       "      <td>0.0</td>\n",
       "      <td>0.0</td>\n",
       "      <td>0.0</td>\n",
       "      <td>0.0</td>\n",
       "      <td>0.0</td>\n",
       "      <td>0.0</td>\n",
       "      <td>0.0</td>\n",
       "      <td>0.0</td>\n",
       "      <td>0.0</td>\n",
       "    </tr>\n",
       "    <tr>\n",
       "      <th>10</th>\n",
       "      <td>f9f854aa44</td>\n",
       "      <td>1.0</td>\n",
       "      <td>0.9</td>\n",
       "      <td>0.0</td>\n",
       "      <td>0.5</td>\n",
       "      <td>0.5</td>\n",
       "      <td>0.0</td>\n",
       "      <td>0.0</td>\n",
       "      <td>0.0</td>\n",
       "      <td>0.0</td>\n",
       "    </tr>\n",
       "    <tr>\n",
       "      <th>11</th>\n",
       "      <td>6346ddfdb5</td>\n",
       "      <td>0.0</td>\n",
       "      <td>1.0</td>\n",
       "      <td>1.0</td>\n",
       "      <td>0.0</td>\n",
       "      <td>0.5</td>\n",
       "      <td>0.0</td>\n",
       "      <td>0.5</td>\n",
       "      <td>0.0</td>\n",
       "      <td>0.7</td>\n",
       "    </tr>\n",
       "    <tr>\n",
       "      <th>12</th>\n",
       "      <td>b5c2ae4623</td>\n",
       "      <td>0.0</td>\n",
       "      <td>1.0</td>\n",
       "      <td>1.0</td>\n",
       "      <td>1.0</td>\n",
       "      <td>0.0</td>\n",
       "      <td>1.0</td>\n",
       "      <td>0.0</td>\n",
       "      <td>0.0</td>\n",
       "      <td>0.6</td>\n",
       "    </tr>\n",
       "    <tr>\n",
       "      <th>13</th>\n",
       "      <td>15360bcc4c</td>\n",
       "      <td>0.0</td>\n",
       "      <td>0.0</td>\n",
       "      <td>0.0</td>\n",
       "      <td>0.0</td>\n",
       "      <td>0.0</td>\n",
       "      <td>0.0</td>\n",
       "      <td>0.0</td>\n",
       "      <td>0.0</td>\n",
       "      <td>0.0</td>\n",
       "    </tr>\n",
       "    <tr>\n",
       "      <th>14</th>\n",
       "      <td>a2d96fe1d4</td>\n",
       "      <td>0.0</td>\n",
       "      <td>0.7</td>\n",
       "      <td>1.0</td>\n",
       "      <td>1.0</td>\n",
       "      <td>0.0</td>\n",
       "      <td>0.0</td>\n",
       "      <td>0.0</td>\n",
       "      <td>0.0</td>\n",
       "      <td>0.0</td>\n",
       "    </tr>\n",
       "  </tbody>\n",
       "</table>\n",
       "</div>"
      ],
      "text/plain": [
       "          hash    0    1    2    3    4    5    6    7    8\n",
       "0   cbe32a2a1b  0.8  1.0  1.0  1.0  1.0  1.0  0.0  0.0  0.0\n",
       "1   caa93590ad  0.2  0.2  0.9  0.7  0.0  0.0  0.0  0.0  0.0\n",
       "2   5bbe47f96d  0.8  1.0  1.0  1.0  1.0  0.0  0.5  0.0  0.0\n",
       "3   3f187965b9  0.0  0.0  0.8  1.0  0.5  0.0  0.0  0.0  0.0\n",
       "4   bf1e56e185  0.0  0.0  0.0  0.0  0.0  0.0  0.0  0.0  0.0\n",
       "10  f9f854aa44  1.0  0.9  0.0  0.5  0.5  0.0  0.0  0.0  0.0\n",
       "11  6346ddfdb5  0.0  1.0  1.0  0.0  0.5  0.0  0.5  0.0  0.7\n",
       "12  b5c2ae4623  0.0  1.0  1.0  1.0  0.0  1.0  0.0  0.0  0.6\n",
       "13  15360bcc4c  0.0  0.0  0.0  0.0  0.0  0.0  0.0  0.0  0.0\n",
       "14  a2d96fe1d4  0.0  0.7  1.0  1.0  0.0  0.0  0.0  0.0  0.0"
      ]
     },
     "execution_count": 134,
     "metadata": {},
     "output_type": "execute_result"
    }
   ],
   "source": [
    "# склеить две таблицы по строкам\n",
    "df1 = df.iloc[:5]\n",
    "df2 = df.iloc[10:15]\n",
    "pd.concat([df1, df2])"
   ]
  },
  {
   "cell_type": "code",
   "execution_count": 135,
   "id": "f42ad3ad",
   "metadata": {
    "colab": {
     "base_uri": "https://localhost:8080/",
     "height": 221
    },
    "id": "4PTtdzE1seev",
    "outputId": "ecb2c01e-b271-461a-b2f1-9504a77dccf9"
   },
   "outputs": [
    {
     "data": {
      "text/html": [
       "<div>\n",
       "<style scoped>\n",
       "    .dataframe tbody tr th:only-of-type {\n",
       "        vertical-align: middle;\n",
       "    }\n",
       "\n",
       "    .dataframe tbody tr th {\n",
       "        vertical-align: top;\n",
       "    }\n",
       "\n",
       "    .dataframe thead th {\n",
       "        text-align: right;\n",
       "    }\n",
       "</style>\n",
       "<table border=\"1\" class=\"dataframe\">\n",
       "  <thead>\n",
       "    <tr style=\"text-align: right;\">\n",
       "      <th></th>\n",
       "      <th>hash</th>\n",
       "      <th>1</th>\n",
       "      <th>3</th>\n",
       "      <th>4</th>\n",
       "    </tr>\n",
       "  </thead>\n",
       "  <tbody>\n",
       "    <tr>\n",
       "      <th>0</th>\n",
       "      <td>cbe32a2a1b</td>\n",
       "      <td>1.0</td>\n",
       "      <td>1.0</td>\n",
       "      <td>1.0</td>\n",
       "    </tr>\n",
       "    <tr>\n",
       "      <th>1</th>\n",
       "      <td>caa93590ad</td>\n",
       "      <td>0.2</td>\n",
       "      <td>0.7</td>\n",
       "      <td>0.0</td>\n",
       "    </tr>\n",
       "    <tr>\n",
       "      <th>2</th>\n",
       "      <td>5bbe47f96d</td>\n",
       "      <td>1.0</td>\n",
       "      <td>1.0</td>\n",
       "      <td>1.0</td>\n",
       "    </tr>\n",
       "    <tr>\n",
       "      <th>3</th>\n",
       "      <td>3f187965b9</td>\n",
       "      <td>0.0</td>\n",
       "      <td>1.0</td>\n",
       "      <td>0.5</td>\n",
       "    </tr>\n",
       "    <tr>\n",
       "      <th>4</th>\n",
       "      <td>bf1e56e185</td>\n",
       "      <td>0.0</td>\n",
       "      <td>0.0</td>\n",
       "      <td>0.0</td>\n",
       "    </tr>\n",
       "  </tbody>\n",
       "</table>\n",
       "</div>"
      ],
      "text/plain": [
       "         hash    1    3    4\n",
       "0  cbe32a2a1b  1.0  1.0  1.0\n",
       "1  caa93590ad  0.2  0.7  0.0\n",
       "2  5bbe47f96d  1.0  1.0  1.0\n",
       "3  3f187965b9  0.0  1.0  0.5\n",
       "4  bf1e56e185  0.0  0.0  0.0"
      ]
     },
     "execution_count": 135,
     "metadata": {},
     "output_type": "execute_result"
    }
   ],
   "source": [
    "# склеить две таблицы по столбцам\n",
    "df1 = df[['hash', '1']]\n",
    "df2 = df[['3', '4']]\n",
    "pd.concat([df1, df2], axis=1).head()"
   ]
  },
  {
   "cell_type": "markdown",
   "id": "de9aa662",
   "metadata": {
    "id": "DTPDCPgdseev"
   },
   "source": [
    "### DataFrame.merge - объединение таблиц (аналог SQL: JOIN)"
   ]
  },
  {
   "cell_type": "code",
   "execution_count": 149,
   "id": "6aa98104",
   "metadata": {
    "colab": {
     "base_uri": "https://localhost:8080/",
     "height": 221
    },
    "id": "At5DPaZCseew",
    "outputId": "74b9c48a-79dc-4b19-8597-5d8b194b3456"
   },
   "outputs": [
    {
     "data": {
      "text/html": [
       "<div>\n",
       "<style scoped>\n",
       "    .dataframe tbody tr th:only-of-type {\n",
       "        vertical-align: middle;\n",
       "    }\n",
       "\n",
       "    .dataframe tbody tr th {\n",
       "        vertical-align: top;\n",
       "    }\n",
       "\n",
       "    .dataframe thead th {\n",
       "        text-align: right;\n",
       "    }\n",
       "</style>\n",
       "<table border=\"1\" class=\"dataframe\">\n",
       "  <thead>\n",
       "    <tr style=\"text-align: right;\">\n",
       "      <th></th>\n",
       "      <th>hash</th>\n",
       "      <th>0</th>\n",
       "      <th>1</th>\n",
       "      <th>2</th>\n",
       "      <th>3</th>\n",
       "      <th>4</th>\n",
       "      <th>5</th>\n",
       "      <th>6</th>\n",
       "      <th>7</th>\n",
       "      <th>8</th>\n",
       "    </tr>\n",
       "  </thead>\n",
       "  <tbody>\n",
       "    <tr>\n",
       "      <th>0</th>\n",
       "      <td>cbe32a2a1b</td>\n",
       "      <td>0.8</td>\n",
       "      <td>1.0</td>\n",
       "      <td>1.0</td>\n",
       "      <td>1.0</td>\n",
       "      <td>1.0</td>\n",
       "      <td>1.0</td>\n",
       "      <td>0.0</td>\n",
       "      <td>0.0</td>\n",
       "      <td>0.0</td>\n",
       "    </tr>\n",
       "    <tr>\n",
       "      <th>1</th>\n",
       "      <td>caa93590ad</td>\n",
       "      <td>0.2</td>\n",
       "      <td>0.2</td>\n",
       "      <td>0.9</td>\n",
       "      <td>0.7</td>\n",
       "      <td>0.0</td>\n",
       "      <td>0.0</td>\n",
       "      <td>0.0</td>\n",
       "      <td>0.0</td>\n",
       "      <td>0.0</td>\n",
       "    </tr>\n",
       "    <tr>\n",
       "      <th>2</th>\n",
       "      <td>5bbe47f96d</td>\n",
       "      <td>0.8</td>\n",
       "      <td>1.0</td>\n",
       "      <td>1.0</td>\n",
       "      <td>1.0</td>\n",
       "      <td>1.0</td>\n",
       "      <td>0.0</td>\n",
       "      <td>0.5</td>\n",
       "      <td>0.0</td>\n",
       "      <td>0.0</td>\n",
       "    </tr>\n",
       "    <tr>\n",
       "      <th>3</th>\n",
       "      <td>3f187965b9</td>\n",
       "      <td>0.0</td>\n",
       "      <td>0.0</td>\n",
       "      <td>0.8</td>\n",
       "      <td>1.0</td>\n",
       "      <td>0.5</td>\n",
       "      <td>0.0</td>\n",
       "      <td>0.0</td>\n",
       "      <td>0.0</td>\n",
       "      <td>0.0</td>\n",
       "    </tr>\n",
       "    <tr>\n",
       "      <th>4</th>\n",
       "      <td>bf1e56e185</td>\n",
       "      <td>0.0</td>\n",
       "      <td>0.0</td>\n",
       "      <td>0.0</td>\n",
       "      <td>0.0</td>\n",
       "      <td>0.0</td>\n",
       "      <td>0.0</td>\n",
       "      <td>0.0</td>\n",
       "      <td>0.0</td>\n",
       "      <td>0.0</td>\n",
       "    </tr>\n",
       "  </tbody>\n",
       "</table>\n",
       "</div>"
      ],
      "text/plain": [
       "         hash    0    1    2    3    4    5    6    7    8\n",
       "0  cbe32a2a1b  0.8  1.0  1.0  1.0  1.0  1.0  0.0  0.0  0.0\n",
       "1  caa93590ad  0.2  0.2  0.9  0.7  0.0  0.0  0.0  0.0  0.0\n",
       "2  5bbe47f96d  0.8  1.0  1.0  1.0  1.0  0.0  0.5  0.0  0.0\n",
       "3  3f187965b9  0.0  0.0  0.8  1.0  0.5  0.0  0.0  0.0  0.0\n",
       "4  bf1e56e185  0.0  0.0  0.0  0.0  0.0  0.0  0.0  0.0  0.0"
      ]
     },
     "execution_count": 149,
     "metadata": {},
     "output_type": "execute_result"
    }
   ],
   "source": [
    "# таблица с оценками\n",
    "df_grades = pd.read_csv('https://raw.githubusercontent.com/hse-ds/iad-intro-ds/master/2022/seminars/grades.csv', \n",
    "                        sep=',', index_col=0)\n",
    "df_grades.head()"
   ]
  },
  {
   "cell_type": "code",
   "execution_count": 150,
   "id": "42098291",
   "metadata": {
    "id": "S5GHlfE8seew"
   },
   "outputs": [],
   "source": [
    "# # таблица хэшей: ФИО студента <-> хэш\n",
    "# !wget https://raw.githubusercontent.com/hse-ds/iad-intro-ds/master/2022/seminars/hashes.csv"
   ]
  },
  {
   "cell_type": "code",
   "execution_count": 151,
   "id": "27dd84d6",
   "metadata": {
    "colab": {
     "base_uri": "https://localhost:8080/",
     "height": 221
    },
    "id": "eoOzqC0Tseex",
    "outputId": "248a30db-1cbf-43f2-c180-9c5fc5088528"
   },
   "outputs": [
    {
     "data": {
      "text/html": [
       "<div>\n",
       "<style scoped>\n",
       "    .dataframe tbody tr th:only-of-type {\n",
       "        vertical-align: middle;\n",
       "    }\n",
       "\n",
       "    .dataframe tbody tr th {\n",
       "        vertical-align: top;\n",
       "    }\n",
       "\n",
       "    .dataframe thead th {\n",
       "        text-align: right;\n",
       "    }\n",
       "</style>\n",
       "<table border=\"1\" class=\"dataframe\">\n",
       "  <thead>\n",
       "    <tr style=\"text-align: right;\">\n",
       "      <th></th>\n",
       "      <th>Группа</th>\n",
       "      <th>Фамилия</th>\n",
       "      <th>Имя</th>\n",
       "      <th>Отчество</th>\n",
       "      <th>hash</th>\n",
       "    </tr>\n",
       "  </thead>\n",
       "  <tbody>\n",
       "    <tr>\n",
       "      <th>0</th>\n",
       "      <td>БПМ-161</td>\n",
       "      <td>Антонов</td>\n",
       "      <td>Алексей</td>\n",
       "      <td>Алексеевич</td>\n",
       "      <td>6875ba52f0</td>\n",
       "    </tr>\n",
       "    <tr>\n",
       "      <th>1</th>\n",
       "      <td>БПМ-161</td>\n",
       "      <td>Арсамакова</td>\n",
       "      <td>Алина</td>\n",
       "      <td>Ибрагимовна</td>\n",
       "      <td>7ca01c996f</td>\n",
       "    </tr>\n",
       "    <tr>\n",
       "      <th>2</th>\n",
       "      <td>БПМ-161</td>\n",
       "      <td>Богатов</td>\n",
       "      <td>Антон</td>\n",
       "      <td>Юрьевич</td>\n",
       "      <td>15360bcc4c</td>\n",
       "    </tr>\n",
       "    <tr>\n",
       "      <th>3</th>\n",
       "      <td>БПМ-161</td>\n",
       "      <td>Бычков</td>\n",
       "      <td>Андрей</td>\n",
       "      <td>-</td>\n",
       "      <td>f9f854aa44</td>\n",
       "    </tr>\n",
       "    <tr>\n",
       "      <th>4</th>\n",
       "      <td>БПМ-161</td>\n",
       "      <td>Высоцкий</td>\n",
       "      <td>Яков</td>\n",
       "      <td>Михайлович</td>\n",
       "      <td>1d1d05c257</td>\n",
       "    </tr>\n",
       "  </tbody>\n",
       "</table>\n",
       "</div>"
      ],
      "text/plain": [
       "    Группа     Фамилия      Имя     Отчество        hash\n",
       "0  БПМ-161     Антонов  Алексей   Алексеевич  6875ba52f0\n",
       "1  БПМ-161  Арсамакова    Алина  Ибрагимовна  7ca01c996f\n",
       "2  БПМ-161     Богатов    Антон      Юрьевич  15360bcc4c\n",
       "3  БПМ-161      Бычков   Андрей            -  f9f854aa44\n",
       "4  БПМ-161    Высоцкий     Яков   Михайлович  1d1d05c257"
      ]
     },
     "execution_count": 151,
     "metadata": {},
     "output_type": "execute_result"
    }
   ],
   "source": [
    "df_hashes = pd.read_csv('https://raw.githubusercontent.com/hse-ds/iad-intro-ds/master/2022/seminars/hashes.csv')\n",
    "df_hashes.head()"
   ]
  },
  {
   "cell_type": "code",
   "execution_count": 152,
   "id": "8e3cdade",
   "metadata": {
    "colab": {
     "base_uri": "https://localhost:8080/"
    },
    "id": "ASG_QLkDseex",
    "outputId": "6e1ae429-1bfd-4a7e-f309-0964152dface"
   },
   "outputs": [
    {
     "data": {
      "text/plain": [
       "38"
      ]
     },
     "execution_count": 152,
     "metadata": {},
     "output_type": "execute_result"
    }
   ],
   "source": [
    "df_grades.hash.nunique()"
   ]
  },
  {
   "cell_type": "code",
   "execution_count": 153,
   "id": "009b8ac6",
   "metadata": {
    "colab": {
     "base_uri": "https://localhost:8080/"
    },
    "id": "K6sSVRPbseex",
    "outputId": "30efc66e-96c0-4b99-cf83-241862030c3e"
   },
   "outputs": [
    {
     "data": {
      "text/plain": [
       "95"
      ]
     },
     "execution_count": 153,
     "metadata": {},
     "output_type": "execute_result"
    }
   ],
   "source": [
    "df_hashes.hash.nunique()"
   ]
  },
  {
   "cell_type": "code",
   "execution_count": 154,
   "id": "114ef2e4",
   "metadata": {
    "colab": {
     "base_uri": "https://localhost:8080/",
     "height": 391
    },
    "id": "C8Wf_EfYseey",
    "outputId": "e4da0f62-f8d9-47d2-a856-320bab9abef6"
   },
   "outputs": [
    {
     "name": "stdout",
     "output_type": "stream",
     "text": [
      "(95, 14)\n"
     ]
    },
    {
     "data": {
      "text/html": [
       "<div>\n",
       "<style scoped>\n",
       "    .dataframe tbody tr th:only-of-type {\n",
       "        vertical-align: middle;\n",
       "    }\n",
       "\n",
       "    .dataframe tbody tr th {\n",
       "        vertical-align: top;\n",
       "    }\n",
       "\n",
       "    .dataframe thead th {\n",
       "        text-align: right;\n",
       "    }\n",
       "</style>\n",
       "<table border=\"1\" class=\"dataframe\">\n",
       "  <thead>\n",
       "    <tr style=\"text-align: right;\">\n",
       "      <th></th>\n",
       "      <th>Группа</th>\n",
       "      <th>Фамилия</th>\n",
       "      <th>Имя</th>\n",
       "      <th>Отчество</th>\n",
       "      <th>hash</th>\n",
       "      <th>0</th>\n",
       "      <th>1</th>\n",
       "      <th>2</th>\n",
       "      <th>3</th>\n",
       "      <th>4</th>\n",
       "      <th>5</th>\n",
       "      <th>6</th>\n",
       "      <th>7</th>\n",
       "      <th>8</th>\n",
       "    </tr>\n",
       "  </thead>\n",
       "  <tbody>\n",
       "    <tr>\n",
       "      <th>0</th>\n",
       "      <td>БПМ-161</td>\n",
       "      <td>Антонов</td>\n",
       "      <td>Алексей</td>\n",
       "      <td>Алексеевич</td>\n",
       "      <td>6875ba52f0</td>\n",
       "      <td>0.0</td>\n",
       "      <td>0.9</td>\n",
       "      <td>0.0</td>\n",
       "      <td>0.5</td>\n",
       "      <td>0.5</td>\n",
       "      <td>0.0</td>\n",
       "      <td>0.0</td>\n",
       "      <td>0.0</td>\n",
       "      <td>0.0</td>\n",
       "    </tr>\n",
       "    <tr>\n",
       "      <th>1</th>\n",
       "      <td>БПМ-161</td>\n",
       "      <td>Арсамакова</td>\n",
       "      <td>Алина</td>\n",
       "      <td>Ибрагимовна</td>\n",
       "      <td>7ca01c996f</td>\n",
       "      <td>0.5</td>\n",
       "      <td>0.8</td>\n",
       "      <td>0.5</td>\n",
       "      <td>0.5</td>\n",
       "      <td>0.0</td>\n",
       "      <td>0.0</td>\n",
       "      <td>0.0</td>\n",
       "      <td>0.0</td>\n",
       "      <td>0.0</td>\n",
       "    </tr>\n",
       "    <tr>\n",
       "      <th>2</th>\n",
       "      <td>БПМ-161</td>\n",
       "      <td>Богатов</td>\n",
       "      <td>Антон</td>\n",
       "      <td>Юрьевич</td>\n",
       "      <td>15360bcc4c</td>\n",
       "      <td>0.0</td>\n",
       "      <td>0.0</td>\n",
       "      <td>0.0</td>\n",
       "      <td>0.0</td>\n",
       "      <td>0.0</td>\n",
       "      <td>0.0</td>\n",
       "      <td>0.0</td>\n",
       "      <td>0.0</td>\n",
       "      <td>0.0</td>\n",
       "    </tr>\n",
       "    <tr>\n",
       "      <th>3</th>\n",
       "      <td>БПМ-161</td>\n",
       "      <td>Бычков</td>\n",
       "      <td>Андрей</td>\n",
       "      <td>-</td>\n",
       "      <td>f9f854aa44</td>\n",
       "      <td>1.0</td>\n",
       "      <td>0.9</td>\n",
       "      <td>0.0</td>\n",
       "      <td>0.5</td>\n",
       "      <td>0.5</td>\n",
       "      <td>0.0</td>\n",
       "      <td>0.0</td>\n",
       "      <td>0.0</td>\n",
       "      <td>0.0</td>\n",
       "    </tr>\n",
       "    <tr>\n",
       "      <th>4</th>\n",
       "      <td>БПМ-161</td>\n",
       "      <td>Высоцкий</td>\n",
       "      <td>Яков</td>\n",
       "      <td>Михайлович</td>\n",
       "      <td>1d1d05c257</td>\n",
       "      <td>NaN</td>\n",
       "      <td>NaN</td>\n",
       "      <td>NaN</td>\n",
       "      <td>NaN</td>\n",
       "      <td>NaN</td>\n",
       "      <td>NaN</td>\n",
       "      <td>NaN</td>\n",
       "      <td>NaN</td>\n",
       "      <td>NaN</td>\n",
       "    </tr>\n",
       "    <tr>\n",
       "      <th>5</th>\n",
       "      <td>БПМ-161</td>\n",
       "      <td>Галигеров</td>\n",
       "      <td>Владислав</td>\n",
       "      <td>Сергеевич</td>\n",
       "      <td>738b683ed7</td>\n",
       "      <td>NaN</td>\n",
       "      <td>NaN</td>\n",
       "      <td>NaN</td>\n",
       "      <td>NaN</td>\n",
       "      <td>NaN</td>\n",
       "      <td>NaN</td>\n",
       "      <td>NaN</td>\n",
       "      <td>NaN</td>\n",
       "      <td>NaN</td>\n",
       "    </tr>\n",
       "    <tr>\n",
       "      <th>6</th>\n",
       "      <td>БПМ-161</td>\n",
       "      <td>Гончаров</td>\n",
       "      <td>Глеб</td>\n",
       "      <td>Игоревич</td>\n",
       "      <td>3f187965b9</td>\n",
       "      <td>0.0</td>\n",
       "      <td>0.0</td>\n",
       "      <td>0.8</td>\n",
       "      <td>1.0</td>\n",
       "      <td>0.5</td>\n",
       "      <td>0.0</td>\n",
       "      <td>0.0</td>\n",
       "      <td>0.0</td>\n",
       "      <td>0.0</td>\n",
       "    </tr>\n",
       "    <tr>\n",
       "      <th>7</th>\n",
       "      <td>БПМ-161</td>\n",
       "      <td>Городилов</td>\n",
       "      <td>Илья</td>\n",
       "      <td>Игоревич</td>\n",
       "      <td>6df2f31eb9</td>\n",
       "      <td>NaN</td>\n",
       "      <td>NaN</td>\n",
       "      <td>NaN</td>\n",
       "      <td>NaN</td>\n",
       "      <td>NaN</td>\n",
       "      <td>NaN</td>\n",
       "      <td>NaN</td>\n",
       "      <td>NaN</td>\n",
       "      <td>NaN</td>\n",
       "    </tr>\n",
       "    <tr>\n",
       "      <th>8</th>\n",
       "      <td>БПМ-161</td>\n",
       "      <td>Дудинов</td>\n",
       "      <td>Тимур</td>\n",
       "      <td>Батырович</td>\n",
       "      <td>e1388f2aae</td>\n",
       "      <td>0.0</td>\n",
       "      <td>0.5</td>\n",
       "      <td>0.0</td>\n",
       "      <td>0.0</td>\n",
       "      <td>0.0</td>\n",
       "      <td>0.0</td>\n",
       "      <td>0.0</td>\n",
       "      <td>0.0</td>\n",
       "      <td>0.0</td>\n",
       "    </tr>\n",
       "    <tr>\n",
       "      <th>9</th>\n",
       "      <td>БПМ-161</td>\n",
       "      <td>Иванов</td>\n",
       "      <td>Артём</td>\n",
       "      <td>Владиславович</td>\n",
       "      <td>a2d96fe1d4</td>\n",
       "      <td>0.0</td>\n",
       "      <td>0.7</td>\n",
       "      <td>1.0</td>\n",
       "      <td>1.0</td>\n",
       "      <td>0.0</td>\n",
       "      <td>0.0</td>\n",
       "      <td>0.0</td>\n",
       "      <td>0.0</td>\n",
       "      <td>0.0</td>\n",
       "    </tr>\n",
       "  </tbody>\n",
       "</table>\n",
       "</div>"
      ],
      "text/plain": [
       "    Группа     Фамилия        Имя       Отчество        hash    0    1    2  \\\n",
       "0  БПМ-161     Антонов    Алексей     Алексеевич  6875ba52f0  0.0  0.9  0.0   \n",
       "1  БПМ-161  Арсамакова      Алина    Ибрагимовна  7ca01c996f  0.5  0.8  0.5   \n",
       "2  БПМ-161     Богатов      Антон        Юрьевич  15360bcc4c  0.0  0.0  0.0   \n",
       "3  БПМ-161      Бычков     Андрей              -  f9f854aa44  1.0  0.9  0.0   \n",
       "4  БПМ-161    Высоцкий       Яков     Михайлович  1d1d05c257  NaN  NaN  NaN   \n",
       "5  БПМ-161   Галигеров  Владислав      Сергеевич  738b683ed7  NaN  NaN  NaN   \n",
       "6  БПМ-161    Гончаров       Глеб       Игоревич  3f187965b9  0.0  0.0  0.8   \n",
       "7  БПМ-161   Городилов       Илья       Игоревич  6df2f31eb9  NaN  NaN  NaN   \n",
       "8  БПМ-161     Дудинов      Тимур      Батырович  e1388f2aae  0.0  0.5  0.0   \n",
       "9  БПМ-161      Иванов      Артём  Владиславович  a2d96fe1d4  0.0  0.7  1.0   \n",
       "\n",
       "     3    4    5    6    7    8  \n",
       "0  0.5  0.5  0.0  0.0  0.0  0.0  \n",
       "1  0.5  0.0  0.0  0.0  0.0  0.0  \n",
       "2  0.0  0.0  0.0  0.0  0.0  0.0  \n",
       "3  0.5  0.5  0.0  0.0  0.0  0.0  \n",
       "4  NaN  NaN  NaN  NaN  NaN  NaN  \n",
       "5  NaN  NaN  NaN  NaN  NaN  NaN  \n",
       "6  1.0  0.5  0.0  0.0  0.0  0.0  \n",
       "7  NaN  NaN  NaN  NaN  NaN  NaN  \n",
       "8  0.0  0.0  0.0  0.0  0.0  0.0  \n",
       "9  1.0  0.0  0.0  0.0  0.0  0.0  "
      ]
     },
     "execution_count": 154,
     "metadata": {},
     "output_type": "execute_result"
    }
   ],
   "source": [
    "# присоединить подходящие строки из df_grades к df_hashes\n",
    "df = pd.merge(df_hashes, df_grades, on='hash', how='left')\n",
    "print(df.shape)\n",
    "df.head(10)"
   ]
  },
  {
   "cell_type": "code",
   "execution_count": 155,
   "id": "995c06f2",
   "metadata": {
    "colab": {
     "base_uri": "https://localhost:8080/",
     "height": 391
    },
    "id": "6dA0lPZkseey",
    "outputId": "6f6b16c8-0e56-4ae1-a1c4-29cbdef3c49a"
   },
   "outputs": [
    {
     "name": "stdout",
     "output_type": "stream",
     "text": [
      "(38, 14)\n"
     ]
    },
    {
     "data": {
      "text/html": [
       "<div>\n",
       "<style scoped>\n",
       "    .dataframe tbody tr th:only-of-type {\n",
       "        vertical-align: middle;\n",
       "    }\n",
       "\n",
       "    .dataframe tbody tr th {\n",
       "        vertical-align: top;\n",
       "    }\n",
       "\n",
       "    .dataframe thead th {\n",
       "        text-align: right;\n",
       "    }\n",
       "</style>\n",
       "<table border=\"1\" class=\"dataframe\">\n",
       "  <thead>\n",
       "    <tr style=\"text-align: right;\">\n",
       "      <th></th>\n",
       "      <th>Группа</th>\n",
       "      <th>Фамилия</th>\n",
       "      <th>Имя</th>\n",
       "      <th>Отчество</th>\n",
       "      <th>hash</th>\n",
       "      <th>0</th>\n",
       "      <th>1</th>\n",
       "      <th>2</th>\n",
       "      <th>3</th>\n",
       "      <th>4</th>\n",
       "      <th>5</th>\n",
       "      <th>6</th>\n",
       "      <th>7</th>\n",
       "      <th>8</th>\n",
       "    </tr>\n",
       "  </thead>\n",
       "  <tbody>\n",
       "    <tr>\n",
       "      <th>0</th>\n",
       "      <td>БПМ-162</td>\n",
       "      <td>Сучков</td>\n",
       "      <td>Даниил</td>\n",
       "      <td>Викторович</td>\n",
       "      <td>cbe32a2a1b</td>\n",
       "      <td>0.8</td>\n",
       "      <td>1.0</td>\n",
       "      <td>1.0</td>\n",
       "      <td>1.0</td>\n",
       "      <td>1.0</td>\n",
       "      <td>1.0</td>\n",
       "      <td>0.0</td>\n",
       "      <td>0.0</td>\n",
       "      <td>0.0</td>\n",
       "    </tr>\n",
       "    <tr>\n",
       "      <th>1</th>\n",
       "      <td>БПМ-161</td>\n",
       "      <td>Хмельницкий</td>\n",
       "      <td>Даниил</td>\n",
       "      <td>Анатольевич</td>\n",
       "      <td>caa93590ad</td>\n",
       "      <td>0.2</td>\n",
       "      <td>0.2</td>\n",
       "      <td>0.9</td>\n",
       "      <td>0.7</td>\n",
       "      <td>0.0</td>\n",
       "      <td>0.0</td>\n",
       "      <td>0.0</td>\n",
       "      <td>0.0</td>\n",
       "      <td>0.0</td>\n",
       "    </tr>\n",
       "    <tr>\n",
       "      <th>2</th>\n",
       "      <td>БПМ-162</td>\n",
       "      <td>Углов</td>\n",
       "      <td>Егор</td>\n",
       "      <td>Алексеевич</td>\n",
       "      <td>5bbe47f96d</td>\n",
       "      <td>0.8</td>\n",
       "      <td>1.0</td>\n",
       "      <td>1.0</td>\n",
       "      <td>1.0</td>\n",
       "      <td>1.0</td>\n",
       "      <td>0.0</td>\n",
       "      <td>0.5</td>\n",
       "      <td>0.0</td>\n",
       "      <td>0.0</td>\n",
       "    </tr>\n",
       "    <tr>\n",
       "      <th>3</th>\n",
       "      <td>БПМ-161</td>\n",
       "      <td>Гончаров</td>\n",
       "      <td>Глеб</td>\n",
       "      <td>Игоревич</td>\n",
       "      <td>3f187965b9</td>\n",
       "      <td>0.0</td>\n",
       "      <td>0.0</td>\n",
       "      <td>0.8</td>\n",
       "      <td>1.0</td>\n",
       "      <td>0.5</td>\n",
       "      <td>0.0</td>\n",
       "      <td>0.0</td>\n",
       "      <td>0.0</td>\n",
       "      <td>0.0</td>\n",
       "    </tr>\n",
       "    <tr>\n",
       "      <th>4</th>\n",
       "      <td>БПМ-161</td>\n",
       "      <td>Мартынов</td>\n",
       "      <td>Никита</td>\n",
       "      <td>Игоревич</td>\n",
       "      <td>bf1e56e185</td>\n",
       "      <td>0.0</td>\n",
       "      <td>0.0</td>\n",
       "      <td>0.0</td>\n",
       "      <td>0.0</td>\n",
       "      <td>0.0</td>\n",
       "      <td>0.0</td>\n",
       "      <td>0.0</td>\n",
       "      <td>0.0</td>\n",
       "      <td>0.0</td>\n",
       "    </tr>\n",
       "    <tr>\n",
       "      <th>5</th>\n",
       "      <td>БПМ-161</td>\n",
       "      <td>Арсамакова</td>\n",
       "      <td>Алина</td>\n",
       "      <td>Ибрагимовна</td>\n",
       "      <td>7ca01c996f</td>\n",
       "      <td>0.5</td>\n",
       "      <td>0.8</td>\n",
       "      <td>0.5</td>\n",
       "      <td>0.5</td>\n",
       "      <td>0.0</td>\n",
       "      <td>0.0</td>\n",
       "      <td>0.0</td>\n",
       "      <td>0.0</td>\n",
       "      <td>0.0</td>\n",
       "    </tr>\n",
       "    <tr>\n",
       "      <th>6</th>\n",
       "      <td>БПМ-162</td>\n",
       "      <td>Островский</td>\n",
       "      <td>Всеволод</td>\n",
       "      <td>Петрович</td>\n",
       "      <td>2a5a018502</td>\n",
       "      <td>0.9</td>\n",
       "      <td>1.0</td>\n",
       "      <td>1.0</td>\n",
       "      <td>1.0</td>\n",
       "      <td>0.8</td>\n",
       "      <td>0.0</td>\n",
       "      <td>0.5</td>\n",
       "      <td>0.0</td>\n",
       "      <td>0.7</td>\n",
       "    </tr>\n",
       "    <tr>\n",
       "      <th>7</th>\n",
       "      <td>БПМ-162</td>\n",
       "      <td>Борисычев</td>\n",
       "      <td>Александр</td>\n",
       "      <td>Сергеевич</td>\n",
       "      <td>99fe117fcb</td>\n",
       "      <td>0.8</td>\n",
       "      <td>0.0</td>\n",
       "      <td>1.0</td>\n",
       "      <td>0.9</td>\n",
       "      <td>1.0</td>\n",
       "      <td>1.0</td>\n",
       "      <td>0.5</td>\n",
       "      <td>0.0</td>\n",
       "      <td>0.0</td>\n",
       "    </tr>\n",
       "    <tr>\n",
       "      <th>8</th>\n",
       "      <td>БПМ-161</td>\n",
       "      <td>Антонов</td>\n",
       "      <td>Алексей</td>\n",
       "      <td>Алексеевич</td>\n",
       "      <td>6875ba52f0</td>\n",
       "      <td>0.0</td>\n",
       "      <td>0.9</td>\n",
       "      <td>0.0</td>\n",
       "      <td>0.5</td>\n",
       "      <td>0.5</td>\n",
       "      <td>0.0</td>\n",
       "      <td>0.0</td>\n",
       "      <td>0.0</td>\n",
       "      <td>0.0</td>\n",
       "    </tr>\n",
       "    <tr>\n",
       "      <th>9</th>\n",
       "      <td>БПМ-162</td>\n",
       "      <td>Лисицына</td>\n",
       "      <td>Анастасия</td>\n",
       "      <td>Сергеевна</td>\n",
       "      <td>1eea619f12</td>\n",
       "      <td>0.8</td>\n",
       "      <td>1.0</td>\n",
       "      <td>0.0</td>\n",
       "      <td>0.2</td>\n",
       "      <td>0.5</td>\n",
       "      <td>0.2</td>\n",
       "      <td>0.0</td>\n",
       "      <td>0.0</td>\n",
       "      <td>0.2</td>\n",
       "    </tr>\n",
       "  </tbody>\n",
       "</table>\n",
       "</div>"
      ],
      "text/plain": [
       "    Группа      Фамилия        Имя     Отчество        hash    0    1    2  \\\n",
       "0  БПМ-162       Сучков     Даниил   Викторович  cbe32a2a1b  0.8  1.0  1.0   \n",
       "1  БПМ-161  Хмельницкий     Даниил  Анатольевич  caa93590ad  0.2  0.2  0.9   \n",
       "2  БПМ-162        Углов       Егор   Алексеевич  5bbe47f96d  0.8  1.0  1.0   \n",
       "3  БПМ-161     Гончаров       Глеб     Игоревич  3f187965b9  0.0  0.0  0.8   \n",
       "4  БПМ-161     Мартынов     Никита     Игоревич  bf1e56e185  0.0  0.0  0.0   \n",
       "5  БПМ-161   Арсамакова      Алина  Ибрагимовна  7ca01c996f  0.5  0.8  0.5   \n",
       "6  БПМ-162   Островский   Всеволод     Петрович  2a5a018502  0.9  1.0  1.0   \n",
       "7  БПМ-162    Борисычев  Александр    Сергеевич  99fe117fcb  0.8  0.0  1.0   \n",
       "8  БПМ-161      Антонов    Алексей   Алексеевич  6875ba52f0  0.0  0.9  0.0   \n",
       "9  БПМ-162     Лисицына  Анастасия    Сергеевна  1eea619f12  0.8  1.0  0.0   \n",
       "\n",
       "     3    4    5    6    7    8  \n",
       "0  1.0  1.0  1.0  0.0  0.0  0.0  \n",
       "1  0.7  0.0  0.0  0.0  0.0  0.0  \n",
       "2  1.0  1.0  0.0  0.5  0.0  0.0  \n",
       "3  1.0  0.5  0.0  0.0  0.0  0.0  \n",
       "4  0.0  0.0  0.0  0.0  0.0  0.0  \n",
       "5  0.5  0.0  0.0  0.0  0.0  0.0  \n",
       "6  1.0  0.8  0.0  0.5  0.0  0.7  \n",
       "7  0.9  1.0  1.0  0.5  0.0  0.0  \n",
       "8  0.5  0.5  0.0  0.0  0.0  0.0  \n",
       "9  0.2  0.5  0.2  0.0  0.0  0.2  "
      ]
     },
     "execution_count": 155,
     "metadata": {},
     "output_type": "execute_result"
    }
   ],
   "source": [
    "# присоединить подходящие строки из df_hashes к df_grades\n",
    "df = pd.merge(df_hashes, df_grades, on='hash', how='right')\n",
    "print(df.shape)\n",
    "df.head(10)"
   ]
  },
  {
   "cell_type": "code",
   "execution_count": 156,
   "id": "691f0919",
   "metadata": {
    "colab": {
     "base_uri": "https://localhost:8080/",
     "height": 391
    },
    "id": "YtI47HOjseez",
    "outputId": "a7edc131-407f-4a32-dfba-90136a055e35"
   },
   "outputs": [
    {
     "name": "stdout",
     "output_type": "stream",
     "text": [
      "(38, 14)\n"
     ]
    },
    {
     "data": {
      "text/html": [
       "<div>\n",
       "<style scoped>\n",
       "    .dataframe tbody tr th:only-of-type {\n",
       "        vertical-align: middle;\n",
       "    }\n",
       "\n",
       "    .dataframe tbody tr th {\n",
       "        vertical-align: top;\n",
       "    }\n",
       "\n",
       "    .dataframe thead th {\n",
       "        text-align: right;\n",
       "    }\n",
       "</style>\n",
       "<table border=\"1\" class=\"dataframe\">\n",
       "  <thead>\n",
       "    <tr style=\"text-align: right;\">\n",
       "      <th></th>\n",
       "      <th>Группа</th>\n",
       "      <th>Фамилия</th>\n",
       "      <th>Имя</th>\n",
       "      <th>Отчество</th>\n",
       "      <th>hash</th>\n",
       "      <th>0</th>\n",
       "      <th>1</th>\n",
       "      <th>2</th>\n",
       "      <th>3</th>\n",
       "      <th>4</th>\n",
       "      <th>5</th>\n",
       "      <th>6</th>\n",
       "      <th>7</th>\n",
       "      <th>8</th>\n",
       "    </tr>\n",
       "  </thead>\n",
       "  <tbody>\n",
       "    <tr>\n",
       "      <th>0</th>\n",
       "      <td>БПМ-161</td>\n",
       "      <td>Антонов</td>\n",
       "      <td>Алексей</td>\n",
       "      <td>Алексеевич</td>\n",
       "      <td>6875ba52f0</td>\n",
       "      <td>0.0</td>\n",
       "      <td>0.9</td>\n",
       "      <td>0.0</td>\n",
       "      <td>0.5</td>\n",
       "      <td>0.5</td>\n",
       "      <td>0.0</td>\n",
       "      <td>0.0</td>\n",
       "      <td>0.0</td>\n",
       "      <td>0.0</td>\n",
       "    </tr>\n",
       "    <tr>\n",
       "      <th>1</th>\n",
       "      <td>БПМ-161</td>\n",
       "      <td>Арсамакова</td>\n",
       "      <td>Алина</td>\n",
       "      <td>Ибрагимовна</td>\n",
       "      <td>7ca01c996f</td>\n",
       "      <td>0.5</td>\n",
       "      <td>0.8</td>\n",
       "      <td>0.5</td>\n",
       "      <td>0.5</td>\n",
       "      <td>0.0</td>\n",
       "      <td>0.0</td>\n",
       "      <td>0.0</td>\n",
       "      <td>0.0</td>\n",
       "      <td>0.0</td>\n",
       "    </tr>\n",
       "    <tr>\n",
       "      <th>2</th>\n",
       "      <td>БПМ-161</td>\n",
       "      <td>Богатов</td>\n",
       "      <td>Антон</td>\n",
       "      <td>Юрьевич</td>\n",
       "      <td>15360bcc4c</td>\n",
       "      <td>0.0</td>\n",
       "      <td>0.0</td>\n",
       "      <td>0.0</td>\n",
       "      <td>0.0</td>\n",
       "      <td>0.0</td>\n",
       "      <td>0.0</td>\n",
       "      <td>0.0</td>\n",
       "      <td>0.0</td>\n",
       "      <td>0.0</td>\n",
       "    </tr>\n",
       "    <tr>\n",
       "      <th>3</th>\n",
       "      <td>БПМ-161</td>\n",
       "      <td>Бычков</td>\n",
       "      <td>Андрей</td>\n",
       "      <td>-</td>\n",
       "      <td>f9f854aa44</td>\n",
       "      <td>1.0</td>\n",
       "      <td>0.9</td>\n",
       "      <td>0.0</td>\n",
       "      <td>0.5</td>\n",
       "      <td>0.5</td>\n",
       "      <td>0.0</td>\n",
       "      <td>0.0</td>\n",
       "      <td>0.0</td>\n",
       "      <td>0.0</td>\n",
       "    </tr>\n",
       "    <tr>\n",
       "      <th>4</th>\n",
       "      <td>БПМ-161</td>\n",
       "      <td>Гончаров</td>\n",
       "      <td>Глеб</td>\n",
       "      <td>Игоревич</td>\n",
       "      <td>3f187965b9</td>\n",
       "      <td>0.0</td>\n",
       "      <td>0.0</td>\n",
       "      <td>0.8</td>\n",
       "      <td>1.0</td>\n",
       "      <td>0.5</td>\n",
       "      <td>0.0</td>\n",
       "      <td>0.0</td>\n",
       "      <td>0.0</td>\n",
       "      <td>0.0</td>\n",
       "    </tr>\n",
       "    <tr>\n",
       "      <th>5</th>\n",
       "      <td>БПМ-161</td>\n",
       "      <td>Дудинов</td>\n",
       "      <td>Тимур</td>\n",
       "      <td>Батырович</td>\n",
       "      <td>e1388f2aae</td>\n",
       "      <td>0.0</td>\n",
       "      <td>0.5</td>\n",
       "      <td>0.0</td>\n",
       "      <td>0.0</td>\n",
       "      <td>0.0</td>\n",
       "      <td>0.0</td>\n",
       "      <td>0.0</td>\n",
       "      <td>0.0</td>\n",
       "      <td>0.0</td>\n",
       "    </tr>\n",
       "    <tr>\n",
       "      <th>6</th>\n",
       "      <td>БПМ-161</td>\n",
       "      <td>Иванов</td>\n",
       "      <td>Артём</td>\n",
       "      <td>Владиславович</td>\n",
       "      <td>a2d96fe1d4</td>\n",
       "      <td>0.0</td>\n",
       "      <td>0.7</td>\n",
       "      <td>1.0</td>\n",
       "      <td>1.0</td>\n",
       "      <td>0.0</td>\n",
       "      <td>0.0</td>\n",
       "      <td>0.0</td>\n",
       "      <td>0.0</td>\n",
       "      <td>0.0</td>\n",
       "    </tr>\n",
       "    <tr>\n",
       "      <th>7</th>\n",
       "      <td>БПМ-161</td>\n",
       "      <td>Кубышкина</td>\n",
       "      <td>Екатерина</td>\n",
       "      <td>Константиновна</td>\n",
       "      <td>6588f97aea</td>\n",
       "      <td>0.0</td>\n",
       "      <td>0.6</td>\n",
       "      <td>1.0</td>\n",
       "      <td>1.0</td>\n",
       "      <td>1.0</td>\n",
       "      <td>0.5</td>\n",
       "      <td>0.0</td>\n",
       "      <td>0.0</td>\n",
       "      <td>0.7</td>\n",
       "    </tr>\n",
       "    <tr>\n",
       "      <th>8</th>\n",
       "      <td>БПМ-161</td>\n",
       "      <td>Мартынов</td>\n",
       "      <td>Никита</td>\n",
       "      <td>Игоревич</td>\n",
       "      <td>bf1e56e185</td>\n",
       "      <td>0.0</td>\n",
       "      <td>0.0</td>\n",
       "      <td>0.0</td>\n",
       "      <td>0.0</td>\n",
       "      <td>0.0</td>\n",
       "      <td>0.0</td>\n",
       "      <td>0.0</td>\n",
       "      <td>0.0</td>\n",
       "      <td>0.0</td>\n",
       "    </tr>\n",
       "    <tr>\n",
       "      <th>9</th>\n",
       "      <td>БПМ-161</td>\n",
       "      <td>Плешко</td>\n",
       "      <td>Георгий</td>\n",
       "      <td>Дмитриевич</td>\n",
       "      <td>5a0a06b184</td>\n",
       "      <td>0.0</td>\n",
       "      <td>0.0</td>\n",
       "      <td>1.0</td>\n",
       "      <td>1.0</td>\n",
       "      <td>0.0</td>\n",
       "      <td>0.0</td>\n",
       "      <td>0.0</td>\n",
       "      <td>0.0</td>\n",
       "      <td>0.0</td>\n",
       "    </tr>\n",
       "  </tbody>\n",
       "</table>\n",
       "</div>"
      ],
      "text/plain": [
       "    Группа     Фамилия        Имя        Отчество        hash    0    1    2  \\\n",
       "0  БПМ-161     Антонов    Алексей      Алексеевич  6875ba52f0  0.0  0.9  0.0   \n",
       "1  БПМ-161  Арсамакова      Алина     Ибрагимовна  7ca01c996f  0.5  0.8  0.5   \n",
       "2  БПМ-161     Богатов      Антон         Юрьевич  15360bcc4c  0.0  0.0  0.0   \n",
       "3  БПМ-161      Бычков     Андрей               -  f9f854aa44  1.0  0.9  0.0   \n",
       "4  БПМ-161    Гончаров       Глеб        Игоревич  3f187965b9  0.0  0.0  0.8   \n",
       "5  БПМ-161     Дудинов      Тимур       Батырович  e1388f2aae  0.0  0.5  0.0   \n",
       "6  БПМ-161      Иванов      Артём   Владиславович  a2d96fe1d4  0.0  0.7  1.0   \n",
       "7  БПМ-161   Кубышкина  Екатерина  Константиновна  6588f97aea  0.0  0.6  1.0   \n",
       "8  БПМ-161    Мартынов     Никита        Игоревич  bf1e56e185  0.0  0.0  0.0   \n",
       "9  БПМ-161      Плешко    Георгий      Дмитриевич  5a0a06b184  0.0  0.0  1.0   \n",
       "\n",
       "     3    4    5    6    7    8  \n",
       "0  0.5  0.5  0.0  0.0  0.0  0.0  \n",
       "1  0.5  0.0  0.0  0.0  0.0  0.0  \n",
       "2  0.0  0.0  0.0  0.0  0.0  0.0  \n",
       "3  0.5  0.5  0.0  0.0  0.0  0.0  \n",
       "4  1.0  0.5  0.0  0.0  0.0  0.0  \n",
       "5  0.0  0.0  0.0  0.0  0.0  0.0  \n",
       "6  1.0  0.0  0.0  0.0  0.0  0.0  \n",
       "7  1.0  1.0  0.5  0.0  0.0  0.7  \n",
       "8  0.0  0.0  0.0  0.0  0.0  0.0  \n",
       "9  1.0  0.0  0.0  0.0  0.0  0.0  "
      ]
     },
     "execution_count": 156,
     "metadata": {},
     "output_type": "execute_result"
    }
   ],
   "source": [
    "# пересечение таблиц\n",
    "# в данном случае эквивалентно 'right', т.к. в df_grades нет таких хэшей, которые отсутствуют в df_hashes\n",
    "df = pd.merge(df_hashes, df_grades, on='hash', how='inner')\n",
    "print(df.shape)\n",
    "df.head(10)"
   ]
  },
  {
   "cell_type": "code",
   "execution_count": 157,
   "id": "460cda2f",
   "metadata": {
    "colab": {
     "base_uri": "https://localhost:8080/",
     "height": 391
    },
    "id": "1iKBpFDCseez",
    "outputId": "55c6c83a-5328-46ef-857d-be3b68755b20"
   },
   "outputs": [
    {
     "name": "stdout",
     "output_type": "stream",
     "text": [
      "(95, 14)\n"
     ]
    },
    {
     "data": {
      "text/html": [
       "<div>\n",
       "<style scoped>\n",
       "    .dataframe tbody tr th:only-of-type {\n",
       "        vertical-align: middle;\n",
       "    }\n",
       "\n",
       "    .dataframe tbody tr th {\n",
       "        vertical-align: top;\n",
       "    }\n",
       "\n",
       "    .dataframe thead th {\n",
       "        text-align: right;\n",
       "    }\n",
       "</style>\n",
       "<table border=\"1\" class=\"dataframe\">\n",
       "  <thead>\n",
       "    <tr style=\"text-align: right;\">\n",
       "      <th></th>\n",
       "      <th>Группа</th>\n",
       "      <th>Фамилия</th>\n",
       "      <th>Имя</th>\n",
       "      <th>Отчество</th>\n",
       "      <th>hash</th>\n",
       "      <th>0</th>\n",
       "      <th>1</th>\n",
       "      <th>2</th>\n",
       "      <th>3</th>\n",
       "      <th>4</th>\n",
       "      <th>5</th>\n",
       "      <th>6</th>\n",
       "      <th>7</th>\n",
       "      <th>8</th>\n",
       "    </tr>\n",
       "  </thead>\n",
       "  <tbody>\n",
       "    <tr>\n",
       "      <th>0</th>\n",
       "      <td>БПМ-161</td>\n",
       "      <td>Антонов</td>\n",
       "      <td>Алексей</td>\n",
       "      <td>Алексеевич</td>\n",
       "      <td>6875ba52f0</td>\n",
       "      <td>0.0</td>\n",
       "      <td>0.9</td>\n",
       "      <td>0.0</td>\n",
       "      <td>0.5</td>\n",
       "      <td>0.5</td>\n",
       "      <td>0.0</td>\n",
       "      <td>0.0</td>\n",
       "      <td>0.0</td>\n",
       "      <td>0.0</td>\n",
       "    </tr>\n",
       "    <tr>\n",
       "      <th>1</th>\n",
       "      <td>БПМ-161</td>\n",
       "      <td>Арсамакова</td>\n",
       "      <td>Алина</td>\n",
       "      <td>Ибрагимовна</td>\n",
       "      <td>7ca01c996f</td>\n",
       "      <td>0.5</td>\n",
       "      <td>0.8</td>\n",
       "      <td>0.5</td>\n",
       "      <td>0.5</td>\n",
       "      <td>0.0</td>\n",
       "      <td>0.0</td>\n",
       "      <td>0.0</td>\n",
       "      <td>0.0</td>\n",
       "      <td>0.0</td>\n",
       "    </tr>\n",
       "    <tr>\n",
       "      <th>2</th>\n",
       "      <td>БПМ-161</td>\n",
       "      <td>Богатов</td>\n",
       "      <td>Антон</td>\n",
       "      <td>Юрьевич</td>\n",
       "      <td>15360bcc4c</td>\n",
       "      <td>0.0</td>\n",
       "      <td>0.0</td>\n",
       "      <td>0.0</td>\n",
       "      <td>0.0</td>\n",
       "      <td>0.0</td>\n",
       "      <td>0.0</td>\n",
       "      <td>0.0</td>\n",
       "      <td>0.0</td>\n",
       "      <td>0.0</td>\n",
       "    </tr>\n",
       "    <tr>\n",
       "      <th>3</th>\n",
       "      <td>БПМ-161</td>\n",
       "      <td>Бычков</td>\n",
       "      <td>Андрей</td>\n",
       "      <td>-</td>\n",
       "      <td>f9f854aa44</td>\n",
       "      <td>1.0</td>\n",
       "      <td>0.9</td>\n",
       "      <td>0.0</td>\n",
       "      <td>0.5</td>\n",
       "      <td>0.5</td>\n",
       "      <td>0.0</td>\n",
       "      <td>0.0</td>\n",
       "      <td>0.0</td>\n",
       "      <td>0.0</td>\n",
       "    </tr>\n",
       "    <tr>\n",
       "      <th>4</th>\n",
       "      <td>БПМ-161</td>\n",
       "      <td>Высоцкий</td>\n",
       "      <td>Яков</td>\n",
       "      <td>Михайлович</td>\n",
       "      <td>1d1d05c257</td>\n",
       "      <td>NaN</td>\n",
       "      <td>NaN</td>\n",
       "      <td>NaN</td>\n",
       "      <td>NaN</td>\n",
       "      <td>NaN</td>\n",
       "      <td>NaN</td>\n",
       "      <td>NaN</td>\n",
       "      <td>NaN</td>\n",
       "      <td>NaN</td>\n",
       "    </tr>\n",
       "    <tr>\n",
       "      <th>5</th>\n",
       "      <td>БПМ-161</td>\n",
       "      <td>Галигеров</td>\n",
       "      <td>Владислав</td>\n",
       "      <td>Сергеевич</td>\n",
       "      <td>738b683ed7</td>\n",
       "      <td>NaN</td>\n",
       "      <td>NaN</td>\n",
       "      <td>NaN</td>\n",
       "      <td>NaN</td>\n",
       "      <td>NaN</td>\n",
       "      <td>NaN</td>\n",
       "      <td>NaN</td>\n",
       "      <td>NaN</td>\n",
       "      <td>NaN</td>\n",
       "    </tr>\n",
       "    <tr>\n",
       "      <th>6</th>\n",
       "      <td>БПМ-161</td>\n",
       "      <td>Гончаров</td>\n",
       "      <td>Глеб</td>\n",
       "      <td>Игоревич</td>\n",
       "      <td>3f187965b9</td>\n",
       "      <td>0.0</td>\n",
       "      <td>0.0</td>\n",
       "      <td>0.8</td>\n",
       "      <td>1.0</td>\n",
       "      <td>0.5</td>\n",
       "      <td>0.0</td>\n",
       "      <td>0.0</td>\n",
       "      <td>0.0</td>\n",
       "      <td>0.0</td>\n",
       "    </tr>\n",
       "    <tr>\n",
       "      <th>7</th>\n",
       "      <td>БПМ-161</td>\n",
       "      <td>Городилов</td>\n",
       "      <td>Илья</td>\n",
       "      <td>Игоревич</td>\n",
       "      <td>6df2f31eb9</td>\n",
       "      <td>NaN</td>\n",
       "      <td>NaN</td>\n",
       "      <td>NaN</td>\n",
       "      <td>NaN</td>\n",
       "      <td>NaN</td>\n",
       "      <td>NaN</td>\n",
       "      <td>NaN</td>\n",
       "      <td>NaN</td>\n",
       "      <td>NaN</td>\n",
       "    </tr>\n",
       "    <tr>\n",
       "      <th>8</th>\n",
       "      <td>БПМ-161</td>\n",
       "      <td>Дудинов</td>\n",
       "      <td>Тимур</td>\n",
       "      <td>Батырович</td>\n",
       "      <td>e1388f2aae</td>\n",
       "      <td>0.0</td>\n",
       "      <td>0.5</td>\n",
       "      <td>0.0</td>\n",
       "      <td>0.0</td>\n",
       "      <td>0.0</td>\n",
       "      <td>0.0</td>\n",
       "      <td>0.0</td>\n",
       "      <td>0.0</td>\n",
       "      <td>0.0</td>\n",
       "    </tr>\n",
       "    <tr>\n",
       "      <th>9</th>\n",
       "      <td>БПМ-161</td>\n",
       "      <td>Иванов</td>\n",
       "      <td>Артём</td>\n",
       "      <td>Владиславович</td>\n",
       "      <td>a2d96fe1d4</td>\n",
       "      <td>0.0</td>\n",
       "      <td>0.7</td>\n",
       "      <td>1.0</td>\n",
       "      <td>1.0</td>\n",
       "      <td>0.0</td>\n",
       "      <td>0.0</td>\n",
       "      <td>0.0</td>\n",
       "      <td>0.0</td>\n",
       "      <td>0.0</td>\n",
       "    </tr>\n",
       "  </tbody>\n",
       "</table>\n",
       "</div>"
      ],
      "text/plain": [
       "    Группа     Фамилия        Имя       Отчество        hash    0    1    2  \\\n",
       "0  БПМ-161     Антонов    Алексей     Алексеевич  6875ba52f0  0.0  0.9  0.0   \n",
       "1  БПМ-161  Арсамакова      Алина    Ибрагимовна  7ca01c996f  0.5  0.8  0.5   \n",
       "2  БПМ-161     Богатов      Антон        Юрьевич  15360bcc4c  0.0  0.0  0.0   \n",
       "3  БПМ-161      Бычков     Андрей              -  f9f854aa44  1.0  0.9  0.0   \n",
       "4  БПМ-161    Высоцкий       Яков     Михайлович  1d1d05c257  NaN  NaN  NaN   \n",
       "5  БПМ-161   Галигеров  Владислав      Сергеевич  738b683ed7  NaN  NaN  NaN   \n",
       "6  БПМ-161    Гончаров       Глеб       Игоревич  3f187965b9  0.0  0.0  0.8   \n",
       "7  БПМ-161   Городилов       Илья       Игоревич  6df2f31eb9  NaN  NaN  NaN   \n",
       "8  БПМ-161     Дудинов      Тимур      Батырович  e1388f2aae  0.0  0.5  0.0   \n",
       "9  БПМ-161      Иванов      Артём  Владиславович  a2d96fe1d4  0.0  0.7  1.0   \n",
       "\n",
       "     3    4    5    6    7    8  \n",
       "0  0.5  0.5  0.0  0.0  0.0  0.0  \n",
       "1  0.5  0.0  0.0  0.0  0.0  0.0  \n",
       "2  0.0  0.0  0.0  0.0  0.0  0.0  \n",
       "3  0.5  0.5  0.0  0.0  0.0  0.0  \n",
       "4  NaN  NaN  NaN  NaN  NaN  NaN  \n",
       "5  NaN  NaN  NaN  NaN  NaN  NaN  \n",
       "6  1.0  0.5  0.0  0.0  0.0  0.0  \n",
       "7  NaN  NaN  NaN  NaN  NaN  NaN  \n",
       "8  0.0  0.0  0.0  0.0  0.0  0.0  \n",
       "9  1.0  0.0  0.0  0.0  0.0  0.0  "
      ]
     },
     "execution_count": 157,
     "metadata": {},
     "output_type": "execute_result"
    }
   ],
   "source": [
    "# объединение таблиц\n",
    "# в данном случае эквивалентно 'left', т.к. в df_grades нет таких хэшей, которые отсутствуют в df_hashes\n",
    "df = pd.merge(df_hashes, df_grades, on='hash', how='outer')\n",
    "print(df.shape)\n",
    "df.head(10)"
   ]
  },
  {
   "cell_type": "code",
   "execution_count": 158,
   "id": "bed0c368",
   "metadata": {
    "colab": {
     "base_uri": "https://localhost:8080/"
    },
    "id": "aoe0jpCuseez",
    "outputId": "b3925de9-5eb3-4a16-89ad-e1b64c49d1c5"
   },
   "outputs": [
    {
     "name": "stdout",
     "output_type": "stream",
     "text": [
      "(38, 5)\n"
     ]
    },
    {
     "data": {
      "text/html": [
       "<div>\n",
       "<style scoped>\n",
       "    .dataframe tbody tr th:only-of-type {\n",
       "        vertical-align: middle;\n",
       "    }\n",
       "\n",
       "    .dataframe tbody tr th {\n",
       "        vertical-align: top;\n",
       "    }\n",
       "\n",
       "    .dataframe thead th {\n",
       "        text-align: right;\n",
       "    }\n",
       "</style>\n",
       "<table border=\"1\" class=\"dataframe\">\n",
       "  <thead>\n",
       "    <tr style=\"text-align: right;\">\n",
       "      <th></th>\n",
       "      <th>Группа</th>\n",
       "      <th>Фамилия</th>\n",
       "      <th>Имя</th>\n",
       "      <th>Отчество</th>\n",
       "      <th>hash</th>\n",
       "    </tr>\n",
       "  </thead>\n",
       "  <tbody>\n",
       "    <tr>\n",
       "      <th>0</th>\n",
       "      <td>БПМ-161</td>\n",
       "      <td>Антонов</td>\n",
       "      <td>Алексей</td>\n",
       "      <td>Алексеевич</td>\n",
       "      <td>6875ba52f0</td>\n",
       "    </tr>\n",
       "    <tr>\n",
       "      <th>1</th>\n",
       "      <td>БПМ-161</td>\n",
       "      <td>Арсамакова</td>\n",
       "      <td>Алина</td>\n",
       "      <td>Ибрагимовна</td>\n",
       "      <td>7ca01c996f</td>\n",
       "    </tr>\n",
       "    <tr>\n",
       "      <th>2</th>\n",
       "      <td>БПМ-161</td>\n",
       "      <td>Богатов</td>\n",
       "      <td>Антон</td>\n",
       "      <td>Юрьевич</td>\n",
       "      <td>15360bcc4c</td>\n",
       "    </tr>\n",
       "    <tr>\n",
       "      <th>3</th>\n",
       "      <td>БПМ-161</td>\n",
       "      <td>Бычков</td>\n",
       "      <td>Андрей</td>\n",
       "      <td>-</td>\n",
       "      <td>f9f854aa44</td>\n",
       "    </tr>\n",
       "    <tr>\n",
       "      <th>6</th>\n",
       "      <td>БПМ-161</td>\n",
       "      <td>Гончаров</td>\n",
       "      <td>Глеб</td>\n",
       "      <td>Игоревич</td>\n",
       "      <td>3f187965b9</td>\n",
       "    </tr>\n",
       "  </tbody>\n",
       "</table>\n",
       "</div>"
      ],
      "text/plain": [
       "    Группа     Фамилия      Имя     Отчество        hash\n",
       "0  БПМ-161     Антонов  Алексей   Алексеевич  6875ba52f0\n",
       "1  БПМ-161  Арсамакова    Алина  Ибрагимовна  7ca01c996f\n",
       "2  БПМ-161     Богатов    Антон      Юрьевич  15360bcc4c\n",
       "3  БПМ-161      Бычков   Андрей            -  f9f854aa44\n",
       "6  БПМ-161    Гончаров     Глеб     Игоревич  3f187965b9"
      ]
     },
     "execution_count": 158,
     "metadata": {},
     "output_type": "execute_result"
    }
   ],
   "source": [
    "# выбрать из таблицы хэшей только те строки, в которых хэш есть в таблице оценок\n",
    "# т.е. отобрать тех студентов, которые писали контрольную и были оценены\n",
    "\n",
    "df = df_hashes[df_hashes.hash.isin(df_grades.hash)]\n",
    "\n",
    "df = df_hashes[df_hashes['hash'].isin(df_grades.hash)]\n",
    "\n",
    "print(df.shape)\n",
    "df.head()\n",
    "\n",
    "# table_name[condition]\n",
    "\n",
    "# df_hashes['hash']\n",
    "# df_hashes.hash\n",
    "\n",
    "# print(df_hashes.iloc[5:10])"
   ]
  },
  {
   "cell_type": "code",
   "execution_count": 159,
   "id": "4ec93c9d",
   "metadata": {
    "colab": {
     "base_uri": "https://localhost:8080/"
    },
    "id": "lGmA4V1Ksee0",
    "outputId": "51670478-41af-4544-f896-1b702c94f434"
   },
   "outputs": [
    {
     "data": {
      "text/plain": [
       "БПМ-161    18\n",
       "БПМ-162    18\n",
       "БПМ-163     2\n",
       "Name: Группа, dtype: int64"
      ]
     },
     "execution_count": 159,
     "metadata": {},
     "output_type": "execute_result"
    }
   ],
   "source": [
    "# сколько человек из каждой группы были оценены?\n",
    "df.Группа.value_counts()"
   ]
  },
  {
   "cell_type": "markdown",
   "id": "7304a4d0",
   "metadata": {
    "id": "h6Xevglcsee0"
   },
   "source": [
    "### DataFrame.groupby - группировка строк"
   ]
  },
  {
   "cell_type": "code",
   "execution_count": 160,
   "id": "f5fac98a",
   "metadata": {
    "colab": {
     "base_uri": "https://localhost:8080/"
    },
    "id": "PqTz_Wvxsee1",
    "outputId": "6eef0257-7f39-43c2-d231-417059984d35"
   },
   "outputs": [
    {
     "data": {
      "text/plain": [
       "<pandas.core.groupby.generic.DataFrameGroupBy object at 0x7eff4ecab2d0>"
      ]
     },
     "execution_count": 160,
     "metadata": {},
     "output_type": "execute_result"
    }
   ],
   "source": [
    "# сгруппировать строки по столбцу '1'\n",
    "gr = df_grades.groupby(by='1')\n",
    "gr"
   ]
  },
  {
   "cell_type": "code",
   "execution_count": 161,
   "id": "1cea7a05",
   "metadata": {
    "id": "vLN9vz6Ssee1"
   },
   "outputs": [],
   "source": [
    "# какая средняя оценка (и ее дисперсия) за другие задачи у студентов, получивших конкретную оценку по задаче '1'?"
   ]
  },
  {
   "cell_type": "code",
   "execution_count": 162,
   "id": "13c6b0bd",
   "metadata": {
    "colab": {
     "base_uri": "https://localhost:8080/",
     "height": 343
    },
    "id": "i8esS4YWsee1",
    "outputId": "73b75d89-30bb-42b7-d206-26abd177b46d"
   },
   "outputs": [
    {
     "data": {
      "text/html": [
       "<div>\n",
       "<style scoped>\n",
       "    .dataframe tbody tr th:only-of-type {\n",
       "        vertical-align: middle;\n",
       "    }\n",
       "\n",
       "    .dataframe tbody tr th {\n",
       "        vertical-align: top;\n",
       "    }\n",
       "\n",
       "    .dataframe thead th {\n",
       "        text-align: right;\n",
       "    }\n",
       "</style>\n",
       "<table border=\"1\" class=\"dataframe\">\n",
       "  <thead>\n",
       "    <tr style=\"text-align: right;\">\n",
       "      <th></th>\n",
       "      <th>0</th>\n",
       "      <th>2</th>\n",
       "      <th>3</th>\n",
       "      <th>4</th>\n",
       "      <th>5</th>\n",
       "      <th>6</th>\n",
       "      <th>7</th>\n",
       "      <th>8</th>\n",
       "    </tr>\n",
       "    <tr>\n",
       "      <th>1</th>\n",
       "      <th></th>\n",
       "      <th></th>\n",
       "      <th></th>\n",
       "      <th></th>\n",
       "      <th></th>\n",
       "      <th></th>\n",
       "      <th></th>\n",
       "      <th></th>\n",
       "    </tr>\n",
       "  </thead>\n",
       "  <tbody>\n",
       "    <tr>\n",
       "      <th>0.0</th>\n",
       "      <td>0.133333</td>\n",
       "      <td>0.466667</td>\n",
       "      <td>0.483333</td>\n",
       "      <td>0.250000</td>\n",
       "      <td>0.166667</td>\n",
       "      <td>0.083333</td>\n",
       "      <td>0.000000</td>\n",
       "      <td>0.000000</td>\n",
       "    </tr>\n",
       "    <tr>\n",
       "      <th>0.2</th>\n",
       "      <td>0.300000</td>\n",
       "      <td>0.933333</td>\n",
       "      <td>0.800000</td>\n",
       "      <td>0.166667</td>\n",
       "      <td>0.066667</td>\n",
       "      <td>0.166667</td>\n",
       "      <td>0.000000</td>\n",
       "      <td>0.066667</td>\n",
       "    </tr>\n",
       "    <tr>\n",
       "      <th>0.5</th>\n",
       "      <td>0.000000</td>\n",
       "      <td>0.000000</td>\n",
       "      <td>0.000000</td>\n",
       "      <td>0.000000</td>\n",
       "      <td>0.000000</td>\n",
       "      <td>0.000000</td>\n",
       "      <td>0.000000</td>\n",
       "      <td>0.000000</td>\n",
       "    </tr>\n",
       "    <tr>\n",
       "      <th>0.6</th>\n",
       "      <td>0.000000</td>\n",
       "      <td>1.000000</td>\n",
       "      <td>1.000000</td>\n",
       "      <td>1.000000</td>\n",
       "      <td>0.500000</td>\n",
       "      <td>0.000000</td>\n",
       "      <td>0.000000</td>\n",
       "      <td>0.700000</td>\n",
       "    </tr>\n",
       "    <tr>\n",
       "      <th>0.7</th>\n",
       "      <td>0.000000</td>\n",
       "      <td>1.000000</td>\n",
       "      <td>1.000000</td>\n",
       "      <td>0.000000</td>\n",
       "      <td>0.250000</td>\n",
       "      <td>0.000000</td>\n",
       "      <td>0.000000</td>\n",
       "      <td>0.000000</td>\n",
       "    </tr>\n",
       "    <tr>\n",
       "      <th>0.8</th>\n",
       "      <td>0.250000</td>\n",
       "      <td>0.250000</td>\n",
       "      <td>0.600000</td>\n",
       "      <td>0.250000</td>\n",
       "      <td>0.000000</td>\n",
       "      <td>0.000000</td>\n",
       "      <td>0.000000</td>\n",
       "      <td>0.000000</td>\n",
       "    </tr>\n",
       "    <tr>\n",
       "      <th>0.9</th>\n",
       "      <td>0.500000</td>\n",
       "      <td>0.250000</td>\n",
       "      <td>0.500000</td>\n",
       "      <td>0.625000</td>\n",
       "      <td>0.125000</td>\n",
       "      <td>0.000000</td>\n",
       "      <td>0.250000</td>\n",
       "      <td>0.150000</td>\n",
       "    </tr>\n",
       "    <tr>\n",
       "      <th>1.0</th>\n",
       "      <td>0.594737</td>\n",
       "      <td>0.789474</td>\n",
       "      <td>0.773684</td>\n",
       "      <td>0.463158</td>\n",
       "      <td>0.252632</td>\n",
       "      <td>0.289474</td>\n",
       "      <td>0.094737</td>\n",
       "      <td>0.442105</td>\n",
       "    </tr>\n",
       "  </tbody>\n",
       "</table>\n",
       "</div>"
      ],
      "text/plain": [
       "            0         2         3         4         5         6         7  \\\n",
       "1                                                                           \n",
       "0.0  0.133333  0.466667  0.483333  0.250000  0.166667  0.083333  0.000000   \n",
       "0.2  0.300000  0.933333  0.800000  0.166667  0.066667  0.166667  0.000000   \n",
       "0.5  0.000000  0.000000  0.000000  0.000000  0.000000  0.000000  0.000000   \n",
       "0.6  0.000000  1.000000  1.000000  1.000000  0.500000  0.000000  0.000000   \n",
       "0.7  0.000000  1.000000  1.000000  0.000000  0.250000  0.000000  0.000000   \n",
       "0.8  0.250000  0.250000  0.600000  0.250000  0.000000  0.000000  0.000000   \n",
       "0.9  0.500000  0.250000  0.500000  0.625000  0.125000  0.000000  0.250000   \n",
       "1.0  0.594737  0.789474  0.773684  0.463158  0.252632  0.289474  0.094737   \n",
       "\n",
       "            8  \n",
       "1              \n",
       "0.0  0.000000  \n",
       "0.2  0.066667  \n",
       "0.5  0.000000  \n",
       "0.6  0.700000  \n",
       "0.7  0.000000  \n",
       "0.8  0.000000  \n",
       "0.9  0.150000  \n",
       "1.0  0.442105  "
      ]
     },
     "execution_count": 162,
     "metadata": {},
     "output_type": "execute_result"
    }
   ],
   "source": [
    "gr.mean()"
   ]
  },
  {
   "cell_type": "code",
   "execution_count": 163,
   "id": "035d07de",
   "metadata": {
    "colab": {
     "base_uri": "https://localhost:8080/",
     "height": 343
    },
    "id": "0rH1quxXsee1",
    "outputId": "52532395-6dcd-4da1-e07c-f983e7778d5b"
   },
   "outputs": [
    {
     "data": {
      "text/html": [
       "<div>\n",
       "<style scoped>\n",
       "    .dataframe tbody tr th:only-of-type {\n",
       "        vertical-align: middle;\n",
       "    }\n",
       "\n",
       "    .dataframe tbody tr th {\n",
       "        vertical-align: top;\n",
       "    }\n",
       "\n",
       "    .dataframe thead th {\n",
       "        text-align: right;\n",
       "    }\n",
       "</style>\n",
       "<table border=\"1\" class=\"dataframe\">\n",
       "  <thead>\n",
       "    <tr style=\"text-align: right;\">\n",
       "      <th></th>\n",
       "      <th>0</th>\n",
       "      <th>2</th>\n",
       "      <th>3</th>\n",
       "      <th>4</th>\n",
       "      <th>5</th>\n",
       "      <th>6</th>\n",
       "      <th>7</th>\n",
       "      <th>8</th>\n",
       "    </tr>\n",
       "    <tr>\n",
       "      <th>1</th>\n",
       "      <th></th>\n",
       "      <th></th>\n",
       "      <th></th>\n",
       "      <th></th>\n",
       "      <th></th>\n",
       "      <th></th>\n",
       "      <th></th>\n",
       "      <th></th>\n",
       "    </tr>\n",
       "  </thead>\n",
       "  <tbody>\n",
       "    <tr>\n",
       "      <th>0.0</th>\n",
       "      <td>0.106667</td>\n",
       "      <td>0.266667</td>\n",
       "      <td>0.281667</td>\n",
       "      <td>0.175000</td>\n",
       "      <td>0.166667</td>\n",
       "      <td>0.041667</td>\n",
       "      <td>0.000000</td>\n",
       "      <td>0.000000</td>\n",
       "    </tr>\n",
       "    <tr>\n",
       "      <th>0.2</th>\n",
       "      <td>0.030000</td>\n",
       "      <td>0.003333</td>\n",
       "      <td>0.030000</td>\n",
       "      <td>0.083333</td>\n",
       "      <td>0.013333</td>\n",
       "      <td>0.083333</td>\n",
       "      <td>0.000000</td>\n",
       "      <td>0.013333</td>\n",
       "    </tr>\n",
       "    <tr>\n",
       "      <th>0.5</th>\n",
       "      <td>NaN</td>\n",
       "      <td>NaN</td>\n",
       "      <td>NaN</td>\n",
       "      <td>NaN</td>\n",
       "      <td>NaN</td>\n",
       "      <td>NaN</td>\n",
       "      <td>NaN</td>\n",
       "      <td>NaN</td>\n",
       "    </tr>\n",
       "    <tr>\n",
       "      <th>0.6</th>\n",
       "      <td>NaN</td>\n",
       "      <td>NaN</td>\n",
       "      <td>NaN</td>\n",
       "      <td>NaN</td>\n",
       "      <td>NaN</td>\n",
       "      <td>NaN</td>\n",
       "      <td>NaN</td>\n",
       "      <td>NaN</td>\n",
       "    </tr>\n",
       "    <tr>\n",
       "      <th>0.7</th>\n",
       "      <td>0.000000</td>\n",
       "      <td>0.000000</td>\n",
       "      <td>0.000000</td>\n",
       "      <td>0.000000</td>\n",
       "      <td>0.125000</td>\n",
       "      <td>0.000000</td>\n",
       "      <td>0.000000</td>\n",
       "      <td>0.000000</td>\n",
       "    </tr>\n",
       "    <tr>\n",
       "      <th>0.8</th>\n",
       "      <td>0.125000</td>\n",
       "      <td>0.125000</td>\n",
       "      <td>0.020000</td>\n",
       "      <td>0.125000</td>\n",
       "      <td>0.000000</td>\n",
       "      <td>0.000000</td>\n",
       "      <td>0.000000</td>\n",
       "      <td>0.000000</td>\n",
       "    </tr>\n",
       "    <tr>\n",
       "      <th>0.9</th>\n",
       "      <td>0.226667</td>\n",
       "      <td>0.250000</td>\n",
       "      <td>0.166667</td>\n",
       "      <td>0.062500</td>\n",
       "      <td>0.062500</td>\n",
       "      <td>0.000000</td>\n",
       "      <td>0.250000</td>\n",
       "      <td>0.090000</td>\n",
       "    </tr>\n",
       "    <tr>\n",
       "      <th>1.0</th>\n",
       "      <td>0.133860</td>\n",
       "      <td>0.140994</td>\n",
       "      <td>0.155380</td>\n",
       "      <td>0.086901</td>\n",
       "      <td>0.135965</td>\n",
       "      <td>0.064327</td>\n",
       "      <td>0.080526</td>\n",
       "      <td>0.108129</td>\n",
       "    </tr>\n",
       "  </tbody>\n",
       "</table>\n",
       "</div>"
      ],
      "text/plain": [
       "            0         2         3         4         5         6         7  \\\n",
       "1                                                                           \n",
       "0.0  0.106667  0.266667  0.281667  0.175000  0.166667  0.041667  0.000000   \n",
       "0.2  0.030000  0.003333  0.030000  0.083333  0.013333  0.083333  0.000000   \n",
       "0.5       NaN       NaN       NaN       NaN       NaN       NaN       NaN   \n",
       "0.6       NaN       NaN       NaN       NaN       NaN       NaN       NaN   \n",
       "0.7  0.000000  0.000000  0.000000  0.000000  0.125000  0.000000  0.000000   \n",
       "0.8  0.125000  0.125000  0.020000  0.125000  0.000000  0.000000  0.000000   \n",
       "0.9  0.226667  0.250000  0.166667  0.062500  0.062500  0.000000  0.250000   \n",
       "1.0  0.133860  0.140994  0.155380  0.086901  0.135965  0.064327  0.080526   \n",
       "\n",
       "            8  \n",
       "1              \n",
       "0.0  0.000000  \n",
       "0.2  0.013333  \n",
       "0.5       NaN  \n",
       "0.6       NaN  \n",
       "0.7  0.000000  \n",
       "0.8  0.000000  \n",
       "0.9  0.090000  \n",
       "1.0  0.108129  "
      ]
     },
     "execution_count": 163,
     "metadata": {},
     "output_type": "execute_result"
    }
   ],
   "source": [
    "# дисперсия\n",
    "gr.var()"
   ]
  },
  {
   "cell_type": "code",
   "execution_count": 164,
   "id": "ce6f8185",
   "metadata": {
    "id": "LZqRVLEqsee1"
   },
   "outputs": [],
   "source": [
    "# откуда взялись NaN?"
   ]
  },
  {
   "cell_type": "code",
   "execution_count": 165,
   "id": "f951d283",
   "metadata": {
    "colab": {
     "base_uri": "https://localhost:8080/",
     "height": 160
    },
    "id": "nQnxA3gGsee2",
    "outputId": "258915bf-aba9-4beb-a3b4-1d999272586a"
   },
   "outputs": [
    {
     "data": {
      "text/html": [
       "<div>\n",
       "<style scoped>\n",
       "    .dataframe tbody tr th:only-of-type {\n",
       "        vertical-align: middle;\n",
       "    }\n",
       "\n",
       "    .dataframe tbody tr th {\n",
       "        vertical-align: top;\n",
       "    }\n",
       "\n",
       "    .dataframe thead th {\n",
       "        text-align: right;\n",
       "    }\n",
       "</style>\n",
       "<table border=\"1\" class=\"dataframe\">\n",
       "  <thead>\n",
       "    <tr style=\"text-align: right;\">\n",
       "      <th></th>\n",
       "      <th>hash</th>\n",
       "      <th>0</th>\n",
       "      <th>1</th>\n",
       "      <th>2</th>\n",
       "      <th>3</th>\n",
       "      <th>4</th>\n",
       "      <th>5</th>\n",
       "      <th>6</th>\n",
       "      <th>7</th>\n",
       "      <th>8</th>\n",
       "    </tr>\n",
       "  </thead>\n",
       "  <tbody>\n",
       "    <tr>\n",
       "      <th>1</th>\n",
       "      <td>caa93590ad</td>\n",
       "      <td>0.2</td>\n",
       "      <td>0.2</td>\n",
       "      <td>0.9</td>\n",
       "      <td>0.7</td>\n",
       "      <td>0.0</td>\n",
       "      <td>0.0</td>\n",
       "      <td>0.0</td>\n",
       "      <td>0.0</td>\n",
       "      <td>0.0</td>\n",
       "    </tr>\n",
       "    <tr>\n",
       "      <th>16</th>\n",
       "      <td>426dfedb85</td>\n",
       "      <td>0.2</td>\n",
       "      <td>0.2</td>\n",
       "      <td>0.9</td>\n",
       "      <td>0.7</td>\n",
       "      <td>0.0</td>\n",
       "      <td>0.0</td>\n",
       "      <td>0.0</td>\n",
       "      <td>0.0</td>\n",
       "      <td>0.0</td>\n",
       "    </tr>\n",
       "    <tr>\n",
       "      <th>29</th>\n",
       "      <td>80a4f796b4</td>\n",
       "      <td>0.5</td>\n",
       "      <td>0.2</td>\n",
       "      <td>1.0</td>\n",
       "      <td>1.0</td>\n",
       "      <td>0.5</td>\n",
       "      <td>0.2</td>\n",
       "      <td>0.5</td>\n",
       "      <td>0.0</td>\n",
       "      <td>0.2</td>\n",
       "    </tr>\n",
       "  </tbody>\n",
       "</table>\n",
       "</div>"
      ],
      "text/plain": [
       "          hash    0    1    2    3    4    5    6    7    8\n",
       "1   caa93590ad  0.2  0.2  0.9  0.7  0.0  0.0  0.0  0.0  0.0\n",
       "16  426dfedb85  0.2  0.2  0.9  0.7  0.0  0.0  0.0  0.0  0.0\n",
       "29  80a4f796b4  0.5  0.2  1.0  1.0  0.5  0.2  0.5  0.0  0.2"
      ]
     },
     "execution_count": 165,
     "metadata": {},
     "output_type": "execute_result"
    }
   ],
   "source": [
    "gr.get_group(0.2)"
   ]
  },
  {
   "cell_type": "code",
   "execution_count": null,
   "id": "36183a47",
   "metadata": {
    "id": "v-T6w7l_see2"
   },
   "outputs": [],
   "source": []
  },
  {
   "cell_type": "code",
   "execution_count": null,
   "id": "3b2c458a",
   "metadata": {
    "id": "WZ1fMYWfsee2"
   },
   "outputs": [],
   "source": []
  },
  {
   "cell_type": "markdown",
   "id": "ccad61bb",
   "metadata": {
    "id": "z9zkMZDPsee2"
   },
   "source": [
    "### Самый знаменитый датасет от Титаника"
   ]
  },
  {
   "cell_type": "markdown",
   "id": "c8f42b54",
   "metadata": {
    "id": "JupVWAtGsee2"
   },
   "source": [
    "Каждая строчка наборов данных содержит следующие поля:\n",
    "\n",
    "- Pclass — класс пассажира (1 — высший, 2 — средний, 3 — низший);\n",
    "\n",
    "- Name — имя;\n",
    "\n",
    "- Sex — пол;\n",
    "\n",
    "- Age — возраст;\n",
    "\n",
    "- SibSp — количество братьев, сестер, сводных братьев, сводных сестер, супругов на борту титаника;\n",
    "\n",
    "- Parch — количество родителей, детей (в том числе приемных) на борту титаника;\n",
    "\n",
    "- Ticket — номер билета;\n",
    "\n",
    "- Fare — плата за проезд;\n",
    "\n",
    "- Cabin — каюта;\n",
    "\n",
    "- Embarked — порт посадки (C — Шербур; Q — Квинстаун; S — Саутгемптон);\n",
    "\n",
    "- Survived - пассажир выжил или нет.\n",
    "\n",
    "В поле Age приводится количество полных лет. Для детей меньше 1 года — дробное. Если возраст не известен точно, то указано примерное значение в формате xx.5."
   ]
  },
  {
   "cell_type": "code",
   "execution_count": 166,
   "id": "489957b0",
   "metadata": {
    "id": "Z61VFN4wsee2"
   },
   "outputs": [],
   "source": [
    "df = pd.read_csv(\"https://raw.githubusercontent.com/iad34/seminars/master/materials/data_sem1.csv\", sep=\";\")"
   ]
  },
  {
   "cell_type": "code",
   "execution_count": 167,
   "id": "b607258f",
   "metadata": {
    "colab": {
     "base_uri": "https://localhost:8080/"
    },
    "id": "kLDVCAMosee3",
    "outputId": "76ce0b0d-c094-403b-d5c3-b774e92437ad"
   },
   "outputs": [
    {
     "data": {
      "text/plain": [
       "PassengerId      int64\n",
       "Survived         int64\n",
       "Pclass           int64\n",
       "Name            object\n",
       "Sex             object\n",
       "Age            float64\n",
       "SibSp            int64\n",
       "Parch            int64\n",
       "Ticket          object\n",
       "Fare           float64\n",
       "Cabin           object\n",
       "Embarked        object\n",
       "dtype: object"
      ]
     },
     "execution_count": 167,
     "metadata": {},
     "output_type": "execute_result"
    }
   ],
   "source": [
    "#типы данных \n",
    "df.dtypes"
   ]
  },
  {
   "cell_type": "code",
   "execution_count": 168,
   "id": "62bd49b1",
   "metadata": {
    "colab": {
     "base_uri": "https://localhost:8080/"
    },
    "id": "CaCsNZX8see3",
    "outputId": "87de638f-4c60-47ee-ad7c-d476d5b9db04"
   },
   "outputs": [
    {
     "data": {
      "text/plain": [
       "7256"
      ]
     },
     "execution_count": 168,
     "metadata": {},
     "output_type": "execute_result"
    }
   ],
   "source": [
    "#сравним сколько место занимает столбец \n",
    "df['SibSp'].astype('int64').memory_usage()"
   ]
  },
  {
   "cell_type": "code",
   "execution_count": 169,
   "id": "9a39cce7",
   "metadata": {
    "colab": {
     "base_uri": "https://localhost:8080/"
    },
    "id": "xygrNgSesee3",
    "outputId": "d861cef5-94e3-43ba-de0b-b992994377e6"
   },
   "outputs": [
    {
     "data": {
      "text/plain": [
       "1019"
      ]
     },
     "execution_count": 169,
     "metadata": {},
     "output_type": "execute_result"
    }
   ],
   "source": [
    "df['SibSp'].astype('int8').memory_usage()"
   ]
  },
  {
   "cell_type": "code",
   "execution_count": 170,
   "id": "c54c6c5f",
   "metadata": {
    "colab": {
     "base_uri": "https://localhost:8080/"
    },
    "id": "YOZ4KEh6QI9I",
    "outputId": "df43c14e-8538-4e8b-e329-418744095301"
   },
   "outputs": [
    {
     "data": {
      "text/plain": [
       "(891, 12)"
      ]
     },
     "execution_count": 170,
     "metadata": {},
     "output_type": "execute_result"
    }
   ],
   "source": [
    "df.shape"
   ]
  },
  {
   "cell_type": "code",
   "execution_count": 171,
   "id": "10f75351",
   "metadata": {
    "colab": {
     "base_uri": "https://localhost:8080/",
     "height": 266
    },
    "id": "EOAwAR7uQ3Fr",
    "outputId": "d77ee180-2cd6-48d4-df1a-b1bc21bb0ed4"
   },
   "outputs": [
    {
     "data": {
      "text/html": [
       "<div>\n",
       "<style scoped>\n",
       "    .dataframe tbody tr th:only-of-type {\n",
       "        vertical-align: middle;\n",
       "    }\n",
       "\n",
       "    .dataframe tbody tr th {\n",
       "        vertical-align: top;\n",
       "    }\n",
       "\n",
       "    .dataframe thead th {\n",
       "        text-align: right;\n",
       "    }\n",
       "</style>\n",
       "<table border=\"1\" class=\"dataframe\">\n",
       "  <thead>\n",
       "    <tr style=\"text-align: right;\">\n",
       "      <th></th>\n",
       "      <th>PassengerId</th>\n",
       "      <th>Survived</th>\n",
       "      <th>Pclass</th>\n",
       "      <th>Name</th>\n",
       "      <th>Sex</th>\n",
       "      <th>Age</th>\n",
       "      <th>SibSp</th>\n",
       "      <th>Parch</th>\n",
       "      <th>Ticket</th>\n",
       "      <th>Fare</th>\n",
       "      <th>Cabin</th>\n",
       "      <th>Embarked</th>\n",
       "    </tr>\n",
       "  </thead>\n",
       "  <tbody>\n",
       "    <tr>\n",
       "      <th>0</th>\n",
       "      <td>1</td>\n",
       "      <td>0</td>\n",
       "      <td>3</td>\n",
       "      <td>Braund; Mr. Owen Harris</td>\n",
       "      <td>male</td>\n",
       "      <td>22.0</td>\n",
       "      <td>1</td>\n",
       "      <td>0</td>\n",
       "      <td>A/5 21171</td>\n",
       "      <td>7.2500</td>\n",
       "      <td>NaN</td>\n",
       "      <td>S</td>\n",
       "    </tr>\n",
       "    <tr>\n",
       "      <th>1</th>\n",
       "      <td>2</td>\n",
       "      <td>1</td>\n",
       "      <td>1</td>\n",
       "      <td>Cumings; Mrs. John Bradley (Florence Briggs Th...</td>\n",
       "      <td>female</td>\n",
       "      <td>38.0</td>\n",
       "      <td>1</td>\n",
       "      <td>0</td>\n",
       "      <td>PC 17599</td>\n",
       "      <td>71.2833</td>\n",
       "      <td>C85</td>\n",
       "      <td>C</td>\n",
       "    </tr>\n",
       "    <tr>\n",
       "      <th>2</th>\n",
       "      <td>3</td>\n",
       "      <td>1</td>\n",
       "      <td>3</td>\n",
       "      <td>Heikkinen; Miss. Laina</td>\n",
       "      <td>female</td>\n",
       "      <td>26.0</td>\n",
       "      <td>0</td>\n",
       "      <td>0</td>\n",
       "      <td>STON/O2. 3101282</td>\n",
       "      <td>7.9250</td>\n",
       "      <td>NaN</td>\n",
       "      <td>S</td>\n",
       "    </tr>\n",
       "    <tr>\n",
       "      <th>3</th>\n",
       "      <td>4</td>\n",
       "      <td>1</td>\n",
       "      <td>1</td>\n",
       "      <td>Futrelle; Mrs. Jacques Heath (Lily May Peel)</td>\n",
       "      <td>female</td>\n",
       "      <td>35.0</td>\n",
       "      <td>1</td>\n",
       "      <td>0</td>\n",
       "      <td>113803</td>\n",
       "      <td>53.1000</td>\n",
       "      <td>C123</td>\n",
       "      <td>S</td>\n",
       "    </tr>\n",
       "    <tr>\n",
       "      <th>4</th>\n",
       "      <td>5</td>\n",
       "      <td>0</td>\n",
       "      <td>3</td>\n",
       "      <td>Allen; Mr. William Henry</td>\n",
       "      <td>male</td>\n",
       "      <td>35.0</td>\n",
       "      <td>0</td>\n",
       "      <td>0</td>\n",
       "      <td>373450</td>\n",
       "      <td>8.0500</td>\n",
       "      <td>NaN</td>\n",
       "      <td>S</td>\n",
       "    </tr>\n",
       "  </tbody>\n",
       "</table>\n",
       "</div>"
      ],
      "text/plain": [
       "   PassengerId  Survived  Pclass  \\\n",
       "0            1         0       3   \n",
       "1            2         1       1   \n",
       "2            3         1       3   \n",
       "3            4         1       1   \n",
       "4            5         0       3   \n",
       "\n",
       "                                                Name     Sex   Age  SibSp  \\\n",
       "0                            Braund; Mr. Owen Harris    male  22.0      1   \n",
       "1  Cumings; Mrs. John Bradley (Florence Briggs Th...  female  38.0      1   \n",
       "2                             Heikkinen; Miss. Laina  female  26.0      0   \n",
       "3       Futrelle; Mrs. Jacques Heath (Lily May Peel)  female  35.0      1   \n",
       "4                           Allen; Mr. William Henry    male  35.0      0   \n",
       "\n",
       "   Parch            Ticket     Fare Cabin Embarked  \n",
       "0      0         A/5 21171   7.2500   NaN        S  \n",
       "1      0          PC 17599  71.2833   C85        C  \n",
       "2      0  STON/O2. 3101282   7.9250   NaN        S  \n",
       "3      0            113803  53.1000  C123        S  \n",
       "4      0            373450   8.0500   NaN        S  "
      ]
     },
     "execution_count": 171,
     "metadata": {},
     "output_type": "execute_result"
    }
   ],
   "source": [
    "df.head()"
   ]
  },
  {
   "cell_type": "code",
   "execution_count": 172,
   "id": "9c819003",
   "metadata": {
    "colab": {
     "base_uri": "https://localhost:8080/",
     "height": 313
    },
    "id": "WOOG5Zagsee3",
    "outputId": "06b70987-cb22-4007-9143-529fded57245"
   },
   "outputs": [
    {
     "data": {
      "text/html": [
       "<div>\n",
       "<style scoped>\n",
       "    .dataframe tbody tr th:only-of-type {\n",
       "        vertical-align: middle;\n",
       "    }\n",
       "\n",
       "    .dataframe tbody tr th {\n",
       "        vertical-align: top;\n",
       "    }\n",
       "\n",
       "    .dataframe thead th {\n",
       "        text-align: right;\n",
       "    }\n",
       "</style>\n",
       "<table border=\"1\" class=\"dataframe\">\n",
       "  <thead>\n",
       "    <tr style=\"text-align: right;\">\n",
       "      <th></th>\n",
       "      <th>PassengerId</th>\n",
       "      <th>Survived</th>\n",
       "      <th>Pclass</th>\n",
       "      <th>Age</th>\n",
       "      <th>SibSp</th>\n",
       "      <th>Parch</th>\n",
       "      <th>Fare</th>\n",
       "    </tr>\n",
       "  </thead>\n",
       "  <tbody>\n",
       "    <tr>\n",
       "      <th>count</th>\n",
       "      <td>891.000000</td>\n",
       "      <td>891.000000</td>\n",
       "      <td>891.000000</td>\n",
       "      <td>714.000000</td>\n",
       "      <td>891.000000</td>\n",
       "      <td>891.000000</td>\n",
       "      <td>891.000000</td>\n",
       "    </tr>\n",
       "    <tr>\n",
       "      <th>mean</th>\n",
       "      <td>446.000000</td>\n",
       "      <td>0.383838</td>\n",
       "      <td>2.308642</td>\n",
       "      <td>29.699118</td>\n",
       "      <td>0.523008</td>\n",
       "      <td>0.381594</td>\n",
       "      <td>32.204208</td>\n",
       "    </tr>\n",
       "    <tr>\n",
       "      <th>std</th>\n",
       "      <td>257.353842</td>\n",
       "      <td>0.486592</td>\n",
       "      <td>0.836071</td>\n",
       "      <td>14.526497</td>\n",
       "      <td>1.102743</td>\n",
       "      <td>0.806057</td>\n",
       "      <td>49.693429</td>\n",
       "    </tr>\n",
       "    <tr>\n",
       "      <th>min</th>\n",
       "      <td>1.000000</td>\n",
       "      <td>0.000000</td>\n",
       "      <td>1.000000</td>\n",
       "      <td>0.420000</td>\n",
       "      <td>0.000000</td>\n",
       "      <td>0.000000</td>\n",
       "      <td>0.000000</td>\n",
       "    </tr>\n",
       "    <tr>\n",
       "      <th>25%</th>\n",
       "      <td>223.500000</td>\n",
       "      <td>0.000000</td>\n",
       "      <td>2.000000</td>\n",
       "      <td>20.125000</td>\n",
       "      <td>0.000000</td>\n",
       "      <td>0.000000</td>\n",
       "      <td>7.910400</td>\n",
       "    </tr>\n",
       "    <tr>\n",
       "      <th>50%</th>\n",
       "      <td>446.000000</td>\n",
       "      <td>0.000000</td>\n",
       "      <td>3.000000</td>\n",
       "      <td>28.000000</td>\n",
       "      <td>0.000000</td>\n",
       "      <td>0.000000</td>\n",
       "      <td>14.454200</td>\n",
       "    </tr>\n",
       "    <tr>\n",
       "      <th>75%</th>\n",
       "      <td>668.500000</td>\n",
       "      <td>1.000000</td>\n",
       "      <td>3.000000</td>\n",
       "      <td>38.000000</td>\n",
       "      <td>1.000000</td>\n",
       "      <td>0.000000</td>\n",
       "      <td>31.000000</td>\n",
       "    </tr>\n",
       "    <tr>\n",
       "      <th>max</th>\n",
       "      <td>891.000000</td>\n",
       "      <td>1.000000</td>\n",
       "      <td>3.000000</td>\n",
       "      <td>80.000000</td>\n",
       "      <td>8.000000</td>\n",
       "      <td>6.000000</td>\n",
       "      <td>512.329200</td>\n",
       "    </tr>\n",
       "  </tbody>\n",
       "</table>\n",
       "</div>"
      ],
      "text/plain": [
       "       PassengerId    Survived      Pclass         Age       SibSp  \\\n",
       "count   891.000000  891.000000  891.000000  714.000000  891.000000   \n",
       "mean    446.000000    0.383838    2.308642   29.699118    0.523008   \n",
       "std     257.353842    0.486592    0.836071   14.526497    1.102743   \n",
       "min       1.000000    0.000000    1.000000    0.420000    0.000000   \n",
       "25%     223.500000    0.000000    2.000000   20.125000    0.000000   \n",
       "50%     446.000000    0.000000    3.000000   28.000000    0.000000   \n",
       "75%     668.500000    1.000000    3.000000   38.000000    1.000000   \n",
       "max     891.000000    1.000000    3.000000   80.000000    8.000000   \n",
       "\n",
       "            Parch        Fare  \n",
       "count  891.000000  891.000000  \n",
       "mean     0.381594   32.204208  \n",
       "std      0.806057   49.693429  \n",
       "min      0.000000    0.000000  \n",
       "25%      0.000000    7.910400  \n",
       "50%      0.000000   14.454200  \n",
       "75%      0.000000   31.000000  \n",
       "max      6.000000  512.329200  "
      ]
     },
     "execution_count": 172,
     "metadata": {},
     "output_type": "execute_result"
    }
   ],
   "source": [
    "#характеристики датасета\n",
    "df.describe()"
   ]
  },
  {
   "cell_type": "code",
   "execution_count": 173,
   "id": "34ed3337",
   "metadata": {
    "colab": {
     "base_uri": "https://localhost:8080/",
     "height": 191
    },
    "id": "HJ3-zM9yRI92",
    "outputId": "a6e8afcf-aea5-4a5c-92ad-4f30a20272ed"
   },
   "outputs": [
    {
     "data": {
      "text/html": [
       "<div>\n",
       "<style scoped>\n",
       "    .dataframe tbody tr th:only-of-type {\n",
       "        vertical-align: middle;\n",
       "    }\n",
       "\n",
       "    .dataframe tbody tr th {\n",
       "        vertical-align: top;\n",
       "    }\n",
       "\n",
       "    .dataframe thead th {\n",
       "        text-align: right;\n",
       "    }\n",
       "</style>\n",
       "<table border=\"1\" class=\"dataframe\">\n",
       "  <thead>\n",
       "    <tr style=\"text-align: right;\">\n",
       "      <th></th>\n",
       "      <th>Name</th>\n",
       "      <th>Sex</th>\n",
       "      <th>Ticket</th>\n",
       "      <th>Cabin</th>\n",
       "      <th>Embarked</th>\n",
       "    </tr>\n",
       "  </thead>\n",
       "  <tbody>\n",
       "    <tr>\n",
       "      <th>count</th>\n",
       "      <td>891</td>\n",
       "      <td>891</td>\n",
       "      <td>891</td>\n",
       "      <td>204</td>\n",
       "      <td>889</td>\n",
       "    </tr>\n",
       "    <tr>\n",
       "      <th>unique</th>\n",
       "      <td>891</td>\n",
       "      <td>3</td>\n",
       "      <td>681</td>\n",
       "      <td>147</td>\n",
       "      <td>3</td>\n",
       "    </tr>\n",
       "    <tr>\n",
       "      <th>top</th>\n",
       "      <td>Braund; Mr. Owen Harris</td>\n",
       "      <td>male</td>\n",
       "      <td>347082</td>\n",
       "      <td>B96 B98</td>\n",
       "      <td>S</td>\n",
       "    </tr>\n",
       "    <tr>\n",
       "      <th>freq</th>\n",
       "      <td>1</td>\n",
       "      <td>574</td>\n",
       "      <td>7</td>\n",
       "      <td>4</td>\n",
       "      <td>644</td>\n",
       "    </tr>\n",
       "  </tbody>\n",
       "</table>\n",
       "</div>"
      ],
      "text/plain": [
       "                           Name   Sex  Ticket    Cabin Embarked\n",
       "count                       891   891     891      204      889\n",
       "unique                      891     3     681      147        3\n",
       "top     Braund; Mr. Owen Harris  male  347082  B96 B98        S\n",
       "freq                          1   574       7        4      644"
      ]
     },
     "execution_count": 173,
     "metadata": {},
     "output_type": "execute_result"
    }
   ],
   "source": [
    "df.describe(include='object')"
   ]
  },
  {
   "cell_type": "code",
   "execution_count": 174,
   "id": "af68cdb6",
   "metadata": {
    "colab": {
     "base_uri": "https://localhost:8080/"
    },
    "id": "xD3saDhBRl3Q",
    "outputId": "bf10112b-0a8d-40d8-a4ac-374a123fc28f"
   },
   "outputs": [
    {
     "data": {
      "text/plain": [
       "male       574\n",
       "female     312\n",
       "unknown      5\n",
       "Name: Sex, dtype: int64"
      ]
     },
     "execution_count": 174,
     "metadata": {},
     "output_type": "execute_result"
    }
   ],
   "source": [
    "df['Sex'].value_counts()"
   ]
  },
  {
   "cell_type": "code",
   "execution_count": 175,
   "id": "ec21904a",
   "metadata": {
    "colab": {
     "base_uri": "https://localhost:8080/",
     "height": 221
    },
    "id": "PoG6gbk1Rpzd",
    "outputId": "247edd63-7034-4ac1-c69f-3297fe3a9abb"
   },
   "outputs": [
    {
     "data": {
      "text/html": [
       "<div>\n",
       "<style scoped>\n",
       "    .dataframe tbody tr th:only-of-type {\n",
       "        vertical-align: middle;\n",
       "    }\n",
       "\n",
       "    .dataframe tbody tr th {\n",
       "        vertical-align: top;\n",
       "    }\n",
       "\n",
       "    .dataframe thead th {\n",
       "        text-align: right;\n",
       "    }\n",
       "</style>\n",
       "<table border=\"1\" class=\"dataframe\">\n",
       "  <thead>\n",
       "    <tr style=\"text-align: right;\">\n",
       "      <th></th>\n",
       "      <th>PassengerId</th>\n",
       "      <th>Survived</th>\n",
       "      <th>Pclass</th>\n",
       "      <th>Name</th>\n",
       "      <th>Sex</th>\n",
       "      <th>Age</th>\n",
       "      <th>SibSp</th>\n",
       "      <th>Parch</th>\n",
       "      <th>Ticket</th>\n",
       "      <th>Fare</th>\n",
       "      <th>Cabin</th>\n",
       "      <th>Embarked</th>\n",
       "    </tr>\n",
       "  </thead>\n",
       "  <tbody>\n",
       "    <tr>\n",
       "      <th>5</th>\n",
       "      <td>6</td>\n",
       "      <td>0</td>\n",
       "      <td>3</td>\n",
       "      <td>Moran; Mr. James</td>\n",
       "      <td>unknown</td>\n",
       "      <td>NaN</td>\n",
       "      <td>0</td>\n",
       "      <td>0</td>\n",
       "      <td>330877</td>\n",
       "      <td>8.4583</td>\n",
       "      <td>NaN</td>\n",
       "      <td>Q</td>\n",
       "    </tr>\n",
       "    <tr>\n",
       "      <th>13</th>\n",
       "      <td>14</td>\n",
       "      <td>0</td>\n",
       "      <td>3</td>\n",
       "      <td>Andersson; Mr. Anders Johan</td>\n",
       "      <td>unknown</td>\n",
       "      <td>39.00</td>\n",
       "      <td>1</td>\n",
       "      <td>5</td>\n",
       "      <td>347082</td>\n",
       "      <td>31.2750</td>\n",
       "      <td>NaN</td>\n",
       "      <td>S</td>\n",
       "    </tr>\n",
       "    <tr>\n",
       "      <th>28</th>\n",
       "      <td>29</td>\n",
       "      <td>1</td>\n",
       "      <td>3</td>\n",
       "      <td>O'Dwyer; Miss. Ellen \"Nellie\"</td>\n",
       "      <td>unknown</td>\n",
       "      <td>NaN</td>\n",
       "      <td>0</td>\n",
       "      <td>0</td>\n",
       "      <td>330959</td>\n",
       "      <td>7.8792</td>\n",
       "      <td>NaN</td>\n",
       "      <td>Q</td>\n",
       "    </tr>\n",
       "    <tr>\n",
       "      <th>49</th>\n",
       "      <td>50</td>\n",
       "      <td>0</td>\n",
       "      <td>3</td>\n",
       "      <td>Arnold-Franchi; Mrs. Josef (Josefine Franchi)</td>\n",
       "      <td>unknown</td>\n",
       "      <td>18.00</td>\n",
       "      <td>1</td>\n",
       "      <td>0</td>\n",
       "      <td>349237</td>\n",
       "      <td>17.8000</td>\n",
       "      <td>NaN</td>\n",
       "      <td>S</td>\n",
       "    </tr>\n",
       "    <tr>\n",
       "      <th>78</th>\n",
       "      <td>79</td>\n",
       "      <td>1</td>\n",
       "      <td>2</td>\n",
       "      <td>Caldwell; Master. Alden Gates</td>\n",
       "      <td>unknown</td>\n",
       "      <td>0.83</td>\n",
       "      <td>0</td>\n",
       "      <td>2</td>\n",
       "      <td>248738</td>\n",
       "      <td>29.0000</td>\n",
       "      <td>NaN</td>\n",
       "      <td>S</td>\n",
       "    </tr>\n",
       "  </tbody>\n",
       "</table>\n",
       "</div>"
      ],
      "text/plain": [
       "    PassengerId  Survived  Pclass  \\\n",
       "5             6         0       3   \n",
       "13           14         0       3   \n",
       "28           29         1       3   \n",
       "49           50         0       3   \n",
       "78           79         1       2   \n",
       "\n",
       "                                             Name      Sex    Age  SibSp  \\\n",
       "5                                Moran; Mr. James  unknown    NaN      0   \n",
       "13                    Andersson; Mr. Anders Johan  unknown  39.00      1   \n",
       "28                  O'Dwyer; Miss. Ellen \"Nellie\"  unknown    NaN      0   \n",
       "49  Arnold-Franchi; Mrs. Josef (Josefine Franchi)  unknown  18.00      1   \n",
       "78                  Caldwell; Master. Alden Gates  unknown   0.83      0   \n",
       "\n",
       "    Parch  Ticket     Fare Cabin Embarked  \n",
       "5       0  330877   8.4583   NaN        Q  \n",
       "13      5  347082  31.2750   NaN        S  \n",
       "28      0  330959   7.8792   NaN        Q  \n",
       "49      0  349237  17.8000   NaN        S  \n",
       "78      2  248738  29.0000   NaN        S  "
      ]
     },
     "execution_count": 175,
     "metadata": {},
     "output_type": "execute_result"
    }
   ],
   "source": [
    "df[df.Sex == 'unknown']"
   ]
  },
  {
   "cell_type": "code",
   "execution_count": 176,
   "id": "7a5689f1",
   "metadata": {
    "colab": {
     "base_uri": "https://localhost:8080/",
     "height": 282
    },
    "id": "oSFIiutPsee3",
    "outputId": "d94ead6e-0ed4-48d1-be81-bd90fbccf3ab"
   },
   "outputs": [
    {
     "data": {
      "text/html": [
       "<div>\n",
       "<style scoped>\n",
       "    .dataframe tbody tr th:only-of-type {\n",
       "        vertical-align: middle;\n",
       "    }\n",
       "\n",
       "    .dataframe tbody tr th {\n",
       "        vertical-align: top;\n",
       "    }\n",
       "\n",
       "    .dataframe thead th {\n",
       "        text-align: right;\n",
       "    }\n",
       "</style>\n",
       "<table border=\"1\" class=\"dataframe\">\n",
       "  <thead>\n",
       "    <tr style=\"text-align: right;\">\n",
       "      <th></th>\n",
       "      <th>PassengerId</th>\n",
       "      <th>Survived</th>\n",
       "      <th>Pclass</th>\n",
       "      <th>Age</th>\n",
       "      <th>SibSp</th>\n",
       "      <th>Parch</th>\n",
       "      <th>Fare</th>\n",
       "    </tr>\n",
       "  </thead>\n",
       "  <tbody>\n",
       "    <tr>\n",
       "      <th>PassengerId</th>\n",
       "      <td>1.000000</td>\n",
       "      <td>-0.005007</td>\n",
       "      <td>-0.035144</td>\n",
       "      <td>0.036847</td>\n",
       "      <td>-0.057527</td>\n",
       "      <td>-0.001652</td>\n",
       "      <td>0.012658</td>\n",
       "    </tr>\n",
       "    <tr>\n",
       "      <th>Survived</th>\n",
       "      <td>-0.005007</td>\n",
       "      <td>1.000000</td>\n",
       "      <td>-0.338481</td>\n",
       "      <td>-0.077221</td>\n",
       "      <td>-0.035322</td>\n",
       "      <td>0.081629</td>\n",
       "      <td>0.257307</td>\n",
       "    </tr>\n",
       "    <tr>\n",
       "      <th>Pclass</th>\n",
       "      <td>-0.035144</td>\n",
       "      <td>-0.338481</td>\n",
       "      <td>1.000000</td>\n",
       "      <td>-0.369226</td>\n",
       "      <td>0.083081</td>\n",
       "      <td>0.018443</td>\n",
       "      <td>-0.549500</td>\n",
       "    </tr>\n",
       "    <tr>\n",
       "      <th>Age</th>\n",
       "      <td>0.036847</td>\n",
       "      <td>-0.077221</td>\n",
       "      <td>-0.369226</td>\n",
       "      <td>1.000000</td>\n",
       "      <td>-0.308247</td>\n",
       "      <td>-0.189119</td>\n",
       "      <td>0.096067</td>\n",
       "    </tr>\n",
       "    <tr>\n",
       "      <th>SibSp</th>\n",
       "      <td>-0.057527</td>\n",
       "      <td>-0.035322</td>\n",
       "      <td>0.083081</td>\n",
       "      <td>-0.308247</td>\n",
       "      <td>1.000000</td>\n",
       "      <td>0.414838</td>\n",
       "      <td>0.159651</td>\n",
       "    </tr>\n",
       "    <tr>\n",
       "      <th>Parch</th>\n",
       "      <td>-0.001652</td>\n",
       "      <td>0.081629</td>\n",
       "      <td>0.018443</td>\n",
       "      <td>-0.189119</td>\n",
       "      <td>0.414838</td>\n",
       "      <td>1.000000</td>\n",
       "      <td>0.216225</td>\n",
       "    </tr>\n",
       "    <tr>\n",
       "      <th>Fare</th>\n",
       "      <td>0.012658</td>\n",
       "      <td>0.257307</td>\n",
       "      <td>-0.549500</td>\n",
       "      <td>0.096067</td>\n",
       "      <td>0.159651</td>\n",
       "      <td>0.216225</td>\n",
       "      <td>1.000000</td>\n",
       "    </tr>\n",
       "  </tbody>\n",
       "</table>\n",
       "</div>"
      ],
      "text/plain": [
       "             PassengerId  Survived    Pclass       Age     SibSp     Parch  \\\n",
       "PassengerId     1.000000 -0.005007 -0.035144  0.036847 -0.057527 -0.001652   \n",
       "Survived       -0.005007  1.000000 -0.338481 -0.077221 -0.035322  0.081629   \n",
       "Pclass         -0.035144 -0.338481  1.000000 -0.369226  0.083081  0.018443   \n",
       "Age             0.036847 -0.077221 -0.369226  1.000000 -0.308247 -0.189119   \n",
       "SibSp          -0.057527 -0.035322  0.083081 -0.308247  1.000000  0.414838   \n",
       "Parch          -0.001652  0.081629  0.018443 -0.189119  0.414838  1.000000   \n",
       "Fare            0.012658  0.257307 -0.549500  0.096067  0.159651  0.216225   \n",
       "\n",
       "                 Fare  \n",
       "PassengerId  0.012658  \n",
       "Survived     0.257307  \n",
       "Pclass      -0.549500  \n",
       "Age          0.096067  \n",
       "SibSp        0.159651  \n",
       "Parch        0.216225  \n",
       "Fare         1.000000  "
      ]
     },
     "execution_count": 176,
     "metadata": {},
     "output_type": "execute_result"
    }
   ],
   "source": [
    "#корреляция Пирсона между столбцами = мера линейной зависимости\n",
    "df.corr(method = 'pearson')"
   ]
  },
  {
   "cell_type": "code",
   "execution_count": 177,
   "id": "e59a2375",
   "metadata": {
    "colab": {
     "base_uri": "https://localhost:8080/",
     "height": 282
    },
    "id": "Dd2olD1BTYeX",
    "outputId": "7db9aa37-04aa-4c94-ef70-4ce754443a2d"
   },
   "outputs": [
    {
     "data": {
      "text/html": [
       "<div>\n",
       "<style scoped>\n",
       "    .dataframe tbody tr th:only-of-type {\n",
       "        vertical-align: middle;\n",
       "    }\n",
       "\n",
       "    .dataframe tbody tr th {\n",
       "        vertical-align: top;\n",
       "    }\n",
       "\n",
       "    .dataframe thead th {\n",
       "        text-align: right;\n",
       "    }\n",
       "</style>\n",
       "<table border=\"1\" class=\"dataframe\">\n",
       "  <thead>\n",
       "    <tr style=\"text-align: right;\">\n",
       "      <th></th>\n",
       "      <th>PassengerId</th>\n",
       "      <th>Survived</th>\n",
       "      <th>Pclass</th>\n",
       "      <th>Age</th>\n",
       "      <th>SibSp</th>\n",
       "      <th>Parch</th>\n",
       "      <th>Fare</th>\n",
       "    </tr>\n",
       "  </thead>\n",
       "  <tbody>\n",
       "    <tr>\n",
       "      <th>PassengerId</th>\n",
       "      <td>1.000000</td>\n",
       "      <td>-0.005007</td>\n",
       "      <td>-0.034091</td>\n",
       "      <td>0.041010</td>\n",
       "      <td>-0.061161</td>\n",
       "      <td>0.001235</td>\n",
       "      <td>-0.013975</td>\n",
       "    </tr>\n",
       "    <tr>\n",
       "      <th>Survived</th>\n",
       "      <td>-0.005007</td>\n",
       "      <td>1.000000</td>\n",
       "      <td>-0.339668</td>\n",
       "      <td>-0.052565</td>\n",
       "      <td>0.088879</td>\n",
       "      <td>0.138266</td>\n",
       "      <td>0.323736</td>\n",
       "    </tr>\n",
       "    <tr>\n",
       "      <th>Pclass</th>\n",
       "      <td>-0.034091</td>\n",
       "      <td>-0.339668</td>\n",
       "      <td>1.000000</td>\n",
       "      <td>-0.361666</td>\n",
       "      <td>-0.043019</td>\n",
       "      <td>-0.022801</td>\n",
       "      <td>-0.688032</td>\n",
       "    </tr>\n",
       "    <tr>\n",
       "      <th>Age</th>\n",
       "      <td>0.041010</td>\n",
       "      <td>-0.052565</td>\n",
       "      <td>-0.361666</td>\n",
       "      <td>1.000000</td>\n",
       "      <td>-0.182061</td>\n",
       "      <td>-0.254212</td>\n",
       "      <td>0.135051</td>\n",
       "    </tr>\n",
       "    <tr>\n",
       "      <th>SibSp</th>\n",
       "      <td>-0.061161</td>\n",
       "      <td>0.088879</td>\n",
       "      <td>-0.043019</td>\n",
       "      <td>-0.182061</td>\n",
       "      <td>1.000000</td>\n",
       "      <td>0.450014</td>\n",
       "      <td>0.447113</td>\n",
       "    </tr>\n",
       "    <tr>\n",
       "      <th>Parch</th>\n",
       "      <td>0.001235</td>\n",
       "      <td>0.138266</td>\n",
       "      <td>-0.022801</td>\n",
       "      <td>-0.254212</td>\n",
       "      <td>0.450014</td>\n",
       "      <td>1.000000</td>\n",
       "      <td>0.410074</td>\n",
       "    </tr>\n",
       "    <tr>\n",
       "      <th>Fare</th>\n",
       "      <td>-0.013975</td>\n",
       "      <td>0.323736</td>\n",
       "      <td>-0.688032</td>\n",
       "      <td>0.135051</td>\n",
       "      <td>0.447113</td>\n",
       "      <td>0.410074</td>\n",
       "      <td>1.000000</td>\n",
       "    </tr>\n",
       "  </tbody>\n",
       "</table>\n",
       "</div>"
      ],
      "text/plain": [
       "             PassengerId  Survived    Pclass       Age     SibSp     Parch  \\\n",
       "PassengerId     1.000000 -0.005007 -0.034091  0.041010 -0.061161  0.001235   \n",
       "Survived       -0.005007  1.000000 -0.339668 -0.052565  0.088879  0.138266   \n",
       "Pclass         -0.034091 -0.339668  1.000000 -0.361666 -0.043019 -0.022801   \n",
       "Age             0.041010 -0.052565 -0.361666  1.000000 -0.182061 -0.254212   \n",
       "SibSp          -0.061161  0.088879 -0.043019 -0.182061  1.000000  0.450014   \n",
       "Parch           0.001235  0.138266 -0.022801 -0.254212  0.450014  1.000000   \n",
       "Fare           -0.013975  0.323736 -0.688032  0.135051  0.447113  0.410074   \n",
       "\n",
       "                 Fare  \n",
       "PassengerId -0.013975  \n",
       "Survived     0.323736  \n",
       "Pclass      -0.688032  \n",
       "Age          0.135051  \n",
       "SibSp        0.447113  \n",
       "Parch        0.410074  \n",
       "Fare         1.000000  "
      ]
     },
     "execution_count": 177,
     "metadata": {},
     "output_type": "execute_result"
    }
   ],
   "source": [
    "df.corr(method='spearman') # наличие какой-то зависимости (не обязательно линейной) между столбцами"
   ]
  },
  {
   "cell_type": "code",
   "execution_count": 178,
   "id": "8f60103c",
   "metadata": {
    "colab": {
     "base_uri": "https://localhost:8080/",
     "height": 266
    },
    "id": "7WMT0lhysee3",
    "outputId": "e39e1a8f-1093-4516-fd71-2fe3e5230b35"
   },
   "outputs": [
    {
     "data": {
      "text/html": [
       "<div>\n",
       "<style scoped>\n",
       "    .dataframe tbody tr th:only-of-type {\n",
       "        vertical-align: middle;\n",
       "    }\n",
       "\n",
       "    .dataframe tbody tr th {\n",
       "        vertical-align: top;\n",
       "    }\n",
       "\n",
       "    .dataframe thead th {\n",
       "        text-align: right;\n",
       "    }\n",
       "</style>\n",
       "<table border=\"1\" class=\"dataframe\">\n",
       "  <thead>\n",
       "    <tr style=\"text-align: right;\">\n",
       "      <th></th>\n",
       "      <th>PassengerId</th>\n",
       "      <th>Survived</th>\n",
       "      <th>Pclass</th>\n",
       "      <th>Name</th>\n",
       "      <th>Sex</th>\n",
       "      <th>Age</th>\n",
       "      <th>SibSp</th>\n",
       "      <th>Parch</th>\n",
       "      <th>Ticket</th>\n",
       "      <th>Fare</th>\n",
       "      <th>Cabin</th>\n",
       "      <th>Embarked</th>\n",
       "    </tr>\n",
       "  </thead>\n",
       "  <tbody>\n",
       "    <tr>\n",
       "      <th>0</th>\n",
       "      <td>1</td>\n",
       "      <td>0</td>\n",
       "      <td>3</td>\n",
       "      <td>Braund; Mr. Owen Harris</td>\n",
       "      <td>male</td>\n",
       "      <td>22.0</td>\n",
       "      <td>1</td>\n",
       "      <td>0</td>\n",
       "      <td>A/5 21171</td>\n",
       "      <td>7.2500</td>\n",
       "      <td>NaN</td>\n",
       "      <td>S</td>\n",
       "    </tr>\n",
       "    <tr>\n",
       "      <th>1</th>\n",
       "      <td>2</td>\n",
       "      <td>1</td>\n",
       "      <td>1</td>\n",
       "      <td>Cumings; Mrs. John Bradley (Florence Briggs Th...</td>\n",
       "      <td>female</td>\n",
       "      <td>38.0</td>\n",
       "      <td>1</td>\n",
       "      <td>0</td>\n",
       "      <td>PC 17599</td>\n",
       "      <td>71.2833</td>\n",
       "      <td>C85</td>\n",
       "      <td>C</td>\n",
       "    </tr>\n",
       "    <tr>\n",
       "      <th>2</th>\n",
       "      <td>3</td>\n",
       "      <td>1</td>\n",
       "      <td>3</td>\n",
       "      <td>Heikkinen; Miss. Laina</td>\n",
       "      <td>female</td>\n",
       "      <td>26.0</td>\n",
       "      <td>0</td>\n",
       "      <td>0</td>\n",
       "      <td>STON/O2. 3101282</td>\n",
       "      <td>7.9250</td>\n",
       "      <td>NaN</td>\n",
       "      <td>S</td>\n",
       "    </tr>\n",
       "    <tr>\n",
       "      <th>3</th>\n",
       "      <td>4</td>\n",
       "      <td>1</td>\n",
       "      <td>1</td>\n",
       "      <td>Futrelle; Mrs. Jacques Heath (Lily May Peel)</td>\n",
       "      <td>female</td>\n",
       "      <td>35.0</td>\n",
       "      <td>1</td>\n",
       "      <td>0</td>\n",
       "      <td>113803</td>\n",
       "      <td>53.1000</td>\n",
       "      <td>C123</td>\n",
       "      <td>S</td>\n",
       "    </tr>\n",
       "    <tr>\n",
       "      <th>4</th>\n",
       "      <td>5</td>\n",
       "      <td>0</td>\n",
       "      <td>3</td>\n",
       "      <td>Allen; Mr. William Henry</td>\n",
       "      <td>male</td>\n",
       "      <td>35.0</td>\n",
       "      <td>0</td>\n",
       "      <td>0</td>\n",
       "      <td>373450</td>\n",
       "      <td>8.0500</td>\n",
       "      <td>NaN</td>\n",
       "      <td>S</td>\n",
       "    </tr>\n",
       "  </tbody>\n",
       "</table>\n",
       "</div>"
      ],
      "text/plain": [
       "   PassengerId  Survived  Pclass  \\\n",
       "0            1         0       3   \n",
       "1            2         1       1   \n",
       "2            3         1       3   \n",
       "3            4         1       1   \n",
       "4            5         0       3   \n",
       "\n",
       "                                                Name     Sex   Age  SibSp  \\\n",
       "0                            Braund; Mr. Owen Harris    male  22.0      1   \n",
       "1  Cumings; Mrs. John Bradley (Florence Briggs Th...  female  38.0      1   \n",
       "2                             Heikkinen; Miss. Laina  female  26.0      0   \n",
       "3       Futrelle; Mrs. Jacques Heath (Lily May Peel)  female  35.0      1   \n",
       "4                           Allen; Mr. William Henry    male  35.0      0   \n",
       "\n",
       "   Parch            Ticket     Fare Cabin Embarked  \n",
       "0      0         A/5 21171   7.2500   NaN        S  \n",
       "1      0          PC 17599  71.2833   C85        C  \n",
       "2      0  STON/O2. 3101282   7.9250   NaN        S  \n",
       "3      0            113803  53.1000  C123        S  \n",
       "4      0            373450   8.0500   NaN        S  "
      ]
     },
     "execution_count": 178,
     "metadata": {},
     "output_type": "execute_result"
    }
   ],
   "source": [
    "df.head()"
   ]
  },
  {
   "cell_type": "code",
   "execution_count": 179,
   "id": "b150de69",
   "metadata": {
    "colab": {
     "base_uri": "https://localhost:8080/"
    },
    "id": "jL0YWQDzsee4",
    "outputId": "2ce4b5d2-5808-441a-cecd-93f9622d70d9"
   },
   "outputs": [
    {
     "data": {
      "text/plain": [
       "Index(['PassengerId', 'Survived', 'Pclass', 'Name', 'Sex', 'Age', 'SibSp',\n",
       "       'Parch', 'Ticket', 'Fare', 'Cabin', 'Embarked'],\n",
       "      dtype='object')"
      ]
     },
     "execution_count": 179,
     "metadata": {},
     "output_type": "execute_result"
    }
   ],
   "source": [
    "df.columns"
   ]
  },
  {
   "cell_type": "code",
   "execution_count": 180,
   "id": "298b69be",
   "metadata": {
    "colab": {
     "base_uri": "https://localhost:8080/"
    },
    "id": "f6wIY2smsee4",
    "outputId": "5331d685-8e82-4186-a8ca-eaa137cd132b"
   },
   "outputs": [
    {
     "data": {
      "text/plain": [
       "RangeIndex(start=0, stop=891, step=1)"
      ]
     },
     "execution_count": 180,
     "metadata": {},
     "output_type": "execute_result"
    }
   ],
   "source": [
    "df.index"
   ]
  },
  {
   "cell_type": "code",
   "execution_count": 181,
   "id": "ef4000ee",
   "metadata": {
    "colab": {
     "base_uri": "https://localhost:8080/"
    },
    "id": "G4p9P_nfsee4",
    "outputId": "d4e875b3-aabc-4062-d907-19b9488151ea"
   },
   "outputs": [
    {
     "data": {
      "text/plain": [
       "0    0\n",
       "1    1\n",
       "2    1\n",
       "3    1\n",
       "4    0\n",
       "Name: Survived, dtype: int64"
      ]
     },
     "execution_count": 181,
     "metadata": {},
     "output_type": "execute_result"
    }
   ],
   "source": [
    "# на просмотр может быть выведен только один стобец\n",
    "Y = df[\"Survived\"]\n",
    "Y.head()"
   ]
  },
  {
   "cell_type": "code",
   "execution_count": 182,
   "id": "773c769a",
   "metadata": {
    "colab": {
     "base_uri": "https://localhost:8080/",
     "height": 221
    },
    "id": "j8l1fXeKsee4",
    "outputId": "95cbbb1b-0f81-4885-d68b-a6e683477360"
   },
   "outputs": [
    {
     "data": {
      "text/html": [
       "<div>\n",
       "<style scoped>\n",
       "    .dataframe tbody tr th:only-of-type {\n",
       "        vertical-align: middle;\n",
       "    }\n",
       "\n",
       "    .dataframe tbody tr th {\n",
       "        vertical-align: top;\n",
       "    }\n",
       "\n",
       "    .dataframe thead th {\n",
       "        text-align: right;\n",
       "    }\n",
       "</style>\n",
       "<table border=\"1\" class=\"dataframe\">\n",
       "  <thead>\n",
       "    <tr style=\"text-align: right;\">\n",
       "      <th></th>\n",
       "      <th>Survived</th>\n",
       "      <th>Age</th>\n",
       "    </tr>\n",
       "  </thead>\n",
       "  <tbody>\n",
       "    <tr>\n",
       "      <th>0</th>\n",
       "      <td>0</td>\n",
       "      <td>22.0</td>\n",
       "    </tr>\n",
       "    <tr>\n",
       "      <th>1</th>\n",
       "      <td>1</td>\n",
       "      <td>38.0</td>\n",
       "    </tr>\n",
       "    <tr>\n",
       "      <th>2</th>\n",
       "      <td>1</td>\n",
       "      <td>26.0</td>\n",
       "    </tr>\n",
       "    <tr>\n",
       "      <th>3</th>\n",
       "      <td>1</td>\n",
       "      <td>35.0</td>\n",
       "    </tr>\n",
       "    <tr>\n",
       "      <th>4</th>\n",
       "      <td>0</td>\n",
       "      <td>35.0</td>\n",
       "    </tr>\n",
       "  </tbody>\n",
       "</table>\n",
       "</div>"
      ],
      "text/plain": [
       "   Survived   Age\n",
       "0         0  22.0\n",
       "1         1  38.0\n",
       "2         1  26.0\n",
       "3         1  35.0\n",
       "4         0  35.0"
      ]
     },
     "execution_count": 182,
     "metadata": {},
     "output_type": "execute_result"
    }
   ],
   "source": [
    "df[[\"Survived\", \"Age\"]].head()"
   ]
  },
  {
   "cell_type": "code",
   "execution_count": 183,
   "id": "0e6761a5",
   "metadata": {
    "id": "Grj22Rjisee4"
   },
   "outputs": [],
   "source": [
    "# удаление данных одного из столбцов\n",
    "X = df[df.columns.drop(\"Survived\")]\n",
    "\n",
    "y = df['Survived']"
   ]
  },
  {
   "cell_type": "code",
   "execution_count": 184,
   "id": "73074019",
   "metadata": {
    "id": "zZPJAg3ysee5"
   },
   "outputs": [],
   "source": [
    "X = df.drop(\"Survived\", axis=1) # same thing as previous cell"
   ]
  },
  {
   "cell_type": "code",
   "execution_count": 185,
   "id": "b9985d43",
   "metadata": {
    "colab": {
     "base_uri": "https://localhost:8080/"
    },
    "id": "uO0RMyqcsee5",
    "outputId": "788ecb6e-9fee-4542-d00d-35c86228bd2a"
   },
   "outputs": [
    {
     "data": {
      "text/plain": [
       "((891, 11), (891, 12))"
      ]
     },
     "execution_count": 185,
     "metadata": {},
     "output_type": "execute_result"
    }
   ],
   "source": [
    "X.shape, df.shape"
   ]
  },
  {
   "cell_type": "code",
   "execution_count": 186,
   "id": "08fe24fb",
   "metadata": {
    "colab": {
     "base_uri": "https://localhost:8080/",
     "height": 160
    },
    "id": "N2-mkeewsee5",
    "outputId": "e87f22fd-7ecc-4c56-a57a-99c8962c0010"
   },
   "outputs": [
    {
     "data": {
      "text/html": [
       "<div>\n",
       "<style scoped>\n",
       "    .dataframe tbody tr th:only-of-type {\n",
       "        vertical-align: middle;\n",
       "    }\n",
       "\n",
       "    .dataframe tbody tr th {\n",
       "        vertical-align: top;\n",
       "    }\n",
       "\n",
       "    .dataframe thead th {\n",
       "        text-align: right;\n",
       "    }\n",
       "</style>\n",
       "<table border=\"1\" class=\"dataframe\">\n",
       "  <thead>\n",
       "    <tr style=\"text-align: right;\">\n",
       "      <th></th>\n",
       "      <th>Age</th>\n",
       "      <th>Sex</th>\n",
       "    </tr>\n",
       "  </thead>\n",
       "  <tbody>\n",
       "    <tr>\n",
       "      <th>5</th>\n",
       "      <td>NaN</td>\n",
       "      <td>unknown</td>\n",
       "    </tr>\n",
       "    <tr>\n",
       "      <th>8</th>\n",
       "      <td>27.0</td>\n",
       "      <td>female</td>\n",
       "    </tr>\n",
       "    <tr>\n",
       "      <th>10</th>\n",
       "      <td>4.0</td>\n",
       "      <td>female</td>\n",
       "    </tr>\n",
       "  </tbody>\n",
       "</table>\n",
       "</div>"
      ],
      "text/plain": [
       "     Age      Sex\n",
       "5    NaN  unknown\n",
       "8   27.0   female\n",
       "10   4.0   female"
      ]
     },
     "execution_count": 186,
     "metadata": {},
     "output_type": "execute_result"
    }
   ],
   "source": [
    "# выделение части строк\n",
    "X.loc[[5, 8, 10],['Age','Sex']] # selected by index; select rows"
   ]
  },
  {
   "cell_type": "code",
   "execution_count": 187,
   "id": "886fd6fe",
   "metadata": {
    "colab": {
     "base_uri": "https://localhost:8080/",
     "height": 221
    },
    "id": "Az6elMYCU-Tr",
    "outputId": "72aa8e2b-308d-4aad-cfd3-7eca9c30d282"
   },
   "outputs": [
    {
     "data": {
      "text/html": [
       "<div>\n",
       "<style scoped>\n",
       "    .dataframe tbody tr th:only-of-type {\n",
       "        vertical-align: middle;\n",
       "    }\n",
       "\n",
       "    .dataframe tbody tr th {\n",
       "        vertical-align: top;\n",
       "    }\n",
       "\n",
       "    .dataframe thead th {\n",
       "        text-align: right;\n",
       "    }\n",
       "</style>\n",
       "<table border=\"1\" class=\"dataframe\">\n",
       "  <thead>\n",
       "    <tr style=\"text-align: right;\">\n",
       "      <th></th>\n",
       "      <th>PassengerId</th>\n",
       "      <th>Pclass</th>\n",
       "      <th>Name</th>\n",
       "      <th>Sex</th>\n",
       "      <th>Age</th>\n",
       "    </tr>\n",
       "  </thead>\n",
       "  <tbody>\n",
       "    <tr>\n",
       "      <th>0</th>\n",
       "      <td>1</td>\n",
       "      <td>3</td>\n",
       "      <td>Braund; Mr. Owen Harris</td>\n",
       "      <td>male</td>\n",
       "      <td>22.0</td>\n",
       "    </tr>\n",
       "    <tr>\n",
       "      <th>1</th>\n",
       "      <td>2</td>\n",
       "      <td>1</td>\n",
       "      <td>Cumings; Mrs. John Bradley (Florence Briggs Th...</td>\n",
       "      <td>female</td>\n",
       "      <td>38.0</td>\n",
       "    </tr>\n",
       "    <tr>\n",
       "      <th>2</th>\n",
       "      <td>3</td>\n",
       "      <td>3</td>\n",
       "      <td>Heikkinen; Miss. Laina</td>\n",
       "      <td>female</td>\n",
       "      <td>26.0</td>\n",
       "    </tr>\n",
       "    <tr>\n",
       "      <th>3</th>\n",
       "      <td>4</td>\n",
       "      <td>1</td>\n",
       "      <td>Futrelle; Mrs. Jacques Heath (Lily May Peel)</td>\n",
       "      <td>female</td>\n",
       "      <td>35.0</td>\n",
       "    </tr>\n",
       "    <tr>\n",
       "      <th>4</th>\n",
       "      <td>5</td>\n",
       "      <td>3</td>\n",
       "      <td>Allen; Mr. William Henry</td>\n",
       "      <td>male</td>\n",
       "      <td>35.0</td>\n",
       "    </tr>\n",
       "  </tbody>\n",
       "</table>\n",
       "</div>"
      ],
      "text/plain": [
       "   PassengerId  Pclass                                               Name  \\\n",
       "0            1       3                            Braund; Mr. Owen Harris   \n",
       "1            2       1  Cumings; Mrs. John Bradley (Florence Briggs Th...   \n",
       "2            3       3                             Heikkinen; Miss. Laina   \n",
       "3            4       1       Futrelle; Mrs. Jacques Heath (Lily May Peel)   \n",
       "4            5       3                           Allen; Mr. William Henry   \n",
       "\n",
       "      Sex   Age  \n",
       "0    male  22.0  \n",
       "1  female  38.0  \n",
       "2  female  26.0  \n",
       "3  female  35.0  \n",
       "4    male  35.0  "
      ]
     },
     "execution_count": 187,
     "metadata": {},
     "output_type": "execute_result"
    }
   ],
   "source": [
    "X.iloc[0:5,0:5] # по индексам"
   ]
  },
  {
   "cell_type": "code",
   "execution_count": 188,
   "id": "c875cf94",
   "metadata": {
    "colab": {
     "base_uri": "https://localhost:8080/",
     "height": 329
    },
    "id": "N13ULFG2see5",
    "outputId": "e1c42cbd-6471-4221-cd79-edf529cfd102"
   },
   "outputs": [
    {
     "data": {
      "text/html": [
       "<div>\n",
       "<style scoped>\n",
       "    .dataframe tbody tr th:only-of-type {\n",
       "        vertical-align: middle;\n",
       "    }\n",
       "\n",
       "    .dataframe tbody tr th {\n",
       "        vertical-align: top;\n",
       "    }\n",
       "\n",
       "    .dataframe thead th {\n",
       "        text-align: right;\n",
       "    }\n",
       "</style>\n",
       "<table border=\"1\" class=\"dataframe\">\n",
       "  <thead>\n",
       "    <tr style=\"text-align: right;\">\n",
       "      <th></th>\n",
       "      <th>PassengerId</th>\n",
       "      <th>Survived</th>\n",
       "      <th>Pclass</th>\n",
       "      <th>Sex</th>\n",
       "      <th>Age</th>\n",
       "      <th>SibSp</th>\n",
       "      <th>Parch</th>\n",
       "      <th>Ticket</th>\n",
       "      <th>Fare</th>\n",
       "      <th>Cabin</th>\n",
       "      <th>Embarked</th>\n",
       "    </tr>\n",
       "    <tr>\n",
       "      <th>Name</th>\n",
       "      <th></th>\n",
       "      <th></th>\n",
       "      <th></th>\n",
       "      <th></th>\n",
       "      <th></th>\n",
       "      <th></th>\n",
       "      <th></th>\n",
       "      <th></th>\n",
       "      <th></th>\n",
       "      <th></th>\n",
       "      <th></th>\n",
       "    </tr>\n",
       "  </thead>\n",
       "  <tbody>\n",
       "    <tr>\n",
       "      <th>Braund; Mr. Owen Harris</th>\n",
       "      <td>1</td>\n",
       "      <td>0</td>\n",
       "      <td>3</td>\n",
       "      <td>male</td>\n",
       "      <td>22.0</td>\n",
       "      <td>1</td>\n",
       "      <td>0</td>\n",
       "      <td>A/5 21171</td>\n",
       "      <td>7.2500</td>\n",
       "      <td>NaN</td>\n",
       "      <td>S</td>\n",
       "    </tr>\n",
       "    <tr>\n",
       "      <th>Cumings; Mrs. John Bradley (Florence Briggs Thayer)</th>\n",
       "      <td>2</td>\n",
       "      <td>1</td>\n",
       "      <td>1</td>\n",
       "      <td>female</td>\n",
       "      <td>38.0</td>\n",
       "      <td>1</td>\n",
       "      <td>0</td>\n",
       "      <td>PC 17599</td>\n",
       "      <td>71.2833</td>\n",
       "      <td>C85</td>\n",
       "      <td>C</td>\n",
       "    </tr>\n",
       "    <tr>\n",
       "      <th>Heikkinen; Miss. Laina</th>\n",
       "      <td>3</td>\n",
       "      <td>1</td>\n",
       "      <td>3</td>\n",
       "      <td>female</td>\n",
       "      <td>26.0</td>\n",
       "      <td>0</td>\n",
       "      <td>0</td>\n",
       "      <td>STON/O2. 3101282</td>\n",
       "      <td>7.9250</td>\n",
       "      <td>NaN</td>\n",
       "      <td>S</td>\n",
       "    </tr>\n",
       "    <tr>\n",
       "      <th>Futrelle; Mrs. Jacques Heath (Lily May Peel)</th>\n",
       "      <td>4</td>\n",
       "      <td>1</td>\n",
       "      <td>1</td>\n",
       "      <td>female</td>\n",
       "      <td>35.0</td>\n",
       "      <td>1</td>\n",
       "      <td>0</td>\n",
       "      <td>113803</td>\n",
       "      <td>53.1000</td>\n",
       "      <td>C123</td>\n",
       "      <td>S</td>\n",
       "    </tr>\n",
       "    <tr>\n",
       "      <th>Allen; Mr. William Henry</th>\n",
       "      <td>5</td>\n",
       "      <td>0</td>\n",
       "      <td>3</td>\n",
       "      <td>male</td>\n",
       "      <td>35.0</td>\n",
       "      <td>0</td>\n",
       "      <td>0</td>\n",
       "      <td>373450</td>\n",
       "      <td>8.0500</td>\n",
       "      <td>NaN</td>\n",
       "      <td>S</td>\n",
       "    </tr>\n",
       "  </tbody>\n",
       "</table>\n",
       "</div>"
      ],
      "text/plain": [
       "                                                    PassengerId  Survived  \\\n",
       "Name                                                                        \n",
       "Braund; Mr. Owen Harris                                       1         0   \n",
       "Cumings; Mrs. John Bradley (Florence Briggs Tha...            2         1   \n",
       "Heikkinen; Miss. Laina                                        3         1   \n",
       "Futrelle; Mrs. Jacques Heath (Lily May Peel)                  4         1   \n",
       "Allen; Mr. William Henry                                      5         0   \n",
       "\n",
       "                                                    Pclass     Sex   Age  \\\n",
       "Name                                                                       \n",
       "Braund; Mr. Owen Harris                                  3    male  22.0   \n",
       "Cumings; Mrs. John Bradley (Florence Briggs Tha...       1  female  38.0   \n",
       "Heikkinen; Miss. Laina                                   3  female  26.0   \n",
       "Futrelle; Mrs. Jacques Heath (Lily May Peel)             1  female  35.0   \n",
       "Allen; Mr. William Henry                                 3    male  35.0   \n",
       "\n",
       "                                                    SibSp  Parch  \\\n",
       "Name                                                               \n",
       "Braund; Mr. Owen Harris                                 1      0   \n",
       "Cumings; Mrs. John Bradley (Florence Briggs Tha...      1      0   \n",
       "Heikkinen; Miss. Laina                                  0      0   \n",
       "Futrelle; Mrs. Jacques Heath (Lily May Peel)            1      0   \n",
       "Allen; Mr. William Henry                                0      0   \n",
       "\n",
       "                                                              Ticket     Fare  \\\n",
       "Name                                                                            \n",
       "Braund; Mr. Owen Harris                                    A/5 21171   7.2500   \n",
       "Cumings; Mrs. John Bradley (Florence Briggs Tha...          PC 17599  71.2833   \n",
       "Heikkinen; Miss. Laina                              STON/O2. 3101282   7.9250   \n",
       "Futrelle; Mrs. Jacques Heath (Lily May Peel)                  113803  53.1000   \n",
       "Allen; Mr. William Henry                                      373450   8.0500   \n",
       "\n",
       "                                                   Cabin Embarked  \n",
       "Name                                                               \n",
       "Braund; Mr. Owen Harris                              NaN        S  \n",
       "Cumings; Mrs. John Bradley (Florence Briggs Tha...   C85        C  \n",
       "Heikkinen; Miss. Laina                               NaN        S  \n",
       "Futrelle; Mrs. Jacques Heath (Lily May Peel)        C123        S  \n",
       "Allen; Mr. William Henry                             NaN        S  "
      ]
     },
     "execution_count": 188,
     "metadata": {},
     "output_type": "execute_result"
    }
   ],
   "source": [
    "# изменение индексации\n",
    "df.set_index(\"Name\").head()"
   ]
  },
  {
   "cell_type": "markdown",
   "id": "27858386",
   "metadata": {
    "id": "5sxqzUIIsee5"
   },
   "source": [
    "### Анализ данных"
   ]
  },
  {
   "cell_type": "code",
   "execution_count": 189,
   "id": "d309e0e5",
   "metadata": {
    "colab": {
     "base_uri": "https://localhost:8080/",
     "height": 313
    },
    "id": "MVkI8_hosee5",
    "outputId": "ec90772a-fec1-4522-c7e3-9fd27f87dc15"
   },
   "outputs": [
    {
     "data": {
      "text/html": [
       "<div>\n",
       "<style scoped>\n",
       "    .dataframe tbody tr th:only-of-type {\n",
       "        vertical-align: middle;\n",
       "    }\n",
       "\n",
       "    .dataframe tbody tr th {\n",
       "        vertical-align: top;\n",
       "    }\n",
       "\n",
       "    .dataframe thead th {\n",
       "        text-align: right;\n",
       "    }\n",
       "</style>\n",
       "<table border=\"1\" class=\"dataframe\">\n",
       "  <thead>\n",
       "    <tr style=\"text-align: right;\">\n",
       "      <th></th>\n",
       "      <th>PassengerId</th>\n",
       "      <th>Survived</th>\n",
       "      <th>Pclass</th>\n",
       "      <th>Age</th>\n",
       "      <th>SibSp</th>\n",
       "      <th>Parch</th>\n",
       "      <th>Fare</th>\n",
       "    </tr>\n",
       "  </thead>\n",
       "  <tbody>\n",
       "    <tr>\n",
       "      <th>count</th>\n",
       "      <td>891.000000</td>\n",
       "      <td>891.000000</td>\n",
       "      <td>891.000000</td>\n",
       "      <td>714.000000</td>\n",
       "      <td>891.000000</td>\n",
       "      <td>891.000000</td>\n",
       "      <td>891.000000</td>\n",
       "    </tr>\n",
       "    <tr>\n",
       "      <th>mean</th>\n",
       "      <td>446.000000</td>\n",
       "      <td>0.383838</td>\n",
       "      <td>2.308642</td>\n",
       "      <td>29.699118</td>\n",
       "      <td>0.523008</td>\n",
       "      <td>0.381594</td>\n",
       "      <td>32.204208</td>\n",
       "    </tr>\n",
       "    <tr>\n",
       "      <th>std</th>\n",
       "      <td>257.353842</td>\n",
       "      <td>0.486592</td>\n",
       "      <td>0.836071</td>\n",
       "      <td>14.526497</td>\n",
       "      <td>1.102743</td>\n",
       "      <td>0.806057</td>\n",
       "      <td>49.693429</td>\n",
       "    </tr>\n",
       "    <tr>\n",
       "      <th>min</th>\n",
       "      <td>1.000000</td>\n",
       "      <td>0.000000</td>\n",
       "      <td>1.000000</td>\n",
       "      <td>0.420000</td>\n",
       "      <td>0.000000</td>\n",
       "      <td>0.000000</td>\n",
       "      <td>0.000000</td>\n",
       "    </tr>\n",
       "    <tr>\n",
       "      <th>25%</th>\n",
       "      <td>223.500000</td>\n",
       "      <td>0.000000</td>\n",
       "      <td>2.000000</td>\n",
       "      <td>20.125000</td>\n",
       "      <td>0.000000</td>\n",
       "      <td>0.000000</td>\n",
       "      <td>7.910400</td>\n",
       "    </tr>\n",
       "    <tr>\n",
       "      <th>50%</th>\n",
       "      <td>446.000000</td>\n",
       "      <td>0.000000</td>\n",
       "      <td>3.000000</td>\n",
       "      <td>28.000000</td>\n",
       "      <td>0.000000</td>\n",
       "      <td>0.000000</td>\n",
       "      <td>14.454200</td>\n",
       "    </tr>\n",
       "    <tr>\n",
       "      <th>75%</th>\n",
       "      <td>668.500000</td>\n",
       "      <td>1.000000</td>\n",
       "      <td>3.000000</td>\n",
       "      <td>38.000000</td>\n",
       "      <td>1.000000</td>\n",
       "      <td>0.000000</td>\n",
       "      <td>31.000000</td>\n",
       "    </tr>\n",
       "    <tr>\n",
       "      <th>max</th>\n",
       "      <td>891.000000</td>\n",
       "      <td>1.000000</td>\n",
       "      <td>3.000000</td>\n",
       "      <td>80.000000</td>\n",
       "      <td>8.000000</td>\n",
       "      <td>6.000000</td>\n",
       "      <td>512.329200</td>\n",
       "    </tr>\n",
       "  </tbody>\n",
       "</table>\n",
       "</div>"
      ],
      "text/plain": [
       "       PassengerId    Survived      Pclass         Age       SibSp  \\\n",
       "count   891.000000  891.000000  891.000000  714.000000  891.000000   \n",
       "mean    446.000000    0.383838    2.308642   29.699118    0.523008   \n",
       "std     257.353842    0.486592    0.836071   14.526497    1.102743   \n",
       "min       1.000000    0.000000    1.000000    0.420000    0.000000   \n",
       "25%     223.500000    0.000000    2.000000   20.125000    0.000000   \n",
       "50%     446.000000    0.000000    3.000000   28.000000    0.000000   \n",
       "75%     668.500000    1.000000    3.000000   38.000000    1.000000   \n",
       "max     891.000000    1.000000    3.000000   80.000000    8.000000   \n",
       "\n",
       "            Parch        Fare  \n",
       "count  891.000000  891.000000  \n",
       "mean     0.381594   32.204208  \n",
       "std      0.806057   49.693429  \n",
       "min      0.000000    0.000000  \n",
       "25%      0.000000    7.910400  \n",
       "50%      0.000000   14.454200  \n",
       "75%      0.000000   31.000000  \n",
       "max      6.000000  512.329200  "
      ]
     },
     "execution_count": 189,
     "metadata": {},
     "output_type": "execute_result"
    }
   ],
   "source": [
    "df.describe()"
   ]
  },
  {
   "cell_type": "code",
   "execution_count": 190,
   "id": "522aa8e9",
   "metadata": {
    "colab": {
     "base_uri": "https://localhost:8080/"
    },
    "id": "QgzlkVL2see5",
    "outputId": "57d5105d-0e90-4af4-a5c9-f2ad478041a2"
   },
   "outputs": [
    {
     "data": {
      "text/plain": [
       "{'female', 'male', 'unknown'}"
      ]
     },
     "execution_count": 190,
     "metadata": {},
     "output_type": "execute_result"
    }
   ],
   "source": [
    "set(df[\"Sex\"])"
   ]
  },
  {
   "cell_type": "code",
   "execution_count": 191,
   "id": "ef0fc9ff",
   "metadata": {
    "colab": {
     "base_uri": "https://localhost:8080/"
    },
    "id": "oFbTh0HCsee6",
    "outputId": "8206e648-8f43-46dc-fa52-fc272de3bf9b"
   },
   "outputs": [
    {
     "data": {
      "text/plain": [
       "891"
      ]
     },
     "execution_count": 191,
     "metadata": {},
     "output_type": "execute_result"
    }
   ],
   "source": [
    "len(set(df[\"Name\"]))"
   ]
  },
  {
   "cell_type": "code",
   "execution_count": 192,
   "id": "15791c1e",
   "metadata": {
    "colab": {
     "base_uri": "https://localhost:8080/"
    },
    "id": "Tm8cXf3-see6",
    "outputId": "5df88e7b-5e34-4936-febf-439d709487e4"
   },
   "outputs": [
    {
     "data": {
      "text/plain": [
       "male       574\n",
       "female     312\n",
       "unknown      5\n",
       "Name: Sex, dtype: int64"
      ]
     },
     "execution_count": 192,
     "metadata": {},
     "output_type": "execute_result"
    }
   ],
   "source": [
    "df[\"Sex\"].value_counts()"
   ]
  },
  {
   "cell_type": "code",
   "execution_count": 193,
   "id": "1fdcab86",
   "metadata": {
    "colab": {
     "base_uri": "https://localhost:8080/",
     "height": 355
    },
    "id": "0pUZO-gjsee6",
    "outputId": "0916b80b-fa2a-4438-cad6-35ee84de8df0"
   },
   "outputs": [
    {
     "data": {
      "text/plain": [
       "<AxesSubplot:xlabel='Sex'>"
      ]
     },
     "execution_count": 193,
     "metadata": {},
     "output_type": "execute_result"
    },
    {
     "data": {
      "image/png": "[encoded data removed]",
      "text/plain": [
       "<Figure size 432x288 with 1 Axes>"
      ]
     },
     "metadata": {
      "needs_background": "light"
     },
     "output_type": "display_data"
    }
   ],
   "source": [
    "df.pivot_table('PassengerId', 'Sex', 'Survived', 'count').plot(kind='bar', stacked=True)\n",
    "#Вывод из полученных гистограмм?"
   ]
  },
  {
   "cell_type": "code",
   "execution_count": 194,
   "id": "63cbb423",
   "metadata": {
    "colab": {
     "base_uri": "https://localhost:8080/",
     "height": 313
    },
    "id": "R81yiKgFsee6",
    "outputId": "1ecceb9b-c670-4dc1-c47f-6ff5fcf13c13"
   },
   "outputs": [
    {
     "data": {
      "text/plain": [
       "<AxesSubplot:xlabel='Pclass'>"
      ]
     },
     "execution_count": 194,
     "metadata": {},
     "output_type": "execute_result"
    },
    {
     "data": {
      "image/png": "[encoded data removed]",
      "text/plain": [
       "<Figure size 432x288 with 1 Axes>"
      ]
     },
     "metadata": {
      "needs_background": "light"
     },
     "output_type": "display_data"
    }
   ],
   "source": [
    "df.pivot_table('PassengerId', 'Pclass', 'Survived', 'count').plot(kind='bar', stacked=True)\n",
    "#Вывод из полученных гистограмм?"
   ]
  },
  {
   "cell_type": "code",
   "execution_count": 195,
   "id": "61705a4a",
   "metadata": {
    "colab": {
     "base_uri": "https://localhost:8080/",
     "height": 313
    },
    "id": "sijeCYh1W8SB",
    "outputId": "503836e9-7319-4f2b-feba-2ae4c6075e97"
   },
   "outputs": [
    {
     "data": {
      "text/plain": [
       "<AxesSubplot:xlabel='Parch'>"
      ]
     },
     "execution_count": 195,
     "metadata": {},
     "output_type": "execute_result"
    },
    {
     "data": {
      "image/png": "[encoded data removed]",
      "text/plain": [
       "<Figure size 432x288 with 1 Axes>"
      ]
     },
     "metadata": {
      "needs_background": "light"
     },
     "output_type": "display_data"
    }
   ],
   "source": [
    "df.pivot_table('PassengerId', 'Parch', 'Survived', 'count').plot(kind='bar', stacked=True)\n",
    "#Вывод из полученных гистограмм?"
   ]
  },
  {
   "cell_type": "code",
   "execution_count": 196,
   "id": "dd35774f",
   "metadata": {
    "colab": {
     "base_uri": "https://localhost:8080/",
     "height": 333
    },
    "id": "hmOA5oELsee6",
    "outputId": "cafb3c23-dbfe-4bf9-cc0b-e09a7caad9a8"
   },
   "outputs": [
    {
     "data": {
      "text/plain": [
       "<AxesSubplot:title={'center':'Parch'}, xlabel='Parch'>"
      ]
     },
     "execution_count": 196,
     "metadata": {},
     "output_type": "execute_result"
    },
    {
     "data": {
      "image/png": "[encoded data removed]",
      "text/plain": [
       "<Figure size 432x288 with 2 Axes>"
      ]
     },
     "metadata": {
      "needs_background": "light"
     },
     "output_type": "display_data"
    }
   ],
   "source": [
    "fig, axes = plt.subplots(ncols=2)\n",
    "df.pivot_table('PassengerId', ['SibSp'], 'Survived', 'count').plot(ax=axes[0], title='SibSp')\n",
    "df.pivot_table('PassengerId', ['Parch'], 'Survived', 'count').plot(ax=axes[1], title='Parch')\n",
    "\n",
    "#Вывод?"
   ]
  },
  {
   "cell_type": "code",
   "execution_count": 197,
   "id": "83776d47",
   "metadata": {
    "colab": {
     "base_uri": "https://localhost:8080/",
     "height": 326
    },
    "id": "R0oiOdCisee6",
    "outputId": "02ac2119-2e82-4e74-f18b-324afef60f67"
   },
   "outputs": [
    {
     "data": {
      "text/plain": [
       "<AxesSubplot:xlabel='PassengerId'>"
      ]
     },
     "execution_count": 197,
     "metadata": {},
     "output_type": "execute_result"
    },
    {
     "data": {
      "image/png": "[encoded data removed]",
      "text/plain": [
       "<Figure size 432x288 with 1 Axes>"
      ]
     },
     "metadata": {
      "needs_background": "light"
     },
     "output_type": "display_data"
    }
   ],
   "source": [
    "df.plot(x=\"PassengerId\", y=\"Fare\", kind=\"bar\")"
   ]
  },
  {
   "cell_type": "markdown",
   "id": "7c57fbba",
   "metadata": {
    "id": "4tux2VLXsee6"
   },
   "source": [
    "### Обработка и преобразование данных"
   ]
  },
  {
   "cell_type": "code",
   "execution_count": 198,
   "id": "8cb0cfa4",
   "metadata": {
    "colab": {
     "base_uri": "https://localhost:8080/",
     "height": 130
    },
    "id": "4ZmYRKVssee6",
    "outputId": "515cb0c3-9a81-4399-e0ca-c8339cb6c912"
   },
   "outputs": [
    {
     "data": {
      "text/html": [
       "<div>\n",
       "<style scoped>\n",
       "    .dataframe tbody tr th:only-of-type {\n",
       "        vertical-align: middle;\n",
       "    }\n",
       "\n",
       "    .dataframe tbody tr th {\n",
       "        vertical-align: top;\n",
       "    }\n",
       "\n",
       "    .dataframe thead th {\n",
       "        text-align: right;\n",
       "    }\n",
       "</style>\n",
       "<table border=\"1\" class=\"dataframe\">\n",
       "  <thead>\n",
       "    <tr style=\"text-align: right;\">\n",
       "      <th></th>\n",
       "      <th>PassengerId</th>\n",
       "      <th>Survived</th>\n",
       "      <th>Pclass</th>\n",
       "      <th>Name</th>\n",
       "      <th>Sex</th>\n",
       "      <th>Age</th>\n",
       "      <th>SibSp</th>\n",
       "      <th>Parch</th>\n",
       "      <th>Ticket</th>\n",
       "      <th>Fare</th>\n",
       "      <th>Cabin</th>\n",
       "      <th>Embarked</th>\n",
       "    </tr>\n",
       "  </thead>\n",
       "  <tbody>\n",
       "    <tr>\n",
       "      <th>0</th>\n",
       "      <td>1</td>\n",
       "      <td>0</td>\n",
       "      <td>3</td>\n",
       "      <td>Braund; Mr. Owen Harris</td>\n",
       "      <td>male</td>\n",
       "      <td>22.0</td>\n",
       "      <td>1</td>\n",
       "      <td>0</td>\n",
       "      <td>A/5 21171</td>\n",
       "      <td>7.2500</td>\n",
       "      <td>NaN</td>\n",
       "      <td>S</td>\n",
       "    </tr>\n",
       "    <tr>\n",
       "      <th>1</th>\n",
       "      <td>2</td>\n",
       "      <td>1</td>\n",
       "      <td>1</td>\n",
       "      <td>Cumings; Mrs. John Bradley (Florence Briggs Th...</td>\n",
       "      <td>female</td>\n",
       "      <td>38.0</td>\n",
       "      <td>1</td>\n",
       "      <td>0</td>\n",
       "      <td>PC 17599</td>\n",
       "      <td>71.2833</td>\n",
       "      <td>C85</td>\n",
       "      <td>C</td>\n",
       "    </tr>\n",
       "  </tbody>\n",
       "</table>\n",
       "</div>"
      ],
      "text/plain": [
       "   PassengerId  Survived  Pclass  \\\n",
       "0            1         0       3   \n",
       "1            2         1       1   \n",
       "\n",
       "                                                Name     Sex   Age  SibSp  \\\n",
       "0                            Braund; Mr. Owen Harris    male  22.0      1   \n",
       "1  Cumings; Mrs. John Bradley (Florence Briggs Th...  female  38.0      1   \n",
       "\n",
       "   Parch     Ticket     Fare Cabin Embarked  \n",
       "0      0  A/5 21171   7.2500   NaN        S  \n",
       "1      0   PC 17599  71.2833   C85        C  "
      ]
     },
     "execution_count": 198,
     "metadata": {},
     "output_type": "execute_result"
    }
   ],
   "source": [
    "df.head(2)"
   ]
  },
  {
   "cell_type": "code",
   "execution_count": 199,
   "id": "184b99e6",
   "metadata": {
    "colab": {
     "base_uri": "https://localhost:8080/",
     "height": 130
    },
    "id": "NYBRCrkNsee7",
    "outputId": "e7a74039-a52b-4610-ee26-fe84486fb6b8"
   },
   "outputs": [
    {
     "data": {
      "text/html": [
       "<div>\n",
       "<style scoped>\n",
       "    .dataframe tbody tr th:only-of-type {\n",
       "        vertical-align: middle;\n",
       "    }\n",
       "\n",
       "    .dataframe tbody tr th {\n",
       "        vertical-align: top;\n",
       "    }\n",
       "\n",
       "    .dataframe thead th {\n",
       "        text-align: right;\n",
       "    }\n",
       "</style>\n",
       "<table border=\"1\" class=\"dataframe\">\n",
       "  <thead>\n",
       "    <tr style=\"text-align: right;\">\n",
       "      <th></th>\n",
       "      <th>PassengerId</th>\n",
       "      <th>Survived</th>\n",
       "      <th>Pclass</th>\n",
       "      <th>Name</th>\n",
       "      <th>Sex</th>\n",
       "      <th>Age</th>\n",
       "      <th>SibSp</th>\n",
       "      <th>Parch</th>\n",
       "      <th>Ticket</th>\n",
       "      <th>Fare</th>\n",
       "      <th>Cabin</th>\n",
       "      <th>Embarked</th>\n",
       "    </tr>\n",
       "  </thead>\n",
       "  <tbody>\n",
       "    <tr>\n",
       "      <th>0</th>\n",
       "      <td>1</td>\n",
       "      <td>0</td>\n",
       "      <td>3</td>\n",
       "      <td>Braund; Mr. Owen Harris</td>\n",
       "      <td>male</td>\n",
       "      <td>22.0</td>\n",
       "      <td>1</td>\n",
       "      <td>0</td>\n",
       "      <td>A/5 21171</td>\n",
       "      <td>7.2500</td>\n",
       "      <td>NaN</td>\n",
       "      <td>S</td>\n",
       "    </tr>\n",
       "    <tr>\n",
       "      <th>1</th>\n",
       "      <td>2</td>\n",
       "      <td>1</td>\n",
       "      <td>1</td>\n",
       "      <td>Cumings; Mrs. John Bradley (Florence Briggs Th...</td>\n",
       "      <td>female</td>\n",
       "      <td>38.0</td>\n",
       "      <td>1</td>\n",
       "      <td>0</td>\n",
       "      <td>PC 17599</td>\n",
       "      <td>71.2833</td>\n",
       "      <td>C85</td>\n",
       "      <td>C</td>\n",
       "    </tr>\n",
       "  </tbody>\n",
       "</table>\n",
       "</div>"
      ],
      "text/plain": [
       "   PassengerId  Survived  Pclass  \\\n",
       "0            1         0       3   \n",
       "1            2         1       1   \n",
       "\n",
       "                                                Name     Sex   Age  SibSp  \\\n",
       "0                            Braund; Mr. Owen Harris    male  22.0      1   \n",
       "1  Cumings; Mrs. John Bradley (Florence Briggs Th...  female  38.0      1   \n",
       "\n",
       "   Parch     Ticket     Fare Cabin Embarked  \n",
       "0      0  A/5 21171   7.2500   NaN        S  \n",
       "1      0   PC 17599  71.2833   C85        C  "
      ]
     },
     "execution_count": 199,
     "metadata": {},
     "output_type": "execute_result"
    }
   ],
   "source": [
    "# преобразуем текстовый признак \"Пол\" в числовые значения\n",
    "#df[\"DecodedSex\"] = df[\"Sex\"].map({\"male\":1, \"female\":-1, \"unknown\":0})\n",
    "\n",
    "def f(x):\n",
    "  if x == 'male':\n",
    "    return 1\n",
    "  elif x == 'female':\n",
    "    return -1\n",
    "  return 0\n",
    "\n",
    "#df['DecodedSex'] = df['Sex'].apply(lambda x: f(x))\n",
    "\n",
    "df.head(2)"
   ]
  },
  {
   "cell_type": "code",
   "execution_count": 200,
   "id": "e24cdb34",
   "metadata": {
    "colab": {
     "base_uri": "https://localhost:8080/"
    },
    "id": "PPgoaWTiX5wm",
    "outputId": "a9e17f52-0683-4520-ac81-b8b4dd85db21"
   },
   "outputs": [
    {
     "name": "stdout",
     "output_type": "stream",
     "text": [
      "CPU times: user 2.68 ms, sys: 121 µs, total: 2.8 ms\n",
      "Wall time: 2.67 ms\n"
     ]
    }
   ],
   "source": [
    "%%time \n",
    "\n",
    "df['DecodedSex'] = df['Sex'].apply(f)\n",
    "\n",
    "df['DecodedSex'] = df['Sex'].map(f)"
   ]
  },
  {
   "cell_type": "code",
   "execution_count": 201,
   "id": "2253f52a",
   "metadata": {
    "colab": {
     "base_uri": "https://localhost:8080/"
    },
    "id": "p_tNUkYyX4k6",
    "outputId": "137e76dd-4104-4d05-cce7-87fe70020116"
   },
   "outputs": [
    {
     "name": "stdout",
     "output_type": "stream",
     "text": [
      "CPU times: user 1.36 ms, sys: 0 ns, total: 1.36 ms\n",
      "Wall time: 1.31 ms\n"
     ]
    }
   ],
   "source": [
    "%%time\n",
    "\n",
    "df[\"DecodedSex\"] = df[\"Sex\"].map({\"male\":1, \"female\":-1, \"unknown\":0})"
   ]
  },
  {
   "cell_type": "code",
   "execution_count": null,
   "id": "6fd371e9",
   "metadata": {
    "id": "Q5hlkimvYJ8S"
   },
   "outputs": [],
   "source": []
  },
  {
   "cell_type": "code",
   "execution_count": 202,
   "id": "4e485c5f",
   "metadata": {
    "colab": {
     "base_uri": "https://localhost:8080/",
     "height": 206
    },
    "id": "eyKe5q_Bsee7",
    "outputId": "71ad185d-3824-468a-c5b3-fe268028215e"
   },
   "outputs": [
    {
     "data": {
      "text/html": [
       "<div>\n",
       "<style scoped>\n",
       "    .dataframe tbody tr th:only-of-type {\n",
       "        vertical-align: middle;\n",
       "    }\n",
       "\n",
       "    .dataframe tbody tr th {\n",
       "        vertical-align: top;\n",
       "    }\n",
       "\n",
       "    .dataframe thead th {\n",
       "        text-align: right;\n",
       "    }\n",
       "</style>\n",
       "<table border=\"1\" class=\"dataframe\">\n",
       "  <thead>\n",
       "    <tr style=\"text-align: right;\">\n",
       "      <th></th>\n",
       "      <th>PassengerId</th>\n",
       "      <th>Survived</th>\n",
       "      <th>Pclass</th>\n",
       "      <th>Name</th>\n",
       "      <th>Sex</th>\n",
       "      <th>Age</th>\n",
       "      <th>SibSp</th>\n",
       "      <th>Parch</th>\n",
       "      <th>Ticket</th>\n",
       "      <th>Fare</th>\n",
       "      <th>Cabin</th>\n",
       "      <th>Embarked</th>\n",
       "      <th>DecodedSex</th>\n",
       "      <th>NewAge</th>\n",
       "    </tr>\n",
       "  </thead>\n",
       "  <tbody>\n",
       "    <tr>\n",
       "      <th>0</th>\n",
       "      <td>1</td>\n",
       "      <td>0</td>\n",
       "      <td>3</td>\n",
       "      <td>Braund; Mr. Owen Harris</td>\n",
       "      <td>male</td>\n",
       "      <td>22.0</td>\n",
       "      <td>1</td>\n",
       "      <td>0</td>\n",
       "      <td>A/5 21171</td>\n",
       "      <td>7.2500</td>\n",
       "      <td>NaN</td>\n",
       "      <td>S</td>\n",
       "      <td>1</td>\n",
       "      <td>0.22</td>\n",
       "    </tr>\n",
       "    <tr>\n",
       "      <th>1</th>\n",
       "      <td>2</td>\n",
       "      <td>1</td>\n",
       "      <td>1</td>\n",
       "      <td>Cumings; Mrs. John Bradley (Florence Briggs Th...</td>\n",
       "      <td>female</td>\n",
       "      <td>38.0</td>\n",
       "      <td>1</td>\n",
       "      <td>0</td>\n",
       "      <td>PC 17599</td>\n",
       "      <td>71.2833</td>\n",
       "      <td>C85</td>\n",
       "      <td>C</td>\n",
       "      <td>-1</td>\n",
       "      <td>0.38</td>\n",
       "    </tr>\n",
       "  </tbody>\n",
       "</table>\n",
       "</div>"
      ],
      "text/plain": [
       "   PassengerId  Survived  Pclass  \\\n",
       "0            1         0       3   \n",
       "1            2         1       1   \n",
       "\n",
       "                                                Name     Sex   Age  SibSp  \\\n",
       "0                            Braund; Mr. Owen Harris    male  22.0      1   \n",
       "1  Cumings; Mrs. John Bradley (Florence Briggs Th...  female  38.0      1   \n",
       "\n",
       "   Parch     Ticket     Fare Cabin Embarked  DecodedSex  NewAge  \n",
       "0      0  A/5 21171   7.2500   NaN        S           1    0.22  \n",
       "1      0   PC 17599  71.2833   C85        C          -1    0.38  "
      ]
     },
     "execution_count": 202,
     "metadata": {},
     "output_type": "execute_result"
    }
   ],
   "source": [
    "# добавим еще одну характеристику для каждого объекта датасета\n",
    "def fun(age):\n",
    "    return age / 100\n",
    "\n",
    "df[\"NewAge\"] = df[\"Age\"].apply(fun)\n",
    "df.head(2)"
   ]
  },
  {
   "cell_type": "code",
   "execution_count": null,
   "id": "1ded3a63",
   "metadata": {
    "id": "E6AQHX9Gsee7"
   },
   "outputs": [],
   "source": []
  },
  {
   "cell_type": "code",
   "execution_count": 203,
   "id": "16a86432",
   "metadata": {
    "id": "I4_vduj8see7"
   },
   "outputs": [],
   "source": [
    "# то же самое можно сделатьс. помощью лямбда функции\n",
    "df[\"NewAge\"] = df[\"Age\"].apply(lambda age: age/100)"
   ]
  },
  {
   "cell_type": "code",
   "execution_count": 204,
   "id": "0b478048",
   "metadata": {
    "colab": {
     "base_uri": "https://localhost:8080/",
     "height": 206
    },
    "id": "6aJJG_MDsee7",
    "outputId": "d5520dd9-a28f-4f7b-b7f1-59927619212c"
   },
   "outputs": [
    {
     "data": {
      "text/html": [
       "<div>\n",
       "<style scoped>\n",
       "    .dataframe tbody tr th:only-of-type {\n",
       "        vertical-align: middle;\n",
       "    }\n",
       "\n",
       "    .dataframe tbody tr th {\n",
       "        vertical-align: top;\n",
       "    }\n",
       "\n",
       "    .dataframe thead th {\n",
       "        text-align: right;\n",
       "    }\n",
       "</style>\n",
       "<table border=\"1\" class=\"dataframe\">\n",
       "  <thead>\n",
       "    <tr style=\"text-align: right;\">\n",
       "      <th></th>\n",
       "      <th>PassengerId</th>\n",
       "      <th>Survived</th>\n",
       "      <th>Pclass</th>\n",
       "      <th>Name</th>\n",
       "      <th>Sex</th>\n",
       "      <th>Age</th>\n",
       "      <th>SibSp</th>\n",
       "      <th>Parch</th>\n",
       "      <th>Ticket</th>\n",
       "      <th>Fare</th>\n",
       "      <th>Cabin</th>\n",
       "      <th>Embarked</th>\n",
       "      <th>DecodedSex</th>\n",
       "      <th>NewAge</th>\n",
       "    </tr>\n",
       "  </thead>\n",
       "  <tbody>\n",
       "    <tr>\n",
       "      <th>0</th>\n",
       "      <td>1</td>\n",
       "      <td>0</td>\n",
       "      <td>3</td>\n",
       "      <td>Braund; Mr. Owen Harris</td>\n",
       "      <td>male</td>\n",
       "      <td>22.0</td>\n",
       "      <td>1</td>\n",
       "      <td>0</td>\n",
       "      <td>A/5 21171</td>\n",
       "      <td>7.2500</td>\n",
       "      <td>NaN</td>\n",
       "      <td>S</td>\n",
       "      <td>1</td>\n",
       "      <td>0.22</td>\n",
       "    </tr>\n",
       "    <tr>\n",
       "      <th>1</th>\n",
       "      <td>2</td>\n",
       "      <td>1</td>\n",
       "      <td>1</td>\n",
       "      <td>Cumings; Mrs. John Bradley (Florence Briggs Th...</td>\n",
       "      <td>female</td>\n",
       "      <td>38.0</td>\n",
       "      <td>1</td>\n",
       "      <td>0</td>\n",
       "      <td>PC 17599</td>\n",
       "      <td>71.2833</td>\n",
       "      <td>C85</td>\n",
       "      <td>C</td>\n",
       "      <td>-1</td>\n",
       "      <td>0.38</td>\n",
       "    </tr>\n",
       "  </tbody>\n",
       "</table>\n",
       "</div>"
      ],
      "text/plain": [
       "   PassengerId  Survived  Pclass  \\\n",
       "0            1         0       3   \n",
       "1            2         1       1   \n",
       "\n",
       "                                                Name     Sex   Age  SibSp  \\\n",
       "0                            Braund; Mr. Owen Harris    male  22.0      1   \n",
       "1  Cumings; Mrs. John Bradley (Florence Briggs Th...  female  38.0      1   \n",
       "\n",
       "   Parch     Ticket     Fare Cabin Embarked  DecodedSex  NewAge  \n",
       "0      0  A/5 21171   7.2500   NaN        S           1    0.22  \n",
       "1      0   PC 17599  71.2833   C85        C          -1    0.38  "
      ]
     },
     "execution_count": 204,
     "metadata": {},
     "output_type": "execute_result"
    }
   ],
   "source": [
    "df.head(2)"
   ]
  },
  {
   "cell_type": "code",
   "execution_count": 205,
   "id": "2de1e5ad",
   "metadata": {
    "colab": {
     "base_uri": "https://localhost:8080/",
     "height": 543
    },
    "id": "8fTRT6NNsee7",
    "outputId": "069b2765-e246-4591-950e-4ce23a44df00"
   },
   "outputs": [
    {
     "data": {
      "text/html": [
       "<div>\n",
       "<style scoped>\n",
       "    .dataframe tbody tr th:only-of-type {\n",
       "        vertical-align: middle;\n",
       "    }\n",
       "\n",
       "    .dataframe tbody tr th {\n",
       "        vertical-align: top;\n",
       "    }\n",
       "\n",
       "    .dataframe thead th {\n",
       "        text-align: right;\n",
       "    }\n",
       "</style>\n",
       "<table border=\"1\" class=\"dataframe\">\n",
       "  <thead>\n",
       "    <tr style=\"text-align: right;\">\n",
       "      <th></th>\n",
       "      <th>PassengerId</th>\n",
       "      <th>Survived</th>\n",
       "      <th>Pclass</th>\n",
       "      <th>Name</th>\n",
       "      <th>Sex</th>\n",
       "      <th>Age</th>\n",
       "      <th>SibSp</th>\n",
       "      <th>Parch</th>\n",
       "      <th>Ticket</th>\n",
       "      <th>Fare</th>\n",
       "      <th>Cabin</th>\n",
       "      <th>Embarked</th>\n",
       "      <th>DecodedSex</th>\n",
       "      <th>NewAge</th>\n",
       "    </tr>\n",
       "  </thead>\n",
       "  <tbody>\n",
       "    <tr>\n",
       "      <th>0</th>\n",
       "      <td>1</td>\n",
       "      <td>0</td>\n",
       "      <td>3</td>\n",
       "      <td>Braund; Mr. Owen Harris</td>\n",
       "      <td>male</td>\n",
       "      <td>22.0</td>\n",
       "      <td>1</td>\n",
       "      <td>0</td>\n",
       "      <td>A/5 21171</td>\n",
       "      <td>7.2500</td>\n",
       "      <td>NaN</td>\n",
       "      <td>S</td>\n",
       "      <td>1</td>\n",
       "      <td>0.22</td>\n",
       "    </tr>\n",
       "    <tr>\n",
       "      <th>1</th>\n",
       "      <td>2</td>\n",
       "      <td>1</td>\n",
       "      <td>1</td>\n",
       "      <td>Cumings; Mrs. John Bradley (Florence Briggs Th...</td>\n",
       "      <td>female</td>\n",
       "      <td>38.0</td>\n",
       "      <td>1</td>\n",
       "      <td>0</td>\n",
       "      <td>PC 17599</td>\n",
       "      <td>71.2833</td>\n",
       "      <td>C85</td>\n",
       "      <td>C</td>\n",
       "      <td>-1</td>\n",
       "      <td>0.38</td>\n",
       "    </tr>\n",
       "    <tr>\n",
       "      <th>2</th>\n",
       "      <td>3</td>\n",
       "      <td>1</td>\n",
       "      <td>3</td>\n",
       "      <td>Heikkinen; Miss. Laina</td>\n",
       "      <td>female</td>\n",
       "      <td>26.0</td>\n",
       "      <td>0</td>\n",
       "      <td>0</td>\n",
       "      <td>STON/O2. 3101282</td>\n",
       "      <td>7.9250</td>\n",
       "      <td>NaN</td>\n",
       "      <td>S</td>\n",
       "      <td>-1</td>\n",
       "      <td>0.26</td>\n",
       "    </tr>\n",
       "    <tr>\n",
       "      <th>3</th>\n",
       "      <td>4</td>\n",
       "      <td>1</td>\n",
       "      <td>1</td>\n",
       "      <td>Futrelle; Mrs. Jacques Heath (Lily May Peel)</td>\n",
       "      <td>female</td>\n",
       "      <td>35.0</td>\n",
       "      <td>1</td>\n",
       "      <td>0</td>\n",
       "      <td>113803</td>\n",
       "      <td>53.1000</td>\n",
       "      <td>C123</td>\n",
       "      <td>S</td>\n",
       "      <td>-1</td>\n",
       "      <td>0.35</td>\n",
       "    </tr>\n",
       "    <tr>\n",
       "      <th>4</th>\n",
       "      <td>5</td>\n",
       "      <td>0</td>\n",
       "      <td>3</td>\n",
       "      <td>Allen; Mr. William Henry</td>\n",
       "      <td>male</td>\n",
       "      <td>35.0</td>\n",
       "      <td>0</td>\n",
       "      <td>0</td>\n",
       "      <td>373450</td>\n",
       "      <td>8.0500</td>\n",
       "      <td>NaN</td>\n",
       "      <td>S</td>\n",
       "      <td>1</td>\n",
       "      <td>0.35</td>\n",
       "    </tr>\n",
       "    <tr>\n",
       "      <th>...</th>\n",
       "      <td>...</td>\n",
       "      <td>...</td>\n",
       "      <td>...</td>\n",
       "      <td>...</td>\n",
       "      <td>...</td>\n",
       "      <td>...</td>\n",
       "      <td>...</td>\n",
       "      <td>...</td>\n",
       "      <td>...</td>\n",
       "      <td>...</td>\n",
       "      <td>...</td>\n",
       "      <td>...</td>\n",
       "      <td>...</td>\n",
       "      <td>...</td>\n",
       "    </tr>\n",
       "    <tr>\n",
       "      <th>886</th>\n",
       "      <td>887</td>\n",
       "      <td>0</td>\n",
       "      <td>2</td>\n",
       "      <td>Montvila; Rev. Juozas</td>\n",
       "      <td>male</td>\n",
       "      <td>27.0</td>\n",
       "      <td>0</td>\n",
       "      <td>0</td>\n",
       "      <td>211536</td>\n",
       "      <td>13.0000</td>\n",
       "      <td>NaN</td>\n",
       "      <td>S</td>\n",
       "      <td>1</td>\n",
       "      <td>0.27</td>\n",
       "    </tr>\n",
       "    <tr>\n",
       "      <th>887</th>\n",
       "      <td>888</td>\n",
       "      <td>1</td>\n",
       "      <td>1</td>\n",
       "      <td>Graham; Miss. Margaret Edith</td>\n",
       "      <td>female</td>\n",
       "      <td>19.0</td>\n",
       "      <td>0</td>\n",
       "      <td>0</td>\n",
       "      <td>112053</td>\n",
       "      <td>30.0000</td>\n",
       "      <td>B42</td>\n",
       "      <td>S</td>\n",
       "      <td>-1</td>\n",
       "      <td>0.19</td>\n",
       "    </tr>\n",
       "    <tr>\n",
       "      <th>888</th>\n",
       "      <td>889</td>\n",
       "      <td>0</td>\n",
       "      <td>3</td>\n",
       "      <td>Johnston; Miss. Catherine Helen \"Carrie\"</td>\n",
       "      <td>female</td>\n",
       "      <td>NaN</td>\n",
       "      <td>1</td>\n",
       "      <td>2</td>\n",
       "      <td>W./C. 6607</td>\n",
       "      <td>23.4500</td>\n",
       "      <td>NaN</td>\n",
       "      <td>S</td>\n",
       "      <td>-1</td>\n",
       "      <td>NaN</td>\n",
       "    </tr>\n",
       "    <tr>\n",
       "      <th>889</th>\n",
       "      <td>890</td>\n",
       "      <td>1</td>\n",
       "      <td>1</td>\n",
       "      <td>Behr; Mr. Karl Howell</td>\n",
       "      <td>male</td>\n",
       "      <td>26.0</td>\n",
       "      <td>0</td>\n",
       "      <td>0</td>\n",
       "      <td>111369</td>\n",
       "      <td>30.0000</td>\n",
       "      <td>C148</td>\n",
       "      <td>C</td>\n",
       "      <td>1</td>\n",
       "      <td>0.26</td>\n",
       "    </tr>\n",
       "    <tr>\n",
       "      <th>890</th>\n",
       "      <td>891</td>\n",
       "      <td>0</td>\n",
       "      <td>3</td>\n",
       "      <td>Dooley; Mr. Patrick</td>\n",
       "      <td>male</td>\n",
       "      <td>32.0</td>\n",
       "      <td>0</td>\n",
       "      <td>0</td>\n",
       "      <td>370376</td>\n",
       "      <td>7.7500</td>\n",
       "      <td>NaN</td>\n",
       "      <td>Q</td>\n",
       "      <td>1</td>\n",
       "      <td>0.32</td>\n",
       "    </tr>\n",
       "  </tbody>\n",
       "</table>\n",
       "<p>891 rows × 14 columns</p>\n",
       "</div>"
      ],
      "text/plain": [
       "     PassengerId  Survived  Pclass  \\\n",
       "0              1         0       3   \n",
       "1              2         1       1   \n",
       "2              3         1       3   \n",
       "3              4         1       1   \n",
       "4              5         0       3   \n",
       "..           ...       ...     ...   \n",
       "886          887         0       2   \n",
       "887          888         1       1   \n",
       "888          889         0       3   \n",
       "889          890         1       1   \n",
       "890          891         0       3   \n",
       "\n",
       "                                                  Name     Sex   Age  SibSp  \\\n",
       "0                              Braund; Mr. Owen Harris    male  22.0      1   \n",
       "1    Cumings; Mrs. John Bradley (Florence Briggs Th...  female  38.0      1   \n",
       "2                               Heikkinen; Miss. Laina  female  26.0      0   \n",
       "3         Futrelle; Mrs. Jacques Heath (Lily May Peel)  female  35.0      1   \n",
       "4                             Allen; Mr. William Henry    male  35.0      0   \n",
       "..                                                 ...     ...   ...    ...   \n",
       "886                              Montvila; Rev. Juozas    male  27.0      0   \n",
       "887                       Graham; Miss. Margaret Edith  female  19.0      0   \n",
       "888           Johnston; Miss. Catherine Helen \"Carrie\"  female   NaN      1   \n",
       "889                              Behr; Mr. Karl Howell    male  26.0      0   \n",
       "890                                Dooley; Mr. Patrick    male  32.0      0   \n",
       "\n",
       "     Parch            Ticket     Fare Cabin Embarked  DecodedSex  NewAge  \n",
       "0        0         A/5 21171   7.2500   NaN        S           1    0.22  \n",
       "1        0          PC 17599  71.2833   C85        C          -1    0.38  \n",
       "2        0  STON/O2. 3101282   7.9250   NaN        S          -1    0.26  \n",
       "3        0            113803  53.1000  C123        S          -1    0.35  \n",
       "4        0            373450   8.0500   NaN        S           1    0.35  \n",
       "..     ...               ...      ...   ...      ...         ...     ...  \n",
       "886      0            211536  13.0000   NaN        S           1    0.27  \n",
       "887      0            112053  30.0000   B42        S          -1    0.19  \n",
       "888      2        W./C. 6607  23.4500   NaN        S          -1     NaN  \n",
       "889      0            111369  30.0000  C148        C           1    0.26  \n",
       "890      0            370376   7.7500   NaN        Q           1    0.32  \n",
       "\n",
       "[891 rows x 14 columns]"
      ]
     },
     "execution_count": 205,
     "metadata": {},
     "output_type": "execute_result"
    }
   ],
   "source": [
    "df"
   ]
  },
  {
   "cell_type": "code",
   "execution_count": 206,
   "id": "8ccefde6",
   "metadata": {
    "id": "D1vT95M2see7"
   },
   "outputs": [],
   "source": [
    "# выделим фамилию из данных\n",
    "df[\"Surname\"] = df[\"Name\"].apply(lambda name: name.split(\";\")[0]) # option1"
   ]
  },
  {
   "cell_type": "code",
   "execution_count": 207,
   "id": "a95e6bfe",
   "metadata": {
    "id": "gFrWolGLsee7"
   },
   "outputs": [],
   "source": [
    "df[\"Surname\"] = df[\"Name\"].apply(lambda name: name[:name.find(\";\")]) # p[tion 2]"
   ]
  },
  {
   "cell_type": "code",
   "execution_count": 208,
   "id": "45726d43",
   "metadata": {
    "colab": {
     "base_uri": "https://localhost:8080/"
    },
    "id": "c5kzVyoqsee7",
    "outputId": "6d450ec8-1be9-405e-b0ca-688d3303b003"
   },
   "outputs": [
    {
     "data": {
      "text/plain": [
       "Andersson    9\n",
       "Sage         7\n",
       "Panula       6\n",
       "Skoog        6\n",
       "Carter       6\n",
       "Name: Surname, dtype: int64"
      ]
     },
     "execution_count": 208,
     "metadata": {},
     "output_type": "execute_result"
    }
   ],
   "source": [
    "df[\"Surname\"].value_counts().head()"
   ]
  },
  {
   "cell_type": "code",
   "execution_count": null,
   "id": "71f0efc1",
   "metadata": {
    "id": "nHCiwY21see8"
   },
   "outputs": [],
   "source": []
  },
  {
   "cell_type": "code",
   "execution_count": 209,
   "id": "34519965",
   "metadata": {
    "colab": {
     "base_uri": "https://localhost:8080/"
    },
    "id": "RnKpD_XFsee8",
    "outputId": "52cf4145-badd-4fe6-90f8-6f6d871c480d"
   },
   "outputs": [
    {
     "data": {
      "text/plain": [
       "array([[1, 0, 3, ..., 1, 0.22, 'Braund'],\n",
       "       [2, 1, 1, ..., -1, 0.38, 'Cumings'],\n",
       "       [3, 1, 3, ..., -1, 0.26, 'Heikkinen'],\n",
       "       ...,\n",
       "       [889, 0, 3, ..., -1, nan, 'Johnston'],\n",
       "       [890, 1, 1, ..., 1, 0.26, 'Behr'],\n",
       "       [891, 0, 3, ..., 1, 0.32, 'Dooley']], dtype=object)"
      ]
     },
     "execution_count": 209,
     "metadata": {},
     "output_type": "execute_result"
    }
   ],
   "source": [
    "df.values # df -> numpy.array"
   ]
  },
  {
   "cell_type": "code",
   "execution_count": null,
   "id": "1cd7e328",
   "metadata": {
    "id": "R-9bDLeksee8"
   },
   "outputs": [],
   "source": []
  },
  {
   "cell_type": "code",
   "execution_count": 210,
   "id": "02d6b97d",
   "metadata": {
    "colab": {
     "base_uri": "https://localhost:8080/"
    },
    "id": "JNc_AtTnsee8",
    "outputId": "05fb6b72-2bf7-4c16-b50e-8d9c4ea5a96f"
   },
   "outputs": [
    {
     "data": {
      "text/plain": [
       "Sex\n",
       "female     27.953846\n",
       "male       30.774590\n",
       "unknown    19.276667\n",
       "Name: Age, dtype: float64"
      ]
     },
     "execution_count": 210,
     "metadata": {},
     "output_type": "execute_result"
    }
   ],
   "source": [
    "# Исследуем возраст пассажиров Титаника\n",
    "df.groupby(\"Sex\")[\"Age\"].mean()"
   ]
  },
  {
   "cell_type": "code",
   "execution_count": 211,
   "id": "78c372e3",
   "metadata": {
    "colab": {
     "base_uri": "https://localhost:8080/"
    },
    "id": "-s6S85Ocsee8",
    "outputId": "5e9ce7f7-d7f0-463e-a426-e327e63cfb0d"
   },
   "outputs": [
    {
     "data": {
      "text/plain": [
       "Sex\n",
       "female     27.953846\n",
       "male       30.774590\n",
       "unknown    19.276667\n",
       "Name: Age, dtype: float64"
      ]
     },
     "execution_count": 211,
     "metadata": {},
     "output_type": "execute_result"
    }
   ],
   "source": [
    "df.groupby(\"Sex\")[\"Age\"].apply(np.mean)"
   ]
  },
  {
   "cell_type": "code",
   "execution_count": 212,
   "id": "8b9375f8",
   "metadata": {
    "colab": {
     "base_uri": "https://localhost:8080/"
    },
    "id": "Qwg8jiJwsee8",
    "outputId": "19a5b5db-18a9-46d0-8e53-51f20f2d5f8a"
   },
   "outputs": [
    {
     "data": {
      "text/plain": [
       "Sex\n",
       "female     781.417515\n",
       "male       947.075377\n",
       "unknown    371.589878\n",
       "Name: Age, dtype: float64"
      ]
     },
     "execution_count": 212,
     "metadata": {},
     "output_type": "execute_result"
    }
   ],
   "source": [
    "df.groupby(\"Sex\")[\"Age\"].apply(lambda ages: np.mean(ages)**2)"
   ]
  },
  {
   "cell_type": "code",
   "execution_count": 213,
   "id": "f45937bd",
   "metadata": {
    "colab": {
     "base_uri": "https://localhost:8080/"
    },
    "id": "spGPbVhwsee8",
    "outputId": "c1a43e1a-e5a3-4c74-f70e-ec33dc728ff4"
   },
   "outputs": [
    {
     "data": {
      "text/plain": [
       "Survived\n",
       "0    30.626179\n",
       "1    28.343690\n",
       "Name: Age, dtype: float64"
      ]
     },
     "execution_count": 213,
     "metadata": {},
     "output_type": "execute_result"
    }
   ],
   "source": [
    "df.groupby(\"Survived\")[\"Age\"].apply(np.mean)"
   ]
  },
  {
   "cell_type": "code",
   "execution_count": 214,
   "id": "59673eeb",
   "metadata": {
    "colab": {
     "base_uri": "https://localhost:8080/",
     "height": 343
    },
    "id": "1ic-_a25see8",
    "outputId": "9092cd2d-e010-4ea1-e47f-19d1923347db"
   },
   "outputs": [
    {
     "data": {
      "text/html": [
       "<div>\n",
       "<style scoped>\n",
       "    .dataframe tbody tr th:only-of-type {\n",
       "        vertical-align: middle;\n",
       "    }\n",
       "\n",
       "    .dataframe tbody tr th {\n",
       "        vertical-align: top;\n",
       "    }\n",
       "\n",
       "    .dataframe thead th {\n",
       "        text-align: right;\n",
       "    }\n",
       "</style>\n",
       "<table border=\"1\" class=\"dataframe\">\n",
       "  <thead>\n",
       "    <tr style=\"text-align: right;\">\n",
       "      <th></th>\n",
       "      <th></th>\n",
       "      <th>avg</th>\n",
       "      <th>avg_surv</th>\n",
       "    </tr>\n",
       "    <tr>\n",
       "      <th>Sex</th>\n",
       "      <th>Pclass</th>\n",
       "      <th></th>\n",
       "      <th></th>\n",
       "    </tr>\n",
       "  </thead>\n",
       "  <tbody>\n",
       "    <tr>\n",
       "      <th rowspan=\"3\" valign=\"top\">female</th>\n",
       "      <th>1</th>\n",
       "      <td>34.611765</td>\n",
       "      <td>0.968085</td>\n",
       "    </tr>\n",
       "    <tr>\n",
       "      <th>2</th>\n",
       "      <td>28.722973</td>\n",
       "      <td>0.921053</td>\n",
       "    </tr>\n",
       "    <tr>\n",
       "      <th>3</th>\n",
       "      <td>21.787129</td>\n",
       "      <td>0.500000</td>\n",
       "    </tr>\n",
       "    <tr>\n",
       "      <th rowspan=\"3\" valign=\"top\">male</th>\n",
       "      <th>1</th>\n",
       "      <td>41.281386</td>\n",
       "      <td>0.368852</td>\n",
       "    </tr>\n",
       "    <tr>\n",
       "      <th>2</th>\n",
       "      <td>31.045918</td>\n",
       "      <td>0.149533</td>\n",
       "    </tr>\n",
       "    <tr>\n",
       "      <th>3</th>\n",
       "      <td>26.458016</td>\n",
       "      <td>0.136232</td>\n",
       "    </tr>\n",
       "    <tr>\n",
       "      <th rowspan=\"2\" valign=\"top\">unknown</th>\n",
       "      <th>2</th>\n",
       "      <td>0.830000</td>\n",
       "      <td>1.000000</td>\n",
       "    </tr>\n",
       "    <tr>\n",
       "      <th>3</th>\n",
       "      <td>28.500000</td>\n",
       "      <td>0.250000</td>\n",
       "    </tr>\n",
       "  </tbody>\n",
       "</table>\n",
       "</div>"
      ],
      "text/plain": [
       "                      avg  avg_surv\n",
       "Sex     Pclass                     \n",
       "female  1       34.611765  0.968085\n",
       "        2       28.722973  0.921053\n",
       "        3       21.787129  0.500000\n",
       "male    1       41.281386  0.368852\n",
       "        2       31.045918  0.149533\n",
       "        3       26.458016  0.136232\n",
       "unknown 2        0.830000  1.000000\n",
       "        3       28.500000  0.250000"
      ]
     },
     "execution_count": 214,
     "metadata": {},
     "output_type": "execute_result"
    }
   ],
   "source": [
    "#группировка по нескольким столбцам и агрегация нескольких полей сразу\n",
    "df.groupby([\"Sex\", \"Pclass\"]).agg(avg=('Age', 'mean'), avg_surv=('Survived', 'mean'))"
   ]
  },
  {
   "cell_type": "code",
   "execution_count": 215,
   "id": "860042f3",
   "metadata": {
    "colab": {
     "base_uri": "https://localhost:8080/"
    },
    "id": "lGaJgk5Msee8",
    "outputId": "77ac66f7-ec0c-4692-96ce-34f8440035eb"
   },
   "outputs": [
    {
     "data": {
      "text/plain": [
       "22"
      ]
     },
     "execution_count": 215,
     "metadata": {},
     "output_type": "execute_result"
    }
   ],
   "source": [
    "# .mean -> .count\n",
    "# Сколько семей больше трех человек?\n",
    "np.sum(df.groupby(\"Surname\")[\"Name\"].count() > 3)"
   ]
  },
  {
   "cell_type": "code",
   "execution_count": 216,
   "id": "a1c6f84f",
   "metadata": {
    "colab": {
     "base_uri": "https://localhost:8080/"
    },
    "id": "EWQR9g7rsee8",
    "outputId": "28ac2634-795c-4c8f-f6fd-d622cc8d4ac8"
   },
   "outputs": [
    {
     "data": {
      "text/plain": [
       "39"
      ]
     },
     "execution_count": 216,
     "metadata": {},
     "output_type": "execute_result"
    }
   ],
   "source": [
    "# Сколько семей, в которых минимальный возраст меньше 10 лет?\n",
    "np.sum(df.groupby(\"Surname\")[\"Age\"].apply(min) < 10)"
   ]
  },
  {
   "cell_type": "code",
   "execution_count": 217,
   "id": "bf40d85f",
   "metadata": {
    "colab": {
     "base_uri": "https://localhost:8080/"
    },
    "id": "6lcXHnAAsee8",
    "outputId": "6a4a06b7-3baa-4918-8d8c-6c731d10c5a1"
   },
   "outputs": [
    {
     "data": {
      "text/plain": [
       "0      False\n",
       "1      False\n",
       "2      False\n",
       "3      False\n",
       "4      False\n",
       "       ...  \n",
       "886    False\n",
       "887     True\n",
       "888    False\n",
       "889    False\n",
       "890    False\n",
       "Name: Age, Length: 891, dtype: bool"
      ]
     },
     "execution_count": 217,
     "metadata": {},
     "output_type": "execute_result"
    }
   ],
   "source": [
    "# можно выделять объекты с помощью масок\n",
    "# cоздание маски\n",
    "(df[\"Age\"]>10) & (df[\"Age\"]<20)"
   ]
  },
  {
   "cell_type": "code",
   "execution_count": 218,
   "id": "bc8b1326",
   "metadata": {
    "colab": {
     "base_uri": "https://localhost:8080/",
     "height": 675
    },
    "id": "VVAsDgmOsee9",
    "outputId": "0aa9fbfb-35ee-4702-b40c-5b185bb858e7"
   },
   "outputs": [
    {
     "data": {
      "text/html": [
       "<div>\n",
       "<style scoped>\n",
       "    .dataframe tbody tr th:only-of-type {\n",
       "        vertical-align: middle;\n",
       "    }\n",
       "\n",
       "    .dataframe tbody tr th {\n",
       "        vertical-align: top;\n",
       "    }\n",
       "\n",
       "    .dataframe thead th {\n",
       "        text-align: right;\n",
       "    }\n",
       "</style>\n",
       "<table border=\"1\" class=\"dataframe\">\n",
       "  <thead>\n",
       "    <tr style=\"text-align: right;\">\n",
       "      <th></th>\n",
       "      <th>PassengerId</th>\n",
       "      <th>Survived</th>\n",
       "      <th>Pclass</th>\n",
       "      <th>Name</th>\n",
       "      <th>Sex</th>\n",
       "      <th>Age</th>\n",
       "      <th>SibSp</th>\n",
       "      <th>Parch</th>\n",
       "      <th>Ticket</th>\n",
       "      <th>Fare</th>\n",
       "      <th>Cabin</th>\n",
       "      <th>Embarked</th>\n",
       "      <th>DecodedSex</th>\n",
       "      <th>NewAge</th>\n",
       "      <th>Surname</th>\n",
       "    </tr>\n",
       "  </thead>\n",
       "  <tbody>\n",
       "    <tr>\n",
       "      <th>9</th>\n",
       "      <td>10</td>\n",
       "      <td>1</td>\n",
       "      <td>2</td>\n",
       "      <td>Nasser; Mrs. Nicholas (Adele Achem)</td>\n",
       "      <td>female</td>\n",
       "      <td>14.0</td>\n",
       "      <td>1</td>\n",
       "      <td>0</td>\n",
       "      <td>237736</td>\n",
       "      <td>30.0708</td>\n",
       "      <td>NaN</td>\n",
       "      <td>C</td>\n",
       "      <td>-1</td>\n",
       "      <td>0.14</td>\n",
       "      <td>Nasser</td>\n",
       "    </tr>\n",
       "    <tr>\n",
       "      <th>14</th>\n",
       "      <td>15</td>\n",
       "      <td>0</td>\n",
       "      <td>3</td>\n",
       "      <td>Vestrom; Miss. Hulda Amanda Adolfina</td>\n",
       "      <td>female</td>\n",
       "      <td>14.0</td>\n",
       "      <td>0</td>\n",
       "      <td>0</td>\n",
       "      <td>350406</td>\n",
       "      <td>7.8542</td>\n",
       "      <td>NaN</td>\n",
       "      <td>S</td>\n",
       "      <td>-1</td>\n",
       "      <td>0.14</td>\n",
       "      <td>Vestrom</td>\n",
       "    </tr>\n",
       "    <tr>\n",
       "      <th>22</th>\n",
       "      <td>23</td>\n",
       "      <td>1</td>\n",
       "      <td>3</td>\n",
       "      <td>McGowan; Miss. Anna \"Annie\"</td>\n",
       "      <td>female</td>\n",
       "      <td>15.0</td>\n",
       "      <td>0</td>\n",
       "      <td>0</td>\n",
       "      <td>330923</td>\n",
       "      <td>8.0292</td>\n",
       "      <td>NaN</td>\n",
       "      <td>Q</td>\n",
       "      <td>-1</td>\n",
       "      <td>0.15</td>\n",
       "      <td>McGowan</td>\n",
       "    </tr>\n",
       "    <tr>\n",
       "      <th>27</th>\n",
       "      <td>28</td>\n",
       "      <td>0</td>\n",
       "      <td>1</td>\n",
       "      <td>Fortune; Mr. Charles Alexander</td>\n",
       "      <td>male</td>\n",
       "      <td>19.0</td>\n",
       "      <td>3</td>\n",
       "      <td>2</td>\n",
       "      <td>19950</td>\n",
       "      <td>263.0000</td>\n",
       "      <td>C23 C25 C27</td>\n",
       "      <td>S</td>\n",
       "      <td>1</td>\n",
       "      <td>0.19</td>\n",
       "      <td>Fortune</td>\n",
       "    </tr>\n",
       "    <tr>\n",
       "      <th>38</th>\n",
       "      <td>39</td>\n",
       "      <td>0</td>\n",
       "      <td>3</td>\n",
       "      <td>Vander Planke; Miss. Augusta Maria</td>\n",
       "      <td>female</td>\n",
       "      <td>18.0</td>\n",
       "      <td>2</td>\n",
       "      <td>0</td>\n",
       "      <td>345764</td>\n",
       "      <td>18.0000</td>\n",
       "      <td>NaN</td>\n",
       "      <td>S</td>\n",
       "      <td>-1</td>\n",
       "      <td>0.18</td>\n",
       "      <td>Vander Planke</td>\n",
       "    </tr>\n",
       "    <tr>\n",
       "      <th>...</th>\n",
       "      <td>...</td>\n",
       "      <td>...</td>\n",
       "      <td>...</td>\n",
       "      <td>...</td>\n",
       "      <td>...</td>\n",
       "      <td>...</td>\n",
       "      <td>...</td>\n",
       "      <td>...</td>\n",
       "      <td>...</td>\n",
       "      <td>...</td>\n",
       "      <td>...</td>\n",
       "      <td>...</td>\n",
       "      <td>...</td>\n",
       "      <td>...</td>\n",
       "      <td>...</td>\n",
       "    </tr>\n",
       "    <tr>\n",
       "      <th>853</th>\n",
       "      <td>854</td>\n",
       "      <td>1</td>\n",
       "      <td>1</td>\n",
       "      <td>Lines; Miss. Mary Conover</td>\n",
       "      <td>female</td>\n",
       "      <td>16.0</td>\n",
       "      <td>0</td>\n",
       "      <td>1</td>\n",
       "      <td>PC 17592</td>\n",
       "      <td>39.4000</td>\n",
       "      <td>D28</td>\n",
       "      <td>S</td>\n",
       "      <td>-1</td>\n",
       "      <td>0.16</td>\n",
       "      <td>Lines</td>\n",
       "    </tr>\n",
       "    <tr>\n",
       "      <th>855</th>\n",
       "      <td>856</td>\n",
       "      <td>1</td>\n",
       "      <td>3</td>\n",
       "      <td>Aks; Mrs. Sam (Leah Rosen)</td>\n",
       "      <td>female</td>\n",
       "      <td>18.0</td>\n",
       "      <td>0</td>\n",
       "      <td>1</td>\n",
       "      <td>392091</td>\n",
       "      <td>9.3500</td>\n",
       "      <td>NaN</td>\n",
       "      <td>S</td>\n",
       "      <td>-1</td>\n",
       "      <td>0.18</td>\n",
       "      <td>Aks</td>\n",
       "    </tr>\n",
       "    <tr>\n",
       "      <th>875</th>\n",
       "      <td>876</td>\n",
       "      <td>1</td>\n",
       "      <td>3</td>\n",
       "      <td>Najib; Miss. Adele Kiamie \"Jane\"</td>\n",
       "      <td>female</td>\n",
       "      <td>15.0</td>\n",
       "      <td>0</td>\n",
       "      <td>0</td>\n",
       "      <td>2667</td>\n",
       "      <td>7.2250</td>\n",
       "      <td>NaN</td>\n",
       "      <td>C</td>\n",
       "      <td>-1</td>\n",
       "      <td>0.15</td>\n",
       "      <td>Najib</td>\n",
       "    </tr>\n",
       "    <tr>\n",
       "      <th>877</th>\n",
       "      <td>878</td>\n",
       "      <td>0</td>\n",
       "      <td>3</td>\n",
       "      <td>Petroff; Mr. Nedelio</td>\n",
       "      <td>male</td>\n",
       "      <td>19.0</td>\n",
       "      <td>0</td>\n",
       "      <td>0</td>\n",
       "      <td>349212</td>\n",
       "      <td>7.8958</td>\n",
       "      <td>NaN</td>\n",
       "      <td>S</td>\n",
       "      <td>1</td>\n",
       "      <td>0.19</td>\n",
       "      <td>Petroff</td>\n",
       "    </tr>\n",
       "    <tr>\n",
       "      <th>887</th>\n",
       "      <td>888</td>\n",
       "      <td>1</td>\n",
       "      <td>1</td>\n",
       "      <td>Graham; Miss. Margaret Edith</td>\n",
       "      <td>female</td>\n",
       "      <td>19.0</td>\n",
       "      <td>0</td>\n",
       "      <td>0</td>\n",
       "      <td>112053</td>\n",
       "      <td>30.0000</td>\n",
       "      <td>B42</td>\n",
       "      <td>S</td>\n",
       "      <td>-1</td>\n",
       "      <td>0.19</td>\n",
       "      <td>Graham</td>\n",
       "    </tr>\n",
       "  </tbody>\n",
       "</table>\n",
       "<p>100 rows × 15 columns</p>\n",
       "</div>"
      ],
      "text/plain": [
       "     PassengerId  Survived  Pclass                                  Name  \\\n",
       "9             10         1       2   Nasser; Mrs. Nicholas (Adele Achem)   \n",
       "14            15         0       3  Vestrom; Miss. Hulda Amanda Adolfina   \n",
       "22            23         1       3           McGowan; Miss. Anna \"Annie\"   \n",
       "27            28         0       1        Fortune; Mr. Charles Alexander   \n",
       "38            39         0       3    Vander Planke; Miss. Augusta Maria   \n",
       "..           ...       ...     ...                                   ...   \n",
       "853          854         1       1             Lines; Miss. Mary Conover   \n",
       "855          856         1       3            Aks; Mrs. Sam (Leah Rosen)   \n",
       "875          876         1       3      Najib; Miss. Adele Kiamie \"Jane\"   \n",
       "877          878         0       3                  Petroff; Mr. Nedelio   \n",
       "887          888         1       1          Graham; Miss. Margaret Edith   \n",
       "\n",
       "        Sex   Age  SibSp  Parch    Ticket      Fare        Cabin Embarked  \\\n",
       "9    female  14.0      1      0    237736   30.0708          NaN        C   \n",
       "14   female  14.0      0      0    350406    7.8542          NaN        S   \n",
       "22   female  15.0      0      0    330923    8.0292          NaN        Q   \n",
       "27     male  19.0      3      2     19950  263.0000  C23 C25 C27        S   \n",
       "38   female  18.0      2      0    345764   18.0000          NaN        S   \n",
       "..      ...   ...    ...    ...       ...       ...          ...      ...   \n",
       "853  female  16.0      0      1  PC 17592   39.4000          D28        S   \n",
       "855  female  18.0      0      1    392091    9.3500          NaN        S   \n",
       "875  female  15.0      0      0      2667    7.2250          NaN        C   \n",
       "877    male  19.0      0      0    349212    7.8958          NaN        S   \n",
       "887  female  19.0      0      0    112053   30.0000          B42        S   \n",
       "\n",
       "     DecodedSex  NewAge        Surname  \n",
       "9            -1    0.14         Nasser  \n",
       "14           -1    0.14        Vestrom  \n",
       "22           -1    0.15        McGowan  \n",
       "27            1    0.19        Fortune  \n",
       "38           -1    0.18  Vander Planke  \n",
       "..          ...     ...            ...  \n",
       "853          -1    0.16          Lines  \n",
       "855          -1    0.18            Aks  \n",
       "875          -1    0.15          Najib  \n",
       "877           1    0.19        Petroff  \n",
       "887          -1    0.19         Graham  \n",
       "\n",
       "[100 rows x 15 columns]"
      ]
     },
     "execution_count": 218,
     "metadata": {},
     "output_type": "execute_result"
    }
   ],
   "source": [
    "# пассажиры, удовлетворяющие условию\n",
    "df.loc[(df[\"Age\"]>10) & (df[\"Age\"]<20)]"
   ]
  },
  {
   "cell_type": "markdown",
   "id": "403836c3",
   "metadata": {
    "collapsed": true,
    "id": "JVVGKTIVsee9"
   },
   "source": [
    "### Доп материалы"
   ]
  },
  {
   "cell_type": "markdown",
   "id": "9c7454aa",
   "metadata": {
    "id": "E0Er17Vdsee9"
   },
   "source": [
    "\n",
    "[Pandas Cheat Sheet](https://github.com/pandas-dev/pandas/blob/master/doc/cheatsheet/Pandas_Cheat_Sheet.pdf)\n",
    "\n",
    "[10 Minutes To Pandas](https://pandas.pydata.org/pandas-docs/stable/10min.html)\n",
    "\n",
    "[Pandas CookBook](https://pandas.pydata.org/pandas-docs/stable/cookbook.html#cookbook)"
   ]
  },
  {
   "cell_type": "code",
   "execution_count": null,
   "id": "79449412",
   "metadata": {
    "id": "-gj1xhfesee9"
   },
   "outputs": [],
   "source": []
  },
  {
   "cell_type": "markdown",
   "id": "acb6b026",
   "metadata": {
    "collapsed": true,
    "id": "5-gOi3dVDFC-"
   },
   "source": [
    "### Задания:\n",
    "\n",
    "1. Какова доля семей, в которых минимальный возраст меньше 20 (семьи с детьми)?"
   ]
  },
  {
   "cell_type": "code",
   "execution_count": 219,
   "id": "5f7f232d",
   "metadata": {
    "id": "F6zSIUAiDFC-"
   },
   "outputs": [],
   "source": [
    "# your code here"
   ]
  },
  {
   "cell_type": "markdown",
   "id": "db121622",
   "metadata": {
    "id": "ARjJDMPPDFC-"
   },
   "source": [
    "2. Какова доля выживших пассажиров из класса 3? А пассажиров из класса 1?"
   ]
  },
  {
   "cell_type": "code",
   "execution_count": null,
   "id": "faedd63c",
   "metadata": {
    "id": "v-S8QROYDFC-"
   },
   "outputs": [],
   "source": [
    "# your code here"
   ]
  },
  {
   "cell_type": "markdown",
   "id": "c738b629",
   "metadata": {
    "id": "Fda4wqiGDFC_"
   },
   "source": [
    "3. Сколько пассажиров выжило, а сколько - нет?"
   ]
  },
  {
   "cell_type": "code",
   "execution_count": null,
   "id": "d997ffb9",
   "metadata": {
    "id": "ZmGWMW_EDFC_"
   },
   "outputs": [],
   "source": [
    "#your code here"
   ]
  },
  {
   "cell_type": "markdown",
   "id": "423c7857",
   "metadata": {
    "id": "BTGPvzOsDFC_"
   },
   "source": [
    "4. Создайте столбец \"IsChild\", который равен 1, если возраст меньше 20, и 0 иначе. Для пропущенных значений поведение функции может быть произвольным."
   ]
  },
  {
   "cell_type": "code",
   "execution_count": null,
   "id": "2828917b",
   "metadata": {
    "id": "LqXhalJvDFC_"
   },
   "outputs": [],
   "source": [
    "# your code here"
   ]
  },
  {
   "cell_type": "markdown",
   "id": "f772b45d",
   "metadata": {
    "id": "J85Z2P6EDFC_"
   },
   "source": [
    "5. Какова доля выживших женщин из первого класса? А доля выживших мужчин из 3 класса?"
   ]
  },
  {
   "cell_type": "code",
   "execution_count": null,
   "id": "18435f6d",
   "metadata": {
    "id": "LeJuMq-qDFC_"
   },
   "outputs": [],
   "source": [
    "# your code here"
   ]
  },
  {
   "cell_type": "code",
   "execution_count": null,
   "id": "36ccd2ae",
   "metadata": {
    "id": "OC7Zite1DFC_"
   },
   "outputs": [],
   "source": []
  }
 ],
 "metadata": {
  "colab": {
   "provenance": []
  },
  "kernelspec": {
   "display_name": "Python 3 (ipykernel)",
   "language": "python",
   "name": "python3"
  },
  "language_info": {
   "codemirror_mode": {
    "name": "ipython",
    "version": 3
   },
   "file_extension": ".py",
   "mimetype": "text/x-python",
   "name": "python",
   "nbconvert_exporter": "python",
   "pygments_lexer": "ipython3",
   "version": "3.10.1"
  }
 },
 "nbformat": 4,
 "nbformat_minor": 5
}
