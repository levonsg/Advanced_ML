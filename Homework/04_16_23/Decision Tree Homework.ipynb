{
 "cells": [
  {
   "cell_type": "markdown",
   "metadata": {},
   "source": [
    "# Homework"
   ]
  },
  {
   "cell_type": "markdown",
   "metadata": {},
   "source": [
    "1. create a decision_tree.py file;\n",
    "2. this python file should receive as an argument data full path (--data_path) target column name (--target) and 4 possible argument values (max_depth, criterion, max_leaf_nodes and random_state). First two should be neccessary arguments, the other 4, if not given, should get some default values set by you;\n",
    "3. https://docs.python.org/3/howto/argparse.html - a tutorial how to add arguments to a python file run;\n",
    "4. the file should read arguments, read dataset, separate X and y according to target column name, handle categorical columns (you can drop them, this task is not about it) and build a decision tree model by given (if not given, default) params of max_depth, class_weight and max_leaf_nodes;\n",
    "5. You don't need to do CV here or tune parameters. You need to just fit the model on whole data;\n",
    "6. The code should save built tree in the same directory as the decision_tree.py file is by name tree.png;\n",
    "7. Besides that, you need to build this tree for classification.csv dataset with your default parameters, save that image as example.png and sent it alongside your code;\n",
    "8. Our TA will run the following code first\n",
    "\n",
    "\n",
    "python decision_tree.py --data_path <path_to_classification.csv>  --target default \n",
    "\n",
    "\n",
    "9. If everything is correct, the output png file should be the same as the one you sent. This would be the initial check of correctnes for your code. "
   ]
  },
  {
   "cell_type": "code",
   "execution_count": null,
   "metadata": {},
   "outputs": [],
   "source": []
  }
 ],
 "metadata": {
  "kernelspec": {
   "display_name": "Python 3 (ipykernel)",
   "language": "python",
   "name": "python3"
  },
  "language_info": {
   "codemirror_mode": {
    "name": "ipython",
    "version": 3
   },
   "file_extension": ".py",
   "mimetype": "text/x-python",
   "name": "python",
   "nbconvert_exporter": "python",
   "pygments_lexer": "ipython3",
   "version": "3.9.16"
  }
 },
 "nbformat": 4,
 "nbformat_minor": 4
}
