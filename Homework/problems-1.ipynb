{
 "cells": [
  {
   "cell_type": "markdown",
   "id": "acc9c198",
   "metadata": {},
   "source": [
    "1. Implement bubble sort algorithm\n",
    "\n",
    "\n",
    "2. Implement binary search (recursively)\n",
    "\n",
    "\n",
    "3. Take two lists and and write a program that returns a list that contains only the elements that are common between the lists (without duplicates). Make sure your program works on two lists of different sizes.\n",
    "\n",
    "\n",
    "4. Write a program that asks the user how many Fibonnaci numbers to generate and then generates them. Take this opportunity to think about how you can use functions. Make sure to ask the user to enter the number of numbers in the sequence to generate.\n",
    "\n",
    "\n",
    "5. Make a two-player Rock-Paper-Scissors game. (Hint: Ask for player plays (using input), compare them, print out a message of congratulations to the winner, and ask if the players want to start a new game)\n",
    "\n",
    "\n",
    "6. Write a program (using functions!) that asks the user for a long string containing multiple words. Print back to the user the same string, except with the words in backwards order.\n",
    "\n",
    "\n",
    "7. https://app.codesignal.com/challenge/i6w5YHq3DbyCJ4oia"
   ]
  },
  {
   "cell_type": "markdown",
   "id": "7e6d6782-0413-47dc-856a-c571747e86cc",
   "metadata": {},
   "source": [
    "# 1"
   ]
  },
  {
   "cell_type": "code",
   "execution_count": 14,
   "id": "b103df5a-0170-4cc4-97c9-cdf7b11203bd",
   "metadata": {
    "tags": []
   },
   "outputs": [],
   "source": [
    "def bubble_sort(ar):\n",
    "    n = len(ar)\n",
    "    fl = 0\n",
    "    for i in range(n-1):\n",
    "        for j in range(n-1):\n",
    "            if ar[j] > ar[j+1]:\n",
    "                ar[j], ar[j+1] = ar[j+1], ar[j]\n",
    "                fl = 1\n",
    "        if fl==0:\n",
    "            break\n",
    "    return ar"
   ]
  },
  {
   "cell_type": "code",
   "execution_count": 33,
   "id": "3401f66d-fbe8-418f-936b-f2edb54a9d85",
   "metadata": {
    "tags": []
   },
   "outputs": [
    {
     "data": {
      "text/plain": [
       "[1, 1, 1, 3, 3, 4, 10, 12, 233]"
      ]
     },
     "execution_count": 33,
     "metadata": {},
     "output_type": "execute_result"
    }
   ],
   "source": [
    "ar = [4, 3, 1, 1, 3, 1, 10, 12, 233]\n",
    "bubble_sort(ar)"
   ]
  },
  {
   "cell_type": "markdown",
   "id": "9527ed93-bf1c-4198-b5b2-9e8bf2b16ea1",
   "metadata": {},
   "source": [
    "# 2"
   ]
  },
  {
   "cell_type": "markdown",
   "id": "495a8cb4-bc4d-4562-a082-7ad5c1081927",
   "metadata": {
    "tags": []
   },
   "source": [
    "# I guess, it supposed array should be sorted"
   ]
  },
  {
   "cell_type": "code",
   "execution_count": 34,
   "id": "6c0e66e9-3378-49fe-8126-2efd67f9cb50",
   "metadata": {
    "tags": []
   },
   "outputs": [],
   "source": [
    "def binary_search(arr, left, right, search_el):\n",
    "    if left > right:\n",
    "        return -1\n",
    "    mid = (right - left)//2\n",
    "    if arr[mid] == search_el:\n",
    "        return mid\n",
    "    elif arr[mid] > search_el:\n",
    "        return binary_search(arr, left+1, right, search_el)\n",
    "    elif arr[mid] < search_el:\n",
    "        return binary_search(arr, left, right+1, search_el)\n",
    "    "
   ]
  },
  {
   "cell_type": "code",
   "execution_count": 35,
   "id": "5e47972a-82a3-407d-b3d2-791458c984c0",
   "metadata": {
    "tags": []
   },
   "outputs": [
    {
     "data": {
      "text/plain": [
       "2"
      ]
     },
     "execution_count": 35,
     "metadata": {},
     "output_type": "execute_result"
    }
   ],
   "source": [
    "binary_search(bubble_sort(ar), 0, len(bubble_sort(ar))-1, 1)"
   ]
  },
  {
   "cell_type": "markdown",
   "id": "0b735bbc-d251-4550-b398-fc41421ddae5",
   "metadata": {},
   "source": [
    "# 3"
   ]
  },
  {
   "cell_type": "code",
   "execution_count": 36,
   "id": "0cd9285a-8ba6-469a-974d-7dcff080be67",
   "metadata": {
    "tags": []
   },
   "outputs": [],
   "source": [
    "def common_el(list1, list2):\n",
    "    common = []\n",
    "    for i in list1:\n",
    "        if i in list2 and i not in common:\n",
    "            common.append(i)\n",
    "    return common\n"
   ]
  },
  {
   "cell_type": "code",
   "execution_count": 42,
   "id": "1b70c29d-8da3-445d-b532-ce3a1b936741",
   "metadata": {
    "tags": []
   },
   "outputs": [
    {
     "data": {
      "text/plain": [
       "[3]"
      ]
     },
     "execution_count": 42,
     "metadata": {},
     "output_type": "execute_result"
    }
   ],
   "source": [
    "list1 = [1, 3, 4, 3]\n",
    "list2 = [3, 3]\n",
    "common_el(list1, list2)"
   ]
  },
  {
   "cell_type": "markdown",
   "id": "ba2af499-3574-4f3e-9190-ea2d7dd1fd7a",
   "metadata": {},
   "source": [
    "# 4"
   ]
  },
  {
   "cell_type": "code",
   "execution_count": 43,
   "id": "111e6329-1ddd-429d-a2ca-e8422231eb21",
   "metadata": {
    "tags": []
   },
   "outputs": [],
   "source": [
    "def num_fib(num):\n",
    "    fib = []\n",
    "    \n",
    "    a, b = 0, 1\n",
    "    for i in range(num):\n",
    "        fib.append(a)\n",
    "        a, b = b, a+b\n",
    "    return fib\n",
    "\n",
    "\n",
    "    "
   ]
  },
  {
   "cell_type": "code",
   "execution_count": 45,
   "id": "c4a4baa4-104e-4f34-9ff2-43e7b5840127",
   "metadata": {
    "tags": []
   },
   "outputs": [
    {
     "name": "stdin",
     "output_type": "stream",
     "text": [
      "Write number of Fibonacci items: 23\n"
     ]
    },
    {
     "data": {
      "text/plain": [
       "[0,\n",
       " 1,\n",
       " 1,\n",
       " 2,\n",
       " 3,\n",
       " 5,\n",
       " 8,\n",
       " 13,\n",
       " 21,\n",
       " 34,\n",
       " 55,\n",
       " 89,\n",
       " 144,\n",
       " 233,\n",
       " 377,\n",
       " 610,\n",
       " 987,\n",
       " 1597,\n",
       " 2584,\n",
       " 4181,\n",
       " 6765,\n",
       " 10946,\n",
       " 17711]"
      ]
     },
     "execution_count": 45,
     "metadata": {},
     "output_type": "execute_result"
    }
   ],
   "source": [
    "num = int(input('Write number of Fibonacci items:'))\n",
    "num_fib(num)"
   ]
  },
  {
   "cell_type": "markdown",
   "id": "e7cd949f-f4cf-4939-afd4-f1cad756e20e",
   "metadata": {
    "tags": []
   },
   "source": [
    "# 5 "
   ]
  },
  {
   "cell_type": "code",
   "execution_count": 62,
   "id": "0893e887-ace2-48e5-8b6a-f0797880e39a",
   "metadata": {
    "tags": []
   },
   "outputs": [],
   "source": [
    "def play():\n",
    "    player1 = input('player1 write Rock-Paper-Scissors').lower()\n",
    "    while (player1 != 'rock') and (player1 != 'paper') and (player1 != 'scissors'):\n",
    "        player1 = input('player1, please write correct Rock-Paper-Scissors').lower()\n",
    "    player2 = input('player2 write Rock-Paper-Scissors').lower()\n",
    "    while (player2 != 'rock') and (player2 != 'paper') and (player2 != 'scissors'):\n",
    "        player2 = input('player2, please write correct Rock-Paper-Scissors').lower()\n",
    "    if player1 == player2:\n",
    "        print('it is a draw')\n",
    "        return \n",
    "    elif (player1 == 'rock' and player2 == 'scissors') or (player1 == 'scissors' and player2 == 'paper') or (player1 == 'paper' and player2 == 'rock'):\n",
    "        print('player1 won')\n",
    "        return \n",
    "    else:\n",
    "        print('player2 won')\n",
    "        return "
   ]
  },
  {
   "cell_type": "code",
   "execution_count": 63,
   "id": "b5fe2f9a-b6eb-4e9f-a403-c01251e2afa0",
   "metadata": {
    "tags": []
   },
   "outputs": [
    {
     "name": "stdin",
     "output_type": "stream",
     "text": [
      "player1 write Rock-Paper-Scissors rock\n",
      "player2 write Rock-Paper-Scissors paper\n"
     ]
    },
    {
     "name": "stdout",
     "output_type": "stream",
     "text": [
      "player2 won\n"
     ]
    },
    {
     "name": "stdin",
     "output_type": "stream",
     "text": [
      "do you want play again y/n y\n",
      "player1 write Rock-Paper-Scissors asdf\n",
      "player1, please write correct Rock-Paper-Scissors rock\n",
      "player2 write Rock-Paper-Scissors scissors\n"
     ]
    },
    {
     "name": "stdout",
     "output_type": "stream",
     "text": [
      "player1 won\n"
     ]
    },
    {
     "name": "stdin",
     "output_type": "stream",
     "text": [
      "do you want play again y/n n\n"
     ]
    }
   ],
   "source": [
    "play()\n",
    "while True:\n",
    "    play_again = input('do you want play again y/n')\n",
    "    if play_again == 'y':\n",
    "        play()\n",
    "    else:\n",
    "        break"
   ]
  },
  {
   "cell_type": "markdown",
   "id": "febab851-32e0-4636-b49a-038bb67e8031",
   "metadata": {},
   "source": [
    "# 6"
   ]
  },
  {
   "cell_type": "code",
   "execution_count": 66,
   "id": "84e6e443-6fb7-49aa-b603-5d6b28989e83",
   "metadata": {
    "tags": []
   },
   "outputs": [],
   "source": [
    "def rev_sentence(sentence):\n",
    "    ar = sentence.split(' ')\n",
    "    ar = ar[::-1]\n",
    "    rev_sent = ' '.join(ar)\n",
    "    return rev_sent"
   ]
  },
  {
   "cell_type": "code",
   "execution_count": 68,
   "id": "ac7880cb-3b43-4285-ad36-3b29aa335e11",
   "metadata": {
    "tags": []
   },
   "outputs": [
    {
     "data": {
      "text/plain": [
       "'Levon is name my'"
      ]
     },
     "execution_count": 68,
     "metadata": {},
     "output_type": "execute_result"
    }
   ],
   "source": [
    "sentence = 'my name is Levon'\n",
    "rev_sentence(sentence)"
   ]
  },
  {
   "cell_type": "code",
   "execution_count": null,
   "id": "6b66c9b4-a4c7-4fd3-b2bd-bcd51dcd6587",
   "metadata": {},
   "outputs": [],
   "source": [
    "def solution(threshold, ratings):\n",
    "    ind = []\n",
    "    for i, item in enumerate(ratings):\n",
    "        if (sum(item)/len(item))< threshold:\n",
    "            ind.append(i)\n",
    "    return ind\n"
   ]
  }
 ],
 "metadata": {
  "kernelspec": {
   "display_name": "tf384",
   "language": "python",
   "name": "tf384"
  },
  "language_info": {
   "codemirror_mode": {
    "name": "ipython",
    "version": 3
   },
   "file_extension": ".py",
   "mimetype": "text/x-python",
   "name": "python",
   "nbconvert_exporter": "python",
   "pygments_lexer": "ipython3",
   "version": "3.9.16"
  }
 },
 "nbformat": 4,
 "nbformat_minor": 5
}
