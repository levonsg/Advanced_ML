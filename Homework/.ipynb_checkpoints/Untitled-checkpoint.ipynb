{
 "cells": [
  {
   "cell_type": "code",
   "execution_count": 1,
   "id": "d5094a52-faf0-4760-84f8-24f561e76398",
   "metadata": {},
   "outputs": [],
   "source": [
    "import pandas as pd\n",
    "import numpy as np"
   ]
  },
  {
   "cell_type": "code",
   "execution_count": 54,
   "id": "da0d2d01-861e-4940-9ac9-b6a90a901c91",
   "metadata": {},
   "outputs": [
    {
     "data": {
      "text/html": [
       "<div>\n",
       "<style scoped>\n",
       "    .dataframe tbody tr th:only-of-type {\n",
       "        vertical-align: middle;\n",
       "    }\n",
       "\n",
       "    .dataframe tbody tr th {\n",
       "        vertical-align: top;\n",
       "    }\n",
       "\n",
       "    .dataframe thead th {\n",
       "        text-align: right;\n",
       "    }\n",
       "</style>\n",
       "<table border=\"1\" class=\"dataframe\">\n",
       "  <thead>\n",
       "    <tr style=\"text-align: right;\">\n",
       "      <th></th>\n",
       "      <th>1</th>\n",
       "      <th>2</th>\n",
       "      <th>3</th>\n",
       "      <th>4</th>\n",
       "      <th>5</th>\n",
       "      <th>6</th>\n",
       "      <th>7</th>\n",
       "      <th>8</th>\n",
       "      <th>9</th>\n",
       "      <th>10</th>\n",
       "      <th>11</th>\n",
       "      <th>12</th>\n",
       "      <th>13</th>\n",
       "    </tr>\n",
       "  </thead>\n",
       "  <tbody>\n",
       "    <tr>\n",
       "      <th>0</th>\n",
       "      <td>1</td>\n",
       "      <td>1519660148.090000</td>\n",
       "      <td>BLINC1DID</td>\n",
       "      <td>T</td>\n",
       "      <td>DATA</td>\n",
       "      <td>2018-02-26 10:49:08</td>\n",
       "      <td>10:49:08.090</td>\n",
       "      <td>$DE</td>\n",
       "      <td>GM Serial Data Database Revision Level</td>\n",
       "      <td>12</td>\n",
       "      <td>RAW</td>\n",
       "      <td>07030011116E02030011116E</td>\n",
       "      <td>HVEM Database: 17.17.110  GMLAN Database: 17.1...</td>\n",
       "    </tr>\n",
       "  </tbody>\n",
       "</table>\n",
       "</div>"
      ],
      "text/plain": [
       "  1                  2          3  4     5                   6             7   \\\n",
       "0  1  1519660148.090000  BLINC1DID  T  DATA 2018-02-26 10:49:08  10:49:08.090   \n",
       "\n",
       "    8                                       9   10   11  \\\n",
       "0  $DE  GM Serial Data Database Revision Level  12  RAW   \n",
       "\n",
       "                         12                                                 13  \n",
       "0  07030011116E02030011116E  HVEM Database: 17.17.110  GMLAN Database: 17.1...  "
      ]
     },
     "execution_count": 54,
     "metadata": {},
     "output_type": "execute_result"
    }
   ],
   "source": [
    "fname = 'TC58BFunCy12018226104837_DID-Pull_Trans.dat'\n",
    "num_lines= 0\n",
    "with open(fname) as f:\n",
    "    for line in f:\n",
    "        pass\n",
    "    last_line = line  \n",
    "    if '  \\n' in last_line:\n",
    "        last_line = last_line.replace('  \\n', '')\n",
    "    if '\\n' in last_line:\n",
    "        last_line = last_line.replace('\\n', '')\n",
    "    #print(last_line)\n",
    "#df = pd.read_csv(fname, skiprows=range(1,num_lines-1), delimiter='\\t')\n",
    "df = pd.DataFrame([np.array(last_line.split('\\t'))],columns=range(1,len(last_line.split('\\t'))+1) )\n",
    "df[6] =  pd.to_datetime(df[6] + '  ' + df[7])\n",
    "\n",
    "df.head()"
   ]
  },
  {
   "cell_type": "code",
   "execution_count": 36,
   "id": "9f2456c0-a7eb-491b-9f81-f54f784fca37",
   "metadata": {},
   "outputs": [],
   "source": [
    "#.dt.strftime('%Y/%m/%Y %h%m%s').astype('datetime64[ns]')"
   ]
  },
  {
   "cell_type": "code",
   "execution_count": 37,
   "id": "1d1154d7-f674-4cab-8443-c97ee5e0c3a6",
   "metadata": {},
   "outputs": [],
   "source": [
    "\n",
    "df.drop(7, inplace=True, axis=1)"
   ]
  },
  {
   "cell_type": "code",
   "execution_count": 38,
   "id": "71541720-bd51-4520-a432-564338e460d4",
   "metadata": {},
   "outputs": [
    {
     "data": {
      "text/html": [
       "<div>\n",
       "<style scoped>\n",
       "    .dataframe tbody tr th:only-of-type {\n",
       "        vertical-align: middle;\n",
       "    }\n",
       "\n",
       "    .dataframe tbody tr th {\n",
       "        vertical-align: top;\n",
       "    }\n",
       "\n",
       "    .dataframe thead th {\n",
       "        text-align: right;\n",
       "    }\n",
       "</style>\n",
       "<table border=\"1\" class=\"dataframe\">\n",
       "  <thead>\n",
       "    <tr style=\"text-align: right;\">\n",
       "      <th></th>\n",
       "      <th>1</th>\n",
       "      <th>2</th>\n",
       "      <th>3</th>\n",
       "      <th>4</th>\n",
       "      <th>5</th>\n",
       "      <th>6</th>\n",
       "      <th>8</th>\n",
       "      <th>9</th>\n",
       "      <th>10</th>\n",
       "      <th>11</th>\n",
       "      <th>12</th>\n",
       "      <th>13</th>\n",
       "    </tr>\n",
       "  </thead>\n",
       "  <tbody>\n",
       "    <tr>\n",
       "      <th>0</th>\n",
       "      <td>1</td>\n",
       "      <td>1519660148.090000</td>\n",
       "      <td>BLINC1DID</td>\n",
       "      <td>T</td>\n",
       "      <td>DATA</td>\n",
       "      <td>2018-02-26 10:49:08.090</td>\n",
       "      <td>$DE</td>\n",
       "      <td>GM Serial Data Database Revision Level</td>\n",
       "      <td>12</td>\n",
       "      <td>RAW</td>\n",
       "      <td>07030011116E02030011116E</td>\n",
       "      <td>HVEM Database: 17.17.110  GMLAN Database: 17.1...</td>\n",
       "    </tr>\n",
       "  </tbody>\n",
       "</table>\n",
       "</div>"
      ],
      "text/plain": [
       "  1                  2          3  4     5                       6    8   \\\n",
       "0  1  1519660148.090000  BLINC1DID  T  DATA 2018-02-26 10:49:08.090  $DE   \n",
       "\n",
       "                                       9   10   11                        12  \\\n",
       "0  GM Serial Data Database Revision Level  12  RAW  07030011116E02030011116E   \n",
       "\n",
       "                                                  13  \n",
       "0  HVEM Database: 17.17.110  GMLAN Database: 17.1...  "
      ]
     },
     "execution_count": 38,
     "metadata": {},
     "output_type": "execute_result"
    }
   ],
   "source": [
    "df"
   ]
  },
  {
   "cell_type": "code",
   "execution_count": 6,
   "id": "85289b08-f082-4992-b30a-fcf30010e715",
   "metadata": {},
   "outputs": [
    {
     "name": "stdout",
     "output_type": "stream",
     "text": [
      "2018-02-26 10:49:08.290000\n",
      "2018-02-26 10:49:08.490000\n",
      "2018-02-26 10:49:08.690000\n",
      "2018-02-26 10:49:08.890000\n",
      "2018-02-26 10:49:09.090000\n"
     ]
    }
   ],
   "source": [
    "N_of_inc = 5\n",
    "duration = 0.2\n",
    "for i in range(N_of_inc):\n",
    "    df = df.append(df.iloc[-1], ignore_index=True)\n",
    "    inc_time = pd.to_datetime(df.iloc[-1,5])+ pd.to_timedelta(duration, unit='s')\n",
    "    print(inc_time)\n",
    "    df.at[i+1,6] = inc_time\n",
    "df = df.iloc[0:]\n",
    "df[7] = pd.to_datetime(df[6]).dt.time\n",
    "df[6] = pd.to_datetime(df[6]).dt.date\n",
    "df = df[range(1,14)]"
   ]
  },
  {
   "cell_type": "code",
   "execution_count": 7,
   "id": "db3bdbe6-776c-4efd-b6fc-9cb4edb0022b",
   "metadata": {
    "scrolled": true
   },
   "outputs": [
    {
     "name": "stdout",
     "output_type": "stream",
     "text": [
      "2018-02-26 00:00:00.200000\n"
     ]
    },
    {
     "data": {
      "text/html": [
       "<div>\n",
       "<style scoped>\n",
       "    .dataframe tbody tr th:only-of-type {\n",
       "        vertical-align: middle;\n",
       "    }\n",
       "\n",
       "    .dataframe tbody tr th {\n",
       "        vertical-align: top;\n",
       "    }\n",
       "\n",
       "    .dataframe thead th {\n",
       "        text-align: right;\n",
       "    }\n",
       "</style>\n",
       "<table border=\"1\" class=\"dataframe\">\n",
       "  <thead>\n",
       "    <tr style=\"text-align: right;\">\n",
       "      <th></th>\n",
       "      <th>1</th>\n",
       "      <th>2</th>\n",
       "      <th>3</th>\n",
       "      <th>4</th>\n",
       "      <th>5</th>\n",
       "      <th>6</th>\n",
       "      <th>7</th>\n",
       "      <th>8</th>\n",
       "      <th>9</th>\n",
       "      <th>10</th>\n",
       "      <th>11</th>\n",
       "      <th>12</th>\n",
       "      <th>13</th>\n",
       "    </tr>\n",
       "  </thead>\n",
       "  <tbody>\n",
       "    <tr>\n",
       "      <th>0</th>\n",
       "      <td>1</td>\n",
       "      <td>1519660148.090000</td>\n",
       "      <td>BLINC1DID</td>\n",
       "      <td>T</td>\n",
       "      <td>DATA</td>\n",
       "      <td>2018-02-26</td>\n",
       "      <td>10:49:08.090000</td>\n",
       "      <td>$DE</td>\n",
       "      <td>GM Serial Data Database Revision Level</td>\n",
       "      <td>12</td>\n",
       "      <td>RAW</td>\n",
       "      <td>07030011116E02030011116E</td>\n",
       "      <td>HVEM Database: 17.17.110  GMLAN Database: 17.1...</td>\n",
       "    </tr>\n",
       "    <tr>\n",
       "      <th>1</th>\n",
       "      <td>1</td>\n",
       "      <td>1519660148.090000</td>\n",
       "      <td>BLINC1DID</td>\n",
       "      <td>T</td>\n",
       "      <td>DATA</td>\n",
       "      <td>2018-02-26 00:00:00.200000</td>\n",
       "      <td>10:49:08.290000</td>\n",
       "      <td>$DE</td>\n",
       "      <td>GM Serial Data Database Revision Level</td>\n",
       "      <td>12</td>\n",
       "      <td>RAW</td>\n",
       "      <td>07030011116E02030011116E</td>\n",
       "      <td>HVEM Database: 17.17.110  GMLAN Database: 17.1...</td>\n",
       "    </tr>\n",
       "    <tr>\n",
       "      <th>2</th>\n",
       "      <td>1</td>\n",
       "      <td>1519660148.090000</td>\n",
       "      <td>BLINC1DID</td>\n",
       "      <td>T</td>\n",
       "      <td>DATA</td>\n",
       "      <td>2018-02-26</td>\n",
       "      <td>10:49:08.490000</td>\n",
       "      <td>$DE</td>\n",
       "      <td>GM Serial Data Database Revision Level</td>\n",
       "      <td>12</td>\n",
       "      <td>RAW</td>\n",
       "      <td>07030011116E02030011116E</td>\n",
       "      <td>HVEM Database: 17.17.110  GMLAN Database: 17.1...</td>\n",
       "    </tr>\n",
       "    <tr>\n",
       "      <th>3</th>\n",
       "      <td>1</td>\n",
       "      <td>1519660148.090000</td>\n",
       "      <td>BLINC1DID</td>\n",
       "      <td>T</td>\n",
       "      <td>DATA</td>\n",
       "      <td>2018-02-26</td>\n",
       "      <td>10:49:08.690000</td>\n",
       "      <td>$DE</td>\n",
       "      <td>GM Serial Data Database Revision Level</td>\n",
       "      <td>12</td>\n",
       "      <td>RAW</td>\n",
       "      <td>07030011116E02030011116E</td>\n",
       "      <td>HVEM Database: 17.17.110  GMLAN Database: 17.1...</td>\n",
       "    </tr>\n",
       "    <tr>\n",
       "      <th>4</th>\n",
       "      <td>1</td>\n",
       "      <td>1519660148.090000</td>\n",
       "      <td>BLINC1DID</td>\n",
       "      <td>T</td>\n",
       "      <td>DATA</td>\n",
       "      <td>2018-02-26</td>\n",
       "      <td>10:49:08.890000</td>\n",
       "      <td>$DE</td>\n",
       "      <td>GM Serial Data Database Revision Level</td>\n",
       "      <td>12</td>\n",
       "      <td>RAW</td>\n",
       "      <td>07030011116E02030011116E</td>\n",
       "      <td>HVEM Database: 17.17.110  GMLAN Database: 17.1...</td>\n",
       "    </tr>\n",
       "    <tr>\n",
       "      <th>5</th>\n",
       "      <td>1</td>\n",
       "      <td>1519660148.090000</td>\n",
       "      <td>BLINC1DID</td>\n",
       "      <td>T</td>\n",
       "      <td>DATA</td>\n",
       "      <td>2018-02-26</td>\n",
       "      <td>10:49:09.090000</td>\n",
       "      <td>$DE</td>\n",
       "      <td>GM Serial Data Database Revision Level</td>\n",
       "      <td>12</td>\n",
       "      <td>RAW</td>\n",
       "      <td>07030011116E02030011116E</td>\n",
       "      <td>HVEM Database: 17.17.110  GMLAN Database: 17.1...</td>\n",
       "    </tr>\n",
       "  </tbody>\n",
       "</table>\n",
       "</div>"
      ],
      "text/plain": [
       "  1                  2          3  4     5                           6   \\\n",
       "0  1  1519660148.090000  BLINC1DID  T  DATA                  2018-02-26   \n",
       "1  1  1519660148.090000  BLINC1DID  T  DATA  2018-02-26 00:00:00.200000   \n",
       "2  1  1519660148.090000  BLINC1DID  T  DATA                  2018-02-26   \n",
       "3  1  1519660148.090000  BLINC1DID  T  DATA                  2018-02-26   \n",
       "4  1  1519660148.090000  BLINC1DID  T  DATA                  2018-02-26   \n",
       "5  1  1519660148.090000  BLINC1DID  T  DATA                  2018-02-26   \n",
       "\n",
       "                7    8                                       9   10   11  \\\n",
       "0  10:49:08.090000  $DE  GM Serial Data Database Revision Level  12  RAW   \n",
       "1  10:49:08.290000  $DE  GM Serial Data Database Revision Level  12  RAW   \n",
       "2  10:49:08.490000  $DE  GM Serial Data Database Revision Level  12  RAW   \n",
       "3  10:49:08.690000  $DE  GM Serial Data Database Revision Level  12  RAW   \n",
       "4  10:49:08.890000  $DE  GM Serial Data Database Revision Level  12  RAW   \n",
       "5  10:49:09.090000  $DE  GM Serial Data Database Revision Level  12  RAW   \n",
       "\n",
       "                         12                                                 13  \n",
       "0  07030011116E02030011116E  HVEM Database: 17.17.110  GMLAN Database: 17.1...  \n",
       "1  07030011116E02030011116E  HVEM Database: 17.17.110  GMLAN Database: 17.1...  \n",
       "2  07030011116E02030011116E  HVEM Database: 17.17.110  GMLAN Database: 17.1...  \n",
       "3  07030011116E02030011116E  HVEM Database: 17.17.110  GMLAN Database: 17.1...  \n",
       "4  07030011116E02030011116E  HVEM Database: 17.17.110  GMLAN Database: 17.1...  \n",
       "5  07030011116E02030011116E  HVEM Database: 17.17.110  GMLAN Database: 17.1...  "
      ]
     },
     "execution_count": 7,
     "metadata": {},
     "output_type": "execute_result"
    }
   ],
   "source": [
    "inc_time = pd.to_datetime(df.iloc[-1,5])+ pd.to_timedelta(0.2, unit='s')\n",
    "print(inc_time)\n",
    "df.at[1,6] = inc_time\n",
    "df"
   ]
  },
  {
   "cell_type": "code",
   "execution_count": 8,
   "id": "c51acf2d-f57a-4b58-bc30-c9a7e1b04fab",
   "metadata": {},
   "outputs": [
    {
     "data": {
      "text/plain": [
       "array(['HVEM Database: 17.17.110  GMLAN Database: 17.17.110',\n",
       "       'HVEM Database: 17.17.110  GMLAN Database: 17.17.110',\n",
       "       'HVEM Database: 17.17.110  GMLAN Database: 17.17.110',\n",
       "       'HVEM Database: 17.17.110  GMLAN Database: 17.17.110',\n",
       "       'HVEM Database: 17.17.110  GMLAN Database: 17.17.110',\n",
       "       'HVEM Database: 17.17.110  GMLAN Database: 17.17.110'],\n",
       "      dtype=object)"
      ]
     },
     "execution_count": 8,
     "metadata": {},
     "output_type": "execute_result"
    }
   ],
   "source": [
    "np.array(df[13])"
   ]
  },
  {
   "cell_type": "code",
   "execution_count": 9,
   "id": "45b02ef0-d130-427c-9f9b-21073c4e3c3e",
   "metadata": {},
   "outputs": [],
   "source": [
    "df.to_csv(fname, mode='a', header=False,sep='\\t', index=False, )"
   ]
  },
  {
   "cell_type": "code",
   "execution_count": null,
   "id": "2c686652-12c1-4b5b-9006-f53a95e24863",
   "metadata": {},
   "outputs": [],
   "source": []
  },
  {
   "cell_type": "code",
   "execution_count": null,
   "id": "8bceb589-2339-4bc9-9222-911315531927",
   "metadata": {},
   "outputs": [],
   "source": []
  }
 ],
 "metadata": {
  "kernelspec": {
   "display_name": "tf384",
   "language": "python",
   "name": "tf384"
  },
  "language_info": {
   "codemirror_mode": {
    "name": "ipython",
    "version": 3
   },
   "file_extension": ".py",
   "mimetype": "text/x-python",
   "name": "python",
   "nbconvert_exporter": "python",
   "pygments_lexer": "ipython3",
   "version": "3.9.16"
  }
 },
 "nbformat": 4,
 "nbformat_minor": 5
}
