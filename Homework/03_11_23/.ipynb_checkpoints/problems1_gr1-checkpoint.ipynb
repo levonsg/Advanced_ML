{
 "cells": [
  {
   "cell_type": "markdown",
   "id": "b247d3a8",
   "metadata": {},
   "source": [
    "1. Generate random integer numbers of a given shape. From random generators you can use only np.random.rand()\n",
    "\n",
    "\n",
    "2. Find unique values of the given numpy array.\n",
    "\n",
    "\n",
    "3. Find value of derivative of a function of 1 variable in given point. The function can be only polynomial and is given by string. For example func('3x^2+4x+4', 3) == 22 (for your ease - lets limit coefficients to be only integers)\n",
    "\n",
    "\n",
    "4. From which known distribution is np.random.rand() ? Get 2 different arrays generated from that distribution and get their difference. What should the mean of that difference be, if we get a bigger sample size? Think about this answer before calculating it with code.\n",
    "\n",
    "\n",
    "5. Replace random values (~10 % of values) of car data.csv with np.nan; Then fill that nan values with most common values of the column for categorical columns and with mean values from numerical columns.\n",
    "\n",
    "\n",
    "6. Plot graphics of functions x^2 and sin(x) in the same figure. Make one of them regular plot and the other one with dashed lines.\n",
    "\n",
    "\n",
    "7. Scatter plot data points from car data.csv using selling price and present price as data point coordinates. Differentiate the points by colors, each color corresponds to a unique fuel type (e.g., all Petrols are blue and all Diesels are red). Add a legend for each color."
   ]
  }
 ],
 "metadata": {
  "kernelspec": {
   "display_name": "Python 3 (ipykernel)",
   "language": "python",
   "name": "python3"
  },
  "language_info": {
   "codemirror_mode": {
    "name": "ipython",
    "version": 3
   },
   "file_extension": ".py",
   "mimetype": "text/x-python",
   "name": "python",
   "nbconvert_exporter": "python",
   "pygments_lexer": "ipython3",
   "version": "3.9.12"
  }
 },
 "nbformat": 4,
 "nbformat_minor": 5
}
