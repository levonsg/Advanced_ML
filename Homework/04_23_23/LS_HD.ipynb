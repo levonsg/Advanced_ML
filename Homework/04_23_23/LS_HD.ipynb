{
 "cells": [
  {
   "cell_type": "code",
   "execution_count": 1,
   "id": "4520d674-47ba-4d86-9214-0a9228870864",
   "metadata": {
    "tags": []
   },
   "outputs": [],
   "source": [
    "import pandas as pd\n",
    "import numpy as np\n",
    "import matplotlib.pyplot as plt\n",
    "import seaborn as sns\n",
    "import plotly.express as px\n",
    "import warnings\n",
    "warnings.filterwarnings('ignore')\n",
    "from sklearn.model_selection import train_test_split\n",
    "from sklearn.preprocessing import MinMaxScaler"
   ]
  },
  {
   "cell_type": "code",
   "execution_count": 2,
   "id": "b12d21c8-97c1-490b-96a4-44f5024e5b50",
   "metadata": {
    "tags": []
   },
   "outputs": [],
   "source": [
    "df=pd.read_csv('hospital_deaths_train.csv')\n"
   ]
  },
  {
   "cell_type": "code",
   "execution_count": 3,
   "id": "e1782fd9-3b23-42f4-a734-dae5a328ba95",
   "metadata": {
    "tags": []
   },
   "outputs": [
    {
     "data": {
      "text/html": [
       "<div>\n",
       "<style scoped>\n",
       "    .dataframe tbody tr th:only-of-type {\n",
       "        vertical-align: middle;\n",
       "    }\n",
       "\n",
       "    .dataframe tbody tr th {\n",
       "        vertical-align: top;\n",
       "    }\n",
       "\n",
       "    .dataframe thead th {\n",
       "        text-align: right;\n",
       "    }\n",
       "</style>\n",
       "<table border=\"1\" class=\"dataframe\">\n",
       "  <thead>\n",
       "    <tr style=\"text-align: right;\">\n",
       "      <th></th>\n",
       "      <th>recordid</th>\n",
       "      <th>In-hospital_death</th>\n",
       "      <th>Age</th>\n",
       "      <th>Gender</th>\n",
       "      <th>Height</th>\n",
       "      <th>Weight</th>\n",
       "      <th>CCU</th>\n",
       "      <th>CSRU</th>\n",
       "      <th>SICU</th>\n",
       "      <th>DiasABP_first</th>\n",
       "      <th>...</th>\n",
       "      <th>SysABP_last</th>\n",
       "      <th>TroponinI_last</th>\n",
       "      <th>TroponinT_last</th>\n",
       "      <th>WBC_last</th>\n",
       "      <th>Weight_last</th>\n",
       "      <th>pH_last</th>\n",
       "      <th>MechVentStartTime</th>\n",
       "      <th>MechVentDuration</th>\n",
       "      <th>MechVentLast8Hour</th>\n",
       "      <th>UrineOutputSum</th>\n",
       "    </tr>\n",
       "  </thead>\n",
       "  <tbody>\n",
       "    <tr>\n",
       "      <th>0</th>\n",
       "      <td>135031</td>\n",
       "      <td>0</td>\n",
       "      <td>69.0</td>\n",
       "      <td>1.0</td>\n",
       "      <td>172.7</td>\n",
       "      <td>63.7</td>\n",
       "      <td>0</td>\n",
       "      <td>0</td>\n",
       "      <td>0</td>\n",
       "      <td>59.0</td>\n",
       "      <td>...</td>\n",
       "      <td>119.0</td>\n",
       "      <td>4.6</td>\n",
       "      <td>NaN</td>\n",
       "      <td>17.2</td>\n",
       "      <td>63.7</td>\n",
       "      <td>7.41</td>\n",
       "      <td>105.0</td>\n",
       "      <td>2580.0</td>\n",
       "      <td>1.0</td>\n",
       "      <td>12.0</td>\n",
       "    </tr>\n",
       "    <tr>\n",
       "      <th>1</th>\n",
       "      <td>132988</td>\n",
       "      <td>0</td>\n",
       "      <td>72.0</td>\n",
       "      <td>1.0</td>\n",
       "      <td>NaN</td>\n",
       "      <td>NaN</td>\n",
       "      <td>0</td>\n",
       "      <td>0</td>\n",
       "      <td>0</td>\n",
       "      <td>NaN</td>\n",
       "      <td>...</td>\n",
       "      <td>NaN</td>\n",
       "      <td>NaN</td>\n",
       "      <td>0.23</td>\n",
       "      <td>21.9</td>\n",
       "      <td>NaN</td>\n",
       "      <td>NaN</td>\n",
       "      <td>NaN</td>\n",
       "      <td>NaN</td>\n",
       "      <td>NaN</td>\n",
       "      <td>NaN</td>\n",
       "    </tr>\n",
       "    <tr>\n",
       "      <th>2</th>\n",
       "      <td>136292</td>\n",
       "      <td>0</td>\n",
       "      <td>29.0</td>\n",
       "      <td>0.0</td>\n",
       "      <td>NaN</td>\n",
       "      <td>90.0</td>\n",
       "      <td>0</td>\n",
       "      <td>0</td>\n",
       "      <td>0</td>\n",
       "      <td>37.0</td>\n",
       "      <td>...</td>\n",
       "      <td>124.0</td>\n",
       "      <td>NaN</td>\n",
       "      <td>NaN</td>\n",
       "      <td>11.1</td>\n",
       "      <td>106.3</td>\n",
       "      <td>7.40</td>\n",
       "      <td>103.0</td>\n",
       "      <td>2700.0</td>\n",
       "      <td>1.0</td>\n",
       "      <td>14.0</td>\n",
       "    </tr>\n",
       "    <tr>\n",
       "      <th>3</th>\n",
       "      <td>133122</td>\n",
       "      <td>0</td>\n",
       "      <td>73.0</td>\n",
       "      <td>1.0</td>\n",
       "      <td>175.3</td>\n",
       "      <td>89.1</td>\n",
       "      <td>0</td>\n",
       "      <td>1</td>\n",
       "      <td>0</td>\n",
       "      <td>58.0</td>\n",
       "      <td>...</td>\n",
       "      <td>148.0</td>\n",
       "      <td>NaN</td>\n",
       "      <td>NaN</td>\n",
       "      <td>18.3</td>\n",
       "      <td>94.2</td>\n",
       "      <td>7.45</td>\n",
       "      <td>144.0</td>\n",
       "      <td>2115.0</td>\n",
       "      <td>0.0</td>\n",
       "      <td>12.0</td>\n",
       "    </tr>\n",
       "    <tr>\n",
       "      <th>4</th>\n",
       "      <td>142184</td>\n",
       "      <td>0</td>\n",
       "      <td>74.0</td>\n",
       "      <td>0.0</td>\n",
       "      <td>NaN</td>\n",
       "      <td>78.0</td>\n",
       "      <td>0</td>\n",
       "      <td>0</td>\n",
       "      <td>1</td>\n",
       "      <td>47.0</td>\n",
       "      <td>...</td>\n",
       "      <td>187.0</td>\n",
       "      <td>NaN</td>\n",
       "      <td>NaN</td>\n",
       "      <td>17.7</td>\n",
       "      <td>NaN</td>\n",
       "      <td>7.26</td>\n",
       "      <td>75.0</td>\n",
       "      <td>2280.0</td>\n",
       "      <td>0.0</td>\n",
       "      <td>18.0</td>\n",
       "    </tr>\n",
       "  </tbody>\n",
       "</table>\n",
       "<p>5 rows × 116 columns</p>\n",
       "</div>"
      ],
      "text/plain": [
       "   recordid  In-hospital_death   Age  Gender  Height  Weight  CCU  CSRU  SICU  \\\n",
       "0    135031                  0  69.0     1.0   172.7    63.7    0     0     0   \n",
       "1    132988                  0  72.0     1.0     NaN     NaN    0     0     0   \n",
       "2    136292                  0  29.0     0.0     NaN    90.0    0     0     0   \n",
       "3    133122                  0  73.0     1.0   175.3    89.1    0     1     0   \n",
       "4    142184                  0  74.0     0.0     NaN    78.0    0     0     1   \n",
       "\n",
       "   DiasABP_first  ...  SysABP_last  TroponinI_last  TroponinT_last  WBC_last  \\\n",
       "0           59.0  ...        119.0             4.6             NaN      17.2   \n",
       "1            NaN  ...          NaN             NaN            0.23      21.9   \n",
       "2           37.0  ...        124.0             NaN             NaN      11.1   \n",
       "3           58.0  ...        148.0             NaN             NaN      18.3   \n",
       "4           47.0  ...        187.0             NaN             NaN      17.7   \n",
       "\n",
       "   Weight_last  pH_last  MechVentStartTime  MechVentDuration  \\\n",
       "0         63.7     7.41              105.0            2580.0   \n",
       "1          NaN      NaN                NaN               NaN   \n",
       "2        106.3     7.40              103.0            2700.0   \n",
       "3         94.2     7.45              144.0            2115.0   \n",
       "4          NaN     7.26               75.0            2280.0   \n",
       "\n",
       "   MechVentLast8Hour  UrineOutputSum  \n",
       "0                1.0            12.0  \n",
       "1                NaN             NaN  \n",
       "2                1.0            14.0  \n",
       "3                0.0            12.0  \n",
       "4                0.0            18.0  \n",
       "\n",
       "[5 rows x 116 columns]"
      ]
     },
     "execution_count": 3,
     "metadata": {},
     "output_type": "execute_result"
    }
   ],
   "source": [
    "df.head()"
   ]
  },
  {
   "cell_type": "code",
   "execution_count": 4,
   "id": "cb098489-f02a-446f-aaa7-0f71d5b49f79",
   "metadata": {
    "tags": []
   },
   "outputs": [
    {
     "name": "stdout",
     "output_type": "stream",
     "text": [
      "<class 'pandas.core.frame.DataFrame'>\n",
      "RangeIndex: 3250 entries, 0 to 3249\n",
      "Columns: 116 entries, recordid to UrineOutputSum\n",
      "dtypes: float64(111), int64(5)\n",
      "memory usage: 2.9 MB\n"
     ]
    }
   ],
   "source": [
    "df.info()"
   ]
  },
  {
   "cell_type": "code",
   "execution_count": 5,
   "id": "b9a7eb89-ae72-4166-899e-be22d1ad7d53",
   "metadata": {
    "tags": []
   },
   "outputs": [
    {
     "data": {
      "text/plain": [
       "(3250, 116)"
      ]
     },
     "execution_count": 5,
     "metadata": {},
     "output_type": "execute_result"
    }
   ],
   "source": [
    "df.shape"
   ]
  },
  {
   "cell_type": "code",
   "execution_count": 6,
   "id": "3b2beba4-48e9-4eb0-a027-3470bfb293bf",
   "metadata": {
    "tags": []
   },
   "outputs": [],
   "source": [
    "x = df.drop('In-hospital_death', axis=1)\n",
    "y = df['In-hospital_death']"
   ]
  },
  {
   "cell_type": "code",
   "execution_count": 7,
   "id": "898721cc-c8c1-4862-b8ba-62cba82231a8",
   "metadata": {},
   "outputs": [],
   "source": [
    "feature = ['Age', 'Gender', 'Height', 'CCU', 'CSRU', 'SICU', 'MAP_first',\n",
    "       'GCS_last', 'MAP_last', 'NIDiasABP_last', 'NIMAP_last',\n",
    "       'DiasABP_lowest', 'MAP_lowest', 'NISysABP_lowest', 'Temp_lowest',\n",
    "       'Glucose_highest', 'HR_highest', 'MAP_highest', 'MAP_median',\n",
    "       'FiO2_first', 'HCO3_first', 'HCT_first', 'K_first', 'Lactate_first',\n",
    "       'Mg_first', 'Na_first', 'PaCO2_first', 'PaO2_first', 'SysABP_first',\n",
    "       'WBC_first', 'pH_first', 'BUN_last', 'Creatinine_last', 'FiO2_last',\n",
    "       'HCO3_last', 'HCT_last', 'K_last', 'Lactate_last', 'Mg_last', 'Na_last',\n",
    "       'PaCO2_last', 'PaO2_last', 'Platelets_last', 'SysABP_last', 'WBC_last',\n",
    "       'Weight_last', 'pH_last', 'MechVentStartTime', 'MechVentDuration',\n",
    "       'MechVentLast8Hour', 'UrineOutputSum']"
   ]
  },
  {
   "cell_type": "code",
   "execution_count": 8,
   "id": "74817189-dfe9-46af-b2e4-04fa58907bd1",
   "metadata": {},
   "outputs": [],
   "source": [
    "x = x[feature]"
   ]
  },
  {
   "cell_type": "code",
   "execution_count": 9,
   "id": "6be919b5-6680-4b6e-bba8-b0ac44423286",
   "metadata": {
    "tags": []
   },
   "outputs": [],
   "source": [
    "X_train,X_test,Y_train,Y_test = train_test_split(x, y, test_size=0.2, random_state=42)"
   ]
  },
  {
   "cell_type": "code",
   "execution_count": 10,
   "id": "70c69b8f-53eb-4bd1-a3a2-85c48d284e9d",
   "metadata": {
    "tags": []
   },
   "outputs": [
    {
     "name": "stdout",
     "output_type": "stream",
     "text": [
      "Shape of X_train: (2600, 51)\n",
      "Shape of y_train: (2600,)\n",
      "Shape of X_test: (650, 51)\n",
      "Shape of y_test: (650,)\n"
     ]
    }
   ],
   "source": [
    "print(\"Shape of X_train:\" ,X_train.shape)\n",
    "print(\"Shape of y_train:\" ,Y_train.shape)\n",
    "print(\"Shape of X_test:\"  ,X_test.shape)\n",
    "print(\"Shape of y_test:\"  ,Y_test.shape)"
   ]
  },
  {
   "cell_type": "code",
   "execution_count": 11,
   "id": "1d1743c6-b6fe-4aab-ace5-d30a082f9726",
   "metadata": {
    "tags": []
   },
   "outputs": [],
   "source": [
    "from xgboost import XGBClassifier, plot_tree, plot_importance"
   ]
  },
  {
   "cell_type": "code",
   "execution_count": 12,
   "id": "a3e56ace-f26b-4ef0-950c-44af0578ae9f",
   "metadata": {
    "tags": []
   },
   "outputs": [],
   "source": [
    "xgb = XGBClassifier(random_state=42)"
   ]
  },
  {
   "cell_type": "code",
   "execution_count": 13,
   "id": "aeebce71-ace8-45ce-9a4f-5b96f921958a",
   "metadata": {
    "tags": []
   },
   "outputs": [
    {
     "data": {
      "text/html": [
       "<style>#sk-container-id-1 {color: black;background-color: white;}#sk-container-id-1 pre{padding: 0;}#sk-container-id-1 div.sk-toggleable {background-color: white;}#sk-container-id-1 label.sk-toggleable__label {cursor: pointer;display: block;width: 100%;margin-bottom: 0;padding: 0.3em;box-sizing: border-box;text-align: center;}#sk-container-id-1 label.sk-toggleable__label-arrow:before {content: \"▸\";float: left;margin-right: 0.25em;color: #696969;}#sk-container-id-1 label.sk-toggleable__label-arrow:hover:before {color: black;}#sk-container-id-1 div.sk-estimator:hover label.sk-toggleable__label-arrow:before {color: black;}#sk-container-id-1 div.sk-toggleable__content {max-height: 0;max-width: 0;overflow: hidden;text-align: left;background-color: #f0f8ff;}#sk-container-id-1 div.sk-toggleable__content pre {margin: 0.2em;color: black;border-radius: 0.25em;background-color: #f0f8ff;}#sk-container-id-1 input.sk-toggleable__control:checked~div.sk-toggleable__content {max-height: 200px;max-width: 100%;overflow: auto;}#sk-container-id-1 input.sk-toggleable__control:checked~label.sk-toggleable__label-arrow:before {content: \"▾\";}#sk-container-id-1 div.sk-estimator input.sk-toggleable__control:checked~label.sk-toggleable__label {background-color: #d4ebff;}#sk-container-id-1 div.sk-label input.sk-toggleable__control:checked~label.sk-toggleable__label {background-color: #d4ebff;}#sk-container-id-1 input.sk-hidden--visually {border: 0;clip: rect(1px 1px 1px 1px);clip: rect(1px, 1px, 1px, 1px);height: 1px;margin: -1px;overflow: hidden;padding: 0;position: absolute;width: 1px;}#sk-container-id-1 div.sk-estimator {font-family: monospace;background-color: #f0f8ff;border: 1px dotted black;border-radius: 0.25em;box-sizing: border-box;margin-bottom: 0.5em;}#sk-container-id-1 div.sk-estimator:hover {background-color: #d4ebff;}#sk-container-id-1 div.sk-parallel-item::after {content: \"\";width: 100%;border-bottom: 1px solid gray;flex-grow: 1;}#sk-container-id-1 div.sk-label:hover label.sk-toggleable__label {background-color: #d4ebff;}#sk-container-id-1 div.sk-serial::before {content: \"\";position: absolute;border-left: 1px solid gray;box-sizing: border-box;top: 0;bottom: 0;left: 50%;z-index: 0;}#sk-container-id-1 div.sk-serial {display: flex;flex-direction: column;align-items: center;background-color: white;padding-right: 0.2em;padding-left: 0.2em;position: relative;}#sk-container-id-1 div.sk-item {position: relative;z-index: 1;}#sk-container-id-1 div.sk-parallel {display: flex;align-items: stretch;justify-content: center;background-color: white;position: relative;}#sk-container-id-1 div.sk-item::before, #sk-container-id-1 div.sk-parallel-item::before {content: \"\";position: absolute;border-left: 1px solid gray;box-sizing: border-box;top: 0;bottom: 0;left: 50%;z-index: -1;}#sk-container-id-1 div.sk-parallel-item {display: flex;flex-direction: column;z-index: 1;position: relative;background-color: white;}#sk-container-id-1 div.sk-parallel-item:first-child::after {align-self: flex-end;width: 50%;}#sk-container-id-1 div.sk-parallel-item:last-child::after {align-self: flex-start;width: 50%;}#sk-container-id-1 div.sk-parallel-item:only-child::after {width: 0;}#sk-container-id-1 div.sk-dashed-wrapped {border: 1px dashed gray;margin: 0 0.4em 0.5em 0.4em;box-sizing: border-box;padding-bottom: 0.4em;background-color: white;}#sk-container-id-1 div.sk-label label {font-family: monospace;font-weight: bold;display: inline-block;line-height: 1.2em;}#sk-container-id-1 div.sk-label-container {text-align: center;}#sk-container-id-1 div.sk-container {/* jupyter's `normalize.less` sets `[hidden] { display: none; }` but bootstrap.min.css set `[hidden] { display: none !important; }` so we also need the `!important` here to be able to override the default hidden behavior on the sphinx rendered scikit-learn.org. See: https://github.com/scikit-learn/scikit-learn/issues/21755 */display: inline-block !important;position: relative;}#sk-container-id-1 div.sk-text-repr-fallback {display: none;}</style><div id=\"sk-container-id-1\" class=\"sk-top-container\"><div class=\"sk-text-repr-fallback\"><pre>XGBClassifier(base_score=None, booster=None, callbacks=None,\n",
       "              colsample_bylevel=None, colsample_bynode=None,\n",
       "              colsample_bytree=None, early_stopping_rounds=None,\n",
       "              enable_categorical=False, eval_metric=None, feature_types=None,\n",
       "              gamma=None, gpu_id=None, grow_policy=None, importance_type=None,\n",
       "              interaction_constraints=None, learning_rate=None, max_bin=None,\n",
       "              max_cat_threshold=None, max_cat_to_onehot=None,\n",
       "              max_delta_step=None, max_depth=None, max_leaves=None,\n",
       "              min_child_weight=None, missing=nan, monotone_constraints=None,\n",
       "              n_estimators=100, n_jobs=None, num_parallel_tree=None,\n",
       "              predictor=None, random_state=42, ...)</pre><b>In a Jupyter environment, please rerun this cell to show the HTML representation or trust the notebook. <br />On GitHub, the HTML representation is unable to render, please try loading this page with nbviewer.org.</b></div><div class=\"sk-container\" hidden><div class=\"sk-item\"><div class=\"sk-estimator sk-toggleable\"><input class=\"sk-toggleable__control sk-hidden--visually\" id=\"sk-estimator-id-1\" type=\"checkbox\" checked><label for=\"sk-estimator-id-1\" class=\"sk-toggleable__label sk-toggleable__label-arrow\">XGBClassifier</label><div class=\"sk-toggleable__content\"><pre>XGBClassifier(base_score=None, booster=None, callbacks=None,\n",
       "              colsample_bylevel=None, colsample_bynode=None,\n",
       "              colsample_bytree=None, early_stopping_rounds=None,\n",
       "              enable_categorical=False, eval_metric=None, feature_types=None,\n",
       "              gamma=None, gpu_id=None, grow_policy=None, importance_type=None,\n",
       "              interaction_constraints=None, learning_rate=None, max_bin=None,\n",
       "              max_cat_threshold=None, max_cat_to_onehot=None,\n",
       "              max_delta_step=None, max_depth=None, max_leaves=None,\n",
       "              min_child_weight=None, missing=nan, monotone_constraints=None,\n",
       "              n_estimators=100, n_jobs=None, num_parallel_tree=None,\n",
       "              predictor=None, random_state=42, ...)</pre></div></div></div></div></div>"
      ],
      "text/plain": [
       "XGBClassifier(base_score=None, booster=None, callbacks=None,\n",
       "              colsample_bylevel=None, colsample_bynode=None,\n",
       "              colsample_bytree=None, early_stopping_rounds=None,\n",
       "              enable_categorical=False, eval_metric=None, feature_types=None,\n",
       "              gamma=None, gpu_id=None, grow_policy=None, importance_type=None,\n",
       "              interaction_constraints=None, learning_rate=None, max_bin=None,\n",
       "              max_cat_threshold=None, max_cat_to_onehot=None,\n",
       "              max_delta_step=None, max_depth=None, max_leaves=None,\n",
       "              min_child_weight=None, missing=nan, monotone_constraints=None,\n",
       "              n_estimators=100, n_jobs=None, num_parallel_tree=None,\n",
       "              predictor=None, random_state=42, ...)"
      ]
     },
     "execution_count": 13,
     "metadata": {},
     "output_type": "execute_result"
    }
   ],
   "source": [
    "xgb.fit(X_train, Y_train)"
   ]
  },
  {
   "cell_type": "code",
   "execution_count": 14,
   "id": "81767732-9389-4c2c-97b5-c4375094951a",
   "metadata": {
    "tags": []
   },
   "outputs": [],
   "source": [
    "pred = xgb.predict(X_test)"
   ]
  },
  {
   "cell_type": "code",
   "execution_count": 15,
   "id": "cfb5791c-5323-43b1-86bb-ef3bb3a3ff5e",
   "metadata": {
    "tags": []
   },
   "outputs": [],
   "source": [
    "from sklearn.metrics import classification_report, accuracy_score, confusion_matrix\n",
    "cf = confusion_matrix(Y_test, pred)"
   ]
  },
  {
   "cell_type": "code",
   "execution_count": 16,
   "id": "8258d7a7-6e55-44e0-aea8-8ca726c89a39",
   "metadata": {
    "tags": []
   },
   "outputs": [
    {
     "data": {
      "text/plain": [
       "array([[555,  19],\n",
       "       [ 56,  20]], dtype=int64)"
      ]
     },
     "execution_count": 16,
     "metadata": {},
     "output_type": "execute_result"
    }
   ],
   "source": [
    "cf"
   ]
  },
  {
   "cell_type": "code",
   "execution_count": 17,
   "id": "379d57c4-4ee3-4b30-b1d0-a7c67fbdeca4",
   "metadata": {
    "tags": []
   },
   "outputs": [
    {
     "name": "stdout",
     "output_type": "stream",
     "text": [
      "              precision    recall  f1-score   support\n",
      "\n",
      "           0       0.91      0.97      0.94       574\n",
      "           1       0.51      0.26      0.35        76\n",
      "\n",
      "    accuracy                           0.88       650\n",
      "   macro avg       0.71      0.62      0.64       650\n",
      "weighted avg       0.86      0.88      0.87       650\n",
      "\n"
     ]
    }
   ],
   "source": [
    "print(classification_report(Y_test, pred))"
   ]
  },
  {
   "cell_type": "code",
   "execution_count": 18,
   "id": "92780468-649b-4540-b5d8-bb10ddc3f04b",
   "metadata": {
    "tags": []
   },
   "outputs": [
    {
     "data": {
      "text/plain": [
       "0    574\n",
       "1     76\n",
       "Name: In-hospital_death, dtype: int64"
      ]
     },
     "execution_count": 18,
     "metadata": {},
     "output_type": "execute_result"
    }
   ],
   "source": [
    "Y_test.value_counts()"
   ]
  },
  {
   "cell_type": "code",
   "execution_count": null,
   "id": "77703900-5991-4df2-8730-ade96ece1c3c",
   "metadata": {},
   "outputs": [],
   "source": []
  },
  {
   "cell_type": "code",
   "execution_count": 19,
   "id": "49f5891d-45e7-44d1-b4a1-5dc211ec137e",
   "metadata": {
    "tags": []
   },
   "outputs": [],
   "source": [
    "from imblearn.over_sampling import SMOTE"
   ]
  },
  {
   "cell_type": "code",
   "execution_count": 20,
   "id": "beef8dc8-b614-4975-9198-26ac126eca94",
   "metadata": {
    "tags": []
   },
   "outputs": [],
   "source": [
    "smote = SMOTE(sampling_strategy='minority')"
   ]
  },
  {
   "cell_type": "code",
   "execution_count": null,
   "id": "cd106492-4fb6-4778-a2c8-1c42499c3753",
   "metadata": {},
   "outputs": [],
   "source": []
  },
  {
   "cell_type": "code",
   "execution_count": 21,
   "id": "6f5cb7fa-47bb-4499-b68b-1d0884504b58",
   "metadata": {
    "tags": []
   },
   "outputs": [],
   "source": [
    "def impute_mode(feature, df):\n",
    "    mode = df[feature].mode()[0]\n",
    "    df[feature] = df[feature].fillna(mode)"
   ]
  },
  {
   "cell_type": "code",
   "execution_count": 22,
   "id": "6d22abe6-12f1-43b3-8afc-a8f4d8a776cf",
   "metadata": {
    "tags": []
   },
   "outputs": [],
   "source": [
    "def random_value_imputation(feature, df):\n",
    "    random_sample = df[feature].dropna().sample(df[feature].isna().sum(), replace=True)\n",
    "    random_sample.index = df[df[feature].isnull()].index\n",
    "    df.loc[df[feature].isnull(), feature] = random_sample"
   ]
  },
  {
   "cell_type": "code",
   "execution_count": 23,
   "id": "137c6d28-4def-47b7-a59d-88efaace2909",
   "metadata": {
    "tags": []
   },
   "outputs": [
    {
     "name": "stdout",
     "output_type": "stream",
     "text": [
      "cat_cols []\n",
      "num_cols ['Age', 'Gender', 'Height', 'CCU', 'CSRU', 'SICU', 'MAP_first', 'GCS_last', 'MAP_last', 'NIDiasABP_last', 'NIMAP_last', 'DiasABP_lowest', 'MAP_lowest', 'NISysABP_lowest', 'Temp_lowest', 'Glucose_highest', 'HR_highest', 'MAP_highest', 'MAP_median', 'FiO2_first', 'HCO3_first', 'HCT_first', 'K_first', 'Lactate_first', 'Mg_first', 'Na_first', 'PaCO2_first', 'PaO2_first', 'SysABP_first', 'WBC_first', 'pH_first', 'BUN_last', 'Creatinine_last', 'FiO2_last', 'HCO3_last', 'HCT_last', 'K_last', 'Lactate_last', 'Mg_last', 'Na_last', 'PaCO2_last', 'PaO2_last', 'Platelets_last', 'SysABP_last', 'WBC_last', 'Weight_last', 'pH_last', 'MechVentStartTime', 'MechVentDuration', 'MechVentLast8Hour', 'UrineOutputSum']\n"
     ]
    }
   ],
   "source": [
    "cat_cols = [col for col in X_train.columns if X_train[col].dtype == 'object']\n",
    "num_cols = [col for col in X_train.columns if X_train[col].dtype != 'object']\n",
    "print('cat_cols', cat_cols)\n",
    "print('num_cols', num_cols)"
   ]
  },
  {
   "cell_type": "code",
   "execution_count": 24,
   "id": "baefd23c-1f6b-4025-ab5b-baaea1565efc",
   "metadata": {
    "tags": []
   },
   "outputs": [
    {
     "data": {
      "text/plain": [
       "Age                  0\n",
       "Gender               0\n",
       "Height               0\n",
       "CCU                  0\n",
       "CSRU                 0\n",
       "SICU                 0\n",
       "MAP_first            0\n",
       "GCS_last             0\n",
       "MAP_last             0\n",
       "NIDiasABP_last       0\n",
       "NIMAP_last           0\n",
       "DiasABP_lowest       0\n",
       "MAP_lowest           0\n",
       "NISysABP_lowest      0\n",
       "Temp_lowest          0\n",
       "Glucose_highest      0\n",
       "HR_highest           0\n",
       "MAP_highest          0\n",
       "MAP_median           0\n",
       "FiO2_first           0\n",
       "HCO3_first           0\n",
       "HCT_first            0\n",
       "K_first              0\n",
       "Lactate_first        0\n",
       "Mg_first             0\n",
       "Na_first             0\n",
       "PaCO2_first          0\n",
       "PaO2_first           0\n",
       "SysABP_first         0\n",
       "WBC_first            0\n",
       "pH_first             0\n",
       "BUN_last             0\n",
       "Creatinine_last      0\n",
       "FiO2_last            0\n",
       "HCO3_last            0\n",
       "HCT_last             0\n",
       "K_last               0\n",
       "Lactate_last         0\n",
       "Mg_last              0\n",
       "Na_last              0\n",
       "PaCO2_last           0\n",
       "PaO2_last            0\n",
       "Platelets_last       0\n",
       "SysABP_last          0\n",
       "WBC_last             0\n",
       "Weight_last          0\n",
       "pH_last              0\n",
       "MechVentStartTime    0\n",
       "MechVentDuration     0\n",
       "MechVentLast8Hour    0\n",
       "UrineOutputSum       0\n",
       "dtype: int64"
      ]
     },
     "execution_count": 24,
     "metadata": {},
     "output_type": "execute_result"
    }
   ],
   "source": [
    "for col in num_cols:\n",
    "    random_value_imputation(col, X_train)\n",
    "X_train[num_cols].isnull().sum()"
   ]
  },
  {
   "cell_type": "code",
   "execution_count": 25,
   "id": "1f2260f2-57de-4786-90f7-e9a7529b8aed",
   "metadata": {
    "tags": []
   },
   "outputs": [
    {
     "data": {
      "text/plain": [
       "Age                  0\n",
       "Gender               0\n",
       "Height               0\n",
       "CCU                  0\n",
       "CSRU                 0\n",
       "SICU                 0\n",
       "MAP_first            0\n",
       "GCS_last             0\n",
       "MAP_last             0\n",
       "NIDiasABP_last       0\n",
       "NIMAP_last           0\n",
       "DiasABP_lowest       0\n",
       "MAP_lowest           0\n",
       "NISysABP_lowest      0\n",
       "Temp_lowest          0\n",
       "Glucose_highest      0\n",
       "HR_highest           0\n",
       "MAP_highest          0\n",
       "MAP_median           0\n",
       "FiO2_first           0\n",
       "HCO3_first           0\n",
       "HCT_first            0\n",
       "K_first              0\n",
       "Lactate_first        0\n",
       "Mg_first             0\n",
       "Na_first             0\n",
       "PaCO2_first          0\n",
       "PaO2_first           0\n",
       "SysABP_first         0\n",
       "WBC_first            0\n",
       "pH_first             0\n",
       "BUN_last             0\n",
       "Creatinine_last      0\n",
       "FiO2_last            0\n",
       "HCO3_last            0\n",
       "HCT_last             0\n",
       "K_last               0\n",
       "Lactate_last         0\n",
       "Mg_last              0\n",
       "Na_last              0\n",
       "PaCO2_last           0\n",
       "PaO2_last            0\n",
       "Platelets_last       0\n",
       "SysABP_last          0\n",
       "WBC_last             0\n",
       "Weight_last          0\n",
       "pH_last              0\n",
       "MechVentStartTime    0\n",
       "MechVentDuration     0\n",
       "MechVentLast8Hour    0\n",
       "UrineOutputSum       0\n",
       "dtype: int64"
      ]
     },
     "execution_count": 25,
     "metadata": {},
     "output_type": "execute_result"
    }
   ],
   "source": [
    "for col in num_cols:\n",
    "    random_value_imputation(col, X_test)\n",
    "X_test[num_cols].isnull().sum()"
   ]
  },
  {
   "cell_type": "code",
   "execution_count": 26,
   "id": "b6c2c886-e43e-428e-8ea9-c1f5133cd9e3",
   "metadata": {
    "tags": []
   },
   "outputs": [],
   "source": [
    "X_train_s, Y_train_s = smote.fit_resample(X_train, Y_train)"
   ]
  },
  {
   "cell_type": "code",
   "execution_count": 27,
   "id": "ad87c1b5-6d1c-499b-99bc-872698cb923d",
   "metadata": {},
   "outputs": [],
   "source": [
    "std_scale = MinMaxScaler()\n",
    "X_train_s = std_scale.fit_transform(X_train_s)\n",
    "X_test = std_scale.transform(X_test)"
   ]
  },
  {
   "cell_type": "code",
   "execution_count": 28,
   "id": "1a96ed49-0b21-49a2-828c-df2e854e8764",
   "metadata": {
    "tags": []
   },
   "outputs": [],
   "source": [
    "from sklearn.ensemble import AdaBoostClassifier\n",
    "\n",
    "xgb = AdaBoostClassifier(n_estimators=130,learning_rate = 1, random_state=42)"
   ]
  },
  {
   "cell_type": "code",
   "execution_count": 29,
   "id": "00a43a1a-5503-482b-9119-6f39bfe97481",
   "metadata": {
    "tags": []
   },
   "outputs": [
    {
     "data": {
      "text/html": [
       "<style>#sk-container-id-2 {color: black;background-color: white;}#sk-container-id-2 pre{padding: 0;}#sk-container-id-2 div.sk-toggleable {background-color: white;}#sk-container-id-2 label.sk-toggleable__label {cursor: pointer;display: block;width: 100%;margin-bottom: 0;padding: 0.3em;box-sizing: border-box;text-align: center;}#sk-container-id-2 label.sk-toggleable__label-arrow:before {content: \"▸\";float: left;margin-right: 0.25em;color: #696969;}#sk-container-id-2 label.sk-toggleable__label-arrow:hover:before {color: black;}#sk-container-id-2 div.sk-estimator:hover label.sk-toggleable__label-arrow:before {color: black;}#sk-container-id-2 div.sk-toggleable__content {max-height: 0;max-width: 0;overflow: hidden;text-align: left;background-color: #f0f8ff;}#sk-container-id-2 div.sk-toggleable__content pre {margin: 0.2em;color: black;border-radius: 0.25em;background-color: #f0f8ff;}#sk-container-id-2 input.sk-toggleable__control:checked~div.sk-toggleable__content {max-height: 200px;max-width: 100%;overflow: auto;}#sk-container-id-2 input.sk-toggleable__control:checked~label.sk-toggleable__label-arrow:before {content: \"▾\";}#sk-container-id-2 div.sk-estimator input.sk-toggleable__control:checked~label.sk-toggleable__label {background-color: #d4ebff;}#sk-container-id-2 div.sk-label input.sk-toggleable__control:checked~label.sk-toggleable__label {background-color: #d4ebff;}#sk-container-id-2 input.sk-hidden--visually {border: 0;clip: rect(1px 1px 1px 1px);clip: rect(1px, 1px, 1px, 1px);height: 1px;margin: -1px;overflow: hidden;padding: 0;position: absolute;width: 1px;}#sk-container-id-2 div.sk-estimator {font-family: monospace;background-color: #f0f8ff;border: 1px dotted black;border-radius: 0.25em;box-sizing: border-box;margin-bottom: 0.5em;}#sk-container-id-2 div.sk-estimator:hover {background-color: #d4ebff;}#sk-container-id-2 div.sk-parallel-item::after {content: \"\";width: 100%;border-bottom: 1px solid gray;flex-grow: 1;}#sk-container-id-2 div.sk-label:hover label.sk-toggleable__label {background-color: #d4ebff;}#sk-container-id-2 div.sk-serial::before {content: \"\";position: absolute;border-left: 1px solid gray;box-sizing: border-box;top: 0;bottom: 0;left: 50%;z-index: 0;}#sk-container-id-2 div.sk-serial {display: flex;flex-direction: column;align-items: center;background-color: white;padding-right: 0.2em;padding-left: 0.2em;position: relative;}#sk-container-id-2 div.sk-item {position: relative;z-index: 1;}#sk-container-id-2 div.sk-parallel {display: flex;align-items: stretch;justify-content: center;background-color: white;position: relative;}#sk-container-id-2 div.sk-item::before, #sk-container-id-2 div.sk-parallel-item::before {content: \"\";position: absolute;border-left: 1px solid gray;box-sizing: border-box;top: 0;bottom: 0;left: 50%;z-index: -1;}#sk-container-id-2 div.sk-parallel-item {display: flex;flex-direction: column;z-index: 1;position: relative;background-color: white;}#sk-container-id-2 div.sk-parallel-item:first-child::after {align-self: flex-end;width: 50%;}#sk-container-id-2 div.sk-parallel-item:last-child::after {align-self: flex-start;width: 50%;}#sk-container-id-2 div.sk-parallel-item:only-child::after {width: 0;}#sk-container-id-2 div.sk-dashed-wrapped {border: 1px dashed gray;margin: 0 0.4em 0.5em 0.4em;box-sizing: border-box;padding-bottom: 0.4em;background-color: white;}#sk-container-id-2 div.sk-label label {font-family: monospace;font-weight: bold;display: inline-block;line-height: 1.2em;}#sk-container-id-2 div.sk-label-container {text-align: center;}#sk-container-id-2 div.sk-container {/* jupyter's `normalize.less` sets `[hidden] { display: none; }` but bootstrap.min.css set `[hidden] { display: none !important; }` so we also need the `!important` here to be able to override the default hidden behavior on the sphinx rendered scikit-learn.org. See: https://github.com/scikit-learn/scikit-learn/issues/21755 */display: inline-block !important;position: relative;}#sk-container-id-2 div.sk-text-repr-fallback {display: none;}</style><div id=\"sk-container-id-2\" class=\"sk-top-container\"><div class=\"sk-text-repr-fallback\"><pre>AdaBoostClassifier(learning_rate=1, n_estimators=130, random_state=42)</pre><b>In a Jupyter environment, please rerun this cell to show the HTML representation or trust the notebook. <br />On GitHub, the HTML representation is unable to render, please try loading this page with nbviewer.org.</b></div><div class=\"sk-container\" hidden><div class=\"sk-item\"><div class=\"sk-estimator sk-toggleable\"><input class=\"sk-toggleable__control sk-hidden--visually\" id=\"sk-estimator-id-2\" type=\"checkbox\" checked><label for=\"sk-estimator-id-2\" class=\"sk-toggleable__label sk-toggleable__label-arrow\">AdaBoostClassifier</label><div class=\"sk-toggleable__content\"><pre>AdaBoostClassifier(learning_rate=1, n_estimators=130, random_state=42)</pre></div></div></div></div></div>"
      ],
      "text/plain": [
       "AdaBoostClassifier(learning_rate=1, n_estimators=130, random_state=42)"
      ]
     },
     "execution_count": 29,
     "metadata": {},
     "output_type": "execute_result"
    }
   ],
   "source": [
    "xgb.fit(X_train_s, Y_train_s)"
   ]
  },
  {
   "cell_type": "code",
   "execution_count": 30,
   "id": "23935284-4ada-4f66-8cbe-2166b0f3c30e",
   "metadata": {
    "tags": []
   },
   "outputs": [],
   "source": [
    "pred_b = xgb.predict(X_test)"
   ]
  },
  {
   "cell_type": "code",
   "execution_count": 31,
   "id": "bb0ffb63-deb1-440d-999e-6b6879ae04ab",
   "metadata": {
    "tags": []
   },
   "outputs": [
    {
     "data": {
      "text/plain": [
       "array([[513,  61],\n",
       "       [ 48,  28]], dtype=int64)"
      ]
     },
     "execution_count": 31,
     "metadata": {},
     "output_type": "execute_result"
    }
   ],
   "source": [
    "con = confusion_matrix(Y_test, pred_b)\n",
    "\n",
    "con"
   ]
  },
  {
   "cell_type": "code",
   "execution_count": 32,
   "id": "552add34-d6ed-49de-9e47-7d02fe9e0e86",
   "metadata": {
    "tags": []
   },
   "outputs": [
    {
     "data": {
      "text/plain": [
       "Text(70.72222222222221, 0.5, 'Actual')"
      ]
     },
     "execution_count": 32,
     "metadata": {},
     "output_type": "execute_result"
    },
    {
     "data": {
      "image/png": "[encoded data removed]",
      "text/plain": [
       "<Figure size 800x500 with 2 Axes>"
      ]
     },
     "metadata": {},
     "output_type": "display_data"
    }
   ],
   "source": [
    "plt.figure(figsize=(8,5))\n",
    "sns.heatmap(con, annot=True, cmap='viridis', fmt='.0f');\n",
    "plt.xlabel('Predicted', fontsize=14, weight='bold')\n",
    "plt.ylabel('Actual', fontsize=14, weight='bold')"
   ]
  },
  {
   "cell_type": "code",
   "execution_count": 33,
   "id": "991e6d8a-df99-40cb-b1d5-ccd4344d2fb4",
   "metadata": {
    "tags": []
   },
   "outputs": [
    {
     "name": "stdout",
     "output_type": "stream",
     "text": [
      "513\n",
      "61\n",
      "48\n",
      "28\n"
     ]
    }
   ],
   "source": [
    "tn, fp, fn, tp = confusion_matrix(Y_test, pred_b).ravel()\n",
    "\n",
    "print(tn)\n",
    "print(fp)\n",
    "print(fn)\n",
    "print(tp)"
   ]
  },
  {
   "cell_type": "code",
   "execution_count": 34,
   "id": "4c11c0a4-a026-49ee-a91d-1d02813a7b1a",
   "metadata": {
    "tags": []
   },
   "outputs": [
    {
     "name": "stdout",
     "output_type": "stream",
     "text": [
      "              precision    recall  f1-score   support\n",
      "\n",
      "           0       0.91      0.89      0.90       574\n",
      "           1       0.31      0.37      0.34        76\n",
      "\n",
      "    accuracy                           0.83       650\n",
      "   macro avg       0.61      0.63      0.62       650\n",
      "weighted avg       0.84      0.83      0.84       650\n",
      "\n"
     ]
    }
   ],
   "source": [
    "print(classification_report(Y_test, pred_b))"
   ]
  },
  {
   "cell_type": "code",
   "execution_count": 35,
   "id": "1ef5e908-11c8-4b2d-bfe7-a392b383970d",
   "metadata": {
    "tags": []
   },
   "outputs": [
    {
     "name": "stdout",
     "output_type": "stream",
     "text": [
      "              precision    recall  f1-score   support\n",
      "\n",
      "           0       0.91      0.97      0.94       574\n",
      "           1       0.51      0.26      0.35        76\n",
      "\n",
      "    accuracy                           0.88       650\n",
      "   macro avg       0.71      0.62      0.64       650\n",
      "weighted avg       0.86      0.88      0.87       650\n",
      "\n"
     ]
    }
   ],
   "source": [
    "print(classification_report(Y_test, pred))"
   ]
  },
  {
   "cell_type": "code",
   "execution_count": 36,
   "id": "54df2a58-e31b-4588-b0a7-e4957dd7b87a",
   "metadata": {
    "tags": []
   },
   "outputs": [],
   "source": [
    "from sklearn.metrics import RocCurveDisplay\n",
    "from sklearn import metrics"
   ]
  },
  {
   "cell_type": "code",
   "execution_count": 37,
   "id": "82de4e0b-ecd8-491c-afa2-0f5af5b11f39",
   "metadata": {
    "tags": []
   },
   "outputs": [
    {
     "data": {
      "image/png": "[encoded data removed]",
      "text/plain": [
       "<Figure size 640x480 with 1 Axes>"
      ]
     },
     "metadata": {},
     "output_type": "display_data"
    }
   ],
   "source": [
    "fpr, tpr, thresholds = metrics.roc_curve(Y_test, pred_b)\n",
    "roc_auc = metrics.auc(fpr, tpr)\n",
    "display = metrics.RocCurveDisplay(fpr=fpr, tpr=tpr, roc_auc=roc_auc,estimator_name='example estimator')\n",
    "display.plot()\n",
    "plt.show()"
   ]
  },
  {
   "cell_type": "code",
   "execution_count": 38,
   "id": "ad330099-b5b9-4881-accb-7c1be0d2167c",
   "metadata": {
    "tags": []
   },
   "outputs": [
    {
     "data": {
      "image/png": "[encoded data removed]",
      "text/plain": [
       "<Figure size 640x480 with 1 Axes>"
      ]
     },
     "metadata": {},
     "output_type": "display_data"
    }
   ],
   "source": [
    "fpr, tpr, thresholds = metrics.roc_curve(Y_test, pred)\n",
    "roc_auc = metrics.auc(fpr, tpr)\n",
    "display = metrics.RocCurveDisplay(fpr=fpr, tpr=tpr, roc_auc=roc_auc,estimator_name='example estimator')\n",
    "display.plot()\n",
    "plt.show()"
   ]
  },
  {
   "cell_type": "code",
   "execution_count": 39,
   "id": "6dedcc27-79d3-4ae9-a7f5-8cd0097c9b68",
   "metadata": {
    "tags": []
   },
   "outputs": [
    {
     "data": {
      "text/plain": [
       "array([0.01538462, 0.08461538, 0.        , 0.00769231, 0.00769231,\n",
       "       0.00769231, 0.00769231, 0.06153846, 0.00769231, 0.02307692,\n",
       "       0.01538462, 0.        , 0.01538462, 0.01538462, 0.03076923,\n",
       "       0.01538462, 0.01538462, 0.00769231, 0.00769231, 0.03846154,\n",
       "       0.02307692, 0.02307692, 0.00769231, 0.00769231, 0.03846154,\n",
       "       0.01538462, 0.01538462, 0.00769231, 0.01538462, 0.        ,\n",
       "       0.01538462, 0.03846154, 0.02307692, 0.08461538, 0.00769231,\n",
       "       0.00769231, 0.00769231, 0.02307692, 0.03846154, 0.01538462,\n",
       "       0.03076923, 0.02307692, 0.00769231, 0.01538462, 0.00769231,\n",
       "       0.        , 0.02307692, 0.00769231, 0.03076923, 0.05384615,\n",
       "       0.        ])"
      ]
     },
     "execution_count": 39,
     "metadata": {},
     "output_type": "execute_result"
    }
   ],
   "source": [
    "imp = xgb.feature_importances_\n",
    "\n",
    "imp"
   ]
  },
  {
   "cell_type": "code",
   "execution_count": 40,
   "id": "abc51498-1587-47ca-815a-779b26f5ec3e",
   "metadata": {
    "tags": []
   },
   "outputs": [
    {
     "data": {
      "text/plain": [
       "Gender               0.084615\n",
       "FiO2_last            0.084615\n",
       "GCS_last             0.061538\n",
       "MechVentLast8Hour    0.053846\n",
       "Mg_last              0.038462\n",
       "FiO2_first           0.038462\n",
       "BUN_last             0.038462\n",
       "Mg_first             0.038462\n",
       "PaCO2_last           0.030769\n",
       "Temp_lowest          0.030769\n",
       "MechVentDuration     0.030769\n",
       "PaO2_last            0.023077\n",
       "Lactate_last         0.023077\n",
       "NIDiasABP_last       0.023077\n",
       "Creatinine_last      0.023077\n",
       "pH_last              0.023077\n",
       "HCO3_first           0.023077\n",
       "HCT_first            0.023077\n",
       "MAP_lowest           0.015385\n",
       "NISysABP_lowest      0.015385\n",
       "NIMAP_last           0.015385\n",
       "Glucose_highest      0.015385\n",
       "HR_highest           0.015385\n",
       "Na_first             0.015385\n",
       "Age                  0.015385\n",
       "PaCO2_first          0.015385\n",
       "SysABP_first         0.015385\n",
       "pH_first             0.015385\n",
       "SysABP_last          0.015385\n",
       "Na_last              0.015385\n",
       "PaO2_first           0.007692\n",
       "MechVentStartTime    0.007692\n",
       "CCU                  0.007692\n",
       "CSRU                 0.007692\n",
       "SICU                 0.007692\n",
       "MAP_first            0.007692\n",
       "MAP_last             0.007692\n",
       "WBC_last             0.007692\n",
       "Platelets_last       0.007692\n",
       "K_last               0.007692\n",
       "HCT_last             0.007692\n",
       "HCO3_last            0.007692\n",
       "MAP_highest          0.007692\n",
       "MAP_median           0.007692\n",
       "K_first              0.007692\n",
       "Lactate_first        0.007692\n",
       "DiasABP_lowest       0.000000\n",
       "Weight_last          0.000000\n",
       "WBC_first            0.000000\n",
       "Height               0.000000\n",
       "UrineOutputSum       0.000000\n",
       "dtype: float64"
      ]
     },
     "execution_count": 40,
     "metadata": {},
     "output_type": "execute_result"
    }
   ],
   "source": [
    "fi = pd.Series(imp, index=X_train.columns)\n",
    "fi.sort_values(ascending=False)"
   ]
  },
  {
   "cell_type": "code",
   "execution_count": 41,
   "id": "7e5d01e2-c4e1-4df3-ab54-9f33fc46dc3b",
   "metadata": {
    "tags": []
   },
   "outputs": [
    {
     "data": {
      "image/png": "[encoded data removed]",
      "text/plain": [
       "<Figure size 1500x800 with 1 Axes>"
      ]
     },
     "metadata": {},
     "output_type": "display_data"
    }
   ],
   "source": [
    "plt.figure(figsize=(15,8))\n",
    "fi.nlargest(n=18).plot(kind='barh');"
   ]
  },
  {
   "cell_type": "code",
   "execution_count": null,
   "id": "8b8504d1-662b-4b70-aefa-207331a70e8e",
   "metadata": {},
   "outputs": [],
   "source": []
  }
 ],
 "metadata": {
  "kernelspec": {
   "display_name": "tf384",
   "language": "python",
   "name": "tf384"
  },
  "language_info": {
   "codemirror_mode": {
    "name": "ipython",
    "version": 3
   },
   "file_extension": ".py",
   "mimetype": "text/x-python",
   "name": "python",
   "nbconvert_exporter": "python",
   "pygments_lexer": "ipython3",
   "version": "3.9.16"
  }
 },
 "nbformat": 4,
 "nbformat_minor": 5
}
