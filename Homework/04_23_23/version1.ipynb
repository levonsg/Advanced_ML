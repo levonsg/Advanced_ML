{
 "cells": [
  {
   "cell_type": "code",
   "execution_count": 1,
   "id": "2d56b995-60be-46b5-8253-72ab456aad6b",
   "metadata": {
    "tags": []
   },
   "outputs": [],
   "source": [
    "import pandas as pd\n",
    "import numpy as np\n",
    "import matplotlib.pyplot as plt\n",
    "import seaborn as sns\n",
    "import plotly.express as px\n",
    "import warnings\n",
    "warnings.filterwarnings('ignore')"
   ]
  },
  {
   "cell_type": "code",
   "execution_count": 2,
   "id": "ebd113af-10ae-4a66-a407-f61d47af9a63",
   "metadata": {
    "tags": []
   },
   "outputs": [],
   "source": [
    "df=pd.read_csv('hospital_deaths_train.csv')\n"
   ]
  },
  {
   "cell_type": "code",
   "execution_count": 3,
   "id": "76bfd2d4-babc-4276-adb5-427e0f27006f",
   "metadata": {
    "tags": []
   },
   "outputs": [
    {
     "data": {
      "text/html": [
       "<div>\n",
       "<style scoped>\n",
       "    .dataframe tbody tr th:only-of-type {\n",
       "        vertical-align: middle;\n",
       "    }\n",
       "\n",
       "    .dataframe tbody tr th {\n",
       "        vertical-align: top;\n",
       "    }\n",
       "\n",
       "    .dataframe thead th {\n",
       "        text-align: right;\n",
       "    }\n",
       "</style>\n",
       "<table border=\"1\" class=\"dataframe\">\n",
       "  <thead>\n",
       "    <tr style=\"text-align: right;\">\n",
       "      <th></th>\n",
       "      <th>recordid</th>\n",
       "      <th>In-hospital_death</th>\n",
       "      <th>Age</th>\n",
       "      <th>Gender</th>\n",
       "      <th>Height</th>\n",
       "      <th>Weight</th>\n",
       "      <th>CCU</th>\n",
       "      <th>CSRU</th>\n",
       "      <th>SICU</th>\n",
       "      <th>DiasABP_first</th>\n",
       "      <th>...</th>\n",
       "      <th>SysABP_last</th>\n",
       "      <th>TroponinI_last</th>\n",
       "      <th>TroponinT_last</th>\n",
       "      <th>WBC_last</th>\n",
       "      <th>Weight_last</th>\n",
       "      <th>pH_last</th>\n",
       "      <th>MechVentStartTime</th>\n",
       "      <th>MechVentDuration</th>\n",
       "      <th>MechVentLast8Hour</th>\n",
       "      <th>UrineOutputSum</th>\n",
       "    </tr>\n",
       "  </thead>\n",
       "  <tbody>\n",
       "    <tr>\n",
       "      <th>0</th>\n",
       "      <td>135031</td>\n",
       "      <td>0</td>\n",
       "      <td>69.0</td>\n",
       "      <td>1.0</td>\n",
       "      <td>172.7</td>\n",
       "      <td>63.7</td>\n",
       "      <td>0</td>\n",
       "      <td>0</td>\n",
       "      <td>0</td>\n",
       "      <td>59.0</td>\n",
       "      <td>...</td>\n",
       "      <td>119.0</td>\n",
       "      <td>4.6</td>\n",
       "      <td>NaN</td>\n",
       "      <td>17.2</td>\n",
       "      <td>63.7</td>\n",
       "      <td>7.41</td>\n",
       "      <td>105.0</td>\n",
       "      <td>2580.0</td>\n",
       "      <td>1.0</td>\n",
       "      <td>12.0</td>\n",
       "    </tr>\n",
       "    <tr>\n",
       "      <th>1</th>\n",
       "      <td>132988</td>\n",
       "      <td>0</td>\n",
       "      <td>72.0</td>\n",
       "      <td>1.0</td>\n",
       "      <td>NaN</td>\n",
       "      <td>NaN</td>\n",
       "      <td>0</td>\n",
       "      <td>0</td>\n",
       "      <td>0</td>\n",
       "      <td>NaN</td>\n",
       "      <td>...</td>\n",
       "      <td>NaN</td>\n",
       "      <td>NaN</td>\n",
       "      <td>0.23</td>\n",
       "      <td>21.9</td>\n",
       "      <td>NaN</td>\n",
       "      <td>NaN</td>\n",
       "      <td>NaN</td>\n",
       "      <td>NaN</td>\n",
       "      <td>NaN</td>\n",
       "      <td>NaN</td>\n",
       "    </tr>\n",
       "    <tr>\n",
       "      <th>2</th>\n",
       "      <td>136292</td>\n",
       "      <td>0</td>\n",
       "      <td>29.0</td>\n",
       "      <td>0.0</td>\n",
       "      <td>NaN</td>\n",
       "      <td>90.0</td>\n",
       "      <td>0</td>\n",
       "      <td>0</td>\n",
       "      <td>0</td>\n",
       "      <td>37.0</td>\n",
       "      <td>...</td>\n",
       "      <td>124.0</td>\n",
       "      <td>NaN</td>\n",
       "      <td>NaN</td>\n",
       "      <td>11.1</td>\n",
       "      <td>106.3</td>\n",
       "      <td>7.40</td>\n",
       "      <td>103.0</td>\n",
       "      <td>2700.0</td>\n",
       "      <td>1.0</td>\n",
       "      <td>14.0</td>\n",
       "    </tr>\n",
       "    <tr>\n",
       "      <th>3</th>\n",
       "      <td>133122</td>\n",
       "      <td>0</td>\n",
       "      <td>73.0</td>\n",
       "      <td>1.0</td>\n",
       "      <td>175.3</td>\n",
       "      <td>89.1</td>\n",
       "      <td>0</td>\n",
       "      <td>1</td>\n",
       "      <td>0</td>\n",
       "      <td>58.0</td>\n",
       "      <td>...</td>\n",
       "      <td>148.0</td>\n",
       "      <td>NaN</td>\n",
       "      <td>NaN</td>\n",
       "      <td>18.3</td>\n",
       "      <td>94.2</td>\n",
       "      <td>7.45</td>\n",
       "      <td>144.0</td>\n",
       "      <td>2115.0</td>\n",
       "      <td>0.0</td>\n",
       "      <td>12.0</td>\n",
       "    </tr>\n",
       "    <tr>\n",
       "      <th>4</th>\n",
       "      <td>142184</td>\n",
       "      <td>0</td>\n",
       "      <td>74.0</td>\n",
       "      <td>0.0</td>\n",
       "      <td>NaN</td>\n",
       "      <td>78.0</td>\n",
       "      <td>0</td>\n",
       "      <td>0</td>\n",
       "      <td>1</td>\n",
       "      <td>47.0</td>\n",
       "      <td>...</td>\n",
       "      <td>187.0</td>\n",
       "      <td>NaN</td>\n",
       "      <td>NaN</td>\n",
       "      <td>17.7</td>\n",
       "      <td>NaN</td>\n",
       "      <td>7.26</td>\n",
       "      <td>75.0</td>\n",
       "      <td>2280.0</td>\n",
       "      <td>0.0</td>\n",
       "      <td>18.0</td>\n",
       "    </tr>\n",
       "  </tbody>\n",
       "</table>\n",
       "<p>5 rows × 116 columns</p>\n",
       "</div>"
      ],
      "text/plain": [
       "   recordid  In-hospital_death   Age  Gender  Height  Weight  CCU  CSRU  SICU  \\\n",
       "0    135031                  0  69.0     1.0   172.7    63.7    0     0     0   \n",
       "1    132988                  0  72.0     1.0     NaN     NaN    0     0     0   \n",
       "2    136292                  0  29.0     0.0     NaN    90.0    0     0     0   \n",
       "3    133122                  0  73.0     1.0   175.3    89.1    0     1     0   \n",
       "4    142184                  0  74.0     0.0     NaN    78.0    0     0     1   \n",
       "\n",
       "   DiasABP_first  ...  SysABP_last  TroponinI_last  TroponinT_last  WBC_last  \\\n",
       "0           59.0  ...        119.0             4.6             NaN      17.2   \n",
       "1            NaN  ...          NaN             NaN            0.23      21.9   \n",
       "2           37.0  ...        124.0             NaN             NaN      11.1   \n",
       "3           58.0  ...        148.0             NaN             NaN      18.3   \n",
       "4           47.0  ...        187.0             NaN             NaN      17.7   \n",
       "\n",
       "   Weight_last  pH_last  MechVentStartTime  MechVentDuration  \\\n",
       "0         63.7     7.41              105.0            2580.0   \n",
       "1          NaN      NaN                NaN               NaN   \n",
       "2        106.3     7.40              103.0            2700.0   \n",
       "3         94.2     7.45              144.0            2115.0   \n",
       "4          NaN     7.26               75.0            2280.0   \n",
       "\n",
       "   MechVentLast8Hour  UrineOutputSum  \n",
       "0                1.0            12.0  \n",
       "1                NaN             NaN  \n",
       "2                1.0            14.0  \n",
       "3                0.0            12.0  \n",
       "4                0.0            18.0  \n",
       "\n",
       "[5 rows x 116 columns]"
      ]
     },
     "execution_count": 3,
     "metadata": {},
     "output_type": "execute_result"
    }
   ],
   "source": [
    "df.head()"
   ]
  },
  {
   "cell_type": "code",
   "execution_count": 4,
   "id": "f120048b-29f0-4c1b-9b5c-5512b18b4f96",
   "metadata": {
    "tags": []
   },
   "outputs": [
    {
     "name": "stdout",
     "output_type": "stream",
     "text": [
      "<class 'pandas.core.frame.DataFrame'>\n",
      "RangeIndex: 3250 entries, 0 to 3249\n",
      "Columns: 116 entries, recordid to UrineOutputSum\n",
      "dtypes: float64(111), int64(5)\n",
      "memory usage: 2.9 MB\n"
     ]
    }
   ],
   "source": [
    "df.info()"
   ]
  },
  {
   "cell_type": "code",
   "execution_count": 5,
   "id": "44a5018a-b145-48ad-a2d6-763456334113",
   "metadata": {
    "tags": []
   },
   "outputs": [
    {
     "data": {
      "text/plain": [
       "(3250, 116)"
      ]
     },
     "execution_count": 5,
     "metadata": {},
     "output_type": "execute_result"
    }
   ],
   "source": [
    "df.shape"
   ]
  },
  {
   "cell_type": "code",
   "execution_count": 6,
   "id": "970ac2eb-c15e-4d31-bc36-eb84269c74ac",
   "metadata": {
    "tags": []
   },
   "outputs": [
    {
     "data": {
      "text/html": [
       "<div>\n",
       "<style scoped>\n",
       "    .dataframe tbody tr th:only-of-type {\n",
       "        vertical-align: middle;\n",
       "    }\n",
       "\n",
       "    .dataframe tbody tr th {\n",
       "        vertical-align: top;\n",
       "    }\n",
       "\n",
       "    .dataframe thead th {\n",
       "        text-align: right;\n",
       "    }\n",
       "</style>\n",
       "<table border=\"1\" class=\"dataframe\">\n",
       "  <thead>\n",
       "    <tr style=\"text-align: right;\">\n",
       "      <th></th>\n",
       "      <th>recordid</th>\n",
       "      <th>In-hospital_death</th>\n",
       "      <th>Age</th>\n",
       "      <th>Gender</th>\n",
       "      <th>Height</th>\n",
       "      <th>Weight</th>\n",
       "      <th>CCU</th>\n",
       "      <th>CSRU</th>\n",
       "      <th>SICU</th>\n",
       "      <th>DiasABP_first</th>\n",
       "      <th>...</th>\n",
       "      <th>SysABP_last</th>\n",
       "      <th>TroponinI_last</th>\n",
       "      <th>TroponinT_last</th>\n",
       "      <th>WBC_last</th>\n",
       "      <th>Weight_last</th>\n",
       "      <th>pH_last</th>\n",
       "      <th>MechVentStartTime</th>\n",
       "      <th>MechVentDuration</th>\n",
       "      <th>MechVentLast8Hour</th>\n",
       "      <th>UrineOutputSum</th>\n",
       "    </tr>\n",
       "  </thead>\n",
       "  <tbody>\n",
       "    <tr>\n",
       "      <th>3245</th>\n",
       "      <td>135913</td>\n",
       "      <td>0</td>\n",
       "      <td>62.0</td>\n",
       "      <td>0.0</td>\n",
       "      <td>170.2</td>\n",
       "      <td>54.2</td>\n",
       "      <td>0</td>\n",
       "      <td>0</td>\n",
       "      <td>0</td>\n",
       "      <td>72.0</td>\n",
       "      <td>...</td>\n",
       "      <td>115.0</td>\n",
       "      <td>NaN</td>\n",
       "      <td>NaN</td>\n",
       "      <td>21.7</td>\n",
       "      <td>66.8</td>\n",
       "      <td>7.41</td>\n",
       "      <td>1703.0</td>\n",
       "      <td>1080.0</td>\n",
       "      <td>1.0</td>\n",
       "      <td>8.0</td>\n",
       "    </tr>\n",
       "    <tr>\n",
       "      <th>3246</th>\n",
       "      <td>142481</td>\n",
       "      <td>0</td>\n",
       "      <td>34.0</td>\n",
       "      <td>1.0</td>\n",
       "      <td>NaN</td>\n",
       "      <td>81.8</td>\n",
       "      <td>1</td>\n",
       "      <td>0</td>\n",
       "      <td>0</td>\n",
       "      <td>84.0</td>\n",
       "      <td>...</td>\n",
       "      <td>193.0</td>\n",
       "      <td>NaN</td>\n",
       "      <td>NaN</td>\n",
       "      <td>10.2</td>\n",
       "      <td>NaN</td>\n",
       "      <td>7.41</td>\n",
       "      <td>NaN</td>\n",
       "      <td>NaN</td>\n",
       "      <td>NaN</td>\n",
       "      <td>NaN</td>\n",
       "    </tr>\n",
       "    <tr>\n",
       "      <th>3247</th>\n",
       "      <td>134761</td>\n",
       "      <td>0</td>\n",
       "      <td>60.0</td>\n",
       "      <td>0.0</td>\n",
       "      <td>NaN</td>\n",
       "      <td>60.0</td>\n",
       "      <td>0</td>\n",
       "      <td>0</td>\n",
       "      <td>0</td>\n",
       "      <td>72.0</td>\n",
       "      <td>...</td>\n",
       "      <td>106.0</td>\n",
       "      <td>NaN</td>\n",
       "      <td>3.99</td>\n",
       "      <td>15.1</td>\n",
       "      <td>60.0</td>\n",
       "      <td>7.38</td>\n",
       "      <td>126.0</td>\n",
       "      <td>2580.0</td>\n",
       "      <td>1.0</td>\n",
       "      <td>17.0</td>\n",
       "    </tr>\n",
       "    <tr>\n",
       "      <th>3248</th>\n",
       "      <td>140957</td>\n",
       "      <td>0</td>\n",
       "      <td>68.0</td>\n",
       "      <td>0.0</td>\n",
       "      <td>NaN</td>\n",
       "      <td>78.8</td>\n",
       "      <td>0</td>\n",
       "      <td>0</td>\n",
       "      <td>0</td>\n",
       "      <td>NaN</td>\n",
       "      <td>...</td>\n",
       "      <td>NaN</td>\n",
       "      <td>NaN</td>\n",
       "      <td>NaN</td>\n",
       "      <td>11.3</td>\n",
       "      <td>78.8</td>\n",
       "      <td>NaN</td>\n",
       "      <td>NaN</td>\n",
       "      <td>NaN</td>\n",
       "      <td>NaN</td>\n",
       "      <td>NaN</td>\n",
       "    </tr>\n",
       "    <tr>\n",
       "      <th>3249</th>\n",
       "      <td>134862</td>\n",
       "      <td>0</td>\n",
       "      <td>62.0</td>\n",
       "      <td>1.0</td>\n",
       "      <td>182.9</td>\n",
       "      <td>80.5</td>\n",
       "      <td>0</td>\n",
       "      <td>1</td>\n",
       "      <td>0</td>\n",
       "      <td>46.0</td>\n",
       "      <td>...</td>\n",
       "      <td>115.0</td>\n",
       "      <td>NaN</td>\n",
       "      <td>NaN</td>\n",
       "      <td>9.4</td>\n",
       "      <td>89.8</td>\n",
       "      <td>7.46</td>\n",
       "      <td>149.0</td>\n",
       "      <td>720.0</td>\n",
       "      <td>0.0</td>\n",
       "      <td>5.0</td>\n",
       "    </tr>\n",
       "  </tbody>\n",
       "</table>\n",
       "<p>5 rows × 116 columns</p>\n",
       "</div>"
      ],
      "text/plain": [
       "      recordid  In-hospital_death   Age  Gender  Height  Weight  CCU  CSRU  \\\n",
       "3245    135913                  0  62.0     0.0   170.2    54.2    0     0   \n",
       "3246    142481                  0  34.0     1.0     NaN    81.8    1     0   \n",
       "3247    134761                  0  60.0     0.0     NaN    60.0    0     0   \n",
       "3248    140957                  0  68.0     0.0     NaN    78.8    0     0   \n",
       "3249    134862                  0  62.0     1.0   182.9    80.5    0     1   \n",
       "\n",
       "      SICU  DiasABP_first  ...  SysABP_last  TroponinI_last  TroponinT_last  \\\n",
       "3245     0           72.0  ...        115.0             NaN             NaN   \n",
       "3246     0           84.0  ...        193.0             NaN             NaN   \n",
       "3247     0           72.0  ...        106.0             NaN            3.99   \n",
       "3248     0            NaN  ...          NaN             NaN             NaN   \n",
       "3249     0           46.0  ...        115.0             NaN             NaN   \n",
       "\n",
       "      WBC_last  Weight_last  pH_last  MechVentStartTime  MechVentDuration  \\\n",
       "3245      21.7         66.8     7.41             1703.0            1080.0   \n",
       "3246      10.2          NaN     7.41                NaN               NaN   \n",
       "3247      15.1         60.0     7.38              126.0            2580.0   \n",
       "3248      11.3         78.8      NaN                NaN               NaN   \n",
       "3249       9.4         89.8     7.46              149.0             720.0   \n",
       "\n",
       "      MechVentLast8Hour  UrineOutputSum  \n",
       "3245                1.0             8.0  \n",
       "3246                NaN             NaN  \n",
       "3247                1.0            17.0  \n",
       "3248                NaN             NaN  \n",
       "3249                0.0             5.0  \n",
       "\n",
       "[5 rows x 116 columns]"
      ]
     },
     "execution_count": 6,
     "metadata": {},
     "output_type": "execute_result"
    }
   ],
   "source": [
    "df.tail()"
   ]
  },
  {
   "cell_type": "code",
   "execution_count": 7,
   "id": "3817e56e-7f11-404f-9d02-2406ab0fe35a",
   "metadata": {
    "tags": []
   },
   "outputs": [],
   "source": [
    "df.drop_duplicates(inplace=True)"
   ]
  },
  {
   "cell_type": "code",
   "execution_count": 8,
   "id": "ce3a8d04-e056-4b0b-80b7-a37e3523c5a7",
   "metadata": {
    "tags": []
   },
   "outputs": [
    {
     "data": {
      "text/plain": [
       "(3250, 116)"
      ]
     },
     "execution_count": 8,
     "metadata": {},
     "output_type": "execute_result"
    }
   ],
   "source": [
    "df.shape"
   ]
  },
  {
   "cell_type": "code",
   "execution_count": 9,
   "id": "fa328070-9308-4c1e-85b0-105e8b46f956",
   "metadata": {
    "tags": []
   },
   "outputs": [
    {
     "data": {
      "text/plain": [
       "array([0, 1], dtype=int64)"
      ]
     },
     "execution_count": 9,
     "metadata": {},
     "output_type": "execute_result"
    }
   ],
   "source": [
    "df['In-hospital_death'].unique()"
   ]
  },
  {
   "cell_type": "code",
   "execution_count": 10,
   "id": "1c983f9e-813f-4ffe-b3a6-d5f2ac28638e",
   "metadata": {
    "tags": []
   },
   "outputs": [
    {
     "data": {
      "text/plain": [
       "Age\n",
       "15.0    0.000000\n",
       "16.0    0.000000\n",
       "17.0    0.000000\n",
       "18.0    0.000000\n",
       "19.0    0.066667\n",
       "          ...   \n",
       "86.0    0.312500\n",
       "87.0    0.295455\n",
       "88.0    0.181818\n",
       "89.0    0.290323\n",
       "90.0    0.282258\n",
       "Name: In-hospital_death, Length: 76, dtype: float64"
      ]
     },
     "execution_count": 10,
     "metadata": {},
     "output_type": "execute_result"
    }
   ],
   "source": [
    "df.groupby('Age')['In-hospital_death'].mean()"
   ]
  },
  {
   "cell_type": "code",
   "execution_count": 11,
   "id": "42edd837-929c-4ff8-a237-3c78c6ef3ed5",
   "metadata": {
    "tags": []
   },
   "outputs": [
    {
     "data": {
      "text/plain": [
       "array(['recordid', 'In-hospital_death', 'Age', 'Gender', 'Height',\n",
       "       'Weight', 'CCU', 'CSRU', 'SICU', 'DiasABP_first', 'GCS_first',\n",
       "       'Glucose_first', 'HR_first', 'MAP_first', 'NIDiasABP_first',\n",
       "       'NIMAP_first', 'NISysABP_first', 'RespRate_first', 'SaO2_first',\n",
       "       'Temp_first', 'DiasABP_last', 'GCS_last', 'Glucose_last',\n",
       "       'HR_last', 'MAP_last', 'NIDiasABP_last', 'NIMAP_last',\n",
       "       'NISysABP_last', 'RespRate_last', 'SaO2_last', 'Temp_last',\n",
       "       'DiasABP_lowest', 'GCS_lowest', 'Glucose_lowest', 'HR_lowest',\n",
       "       'MAP_lowest', 'NIDiasABP_lowest', 'NIMAP_lowest',\n",
       "       'NISysABP_lowest', 'RespRate_lowest', 'SaO2_lowest', 'Temp_lowest',\n",
       "       'DiasABP_highest', 'GCS_highest', 'Glucose_highest', 'HR_highest',\n",
       "       'MAP_highest', 'NIDiasABP_highest', 'NIMAP_highest',\n",
       "       'NISysABP_highest', 'RespRate_highest', 'SaO2_highest',\n",
       "       'Temp_highest', 'DiasABP_median', 'GCS_median', 'Glucose_median',\n",
       "       'HR_median', 'MAP_median', 'NIDiasABP_median', 'NIMAP_median',\n",
       "       'NISysABP_median', 'RespRate_median', 'SaO2_median', 'Temp_median',\n",
       "       'ALP_first', 'ALT_first', 'AST_first', 'Albumin_first',\n",
       "       'BUN_first', 'Bilirubin_first', 'Cholesterol_first',\n",
       "       'Creatinine_first', 'FiO2_first', 'HCO3_first', 'HCT_first',\n",
       "       'K_first', 'Lactate_first', 'Mg_first', 'Na_first', 'PaCO2_first',\n",
       "       'PaO2_first', 'Platelets_first', 'SysABP_first', 'TroponinI_first',\n",
       "       'TroponinT_first', 'WBC_first', 'Weight_first', 'pH_first',\n",
       "       'ALP_last', 'ALT_last', 'AST_last', 'Albumin_last', 'BUN_last',\n",
       "       'Bilirubin_last', 'Cholesterol_last', 'Creatinine_last',\n",
       "       'FiO2_last', 'HCO3_last', 'HCT_last', 'K_last', 'Lactate_last',\n",
       "       'Mg_last', 'Na_last', 'PaCO2_last', 'PaO2_last', 'Platelets_last',\n",
       "       'SysABP_last', 'TroponinI_last', 'TroponinT_last', 'WBC_last',\n",
       "       'Weight_last', 'pH_last', 'MechVentStartTime', 'MechVentDuration',\n",
       "       'MechVentLast8Hour', 'UrineOutputSum'], dtype=object)"
      ]
     },
     "execution_count": 11,
     "metadata": {},
     "output_type": "execute_result"
    }
   ],
   "source": [
    "np.array(df.columns)"
   ]
  },
  {
   "cell_type": "code",
   "execution_count": 12,
   "id": "0779cce8-9d1a-4fd6-a870-197d4cc81945",
   "metadata": {
    "collapsed": true,
    "jupyter": {
     "outputs_hidden": true
    },
    "tags": []
   },
   "outputs": [
    {
     "data": {
      "text/plain": [
       "[0,\n",
       " 0,\n",
       " 0,\n",
       " 3,\n",
       " 1515,\n",
       " 258,\n",
       " 0,\n",
       " 0,\n",
       " 0,\n",
       " 994,\n",
       " 49,\n",
       " 92,\n",
       " 48,\n",
       " 985,\n",
       " 413,\n",
       " 415,\n",
       " 410,\n",
       " 2358,\n",
       " 1796,\n",
       " 49,\n",
       " 994,\n",
       " 49,\n",
       " 92,\n",
       " 48,\n",
       " 985,\n",
       " 413,\n",
       " 415,\n",
       " 410,\n",
       " 2358,\n",
       " 1796,\n",
       " 49,\n",
       " 994,\n",
       " 49,\n",
       " 92,\n",
       " 48,\n",
       " 985,\n",
       " 413,\n",
       " 415,\n",
       " 410,\n",
       " 2358,\n",
       " 1796,\n",
       " 49,\n",
       " 994,\n",
       " 49,\n",
       " 92,\n",
       " 48,\n",
       " 985,\n",
       " 413,\n",
       " 415,\n",
       " 410,\n",
       " 2358,\n",
       " 1796,\n",
       " 49,\n",
       " 994,\n",
       " 49,\n",
       " 92,\n",
       " 48,\n",
       " 985,\n",
       " 413,\n",
       " 415,\n",
       " 410,\n",
       " 2358,\n",
       " 1796,\n",
       " 49,\n",
       " 1877,\n",
       " 1851,\n",
       " 1849,\n",
       " 1941,\n",
       " 50,\n",
       " 1854,\n",
       " 3007,\n",
       " 50,\n",
       " 1036,\n",
       " 60,\n",
       " 50,\n",
       " 75,\n",
       " 1481,\n",
       " 83,\n",
       " 59,\n",
       " 803,\n",
       " 803,\n",
       " 54,\n",
       " 993,\n",
       " 3087,\n",
       " 2541,\n",
       " 73,\n",
       " 1035,\n",
       " 790,\n",
       " 1877,\n",
       " 1851,\n",
       " 1849,\n",
       " 1941,\n",
       " 50,\n",
       " 1854,\n",
       " 3007,\n",
       " 50,\n",
       " 1036,\n",
       " 60,\n",
       " 50,\n",
       " 75,\n",
       " 1481,\n",
       " 83,\n",
       " 59,\n",
       " 803,\n",
       " 803,\n",
       " 54,\n",
       " 993,\n",
       " 3087,\n",
       " 2541,\n",
       " 73,\n",
       " 1035,\n",
       " 790,\n",
       " 1190,\n",
       " 1190,\n",
       " 1190,\n",
       " 1190]"
      ]
     },
     "execution_count": 12,
     "metadata": {},
     "output_type": "execute_result"
    }
   ],
   "source": [
    "df.isnull().sum().to_list()"
   ]
  },
  {
   "cell_type": "code",
   "execution_count": 13,
   "id": "8387fb3c-f345-4b6b-933c-88d1daf48d5b",
   "metadata": {
    "collapsed": true,
    "jupyter": {
     "outputs_hidden": true
    },
    "tags": []
   },
   "outputs": [
    {
     "data": {
      "text/plain": [
       "['Gender',\n",
       " 'Height',\n",
       " 'Weight',\n",
       " 'DiasABP_first',\n",
       " 'GCS_first',\n",
       " 'Glucose_first',\n",
       " 'HR_first',\n",
       " 'MAP_first',\n",
       " 'NIDiasABP_first',\n",
       " 'NIMAP_first',\n",
       " 'NISysABP_first',\n",
       " 'RespRate_first',\n",
       " 'SaO2_first',\n",
       " 'Temp_first',\n",
       " 'DiasABP_last',\n",
       " 'GCS_last',\n",
       " 'Glucose_last',\n",
       " 'HR_last',\n",
       " 'MAP_last',\n",
       " 'NIDiasABP_last',\n",
       " 'NIMAP_last',\n",
       " 'NISysABP_last',\n",
       " 'RespRate_last',\n",
       " 'SaO2_last',\n",
       " 'Temp_last',\n",
       " 'DiasABP_lowest',\n",
       " 'GCS_lowest',\n",
       " 'Glucose_lowest',\n",
       " 'HR_lowest',\n",
       " 'MAP_lowest',\n",
       " 'NIDiasABP_lowest',\n",
       " 'NIMAP_lowest',\n",
       " 'NISysABP_lowest',\n",
       " 'RespRate_lowest',\n",
       " 'SaO2_lowest',\n",
       " 'Temp_lowest',\n",
       " 'DiasABP_highest',\n",
       " 'GCS_highest',\n",
       " 'Glucose_highest',\n",
       " 'HR_highest',\n",
       " 'MAP_highest',\n",
       " 'NIDiasABP_highest',\n",
       " 'NIMAP_highest',\n",
       " 'NISysABP_highest',\n",
       " 'RespRate_highest',\n",
       " 'SaO2_highest',\n",
       " 'Temp_highest',\n",
       " 'DiasABP_median',\n",
       " 'GCS_median',\n",
       " 'Glucose_median',\n",
       " 'HR_median',\n",
       " 'MAP_median',\n",
       " 'NIDiasABP_median',\n",
       " 'NIMAP_median',\n",
       " 'NISysABP_median',\n",
       " 'RespRate_median',\n",
       " 'SaO2_median',\n",
       " 'Temp_median',\n",
       " 'ALP_first',\n",
       " 'ALT_first',\n",
       " 'AST_first',\n",
       " 'Albumin_first',\n",
       " 'BUN_first',\n",
       " 'Bilirubin_first',\n",
       " 'Cholesterol_first',\n",
       " 'Creatinine_first',\n",
       " 'FiO2_first',\n",
       " 'HCO3_first',\n",
       " 'HCT_first',\n",
       " 'K_first',\n",
       " 'Lactate_first',\n",
       " 'Mg_first',\n",
       " 'Na_first',\n",
       " 'PaCO2_first',\n",
       " 'PaO2_first',\n",
       " 'Platelets_first',\n",
       " 'SysABP_first',\n",
       " 'TroponinI_first',\n",
       " 'TroponinT_first',\n",
       " 'WBC_first',\n",
       " 'Weight_first',\n",
       " 'pH_first',\n",
       " 'ALP_last',\n",
       " 'ALT_last',\n",
       " 'AST_last',\n",
       " 'Albumin_last',\n",
       " 'BUN_last',\n",
       " 'Bilirubin_last',\n",
       " 'Cholesterol_last',\n",
       " 'Creatinine_last',\n",
       " 'FiO2_last',\n",
       " 'HCO3_last',\n",
       " 'HCT_last',\n",
       " 'K_last',\n",
       " 'Lactate_last',\n",
       " 'Mg_last',\n",
       " 'Na_last',\n",
       " 'PaCO2_last',\n",
       " 'PaO2_last',\n",
       " 'Platelets_last',\n",
       " 'SysABP_last',\n",
       " 'TroponinI_last',\n",
       " 'TroponinT_last',\n",
       " 'WBC_last',\n",
       " 'Weight_last',\n",
       " 'pH_last',\n",
       " 'MechVentStartTime',\n",
       " 'MechVentDuration',\n",
       " 'MechVentLast8Hour',\n",
       " 'UrineOutputSum']"
      ]
     },
     "execution_count": 13,
     "metadata": {},
     "output_type": "execute_result"
    }
   ],
   "source": [
    "feature_na=[feature for feature in df.columns if df[feature].isnull().sum()>0]\n",
    "feature_na"
   ]
  },
  {
   "cell_type": "code",
   "execution_count": 14,
   "id": "3309da7a-d091-427e-b5fa-f32f4980d841",
   "metadata": {
    "collapsed": true,
    "jupyter": {
     "outputs_hidden": true
    },
    "tags": []
   },
   "outputs": [
    {
     "name": "stdout",
     "output_type": "stream",
     "text": [
      "Gender has 0.0923 % missing values\n",
      "Height has 46.6154 % missing values\n",
      "Weight has 7.9385 % missing values\n",
      "DiasABP_first has 30.5846 % missing values\n",
      "GCS_first has 1.5077 % missing values\n",
      "Glucose_first has 2.8308 % missing values\n",
      "HR_first has 1.4769 % missing values\n",
      "MAP_first has 30.3077 % missing values\n",
      "NIDiasABP_first has 12.7077 % missing values\n",
      "NIMAP_first has 12.7692 % missing values\n",
      "NISysABP_first has 12.6154 % missing values\n",
      "RespRate_first has 72.5538 % missing values\n",
      "SaO2_first has 55.2615 % missing values\n",
      "Temp_first has 1.5077 % missing values\n",
      "DiasABP_last has 30.5846 % missing values\n",
      "GCS_last has 1.5077 % missing values\n",
      "Glucose_last has 2.8308 % missing values\n",
      "HR_last has 1.4769 % missing values\n",
      "MAP_last has 30.3077 % missing values\n",
      "NIDiasABP_last has 12.7077 % missing values\n",
      "NIMAP_last has 12.7692 % missing values\n",
      "NISysABP_last has 12.6154 % missing values\n",
      "RespRate_last has 72.5538 % missing values\n",
      "SaO2_last has 55.2615 % missing values\n",
      "Temp_last has 1.5077 % missing values\n",
      "DiasABP_lowest has 30.5846 % missing values\n",
      "GCS_lowest has 1.5077 % missing values\n",
      "Glucose_lowest has 2.8308 % missing values\n",
      "HR_lowest has 1.4769 % missing values\n",
      "MAP_lowest has 30.3077 % missing values\n",
      "NIDiasABP_lowest has 12.7077 % missing values\n",
      "NIMAP_lowest has 12.7692 % missing values\n",
      "NISysABP_lowest has 12.6154 % missing values\n",
      "RespRate_lowest has 72.5538 % missing values\n",
      "SaO2_lowest has 55.2615 % missing values\n",
      "Temp_lowest has 1.5077 % missing values\n",
      "DiasABP_highest has 30.5846 % missing values\n",
      "GCS_highest has 1.5077 % missing values\n",
      "Glucose_highest has 2.8308 % missing values\n",
      "HR_highest has 1.4769 % missing values\n",
      "MAP_highest has 30.3077 % missing values\n",
      "NIDiasABP_highest has 12.7077 % missing values\n",
      "NIMAP_highest has 12.7692 % missing values\n",
      "NISysABP_highest has 12.6154 % missing values\n",
      "RespRate_highest has 72.5538 % missing values\n",
      "SaO2_highest has 55.2615 % missing values\n",
      "Temp_highest has 1.5077 % missing values\n",
      "DiasABP_median has 30.5846 % missing values\n",
      "GCS_median has 1.5077 % missing values\n",
      "Glucose_median has 2.8308 % missing values\n",
      "HR_median has 1.4769 % missing values\n",
      "MAP_median has 30.3077 % missing values\n",
      "NIDiasABP_median has 12.7077 % missing values\n",
      "NIMAP_median has 12.7692 % missing values\n",
      "NISysABP_median has 12.6154 % missing values\n",
      "RespRate_median has 72.5538 % missing values\n",
      "SaO2_median has 55.2615 % missing values\n",
      "Temp_median has 1.5077 % missing values\n",
      "ALP_first has 57.7538 % missing values\n",
      "ALT_first has 56.9538 % missing values\n",
      "AST_first has 56.8923 % missing values\n",
      "Albumin_first has 59.7231 % missing values\n",
      "BUN_first has 1.5385 % missing values\n",
      "Bilirubin_first has 57.0462 % missing values\n",
      "Cholesterol_first has 92.5231 % missing values\n",
      "Creatinine_first has 1.5385 % missing values\n",
      "FiO2_first has 31.8769 % missing values\n",
      "HCO3_first has 1.8462 % missing values\n",
      "HCT_first has 1.5385 % missing values\n",
      "K_first has 2.3077 % missing values\n",
      "Lactate_first has 45.5692 % missing values\n",
      "Mg_first has 2.5538 % missing values\n",
      "Na_first has 1.8154 % missing values\n",
      "PaCO2_first has 24.7077 % missing values\n",
      "PaO2_first has 24.7077 % missing values\n",
      "Platelets_first has 1.6615 % missing values\n",
      "SysABP_first has 30.5538 % missing values\n",
      "TroponinI_first has 94.9846 % missing values\n",
      "TroponinT_first has 78.1846 % missing values\n",
      "WBC_first has 2.2462 % missing values\n",
      "Weight_first has 31.8462 % missing values\n",
      "pH_first has 24.3077 % missing values\n",
      "ALP_last has 57.7538 % missing values\n",
      "ALT_last has 56.9538 % missing values\n",
      "AST_last has 56.8923 % missing values\n",
      "Albumin_last has 59.7231 % missing values\n",
      "BUN_last has 1.5385 % missing values\n",
      "Bilirubin_last has 57.0462 % missing values\n",
      "Cholesterol_last has 92.5231 % missing values\n",
      "Creatinine_last has 1.5385 % missing values\n",
      "FiO2_last has 31.8769 % missing values\n",
      "HCO3_last has 1.8462 % missing values\n",
      "HCT_last has 1.5385 % missing values\n",
      "K_last has 2.3077 % missing values\n",
      "Lactate_last has 45.5692 % missing values\n",
      "Mg_last has 2.5538 % missing values\n",
      "Na_last has 1.8154 % missing values\n",
      "PaCO2_last has 24.7077 % missing values\n",
      "PaO2_last has 24.7077 % missing values\n",
      "Platelets_last has 1.6615 % missing values\n",
      "SysABP_last has 30.5538 % missing values\n",
      "TroponinI_last has 94.9846 % missing values\n",
      "TroponinT_last has 78.1846 % missing values\n",
      "WBC_last has 2.2462 % missing values\n",
      "Weight_last has 31.8462 % missing values\n",
      "pH_last has 24.3077 % missing values\n",
      "MechVentStartTime has 36.6154 % missing values\n",
      "MechVentDuration has 36.6154 % missing values\n",
      "MechVentLast8Hour has 36.6154 % missing values\n",
      "UrineOutputSum has 36.6154 % missing values\n"
     ]
    }
   ],
   "source": [
    "for feature in feature_na:\n",
    "    print('{} has {} % missing values'.format(feature,np.round(df[feature].isnull().sum()/len(df)*100,4)))"
   ]
  },
  {
   "cell_type": "code",
   "execution_count": 24,
   "id": "f3f59cba-35a8-44c9-b193-86e806b9e585",
   "metadata": {
    "tags": []
   },
   "outputs": [],
   "source": [
    "def impute_mode(feature):\n",
    "    mode = df[feature].mode()[0]\n",
    "    df[feature] = df[feature].fillna(mode)"
   ]
  },
  {
   "cell_type": "code",
   "execution_count": 30,
   "id": "470ae5f1-119c-4471-9098-bd5a597e0a54",
   "metadata": {
    "tags": []
   },
   "outputs": [],
   "source": [
    "def random_value_imputation(feature):\n",
    "    random_sample = df[feature].dropna().sample(df[feature].isna().sum(), replace=True)\n",
    "    random_sample.index = df[df[feature].isnull()].index\n",
    "    df.loc[df[feature].isnull(), feature] = random_sample"
   ]
  },
  {
   "cell_type": "code",
   "execution_count": 31,
   "id": "1f3416fa-8745-43e8-94f7-0aaea20e95e6",
   "metadata": {
    "tags": []
   },
   "outputs": [
    {
     "name": "stdout",
     "output_type": "stream",
     "text": [
      "cat_cols []\n",
      "num_cols ['recordid', 'In-hospital_death', 'Age', 'Gender', 'Height', 'Weight', 'CCU', 'CSRU', 'SICU', 'DiasABP_first', 'GCS_first', 'Glucose_first', 'HR_first', 'MAP_first', 'NIDiasABP_first', 'NIMAP_first', 'NISysABP_first', 'RespRate_first', 'SaO2_first', 'Temp_first', 'DiasABP_last', 'GCS_last', 'Glucose_last', 'HR_last', 'MAP_last', 'NIDiasABP_last', 'NIMAP_last', 'NISysABP_last', 'RespRate_last', 'SaO2_last', 'Temp_last', 'DiasABP_lowest', 'GCS_lowest', 'Glucose_lowest', 'HR_lowest', 'MAP_lowest', 'NIDiasABP_lowest', 'NIMAP_lowest', 'NISysABP_lowest', 'RespRate_lowest', 'SaO2_lowest', 'Temp_lowest', 'DiasABP_highest', 'GCS_highest', 'Glucose_highest', 'HR_highest', 'MAP_highest', 'NIDiasABP_highest', 'NIMAP_highest', 'NISysABP_highest', 'RespRate_highest', 'SaO2_highest', 'Temp_highest', 'DiasABP_median', 'GCS_median', 'Glucose_median', 'HR_median', 'MAP_median', 'NIDiasABP_median', 'NIMAP_median', 'NISysABP_median', 'RespRate_median', 'SaO2_median', 'Temp_median', 'ALP_first', 'ALT_first', 'AST_first', 'Albumin_first', 'BUN_first', 'Bilirubin_first', 'Cholesterol_first', 'Creatinine_first', 'FiO2_first', 'HCO3_first', 'HCT_first', 'K_first', 'Lactate_first', 'Mg_first', 'Na_first', 'PaCO2_first', 'PaO2_first', 'Platelets_first', 'SysABP_first', 'TroponinI_first', 'TroponinT_first', 'WBC_first', 'Weight_first', 'pH_first', 'ALP_last', 'ALT_last', 'AST_last', 'Albumin_last', 'BUN_last', 'Bilirubin_last', 'Cholesterol_last', 'Creatinine_last', 'FiO2_last', 'HCO3_last', 'HCT_last', 'K_last', 'Lactate_last', 'Mg_last', 'Na_last', 'PaCO2_last', 'PaO2_last', 'Platelets_last', 'SysABP_last', 'TroponinI_last', 'TroponinT_last', 'WBC_last', 'Weight_last', 'pH_last', 'MechVentStartTime', 'MechVentDuration', 'MechVentLast8Hour', 'UrineOutputSum']\n"
     ]
    }
   ],
   "source": [
    "cat_cols = [col for col in df.columns if df[col].dtype == 'object']\n",
    "num_cols = [col for col in df.columns if df[col].dtype != 'object']\n",
    "print('cat_cols', cat_cols)\n",
    "print('num_cols', num_cols)"
   ]
  },
  {
   "cell_type": "code",
   "execution_count": 32,
   "id": "387db2f5-6c02-4b51-9496-6331550fb05f",
   "metadata": {
    "tags": []
   },
   "outputs": [
    {
     "data": {
      "text/plain": [
       "recordid             0\n",
       "In-hospital_death    0\n",
       "Age                  0\n",
       "Gender               0\n",
       "Height               0\n",
       "                    ..\n",
       "pH_last              0\n",
       "MechVentStartTime    0\n",
       "MechVentDuration     0\n",
       "MechVentLast8Hour    0\n",
       "UrineOutputSum       0\n",
       "Length: 116, dtype: int64"
      ]
     },
     "execution_count": 32,
     "metadata": {},
     "output_type": "execute_result"
    }
   ],
   "source": [
    "for col in num_cols:\n",
    "    random_value_imputation(col)\n",
    "df[num_cols].isnull().sum()"
   ]
  },
  {
   "cell_type": "code",
   "execution_count": 33,
   "id": "860c298a-f395-445d-b400-88f5b903a29c",
   "metadata": {
    "tags": []
   },
   "outputs": [
    {
     "data": {
      "text/plain": [
       "0    2799\n",
       "1     451\n",
       "Name: In-hospital_death, dtype: int64"
      ]
     },
     "execution_count": 33,
     "metadata": {},
     "output_type": "execute_result"
    }
   ],
   "source": [
    "df['In-hospital_death'].value_counts()"
   ]
  },
  {
   "cell_type": "code",
   "execution_count": 34,
   "id": "b4a7a7f9-6b4c-42cf-8383-c35d8c01d638",
   "metadata": {
    "tags": []
   },
   "outputs": [],
   "source": [
    "x = df.drop('In-hospital_death', axis=1)\n",
    "y = df['In-hospital_death']"
   ]
  },
  {
   "cell_type": "code",
   "execution_count": 35,
   "id": "a8eab606-5982-4dec-8c3c-7a3c57f9b433",
   "metadata": {
    "tags": []
   },
   "outputs": [],
   "source": [
    "from sklearn.model_selection import train_test_split\n",
    "X_train,X_test,y_train,y_test=train_test_split(x,y,test_size=0.2,random_state=0)"
   ]
  },
  {
   "cell_type": "code",
   "execution_count": 36,
   "id": "c687967c-9567-4942-a5be-38e1f8b98961",
   "metadata": {
    "tags": []
   },
   "outputs": [
    {
     "name": "stdout",
     "output_type": "stream",
     "text": [
      "Shape of X_train: (2600, 115)\n",
      "Shape of y_train: (2600,)\n",
      "Shape of X_test: (650, 115)\n",
      "Shape of y_test: (650,)\n"
     ]
    }
   ],
   "source": [
    "print(\"Shape of X_train:\" ,X_train.shape)\n",
    "print(\"Shape of y_train:\" ,y_train.shape)\n",
    "print(\"Shape of X_test:\"  ,X_test.shape)\n",
    "print(\"Shape of y_test:\"  ,y_test.shape)"
   ]
  },
  {
   "cell_type": "code",
   "execution_count": 37,
   "id": "ddf44e5f-aac6-4294-8c60-0878d94514c6",
   "metadata": {
    "tags": []
   },
   "outputs": [],
   "source": [
    "# Feature Scaling\n",
    "from sklearn.preprocessing import StandardScaler\n",
    "sc = StandardScaler()\n",
    "X_train = sc.fit_transform(X_train)\n",
    "X_test = sc.transform(X_test)"
   ]
  },
  {
   "cell_type": "code",
   "execution_count": 38,
   "id": "b03422e2-55e9-4851-abfc-c2ad6f515d89",
   "metadata": {
    "tags": []
   },
   "outputs": [
    {
     "data": {
      "text/html": [
       "<style>#sk-container-id-1 {color: black;background-color: white;}#sk-container-id-1 pre{padding: 0;}#sk-container-id-1 div.sk-toggleable {background-color: white;}#sk-container-id-1 label.sk-toggleable__label {cursor: pointer;display: block;width: 100%;margin-bottom: 0;padding: 0.3em;box-sizing: border-box;text-align: center;}#sk-container-id-1 label.sk-toggleable__label-arrow:before {content: \"▸\";float: left;margin-right: 0.25em;color: #696969;}#sk-container-id-1 label.sk-toggleable__label-arrow:hover:before {color: black;}#sk-container-id-1 div.sk-estimator:hover label.sk-toggleable__label-arrow:before {color: black;}#sk-container-id-1 div.sk-toggleable__content {max-height: 0;max-width: 0;overflow: hidden;text-align: left;background-color: #f0f8ff;}#sk-container-id-1 div.sk-toggleable__content pre {margin: 0.2em;color: black;border-radius: 0.25em;background-color: #f0f8ff;}#sk-container-id-1 input.sk-toggleable__control:checked~div.sk-toggleable__content {max-height: 200px;max-width: 100%;overflow: auto;}#sk-container-id-1 input.sk-toggleable__control:checked~label.sk-toggleable__label-arrow:before {content: \"▾\";}#sk-container-id-1 div.sk-estimator input.sk-toggleable__control:checked~label.sk-toggleable__label {background-color: #d4ebff;}#sk-container-id-1 div.sk-label input.sk-toggleable__control:checked~label.sk-toggleable__label {background-color: #d4ebff;}#sk-container-id-1 input.sk-hidden--visually {border: 0;clip: rect(1px 1px 1px 1px);clip: rect(1px, 1px, 1px, 1px);height: 1px;margin: -1px;overflow: hidden;padding: 0;position: absolute;width: 1px;}#sk-container-id-1 div.sk-estimator {font-family: monospace;background-color: #f0f8ff;border: 1px dotted black;border-radius: 0.25em;box-sizing: border-box;margin-bottom: 0.5em;}#sk-container-id-1 div.sk-estimator:hover {background-color: #d4ebff;}#sk-container-id-1 div.sk-parallel-item::after {content: \"\";width: 100%;border-bottom: 1px solid gray;flex-grow: 1;}#sk-container-id-1 div.sk-label:hover label.sk-toggleable__label {background-color: #d4ebff;}#sk-container-id-1 div.sk-serial::before {content: \"\";position: absolute;border-left: 1px solid gray;box-sizing: border-box;top: 0;bottom: 0;left: 50%;z-index: 0;}#sk-container-id-1 div.sk-serial {display: flex;flex-direction: column;align-items: center;background-color: white;padding-right: 0.2em;padding-left: 0.2em;position: relative;}#sk-container-id-1 div.sk-item {position: relative;z-index: 1;}#sk-container-id-1 div.sk-parallel {display: flex;align-items: stretch;justify-content: center;background-color: white;position: relative;}#sk-container-id-1 div.sk-item::before, #sk-container-id-1 div.sk-parallel-item::before {content: \"\";position: absolute;border-left: 1px solid gray;box-sizing: border-box;top: 0;bottom: 0;left: 50%;z-index: -1;}#sk-container-id-1 div.sk-parallel-item {display: flex;flex-direction: column;z-index: 1;position: relative;background-color: white;}#sk-container-id-1 div.sk-parallel-item:first-child::after {align-self: flex-end;width: 50%;}#sk-container-id-1 div.sk-parallel-item:last-child::after {align-self: flex-start;width: 50%;}#sk-container-id-1 div.sk-parallel-item:only-child::after {width: 0;}#sk-container-id-1 div.sk-dashed-wrapped {border: 1px dashed gray;margin: 0 0.4em 0.5em 0.4em;box-sizing: border-box;padding-bottom: 0.4em;background-color: white;}#sk-container-id-1 div.sk-label label {font-family: monospace;font-weight: bold;display: inline-block;line-height: 1.2em;}#sk-container-id-1 div.sk-label-container {text-align: center;}#sk-container-id-1 div.sk-container {/* jupyter's `normalize.less` sets `[hidden] { display: none; }` but bootstrap.min.css set `[hidden] { display: none !important; }` so we also need the `!important` here to be able to override the default hidden behavior on the sphinx rendered scikit-learn.org. See: https://github.com/scikit-learn/scikit-learn/issues/21755 */display: inline-block !important;position: relative;}#sk-container-id-1 div.sk-text-repr-fallback {display: none;}</style><div id=\"sk-container-id-1\" class=\"sk-top-container\"><div class=\"sk-text-repr-fallback\"><pre>RandomForestClassifier(n_estimators=20, random_state=0)</pre><b>In a Jupyter environment, please rerun this cell to show the HTML representation or trust the notebook. <br />On GitHub, the HTML representation is unable to render, please try loading this page with nbviewer.org.</b></div><div class=\"sk-container\" hidden><div class=\"sk-item\"><div class=\"sk-estimator sk-toggleable\"><input class=\"sk-toggleable__control sk-hidden--visually\" id=\"sk-estimator-id-1\" type=\"checkbox\" checked><label for=\"sk-estimator-id-1\" class=\"sk-toggleable__label sk-toggleable__label-arrow\">RandomForestClassifier</label><div class=\"sk-toggleable__content\"><pre>RandomForestClassifier(n_estimators=20, random_state=0)</pre></div></div></div></div></div>"
      ],
      "text/plain": [
       "RandomForestClassifier(n_estimators=20, random_state=0)"
      ]
     },
     "execution_count": 38,
     "metadata": {},
     "output_type": "execute_result"
    }
   ],
   "source": [
    "# Fitting Random Forest Classification to the Training set\n",
    "from sklearn.ensemble import RandomForestClassifier\n",
    "classifier1 = RandomForestClassifier(n_estimators = 20, criterion = 'gini', random_state =0)\n",
    "classifier1.fit(X_train, y_train)"
   ]
  },
  {
   "cell_type": "code",
   "execution_count": 39,
   "id": "6a0d5da1-ca54-41a3-aea5-0d7bf278384a",
   "metadata": {
    "tags": []
   },
   "outputs": [
    {
     "data": {
      "text/plain": [
       "array([0, 0, 0, 0, 0, 0, 0, 0, 0, 0], dtype=int64)"
      ]
     },
     "execution_count": 39,
     "metadata": {},
     "output_type": "execute_result"
    }
   ],
   "source": [
    "# Predicting the Test set results\n",
    "y_pred = classifier1.predict(X_test)\n",
    "y_pred[:10]"
   ]
  },
  {
   "cell_type": "code",
   "execution_count": 40,
   "id": "5cd4e106-bd8a-4f1f-b98e-9ec985b76cb4",
   "metadata": {
    "tags": []
   },
   "outputs": [
    {
     "name": "stdout",
     "output_type": "stream",
     "text": [
      "Ridge Regression Train Score is :  0.9961538461538462\n",
      "Ridge Regression Test Score is :  0.8723076923076923\n"
     ]
    }
   ],
   "source": [
    "print('Ridge Regression Train Score is : ' , classifier1.score(X_train, y_train))\n",
    "print('Ridge Regression Test Score is : ' , classifier1.score(X_test, y_test))"
   ]
  },
  {
   "cell_type": "code",
   "execution_count": 41,
   "id": "bf2fda51-55de-4f7d-ba0a-0583d84c339c",
   "metadata": {
    "tags": []
   },
   "outputs": [
    {
     "name": "stdout",
     "output_type": "stream",
     "text": [
      "              precision    recall  f1-score   support\n",
      "\n",
      "           0       0.88      0.99      0.93       569\n",
      "           1       0.38      0.04      0.07        81\n",
      "\n",
      "    accuracy                           0.87       650\n",
      "   macro avg       0.63      0.51      0.50       650\n",
      "weighted avg       0.82      0.87      0.82       650\n",
      "\n"
     ]
    }
   ],
   "source": [
    "from sklearn.metrics import classification_report,confusion_matrix\n",
    "print(classification_report(y_test,y_pred))"
   ]
  },
  {
   "cell_type": "code",
   "execution_count": 43,
   "id": "f10c9669-a596-4f40-8737-b4c028608cfe",
   "metadata": {
    "tags": []
   },
   "outputs": [
    {
     "data": {
      "text/plain": [
       "array([[564,   5],\n",
       "       [ 78,   3]], dtype=int64)"
      ]
     },
     "execution_count": 43,
     "metadata": {},
     "output_type": "execute_result"
    }
   ],
   "source": [
    "from sklearn.metrics import confusion_matrix,classification_report,ConfusionMatrixDisplay #for model evaluation\n",
    "confusion_matrix=confusion_matrix(y_test,y_pred)\n",
    "confusion_matrix"
   ]
  },
  {
   "cell_type": "code",
   "execution_count": 44,
   "id": "31173576-7d67-4238-a235-e3a14bcb5963",
   "metadata": {
    "tags": []
   },
   "outputs": [
    {
     "name": "stdout",
     "output_type": "stream",
     "text": [
      "Sensitivity :  0.8785046728971962\n",
      "Specificity :  0.375\n",
      "ppv :  0.9912126537785588\n",
      "npv :  0.037037037037037035\n"
     ]
    }
   ],
   "source": [
    "total=sum(sum(confusion_matrix))\n",
    "\n",
    "sensitivity = confusion_matrix[0,0]/(confusion_matrix[0,0]+confusion_matrix[1,0])\n",
    "print('Sensitivity : ', sensitivity )\n",
    "\n",
    "specificity = confusion_matrix[1,1]/(confusion_matrix[1,1]+confusion_matrix[0,1])\n",
    "print('Specificity : ', specificity)\n",
    "\n",
    "\n",
    "total=sum(sum(confusion_matrix))\n",
    "\n",
    "ppv = confusion_matrix[0,0]/(confusion_matrix[0,0]+confusion_matrix[0,1])\n",
    "print('ppv : ', ppv )\n",
    "\n",
    "npv = confusion_matrix[1,1]/(confusion_matrix[1,0]+confusion_matrix[1,1])\n",
    "print('npv : ', npv)"
   ]
  },
  {
   "cell_type": "code",
   "execution_count": 45,
   "id": "7b9ea46e-9ee3-4120-bf3b-0412f18f37f8",
   "metadata": {
    "tags": []
   },
   "outputs": [
    {
     "data": {
      "image/png": "[encoded data removed]",
      "text/plain": [
       "<Figure size 800x600 with 1 Axes>"
      ]
     },
     "metadata": {},
     "output_type": "display_data"
    }
   ],
   "source": [
    "from sklearn.metrics import roc_curve, auc #for model evaluation\n",
    "from matplotlib import pyplot\n",
    "fig, (ax2) = plt.subplots(figsize = (8,6))\n",
    "        #roc-curve\n",
    "fpr, tpr, thresholds_roc = roc_curve(y_test,y_pred)\n",
    "roc_auc = auc(fpr,tpr)\n",
    "ax2.plot(fpr,tpr, label = \" AUROC = {:0.2f}\".format(roc_auc))\n",
    "ax2.plot([0,1], [0,1], 'r', linestyle = \"--\", lw = 2)\n",
    "ax2.set_xlabel(\"False Positive Rate\", fontsize = 14)\n",
    "ax2.set_ylabel(\"True Positive Rate\", fontsize = 14)\n",
    "ax2.set_title(\"ROC Curve\", fontsize = 18)\n",
    "ax2.legend(loc = 'best')\n",
    "plt.title('ROC curve for RandomForestClassifier')\n",
    "plt.xlabel('False Positive Rate (1 - Specificity)')\n",
    "plt.ylabel('True Positive Rate (Sensitivity)')\n",
    "        #find default threshold\n",
    "close_default = np.argmin(np.abs(thresholds_roc - 0.5))\n",
    "ax2.plot(fpr[close_default], tpr[close_default], 'o', markersize = 8)\n",
    "plt.tight_layout()"
   ]
  },
  {
   "cell_type": "code",
   "execution_count": 47,
   "id": "990065b9-ce8f-4c80-9a7b-39feed0a48e0",
   "metadata": {
    "tags": []
   },
   "outputs": [
    {
     "data": {
      "text/html": [
       "<style>#sk-container-id-2 {color: black;background-color: white;}#sk-container-id-2 pre{padding: 0;}#sk-container-id-2 div.sk-toggleable {background-color: white;}#sk-container-id-2 label.sk-toggleable__label {cursor: pointer;display: block;width: 100%;margin-bottom: 0;padding: 0.3em;box-sizing: border-box;text-align: center;}#sk-container-id-2 label.sk-toggleable__label-arrow:before {content: \"▸\";float: left;margin-right: 0.25em;color: #696969;}#sk-container-id-2 label.sk-toggleable__label-arrow:hover:before {color: black;}#sk-container-id-2 div.sk-estimator:hover label.sk-toggleable__label-arrow:before {color: black;}#sk-container-id-2 div.sk-toggleable__content {max-height: 0;max-width: 0;overflow: hidden;text-align: left;background-color: #f0f8ff;}#sk-container-id-2 div.sk-toggleable__content pre {margin: 0.2em;color: black;border-radius: 0.25em;background-color: #f0f8ff;}#sk-container-id-2 input.sk-toggleable__control:checked~div.sk-toggleable__content {max-height: 200px;max-width: 100%;overflow: auto;}#sk-container-id-2 input.sk-toggleable__control:checked~label.sk-toggleable__label-arrow:before {content: \"▾\";}#sk-container-id-2 div.sk-estimator input.sk-toggleable__control:checked~label.sk-toggleable__label {background-color: #d4ebff;}#sk-container-id-2 div.sk-label input.sk-toggleable__control:checked~label.sk-toggleable__label {background-color: #d4ebff;}#sk-container-id-2 input.sk-hidden--visually {border: 0;clip: rect(1px 1px 1px 1px);clip: rect(1px, 1px, 1px, 1px);height: 1px;margin: -1px;overflow: hidden;padding: 0;position: absolute;width: 1px;}#sk-container-id-2 div.sk-estimator {font-family: monospace;background-color: #f0f8ff;border: 1px dotted black;border-radius: 0.25em;box-sizing: border-box;margin-bottom: 0.5em;}#sk-container-id-2 div.sk-estimator:hover {background-color: #d4ebff;}#sk-container-id-2 div.sk-parallel-item::after {content: \"\";width: 100%;border-bottom: 1px solid gray;flex-grow: 1;}#sk-container-id-2 div.sk-label:hover label.sk-toggleable__label {background-color: #d4ebff;}#sk-container-id-2 div.sk-serial::before {content: \"\";position: absolute;border-left: 1px solid gray;box-sizing: border-box;top: 0;bottom: 0;left: 50%;z-index: 0;}#sk-container-id-2 div.sk-serial {display: flex;flex-direction: column;align-items: center;background-color: white;padding-right: 0.2em;padding-left: 0.2em;position: relative;}#sk-container-id-2 div.sk-item {position: relative;z-index: 1;}#sk-container-id-2 div.sk-parallel {display: flex;align-items: stretch;justify-content: center;background-color: white;position: relative;}#sk-container-id-2 div.sk-item::before, #sk-container-id-2 div.sk-parallel-item::before {content: \"\";position: absolute;border-left: 1px solid gray;box-sizing: border-box;top: 0;bottom: 0;left: 50%;z-index: -1;}#sk-container-id-2 div.sk-parallel-item {display: flex;flex-direction: column;z-index: 1;position: relative;background-color: white;}#sk-container-id-2 div.sk-parallel-item:first-child::after {align-self: flex-end;width: 50%;}#sk-container-id-2 div.sk-parallel-item:last-child::after {align-self: flex-start;width: 50%;}#sk-container-id-2 div.sk-parallel-item:only-child::after {width: 0;}#sk-container-id-2 div.sk-dashed-wrapped {border: 1px dashed gray;margin: 0 0.4em 0.5em 0.4em;box-sizing: border-box;padding-bottom: 0.4em;background-color: white;}#sk-container-id-2 div.sk-label label {font-family: monospace;font-weight: bold;display: inline-block;line-height: 1.2em;}#sk-container-id-2 div.sk-label-container {text-align: center;}#sk-container-id-2 div.sk-container {/* jupyter's `normalize.less` sets `[hidden] { display: none; }` but bootstrap.min.css set `[hidden] { display: none !important; }` so we also need the `!important` here to be able to override the default hidden behavior on the sphinx rendered scikit-learn.org. See: https://github.com/scikit-learn/scikit-learn/issues/21755 */display: inline-block !important;position: relative;}#sk-container-id-2 div.sk-text-repr-fallback {display: none;}</style><div id=\"sk-container-id-2\" class=\"sk-top-container\"><div class=\"sk-text-repr-fallback\"><pre>XGBClassifier(base_score=None, booster=None, callbacks=None,\n",
       "              colsample_bylevel=None, colsample_bynode=None,\n",
       "              colsample_bytree=None, early_stopping_rounds=None,\n",
       "              enable_categorical=False, eval_metric=None, feature_types=None,\n",
       "              gamma=None, gpu_id=None, grow_policy=None, importance_type=None,\n",
       "              interaction_constraints=None, learning_rate=None, max_bin=None,\n",
       "              max_cat_threshold=None, max_cat_to_onehot=None,\n",
       "              max_delta_step=None, max_depth=None, max_leaves=None,\n",
       "              min_child_weight=None, missing=nan, monotone_constraints=None,\n",
       "              n_estimators=100, n_jobs=None, num_parallel_tree=None,\n",
       "              predictor=None, random_state=None, ...)</pre><b>In a Jupyter environment, please rerun this cell to show the HTML representation or trust the notebook. <br />On GitHub, the HTML representation is unable to render, please try loading this page with nbviewer.org.</b></div><div class=\"sk-container\" hidden><div class=\"sk-item\"><div class=\"sk-estimator sk-toggleable\"><input class=\"sk-toggleable__control sk-hidden--visually\" id=\"sk-estimator-id-2\" type=\"checkbox\" checked><label for=\"sk-estimator-id-2\" class=\"sk-toggleable__label sk-toggleable__label-arrow\">XGBClassifier</label><div class=\"sk-toggleable__content\"><pre>XGBClassifier(base_score=None, booster=None, callbacks=None,\n",
       "              colsample_bylevel=None, colsample_bynode=None,\n",
       "              colsample_bytree=None, early_stopping_rounds=None,\n",
       "              enable_categorical=False, eval_metric=None, feature_types=None,\n",
       "              gamma=None, gpu_id=None, grow_policy=None, importance_type=None,\n",
       "              interaction_constraints=None, learning_rate=None, max_bin=None,\n",
       "              max_cat_threshold=None, max_cat_to_onehot=None,\n",
       "              max_delta_step=None, max_depth=None, max_leaves=None,\n",
       "              min_child_weight=None, missing=nan, monotone_constraints=None,\n",
       "              n_estimators=100, n_jobs=None, num_parallel_tree=None,\n",
       "              predictor=None, random_state=None, ...)</pre></div></div></div></div></div>"
      ],
      "text/plain": [
       "XGBClassifier(base_score=None, booster=None, callbacks=None,\n",
       "              colsample_bylevel=None, colsample_bynode=None,\n",
       "              colsample_bytree=None, early_stopping_rounds=None,\n",
       "              enable_categorical=False, eval_metric=None, feature_types=None,\n",
       "              gamma=None, gpu_id=None, grow_policy=None, importance_type=None,\n",
       "              interaction_constraints=None, learning_rate=None, max_bin=None,\n",
       "              max_cat_threshold=None, max_cat_to_onehot=None,\n",
       "              max_delta_step=None, max_depth=None, max_leaves=None,\n",
       "              min_child_weight=None, missing=nan, monotone_constraints=None,\n",
       "              n_estimators=100, n_jobs=None, num_parallel_tree=None,\n",
       "              predictor=None, random_state=None, ...)"
      ]
     },
     "execution_count": 47,
     "metadata": {},
     "output_type": "execute_result"
    }
   ],
   "source": [
    "from xgboost import XGBClassifier\n",
    "from sklearn import metrics\n",
    "# Creating model object\n",
    "model_xgb = XGBClassifier()\n",
    "model_xgb.fit(X_train, y_train)"
   ]
  },
  {
   "cell_type": "code",
   "execution_count": 48,
   "id": "7db909a7-c64f-45f9-afb2-f946dbb9156c",
   "metadata": {
    "tags": []
   },
   "outputs": [
    {
     "name": "stdout",
     "output_type": "stream",
     "text": [
      "model_xgb Train Score is :  1.0\n",
      "model_xgb Test Score is :  0.8830769230769231\n"
     ]
    }
   ],
   "source": [
    "print('model_xgb Train Score is : ' , model_xgb.score(X_train, y_train))\n",
    "print('model_xgb Test Score is : ' , model_xgb.score(X_test, y_test))"
   ]
  },
  {
   "cell_type": "code",
   "execution_count": 49,
   "id": "675740be-1bab-460b-9cb9-e7c9446c2f15",
   "metadata": {
    "tags": []
   },
   "outputs": [
    {
     "data": {
      "text/plain": [
       "array([0, 0, 0, 0, 0, 0, 0, 0, 0, 0])"
      ]
     },
     "execution_count": 49,
     "metadata": {},
     "output_type": "execute_result"
    }
   ],
   "source": [
    "# Predicting the Test set results\n",
    "y_pred1 = model_xgb.predict(X_test)\n",
    "y_pred1[:10]"
   ]
  },
  {
   "cell_type": "code",
   "execution_count": 51,
   "id": "1545d15d-955d-498e-8804-d81ea95b20f2",
   "metadata": {
    "tags": []
   },
   "outputs": [
    {
     "data": {
      "text/plain": [
       "array([[556,  13],\n",
       "       [ 63,  18]], dtype=int64)"
      ]
     },
     "execution_count": 51,
     "metadata": {},
     "output_type": "execute_result"
    }
   ],
   "source": [
    "from sklearn.metrics import confusion_matrix,classification_report,ConfusionMatrixDisplay #for model evaluation\n",
    "confusion_matrix2=confusion_matrix(y_test,y_pred1)\n",
    "confusion_matrix2"
   ]
  },
  {
   "cell_type": "code",
   "execution_count": 52,
   "id": "0e23040a-3df3-4a7a-bf0d-c048a093f597",
   "metadata": {
    "tags": []
   },
   "outputs": [],
   "source": [
    "from sklearn.metrics import ConfusionMatrixDisplay\n",
    "# Confusion Matrix\n",
    "from sklearn.metrics import confusion_matrix\n",
    "cm2 = confusion_matrix(y_test, y_pred1)"
   ]
  },
  {
   "cell_type": "code",
   "execution_count": 53,
   "id": "f68ff630-f114-4ed2-a14a-33d47789867e",
   "metadata": {
    "tags": []
   },
   "outputs": [
    {
     "data": {
      "image/png": "[encoded data removed]",
      "text/plain": [
       "<Figure size 640x480 with 2 Axes>"
      ]
     },
     "metadata": {},
     "output_type": "display_data"
    }
   ],
   "source": [
    "from sklearn.metrics import confusion_matrix, ConfusionMatrixDisplay\n",
    "disp = ConfusionMatrixDisplay(confusion_matrix=cm2,display_labels=model_xgb.classes_)\n",
    "disp.plot()\n",
    "plt.show()"
   ]
  },
  {
   "cell_type": "code",
   "execution_count": 54,
   "id": "2742f519-6ee6-4a03-859c-806b2affaaa6",
   "metadata": {
    "tags": []
   },
   "outputs": [],
   "source": [
    "# mean_absolute_error\n",
    "from sklearn.metrics import mean_absolute_error\n",
    "meanabs =mean_absolute_error(y_test, y_pred1)\n",
    "# mean_squared_error\n",
    "from sklearn.metrics import mean_squared_error\n",
    "meansq =mean_squared_error(y_test, y_pred1)\n",
    "# median_absolute_error\n",
    "from sklearn.metrics import median_absolute_error\n",
    "medianab =median_absolute_error(y_test, y_pred1)"
   ]
  },
  {
   "cell_type": "code",
   "execution_count": 55,
   "id": "b873b707-4d60-4a29-921f-5ebb7533fb8d",
   "metadata": {
    "tags": []
   },
   "outputs": [
    {
     "name": "stdout",
     "output_type": "stream",
     "text": [
      "The mean_absolute_error 0.11692307692307692\n",
      "The mean_Squre_error 0.11692307692307692\n",
      "The Medain_absolute_error 0.0\n"
     ]
    }
   ],
   "source": [
    "print(\"The mean_absolute_error\",meanabs)\n",
    "print(\"The mean_Squre_error\",meansq)\n",
    "print(\"The Medain_absolute_error\",medianab)"
   ]
  },
  {
   "cell_type": "code",
   "execution_count": 56,
   "id": "7a057c6c-0351-4d13-a9bb-5ffe20f315e6",
   "metadata": {
    "tags": []
   },
   "outputs": [
    {
     "name": "stdout",
     "output_type": "stream",
     "text": [
      "Sensitivity :  0.8982229402261712\n",
      "Specificity :  0.5806451612903226\n"
     ]
    }
   ],
   "source": [
    "total=sum(sum(confusion_matrix2))\n",
    "\n",
    "sensitivity = confusion_matrix2[0,0]/(confusion_matrix2[0,0]+confusion_matrix2[1,0])\n",
    "print('Sensitivity : ', sensitivity )\n",
    "\n",
    "specificity = confusion_matrix2[1,1]/(confusion_matrix2[1,1]+confusion_matrix2[0,1])\n",
    "print('Specificity : ', specificity)"
   ]
  },
  {
   "cell_type": "code",
   "execution_count": 57,
   "id": "629bc488-b76c-4e07-97d3-32c832754cfd",
   "metadata": {
    "tags": []
   },
   "outputs": [
    {
     "name": "stdout",
     "output_type": "stream",
     "text": [
      "ppv :  0.9771528998242531\n",
      "npv :  0.2222222222222222\n"
     ]
    }
   ],
   "source": [
    "total=sum(sum(confusion_matrix2))\n",
    "\n",
    "ppv = confusion_matrix2[0,0]/(confusion_matrix2[0,0]+confusion_matrix2[0,1])\n",
    "print('ppv : ', ppv )\n",
    "\n",
    "npv = confusion_matrix2[1,1]/(confusion_matrix2[1,0]+confusion_matrix2[1,1])\n",
    "print('npv : ', npv)"
   ]
  },
  {
   "cell_type": "code",
   "execution_count": 58,
   "id": "b9739fc0-1e46-46b6-8185-370a0ff35de6",
   "metadata": {
    "tags": []
   },
   "outputs": [
    {
     "data": {
      "image/png": "[encoded data removed]",
      "text/plain": [
       "<Figure size 800x600 with 1 Axes>"
      ]
     },
     "metadata": {},
     "output_type": "display_data"
    }
   ],
   "source": [
    "from sklearn.metrics import roc_curve, auc #for model evaluation\n",
    "from matplotlib import pyplot\n",
    "fig, (ax2) = plt.subplots(figsize = (8,6))\n",
    "        #roc-curve\n",
    "fpr, tpr, thresholds_roc = roc_curve(y_test,y_pred1)\n",
    "roc_auc = auc(fpr,tpr)\n",
    "ax2.plot(fpr,tpr, label = \" AUROC = {:0.2f}\".format(roc_auc))\n",
    "ax2.plot([0,1], [0,1], 'r', linestyle = \"--\", lw = 2)\n",
    "ax2.set_xlabel(\"False Positive Rate\", fontsize = 14)\n",
    "ax2.set_ylabel(\"True Positive Rate\", fontsize = 14)\n",
    "ax2.set_title(\"ROC Curve\", fontsize = 18)\n",
    "ax2.legend(loc = 'best')\n",
    "plt.title('ROC curve for XGBClassifier ')\n",
    "plt.xlabel('False Positive Rate (1 - Specificity)')\n",
    "plt.ylabel('True Positive Rate (Sensitivity)')\n",
    "        #find default threshold\n",
    "close_default = np.argmin(np.abs(thresholds_roc - 0.5))\n",
    "ax2.plot(fpr[close_default], tpr[close_default], 'o', markersize = 8)\n",
    "plt.tight_layout()"
   ]
  },
  {
   "cell_type": "code",
   "execution_count": null,
   "id": "fae97c34-0f8a-4d57-a422-56838fcb7d21",
   "metadata": {},
   "outputs": [],
   "source": []
  }
 ],
 "metadata": {
  "kernelspec": {
   "display_name": "tf384",
   "language": "python",
   "name": "tf384"
  },
  "language_info": {
   "codemirror_mode": {
    "name": "ipython",
    "version": 3
   },
   "file_extension": ".py",
   "mimetype": "text/x-python",
   "name": "python",
   "nbconvert_exporter": "python",
   "pygments_lexer": "ipython3",
   "version": "3.9.16"
  }
 },
 "nbformat": 4,
 "nbformat_minor": 5
}
