{
 "cells": [
  {
   "cell_type": "code",
   "execution_count": 1,
   "metadata": {
    "id": "QhC8WQ8S-u27",
    "tags": []
   },
   "outputs": [],
   "source": [
    "import pandas as pd\n",
    "from sklearn.model_selection import train_test_split\n",
    "from sklearn.preprocessing import MinMaxScaler\n",
    "from imblearn.over_sampling import RandomOverSampler\n",
    "from sklearn.ensemble import AdaBoostClassifier\n",
    "from sklearn import metrics\n",
    "import matplotlib.pyplot as plt\n",
    "from sklearn.metrics import classification_report\n",
    "import numpy as np\n",
    "import warnings\n",
    "from warnings import filterwarnings \n",
    "warnings.filterwarnings(\"ignore\", category=DeprecationWarning) \n",
    "filterwarnings('ignore')\n",
    "from sklearn.metrics import classification_report, accuracy_score, confusion_matrix, matthews_corrcoef, roc_curve, auc\n",
    "import seaborn as sns\n",
    "from sklearn.experimental import enable_iterative_imputer\n",
    "from sklearn.impute import SimpleImputer, IterativeImputer\n",
    "import pickle\n",
    "from sklearn.model_selection import GridSearchCV\n",
    "from sklearn.model_selection import RepeatedStratifiedKFold\n",
    "from sklearn.linear_model import LogisticRegression\n",
    "from sklearn.neighbors import KNeighborsClassifier\n",
    "from sklearn.naive_bayes import GaussianNB\n",
    "from sklearn.svm import SVC\n",
    "from sklearn.neural_network import MLPClassifier"
   ]
  },
  {
   "cell_type": "code",
   "execution_count": 2,
   "metadata": {
    "id": "5_Wto_qP-2IL",
    "tags": []
   },
   "outputs": [],
   "source": [
    "data = pd.read_csv('X_train_KNN_balanced.csv')"
   ]
  },
  {
   "cell_type": "code",
   "execution_count": 3,
   "metadata": {
    "colab": {
     "base_uri": "https://localhost:8080/",
     "height": 317
    },
    "id": "zNUIJRdG_IX5",
    "outputId": "489a657f-0e8f-498c-db7c-caa4f97ea448",
    "tags": []
   },
   "outputs": [
    {
     "data": {
      "text/html": [
       "<div>\n",
       "<style scoped>\n",
       "    .dataframe tbody tr th:only-of-type {\n",
       "        vertical-align: middle;\n",
       "    }\n",
       "\n",
       "    .dataframe tbody tr th {\n",
       "        vertical-align: top;\n",
       "    }\n",
       "\n",
       "    .dataframe thead th {\n",
       "        text-align: right;\n",
       "    }\n",
       "</style>\n",
       "<table border=\"1\" class=\"dataframe\">\n",
       "  <thead>\n",
       "    <tr style=\"text-align: right;\">\n",
       "      <th></th>\n",
       "      <th>In-hospital_death</th>\n",
       "      <th>Age</th>\n",
       "      <th>Gender</th>\n",
       "      <th>Height</th>\n",
       "      <th>Weight</th>\n",
       "      <th>CCU</th>\n",
       "      <th>CSRU</th>\n",
       "      <th>SICU</th>\n",
       "      <th>DiasABP_first</th>\n",
       "      <th>GCS_first</th>\n",
       "      <th>...</th>\n",
       "      <th>PaO2_last</th>\n",
       "      <th>Platelets_last</th>\n",
       "      <th>SysABP_last</th>\n",
       "      <th>WBC_last</th>\n",
       "      <th>Weight_last</th>\n",
       "      <th>pH_last</th>\n",
       "      <th>MechVentStartTime</th>\n",
       "      <th>MechVentDuration</th>\n",
       "      <th>MechVentLast8Hour</th>\n",
       "      <th>UrineOutputSum</th>\n",
       "    </tr>\n",
       "  </thead>\n",
       "  <tbody>\n",
       "    <tr>\n",
       "      <th>0</th>\n",
       "      <td>0</td>\n",
       "      <td>65</td>\n",
       "      <td>1.0</td>\n",
       "      <td>170.20</td>\n",
       "      <td>73.7</td>\n",
       "      <td>0</td>\n",
       "      <td>1</td>\n",
       "      <td>0</td>\n",
       "      <td>45.0</td>\n",
       "      <td>3.0</td>\n",
       "      <td>...</td>\n",
       "      <td>80.0</td>\n",
       "      <td>92.0</td>\n",
       "      <td>122.0</td>\n",
       "      <td>10.70</td>\n",
       "      <td>73.40</td>\n",
       "      <td>7.410</td>\n",
       "      <td>147.0</td>\n",
       "      <td>352.0</td>\n",
       "      <td>0.0</td>\n",
       "      <td>7.0</td>\n",
       "    </tr>\n",
       "    <tr>\n",
       "      <th>1</th>\n",
       "      <td>0</td>\n",
       "      <td>41</td>\n",
       "      <td>1.0</td>\n",
       "      <td>166.64</td>\n",
       "      <td>71.8</td>\n",
       "      <td>0</td>\n",
       "      <td>0</td>\n",
       "      <td>1</td>\n",
       "      <td>55.2</td>\n",
       "      <td>15.0</td>\n",
       "      <td>...</td>\n",
       "      <td>123.8</td>\n",
       "      <td>238.0</td>\n",
       "      <td>126.4</td>\n",
       "      <td>6.00</td>\n",
       "      <td>81.64</td>\n",
       "      <td>7.464</td>\n",
       "      <td>519.8</td>\n",
       "      <td>1661.0</td>\n",
       "      <td>0.4</td>\n",
       "      <td>10.6</td>\n",
       "    </tr>\n",
       "    <tr>\n",
       "      <th>2</th>\n",
       "      <td>1</td>\n",
       "      <td>67</td>\n",
       "      <td>1.0</td>\n",
       "      <td>182.90</td>\n",
       "      <td>65.0</td>\n",
       "      <td>0</td>\n",
       "      <td>0</td>\n",
       "      <td>1</td>\n",
       "      <td>53.0</td>\n",
       "      <td>3.0</td>\n",
       "      <td>...</td>\n",
       "      <td>125.0</td>\n",
       "      <td>27.0</td>\n",
       "      <td>96.0</td>\n",
       "      <td>14.30</td>\n",
       "      <td>81.64</td>\n",
       "      <td>7.380</td>\n",
       "      <td>463.0</td>\n",
       "      <td>2340.0</td>\n",
       "      <td>1.0</td>\n",
       "      <td>17.0</td>\n",
       "    </tr>\n",
       "    <tr>\n",
       "      <th>3</th>\n",
       "      <td>0</td>\n",
       "      <td>77</td>\n",
       "      <td>0.0</td>\n",
       "      <td>171.70</td>\n",
       "      <td>58.0</td>\n",
       "      <td>1</td>\n",
       "      <td>0</td>\n",
       "      <td>0</td>\n",
       "      <td>70.0</td>\n",
       "      <td>3.0</td>\n",
       "      <td>...</td>\n",
       "      <td>95.0</td>\n",
       "      <td>251.0</td>\n",
       "      <td>108.0</td>\n",
       "      <td>8.60</td>\n",
       "      <td>58.00</td>\n",
       "      <td>7.460</td>\n",
       "      <td>131.0</td>\n",
       "      <td>2378.0</td>\n",
       "      <td>1.0</td>\n",
       "      <td>14.0</td>\n",
       "    </tr>\n",
       "    <tr>\n",
       "      <th>4</th>\n",
       "      <td>0</td>\n",
       "      <td>59</td>\n",
       "      <td>1.0</td>\n",
       "      <td>177.80</td>\n",
       "      <td>127.3</td>\n",
       "      <td>0</td>\n",
       "      <td>1</td>\n",
       "      <td>0</td>\n",
       "      <td>66.0</td>\n",
       "      <td>11.0</td>\n",
       "      <td>...</td>\n",
       "      <td>73.0</td>\n",
       "      <td>142.0</td>\n",
       "      <td>138.0</td>\n",
       "      <td>8.72</td>\n",
       "      <td>127.30</td>\n",
       "      <td>7.430</td>\n",
       "      <td>118.0</td>\n",
       "      <td>1635.0</td>\n",
       "      <td>0.0</td>\n",
       "      <td>10.0</td>\n",
       "    </tr>\n",
       "  </tbody>\n",
       "</table>\n",
       "<p>5 rows × 89 columns</p>\n",
       "</div>"
      ],
      "text/plain": [
       "   In-hospital_death  Age  Gender  Height  Weight  CCU  CSRU  SICU  \\\n",
       "0                  0   65     1.0  170.20    73.7    0     1     0   \n",
       "1                  0   41     1.0  166.64    71.8    0     0     1   \n",
       "2                  1   67     1.0  182.90    65.0    0     0     1   \n",
       "3                  0   77     0.0  171.70    58.0    1     0     0   \n",
       "4                  0   59     1.0  177.80   127.3    0     1     0   \n",
       "\n",
       "   DiasABP_first  GCS_first  ...  PaO2_last  Platelets_last  SysABP_last  \\\n",
       "0           45.0        3.0  ...       80.0            92.0        122.0   \n",
       "1           55.2       15.0  ...      123.8           238.0        126.4   \n",
       "2           53.0        3.0  ...      125.0            27.0         96.0   \n",
       "3           70.0        3.0  ...       95.0           251.0        108.0   \n",
       "4           66.0       11.0  ...       73.0           142.0        138.0   \n",
       "\n",
       "   WBC_last  Weight_last  pH_last  MechVentStartTime  MechVentDuration  \\\n",
       "0     10.70        73.40    7.410              147.0             352.0   \n",
       "1      6.00        81.64    7.464              519.8            1661.0   \n",
       "2     14.30        81.64    7.380              463.0            2340.0   \n",
       "3      8.60        58.00    7.460              131.0            2378.0   \n",
       "4      8.72       127.30    7.430              118.0            1635.0   \n",
       "\n",
       "   MechVentLast8Hour  UrineOutputSum  \n",
       "0                0.0             7.0  \n",
       "1                0.4            10.6  \n",
       "2                1.0            17.0  \n",
       "3                1.0            14.0  \n",
       "4                0.0            10.0  \n",
       "\n",
       "[5 rows x 89 columns]"
      ]
     },
     "execution_count": 3,
     "metadata": {},
     "output_type": "execute_result"
    }
   ],
   "source": [
    "data.head()"
   ]
  },
  {
   "cell_type": "code",
   "execution_count": 4,
   "metadata": {
    "id": "B4rz0yDfAGbf",
    "tags": []
   },
   "outputs": [
    {
     "data": {
      "text/plain": [
       "0    2239\n",
       "1     361\n",
       "Name: In-hospital_death, dtype: int64"
      ]
     },
     "execution_count": 4,
     "metadata": {},
     "output_type": "execute_result"
    }
   ],
   "source": [
    "X = data.drop('In-hospital_death', axis=1)\n",
    "y = data['In-hospital_death']\n",
    "y.value_counts()"
   ]
  },
  {
   "cell_type": "code",
   "execution_count": 5,
   "metadata": {
    "tags": []
   },
   "outputs": [],
   "source": [
    "data_test = pd.read_csv('X_test_KNN_balanced.csv')\n",
    "y_test = pd.read_csv('y_test.csv')\n"
   ]
  },
  {
   "cell_type": "code",
   "execution_count": 6,
   "metadata": {
    "id": "Phx6AWvpAZov",
    "tags": []
   },
   "outputs": [
    {
     "data": {
      "text/plain": [
       "1    2239\n",
       "0    2239\n",
       "Name: In-hospital_death, dtype: int64"
      ]
     },
     "execution_count": 6,
     "metadata": {},
     "output_type": "execute_result"
    }
   ],
   "source": [
    "tl = RandomOverSampler(sampling_strategy='auto')\n",
    "X_train, y_train = tl.fit_resample(X, y)\n",
    "#X_train, y_train = X, y\n",
    "y_train.value_counts()"
   ]
  },
  {
   "cell_type": "code",
   "execution_count": 7,
   "metadata": {
    "id": "dKwA0rJKAfa_",
    "tags": []
   },
   "outputs": [],
   "source": [
    "minmax_scale = MinMaxScaler()\n",
    "X_train = minmax_scale.fit_transform(X_train)\n",
    "pickle.dump(minmax_scale, open('minmax_scale.pkl', 'wb'))"
   ]
  },
  {
   "cell_type": "code",
   "execution_count": 8,
   "metadata": {},
   "outputs": [],
   "source": [
    "minmax_scale = pickle.load(open('minmax_scale.pkl', 'rb'))\n",
    "X_test = minmax_scale.transform(data_test)"
   ]
  },
  {
   "cell_type": "code",
   "execution_count": 9,
   "metadata": {},
   "outputs": [],
   "source": [
    "# grid = dict()\n",
    "# grid['n_estimators'] = [10, 50, 100]\n",
    "# grid['learning_rate'] = [0.0001, 0.001, 0.01, 0.1, 1.0, 2.0]\n",
    "# cv = RepeatedStratifiedKFold(n_splits=10, n_repeats=3, random_state=42)\n",
    "# adaboost = AdaBoostClassifier()\n",
    "# adaboost = GridSearchCV(estimator=adaboost, param_grid=grid, cv=cv, scoring='accuracy')\n",
    "# adaboost.fit(X_train, y_train)\n",
    "# pickle.dump(adaboost, open('adaboost.pkl', 'wb'))\n",
    "# adaboost.score(X_train, y_train), adaboost.score(X_test, y_test)"
   ]
  },
  {
   "cell_type": "code",
   "execution_count": 10,
   "metadata": {},
   "outputs": [],
   "source": [
    "#model = AdaBoostClassifier(n_estimators=130,learning_rate = 1, random_state=42)\n",
    "# model = KNeighborsClassifier(2)\n",
    "#model = GaussianNB()\n",
    "# model = SVC(kernel=\"linear\", C=1, probability=True)\n",
    "model =  MLPClassifier(solver='lbfgs', alpha=1e-5,hidden_layer_sizes=(5, 2), random_state=1)"
   ]
  },
  {
   "cell_type": "code",
   "execution_count": 11,
   "metadata": {},
   "outputs": [
    {
     "data": {
      "text/plain": [
       "(0.8142027690933452, 0.7953846153846154)"
      ]
     },
     "execution_count": 11,
     "metadata": {},
     "output_type": "execute_result"
    }
   ],
   "source": [
    "\n",
    "model.fit(X_train, y_train)\n",
    "pickle.dump(model, open('adaboost.pkl', 'wb'))\n",
    "model.score(X_train, y_train), model.score(X_test, y_test)"
   ]
  },
  {
   "cell_type": "code",
   "execution_count": 12,
   "metadata": {
    "colab": {
     "base_uri": "https://localhost:8080/"
    },
    "id": "mOHRhpeNA5UB",
    "outputId": "d5003bd3-e1aa-468b-c0a6-39be9521ef9b"
   },
   "outputs": [
    {
     "name": "stdout",
     "output_type": "stream",
     "text": [
      "              precision    recall  f1-score   support\n",
      "\n",
      "           0       0.95      0.81      0.87       560\n",
      "           1       0.37      0.71      0.49        90\n",
      "\n",
      "    accuracy                           0.80       650\n",
      "   macro avg       0.66      0.76      0.68       650\n",
      "weighted avg       0.87      0.80      0.82       650\n",
      "\n"
     ]
    }
   ],
   "source": [
    "print(classification_report(y_test, model.predict(X_test)))"
   ]
  },
  {
   "cell_type": "code",
   "execution_count": 13,
   "metadata": {
    "colab": {
     "base_uri": "https://localhost:8080/",
     "height": 449
    },
    "id": "CTTOlo-vAwyO",
    "outputId": "5f1487d2-241c-462c-dd15-4c8aaefd6055"
   },
   "outputs": [
    {
     "data": {
      "image/png": "[encoded data removed]",
      "text/plain": [
       "<Figure size 640x480 with 1 Axes>"
      ]
     },
     "metadata": {},
     "output_type": "display_data"
    }
   ],
   "source": [
    "fpr, tpr, thresholds = metrics.roc_curve(y_test, model.predict_proba(X_test)[:, 1])\n",
    "roc_auc = metrics.auc(fpr, tpr)\n",
    "display = metrics.RocCurveDisplay(fpr=fpr, tpr=tpr, roc_auc=roc_auc,estimator_name='example estimator')\n",
    "display.plot()\n",
    "plt.show()"
   ]
  },
  {
   "cell_type": "code",
   "execution_count": 14,
   "metadata": {
    "tags": []
   },
   "outputs": [],
   "source": [
    "model = pickle.load(open('adaboost.pkl', 'rb'))\n",
    "#pred = model.predict(X_test)\n",
    "pred = model.predict_proba(X_test)"
   ]
  },
  {
   "cell_type": "code",
   "execution_count": 15,
   "metadata": {
    "tags": []
   },
   "outputs": [
    {
     "name": "stdout",
     "output_type": "stream",
     "text": [
      "              precision    recall  f1-score   support\n",
      "\n",
      "           0       0.95      0.81      0.87       560\n",
      "           1       0.37      0.71      0.49        90\n",
      "\n",
      "    accuracy                           0.80       650\n",
      "   macro avg       0.66      0.76      0.68       650\n",
      "weighted avg       0.87      0.80      0.82       650\n",
      "\n"
     ]
    },
    {
     "data": {
      "text/plain": [
       "array([[453, 107],\n",
       "       [ 26,  64]], dtype=int64)"
      ]
     },
     "execution_count": 15,
     "metadata": {},
     "output_type": "execute_result"
    }
   ],
   "source": [
    "pred = model.predict_proba(X_test)\n",
    "pred = (pred[:, 1] > 0.498).astype(int)\n",
    "print(classification_report(y_test, pred))\n",
    "\n",
    "con = confusion_matrix(y_test, pred)\n",
    "con = confusion_matrix(y_test, pred)\n",
    "\n",
    "con"
   ]
  },
  {
   "cell_type": "code",
   "execution_count": 16,
   "metadata": {
    "tags": []
   },
   "outputs": [
    {
     "data": {
      "text/plain": [
       "Text(70.72222222222221, 0.5, 'Actual')"
      ]
     },
     "execution_count": 16,
     "metadata": {},
     "output_type": "execute_result"
    },
    {
     "data": {
      "image/png": "[encoded data removed]",
      "text/plain": [
       "<Figure size 800x500 with 2 Axes>"
      ]
     },
     "metadata": {},
     "output_type": "display_data"
    }
   ],
   "source": [
    "plt.figure(figsize=(8,5))\n",
    "sns.heatmap(con, annot=True, cmap='viridis', fmt='.0f');\n",
    "plt.xlabel('Predicted', fontsize=14, weight='bold')\n",
    "plt.ylabel('Actual', fontsize=14, weight='bold')"
   ]
  },
  {
   "cell_type": "code",
   "execution_count": 17,
   "metadata": {
    "id": "RawQP3WNA06-",
    "tags": []
   },
   "outputs": [],
   "source": [
    "import json\n",
    "\n",
    "ada_prob = model.predict_proba(X_test)[:,1]\n",
    "\n",
    "# Data to be written\n",
    "dictionary = {'predict_probas':list(ada_prob), 'threshold':0.5}\n",
    "# Serializing json\n",
    "json_object = json.dumps(dictionary, indent=2)\n",
    "# Writing to sample.json\n",
    "with open(\"predictions.json\", \"w\") as outfile:\n",
    "    outfile.write(json_object)"
   ]
  },
  {
   "cell_type": "code",
   "execution_count": 18,
   "metadata": {},
   "outputs": [],
   "source": [
    "confusion_matrix=confusion_matrix(y_test,pred)"
   ]
  },
  {
   "cell_type": "code",
   "execution_count": 19,
   "metadata": {
    "tags": []
   },
   "outputs": [
    {
     "name": "stdout",
     "output_type": "stream",
     "text": [
      "accuracy 0.7953846153846154\n",
      "Sensitivity :  0.9457202505219207\n",
      "Specificity :  0.3742690058479532\n",
      "auc 0.7600198412698413\n",
      "mcc 0.4079302774969006\n"
     ]
    }
   ],
   "source": [
    "\n",
    "\n",
    "sensitivity = confusion_matrix[0,0]/(confusion_matrix[0,0]+confusion_matrix[1,0])\n",
    "\n",
    "\n",
    "specificity = confusion_matrix[1,1]/(confusion_matrix[1,1]+confusion_matrix[0,1])\n",
    "\n",
    "\n",
    "fpr, tpr, thresholds_roc = roc_curve(y_test,pred)\n",
    "roc_auc = auc(fpr,tpr)\n",
    "\n",
    "\n",
    "\n",
    "ppv = confusion_matrix[0,0]/(confusion_matrix[0,0]+confusion_matrix[0,1])\n",
    "#print('ppv : ', ppv )\n",
    "\n",
    "npv = confusion_matrix[1,1]/(confusion_matrix[1,0]+confusion_matrix[1,1])\n",
    "#print('npv : ', npv)\n",
    "print('accuracy',model.score(X_test, y_test))\n",
    "print('Sensitivity : ', sensitivity )\n",
    "print('Specificity : ', specificity)\n",
    "print('auc',roc_auc)\n",
    "print('mcc', matthews_corrcoef(y_test, pred))"
   ]
  },
  {
   "cell_type": "code",
   "execution_count": 20,
   "metadata": {
    "tags": []
   },
   "outputs": [
    {
     "name": "stdout",
     "output_type": "stream",
     "text": [
      "auc 0.7600198412698413\n",
      "mcc 0.4079302774969006\n"
     ]
    },
    {
     "data": {
      "image/png": "[encoded data removed]",
      "text/plain": [
       "<Figure size 800x600 with 1 Axes>"
      ]
     },
     "metadata": {},
     "output_type": "display_data"
    }
   ],
   "source": [
    "\n",
    "from matplotlib import pyplot\n",
    "fig, (ax2) = plt.subplots(figsize = (8,6))\n",
    "        #roc-curve\n",
    "fpr, tpr, thresholds_roc = roc_curve(y_test,pred)\n",
    "roc_auc = auc(fpr,tpr)\n",
    "print('auc',roc_auc)\n",
    "print('mcc', matthews_corrcoef(y_test, pred))\n",
    "ax2.plot(fpr,tpr, label = \" AUROC = {:0.2f}\".format(roc_auc))\n",
    "ax2.plot([0,1], [0,1], 'r', linestyle = \"--\", lw = 2)\n",
    "ax2.set_xlabel(\"False Positive Rate\", fontsize = 14)\n",
    "ax2.set_ylabel(\"True Positive Rate\", fontsize = 14)\n",
    "ax2.set_title(\"ROC Curve\", fontsize = 18)\n",
    "ax2.legend(loc = 'best')\n",
    "plt.title('ROC curve for RandomForestClassifier')\n",
    "plt.xlabel('False Positive Rate (1 - Specificity)')\n",
    "plt.ylabel('True Positive Rate (Sensitivity)')\n",
    "        #find default threshold\n",
    "close_default = np.argmin(np.abs(thresholds_roc - 0.5))\n",
    "ax2.plot(fpr[close_default], tpr[close_default], 'o', markersize = 8)\n",
    "plt.tight_layout()"
   ]
  },
  {
   "cell_type": "code",
   "execution_count": null,
   "metadata": {},
   "outputs": [],
   "source": []
  },
  {
   "cell_type": "code",
   "execution_count": null,
   "metadata": {},
   "outputs": [],
   "source": []
  },
  {
   "cell_type": "code",
   "execution_count": null,
   "metadata": {},
   "outputs": [],
   "source": []
  }
 ],
 "metadata": {
  "colab": {
   "provenance": []
  },
  "kernelspec": {
   "display_name": "tf384",
   "language": "python",
   "name": "tf384"
  },
  "language_info": {
   "codemirror_mode": {
    "name": "ipython",
    "version": 3
   },
   "file_extension": ".py",
   "mimetype": "text/x-python",
   "name": "python",
   "nbconvert_exporter": "python",
   "pygments_lexer": "ipython3",
   "version": "3.9.16"
  }
 },
 "nbformat": 4,
 "nbformat_minor": 4
}
