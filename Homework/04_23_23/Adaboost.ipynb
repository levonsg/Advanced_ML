{
 "cells": [
  {
   "cell_type": "code",
   "execution_count": 1,
   "metadata": {
    "id": "QhC8WQ8S-u27",
    "tags": []
   },
   "outputs": [],
   "source": [
    "import pandas as pd\n",
    "from sklearn.model_selection import train_test_split\n",
    "from sklearn.preprocessing import MinMaxScaler\n",
    "from imblearn.over_sampling import RandomOverSampler\n",
    "from sklearn.ensemble import AdaBoostClassifier\n",
    "from sklearn import metrics\n",
    "import matplotlib.pyplot as plt\n",
    "from sklearn.metrics import classification_report\n",
    "import numpy as np\n",
    "import warnings\n",
    "from warnings import filterwarnings \n",
    "warnings.filterwarnings(\"ignore\", category=DeprecationWarning) \n",
    "filterwarnings('ignore')\n",
    "from sklearn.metrics import classification_report, accuracy_score, confusion_matrix\n",
    "import seaborn as sns\n",
    "from sklearn.experimental import enable_iterative_imputer\n",
    "from sklearn.impute import SimpleImputer, IterativeImputer\n",
    "import pickle"
   ]
  },
  {
   "cell_type": "code",
   "execution_count": 2,
   "metadata": {
    "id": "5_Wto_qP-2IL",
    "tags": []
   },
   "outputs": [],
   "source": [
    "data = pd.read_csv('hospital_deaths_train_08_rt42.csv')"
   ]
  },
  {
   "cell_type": "code",
   "execution_count": 3,
   "metadata": {
    "colab": {
     "base_uri": "https://localhost:8080/",
     "height": 317
    },
    "id": "zNUIJRdG_IX5",
    "outputId": "489a657f-0e8f-498c-db7c-caa4f97ea448",
    "tags": []
   },
   "outputs": [
    {
     "data": {
      "text/html": [
       "<div>\n",
       "<style scoped>\n",
       "    .dataframe tbody tr th:only-of-type {\n",
       "        vertical-align: middle;\n",
       "    }\n",
       "\n",
       "    .dataframe tbody tr th {\n",
       "        vertical-align: top;\n",
       "    }\n",
       "\n",
       "    .dataframe thead th {\n",
       "        text-align: right;\n",
       "    }\n",
       "</style>\n",
       "<table border=\"1\" class=\"dataframe\">\n",
       "  <thead>\n",
       "    <tr style=\"text-align: right;\">\n",
       "      <th></th>\n",
       "      <th>recordid</th>\n",
       "      <th>In-hospital_death</th>\n",
       "      <th>Age</th>\n",
       "      <th>Gender</th>\n",
       "      <th>Height</th>\n",
       "      <th>Weight</th>\n",
       "      <th>CCU</th>\n",
       "      <th>CSRU</th>\n",
       "      <th>SICU</th>\n",
       "      <th>DiasABP_first</th>\n",
       "      <th>...</th>\n",
       "      <th>SysABP_last</th>\n",
       "      <th>TroponinI_last</th>\n",
       "      <th>TroponinT_last</th>\n",
       "      <th>WBC_last</th>\n",
       "      <th>Weight_last</th>\n",
       "      <th>pH_last</th>\n",
       "      <th>MechVentStartTime</th>\n",
       "      <th>MechVentDuration</th>\n",
       "      <th>MechVentLast8Hour</th>\n",
       "      <th>UrineOutputSum</th>\n",
       "    </tr>\n",
       "  </thead>\n",
       "  <tbody>\n",
       "    <tr>\n",
       "      <th>0</th>\n",
       "      <td>136430</td>\n",
       "      <td>0</td>\n",
       "      <td>54.0</td>\n",
       "      <td>1.0</td>\n",
       "      <td>177.8</td>\n",
       "      <td>73.9</td>\n",
       "      <td>0</td>\n",
       "      <td>1</td>\n",
       "      <td>0</td>\n",
       "      <td>59.0</td>\n",
       "      <td>...</td>\n",
       "      <td>127.0</td>\n",
       "      <td>NaN</td>\n",
       "      <td>NaN</td>\n",
       "      <td>9.6</td>\n",
       "      <td>80.2</td>\n",
       "      <td>7.37</td>\n",
       "      <td>141.0</td>\n",
       "      <td>91.0</td>\n",
       "      <td>0.0</td>\n",
       "      <td>4.0</td>\n",
       "    </tr>\n",
       "    <tr>\n",
       "      <th>1</th>\n",
       "      <td>142453</td>\n",
       "      <td>0</td>\n",
       "      <td>62.0</td>\n",
       "      <td>1.0</td>\n",
       "      <td>NaN</td>\n",
       "      <td>100.9</td>\n",
       "      <td>0</td>\n",
       "      <td>0</td>\n",
       "      <td>0</td>\n",
       "      <td>48.0</td>\n",
       "      <td>...</td>\n",
       "      <td>139.0</td>\n",
       "      <td>NaN</td>\n",
       "      <td>NaN</td>\n",
       "      <td>9.1</td>\n",
       "      <td>100.9</td>\n",
       "      <td>7.42</td>\n",
       "      <td>136.0</td>\n",
       "      <td>2690.0</td>\n",
       "      <td>1.0</td>\n",
       "      <td>14.0</td>\n",
       "    </tr>\n",
       "    <tr>\n",
       "      <th>2</th>\n",
       "      <td>137911</td>\n",
       "      <td>0</td>\n",
       "      <td>47.0</td>\n",
       "      <td>1.0</td>\n",
       "      <td>152.4</td>\n",
       "      <td>83.9</td>\n",
       "      <td>0</td>\n",
       "      <td>0</td>\n",
       "      <td>1</td>\n",
       "      <td>50.0</td>\n",
       "      <td>...</td>\n",
       "      <td>96.0</td>\n",
       "      <td>NaN</td>\n",
       "      <td>NaN</td>\n",
       "      <td>5.0</td>\n",
       "      <td>NaN</td>\n",
       "      <td>7.45</td>\n",
       "      <td>18.0</td>\n",
       "      <td>2820.0</td>\n",
       "      <td>1.0</td>\n",
       "      <td>17.0</td>\n",
       "    </tr>\n",
       "    <tr>\n",
       "      <th>3</th>\n",
       "      <td>138179</td>\n",
       "      <td>0</td>\n",
       "      <td>68.0</td>\n",
       "      <td>1.0</td>\n",
       "      <td>177.8</td>\n",
       "      <td>198.0</td>\n",
       "      <td>0</td>\n",
       "      <td>0</td>\n",
       "      <td>0</td>\n",
       "      <td>NaN</td>\n",
       "      <td>...</td>\n",
       "      <td>NaN</td>\n",
       "      <td>NaN</td>\n",
       "      <td>NaN</td>\n",
       "      <td>14.4</td>\n",
       "      <td>198.0</td>\n",
       "      <td>7.32</td>\n",
       "      <td>109.0</td>\n",
       "      <td>2730.0</td>\n",
       "      <td>1.0</td>\n",
       "      <td>16.0</td>\n",
       "    </tr>\n",
       "    <tr>\n",
       "      <th>4</th>\n",
       "      <td>135358</td>\n",
       "      <td>0</td>\n",
       "      <td>78.0</td>\n",
       "      <td>1.0</td>\n",
       "      <td>NaN</td>\n",
       "      <td>99.5</td>\n",
       "      <td>0</td>\n",
       "      <td>0</td>\n",
       "      <td>1</td>\n",
       "      <td>NaN</td>\n",
       "      <td>...</td>\n",
       "      <td>NaN</td>\n",
       "      <td>NaN</td>\n",
       "      <td>NaN</td>\n",
       "      <td>8.2</td>\n",
       "      <td>99.5</td>\n",
       "      <td>NaN</td>\n",
       "      <td>NaN</td>\n",
       "      <td>NaN</td>\n",
       "      <td>NaN</td>\n",
       "      <td>NaN</td>\n",
       "    </tr>\n",
       "  </tbody>\n",
       "</table>\n",
       "<p>5 rows × 116 columns</p>\n",
       "</div>"
      ],
      "text/plain": [
       "   recordid  In-hospital_death   Age  Gender  Height  Weight  CCU  CSRU  SICU  \\\n",
       "0    136430                  0  54.0     1.0   177.8    73.9    0     1     0   \n",
       "1    142453                  0  62.0     1.0     NaN   100.9    0     0     0   \n",
       "2    137911                  0  47.0     1.0   152.4    83.9    0     0     1   \n",
       "3    138179                  0  68.0     1.0   177.8   198.0    0     0     0   \n",
       "4    135358                  0  78.0     1.0     NaN    99.5    0     0     1   \n",
       "\n",
       "   DiasABP_first  ...  SysABP_last  TroponinI_last  TroponinT_last  WBC_last  \\\n",
       "0           59.0  ...        127.0             NaN             NaN       9.6   \n",
       "1           48.0  ...        139.0             NaN             NaN       9.1   \n",
       "2           50.0  ...         96.0             NaN             NaN       5.0   \n",
       "3            NaN  ...          NaN             NaN             NaN      14.4   \n",
       "4            NaN  ...          NaN             NaN             NaN       8.2   \n",
       "\n",
       "   Weight_last  pH_last  MechVentStartTime  MechVentDuration  \\\n",
       "0         80.2     7.37              141.0              91.0   \n",
       "1        100.9     7.42              136.0            2690.0   \n",
       "2          NaN     7.45               18.0            2820.0   \n",
       "3        198.0     7.32              109.0            2730.0   \n",
       "4         99.5      NaN                NaN               NaN   \n",
       "\n",
       "   MechVentLast8Hour  UrineOutputSum  \n",
       "0                0.0             4.0  \n",
       "1                1.0            14.0  \n",
       "2                1.0            17.0  \n",
       "3                1.0            16.0  \n",
       "4                NaN             NaN  \n",
       "\n",
       "[5 rows x 116 columns]"
      ]
     },
     "execution_count": 3,
     "metadata": {},
     "output_type": "execute_result"
    }
   ],
   "source": [
    "data.head()"
   ]
  },
  {
   "cell_type": "code",
   "execution_count": 4,
   "metadata": {
    "id": "_Y4OviqQ_faQ",
    "tags": []
   },
   "outputs": [],
   "source": [
    "feature = ['In-hospital_death','Age', 'Gender', 'Height', 'CCU', 'CSRU', 'SICU', 'MAP_first',\n",
    "       'GCS_last', 'MAP_last', 'NIDiasABP_last', 'NIMAP_last',\n",
    "       'DiasABP_lowest', 'MAP_lowest', 'NISysABP_lowest', 'Temp_lowest',\n",
    "       'Glucose_highest', 'HR_highest', 'MAP_highest', 'MAP_median',\n",
    "       'FiO2_first', 'HCO3_first', 'HCT_first', 'K_first', 'Lactate_first',\n",
    "       'Mg_first', 'Na_first', 'PaCO2_first', 'PaO2_first', 'SysABP_first',\n",
    "       'WBC_first', 'pH_first', 'BUN_last', 'Creatinine_last', 'FiO2_last',\n",
    "       'HCO3_last', 'HCT_last', 'K_last', 'Lactate_last', 'Mg_last', 'Na_last',\n",
    "       'PaCO2_last', 'PaO2_last', 'Platelets_last', 'SysABP_last', 'WBC_last',\n",
    "       'Weight_last', 'pH_last', 'MechVentStartTime', 'MechVentDuration',\n",
    "       'MechVentLast8Hour', 'UrineOutputSum']"
   ]
  },
  {
   "cell_type": "code",
   "execution_count": 5,
   "metadata": {
    "id": "668TO_2v_hnY",
    "tags": []
   },
   "outputs": [],
   "source": [
    "data = data[feature]\n"
   ]
  },
  {
   "cell_type": "code",
   "execution_count": 6,
   "metadata": {
    "id": "Yoc5pD0AACxg",
    "tags": []
   },
   "outputs": [],
   "source": [
    "# missing_percentages1 = (data.isnull().sum() / len(data)) * 100\n",
    "# missing_percentages_sorted1 = missing_percentages1.sort_values(ascending=False)\n",
    "# having_NAN = missing_percentages_sorted1.index.to_list()"
   ]
  },
  {
   "cell_type": "code",
   "execution_count": 7,
   "metadata": {
    "id": "alzapJve_kCA",
    "tags": []
   },
   "outputs": [],
   "source": [
    "# for feature in having_NAN:\n",
    "#     data[feature]=data.groupby(['In-hospital_death', 'Gender'])[feature].apply(lambda x:x.fillna(x.mean()))"
   ]
  },
  {
   "cell_type": "code",
   "execution_count": 8,
   "metadata": {
    "tags": []
   },
   "outputs": [],
   "source": [
    "\n",
    "#imp = SimpleImputer(missing_values=np.nan, strategy='mean')\n",
    "#imp = IterativeImputer(max_iter=1000, random_state=42)"
   ]
  },
  {
   "cell_type": "code",
   "execution_count": 9,
   "metadata": {},
   "outputs": [],
   "source": [
    "from sklearn.base import BaseEstimator, TransformerMixin\n",
    "class WithinGroupMeanImputer(BaseEstimator, TransformerMixin):\n",
    "    def __init__(self, group_var):\n",
    "        if isinstance(group_var, str):\n",
    "            group_var = (group_var,)\n",
    "        self.group_var = group_var\n",
    "    def fit(self, X, y=None):\n",
    "        print(X.shape)\n",
    "        return self\n",
    "    def transform(self, X):\n",
    "        # the copy leaves the original dataframe intact\n",
    "        X_ = X.copy()\n",
    "        print(X.shape)\n",
    "        for col in X_.columns:\n",
    "            if X_[col].dtypes == 'float64':\n",
    "                X_= X_[X_['Gender'].notna()]\n",
    "                X_[col] = X_.groupby(list(self.group_var))[col].transform(lambda x: x.fillna(x.mean()))\n",
    "                \n",
    "                X_[col] = X_[col].fillna(X_[col].mean())\n",
    "        print(X.shape)\n",
    "        return X_\n",
    "imp = WithinGroupMeanImputer(group_var=('Gender', 'In-hospital_death'))\n"
   ]
  },
  {
   "cell_type": "code",
   "execution_count": 10,
   "metadata": {
    "tags": []
   },
   "outputs": [
    {
     "name": "stdout",
     "output_type": "stream",
     "text": [
      "(2600, 52)\n"
     ]
    },
    {
     "data": {
      "text/html": [
       "<style>#sk-container-id-1 {color: black;background-color: white;}#sk-container-id-1 pre{padding: 0;}#sk-container-id-1 div.sk-toggleable {background-color: white;}#sk-container-id-1 label.sk-toggleable__label {cursor: pointer;display: block;width: 100%;margin-bottom: 0;padding: 0.3em;box-sizing: border-box;text-align: center;}#sk-container-id-1 label.sk-toggleable__label-arrow:before {content: \"▸\";float: left;margin-right: 0.25em;color: #696969;}#sk-container-id-1 label.sk-toggleable__label-arrow:hover:before {color: black;}#sk-container-id-1 div.sk-estimator:hover label.sk-toggleable__label-arrow:before {color: black;}#sk-container-id-1 div.sk-toggleable__content {max-height: 0;max-width: 0;overflow: hidden;text-align: left;background-color: #f0f8ff;}#sk-container-id-1 div.sk-toggleable__content pre {margin: 0.2em;color: black;border-radius: 0.25em;background-color: #f0f8ff;}#sk-container-id-1 input.sk-toggleable__control:checked~div.sk-toggleable__content {max-height: 200px;max-width: 100%;overflow: auto;}#sk-container-id-1 input.sk-toggleable__control:checked~label.sk-toggleable__label-arrow:before {content: \"▾\";}#sk-container-id-1 div.sk-estimator input.sk-toggleable__control:checked~label.sk-toggleable__label {background-color: #d4ebff;}#sk-container-id-1 div.sk-label input.sk-toggleable__control:checked~label.sk-toggleable__label {background-color: #d4ebff;}#sk-container-id-1 input.sk-hidden--visually {border: 0;clip: rect(1px 1px 1px 1px);clip: rect(1px, 1px, 1px, 1px);height: 1px;margin: -1px;overflow: hidden;padding: 0;position: absolute;width: 1px;}#sk-container-id-1 div.sk-estimator {font-family: monospace;background-color: #f0f8ff;border: 1px dotted black;border-radius: 0.25em;box-sizing: border-box;margin-bottom: 0.5em;}#sk-container-id-1 div.sk-estimator:hover {background-color: #d4ebff;}#sk-container-id-1 div.sk-parallel-item::after {content: \"\";width: 100%;border-bottom: 1px solid gray;flex-grow: 1;}#sk-container-id-1 div.sk-label:hover label.sk-toggleable__label {background-color: #d4ebff;}#sk-container-id-1 div.sk-serial::before {content: \"\";position: absolute;border-left: 1px solid gray;box-sizing: border-box;top: 0;bottom: 0;left: 50%;z-index: 0;}#sk-container-id-1 div.sk-serial {display: flex;flex-direction: column;align-items: center;background-color: white;padding-right: 0.2em;padding-left: 0.2em;position: relative;}#sk-container-id-1 div.sk-item {position: relative;z-index: 1;}#sk-container-id-1 div.sk-parallel {display: flex;align-items: stretch;justify-content: center;background-color: white;position: relative;}#sk-container-id-1 div.sk-item::before, #sk-container-id-1 div.sk-parallel-item::before {content: \"\";position: absolute;border-left: 1px solid gray;box-sizing: border-box;top: 0;bottom: 0;left: 50%;z-index: -1;}#sk-container-id-1 div.sk-parallel-item {display: flex;flex-direction: column;z-index: 1;position: relative;background-color: white;}#sk-container-id-1 div.sk-parallel-item:first-child::after {align-self: flex-end;width: 50%;}#sk-container-id-1 div.sk-parallel-item:last-child::after {align-self: flex-start;width: 50%;}#sk-container-id-1 div.sk-parallel-item:only-child::after {width: 0;}#sk-container-id-1 div.sk-dashed-wrapped {border: 1px dashed gray;margin: 0 0.4em 0.5em 0.4em;box-sizing: border-box;padding-bottom: 0.4em;background-color: white;}#sk-container-id-1 div.sk-label label {font-family: monospace;font-weight: bold;display: inline-block;line-height: 1.2em;}#sk-container-id-1 div.sk-label-container {text-align: center;}#sk-container-id-1 div.sk-container {/* jupyter's `normalize.less` sets `[hidden] { display: none; }` but bootstrap.min.css set `[hidden] { display: none !important; }` so we also need the `!important` here to be able to override the default hidden behavior on the sphinx rendered scikit-learn.org. See: https://github.com/scikit-learn/scikit-learn/issues/21755 */display: inline-block !important;position: relative;}#sk-container-id-1 div.sk-text-repr-fallback {display: none;}</style><div id=\"sk-container-id-1\" class=\"sk-top-container\"><div class=\"sk-text-repr-fallback\"><pre>WithinGroupMeanImputer(group_var=(&#x27;Gender&#x27;, &#x27;In-hospital_death&#x27;))</pre><b>In a Jupyter environment, please rerun this cell to show the HTML representation or trust the notebook. <br />On GitHub, the HTML representation is unable to render, please try loading this page with nbviewer.org.</b></div><div class=\"sk-container\" hidden><div class=\"sk-item\"><div class=\"sk-estimator sk-toggleable\"><input class=\"sk-toggleable__control sk-hidden--visually\" id=\"sk-estimator-id-1\" type=\"checkbox\" checked><label for=\"sk-estimator-id-1\" class=\"sk-toggleable__label sk-toggleable__label-arrow\">WithinGroupMeanImputer</label><div class=\"sk-toggleable__content\"><pre>WithinGroupMeanImputer(group_var=(&#x27;Gender&#x27;, &#x27;In-hospital_death&#x27;))</pre></div></div></div></div></div>"
      ],
      "text/plain": [
       "WithinGroupMeanImputer(group_var=('Gender', 'In-hospital_death'))"
      ]
     },
     "execution_count": 10,
     "metadata": {},
     "output_type": "execute_result"
    }
   ],
   "source": [
    "imp.fit(data)"
   ]
  },
  {
   "cell_type": "code",
   "execution_count": 11,
   "metadata": {
    "tags": []
   },
   "outputs": [
    {
     "data": {
      "text/plain": [
       "In-hospital_death       0\n",
       "Age                     0\n",
       "Gender                  1\n",
       "Height               1211\n",
       "CCU                     0\n",
       "CSRU                    0\n",
       "SICU                    0\n",
       "MAP_first             800\n",
       "GCS_last               41\n",
       "MAP_last              800\n",
       "NIDiasABP_last        335\n",
       "NIMAP_last            335\n",
       "DiasABP_lowest        808\n",
       "MAP_lowest            800\n",
       "NISysABP_lowest       335\n",
       "Temp_lowest            41\n",
       "Glucose_highest        72\n",
       "HR_highest             40\n",
       "MAP_highest           800\n",
       "MAP_median            800\n",
       "FiO2_first            840\n",
       "HCO3_first             45\n",
       "HCT_first              36\n",
       "K_first                57\n",
       "Lactate_first        1187\n",
       "Mg_first               63\n",
       "Na_first               44\n",
       "PaCO2_first           640\n",
       "PaO2_first            640\n",
       "SysABP_first          807\n",
       "WBC_first              56\n",
       "pH_first              630\n",
       "BUN_last               36\n",
       "Creatinine_last        36\n",
       "FiO2_last             840\n",
       "HCO3_last              45\n",
       "HCT_last               36\n",
       "K_last                 57\n",
       "Lactate_last         1187\n",
       "Mg_last                63\n",
       "Na_last                44\n",
       "PaCO2_last            640\n",
       "PaO2_last             640\n",
       "Platelets_last         39\n",
       "SysABP_last           807\n",
       "WBC_last               56\n",
       "Weight_last           817\n",
       "pH_last               630\n",
       "MechVentStartTime     964\n",
       "MechVentDuration      964\n",
       "MechVentLast8Hour     964\n",
       "UrineOutputSum        964\n",
       "dtype: int64"
      ]
     },
     "execution_count": 11,
     "metadata": {},
     "output_type": "execute_result"
    }
   ],
   "source": [
    "data.isnull().sum()"
   ]
  },
  {
   "cell_type": "code",
   "execution_count": 12,
   "metadata": {
    "tags": []
   },
   "outputs": [
    {
     "name": "stdout",
     "output_type": "stream",
     "text": [
      "(2600, 52)\n",
      "(2600, 52)\n"
     ]
    }
   ],
   "source": [
    "#data= pd.DataFrame(imp.transform(data), columns=feature)\n",
    "\n",
    "data = imp.transform(data)\n",
    "pickle.dump(imp, open('imp.pkl', 'wb'))"
   ]
  },
  {
   "cell_type": "code",
   "execution_count": 13,
   "metadata": {
    "tags": []
   },
   "outputs": [
    {
     "data": {
      "text/plain": [
       "In-hospital_death    0\n",
       "Age                  0\n",
       "Gender               0\n",
       "Height               0\n",
       "CCU                  0\n",
       "CSRU                 0\n",
       "SICU                 0\n",
       "MAP_first            0\n",
       "GCS_last             0\n",
       "MAP_last             0\n",
       "NIDiasABP_last       0\n",
       "NIMAP_last           0\n",
       "DiasABP_lowest       0\n",
       "MAP_lowest           0\n",
       "NISysABP_lowest      0\n",
       "Temp_lowest          0\n",
       "Glucose_highest      0\n",
       "HR_highest           0\n",
       "MAP_highest          0\n",
       "MAP_median           0\n",
       "FiO2_first           0\n",
       "HCO3_first           0\n",
       "HCT_first            0\n",
       "K_first              0\n",
       "Lactate_first        0\n",
       "Mg_first             0\n",
       "Na_first             0\n",
       "PaCO2_first          0\n",
       "PaO2_first           0\n",
       "SysABP_first         0\n",
       "WBC_first            0\n",
       "pH_first             0\n",
       "BUN_last             0\n",
       "Creatinine_last      0\n",
       "FiO2_last            0\n",
       "HCO3_last            0\n",
       "HCT_last             0\n",
       "K_last               0\n",
       "Lactate_last         0\n",
       "Mg_last              0\n",
       "Na_last              0\n",
       "PaCO2_last           0\n",
       "PaO2_last            0\n",
       "Platelets_last       0\n",
       "SysABP_last          0\n",
       "WBC_last             0\n",
       "Weight_last          0\n",
       "pH_last              0\n",
       "MechVentStartTime    0\n",
       "MechVentDuration     0\n",
       "MechVentLast8Hour    0\n",
       "UrineOutputSum       0\n",
       "dtype: int64"
      ]
     },
     "execution_count": 13,
     "metadata": {},
     "output_type": "execute_result"
    }
   ],
   "source": [
    "data.isnull().sum()"
   ]
  },
  {
   "cell_type": "code",
   "execution_count": 14,
   "metadata": {
    "tags": []
   },
   "outputs": [
    {
     "data": {
      "text/plain": [
       "(2599, 52)"
      ]
     },
     "execution_count": 14,
     "metadata": {},
     "output_type": "execute_result"
    }
   ],
   "source": [
    "data.shape"
   ]
  },
  {
   "cell_type": "code",
   "execution_count": 15,
   "metadata": {
    "id": "B4rz0yDfAGbf",
    "tags": []
   },
   "outputs": [],
   "source": [
    "X = data.drop('In-hospital_death', axis=1)\n",
    "y = data['In-hospital_death']"
   ]
  },
  {
   "cell_type": "code",
   "execution_count": 16,
   "metadata": {
    "tags": []
   },
   "outputs": [
    {
     "name": "stdout",
     "output_type": "stream",
     "text": [
      "(650, 52)\n",
      "(650, 52)\n"
     ]
    },
    {
     "data": {
      "text/plain": [
       "In-hospital_death    0\n",
       "Age                  0\n",
       "Gender               0\n",
       "Height               0\n",
       "CCU                  0\n",
       "CSRU                 0\n",
       "SICU                 0\n",
       "MAP_first            0\n",
       "GCS_last             0\n",
       "MAP_last             0\n",
       "NIDiasABP_last       0\n",
       "NIMAP_last           0\n",
       "DiasABP_lowest       0\n",
       "MAP_lowest           0\n",
       "NISysABP_lowest      0\n",
       "Temp_lowest          0\n",
       "Glucose_highest      0\n",
       "HR_highest           0\n",
       "MAP_highest          0\n",
       "MAP_median           0\n",
       "FiO2_first           0\n",
       "HCO3_first           0\n",
       "HCT_first            0\n",
       "K_first              0\n",
       "Lactate_first        0\n",
       "Mg_first             0\n",
       "Na_first             0\n",
       "PaCO2_first          0\n",
       "PaO2_first           0\n",
       "SysABP_first         0\n",
       "WBC_first            0\n",
       "pH_first             0\n",
       "BUN_last             0\n",
       "Creatinine_last      0\n",
       "FiO2_last            0\n",
       "HCO3_last            0\n",
       "HCT_last             0\n",
       "K_last               0\n",
       "Lactate_last         0\n",
       "Mg_last              0\n",
       "Na_last              0\n",
       "PaCO2_last           0\n",
       "PaO2_last            0\n",
       "Platelets_last       0\n",
       "SysABP_last          0\n",
       "WBC_last             0\n",
       "Weight_last          0\n",
       "pH_last              0\n",
       "MechVentStartTime    0\n",
       "MechVentDuration     0\n",
       "MechVentLast8Hour    0\n",
       "UrineOutputSum       0\n",
       "dtype: int64"
      ]
     },
     "execution_count": 16,
     "metadata": {},
     "output_type": "execute_result"
    }
   ],
   "source": [
    "data_test = pd.read_csv('hospital_deaths_test_02_rt42.csv')\n",
    "data_test = data_test[feature]\n",
    "imp_test = pickle.load(open('imp.pkl', 'rb'))\n",
    "#data_test= pd.DataFrame(imp.transform(data_test), columns=feature)\n",
    "data_test =imp_test.transform(data_test)\n",
    "data_test.isnull().sum()"
   ]
  },
  {
   "cell_type": "code",
   "execution_count": 17,
   "metadata": {
    "tags": []
   },
   "outputs": [],
   "source": [
    "X_test = data_test.drop('In-hospital_death', axis=1)\n",
    "y_test = data_test['In-hospital_death']"
   ]
  },
  {
   "cell_type": "code",
   "execution_count": 18,
   "metadata": {
    "id": "Phx6AWvpAZov",
    "tags": []
   },
   "outputs": [],
   "source": [
    "tl = RandomOverSampler(sampling_strategy='auto')\n",
    "X_train, y_train = tl.fit_resample(X, y)"
   ]
  },
  {
   "cell_type": "code",
   "execution_count": 19,
   "metadata": {
    "id": "dKwA0rJKAfa_",
    "tags": []
   },
   "outputs": [],
   "source": [
    "std_scale = MinMaxScaler()\n",
    "X_train = std_scale.fit_transform(X_train)\n",
    "X_test = std_scale.transform(X_test)"
   ]
  },
  {
   "cell_type": "code",
   "execution_count": 20,
   "metadata": {
    "colab": {
     "base_uri": "https://localhost:8080/"
    },
    "id": "BLc6qCh6AlxO",
    "outputId": "8805b928-cd26-470f-9342-0223a612fbc6",
    "tags": []
   },
   "outputs": [
    {
     "data": {
      "text/plain": [
       "(0.9878651685393258, 0.8888888888888888)"
      ]
     },
     "execution_count": 20,
     "metadata": {},
     "output_type": "execute_result"
    }
   ],
   "source": [
    "adaboost = AdaBoostClassifier(n_estimators=130,learning_rate = 1, random_state=42)\n",
    "adaboost.fit(X_train, y_train)\n",
    "adaboost.score(X_train, y_train), adaboost.score(X_test, y_test)"
   ]
  },
  {
   "cell_type": "code",
   "execution_count": 21,
   "metadata": {
    "colab": {
     "base_uri": "https://localhost:8080/"
    },
    "id": "mOHRhpeNA5UB",
    "outputId": "d5003bd3-e1aa-468b-c0a6-39be9521ef9b"
   },
   "outputs": [
    {
     "name": "stdout",
     "output_type": "stream",
     "text": [
      "              precision    recall  f1-score   support\n",
      "\n",
      "           0       0.95      0.93      0.94       572\n",
      "           1       0.52      0.61      0.56        76\n",
      "\n",
      "    accuracy                           0.89       648\n",
      "   macro avg       0.73      0.77      0.75       648\n",
      "weighted avg       0.90      0.89      0.89       648\n",
      "\n"
     ]
    }
   ],
   "source": [
    "print(classification_report(y_test, adaboost.predict(X_test)))"
   ]
  },
  {
   "cell_type": "code",
   "execution_count": 22,
   "metadata": {
    "colab": {
     "base_uri": "https://localhost:8080/",
     "height": 449
    },
    "id": "CTTOlo-vAwyO",
    "outputId": "5f1487d2-241c-462c-dd15-4c8aaefd6055"
   },
   "outputs": [
    {
     "data": {
      "image/png": "[encoded data removed]",
      "text/plain": [
       "<Figure size 640x480 with 1 Axes>"
      ]
     },
     "metadata": {},
     "output_type": "display_data"
    }
   ],
   "source": [
    "fpr, tpr, thresholds = metrics.roc_curve(y_test, adaboost.predict_proba(X_test)[:, 1])\n",
    "roc_auc = metrics.auc(fpr, tpr)\n",
    "display = metrics.RocCurveDisplay(fpr=fpr, tpr=tpr, roc_auc=roc_auc,estimator_name='example estimator')\n",
    "display.plot()\n",
    "plt.show()"
   ]
  },
  {
   "cell_type": "code",
   "execution_count": 23,
   "metadata": {
    "tags": []
   },
   "outputs": [],
   "source": [
    "pred = adaboost.predict(X_test)"
   ]
  },
  {
   "cell_type": "code",
   "execution_count": 24,
   "metadata": {
    "tags": []
   },
   "outputs": [
    {
     "data": {
      "text/plain": [
       "array([[530,  42],\n",
       "       [ 30,  46]], dtype=int64)"
      ]
     },
     "execution_count": 24,
     "metadata": {},
     "output_type": "execute_result"
    }
   ],
   "source": [
    "con = confusion_matrix(y_test, pred)\n",
    "\n",
    "con"
   ]
  },
  {
   "cell_type": "code",
   "execution_count": 25,
   "metadata": {
    "tags": []
   },
   "outputs": [
    {
     "data": {
      "text/plain": [
       "Text(70.72222222222221, 0.5, 'Actual')"
      ]
     },
     "execution_count": 25,
     "metadata": {},
     "output_type": "execute_result"
    },
    {
     "data": {
      "image/png": "[encoded data removed]",
      "text/plain": [
       "<Figure size 800x500 with 2 Axes>"
      ]
     },
     "metadata": {},
     "output_type": "display_data"
    }
   ],
   "source": [
    "plt.figure(figsize=(8,5))\n",
    "sns.heatmap(con, annot=True, cmap='viridis', fmt='.0f');\n",
    "plt.xlabel('Predicted', fontsize=14, weight='bold')\n",
    "plt.ylabel('Actual', fontsize=14, weight='bold')"
   ]
  },
  {
   "cell_type": "code",
   "execution_count": 26,
   "metadata": {
    "id": "RawQP3WNA06-",
    "tags": []
   },
   "outputs": [],
   "source": [
    "import json\n",
    "\n",
    "ada_prob = adaboost.predict_proba(X_test)[:,1]\n",
    "\n",
    "# Data to be written\n",
    "dictionary = {'predict_probas':list(ada_prob), 'threshold':0.5}\n",
    "# Serializing json\n",
    "json_object = json.dumps(dictionary, indent=2)\n",
    "# Writing to sample.json\n",
    "with open(\"predictions.json\", \"w\") as outfile:\n",
    "    outfile.write(json_object)"
   ]
  },
  {
   "cell_type": "code",
   "execution_count": null,
   "metadata": {},
   "outputs": [],
   "source": []
  }
 ],
 "metadata": {
  "colab": {
   "provenance": []
  },
  "kernelspec": {
   "display_name": "tf384",
   "language": "python",
   "name": "tf384"
  },
  "language_info": {
   "codemirror_mode": {
    "name": "ipython",
    "version": 3
   },
   "file_extension": ".py",
   "mimetype": "text/x-python",
   "name": "python",
   "nbconvert_exporter": "python",
   "pygments_lexer": "ipython3",
   "version": "3.9.16"
  }
 },
 "nbformat": 4,
 "nbformat_minor": 4
}
