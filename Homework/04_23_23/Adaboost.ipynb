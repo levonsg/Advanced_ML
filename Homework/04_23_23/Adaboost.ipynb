{
 "cells": [
  {
   "cell_type": "code",
   "execution_count": 52,
   "metadata": {
    "id": "QhC8WQ8S-u27",
    "tags": []
   },
   "outputs": [],
   "source": [
    "import pandas as pd\n",
    "from sklearn.model_selection import train_test_split\n",
    "from sklearn.preprocessing import MinMaxScaler\n",
    "from imblearn.over_sampling import RandomOverSampler\n",
    "from sklearn.ensemble import AdaBoostClassifier\n",
    "from sklearn import metrics\n",
    "import matplotlib.pyplot as plt\n",
    "from sklearn.metrics import classification_report\n",
    "\n",
    "import warnings\n",
    "from warnings import filterwarnings \n",
    "warnings.filterwarnings(\"ignore\", category=DeprecationWarning) \n",
    "filterwarnings('ignore')\n",
    "from sklearn.metrics import classification_report, accuracy_score, confusion_matrix\n",
    "import seaborn as sns"
   ]
  },
  {
   "cell_type": "code",
   "execution_count": 53,
   "metadata": {
    "id": "5_Wto_qP-2IL",
    "tags": []
   },
   "outputs": [],
   "source": [
    "data = pd.read_csv('hospital_deaths_train.csv')"
   ]
  },
  {
   "cell_type": "code",
   "execution_count": 54,
   "metadata": {
    "colab": {
     "base_uri": "https://localhost:8080/",
     "height": 317
    },
    "id": "zNUIJRdG_IX5",
    "outputId": "489a657f-0e8f-498c-db7c-caa4f97ea448",
    "tags": []
   },
   "outputs": [
    {
     "data": {
      "text/html": [
       "<div>\n",
       "<style scoped>\n",
       "    .dataframe tbody tr th:only-of-type {\n",
       "        vertical-align: middle;\n",
       "    }\n",
       "\n",
       "    .dataframe tbody tr th {\n",
       "        vertical-align: top;\n",
       "    }\n",
       "\n",
       "    .dataframe thead th {\n",
       "        text-align: right;\n",
       "    }\n",
       "</style>\n",
       "<table border=\"1\" class=\"dataframe\">\n",
       "  <thead>\n",
       "    <tr style=\"text-align: right;\">\n",
       "      <th></th>\n",
       "      <th>recordid</th>\n",
       "      <th>In-hospital_death</th>\n",
       "      <th>Age</th>\n",
       "      <th>Gender</th>\n",
       "      <th>Height</th>\n",
       "      <th>Weight</th>\n",
       "      <th>CCU</th>\n",
       "      <th>CSRU</th>\n",
       "      <th>SICU</th>\n",
       "      <th>DiasABP_first</th>\n",
       "      <th>...</th>\n",
       "      <th>SysABP_last</th>\n",
       "      <th>TroponinI_last</th>\n",
       "      <th>TroponinT_last</th>\n",
       "      <th>WBC_last</th>\n",
       "      <th>Weight_last</th>\n",
       "      <th>pH_last</th>\n",
       "      <th>MechVentStartTime</th>\n",
       "      <th>MechVentDuration</th>\n",
       "      <th>MechVentLast8Hour</th>\n",
       "      <th>UrineOutputSum</th>\n",
       "    </tr>\n",
       "  </thead>\n",
       "  <tbody>\n",
       "    <tr>\n",
       "      <th>0</th>\n",
       "      <td>135031</td>\n",
       "      <td>0</td>\n",
       "      <td>69.0</td>\n",
       "      <td>1.0</td>\n",
       "      <td>172.7</td>\n",
       "      <td>63.7</td>\n",
       "      <td>0</td>\n",
       "      <td>0</td>\n",
       "      <td>0</td>\n",
       "      <td>59.0</td>\n",
       "      <td>...</td>\n",
       "      <td>119.0</td>\n",
       "      <td>4.6</td>\n",
       "      <td>NaN</td>\n",
       "      <td>17.2</td>\n",
       "      <td>63.7</td>\n",
       "      <td>7.41</td>\n",
       "      <td>105.0</td>\n",
       "      <td>2580.0</td>\n",
       "      <td>1.0</td>\n",
       "      <td>12.0</td>\n",
       "    </tr>\n",
       "    <tr>\n",
       "      <th>1</th>\n",
       "      <td>132988</td>\n",
       "      <td>0</td>\n",
       "      <td>72.0</td>\n",
       "      <td>1.0</td>\n",
       "      <td>NaN</td>\n",
       "      <td>NaN</td>\n",
       "      <td>0</td>\n",
       "      <td>0</td>\n",
       "      <td>0</td>\n",
       "      <td>NaN</td>\n",
       "      <td>...</td>\n",
       "      <td>NaN</td>\n",
       "      <td>NaN</td>\n",
       "      <td>0.23</td>\n",
       "      <td>21.9</td>\n",
       "      <td>NaN</td>\n",
       "      <td>NaN</td>\n",
       "      <td>NaN</td>\n",
       "      <td>NaN</td>\n",
       "      <td>NaN</td>\n",
       "      <td>NaN</td>\n",
       "    </tr>\n",
       "    <tr>\n",
       "      <th>2</th>\n",
       "      <td>136292</td>\n",
       "      <td>0</td>\n",
       "      <td>29.0</td>\n",
       "      <td>0.0</td>\n",
       "      <td>NaN</td>\n",
       "      <td>90.0</td>\n",
       "      <td>0</td>\n",
       "      <td>0</td>\n",
       "      <td>0</td>\n",
       "      <td>37.0</td>\n",
       "      <td>...</td>\n",
       "      <td>124.0</td>\n",
       "      <td>NaN</td>\n",
       "      <td>NaN</td>\n",
       "      <td>11.1</td>\n",
       "      <td>106.3</td>\n",
       "      <td>7.40</td>\n",
       "      <td>103.0</td>\n",
       "      <td>2700.0</td>\n",
       "      <td>1.0</td>\n",
       "      <td>14.0</td>\n",
       "    </tr>\n",
       "    <tr>\n",
       "      <th>3</th>\n",
       "      <td>133122</td>\n",
       "      <td>0</td>\n",
       "      <td>73.0</td>\n",
       "      <td>1.0</td>\n",
       "      <td>175.3</td>\n",
       "      <td>89.1</td>\n",
       "      <td>0</td>\n",
       "      <td>1</td>\n",
       "      <td>0</td>\n",
       "      <td>58.0</td>\n",
       "      <td>...</td>\n",
       "      <td>148.0</td>\n",
       "      <td>NaN</td>\n",
       "      <td>NaN</td>\n",
       "      <td>18.3</td>\n",
       "      <td>94.2</td>\n",
       "      <td>7.45</td>\n",
       "      <td>144.0</td>\n",
       "      <td>2115.0</td>\n",
       "      <td>0.0</td>\n",
       "      <td>12.0</td>\n",
       "    </tr>\n",
       "    <tr>\n",
       "      <th>4</th>\n",
       "      <td>142184</td>\n",
       "      <td>0</td>\n",
       "      <td>74.0</td>\n",
       "      <td>0.0</td>\n",
       "      <td>NaN</td>\n",
       "      <td>78.0</td>\n",
       "      <td>0</td>\n",
       "      <td>0</td>\n",
       "      <td>1</td>\n",
       "      <td>47.0</td>\n",
       "      <td>...</td>\n",
       "      <td>187.0</td>\n",
       "      <td>NaN</td>\n",
       "      <td>NaN</td>\n",
       "      <td>17.7</td>\n",
       "      <td>NaN</td>\n",
       "      <td>7.26</td>\n",
       "      <td>75.0</td>\n",
       "      <td>2280.0</td>\n",
       "      <td>0.0</td>\n",
       "      <td>18.0</td>\n",
       "    </tr>\n",
       "  </tbody>\n",
       "</table>\n",
       "<p>5 rows × 116 columns</p>\n",
       "</div>"
      ],
      "text/plain": [
       "   recordid  In-hospital_death   Age  Gender  Height  Weight  CCU  CSRU  SICU  \\\n",
       "0    135031                  0  69.0     1.0   172.7    63.7    0     0     0   \n",
       "1    132988                  0  72.0     1.0     NaN     NaN    0     0     0   \n",
       "2    136292                  0  29.0     0.0     NaN    90.0    0     0     0   \n",
       "3    133122                  0  73.0     1.0   175.3    89.1    0     1     0   \n",
       "4    142184                  0  74.0     0.0     NaN    78.0    0     0     1   \n",
       "\n",
       "   DiasABP_first  ...  SysABP_last  TroponinI_last  TroponinT_last  WBC_last  \\\n",
       "0           59.0  ...        119.0             4.6             NaN      17.2   \n",
       "1            NaN  ...          NaN             NaN            0.23      21.9   \n",
       "2           37.0  ...        124.0             NaN             NaN      11.1   \n",
       "3           58.0  ...        148.0             NaN             NaN      18.3   \n",
       "4           47.0  ...        187.0             NaN             NaN      17.7   \n",
       "\n",
       "   Weight_last  pH_last  MechVentStartTime  MechVentDuration  \\\n",
       "0         63.7     7.41              105.0            2580.0   \n",
       "1          NaN      NaN                NaN               NaN   \n",
       "2        106.3     7.40              103.0            2700.0   \n",
       "3         94.2     7.45              144.0            2115.0   \n",
       "4          NaN     7.26               75.0            2280.0   \n",
       "\n",
       "   MechVentLast8Hour  UrineOutputSum  \n",
       "0                1.0            12.0  \n",
       "1                NaN             NaN  \n",
       "2                1.0            14.0  \n",
       "3                0.0            12.0  \n",
       "4                0.0            18.0  \n",
       "\n",
       "[5 rows x 116 columns]"
      ]
     },
     "execution_count": 54,
     "metadata": {},
     "output_type": "execute_result"
    }
   ],
   "source": [
    "data.head()"
   ]
  },
  {
   "cell_type": "code",
   "execution_count": 55,
   "metadata": {
    "id": "_Y4OviqQ_faQ",
    "tags": []
   },
   "outputs": [],
   "source": [
    "feature = ['In-hospital_death','Age', 'Gender', 'Height', 'CCU', 'CSRU', 'SICU', 'MAP_first',\n",
    "       'GCS_last', 'MAP_last', 'NIDiasABP_last', 'NIMAP_last',\n",
    "       'DiasABP_lowest', 'MAP_lowest', 'NISysABP_lowest', 'Temp_lowest',\n",
    "       'Glucose_highest', 'HR_highest', 'MAP_highest', 'MAP_median',\n",
    "       'FiO2_first', 'HCO3_first', 'HCT_first', 'K_first', 'Lactate_first',\n",
    "       'Mg_first', 'Na_first', 'PaCO2_first', 'PaO2_first', 'SysABP_first',\n",
    "       'WBC_first', 'pH_first', 'BUN_last', 'Creatinine_last', 'FiO2_last',\n",
    "       'HCO3_last', 'HCT_last', 'K_last', 'Lactate_last', 'Mg_last', 'Na_last',\n",
    "       'PaCO2_last', 'PaO2_last', 'Platelets_last', 'SysABP_last', 'WBC_last',\n",
    "       'Weight_last', 'pH_last', 'MechVentStartTime', 'MechVentDuration',\n",
    "       'MechVentLast8Hour', 'UrineOutputSum']"
   ]
  },
  {
   "cell_type": "code",
   "execution_count": 56,
   "metadata": {
    "id": "668TO_2v_hnY",
    "tags": []
   },
   "outputs": [],
   "source": [
    "data = data[feature]"
   ]
  },
  {
   "cell_type": "code",
   "execution_count": 57,
   "metadata": {
    "id": "Yoc5pD0AACxg",
    "tags": []
   },
   "outputs": [
    {
     "name": "stdout",
     "output_type": "stream",
     "text": [
      "In-hospital_death     0.000000\n",
      "Age                   0.000000\n",
      "Gender                0.092308\n",
      "Height               46.615385\n",
      "CCU                   0.000000\n",
      "CSRU                  0.000000\n",
      "SICU                  0.000000\n",
      "MAP_first            30.307692\n",
      "GCS_last              1.507692\n",
      "MAP_last             30.307692\n",
      "NIDiasABP_last       12.707692\n",
      "NIMAP_last           12.769231\n",
      "DiasABP_lowest       30.584615\n",
      "MAP_lowest           30.307692\n",
      "NISysABP_lowest      12.615385\n",
      "Temp_lowest           1.507692\n",
      "Glucose_highest       2.830769\n",
      "HR_highest            1.476923\n",
      "MAP_highest          30.307692\n",
      "MAP_median           30.307692\n",
      "FiO2_first           31.876923\n",
      "HCO3_first            1.846154\n",
      "HCT_first             1.538462\n",
      "K_first               2.307692\n",
      "Lactate_first        45.569231\n",
      "Mg_first              2.553846\n",
      "Na_first              1.815385\n",
      "PaCO2_first          24.707692\n",
      "PaO2_first           24.707692\n",
      "SysABP_first         30.553846\n",
      "WBC_first             2.246154\n",
      "pH_first             24.307692\n",
      "BUN_last              1.538462\n",
      "Creatinine_last       1.538462\n",
      "FiO2_last            31.876923\n",
      "HCO3_last             1.846154\n",
      "HCT_last              1.538462\n",
      "K_last                2.307692\n",
      "Lactate_last         45.569231\n",
      "Mg_last               2.553846\n",
      "Na_last               1.815385\n",
      "PaCO2_last           24.707692\n",
      "PaO2_last            24.707692\n",
      "Platelets_last        1.661538\n",
      "SysABP_last          30.553846\n",
      "WBC_last              2.246154\n",
      "Weight_last          31.846154\n",
      "pH_last              24.307692\n",
      "MechVentStartTime    36.615385\n",
      "MechVentDuration     36.615385\n",
      "MechVentLast8Hour    36.615385\n",
      "UrineOutputSum       36.615385\n",
      "dtype: float64\n"
     ]
    }
   ],
   "source": [
    "missing_percentages1 = (data.isnull().sum() / len(data)) * 100\n",
    "print(missing_percentages1)\n",
    "missing_percentages_sorted1 = missing_percentages1.sort_values(ascending=False)\n",
    "having_NAN = missing_percentages_sorted1.index.to_list()"
   ]
  },
  {
   "cell_type": "code",
   "execution_count": 46,
   "metadata": {
    "id": "alzapJve_kCA",
    "tags": []
   },
   "outputs": [],
   "source": [
    "for feature in having_NAN:\n",
    "    data[feature]=data.groupby(['In-hospital_death', 'Gender'])[feature].apply(lambda x:x.fillna(x.mean()))"
   ]
  },
  {
   "cell_type": "code",
   "execution_count": 47,
   "metadata": {
    "tags": []
   },
   "outputs": [],
   "source": [
    "X_train, X_test= train_test_split(data, test_size=0.2, random_state=42)"
   ]
  },
  {
   "cell_type": "code",
   "execution_count": 48,
   "metadata": {
    "tags": []
   },
   "outputs": [],
   "source": [
    "X_train.to_csv('hospital_deaths_train_08_rt42.csv',index=False)"
   ]
  },
  {
   "cell_type": "code",
   "execution_count": 49,
   "metadata": {
    "tags": []
   },
   "outputs": [],
   "source": [
    "X_test.to_csv('hospital_deaths_test_02_rt42.csv',index=False)"
   ]
  },
  {
   "cell_type": "code",
   "execution_count": 10,
   "metadata": {
    "id": "B4rz0yDfAGbf",
    "tags": []
   },
   "outputs": [],
   "source": [
    "X = data.drop('In-hospital_death', axis=1)\n",
    "y = data['In-hospital_death']"
   ]
  },
  {
   "cell_type": "code",
   "execution_count": 11,
   "metadata": {
    "id": "5vJNLRsMAWsv",
    "tags": []
   },
   "outputs": [],
   "source": [
    "X_train, X_test, y_train, y_test = train_test_split(X, y, test_size=0.2, random_state=42)"
   ]
  },
  {
   "cell_type": "code",
   "execution_count": 12,
   "metadata": {},
   "outputs": [
    {
     "data": {
      "text/plain": [
       "0    2238\n",
       "1     359\n",
       "Name: In-hospital_death, dtype: int64"
      ]
     },
     "execution_count": 12,
     "metadata": {},
     "output_type": "execute_result"
    }
   ],
   "source": [
    "y_train.value_counts()"
   ]
  },
  {
   "cell_type": "code",
   "execution_count": 13,
   "metadata": {
    "id": "Phx6AWvpAZov",
    "tags": []
   },
   "outputs": [],
   "source": [
    "tl = RandomOverSampler(sampling_strategy='auto')\n",
    "X_train, y_train = tl.fit_resample(X_train, y_train)"
   ]
  },
  {
   "cell_type": "code",
   "execution_count": 14,
   "metadata": {},
   "outputs": [
    {
     "data": {
      "text/plain": [
       "1    2238\n",
       "0    2238\n",
       "Name: In-hospital_death, dtype: int64"
      ]
     },
     "execution_count": 14,
     "metadata": {},
     "output_type": "execute_result"
    }
   ],
   "source": [
    "y_train.value_counts()"
   ]
  },
  {
   "cell_type": "code",
   "execution_count": 15,
   "metadata": {
    "id": "dKwA0rJKAfa_",
    "tags": []
   },
   "outputs": [],
   "source": [
    "std_scale = MinMaxScaler()\n",
    "X_train = std_scale.fit_transform(X_train)\n",
    "X_test = std_scale.transform(X_test)"
   ]
  },
  {
   "cell_type": "code",
   "execution_count": 16,
   "metadata": {
    "colab": {
     "base_uri": "https://localhost:8080/"
    },
    "id": "BLc6qCh6AlxO",
    "outputId": "8805b928-cd26-470f-9342-0223a612fbc6",
    "tags": []
   },
   "outputs": [
    {
     "data": {
      "text/plain": [
       "(0.9857015192135835, 0.9538461538461539)"
      ]
     },
     "execution_count": 16,
     "metadata": {},
     "output_type": "execute_result"
    }
   ],
   "source": [
    "adaboost = AdaBoostClassifier(n_estimators=130,learning_rate = 1, random_state=42)\n",
    "adaboost.fit(X_train, y_train)\n",
    "adaboost.score(X_train, y_train), adaboost.score(X_test, y_test)"
   ]
  },
  {
   "cell_type": "code",
   "execution_count": 17,
   "metadata": {
    "colab": {
     "base_uri": "https://localhost:8080/"
    },
    "id": "mOHRhpeNA5UB",
    "outputId": "d5003bd3-e1aa-468b-c0a6-39be9521ef9b",
    "tags": []
   },
   "outputs": [
    {
     "name": "stdout",
     "output_type": "stream",
     "text": [
      "              precision    recall  f1-score   support\n",
      "\n",
      "           0       0.98      0.96      0.97       559\n",
      "           1       0.80      0.90      0.85        91\n",
      "\n",
      "    accuracy                           0.95       650\n",
      "   macro avg       0.89      0.93      0.91       650\n",
      "weighted avg       0.96      0.95      0.96       650\n",
      "\n"
     ]
    }
   ],
   "source": [
    "print(classification_report(y_test, adaboost.predict(X_test)))"
   ]
  },
  {
   "cell_type": "code",
   "execution_count": 18,
   "metadata": {
    "colab": {
     "base_uri": "https://localhost:8080/",
     "height": 449
    },
    "id": "CTTOlo-vAwyO",
    "outputId": "5f1487d2-241c-462c-dd15-4c8aaefd6055",
    "tags": []
   },
   "outputs": [
    {
     "data": {
      "image/png": "[encoded data removed]",
      "text/plain": [
       "<Figure size 640x480 with 1 Axes>"
      ]
     },
     "metadata": {},
     "output_type": "display_data"
    }
   ],
   "source": [
    "fpr, tpr, thresholds = metrics.roc_curve(y_test, adaboost.predict_proba(X_test)[:, 1])\n",
    "roc_auc = metrics.auc(fpr, tpr)\n",
    "display = metrics.RocCurveDisplay(fpr=fpr, tpr=tpr, roc_auc=roc_auc,estimator_name='example estimator')\n",
    "display.plot()\n",
    "plt.show()"
   ]
  },
  {
   "cell_type": "code",
   "execution_count": 19,
   "metadata": {
    "tags": []
   },
   "outputs": [],
   "source": [
    "pred = adaboost.predict(X_test)"
   ]
  },
  {
   "cell_type": "code",
   "execution_count": 20,
   "metadata": {
    "tags": []
   },
   "outputs": [
    {
     "data": {
      "text/plain": [
       "array([[538,  21],\n",
       "       [  9,  82]], dtype=int64)"
      ]
     },
     "execution_count": 20,
     "metadata": {},
     "output_type": "execute_result"
    }
   ],
   "source": [
    "con = confusion_matrix(y_test, pred)\n",
    "\n",
    "con"
   ]
  },
  {
   "cell_type": "code",
   "execution_count": 21,
   "metadata": {
    "tags": []
   },
   "outputs": [
    {
     "data": {
      "text/plain": [
       "Text(70.72222222222221, 0.5, 'Actual')"
      ]
     },
     "execution_count": 21,
     "metadata": {},
     "output_type": "execute_result"
    },
    {
     "data": {
      "image/png": "[encoded data removed]",
      "text/plain": [
       "<Figure size 800x500 with 2 Axes>"
      ]
     },
     "metadata": {},
     "output_type": "display_data"
    }
   ],
   "source": [
    "plt.figure(figsize=(8,5))\n",
    "sns.heatmap(con, annot=True, cmap='viridis', fmt='.0f');\n",
    "plt.xlabel('Predicted', fontsize=14, weight='bold')\n",
    "plt.ylabel('Actual', fontsize=14, weight='bold')"
   ]
  },
  {
   "cell_type": "code",
   "execution_count": null,
   "metadata": {},
   "outputs": [],
   "source": []
  },
  {
   "cell_type": "code",
   "execution_count": 22,
   "metadata": {
    "id": "RawQP3WNA06-",
    "tags": []
   },
   "outputs": [],
   "source": [
    "import json\n",
    "\n",
    "ada_prob = adaboost.predict_proba(X_test)[:,1]\n",
    "\n",
    "# Data to be written\n",
    "dictionary = {'predict_probas':list(ada_prob), 'threshold':0.5}\n",
    "# Serializing json\n",
    "json_object = json.dumps(dictionary, indent=2)\n",
    "# Writing to sample.json\n",
    "with open(\"predictions.json\", \"w\") as outfile:\n",
    "    outfile.write(json_object)"
   ]
  },
  {
   "cell_type": "code",
   "execution_count": null,
   "metadata": {},
   "outputs": [],
   "source": []
  }
 ],
 "metadata": {
  "colab": {
   "provenance": []
  },
  "kernelspec": {
   "display_name": "tf384",
   "language": "python",
   "name": "tf384"
  },
  "language_info": {
   "codemirror_mode": {
    "name": "ipython",
    "version": 3
   },
   "file_extension": ".py",
   "mimetype": "text/x-python",
   "name": "python",
   "nbconvert_exporter": "python",
   "pygments_lexer": "ipython3",
   "version": "3.9.16"
  }
 },
 "nbformat": 4,
 "nbformat_minor": 4
}
