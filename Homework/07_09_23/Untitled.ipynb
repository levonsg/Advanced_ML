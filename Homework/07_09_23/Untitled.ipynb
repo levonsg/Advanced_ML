{
 "cells": [
  {
   "cell_type": "code",
   "execution_count": 9,
   "id": "71fcd847-493b-4062-9c6c-bbd25f49ee15",
   "metadata": {},
   "outputs": [
    {
     "name": "stdout",
     "output_type": "stream",
     "text": [
      "Tensorflow/Keras: 2.9.0\n",
      "numpy: 1.24.3\n",
      "matplotlib: 3.3.4\n",
      "plotly: 5.13.0\n"
     ]
    }
   ],
   "source": [
    "\n",
    "# Tensorflow / Keras\n",
    "from tensorflow import keras # for building Neural Networks\n",
    "print('Tensorflow/Keras: %s' % keras.__version__) # print version\n",
    "from keras.models import Model # for creating assembling a Neural Network model\n",
    "from keras import Input # for instantiating a keras tensor and specifying input dimensions\n",
    "from keras.layers import Dense, Lambda # adding layers to the Neural Network model\n",
    "from tensorflow.keras.utils import plot_model # for plotting model diagram\n",
    "from keras import backend as K # for access to Keras backend for reparameterization and creating custom loss function\n",
    "\n",
    "# Data manipulation\n",
    "import numpy as np # for data manipulation\n",
    "print('numpy: %s' % np.__version__) # print version\n",
    "\n",
    "# Visualization\n",
    "import matplotlib \n",
    "import matplotlib.pyplot as plt # for plotting model loss\n",
    "print('matplotlib: %s' % matplotlib.__version__) # print version\n",
    "import graphviz # for showing model diagram\n",
    "#print('graphviz: %s' % graphviz.__version__) # print version\n",
    "import plotly\n",
    "import plotly.express as px # for data visualization\n",
    "print('plotly: %s' % plotly.__version__) # print version\n",
    "\n",
    "# Other utilities\n",
    "import sys\n",
    "import os\n",
    "\n",
    "# Assign main directory to a variable\n",
    "main_dir=os.path.dirname(sys.path[0])"
   ]
  },
  {
   "cell_type": "code",
   "execution_count": 10,
   "id": "3fdb6d84-3e45-48bd-a40c-60695b6cfb36",
   "metadata": {},
   "outputs": [],
   "source": [
    "#--- Create a function, which we will use to randomly sample from latent space distribution\n",
    "# Note, epsilon is sampled from a standard normal distribution and is used to maintain the required stochasticity of Z\n",
    "# Meanwhile, z-mean and z-sigma remain deterministic allowing the loss to backpropagate through the layers.\n",
    "def sampling(args):\n",
    "    z_mean, z_log_sigma = args\n",
    "    epsilon = K.random_normal(shape=(K.shape(z_mean)[0], latent_dim), mean=0., stddev=1.)\n",
    "    return z_mean + K.exp(z_log_sigma) * epsilon"
   ]
  },
  {
   "cell_type": "code",
   "execution_count": 16,
   "id": "0168eca9-3b30-429d-822a-464f8749594c",
   "metadata": {},
   "outputs": [],
   "source": [
    "# Specify dimensions for input/output and latent space layers\n",
    "original_dim = 784 # number of neurons at the input layer (28 * 28 = 784)\n",
    "latent_dim = 2 # latent space dimension\n",
    "\n",
    "# ********** Create Encoder **********\n",
    "\n",
    "#--- Input Layer \n",
    "visible = keras.Input(shape=(original_dim,), name='Encoder-Input-Layer')\n",
    "\n",
    "#--- Hidden Layer\n",
    "h_enc1 = Dense(units=64, activation='relu', name='Encoder-Hidden-Layer-1')(visible)\n",
    "h_enc2 = Dense(units=16, activation='relu', name='Encoder-Hidden-Layer-2')(h_enc1)\n",
    "h_enc3 = Dense(units=8, activation='relu', name='Encoder-Hidden-Layer-3')(h_enc2)\n",
    "\n",
    "#--- Custom Latent Space Layer\n",
    "z_mean = Dense(units=latent_dim, name='Z-Mean')(h_enc3) # Mean component\n",
    "z_log_sigma = Dense(units=latent_dim, name='Z-Log-Sigma')(h_enc3) # Standard deviation component\n",
    "z = Lambda(sampling, name='Z-Sampling-Layer')([z_mean, z_log_sigma]) # Z sampling layer\n",
    "\n",
    "#--- Create Encoder model\n",
    "encoder = Model(visible, [z_mean, z_log_sigma, z], name='Encoder-Model')\n",
    "\n",
    "# Display model diagram\n",
    "plot_model(encoder, show_shapes=True, show_layer_names=T dpi=100,)"
   ]
  },
  {
   "cell_type": "code",
   "execution_count": null,
   "id": "36067ef9-69f1-4b53-9288-d513ef0a2e85",
   "metadata": {},
   "outputs": [],
   "source": []
  }
 ],
 "metadata": {
  "kernelspec": {
   "display_name": "tf_39",
   "language": "python",
   "name": "tf_39"
  },
  "language_info": {
   "codemirror_mode": {
    "name": "ipython",
    "version": 3
   },
   "file_extension": ".py",
   "mimetype": "text/x-python",
   "name": "python",
   "nbconvert_exporter": "python",
   "pygments_lexer": "ipython3",
   "version": "3.9.16"
  }
 },
 "nbformat": 4,
 "nbformat_minor": 5
}
